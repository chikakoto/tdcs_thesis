{
 "cells": [
  {
   "cell_type": "code",
   "execution_count": 1,
   "metadata": {},
   "outputs": [],
   "source": [
    "import nibabel as nib\n",
    "import pandas as pd\n",
    "import matplotlib.pyplot as plt\n",
    "import numpy as np\n",
    "import seaborn as sb\n",
    "# import subprocess as cmd\n",
    "import commands"
   ]
  },
  {
   "cell_type": "markdown",
   "metadata": {},
   "source": [
    "# For Cylindar"
   ]
  },
  {
   "cell_type": "code",
   "execution_count": 7,
   "metadata": {},
   "outputs": [],
   "source": [
    "dir_path = \"/Users/chikakoolsen/opt/python/thesis/code/tdcs_thesis/\"\n",
    "# dir_path = \"/Users/mriworkshop/Documents/TDCS/code/tdcs_thesis/\"\n",
    "save_path = dir_path+\"data/processed/\"\n",
    "save_img_path = save_path+\"/NIFTI/\"\n",
    "sub_path_36 = dir_path+\"data/external/R21_36_Cyl_Aqueous/\"\n",
    "sub_path_38 = dir_path+\"data/external/R21_38_Cyl_Aqueous/\"\n",
    "mask = sub_path_36+\"NIFTI/bmaps_numpy/6minus4/mask.nii.gz\"\n",
    "# mask = sub_path_38+\"NIFTI/bmaps_numpy/6minus4/mask.nii.gz\"\n",
    "fmap_file = sub_path_36+\"NIFTI/bmaps_numpy/6minus4/4d_fmap_Mean.nii.gz\""
   ]
  },
  {
   "cell_type": "code",
   "execution_count": 17,
   "metadata": {},
   "outputs": [],
   "source": [
    "txt_file = save_path+\"lr_predict.txt\""
   ]
  },
  {
   "cell_type": "code",
   "execution_count": 18,
   "metadata": {},
   "outputs": [
    {
     "data": {
      "text/plain": [
       "'++ 3dUndump: AFNI version=AFNI_22.1.14 (Jun 24 2022) [64-bit]\\n++ Starting to fill via -ijk indexes\\n++ Total number of voxels filled = 180224\\n++ Wrote out dataset /Users/chikakoolsen/opt/python/thesis/code/tdcs_thesis/data/processed/predicted.nii.gz'"
      ]
     },
     "execution_count": 18,
     "metadata": {},
     "output_type": "execute_result"
    }
   ],
   "source": [
    "save_file = save_path+\"predicted.nii.gz\"\n",
    "commands.getoutput(\"3dUndump -prefix \"+save_file+\" -master \"+fmap_file+\" -datum float \"+txt_file)"
   ]
  },
  {
   "cell_type": "code",
   "execution_count": 19,
   "metadata": {},
   "outputs": [
    {
     "data": {
      "text/plain": [
       "'++ 3dUndump: AFNI version=AFNI_22.1.14 (Jun 24 2022) [64-bit]\\n++ 34853 voxels found in mask\\n++ Starting to fill via -ijk indexes\\n++ Total number of voxels filled = 34853\\n++ Wrote out dataset /Users/chikakoolsen/opt/python/thesis/code/tdcs_thesis/data/processed/predicted2.nii'"
      ]
     },
     "execution_count": 19,
     "metadata": {},
     "output_type": "execute_result"
    }
   ],
   "source": [
    "save_file = save_path+\"predicted2.nii\"\n",
    "commands.getoutput(\"3dUndump -ijk -datum float -prefix \"+save_file+\" -master \"+mask+\" -mask \"+mask+\" \"+txt_file)\n"
   ]
  },
  {
   "cell_type": "code",
   "execution_count": null,
   "metadata": {},
   "outputs": [],
   "source": []
  },
  {
   "cell_type": "code",
   "execution_count": 24,
   "metadata": {},
   "outputs": [],
   "source": [
    "txt_file = save_path+\"lr_predict_new.txt\""
   ]
  },
  {
   "cell_type": "code",
   "execution_count": 25,
   "metadata": {},
   "outputs": [
    {
     "data": {
      "text/plain": [
       "'++ 3dUndump: AFNI version=AFNI_22.1.14 (Jun 24 2022) [64-bit]\\n++ Starting to fill via -ijk indexes\\n++ Total number of voxels filled = 180224\\n++ Wrote out dataset /Users/chikakoolsen/opt/python/thesis/code/tdcs_thesis/data/processed/predicted_new1.nii.gz'"
      ]
     },
     "execution_count": 25,
     "metadata": {},
     "output_type": "execute_result"
    }
   ],
   "source": [
    "save_file = save_path+\"predicted_new1.nii.gz\"\n",
    "commands.getoutput(\"3dUndump -prefix \"+save_file+\" -master \"+fmap_file+\" -datum float \"+txt_file)"
   ]
  },
  {
   "cell_type": "code",
   "execution_count": 26,
   "metadata": {},
   "outputs": [
    {
     "data": {
      "text/plain": [
       "'++ 3dUndump: AFNI version=AFNI_22.1.14 (Jun 24 2022) [64-bit]\\n++ 34853 voxels found in mask\\n++ Starting to fill via -ijk indexes\\n++ Total number of voxels filled = 34853\\n++ Wrote out dataset /Users/chikakoolsen/opt/python/thesis/code/tdcs_thesis/data/processed/predicted_new2.nii'"
      ]
     },
     "execution_count": 26,
     "metadata": {},
     "output_type": "execute_result"
    }
   ],
   "source": [
    "save_file = save_path+\"predicted_new2.nii\"\n",
    "commands.getoutput(\"3dUndump -ijk -datum float -prefix \"+save_file+\" -master \"+mask+\" -mask \"+mask+\" \"+txt_file)\n"
   ]
  },
  {
   "cell_type": "code",
   "execution_count": null,
   "metadata": {},
   "outputs": [],
   "source": []
  },
  {
   "cell_type": "code",
   "execution_count": 7,
   "metadata": {},
   "outputs": [],
   "source": [
    "# txt_file = save_path+\"nn_36to38.txt\"\n",
    "# txt_file = save_path+\"nn_nonzero_36to38.txt\"\n",
    "txt_file = save_path+\"nn_nonzero_36to38_diff_unit.txt\"\n",
    "#txt_file = save_path+\"nn_lstm_36to38.txt\"\n",
    "#txt_file = save_path+\"nn_lstm_nonzero_36to38.txt\"\n",
    "\n",
    "# save_file = save_path+\"predicted_nn_36to38.nii.gz\"\n",
    "# save_file = save_path+\"predicted_nn_nonzero_36to38.nii.gz\"\n",
    "save_file = save_path+\"predicted_nn_nonzero_36to38_diff_unit.nii.gz\"\n",
    "#save_file = save_path+\"predicted_nn_lsmt_36to38.nii.gz\"\n",
    "#save_file = save_path+\"predicted_nn_lsmt_nonzero_36to38.nii.gz\""
   ]
  },
  {
   "cell_type": "code",
   "execution_count": 8,
   "metadata": {},
   "outputs": [
    {
     "data": {
      "text/plain": [
       "'++ 3dUndump: AFNI version=AFNI_22.1.14 (Jun 24 2022) [64-bit]\\n++ Starting to fill via -ijk indexes\\n++ Total number of voxels filled = 180224\\n++ Wrote out dataset /Users/chikakoolsen/opt/python/thesis/code/tdcs_thesis/data/processed/predicted_nn_nonzero_36to38_diff_unit.nii.gz'"
      ]
     },
     "execution_count": 8,
     "metadata": {},
     "output_type": "execute_result"
    }
   ],
   "source": [
    "commands.getoutput(\"3dUndump -prefix \"+save_file+\" -master \"+fmap_file+\" -datum float \"+txt_file)"
   ]
  },
  {
   "cell_type": "code",
   "execution_count": null,
   "metadata": {},
   "outputs": [],
   "source": []
  },
  {
   "cell_type": "code",
   "execution_count": 7,
   "metadata": {},
   "outputs": [],
   "source": [
    "# txt_file = save_path+\"nn_lstm_nonzero_32to38.txt\"\n",
    "# txt_file = save_path+\"nn_nonzero_32to38_3layer5unit_100.txt\"\n",
    "# txt_file = save_path+\"nn_nonzero_32to38_3layer5unit_300.txt\"\n",
    "# txt_file = save_path+\"nn_nonzero_32to38_3layer5unit_1000.txt\"\n",
    "# txt_file = save_path+\"nn_nonzero_32to38_3layer5unit_1000_erode.txt\"\n",
    "# txt_file = save_path+\"nn_nonzero_32to38_5layer4unit_erode.txt\"\n",
    "# txt_file = save_path+\"nn_32to38.txt\"\n",
    "# txt_file = save_path+\"nn_32to38_8layer5unit_es.txt\"\n",
    "# txt_file = save_path+\"nn_32to38_erode_es.txt\"\n",
    "# txt_file = save_path+\"nn_32to38_erode.txt\"\n",
    "txt_file = save_path+\"nn_nonzero_32to38_5layer4unit_erode_adam.txt\"\n",
    "\n",
    "# save_file = save_path+\"predicted_nn_lstm_nonzero_32to38.nii.gz\"\n",
    "# save_file = save_path+\"predicted_nn_nonzero_32to38_3layer5unit_100.nii.gz\"\n",
    "# save_file = save_path+\"predicted_nn_nonzero_32to38_3layer5unit_300.nii.gz\"\n",
    "# save_file = save_path+\"predicted_nn_nonzero_32to38_3layer5unit_1000.nii.gz\"\n",
    "# save_file = save_path+\"predicted_nn_nonzero_32to38_3layer5unit_1000_all_erode.nii.gz\"\n",
    "# save_file = save_path+\"predicted_nn_nonzero_32to38_5layer4unit_erode.nii.gz\"\n",
    "# save_file = save_path+\"predicted_nn_32to38.nii.gz\"\n",
    "# save_file = save_path+\"predicted_nn_32to38_8layer5unit_es.nii.gz\"\n",
    "# save_file = save_path+\"predicted_nn_32to38_erode_es.nii.gz\"\n",
    "# save_file = save_path+\"predicted_nn_32to38_all_erode.nii.gz\"\n",
    "save_file = save_path+\"predicted_nn_32to38_5layer4unit_erode_adam.nii.gz\""
   ]
  },
  {
   "cell_type": "code",
   "execution_count": 8,
   "metadata": {},
   "outputs": [
    {
     "data": {
      "text/plain": [
       "'++ 3dUndump: AFNI version=AFNI_22.1.14 (Jun 24 2022) [64-bit]\\n++ Starting to fill via -ijk indexes\\n++ Total number of voxels filled = 180224\\n++ Wrote out dataset /Users/chikakoolsen/opt/python/thesis/code/tdcs_thesis/data/processed/predicted_nn_32to38_5layer4unit_erode_adam.nii.gz'"
      ]
     },
     "execution_count": 8,
     "metadata": {},
     "output_type": "execute_result"
    }
   ],
   "source": [
    "commands.getoutput(\"3dUndump -prefix \"+save_file+\" -master \"+fmap_file+\" -datum float \"+txt_file)"
   ]
  },
  {
   "cell_type": "code",
   "execution_count": null,
   "metadata": {},
   "outputs": [],
   "source": []
  },
  {
   "cell_type": "code",
   "execution_count": 10,
   "metadata": {},
   "outputs": [],
   "source": [
    "sub_path = dir_path+\"data/external/R21_39_Cyl_Aqueous/\"\n",
    "fmap_file = sub_path+\"NIFTI/bmaps_numpy/6minus4/4d_fmap_Mean.nii.gz\"\n",
    "txt_file = save_path+\"nn_nonzero_39_predict6_2.txt\"\n",
    "save_file = save_path+\"nn_nonzero_39_predict6_2.nii.gz\""
   ]
  },
  {
   "cell_type": "code",
   "execution_count": 11,
   "metadata": {},
   "outputs": [
    {
     "data": {
      "text/plain": [
       "'++ 3dUndump: AFNI version=AFNI_22.1.14 (Jun 24 2022) [64-bit]\\n++ Starting to fill via -ijk indexes\\n++ Total number of voxels filled = 180224\\n++ Wrote out dataset /Users/chikakoolsen/opt/python/thesis/code/tdcs_thesis/data/processed/nn_nonzero_39_predict6_2.nii.gz'"
      ]
     },
     "execution_count": 11,
     "metadata": {},
     "output_type": "execute_result"
    }
   ],
   "source": [
    "commands.getoutput(\"3dUndump -prefix \"+save_file+\" -master \"+fmap_file+\" -datum float \"+txt_file)"
   ]
  },
  {
   "cell_type": "markdown",
   "metadata": {},
   "source": [
    "# 3 attributes"
   ]
  },
  {
   "cell_type": "code",
   "execution_count": 3,
   "metadata": {},
   "outputs": [],
   "source": [
    "mask = sub_path_36+\"NIFTI/bmaps_numpy/6minus4/mask.nii.gz\"\n",
    "fmap_file = sub_path_36+\"NIFTI/bmaps_numpy/6minus4/4d_fmap_Mean.nii.gz\""
   ]
  },
  {
   "cell_type": "code",
   "execution_count": 16,
   "metadata": {},
   "outputs": [
    {
     "data": {
      "text/plain": [
       "'/Users/chikakoolsen/opt/python/thesis/code/tdcs_thesis/data/external/R21_36_Cyl_Aqueous_v3_simplot/bmaps/6minus4/4d_fmap_Mean_fslroi.nii.gz'"
      ]
     },
     "execution_count": 16,
     "metadata": {},
     "output_type": "execute_result"
    }
   ],
   "source": [
    "# ROI\n",
    "sub_path_36 = dir_path+\"data/external/R21_36_Cyl_Aqueous_v3_simplot/\"\n",
    "fmap_file = sub_path_36+\"bmaps/6minus4/4d_fmap_Mean_fslroi.nii.gz\"\n",
    "fmap_file"
   ]
  },
  {
   "cell_type": "code",
   "execution_count": 17,
   "metadata": {},
   "outputs": [
    {
     "data": {
      "text/plain": [
       "'++ 3dUndump: AFNI version=AFNI_22.1.14 (Jun 24 2022) [64-bit]\\n++ Starting to fill via -ijk indexes\\n++ Total number of voxels filled = 15884\\n++ Wrote out dataset /Users/chikakoolsen/opt/python/thesis/code/tdcs_thesis/data/processed//NIFTI/nn_roi_32to38_neg.nii.gz'"
      ]
     },
     "execution_count": 17,
     "metadata": {},
     "output_type": "execute_result"
    }
   ],
   "source": [
    "txt_file = save_path+\"nn_roi_32to38_neg.txt\"\n",
    "save_file = save_img_path+\"nn_roi_32to38_neg.nii.gz\"\n",
    "commands.getoutput(\"3dUndump -prefix \"+save_file+\" -master \"+fmap_file+\" -datum float \"+txt_file)"
   ]
  },
  {
   "cell_type": "code",
   "execution_count": 18,
   "metadata": {},
   "outputs": [
    {
     "data": {
      "text/plain": [
       "'++ 3dUndump: AFNI version=AFNI_22.1.14 (Jun 24 2022) [64-bit]\\n++ Starting to fill via -ijk indexes\\n++ Total number of voxels filled = 15884\\n++ Wrote out dataset /Users/chikakoolsen/opt/python/thesis/code/tdcs_thesis/data/processed//NIFTI/nn_roi_32to38_pos.nii.gz'"
      ]
     },
     "execution_count": 18,
     "metadata": {},
     "output_type": "execute_result"
    }
   ],
   "source": [
    "txt_file = save_path+\"nn_roi_32to38_pos.txt\"\n",
    "save_file = save_img_path+\"nn_roi_32to38_pos.nii.gz\"\n",
    "commands.getoutput(\"3dUndump -prefix \"+save_file+\" -master \"+fmap_file+\" -datum float \"+txt_file)"
   ]
  },
  {
   "cell_type": "markdown",
   "metadata": {},
   "source": [
    "# For Sphere"
   ]
  },
  {
   "cell_type": "code",
   "execution_count": 19,
   "metadata": {},
   "outputs": [],
   "source": [
    "dir_path = \"/Users/chikakoolsen/opt/python/thesis/code/tdcs_thesis/\"\n",
    "# dir_path = \"/Users/mriworkshop/Documents/TDCS/code/tdcs_thesis/\"\n",
    "save_path = dir_path+\"data/processed/\"\n",
    "sub_path_40 = dir_path+\"data/external/R21_40_Sphere/\"\n",
    "sub_path_41 = dir_path+\"data/external/R21_41_Sphere/\"\n",
    "sub_path_42 = dir_path+\"data/external/R21_42_SphereProto3/\""
   ]
  },
  {
   "cell_type": "code",
   "execution_count": null,
   "metadata": {},
   "outputs": [],
   "source": []
  },
  {
   "cell_type": "code",
   "execution_count": 18,
   "metadata": {},
   "outputs": [],
   "source": [
    "def create_mask(sub_path, base_runs):\n",
    "    for m in range(len(base_runs)):\n",
    "        cwd_path = sub_path+\"NIFTI/bmaps_numpy/\"\n",
    "        tdir = cwd_path+bp[m][0][0]+\"minus\"+bp[m][0][1]+'/'\n",
    "        print commands.getoutput(\"fslmaths \"+tdir+\"4d_fmap_Mean.nii.gz -div \"+tdir+\"4d_fmap_Mean.nii.gz \"+tdir+\"mask.nii.gz\")\n",
    "        print commands.getoutput(\"3dmaskdump -o \"+tdir+\"/mask.txt -xyz -nozero \"+tdir+\"mask.nii.gz\")\n",
    "        "
   ]
  },
  {
   "cell_type": "code",
   "execution_count": 15,
   "metadata": {},
   "outputs": [],
   "source": [
    "# 42\n",
    "base_runs = [['66', '68', '70', '72', '74'],\n",
    " ['76', '78', '80', '82', '84'],\n",
    " ['86', '88', '90', '92', '94']]\n",
    "bp =[['68','66'],['72','66'],['68','72']],[['78','76'],['82','76'],['78','82']],[['88','86'],['92','86'],['88','92']]"
   ]
  },
  {
   "cell_type": "code",
   "execution_count": 19,
   "metadata": {},
   "outputs": [
    {
     "name": "stdout",
     "output_type": "stream",
     "text": [
      "\n",
      "++ 3dmaskdump: AFNI version=AFNI_22.1.14 (Jun 24 2022) [64-bit]\n",
      "++ 180224 voxels in the entire dataset (no mask)\n",
      "\n",
      "++ 3dmaskdump: AFNI version=AFNI_22.1.14 (Jun 24 2022) [64-bit]\n",
      "++ 180224 voxels in the entire dataset (no mask)\n",
      "\n",
      "++ 3dmaskdump: AFNI version=AFNI_22.1.14 (Jun 24 2022) [64-bit]\n",
      "++ 180224 voxels in the entire dataset (no mask)\n"
     ]
    }
   ],
   "source": [
    "create_mask(sub_path_42, base_runs)"
   ]
  },
  {
   "cell_type": "code",
   "execution_count": null,
   "metadata": {},
   "outputs": [],
   "source": []
  },
  {
   "cell_type": "code",
   "execution_count": 32,
   "metadata": {},
   "outputs": [],
   "source": [
    "mask = sub_path_40+\"NIFTI/bmaps_numpy/6minus4/mask.nii.gz\"\n",
    "fmap_file = sub_path_40+\"NIFTI/bmaps_numpy/6minus4/4d_fmap_Mean.nii.gz\"\n",
    "txt_file = save_path+\"nn_nonzero_neg_40_1_pos_erode_cly.txt\"\n",
    "save_file = save_path+\"nn_nonzero_neg_40_1_pos_erode_cly.nii.gz\""
   ]
  },
  {
   "cell_type": "code",
   "execution_count": 33,
   "metadata": {},
   "outputs": [
    {
     "data": {
      "text/plain": [
       "'++ 3dUndump: AFNI version=AFNI_22.1.14 (Jun 24 2022) [64-bit]\\n++ Starting to fill via -ijk indexes\\n++ Total number of voxels filled = 180224\\n++ Wrote out dataset /Users/chikakoolsen/opt/python/thesis/code/tdcs_thesis/data/processed/nn_nonzero_neg_40_1_pos_erode_cly.nii.gz'"
      ]
     },
     "execution_count": 33,
     "metadata": {},
     "output_type": "execute_result"
    }
   ],
   "source": [
    "commands.getoutput(\"3dUndump -prefix \"+save_file+\" -master \"+fmap_file+\" -datum float \"+txt_file)"
   ]
  },
  {
   "cell_type": "code",
   "execution_count": 31,
   "metadata": {},
   "outputs": [
    {
     "data": {
      "text/plain": [
       "'++ 3dUndump: AFNI version=AFNI_22.1.14 (Jun 24 2022) [64-bit]\\n++ Starting to fill via -ijk indexes\\n++ Total number of voxels filled = 180224\\n++ Wrote out dataset /Users/chikakoolsen/opt/python/thesis/code/tdcs_thesis/data/processed/nn_nonzero_neg_40_1_neg_erode_cly.nii.gz'"
      ]
     },
     "execution_count": 31,
     "metadata": {},
     "output_type": "execute_result"
    }
   ],
   "source": [
    "txt_file = save_path+\"nn_nonzero_neg_40_1_neg_erode_cly.txt\"\n",
    "save_file = save_path+\"nn_nonzero_neg_40_1_neg_erode_cly.nii.gz\"\n",
    "commands.getoutput(\"3dUndump -prefix \"+save_file+\" -master \"+fmap_file+\" -datum float \"+txt_file)"
   ]
  },
  {
   "cell_type": "code",
   "execution_count": 8,
   "metadata": {},
   "outputs": [
    {
     "data": {
      "text/plain": [
       "'++ 3dUndump: AFNI version=AFNI_22.1.14 (Jun 24 2022) [64-bit]\\n++ Starting to fill via -ijk indexes\\n++ Total number of voxels filled = 180224\\n++ Wrote out dataset /Users/chikakoolsen/opt/python/thesis/code/tdcs_thesis/data/processed/nn_nonzero_neg_41_predict_pos.nii.gz'"
      ]
     },
     "execution_count": 8,
     "metadata": {},
     "output_type": "execute_result"
    }
   ],
   "source": [
    "# 41\n",
    "mask = sub_path_41+\"NIFTI/bmaps_numpy/6minus4/mask.nii.gz\"\n",
    "fmap_file = sub_path_41+\"NIFTI/bmaps_numpy/6minus4/4d_fmap_Mean.nii.gz\"\n",
    "\n",
    "txt_file = save_path+\"nn_nonzero_neg_41_predict_pos.txt\"\n",
    "save_file = save_path+\"nn_nonzero_neg_41_predict_pos.nii.gz\"\n",
    "commands.getoutput(\"3dUndump -prefix \"+save_file+\" -master \"+fmap_file+\" -datum float \"+txt_file)"
   ]
  },
  {
   "cell_type": "code",
   "execution_count": 9,
   "metadata": {},
   "outputs": [
    {
     "data": {
      "text/plain": [
       "'++ 3dUndump: AFNI version=AFNI_22.1.14 (Jun 24 2022) [64-bit]\\n++ Starting to fill via -ijk indexes\\n++ Total number of voxels filled = 180224\\n++ Wrote out dataset /Users/chikakoolsen/opt/python/thesis/code/tdcs_thesis/data/processed/nn_nonzero_neg_41_predict_neg.nii.gz'"
      ]
     },
     "execution_count": 9,
     "metadata": {},
     "output_type": "execute_result"
    }
   ],
   "source": [
    "txt_file = save_path+\"nn_nonzero_neg_41_predict_neg.txt\"\n",
    "save_file = save_path+\"nn_nonzero_neg_41_predict_neg.nii.gz\"\n",
    "commands.getoutput(\"3dUndump -prefix \"+save_file+\" -master \"+fmap_file+\" -datum float \"+txt_file)"
   ]
  },
  {
   "cell_type": "code",
   "execution_count": 24,
   "metadata": {},
   "outputs": [
    {
     "data": {
      "text/plain": [
       "'++ 3dUndump: AFNI version=AFNI_22.1.14 (Jun 24 2022) [64-bit]\\n++ Starting to fill via -ijk indexes\\n++ Total number of voxels filled = 180224\\n++ Wrote out dataset /Users/chikakoolsen/opt/python/thesis/code/tdcs_thesis/data/processed//NIFTI/nn_nonzero_42_pos_roi_cly.nii.gz'"
      ]
     },
     "execution_count": 24,
     "metadata": {},
     "output_type": "execute_result"
    }
   ],
   "source": [
    "# 42\n",
    "# mask = sub_path_42+\"NIFTI/bmaps_numpy/68minus66/mask.nii.gz\"\n",
    "fmap_file = sub_path_42+\"bmaps/68minus66/4d_fmap_Mean.nii.gz\"\n",
    "\n",
    "txt_file = save_path+\"nn_nonzero_42_pos_roi_cly.txt\"\n",
    "save_file = save_img_path+\"nn_nonzero_42_pos_roi_cly.nii.gz\"\n",
    "commands.getoutput(\"3dUndump -prefix \"+save_file+\" -master \"+fmap_file+\" -datum float \"+txt_file)"
   ]
  },
  {
   "cell_type": "code",
   "execution_count": 21,
   "metadata": {},
   "outputs": [
    {
     "data": {
      "text/plain": [
       "'++ 3dUndump: AFNI version=AFNI_22.1.14 (Jun 24 2022) [64-bit]\\n++ Starting to fill via -ijk indexes\\n++ Total number of voxels filled = 180224\\n++ Wrote out dataset /Users/chikakoolsen/opt/python/thesis/code/tdcs_thesis/data/processed//NIFTI/nn_nonzero_42_neg_roi_cly.nii.gz'"
      ]
     },
     "execution_count": 21,
     "metadata": {},
     "output_type": "execute_result"
    }
   ],
   "source": [
    "txt_file = save_path+\"nn_nonzero_42_neg_roi_cly.txt\"\n",
    "save_file = save_img_path+\"nn_nonzero_42_neg_roi_cly.nii.gz\"\n",
    "commands.getoutput(\"3dUndump -prefix \"+save_file+\" -master \"+fmap_file+\" -datum float \"+txt_file)"
   ]
  },
  {
   "cell_type": "code",
   "execution_count": null,
   "metadata": {},
   "outputs": [],
   "source": []
  },
  {
   "cell_type": "markdown",
   "metadata": {},
   "source": [
    "# Plot"
   ]
  },
  {
   "cell_type": "markdown",
   "metadata": {},
   "source": [
    "### Theory vs Predict"
   ]
  },
  {
   "cell_type": "code",
   "execution_count": 85,
   "metadata": {},
   "outputs": [
    {
     "name": "stdout",
     "output_type": "stream",
     "text": [
      "2126/2126 [==============================] - 2s 710us/step\n"
     ]
    }
   ],
   "source": [
    "test_pred = model.predict(X4_pred)"
   ]
  },
  {
   "cell_type": "code",
   "execution_count": 112,
   "metadata": {
    "scrolled": false
   },
   "outputs": [
    {
     "ename": "ValueError",
     "evalue": "all the input array dimensions for the concatenation axis must match exactly, but along dimension 1, the array at index 0 has size 68024 and the array at index 1 has size 68026",
     "output_type": "error",
     "traceback": [
      "\u001b[0;31m---------------------------------------------------------------------------\u001b[0m",
      "\u001b[0;31mValueError\u001b[0m                                Traceback (most recent call last)",
      "Input \u001b[0;32mIn [112]\u001b[0m, in \u001b[0;36m<cell line: 3>\u001b[0;34m()\u001b[0m\n\u001b[1;32m      1\u001b[0m x \u001b[38;5;241m=\u001b[39m y_test\u001b[38;5;241m.\u001b[39mflatten()\n\u001b[1;32m      2\u001b[0m y \u001b[38;5;241m=\u001b[39m test_pred\u001b[38;5;241m.\u001b[39mflatten()\n\u001b[0;32m----> 3\u001b[0m m, b, r, p, st_er \u001b[38;5;241m=\u001b[39m \u001b[43mstats\u001b[49m\u001b[38;5;241;43m.\u001b[39;49m\u001b[43mlinregress\u001b[49m\u001b[43m(\u001b[49m\u001b[43mx\u001b[49m\u001b[43m,\u001b[49m\u001b[43my\u001b[49m\u001b[43m)\u001b[49m \n\u001b[1;32m      5\u001b[0m yfit \u001b[38;5;241m=\u001b[39m [b \u001b[38;5;241m+\u001b[39m m \u001b[38;5;241m*\u001b[39m xi \u001b[38;5;28;01mfor\u001b[39;00m xi \u001b[38;5;129;01min\u001b[39;00m x]\n\u001b[1;32m      6\u001b[0m yisx \u001b[38;5;241m=\u001b[39m [\u001b[38;5;241m0\u001b[39m \u001b[38;5;241m+\u001b[39m \u001b[38;5;241m1\u001b[39m \u001b[38;5;241m*\u001b[39m xi \u001b[38;5;28;01mfor\u001b[39;00m xi \u001b[38;5;129;01min\u001b[39;00m x]\n",
      "File \u001b[0;32m~/opt/anaconda3/envs/tf/lib/python3.10/site-packages/scipy/stats/_stats_mstats_common.py:155\u001b[0m, in \u001b[0;36mlinregress\u001b[0;34m(x, y, alternative)\u001b[0m\n\u001b[1;32m    150\u001b[0m ymean \u001b[38;5;241m=\u001b[39m np\u001b[38;5;241m.\u001b[39mmean(y, \u001b[38;5;28;01mNone\u001b[39;00m)\n\u001b[1;32m    152\u001b[0m \u001b[38;5;66;03m# Average sums of square differences from the mean\u001b[39;00m\n\u001b[1;32m    153\u001b[0m \u001b[38;5;66;03m#   ssxm = mean( (x-mean(x))^2 )\u001b[39;00m\n\u001b[1;32m    154\u001b[0m \u001b[38;5;66;03m#   ssxym = mean( (x-mean(x)) * (y-mean(y)) )\u001b[39;00m\n\u001b[0;32m--> 155\u001b[0m ssxm, ssxym, _, ssym \u001b[38;5;241m=\u001b[39m \u001b[43mnp\u001b[49m\u001b[38;5;241;43m.\u001b[39;49m\u001b[43mcov\u001b[49m\u001b[43m(\u001b[49m\u001b[43mx\u001b[49m\u001b[43m,\u001b[49m\u001b[43m \u001b[49m\u001b[43my\u001b[49m\u001b[43m,\u001b[49m\u001b[43m \u001b[49m\u001b[43mbias\u001b[49m\u001b[38;5;241;43m=\u001b[39;49m\u001b[38;5;241;43m1\u001b[39;49m\u001b[43m)\u001b[49m\u001b[38;5;241m.\u001b[39mflat\n\u001b[1;32m    157\u001b[0m \u001b[38;5;66;03m# R-value\u001b[39;00m\n\u001b[1;32m    158\u001b[0m \u001b[38;5;66;03m#   r = ssxym / sqrt( ssxm * ssym )\u001b[39;00m\n\u001b[1;32m    159\u001b[0m \u001b[38;5;28;01mif\u001b[39;00m ssxm \u001b[38;5;241m==\u001b[39m \u001b[38;5;241m0.0\u001b[39m \u001b[38;5;129;01mor\u001b[39;00m ssym \u001b[38;5;241m==\u001b[39m \u001b[38;5;241m0.0\u001b[39m:\n\u001b[1;32m    160\u001b[0m     \u001b[38;5;66;03m# If the denominator was going to be 0\u001b[39;00m\n",
      "File \u001b[0;32m<__array_function__ internals>:180\u001b[0m, in \u001b[0;36mcov\u001b[0;34m(*args, **kwargs)\u001b[0m\n",
      "File \u001b[0;32m~/opt/anaconda3/envs/tf/lib/python3.10/site-packages/numpy/lib/function_base.py:2615\u001b[0m, in \u001b[0;36mcov\u001b[0;34m(m, y, rowvar, bias, ddof, fweights, aweights, dtype)\u001b[0m\n\u001b[1;32m   2613\u001b[0m     \u001b[38;5;28;01mif\u001b[39;00m \u001b[38;5;129;01mnot\u001b[39;00m rowvar \u001b[38;5;129;01mand\u001b[39;00m y\u001b[38;5;241m.\u001b[39mshape[\u001b[38;5;241m0\u001b[39m] \u001b[38;5;241m!=\u001b[39m \u001b[38;5;241m1\u001b[39m:\n\u001b[1;32m   2614\u001b[0m         y \u001b[38;5;241m=\u001b[39m y\u001b[38;5;241m.\u001b[39mT\n\u001b[0;32m-> 2615\u001b[0m     X \u001b[38;5;241m=\u001b[39m \u001b[43mnp\u001b[49m\u001b[38;5;241;43m.\u001b[39;49m\u001b[43mconcatenate\u001b[49m\u001b[43m(\u001b[49m\u001b[43m(\u001b[49m\u001b[43mX\u001b[49m\u001b[43m,\u001b[49m\u001b[43m \u001b[49m\u001b[43my\u001b[49m\u001b[43m)\u001b[49m\u001b[43m,\u001b[49m\u001b[43m \u001b[49m\u001b[43maxis\u001b[49m\u001b[38;5;241;43m=\u001b[39;49m\u001b[38;5;241;43m0\u001b[39;49m\u001b[43m)\u001b[49m\n\u001b[1;32m   2617\u001b[0m \u001b[38;5;28;01mif\u001b[39;00m ddof \u001b[38;5;129;01mis\u001b[39;00m \u001b[38;5;28;01mNone\u001b[39;00m:\n\u001b[1;32m   2618\u001b[0m     \u001b[38;5;28;01mif\u001b[39;00m bias \u001b[38;5;241m==\u001b[39m \u001b[38;5;241m0\u001b[39m:\n",
      "File \u001b[0;32m<__array_function__ internals>:180\u001b[0m, in \u001b[0;36mconcatenate\u001b[0;34m(*args, **kwargs)\u001b[0m\n",
      "\u001b[0;31mValueError\u001b[0m: all the input array dimensions for the concatenation axis must match exactly, but along dimension 1, the array at index 0 has size 68024 and the array at index 1 has size 68026"
     ]
    }
   ],
   "source": [
    "x = y_test.flatten()\n",
    "y = test_pred.flatten()\n",
    "m, b, r, p, st_er = stats.linregress(x,y) \n",
    "\n",
    "yfit = [b + m * xi for xi in x]\n",
    "yisx = [0 + 1 * xi for xi in x]\n",
    "plt.plot(x, yfit)\n",
    "plt.plot(x, yisx)\n",
    "\n",
    "plt.scatter(y_test, test_pred,  color='black')\n",
    "plt.axis([0,100, 0, 100])\n",
    "plt.xlabel(\"Theory (nT)\")\n",
    "plt.ylabel(\"Prediction (nT)\")\n",
    "plt.title(\"Neural Network Prediction vs Theory\", fontsize=15)\n",
    "# print(r, st_er)\n",
    "print(\"r: {:.5f}, st_er: {:.6f}\".format(r, st_er))\n",
    "print(\"y = \"+str(round(m,4))+\"*x + \"+str(round(b,4)))"
   ]
  },
  {
   "cell_type": "code",
   "execution_count": null,
   "metadata": {},
   "outputs": [],
   "source": [
    "# Plot\n",
    "\n",
    "### Theory vs Predict\n",
    "\n",
    "x = y_test.flatten()\n",
    "y = test_pred.flatten()\n",
    "m, b, r, p, st_er = stats.linregress(x,y) \n",
    "\n",
    "yfit = [b + m * xi for xi in x]\n",
    "yisx = [0 + 1 * xi for xi in x]\n",
    "plt.plot(x, yfit)\n",
    "plt.plot(x, yisx)\n",
    "\n",
    "plt.scatter(y_test, test_pred,  color='black')\n",
    "plt.axis([0,100, 0, 100])\n",
    "plt.xlabel(\"Theory (nT)\")\n",
    "plt.ylabel(\"Prediction (nT)\")\n",
    "plt.title(\"Neural Network Prediction vs Theory\", fontsize=15)\n",
    "# print(r, st_er)\n",
    "print(\"r: {:.5f}, st_er: {:.6f}\".format(r, st_er))\n",
    "print(\"y = \"+str(round(m,4))+\"*x + \"+str(round(b,4)))"
   ]
  },
  {
   "cell_type": "code",
   "execution_count": null,
   "metadata": {},
   "outputs": [],
   "source": []
  }
 ],
 "metadata": {
  "kernelspec": {
   "display_name": "Python 2",
   "language": "python",
   "name": "python2"
  },
  "language_info": {
   "codemirror_mode": {
    "name": "ipython",
    "version": 2
   },
   "file_extension": ".py",
   "mimetype": "text/x-python",
   "name": "python",
   "nbconvert_exporter": "python",
   "pygments_lexer": "ipython2",
   "version": "2.7.18"
  }
 },
 "nbformat": 4,
 "nbformat_minor": 2
}
