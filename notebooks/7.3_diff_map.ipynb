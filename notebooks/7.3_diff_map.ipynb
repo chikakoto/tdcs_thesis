{
 "cells": [
  {
   "cell_type": "code",
   "execution_count": 1,
   "metadata": {},
   "outputs": [],
   "source": [
    "import nibabel as nib\n",
    "import pandas as pd\n",
    "import matplotlib.pyplot as plt\n",
    "import numpy as np\n",
    "import seaborn as sb\n",
    "from scipy import stats\n",
    "import commands"
   ]
  },
  {
   "cell_type": "code",
   "execution_count": 2,
   "metadata": {},
   "outputs": [],
   "source": [
    "# dir_path = \"/Users/mriworkshop/Documents/TDCS/code/tdcs_thesis/\"\n",
    "dir_path = \"/Users/chikakoolsen/opt/python/thesis/code/tdcs_thesis/\"\n",
    "sub_path = dir_path+\"data/external/R21_39_Cyl_Aqueous/\"\n",
    "img_path = dir_path+\"data/processed/\""
   ]
  },
  {
   "cell_type": "code",
   "execution_count": 53,
   "metadata": {},
   "outputs": [],
   "source": [
    "xminusy = '58minus56'\n",
    "cwd = sub_path+\"NIFTI/bmaps_numpy/\"+xminusy+\"/\"\n",
    "pred = img_path+\"nn_nonzero_39_predict6_2.nii.gz\""
   ]
  },
  {
   "cell_type": "code",
   "execution_count": 54,
   "metadata": {},
   "outputs": [],
   "source": [
    "theory_img = nib.load(cwd+\"Bvals.nii\")\n",
    "physics_img = nib.load(cwd+\"4d_fmap_Mean.nii.gz\")\n",
    "pred_img = nib.load(pred)\n",
    "theory_data = theory_img.get_data()\n",
    "physics_data = physics_img.get_data()\n",
    "pred_data = pred_img.get_data()"
   ]
  },
  {
   "cell_type": "code",
   "execution_count": 55,
   "metadata": {},
   "outputs": [
    {
     "name": "stderr",
     "output_type": "stream",
     "text": [
      "/Users/chikakoolsen/opt/anaconda3/envs/py27/lib/python2.7/site-packages/ipykernel_launcher.py:1: RuntimeWarning: divide by zero encountered in divide\n",
      "  \"\"\"Entry point for launching an IPython kernel.\n",
      "/Users/chikakoolsen/opt/anaconda3/envs/py27/lib/python2.7/site-packages/ipykernel_launcher.py:1: RuntimeWarning: invalid value encountered in divide\n",
      "  \"\"\"Entry point for launching an IPython kernel.\n"
     ]
    }
   ],
   "source": [
    "physics_diff = 100 * (physics_data - theory_data) / theory_data"
   ]
  },
  {
   "cell_type": "code",
   "execution_count": 56,
   "metadata": {},
   "outputs": [],
   "source": [
    "physics_diff[~np.isfinite(physics_diff)] = 0."
   ]
  },
  {
   "cell_type": "code",
   "execution_count": 57,
   "metadata": {},
   "outputs": [
    {
     "name": "stderr",
     "output_type": "stream",
     "text": [
      "/Users/chikakoolsen/opt/anaconda3/envs/py27/lib/python2.7/site-packages/ipykernel_launcher.py:1: RuntimeWarning: divide by zero encountered in divide\n",
      "  \"\"\"Entry point for launching an IPython kernel.\n",
      "/Users/chikakoolsen/opt/anaconda3/envs/py27/lib/python2.7/site-packages/ipykernel_launcher.py:1: RuntimeWarning: invalid value encountered in divide\n",
      "  \"\"\"Entry point for launching an IPython kernel.\n"
     ]
    }
   ],
   "source": [
    "pred_diff = 100 * (pred_data - theory_data) / theory_data"
   ]
  },
  {
   "cell_type": "code",
   "execution_count": 58,
   "metadata": {},
   "outputs": [],
   "source": [
    "pred_diff[~np.isfinite(pred_diff)] = 0."
   ]
  },
  {
   "cell_type": "code",
   "execution_count": null,
   "metadata": {},
   "outputs": [],
   "source": []
  },
  {
   "cell_type": "code",
   "execution_count": 30,
   "metadata": {},
   "outputs": [
    {
     "data": {
      "text/plain": [
       "memmap([ 0.       ,  0.       ,  0.       ,  0.       ,  0.       ,\n",
       "         0.       ,  2.2036068,  2.3864012,  2.588562 ,  2.8126402,\n",
       "         3.0616164,  3.3389997,  3.6489537,  3.9964647,  4.387566 ,\n",
       "         4.82964  ,  5.3318295,  5.905608 ,  6.5655627,  7.3304863,\n",
       "         8.224884 ,  9.281026 , 10.54161  , 12.062914 , 13.917526 ,\n",
       "        16.193718 , 18.983442 , 22.340605 , 26.178308 , 30.088621 ,\n",
       "        33.198364 , 34.412956 , 33.198364 , 30.088621 , 26.178308 ,\n",
       "        22.340605 , 18.983442 , 16.193718 , 13.917526 , 12.062914 ,\n",
       "        10.54161  ,  9.281026 ,  8.224884 ,  7.3304863,  6.5655627,\n",
       "         5.905608 ,  5.3318295,  4.82964  ,  4.387566 ,  3.9964647,\n",
       "         3.6489537,  3.3389997,  3.0616164,  2.8126402,  2.588562 ,\n",
       "         2.3864012,  2.2036068,  0.       ,  0.       ,  0.       ,\n",
       "         0.       ,  0.       ,  0.       ,  0.       ], dtype=float32)"
      ]
     },
     "execution_count": 30,
     "metadata": {},
     "output_type": "execute_result"
    }
   ],
   "source": [
    "theory_data[30][40]"
   ]
  },
  {
   "cell_type": "code",
   "execution_count": 29,
   "metadata": {},
   "outputs": [
    {
     "data": {
      "text/plain": [
       "array([ 0.       ,  0.       ,  0.       ,  0.       ,  0.       ,\n",
       "        0.       ,  4.147028 ,  4.7315965,  4.852651 ,  4.8533416,\n",
       "        4.854156 ,  4.8544917,  4.854633 ,  4.854648 ,  4.854568 ,\n",
       "        4.8542533,  4.8539615,  4.8535247,  4.8531775,  4.852796 ,\n",
       "        4.8142476,  5.7246184,  8.058062 ,  9.6079235, 12.380072 ,\n",
       "       15.656923 , 19.237951 , 22.85906  , 27.561293 , 32.308285 ,\n",
       "       34.779278 , 36.47898  , 35.73378  , 33.008366 , 29.046446 ,\n",
       "       24.78948  , 21.328165 , 17.839212 , 15.648294 , 13.044779 ,\n",
       "       10.905119 ,  9.085356 ,  7.574426 ,  6.410356 ,  5.2714477,\n",
       "        4.1302752,  4.1302752,  4.1302752,  4.1302752,  4.1302752,\n",
       "        4.1302752,  4.1302752,  4.1302752,  4.1302752,  4.1302752,\n",
       "        4.1302752,  7.1448455,  0.       ,  0.       ,  0.       ,\n",
       "        0.       ,  0.       ,  0.       ,  0.       ], dtype=float32)"
      ]
     },
     "execution_count": 29,
     "metadata": {},
     "output_type": "execute_result"
    }
   ],
   "source": [
    "pred_data[30][40]"
   ]
  },
  {
   "cell_type": "code",
   "execution_count": 31,
   "metadata": {},
   "outputs": [
    {
     "data": {
      "text/plain": [
       "58.548797948691394"
      ]
     },
     "execution_count": 31,
     "metadata": {},
     "output_type": "execute_result"
    }
   ],
   "source": [
    "100 * (4.854156 - 3.0616164)/3.0616164"
   ]
  },
  {
   "cell_type": "code",
   "execution_count": 28,
   "metadata": {},
   "outputs": [
    {
     "data": {
      "text/plain": [
       "array([  0.       ,   0.       ,   0.       ,   0.       ,   0.       ,\n",
       "         0.       ,  88.19273  ,  98.27331  ,  87.465126 ,  72.55466  ,\n",
       "        58.5488   ,  45.387604 ,  33.04178  ,  21.473562 ,  10.643758 ,\n",
       "         0.5096318,  -8.962554 , -17.814991 , -26.081318 , -33.79981  ,\n",
       "       -41.46729  , -38.31912  , -23.559477 , -20.351553 , -11.046895 ,\n",
       "        -3.3148327,   1.3406893,   2.320687 ,   5.2829394,   7.3770866,\n",
       "         4.7620225,   6.003625 ,   7.6371703,   9.703816 ,  10.95616  ,\n",
       "        10.961545 ,  12.35141  ,  10.161313 ,  12.435889 ,   8.139534 ,\n",
       "         3.448327 ,  -2.1082811,  -7.9084134, -12.552104 , -19.710648 ,\n",
       "       -30.061813 , -22.535496 , -14.480679 ,  -5.8640904,   3.3482223,\n",
       "        13.190674 ,  23.697979 ,  34.905052 ,  46.846912 ,  59.558678 ,\n",
       "        73.07548  , 224.23412  ,   0.       ,   0.       ,   0.       ,\n",
       "         0.       ,   0.       ,   0.       ,   0.       ], dtype=float32)"
      ]
     },
     "execution_count": 28,
     "metadata": {},
     "output_type": "execute_result"
    }
   ],
   "source": [
    "pred_diff[30][40]"
   ]
  },
  {
   "cell_type": "code",
   "execution_count": null,
   "metadata": {},
   "outputs": [],
   "source": []
  },
  {
   "cell_type": "code",
   "execution_count": 59,
   "metadata": {},
   "outputs": [],
   "source": [
    "sp = theory_data.shape\n",
    "phy_data = []\n",
    "pre_data = []\n",
    "\n",
    "for i in range(sp[0]):\n",
    "    for j in range(sp[1]):\n",
    "        for k in range(sp[2]):\n",
    "            phy_data.append([i, j, k, physics_diff[i][j][k]])\n",
    "            pre_data.append([i, j, k, pred_diff[i][j][k]])\n",
    "\n",
    "phy_df = pd.DataFrame(phy_data, columns=['i', 'j', 'k', 'value'])\n",
    "pre_df = pd.DataFrame(pre_data, columns=['i', 'j', 'k', 'value'])"
   ]
  },
  {
   "cell_type": "code",
   "execution_count": 60,
   "metadata": {},
   "outputs": [],
   "source": [
    "np.savetxt(img_path+\"nn_nonzero_39_6_2_physics_diff_map.txt\", phy_df[['i', 'j', 'k', 'value']], fmt=\"%i %i %i %s\")\n",
    "np.savetxt(img_path+\"nn_nonzero_39_6_2_predict_diff_map.txt\", pre_df[['i', 'j', 'k', 'value']], fmt=\"%i %i %i %s\")"
   ]
  },
  {
   "cell_type": "code",
   "execution_count": 61,
   "metadata": {},
   "outputs": [],
   "source": [
    "fmap_file = cwd+\"4d_fmap_Mean.nii.gz\"\n",
    "txt_file1 = img_path+\"nn_nonzero_39_6_2_physics_diff_map.txt\"\n",
    "save_file1 = img_path+\"nn_nonzero_39_6_2_physics_diff_map.nii.gz\"\n",
    "txt_file2 = img_path+\"nn_nonzero_39_6_2_predict_diff_map.txt\"\n",
    "save_file2 = img_path+\"nn_nonzero_39_6_2_predict_diff_map.nii.gz\""
   ]
  },
  {
   "cell_type": "code",
   "execution_count": 62,
   "metadata": {},
   "outputs": [
    {
     "data": {
      "text/plain": [
       "'++ 3dUndump: AFNI version=AFNI_22.1.14 (Jun 24 2022) [64-bit]\\n++ Starting to fill via -ijk indexes\\n++ Total number of voxels filled = 180224\\n++ Wrote out dataset /Users/chikakoolsen/opt/python/thesis/code/tdcs_thesis/data/processed/nn_nonzero_39_6_2_predict_diff_map.nii.gz'"
      ]
     },
     "execution_count": 62,
     "metadata": {},
     "output_type": "execute_result"
    }
   ],
   "source": [
    "# Output\n",
    "commands.getoutput(\"3dUndump -prefix \"+save_file1+\" -master \"+fmap_file+\" -datum float \"+txt_file1)\n",
    "commands.getoutput(\"3dUndump -prefix \"+save_file2+\" -master \"+fmap_file+\" -datum float \"+txt_file2)"
   ]
  },
  {
   "cell_type": "code",
   "execution_count": null,
   "metadata": {},
   "outputs": [],
   "source": []
  },
  {
   "cell_type": "markdown",
   "metadata": {},
   "source": [
    "# Erode"
   ]
  },
  {
   "cell_type": "code",
   "execution_count": 83,
   "metadata": {},
   "outputs": [],
   "source": [
    "xminusy = '6minus4'\n",
    "cwd = sub_path+\"NIFTI/bmaps_numpy/\"+xminusy+\"/\"\n",
    "pred = img_path+\"nn_nonzero_39_predict1_2_erode.nii.gz\""
   ]
  },
  {
   "cell_type": "code",
   "execution_count": 84,
   "metadata": {},
   "outputs": [],
   "source": [
    "theory_img = nib.load(cwd+\"Bvals_erode1.nii.gz\")\n",
    "physics_img = nib.load(cwd+\"diff_fmap_Mean_erode1.nii.gz\")\n",
    "pred_img = nib.load(pred)\n",
    "theory_data = theory_img.get_data()\n",
    "physics_data = physics_img.get_data()\n",
    "pred_data = pred_img.get_data()"
   ]
  },
  {
   "cell_type": "code",
   "execution_count": 85,
   "metadata": {},
   "outputs": [
    {
     "name": "stderr",
     "output_type": "stream",
     "text": [
      "/Users/chikakoolsen/opt/anaconda3/envs/py27/lib/python2.7/site-packages/ipykernel_launcher.py:1: RuntimeWarning: invalid value encountered in divide\n",
      "  \"\"\"Entry point for launching an IPython kernel.\n"
     ]
    }
   ],
   "source": [
    "physics_diff = 100 * (physics_data - theory_data) / theory_data"
   ]
  },
  {
   "cell_type": "code",
   "execution_count": 86,
   "metadata": {},
   "outputs": [],
   "source": [
    "physics_diff[~np.isfinite(physics_diff)] = 0."
   ]
  },
  {
   "cell_type": "code",
   "execution_count": 87,
   "metadata": {},
   "outputs": [
    {
     "name": "stderr",
     "output_type": "stream",
     "text": [
      "/Users/chikakoolsen/opt/anaconda3/envs/py27/lib/python2.7/site-packages/ipykernel_launcher.py:1: RuntimeWarning: invalid value encountered in divide\n",
      "  \"\"\"Entry point for launching an IPython kernel.\n"
     ]
    }
   ],
   "source": [
    "pred_diff = 100 * (pred_data - theory_data) / theory_data"
   ]
  },
  {
   "cell_type": "code",
   "execution_count": 88,
   "metadata": {},
   "outputs": [],
   "source": [
    "pred_diff[~np.isfinite(pred_diff)] = 0."
   ]
  },
  {
   "cell_type": "code",
   "execution_count": 89,
   "metadata": {},
   "outputs": [],
   "source": [
    "sp = theory_data.shape\n",
    "phy_data = []\n",
    "pre_data = []\n",
    "\n",
    "for i in range(sp[0]):\n",
    "    for j in range(sp[1]):\n",
    "        for k in range(sp[2]):\n",
    "            phy_data.append([i, j, k, physics_diff[i][j][k]])\n",
    "            pre_data.append([i, j, k, pred_diff[i][j][k]])\n",
    "\n",
    "phy_df = pd.DataFrame(phy_data, columns=['i', 'j', 'k', 'value'])\n",
    "pre_df = pd.DataFrame(pre_data, columns=['i', 'j', 'k', 'value'])"
   ]
  },
  {
   "cell_type": "code",
   "execution_count": 90,
   "metadata": {},
   "outputs": [],
   "source": [
    "np.savetxt(img_path+\"nn_nonzero_39_1_2_physics_diff_map_erode.txt\", phy_df[['i', 'j', 'k', 'value']], fmt=\"%i %i %i %s\")\n",
    "np.savetxt(img_path+\"nn_nonzero_39_1_2_predict_diff_map_erode.txt\", pre_df[['i', 'j', 'k', 'value']], fmt=\"%i %i %i %s\")"
   ]
  },
  {
   "cell_type": "code",
   "execution_count": 92,
   "metadata": {},
   "outputs": [],
   "source": [
    "fmap_file = cwd+\"diff_fmap_Mean_erode1.nii.gz\"\n",
    "txt_file1 = img_path+\"nn_nonzero_39_1_2_physics_diff_map_erode.txt\"\n",
    "save_file1 = img_path+\"nn_nonzero_39_1_2_physics_diff_map_erode.nii.gz\"\n",
    "txt_file2 = img_path+\"nn_nonzero_39_1_2_predict_diff_map_erode.txt\"\n",
    "save_file2 = img_path+\"nn_nonzero_39_1_2_predict_diff_map_erode.nii.gz\""
   ]
  },
  {
   "cell_type": "code",
   "execution_count": 93,
   "metadata": {},
   "outputs": [
    {
     "data": {
      "text/plain": [
       "'++ 3dUndump: AFNI version=AFNI_22.1.14 (Jun 24 2022) [64-bit]\\n\\n** WARNING: NIfTI file /Users/chikakoolsen/opt/python/thesis/code/tdcs_thesis/data/external/R21_39_Cyl_Aqueous/NIFTI/bmaps_numpy/6minus4/diff_fmap_Mean_erode1.nii.gz dimensions altered since AFNI extension was added\\n++ Starting to fill via -ijk indexes\\n++ Total number of voxels filled = 180224\\n++ Wrote out dataset /Users/chikakoolsen/opt/python/thesis/code/tdcs_thesis/data/processed/nn_nonzero_39_1_2_predict_diff_map_erode.nii.gz'"
      ]
     },
     "execution_count": 93,
     "metadata": {},
     "output_type": "execute_result"
    }
   ],
   "source": [
    "# Output\n",
    "commands.getoutput(\"3dUndump -prefix \"+save_file1+\" -master \"+fmap_file+\" -datum float \"+txt_file1)\n",
    "commands.getoutput(\"3dUndump -prefix \"+save_file2+\" -master \"+fmap_file+\" -datum float \"+txt_file2)"
   ]
  }
 ],
 "metadata": {
  "kernelspec": {
   "display_name": "Python 2",
   "language": "python",
   "name": "python2"
  },
  "language_info": {
   "codemirror_mode": {
    "name": "ipython",
    "version": 2
   },
   "file_extension": ".py",
   "mimetype": "text/x-python",
   "name": "python",
   "nbconvert_exporter": "python",
   "pygments_lexer": "ipython2",
   "version": "2.7.18"
  }
 },
 "nbformat": 4,
 "nbformat_minor": 2
}
