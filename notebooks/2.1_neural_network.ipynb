{
 "cells": [
  {
   "cell_type": "code",
   "execution_count": 139,
   "metadata": {},
   "outputs": [],
   "source": [
    "import pandas as pd\n",
    "import numpy as np\n",
    "import matplotlib.pyplot as plt\n",
    "from sklearn.metrics import mean_squared_error as mse\n",
    "#\n",
    "import tensorflow as tf\n",
    "from tensorflow import keras\n",
    "from tensorflow.keras import layers\n",
    "from tensorflow.keras.layers import Conv2D, MaxPooling2D, Dropout, Flatten, Dense\n"
   ]
  },
  {
   "cell_type": "markdown",
   "metadata": {},
   "source": [
    "# Load prepared data"
   ]
  },
  {
   "cell_type": "code",
   "execution_count": 69,
   "metadata": {},
   "outputs": [],
   "source": [
    "save_path = \"/Users/chikakoolsen/opt/python/thesis/code/tdcs_thesis/data/processed/\""
   ]
  },
  {
   "cell_type": "code",
   "execution_count": 70,
   "metadata": {},
   "outputs": [],
   "source": [
    "file_mean = save_path+\"fmap_mean.txt\"\n",
    "columns_mean =['exp', 'mini_exp', 'i', 'j', 'k', 'mean0', 'mean1', 'mean2', 'mean3', 'mean4', 'theory']\n",
    "data = np.loadtxt(file_mean);"
   ]
  },
  {
   "cell_type": "code",
   "execution_count": 71,
   "metadata": {},
   "outputs": [],
   "source": [
    "df = pd.DataFrame(data, columns=columns_mean)\n",
    "df = df.astype({\"exp\": int, \"i\": int, \"j\": int, \"k\": int, \"mini_exp\": int})"
   ]
  },
  {
   "cell_type": "code",
   "execution_count": 72,
   "metadata": {},
   "outputs": [
    {
     "name": "stdout",
     "output_type": "stream",
     "text": [
      "<class 'pandas.core.frame.DataFrame'>\n",
      "RangeIndex: 3244032 entries, 0 to 3244031\n",
      "Data columns (total 11 columns):\n",
      " #   Column    Dtype  \n",
      "---  ------    -----  \n",
      " 0   exp       int64  \n",
      " 1   mini_exp  int64  \n",
      " 2   i         int64  \n",
      " 3   j         int64  \n",
      " 4   k         int64  \n",
      " 5   mean0     float64\n",
      " 6   mean1     float64\n",
      " 7   mean2     float64\n",
      " 8   mean3     float64\n",
      " 9   mean4     float64\n",
      " 10  theory    float64\n",
      "dtypes: float64(6), int64(5)\n",
      "memory usage: 272.3 MB\n"
     ]
    }
   ],
   "source": [
    "df.info()"
   ]
  },
  {
   "cell_type": "markdown",
   "metadata": {},
   "source": [
    "## Split data"
   ]
  },
  {
   "cell_type": "markdown",
   "metadata": {},
   "source": [
    "### Data1: Splid data with mini experiment"
   ]
  },
  {
   "cell_type": "code",
   "execution_count": 73,
   "metadata": {},
   "outputs": [],
   "source": [
    "df_train = df[(df['exp']==38) & (df['mini_exp']!=6)]\n",
    "df_test = df[(df['exp']==38) & (df['mini_exp']==6)]"
   ]
  },
  {
   "cell_type": "code",
   "execution_count": 74,
   "metadata": {},
   "outputs": [
    {
     "data": {
      "text/html": [
       "<div>\n",
       "<style scoped>\n",
       "    .dataframe tbody tr th:only-of-type {\n",
       "        vertical-align: middle;\n",
       "    }\n",
       "\n",
       "    .dataframe tbody tr th {\n",
       "        vertical-align: top;\n",
       "    }\n",
       "\n",
       "    .dataframe thead th {\n",
       "        text-align: right;\n",
       "    }\n",
       "</style>\n",
       "<table border=\"1\" class=\"dataframe\">\n",
       "  <thead>\n",
       "    <tr style=\"text-align: right;\">\n",
       "      <th></th>\n",
       "      <th>mean0</th>\n",
       "      <th>mean1</th>\n",
       "      <th>mean2</th>\n",
       "      <th>mean3</th>\n",
       "      <th>mean4</th>\n",
       "    </tr>\n",
       "  </thead>\n",
       "  <tbody>\n",
       "    <tr>\n",
       "      <th>2162688</th>\n",
       "      <td>0.0</td>\n",
       "      <td>0.0</td>\n",
       "      <td>0.0</td>\n",
       "      <td>0.0</td>\n",
       "      <td>0.0</td>\n",
       "    </tr>\n",
       "    <tr>\n",
       "      <th>2162689</th>\n",
       "      <td>0.0</td>\n",
       "      <td>0.0</td>\n",
       "      <td>0.0</td>\n",
       "      <td>0.0</td>\n",
       "      <td>0.0</td>\n",
       "    </tr>\n",
       "    <tr>\n",
       "      <th>2162690</th>\n",
       "      <td>0.0</td>\n",
       "      <td>0.0</td>\n",
       "      <td>0.0</td>\n",
       "      <td>0.0</td>\n",
       "      <td>0.0</td>\n",
       "    </tr>\n",
       "    <tr>\n",
       "      <th>2162691</th>\n",
       "      <td>0.0</td>\n",
       "      <td>0.0</td>\n",
       "      <td>0.0</td>\n",
       "      <td>0.0</td>\n",
       "      <td>0.0</td>\n",
       "    </tr>\n",
       "    <tr>\n",
       "      <th>2162692</th>\n",
       "      <td>0.0</td>\n",
       "      <td>0.0</td>\n",
       "      <td>0.0</td>\n",
       "      <td>0.0</td>\n",
       "      <td>0.0</td>\n",
       "    </tr>\n",
       "    <tr>\n",
       "      <th>...</th>\n",
       "      <td>...</td>\n",
       "      <td>...</td>\n",
       "      <td>...</td>\n",
       "      <td>...</td>\n",
       "      <td>...</td>\n",
       "    </tr>\n",
       "    <tr>\n",
       "      <th>3063803</th>\n",
       "      <td>0.0</td>\n",
       "      <td>0.0</td>\n",
       "      <td>0.0</td>\n",
       "      <td>0.0</td>\n",
       "      <td>0.0</td>\n",
       "    </tr>\n",
       "    <tr>\n",
       "      <th>3063804</th>\n",
       "      <td>0.0</td>\n",
       "      <td>0.0</td>\n",
       "      <td>0.0</td>\n",
       "      <td>0.0</td>\n",
       "      <td>0.0</td>\n",
       "    </tr>\n",
       "    <tr>\n",
       "      <th>3063805</th>\n",
       "      <td>0.0</td>\n",
       "      <td>0.0</td>\n",
       "      <td>0.0</td>\n",
       "      <td>0.0</td>\n",
       "      <td>0.0</td>\n",
       "    </tr>\n",
       "    <tr>\n",
       "      <th>3063806</th>\n",
       "      <td>0.0</td>\n",
       "      <td>0.0</td>\n",
       "      <td>0.0</td>\n",
       "      <td>0.0</td>\n",
       "      <td>0.0</td>\n",
       "    </tr>\n",
       "    <tr>\n",
       "      <th>3063807</th>\n",
       "      <td>0.0</td>\n",
       "      <td>0.0</td>\n",
       "      <td>0.0</td>\n",
       "      <td>0.0</td>\n",
       "      <td>0.0</td>\n",
       "    </tr>\n",
       "  </tbody>\n",
       "</table>\n",
       "<p>901120 rows × 5 columns</p>\n",
       "</div>"
      ],
      "text/plain": [
       "         mean0  mean1  mean2  mean3  mean4\n",
       "2162688    0.0    0.0    0.0    0.0    0.0\n",
       "2162689    0.0    0.0    0.0    0.0    0.0\n",
       "2162690    0.0    0.0    0.0    0.0    0.0\n",
       "2162691    0.0    0.0    0.0    0.0    0.0\n",
       "2162692    0.0    0.0    0.0    0.0    0.0\n",
       "...        ...    ...    ...    ...    ...\n",
       "3063803    0.0    0.0    0.0    0.0    0.0\n",
       "3063804    0.0    0.0    0.0    0.0    0.0\n",
       "3063805    0.0    0.0    0.0    0.0    0.0\n",
       "3063806    0.0    0.0    0.0    0.0    0.0\n",
       "3063807    0.0    0.0    0.0    0.0    0.0\n",
       "\n",
       "[901120 rows x 5 columns]"
      ]
     },
     "execution_count": 74,
     "metadata": {},
     "output_type": "execute_result"
    }
   ],
   "source": [
    "df_train.iloc[:, 5:-1]"
   ]
  },
  {
   "cell_type": "code",
   "execution_count": 75,
   "metadata": {},
   "outputs": [],
   "source": [
    "X_train = df_train.iloc[:, 5:-1].values\n",
    "y_train = df_train['theory'].values\n",
    "\n",
    "X_test = df_test.iloc[:, 5:-1].values\n",
    "y_test = df_test['theory'].values"
   ]
  },
  {
   "cell_type": "code",
   "execution_count": 76,
   "metadata": {},
   "outputs": [
    {
     "name": "stdout",
     "output_type": "stream",
     "text": [
      "(901120, 5)\n",
      "(901120,)\n",
      "(180224, 5)\n",
      "(180224,)\n"
     ]
    }
   ],
   "source": [
    "print(X_train.shape)\n",
    "print(y_train.shape)\n",
    "print(X_test.shape)\n",
    "print(y_test.shape)"
   ]
  },
  {
   "cell_type": "markdown",
   "metadata": {},
   "source": [
    "### Data2: Splid data with mini experiment and i,j,k"
   ]
  },
  {
   "cell_type": "code",
   "execution_count": 84,
   "metadata": {},
   "outputs": [
    {
     "data": {
      "text/html": [
       "<div>\n",
       "<style scoped>\n",
       "    .dataframe tbody tr th:only-of-type {\n",
       "        vertical-align: middle;\n",
       "    }\n",
       "\n",
       "    .dataframe tbody tr th {\n",
       "        vertical-align: top;\n",
       "    }\n",
       "\n",
       "    .dataframe thead th {\n",
       "        text-align: right;\n",
       "    }\n",
       "</style>\n",
       "<table border=\"1\" class=\"dataframe\">\n",
       "  <thead>\n",
       "    <tr style=\"text-align: right;\">\n",
       "      <th></th>\n",
       "      <th>i</th>\n",
       "      <th>j</th>\n",
       "      <th>k</th>\n",
       "      <th>mean0</th>\n",
       "      <th>mean1</th>\n",
       "      <th>mean2</th>\n",
       "      <th>mean3</th>\n",
       "      <th>mean4</th>\n",
       "    </tr>\n",
       "  </thead>\n",
       "  <tbody>\n",
       "    <tr>\n",
       "      <th>2162688</th>\n",
       "      <td>0</td>\n",
       "      <td>0</td>\n",
       "      <td>0</td>\n",
       "      <td>0.0</td>\n",
       "      <td>0.0</td>\n",
       "      <td>0.0</td>\n",
       "      <td>0.0</td>\n",
       "      <td>0.0</td>\n",
       "    </tr>\n",
       "    <tr>\n",
       "      <th>2162689</th>\n",
       "      <td>0</td>\n",
       "      <td>0</td>\n",
       "      <td>1</td>\n",
       "      <td>0.0</td>\n",
       "      <td>0.0</td>\n",
       "      <td>0.0</td>\n",
       "      <td>0.0</td>\n",
       "      <td>0.0</td>\n",
       "    </tr>\n",
       "    <tr>\n",
       "      <th>2162690</th>\n",
       "      <td>0</td>\n",
       "      <td>0</td>\n",
       "      <td>2</td>\n",
       "      <td>0.0</td>\n",
       "      <td>0.0</td>\n",
       "      <td>0.0</td>\n",
       "      <td>0.0</td>\n",
       "      <td>0.0</td>\n",
       "    </tr>\n",
       "    <tr>\n",
       "      <th>2162691</th>\n",
       "      <td>0</td>\n",
       "      <td>0</td>\n",
       "      <td>3</td>\n",
       "      <td>0.0</td>\n",
       "      <td>0.0</td>\n",
       "      <td>0.0</td>\n",
       "      <td>0.0</td>\n",
       "      <td>0.0</td>\n",
       "    </tr>\n",
       "    <tr>\n",
       "      <th>2162692</th>\n",
       "      <td>0</td>\n",
       "      <td>0</td>\n",
       "      <td>4</td>\n",
       "      <td>0.0</td>\n",
       "      <td>0.0</td>\n",
       "      <td>0.0</td>\n",
       "      <td>0.0</td>\n",
       "      <td>0.0</td>\n",
       "    </tr>\n",
       "    <tr>\n",
       "      <th>...</th>\n",
       "      <td>...</td>\n",
       "      <td>...</td>\n",
       "      <td>...</td>\n",
       "      <td>...</td>\n",
       "      <td>...</td>\n",
       "      <td>...</td>\n",
       "      <td>...</td>\n",
       "      <td>...</td>\n",
       "    </tr>\n",
       "    <tr>\n",
       "      <th>3063803</th>\n",
       "      <td>43</td>\n",
       "      <td>63</td>\n",
       "      <td>59</td>\n",
       "      <td>0.0</td>\n",
       "      <td>0.0</td>\n",
       "      <td>0.0</td>\n",
       "      <td>0.0</td>\n",
       "      <td>0.0</td>\n",
       "    </tr>\n",
       "    <tr>\n",
       "      <th>3063804</th>\n",
       "      <td>43</td>\n",
       "      <td>63</td>\n",
       "      <td>60</td>\n",
       "      <td>0.0</td>\n",
       "      <td>0.0</td>\n",
       "      <td>0.0</td>\n",
       "      <td>0.0</td>\n",
       "      <td>0.0</td>\n",
       "    </tr>\n",
       "    <tr>\n",
       "      <th>3063805</th>\n",
       "      <td>43</td>\n",
       "      <td>63</td>\n",
       "      <td>61</td>\n",
       "      <td>0.0</td>\n",
       "      <td>0.0</td>\n",
       "      <td>0.0</td>\n",
       "      <td>0.0</td>\n",
       "      <td>0.0</td>\n",
       "    </tr>\n",
       "    <tr>\n",
       "      <th>3063806</th>\n",
       "      <td>43</td>\n",
       "      <td>63</td>\n",
       "      <td>62</td>\n",
       "      <td>0.0</td>\n",
       "      <td>0.0</td>\n",
       "      <td>0.0</td>\n",
       "      <td>0.0</td>\n",
       "      <td>0.0</td>\n",
       "    </tr>\n",
       "    <tr>\n",
       "      <th>3063807</th>\n",
       "      <td>43</td>\n",
       "      <td>63</td>\n",
       "      <td>63</td>\n",
       "      <td>0.0</td>\n",
       "      <td>0.0</td>\n",
       "      <td>0.0</td>\n",
       "      <td>0.0</td>\n",
       "      <td>0.0</td>\n",
       "    </tr>\n",
       "  </tbody>\n",
       "</table>\n",
       "<p>901120 rows × 8 columns</p>\n",
       "</div>"
      ],
      "text/plain": [
       "          i   j   k  mean0  mean1  mean2  mean3  mean4\n",
       "2162688   0   0   0    0.0    0.0    0.0    0.0    0.0\n",
       "2162689   0   0   1    0.0    0.0    0.0    0.0    0.0\n",
       "2162690   0   0   2    0.0    0.0    0.0    0.0    0.0\n",
       "2162691   0   0   3    0.0    0.0    0.0    0.0    0.0\n",
       "2162692   0   0   4    0.0    0.0    0.0    0.0    0.0\n",
       "...      ..  ..  ..    ...    ...    ...    ...    ...\n",
       "3063803  43  63  59    0.0    0.0    0.0    0.0    0.0\n",
       "3063804  43  63  60    0.0    0.0    0.0    0.0    0.0\n",
       "3063805  43  63  61    0.0    0.0    0.0    0.0    0.0\n",
       "3063806  43  63  62    0.0    0.0    0.0    0.0    0.0\n",
       "3063807  43  63  63    0.0    0.0    0.0    0.0    0.0\n",
       "\n",
       "[901120 rows x 8 columns]"
      ]
     },
     "execution_count": 84,
     "metadata": {},
     "output_type": "execute_result"
    }
   ],
   "source": [
    "df_train.iloc[:, 2:-1]"
   ]
  },
  {
   "cell_type": "code",
   "execution_count": 86,
   "metadata": {},
   "outputs": [],
   "source": [
    "X_train2 = df_train.iloc[:, 2:-1].values\n",
    "y_train2 = df_train['theory'].values\n",
    "\n",
    "X_test2 = df_test.iloc[:, 2:-1].values\n",
    "y_test2 = df_test['theory'].values"
   ]
  },
  {
   "cell_type": "code",
   "execution_count": 87,
   "metadata": {},
   "outputs": [
    {
     "name": "stdout",
     "output_type": "stream",
     "text": [
      "(901120, 8)\n",
      "(901120,)\n",
      "(180224, 8)\n",
      "(180224,)\n"
     ]
    }
   ],
   "source": [
    "print(X_train2.shape)\n",
    "print(y_train2.shape)\n",
    "print(X_test2.shape)\n",
    "print(y_test2.shape)"
   ]
  },
  {
   "cell_type": "markdown",
   "metadata": {},
   "source": [
    "# Neural Network"
   ]
  },
  {
   "cell_type": "code",
   "execution_count": 100,
   "metadata": {},
   "outputs": [],
   "source": [
    "myCallbacks = [keras.callbacks.EarlyStopping(monitor =\"val_loss\", \n",
    "                                        mode =\"min\", patience = 5, \n",
    "                                        restore_best_weights = True), \n",
    "               keras.callbacks.EarlyStopping(monitor =\"val_accuracy\", \n",
    "                                        mode =\"max\", patience = 5, \n",
    "                                        restore_best_weights = True)]"
   ]
  },
  {
   "cell_type": "markdown",
   "metadata": {},
   "source": [
    "## Basic with Data1"
   ]
  },
  {
   "cell_type": "code",
   "execution_count": 77,
   "metadata": {},
   "outputs": [],
   "source": [
    "model = keras.Sequential()\n",
    "model.add(Dense(20, activation='relu', input_shape=[len(X_train[0])]))\n",
    "model.add(Dense(1))\n",
    "#\n",
    "model.compile(optimizer= 'adam', loss='mse', metrics=['accuracy'])\n",
    "history = model.fit(X_train, y_train, epochs=20, verbose=0, validation_data=[X_test, y_test], callbacks =[myCallbacks])"
   ]
  },
  {
   "cell_type": "code",
   "execution_count": 78,
   "metadata": {},
   "outputs": [
    {
     "name": "stdout",
     "output_type": "stream",
     "text": [
      "28160/28160 [==============================] - 20s 719us/step\n",
      "85.53211274217192\n",
      "5632/5632 [==============================] - 4s 657us/step\n",
      "87.03901109307228\n"
     ]
    }
   ],
   "source": [
    "train_pred = model.predict(X_train)\n",
    "print(mse(train_pred, y_train))\n",
    "test_pred = model.predict(X_test)\n",
    "print(mse(test_pred, y_test))"
   ]
  },
  {
   "cell_type": "code",
   "execution_count": 79,
   "metadata": {},
   "outputs": [
    {
     "name": "stdout",
     "output_type": "stream",
     "text": [
      "5632/5632 [==============================] - 5s 808us/step - loss: 87.0356 - accuracy: 0.8064\n"
     ]
    },
    {
     "data": {
      "text/plain": [
       "[87.03561401367188, 0.8064020276069641]"
      ]
     },
     "execution_count": 79,
     "metadata": {},
     "output_type": "execute_result"
    }
   ],
   "source": [
    "model.evaluate(X_test, y_test)"
   ]
  },
  {
   "cell_type": "code",
   "execution_count": 81,
   "metadata": {},
   "outputs": [
    {
     "name": "stdout",
     "output_type": "stream",
     "text": [
      "Model: \"sequential_10\"\n",
      "_________________________________________________________________\n",
      " Layer (type)                Output Shape              Param #   \n",
      "=================================================================\n",
      " dense_20 (Dense)            (None, 20)                120       \n",
      "                                                                 \n",
      " dense_21 (Dense)            (None, 1)                 21        \n",
      "                                                                 \n",
      "=================================================================\n",
      "Total params: 141\n",
      "Trainable params: 141\n",
      "Non-trainable params: 0\n",
      "_________________________________________________________________\n"
     ]
    }
   ],
   "source": [
    "model.summary()"
   ]
  },
  {
   "cell_type": "code",
   "execution_count": 88,
   "metadata": {},
   "outputs": [
    {
     "data": {
      "text/plain": [
       "{'loss': [173.6457977294922,\n",
       "  82.79306030273438,\n",
       "  74.0389175415039,\n",
       "  71.92817687988281,\n",
       "  69.80144500732422,\n",
       "  69.0908432006836,\n",
       "  68.36256408691406,\n",
       "  68.08938598632812,\n",
       "  67.7516098022461,\n",
       "  67.67684936523438,\n",
       "  67.53982543945312,\n",
       "  67.24256134033203,\n",
       "  67.06683349609375,\n",
       "  67.19482421875,\n",
       "  67.11072540283203,\n",
       "  66.81205749511719,\n",
       "  66.58445739746094,\n",
       "  66.71542358398438,\n",
       "  66.42630767822266,\n",
       "  66.76673889160156],\n",
       " 'accuracy': [0.8045998215675354,\n",
       "  0.7985739707946777,\n",
       "  0.6856689453125,\n",
       "  0.7254494428634644,\n",
       "  0.7895885109901428,\n",
       "  0.8040072321891785,\n",
       "  0.8057772517204285,\n",
       "  0.8047995567321777,\n",
       "  0.8052201867103577,\n",
       "  0.8065052628517151,\n",
       "  0.806506335735321,\n",
       "  0.8064974546432495,\n",
       "  0.8065152168273926,\n",
       "  0.8065174221992493,\n",
       "  0.8065029978752136,\n",
       "  0.8065130114555359,\n",
       "  0.8065118789672852,\n",
       "  0.8064974546432495,\n",
       "  0.806103527545929,\n",
       "  0.8064908385276794],\n",
       " 'val_loss': [77.06194305419922,\n",
       "  75.17730712890625,\n",
       "  68.72913360595703,\n",
       "  67.291259765625,\n",
       "  74.42076873779297,\n",
       "  77.3499984741211,\n",
       "  65.98587799072266,\n",
       "  63.25094985961914,\n",
       "  69.03726196289062,\n",
       "  66.45630645751953,\n",
       "  66.32620239257812,\n",
       "  78.66802978515625,\n",
       "  64.77630615234375,\n",
       "  63.058448791503906,\n",
       "  62.343929290771484,\n",
       "  64.02507781982422,\n",
       "  62.680503845214844,\n",
       "  63.44459533691406,\n",
       "  65.80490112304688,\n",
       "  87.03561401367188],\n",
       " 'val_accuracy': [0.8063909411430359,\n",
       "  0.8065906763076782,\n",
       "  0.8065518736839294,\n",
       "  0.806396484375,\n",
       "  0.806396484375,\n",
       "  0.8065574169158936,\n",
       "  0.8065518736839294,\n",
       "  0.8065518736839294,\n",
       "  0.806396484375,\n",
       "  0.8063909411430359,\n",
       "  0.8065629601478577,\n",
       "  0.8065574169158936,\n",
       "  0.8065574169158936,\n",
       "  0.806396484375,\n",
       "  0.8065574169158936,\n",
       "  0.806396484375,\n",
       "  0.8065574169158936,\n",
       "  0.8065518736839294,\n",
       "  0.806396484375,\n",
       "  0.8064020276069641]}"
      ]
     },
     "execution_count": 88,
     "metadata": {},
     "output_type": "execute_result"
    }
   ],
   "source": [
    "history.history"
   ]
  },
  {
   "cell_type": "markdown",
   "metadata": {},
   "source": [
    "## Plot"
   ]
  },
  {
   "cell_type": "markdown",
   "metadata": {},
   "source": [
    "### Loss function (MSE)"
   ]
  },
  {
   "cell_type": "code",
   "execution_count": 90,
   "metadata": {
    "scrolled": false
   },
   "outputs": [
    {
     "data": {
      "image/png": "[encoded data removed]",
      "text/plain": [
       "<Figure size 640x480 with 1 Axes>"
      ]
     },
     "metadata": {},
     "output_type": "display_data"
    }
   ],
   "source": [
    "model_df = pd.DataFrame(history.history)\n",
    "model_df[['loss', 'val_loss']].plot()\n",
    "plt.xlabel(\"Number of Epochs\")\n",
    "plt.ylabel(\"Loss\")\n",
    "plt.title(\"Training and Validation Loss Over Training Period\", pad=12);"
   ]
  },
  {
   "cell_type": "markdown",
   "metadata": {},
   "source": [
    "### Accuracy"
   ]
  },
  {
   "cell_type": "code",
   "execution_count": 97,
   "metadata": {},
   "outputs": [
    {
     "data": {
      "image/png": "[encoded data removed]",
      "text/plain": [
       "<Figure size 640x480 with 1 Axes>"
      ]
     },
     "metadata": {},
     "output_type": "display_data"
    }
   ],
   "source": [
    "model_df[['accuracy', 'val_accuracy']].plot()\n",
    "plt.xlabel(\"Number of Epochs\")\n",
    "plt.ylabel(\"Accuracy\")\n",
    "plt.title(\"Training and Validation Accuray Over Training Period\", pad=12);"
   ]
  },
  {
   "cell_type": "code",
   "execution_count": 94,
   "metadata": {},
   "outputs": [
    {
     "name": "stdout",
     "output_type": "stream",
     "text": [
      "Test accuracy: 0.00%\n"
     ]
    },
    {
     "name": "stderr",
     "output_type": "stream",
     "text": [
      "/var/folders/yd/vkjb_lqj2_30lnyhzhjqtg9w0000gp/T/ipykernel_3032/782329503.py:1: DeprecationWarning: `np.float` is a deprecated alias for the builtin `float`. To silence this warning, use `float` by itself. Doing this will not modify any behavior and is safe. If you specifically wanted the numpy scalar type, use `np.float64` here.\n",
      "Deprecated in NumPy 1.20; for more details and guidance: https://numpy.org/devdocs/release/1.20.0-notes.html#deprecations\n",
      "  acc = (np.sum(y_test == test_pred).astype(np.float) / X_test.shape[0])\n"
     ]
    }
   ],
   "source": [
    "acc = (np.sum(y_test == test_pred).astype(np.float) / X_test.shape[0])\n",
    "\n",
    "print('Test accuracy: %.2f%%' % (acc * 100))"
   ]
  },
  {
   "cell_type": "code",
   "execution_count": 96,
   "metadata": {},
   "outputs": [
    {
     "data": {
      "text/plain": [
       "array([[0.26248574],\n",
       "       [0.26248574],\n",
       "       [0.26248574],\n",
       "       ...,\n",
       "       [0.26248574],\n",
       "       [0.26248574],\n",
       "       [0.26248574]], dtype=float32)"
      ]
     },
     "execution_count": 96,
     "metadata": {},
     "output_type": "execute_result"
    }
   ],
   "source": [
    "test_pred"
   ]
  },
  {
   "cell_type": "code",
   "execution_count": null,
   "metadata": {},
   "outputs": [],
   "source": []
  },
  {
   "cell_type": "markdown",
   "metadata": {},
   "source": [
    "## Basic with Data2"
   ]
  },
  {
   "cell_type": "code",
   "execution_count": 103,
   "metadata": {},
   "outputs": [],
   "source": [
    "model2 = keras.Sequential()\n",
    "model2.add(Dense(20, activation='relu', input_shape=[len(X_train2[0])]))\n",
    "model2.add(Dense(1))\n",
    "#\n",
    "model2.compile(optimizer= 'adam', loss='mse', metrics=['accuracy'])\n",
    "history2 = model2.fit(X_train2, y_train2, epochs=20, verbose=0, validation_data=[X_test2, y_test2], callbacks =[myCallbacks])\n"
   ]
  },
  {
   "cell_type": "code",
   "execution_count": 107,
   "metadata": {},
   "outputs": [
    {
     "name": "stdout",
     "output_type": "stream",
     "text": [
      "28160/28160 [==============================] - 19s 685us/step\n",
      "62.05775791926022\n",
      "5632/5632 [==============================] - 5s 813us/step\n",
      "61.75742105883244\n"
     ]
    }
   ],
   "source": [
    "train_pred2 = model2.predict(X_train2)\n",
    "print(mse(train_pred2, y_train2))\n",
    "test_pred2 = model2.predict(X_test2)\n",
    "print(mse(test_pred2, y_test2))"
   ]
  },
  {
   "cell_type": "code",
   "execution_count": 110,
   "metadata": {},
   "outputs": [
    {
     "name": "stdout",
     "output_type": "stream",
     "text": [
      "5632/5632 [==============================] - 5s 821us/step - loss: 61.7572 - accuracy: 0.8054\n"
     ]
    },
    {
     "data": {
      "text/plain": [
       "[61.757198333740234, 0.8053977489471436]"
      ]
     },
     "execution_count": 110,
     "metadata": {},
     "output_type": "execute_result"
    }
   ],
   "source": [
    "model2.evaluate(X_test2, y_test2)"
   ]
  },
  {
   "cell_type": "code",
   "execution_count": 111,
   "metadata": {},
   "outputs": [
    {
     "name": "stdout",
     "output_type": "stream",
     "text": [
      "Model: \"sequential_14\"\n",
      "_________________________________________________________________\n",
      " Layer (type)                Output Shape              Param #   \n",
      "=================================================================\n",
      " dense_28 (Dense)            (None, 20)                180       \n",
      "                                                                 \n",
      " dense_29 (Dense)            (None, 1)                 21        \n",
      "                                                                 \n",
      "=================================================================\n",
      "Total params: 201\n",
      "Trainable params: 201\n",
      "Non-trainable params: 0\n",
      "_________________________________________________________________\n"
     ]
    }
   ],
   "source": [
    "model2.summary()"
   ]
  },
  {
   "cell_type": "code",
   "execution_count": 112,
   "metadata": {},
   "outputs": [
    {
     "data": {
      "text/plain": [
       "{'loss': [179.3175048828125,\n",
       "  73.42144012451172,\n",
       "  70.51079559326172,\n",
       "  69.4720230102539,\n",
       "  68.48657989501953,\n",
       "  67.99214935302734,\n",
       "  67.51224517822266,\n",
       "  66.57466125488281,\n",
       "  66.27994537353516,\n",
       "  65.43144226074219,\n",
       "  65.23480224609375,\n",
       "  64.88019561767578,\n",
       "  64.37574005126953,\n",
       "  64.20289611816406,\n",
       "  63.78620910644531,\n",
       "  63.601165771484375],\n",
       " 'accuracy': [0.7137184739112854,\n",
       "  0.6838656067848206,\n",
       "  0.5781716108322144,\n",
       "  0.6652598977088928,\n",
       "  0.712353527545929,\n",
       "  0.7310158610343933,\n",
       "  0.7299261093139648,\n",
       "  0.7406427264213562,\n",
       "  0.75048828125,\n",
       "  0.7437410950660706,\n",
       "  0.7220625281333923,\n",
       "  0.7316095232963562,\n",
       "  0.7319091558456421,\n",
       "  0.743988573551178,\n",
       "  0.7566494941711426,\n",
       "  0.7719770669937134],\n",
       " 'val_loss': [72.70930480957031,\n",
       "  71.10872650146484,\n",
       "  79.78734588623047,\n",
       "  65.99857330322266,\n",
       "  65.484375,\n",
       "  64.48178100585938,\n",
       "  65.63489532470703,\n",
       "  71.93434143066406,\n",
       "  62.302513122558594,\n",
       "  63.507972717285156,\n",
       "  61.757198333740234,\n",
       "  64.5985336303711,\n",
       "  61.765869140625,\n",
       "  64.39620971679688,\n",
       "  63.1958122253418,\n",
       "  62.89742660522461],\n",
       " 'val_accuracy': [0.7356622815132141,\n",
       "  0.6924993395805359,\n",
       "  0.5015425086021423,\n",
       "  0.7683216333389282,\n",
       "  0.5451937317848206,\n",
       "  0.7979015111923218,\n",
       "  0.7775657176971436,\n",
       "  0.7772105932235718,\n",
       "  0.7354236841201782,\n",
       "  0.7895174622535706,\n",
       "  0.8053977489471436,\n",
       "  0.7985784411430359,\n",
       "  0.8064020276069641,\n",
       "  0.8063132762908936,\n",
       "  0.8064298033714294,\n",
       "  0.7953324913978577]}"
      ]
     },
     "execution_count": 112,
     "metadata": {},
     "output_type": "execute_result"
    }
   ],
   "source": [
    "history2.history"
   ]
  },
  {
   "cell_type": "markdown",
   "metadata": {},
   "source": [
    "## Plot"
   ]
  },
  {
   "cell_type": "markdown",
   "metadata": {},
   "source": [
    "### Loss function (MSE)"
   ]
  },
  {
   "cell_type": "code",
   "execution_count": 113,
   "metadata": {
    "scrolled": false
   },
   "outputs": [
    {
     "data": {
      "image/png": "[encoded data removed]",
      "text/plain": [
       "<Figure size 640x480 with 1 Axes>"
      ]
     },
     "metadata": {},
     "output_type": "display_data"
    }
   ],
   "source": [
    "model_df = pd.DataFrame(history2.history)\n",
    "model_df[['loss', 'val_loss']].plot()\n",
    "plt.xlabel(\"Number of Epochs\")\n",
    "plt.ylabel(\"Loss\")\n",
    "plt.title(\"Training and Validation Loss Over Training Period\", pad=12);"
   ]
  },
  {
   "cell_type": "markdown",
   "metadata": {},
   "source": [
    "### Accuracy"
   ]
  },
  {
   "cell_type": "code",
   "execution_count": 114,
   "metadata": {},
   "outputs": [
    {
     "data": {
      "image/png": "[encoded data removed]",
      "text/plain": [
       "<Figure size 640x480 with 1 Axes>"
      ]
     },
     "metadata": {},
     "output_type": "display_data"
    }
   ],
   "source": [
    "model_df[['accuracy', 'val_accuracy']].plot()\n",
    "plt.xlabel(\"Number of Epochs\")\n",
    "plt.ylabel(\"Accuracy\")\n",
    "plt.title(\"Training and Validation Accuray Over Training Period\", pad=12);"
   ]
  },
  {
   "cell_type": "code",
   "execution_count": 119,
   "metadata": {},
   "outputs": [
    {
     "data": {
      "text/plain": [
       "array([[ 0.6982533 ],\n",
       "       [ 0.6657635 ],\n",
       "       [ 0.6234076 ],\n",
       "       ...,\n",
       "       [-0.80281734],\n",
       "       [-0.81414175],\n",
       "       [-0.82546663]], dtype=float32)"
      ]
     },
     "execution_count": 119,
     "metadata": {},
     "output_type": "execute_result"
    }
   ],
   "source": [
    "test_pred2"
   ]
  },
  {
   "cell_type": "code",
   "execution_count": null,
   "metadata": {},
   "outputs": [],
   "source": []
  },
  {
   "cell_type": "markdown",
   "metadata": {},
   "source": [
    "## Convolutional Neural Network"
   ]
  },
  {
   "cell_type": "code",
   "execution_count": 148,
   "metadata": {},
   "outputs": [],
   "source": [
    "# 1D Conv\n",
    "input_shape = [len(X_train2[0]), 1]\n",
    "\n",
    "model3 = keras.Sequential()\n",
    "model3.add(layers.Conv1D(32, 3, activation =\"relu\", input_shape=input_shape))\n",
    "model3.add(layers.MaxPooling1D(2))\n",
    "model3.add(layers.Conv1D(64, 3, activation =\"relu\"))\n",
    "model3.add(layers.MaxPooling1D(1))\n",
    "model3.add(layers.Flatten())\n",
    "model3.add(layers.Dense(64, activation =\"relu\"))\n",
    "model3.add(layers.Dense(1, activation =\"softmax\"))\n",
    "#\n",
    "model3.compile(optimizer= 'adam', loss='mse', metrics=['accuracy'])\n",
    "history3 = model3.fit(X_train2, y_train2, epochs=20, verbose=0, validation_data=[X_test2, y_test2], callbacks =[myCallbacks])\n"
   ]
  },
  {
   "cell_type": "code",
   "execution_count": 149,
   "metadata": {},
   "outputs": [
    {
     "name": "stdout",
     "output_type": "stream",
     "text": [
      "28160/28160 [==============================] - 23s 821us/step\n",
      "101.07454554252826\n",
      "5632/5632 [==============================] - 4s 750us/step\n",
      "101.32703448493652\n"
     ]
    }
   ],
   "source": [
    "train_pred3 = model3.predict(X_train2)\n",
    "print(mse(train_pred3, y_train2))\n",
    "test_pred3 = model3.predict(X_test2)\n",
    "print(mse(test_pred3, y_test2))"
   ]
  },
  {
   "cell_type": "code",
   "execution_count": 150,
   "metadata": {},
   "outputs": [
    {
     "name": "stdout",
     "output_type": "stream",
     "text": [
      "5632/5632 [==============================] - 5s 892us/step - loss: 101.3271 - accuracy: 5.5487e-06\n"
     ]
    },
    {
     "data": {
      "text/plain": [
       "[101.3271484375, 5.548650733544491e-06]"
      ]
     },
     "execution_count": 150,
     "metadata": {},
     "output_type": "execute_result"
    }
   ],
   "source": [
    "model3.evaluate(X_test2, y_test2)"
   ]
  },
  {
   "cell_type": "code",
   "execution_count": 151,
   "metadata": {},
   "outputs": [
    {
     "name": "stdout",
     "output_type": "stream",
     "text": [
      "Model: \"sequential_22\"\n",
      "_________________________________________________________________\n",
      " Layer (type)                Output Shape              Param #   \n",
      "=================================================================\n",
      " conv1d_9 (Conv1D)           (None, 6, 32)             128       \n",
      "                                                                 \n",
      " max_pooling1d_8 (MaxPooling  (None, 3, 32)            0         \n",
      " 1D)                                                             \n",
      "                                                                 \n",
      " conv1d_10 (Conv1D)          (None, 1, 64)             6208      \n",
      "                                                                 \n",
      " max_pooling1d_9 (MaxPooling  (None, 1, 64)            0         \n",
      " 1D)                                                             \n",
      "                                                                 \n",
      " flatten_3 (Flatten)         (None, 64)                0         \n",
      "                                                                 \n",
      " dense_36 (Dense)            (None, 64)                4160      \n",
      "                                                                 \n",
      " dense_37 (Dense)            (None, 1)                 65        \n",
      "                                                                 \n",
      "=================================================================\n",
      "Total params: 10,561\n",
      "Trainable params: 10,561\n",
      "Non-trainable params: 0\n",
      "_________________________________________________________________\n"
     ]
    }
   ],
   "source": [
    "model3.summary()"
   ]
  },
  {
   "cell_type": "code",
   "execution_count": 152,
   "metadata": {},
   "outputs": [
    {
     "data": {
      "text/plain": [
       "{'loss': [101.0746078491211,\n",
       "  101.07494354248047,\n",
       "  101.07463836669922,\n",
       "  101.07423400878906,\n",
       "  101.0742416381836,\n",
       "  101.0743408203125],\n",
       " 'accuracy': [5.548650733544491e-06,\n",
       "  5.548650733544491e-06,\n",
       "  5.548650733544491e-06,\n",
       "  5.548650733544491e-06,\n",
       "  5.548650733544491e-06,\n",
       "  5.548650733544491e-06],\n",
       " 'val_loss': [101.3271484375,\n",
       "  101.3271484375,\n",
       "  101.3271484375,\n",
       "  101.3271484375,\n",
       "  101.3271484375,\n",
       "  101.3271484375],\n",
       " 'val_accuracy': [5.548650733544491e-06,\n",
       "  5.548650733544491e-06,\n",
       "  5.548650733544491e-06,\n",
       "  5.548650733544491e-06,\n",
       "  5.548650733544491e-06,\n",
       "  5.548650733544491e-06]}"
      ]
     },
     "execution_count": 152,
     "metadata": {},
     "output_type": "execute_result"
    }
   ],
   "source": [
    "history3.history"
   ]
  },
  {
   "cell_type": "markdown",
   "metadata": {},
   "source": [
    "## Plot"
   ]
  },
  {
   "cell_type": "markdown",
   "metadata": {},
   "source": [
    "### Loss function (MSE)"
   ]
  },
  {
   "cell_type": "code",
   "execution_count": 153,
   "metadata": {
    "scrolled": false
   },
   "outputs": [
    {
     "data": {
      "image/png": "[encoded data removed]",
      "text/plain": [
       "<Figure size 640x480 with 1 Axes>"
      ]
     },
     "metadata": {},
     "output_type": "display_data"
    }
   ],
   "source": [
    "model_df = pd.DataFrame(history3.history)\n",
    "model_df[['loss', 'val_loss']].plot()\n",
    "plt.xlabel(\"Number of Epochs\")\n",
    "plt.ylabel(\"Loss\")\n",
    "plt.title(\"Training and Validation Loss Over Training Period\", pad=12);"
   ]
  },
  {
   "cell_type": "markdown",
   "metadata": {},
   "source": [
    "### Accuracy"
   ]
  },
  {
   "cell_type": "code",
   "execution_count": 154,
   "metadata": {},
   "outputs": [
    {
     "data": {
      "image/png": "[encoded data removed]",
      "text/plain": [
       "<Figure size 640x480 with 1 Axes>"
      ]
     },
     "metadata": {},
     "output_type": "display_data"
    }
   ],
   "source": [
    "model_df[['accuracy', 'val_accuracy']].plot()\n",
    "plt.xlabel(\"Number of Epochs\")\n",
    "plt.ylabel(\"Accuracy\")\n",
    "plt.title(\"Training and Validation Accuray Over Training Period\", pad=12);"
   ]
  },
  {
   "cell_type": "code",
   "execution_count": 118,
   "metadata": {},
   "outputs": [
    {
     "data": {
      "text/plain": [
       "array([[ 0.6982533 ],\n",
       "       [ 0.6657635 ],\n",
       "       [ 0.6234076 ],\n",
       "       ...,\n",
       "       [-0.80281734],\n",
       "       [-0.81414175],\n",
       "       [-0.82546663]], dtype=float32)"
      ]
     },
     "execution_count": 118,
     "metadata": {},
     "output_type": "execute_result"
    }
   ],
   "source": [
    "test_pred3"
   ]
  },
  {
   "cell_type": "code",
   "execution_count": null,
   "metadata": {},
   "outputs": [],
   "source": []
  },
  {
   "cell_type": "markdown",
   "metadata": {},
   "source": [
    "# Output image data"
   ]
  },
  {
   "cell_type": "code",
   "execution_count": 115,
   "metadata": {},
   "outputs": [
    {
     "name": "stderr",
     "output_type": "stream",
     "text": [
      "/var/folders/yd/vkjb_lqj2_30lnyhzhjqtg9w0000gp/T/ipykernel_3032/2079570890.py:1: SettingWithCopyWarning: \n",
      "A value is trying to be set on a copy of a slice from a DataFrame.\n",
      "Try using .loc[row_indexer,col_indexer] = value instead\n",
      "\n",
      "See the caveats in the documentation: https://pandas.pydata.org/pandas-docs/stable/user_guide/indexing.html#returning-a-view-versus-a-copy\n",
      "  df_test['predict'] = test_pred\n",
      "/var/folders/yd/vkjb_lqj2_30lnyhzhjqtg9w0000gp/T/ipykernel_3032/2079570890.py:2: SettingWithCopyWarning: \n",
      "A value is trying to be set on a copy of a slice from a DataFrame.\n",
      "Try using .loc[row_indexer,col_indexer] = value instead\n",
      "\n",
      "See the caveats in the documentation: https://pandas.pydata.org/pandas-docs/stable/user_guide/indexing.html#returning-a-view-versus-a-copy\n",
      "  df_test['predict2'] = test_pred2\n"
     ]
    }
   ],
   "source": [
    "df_test['predict'] = test_pred\n",
    "df_test['predict2'] = test_pred2\n",
    "df_test['predict3'] = test_pred3"
   ]
  },
  {
   "cell_type": "code",
   "execution_count": 116,
   "metadata": {},
   "outputs": [],
   "source": [
    "np.savetxt(save_path+\"nn.txt\", df_test[['i', 'j', 'k', 'predict']], fmt=\"%i %i %i %s\")"
   ]
  },
  {
   "cell_type": "code",
   "execution_count": 117,
   "metadata": {},
   "outputs": [],
   "source": [
    "np.savetxt(save_path+\"nn2.txt\", df_test[['i', 'j', 'k', 'predict2']], fmt=\"%i %i %i %s\")"
   ]
  },
  {
   "cell_type": "code",
   "execution_count": null,
   "metadata": {},
   "outputs": [],
   "source": [
    "np.savetxt(save_path+\"nn3.txt\", df_test[['i', 'j', 'k', 'predict3']], fmt=\"%i %i %i %s\")"
   ]
  },
  {
   "cell_type": "code",
   "execution_count": null,
   "metadata": {},
   "outputs": [],
   "source": []
  }
 ],
 "metadata": {
  "kernelspec": {
   "display_name": "Python 3 (ipykernel)",
   "language": "python",
   "name": "python3"
  },
  "language_info": {
   "codemirror_mode": {
    "name": "ipython",
    "version": 3
   },
   "file_extension": ".py",
   "mimetype": "text/x-python",
   "name": "python",
   "nbconvert_exporter": "python",
   "pygments_lexer": "ipython3",
   "version": "3.10.6"
  }
 },
 "nbformat": 4,
 "nbformat_minor": 2
}
