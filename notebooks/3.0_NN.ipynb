{
 "cells": [
  {
   "cell_type": "code",
   "execution_count": 1,
   "metadata": {},
   "outputs": [],
   "source": [
    "import pandas as pd\n",
    "import numpy as np\n",
    "import matplotlib.pyplot as plt\n",
    "import seaborn as sns\n",
    "from scipy import stats\n",
    "import pickle\n",
    "# import nibabel as nib"
   ]
  },
  {
   "cell_type": "code",
   "execution_count": 2,
   "metadata": {},
   "outputs": [],
   "source": [
    "from sklearn.metrics import mean_squared_error as mse\n",
    "from sklearn.metrics import mean_absolute_percentage_error as mape\n",
    "from sklearn.model_selection import train_test_split\n",
    "from sklearn.preprocessing import MinMaxScaler, StandardScaler\n",
    "from sklearn.metrics import r2_score\n",
    "\n",
    "#\n",
    "import tensorflow as tf\n",
    "from tensorflow import keras\n",
    "from tensorflow.keras import layers\n",
    "from tensorflow.keras.layers import Flatten, Dense\n",
    "\n",
    "\n",
    "from sklearn.model_selection import GridSearchCV\n",
    "from sklearn.feature_extraction.text import TfidfVectorizer\n",
    "#from tensorflow.keras.wrappers.scikit_learn import KerasRegressor\n",
    "from scikeras.wrappers import KerasRegressor\n",
    "from sklearn.ensemble import AdaBoostRegressor"
   ]
  },
  {
   "cell_type": "markdown",
   "metadata": {},
   "source": [
    "# Load prepared data"
   ]
  },
  {
   "cell_type": "code",
   "execution_count": 3,
   "metadata": {},
   "outputs": [],
   "source": [
    "dir_path = \"/Users/chikakoolsen/opt/python/thesis/code/tdcs_thesis/\"\n",
    "# dir_path = \"/Users/mriworkshop/Documents/TDCS/code/tdcs_thesis/\"\n",
    "save_path = dir_path+\"data/raw/\"\n",
    "img_path =  dir_path+\"data/processed/\"\n",
    "model_path = dir_path+\"models/\""
   ]
  },
  {
   "cell_type": "markdown",
   "metadata": {},
   "source": [
    "## fmap mean all experiments"
   ]
  },
  {
   "cell_type": "code",
   "execution_count": 37,
   "metadata": {},
   "outputs": [],
   "source": [
    "file_mean = save_path+\"fmap_mean_32to38.txt\"\n",
    "columns_mean =['exp', 'mini_exp', 'i', 'j', 'k', 'mean0', 'mean1', 'mean2', 'mean3', 'mean4', 'theory']\n",
    "data = np.loadtxt(file_mean);"
   ]
  },
  {
   "cell_type": "code",
   "execution_count": 38,
   "metadata": {},
   "outputs": [
    {
     "data": {
      "text/html": [
       "<div>\n",
       "<style scoped>\n",
       "    .dataframe tbody tr th:only-of-type {\n",
       "        vertical-align: middle;\n",
       "    }\n",
       "\n",
       "    .dataframe tbody tr th {\n",
       "        vertical-align: top;\n",
       "    }\n",
       "\n",
       "    .dataframe thead th {\n",
       "        text-align: right;\n",
       "    }\n",
       "</style>\n",
       "<table border=\"1\" class=\"dataframe\">\n",
       "  <thead>\n",
       "    <tr style=\"text-align: right;\">\n",
       "      <th></th>\n",
       "      <th>exp</th>\n",
       "      <th>mini_exp</th>\n",
       "      <th>i</th>\n",
       "      <th>j</th>\n",
       "      <th>k</th>\n",
       "      <th>mean0</th>\n",
       "      <th>mean1</th>\n",
       "      <th>mean2</th>\n",
       "      <th>mean3</th>\n",
       "      <th>mean4</th>\n",
       "      <th>theory</th>\n",
       "    </tr>\n",
       "  </thead>\n",
       "  <tbody>\n",
       "    <tr>\n",
       "      <th>0</th>\n",
       "      <td>36</td>\n",
       "      <td>1</td>\n",
       "      <td>0</td>\n",
       "      <td>0</td>\n",
       "      <td>0</td>\n",
       "      <td>0.0</td>\n",
       "      <td>0.0</td>\n",
       "      <td>0.0</td>\n",
       "      <td>0.0</td>\n",
       "      <td>0.0</td>\n",
       "      <td>0.0</td>\n",
       "    </tr>\n",
       "    <tr>\n",
       "      <th>1</th>\n",
       "      <td>36</td>\n",
       "      <td>1</td>\n",
       "      <td>0</td>\n",
       "      <td>0</td>\n",
       "      <td>1</td>\n",
       "      <td>0.0</td>\n",
       "      <td>0.0</td>\n",
       "      <td>0.0</td>\n",
       "      <td>0.0</td>\n",
       "      <td>0.0</td>\n",
       "      <td>0.0</td>\n",
       "    </tr>\n",
       "    <tr>\n",
       "      <th>2</th>\n",
       "      <td>36</td>\n",
       "      <td>1</td>\n",
       "      <td>0</td>\n",
       "      <td>0</td>\n",
       "      <td>2</td>\n",
       "      <td>0.0</td>\n",
       "      <td>0.0</td>\n",
       "      <td>0.0</td>\n",
       "      <td>0.0</td>\n",
       "      <td>0.0</td>\n",
       "      <td>0.0</td>\n",
       "    </tr>\n",
       "    <tr>\n",
       "      <th>3</th>\n",
       "      <td>36</td>\n",
       "      <td>1</td>\n",
       "      <td>0</td>\n",
       "      <td>0</td>\n",
       "      <td>3</td>\n",
       "      <td>0.0</td>\n",
       "      <td>0.0</td>\n",
       "      <td>0.0</td>\n",
       "      <td>0.0</td>\n",
       "      <td>0.0</td>\n",
       "      <td>0.0</td>\n",
       "    </tr>\n",
       "    <tr>\n",
       "      <th>4</th>\n",
       "      <td>36</td>\n",
       "      <td>1</td>\n",
       "      <td>0</td>\n",
       "      <td>0</td>\n",
       "      <td>4</td>\n",
       "      <td>0.0</td>\n",
       "      <td>0.0</td>\n",
       "      <td>0.0</td>\n",
       "      <td>0.0</td>\n",
       "      <td>0.0</td>\n",
       "      <td>0.0</td>\n",
       "    </tr>\n",
       "    <tr>\n",
       "      <th>...</th>\n",
       "      <td>...</td>\n",
       "      <td>...</td>\n",
       "      <td>...</td>\n",
       "      <td>...</td>\n",
       "      <td>...</td>\n",
       "      <td>...</td>\n",
       "      <td>...</td>\n",
       "      <td>...</td>\n",
       "      <td>...</td>\n",
       "      <td>...</td>\n",
       "      <td>...</td>\n",
       "    </tr>\n",
       "    <tr>\n",
       "      <th>5046267</th>\n",
       "      <td>35</td>\n",
       "      <td>5</td>\n",
       "      <td>43</td>\n",
       "      <td>63</td>\n",
       "      <td>59</td>\n",
       "      <td>0.0</td>\n",
       "      <td>0.0</td>\n",
       "      <td>0.0</td>\n",
       "      <td>0.0</td>\n",
       "      <td>0.0</td>\n",
       "      <td>0.0</td>\n",
       "    </tr>\n",
       "    <tr>\n",
       "      <th>5046268</th>\n",
       "      <td>35</td>\n",
       "      <td>5</td>\n",
       "      <td>43</td>\n",
       "      <td>63</td>\n",
       "      <td>60</td>\n",
       "      <td>0.0</td>\n",
       "      <td>0.0</td>\n",
       "      <td>0.0</td>\n",
       "      <td>0.0</td>\n",
       "      <td>0.0</td>\n",
       "      <td>0.0</td>\n",
       "    </tr>\n",
       "    <tr>\n",
       "      <th>5046269</th>\n",
       "      <td>35</td>\n",
       "      <td>5</td>\n",
       "      <td>43</td>\n",
       "      <td>63</td>\n",
       "      <td>61</td>\n",
       "      <td>0.0</td>\n",
       "      <td>0.0</td>\n",
       "      <td>0.0</td>\n",
       "      <td>0.0</td>\n",
       "      <td>0.0</td>\n",
       "      <td>0.0</td>\n",
       "    </tr>\n",
       "    <tr>\n",
       "      <th>5046270</th>\n",
       "      <td>35</td>\n",
       "      <td>5</td>\n",
       "      <td>43</td>\n",
       "      <td>63</td>\n",
       "      <td>62</td>\n",
       "      <td>0.0</td>\n",
       "      <td>0.0</td>\n",
       "      <td>0.0</td>\n",
       "      <td>0.0</td>\n",
       "      <td>0.0</td>\n",
       "      <td>0.0</td>\n",
       "    </tr>\n",
       "    <tr>\n",
       "      <th>5046271</th>\n",
       "      <td>35</td>\n",
       "      <td>5</td>\n",
       "      <td>43</td>\n",
       "      <td>63</td>\n",
       "      <td>63</td>\n",
       "      <td>0.0</td>\n",
       "      <td>0.0</td>\n",
       "      <td>0.0</td>\n",
       "      <td>0.0</td>\n",
       "      <td>0.0</td>\n",
       "      <td>0.0</td>\n",
       "    </tr>\n",
       "  </tbody>\n",
       "</table>\n",
       "<p>5046272 rows × 11 columns</p>\n",
       "</div>"
      ],
      "text/plain": [
       "         exp  mini_exp   i   j   k  mean0  mean1  mean2  mean3  mean4  theory\n",
       "0         36         1   0   0   0    0.0    0.0    0.0    0.0    0.0     0.0\n",
       "1         36         1   0   0   1    0.0    0.0    0.0    0.0    0.0     0.0\n",
       "2         36         1   0   0   2    0.0    0.0    0.0    0.0    0.0     0.0\n",
       "3         36         1   0   0   3    0.0    0.0    0.0    0.0    0.0     0.0\n",
       "4         36         1   0   0   4    0.0    0.0    0.0    0.0    0.0     0.0\n",
       "...      ...       ...  ..  ..  ..    ...    ...    ...    ...    ...     ...\n",
       "5046267   35         5  43  63  59    0.0    0.0    0.0    0.0    0.0     0.0\n",
       "5046268   35         5  43  63  60    0.0    0.0    0.0    0.0    0.0     0.0\n",
       "5046269   35         5  43  63  61    0.0    0.0    0.0    0.0    0.0     0.0\n",
       "5046270   35         5  43  63  62    0.0    0.0    0.0    0.0    0.0     0.0\n",
       "5046271   35         5  43  63  63    0.0    0.0    0.0    0.0    0.0     0.0\n",
       "\n",
       "[5046272 rows x 11 columns]"
      ]
     },
     "execution_count": 38,
     "metadata": {},
     "output_type": "execute_result"
    }
   ],
   "source": [
    "df = pd.DataFrame(data, columns=columns_mean)\n",
    "df = df.astype({\"exp\": int, \"i\": int, \"j\": int, \"k\": int, \"mini_exp\": int})\n",
    "df"
   ]
  },
  {
   "cell_type": "code",
   "execution_count": 39,
   "metadata": {},
   "outputs": [
    {
     "name": "stdout",
     "output_type": "stream",
     "text": [
      "<class 'pandas.core.frame.DataFrame'>\n",
      "RangeIndex: 5046272 entries, 0 to 5046271\n",
      "Data columns (total 11 columns):\n",
      " #   Column    Dtype  \n",
      "---  ------    -----  \n",
      " 0   exp       int64  \n",
      " 1   mini_exp  int64  \n",
      " 2   i         int64  \n",
      " 3   j         int64  \n",
      " 4   k         int64  \n",
      " 5   mean0     float64\n",
      " 6   mean1     float64\n",
      " 7   mean2     float64\n",
      " 8   mean3     float64\n",
      " 9   mean4     float64\n",
      " 10  theory    float64\n",
      "dtypes: float64(6), int64(5)\n",
      "memory usage: 423.5 MB\n"
     ]
    }
   ],
   "source": [
    "df.info()"
   ]
  },
  {
   "cell_type": "code",
   "execution_count": null,
   "metadata": {},
   "outputs": [],
   "source": []
  },
  {
   "cell_type": "markdown",
   "metadata": {},
   "source": [
    "## Physics Model"
   ]
  },
  {
   "cell_type": "code",
   "execution_count": null,
   "metadata": {},
   "outputs": [],
   "source": [
    "file_mean = save_path+\"fmap_mean_physics.txt\"\n",
    "columns =['exp', 'mini_exp', 'i', 'j', 'k', 'mean']\n",
    "data = np.loadtxt(file_mean);"
   ]
  },
  {
   "cell_type": "code",
   "execution_count": null,
   "metadata": {},
   "outputs": [],
   "source": [
    "df_physics = pd.DataFrame(data, columns=columns)\n",
    "df_physics = df_physics.astype({\"exp\": int, \"i\": int, \"j\": int, \"k\": int, \"mini_exp\": int})"
   ]
  },
  {
   "cell_type": "code",
   "execution_count": null,
   "metadata": {},
   "outputs": [],
   "source": [
    "df_physics.isnull().any()"
   ]
  },
  {
   "cell_type": "code",
   "execution_count": null,
   "metadata": {},
   "outputs": [],
   "source": [
    "df_physics.info()"
   ]
  },
  {
   "cell_type": "code",
   "execution_count": null,
   "metadata": {},
   "outputs": [],
   "source": []
  },
  {
   "cell_type": "markdown",
   "metadata": {},
   "source": [
    "## Drift correction"
   ]
  },
  {
   "cell_type": "code",
   "execution_count": null,
   "metadata": {},
   "outputs": [],
   "source": [
    "file_mean_new = img_path+\"correction.txt\"\n",
    "columns =['exp', 'i', 'j', 'k', 'value']\n",
    "data = np.loadtxt(file_mean_new);"
   ]
  },
  {
   "cell_type": "code",
   "execution_count": null,
   "metadata": {},
   "outputs": [],
   "source": [
    "df_new = pd.DataFrame(data, columns=columns)\n",
    "df_new = df_new.astype({\"exp\": int, \"i\": int, \"j\": int, \"k\": int})"
   ]
  },
  {
   "cell_type": "code",
   "execution_count": null,
   "metadata": {},
   "outputs": [],
   "source": [
    "df_new"
   ]
  },
  {
   "cell_type": "code",
   "execution_count": null,
   "metadata": {},
   "outputs": [],
   "source": []
  },
  {
   "cell_type": "markdown",
   "metadata": {},
   "source": [
    "# Split data"
   ]
  },
  {
   "cell_type": "markdown",
   "metadata": {},
   "source": [
    "## Data 1. fmap mean all experiments"
   ]
  },
  {
   "cell_type": "code",
   "execution_count": 40,
   "metadata": {},
   "outputs": [],
   "source": [
    "df1_train = df[~((df['exp']==36) & ((df['mini_exp']==5) | (df['mini_exp']==6)))]\n",
    "df1_val =  df[(df['exp']==36) & (df['mini_exp']==5)]\n",
    "df1_test =  df[(df['exp']==36) & (df['mini_exp']==6)]"
   ]
  },
  {
   "cell_type": "code",
   "execution_count": 41,
   "metadata": {},
   "outputs": [
    {
     "name": "stdout",
     "output_type": "stream",
     "text": [
      "(4685824, 11)\n",
      "(180224, 11)\n",
      "(180224, 11)\n"
     ]
    }
   ],
   "source": [
    "print(df1_train.shape)\n",
    "print(df1_val.shape)\n",
    "print(df1_test.shape)"
   ]
  },
  {
   "cell_type": "code",
   "execution_count": 42,
   "metadata": {},
   "outputs": [],
   "source": [
    "X1_train = df1_train.iloc[:, 5:-1].values \n",
    "y1_train = df1_train['theory'].values\n",
    "\n",
    "X1_test = df1_val.iloc[:, 5:-1].values \n",
    "y1_test = df1_val['theory'].values\n",
    "\n",
    "X1_pred = df1_test.iloc[:, 5:-1].values \n",
    "y1_pred = df1_val['theory'].values"
   ]
  },
  {
   "cell_type": "code",
   "execution_count": 43,
   "metadata": {},
   "outputs": [
    {
     "name": "stdout",
     "output_type": "stream",
     "text": [
      "(4685824, 5)\n",
      "(4685824,)\n",
      "(180224, 5)\n",
      "(180224,)\n",
      "(180224, 5)\n",
      "(180224,)\n"
     ]
    }
   ],
   "source": [
    "print(X1_train.shape)\n",
    "print(y1_train.shape)\n",
    "print(X1_test.shape)\n",
    "print(y1_test.shape)\n",
    "print(X1_pred.shape)\n",
    "print(y1_pred.shape)"
   ]
  },
  {
   "cell_type": "markdown",
   "metadata": {},
   "source": [
    "## Data2: One experiment"
   ]
  },
  {
   "cell_type": "code",
   "execution_count": 44,
   "metadata": {},
   "outputs": [],
   "source": [
    "df_train = df[(df['exp']==38) & (df['mini_exp']!=6)]\n",
    "df_test = df[(df['exp']==38) & (df['mini_exp']==6)]"
   ]
  },
  {
   "cell_type": "code",
   "execution_count": 12,
   "metadata": {},
   "outputs": [],
   "source": [
    "X2_train = df_train.iloc[:, 5:-1].values\n",
    "y2_train = df_train['theory'].values\n",
    "\n",
    "X2_test = df_test.iloc[:, 5:-1].values\n",
    "y2_test = df_test['theory'].values"
   ]
  },
  {
   "cell_type": "code",
   "execution_count": 13,
   "metadata": {},
   "outputs": [
    {
     "name": "stdout",
     "output_type": "stream",
     "text": [
      "(901120, 5)\n",
      "(901120,)\n",
      "(180224, 5)\n",
      "(180224,)\n"
     ]
    }
   ],
   "source": [
    "print(X2_train.shape)\n",
    "print(y2_train.shape)\n",
    "print(X2_test.shape)\n",
    "print(y2_test.shape)"
   ]
  },
  {
   "cell_type": "markdown",
   "metadata": {},
   "source": [
    "## Data4: None zero"
   ]
  },
  {
   "cell_type": "code",
   "execution_count": 45,
   "metadata": {},
   "outputs": [],
   "source": [
    "df_nonzero = df[(df['mean0']!=0.0) & (df['mean1']!=0.0) & (df['mean2']!=0.0) & (df['mean3']!=0.0) & (df['mean4']!=0.0)]"
   ]
  },
  {
   "cell_type": "code",
   "execution_count": 46,
   "metadata": {},
   "outputs": [
    {
     "data": {
      "text/html": [
       "<div>\n",
       "<style scoped>\n",
       "    .dataframe tbody tr th:only-of-type {\n",
       "        vertical-align: middle;\n",
       "    }\n",
       "\n",
       "    .dataframe tbody tr th {\n",
       "        vertical-align: top;\n",
       "    }\n",
       "\n",
       "    .dataframe thead th {\n",
       "        text-align: right;\n",
       "    }\n",
       "</style>\n",
       "<table border=\"1\" class=\"dataframe\">\n",
       "  <thead>\n",
       "    <tr style=\"text-align: right;\">\n",
       "      <th></th>\n",
       "      <th>exp</th>\n",
       "      <th>mini_exp</th>\n",
       "      <th>i</th>\n",
       "      <th>j</th>\n",
       "      <th>k</th>\n",
       "      <th>mean0</th>\n",
       "      <th>mean1</th>\n",
       "      <th>mean2</th>\n",
       "      <th>mean3</th>\n",
       "      <th>mean4</th>\n",
       "      <th>theory</th>\n",
       "    </tr>\n",
       "  </thead>\n",
       "  <tbody>\n",
       "    <tr>\n",
       "      <th>30760</th>\n",
       "      <td>36</td>\n",
       "      <td>1</td>\n",
       "      <td>7</td>\n",
       "      <td>32</td>\n",
       "      <td>40</td>\n",
       "      <td>118.874306</td>\n",
       "      <td>102.631088</td>\n",
       "      <td>73.720810</td>\n",
       "      <td>46.604973</td>\n",
       "      <td>35.842915</td>\n",
       "      <td>4.988159</td>\n",
       "    </tr>\n",
       "    <tr>\n",
       "      <th>30761</th>\n",
       "      <td>36</td>\n",
       "      <td>1</td>\n",
       "      <td>7</td>\n",
       "      <td>32</td>\n",
       "      <td>41</td>\n",
       "      <td>-69.809402</td>\n",
       "      <td>-88.836975</td>\n",
       "      <td>-115.809509</td>\n",
       "      <td>-147.981812</td>\n",
       "      <td>-157.407669</td>\n",
       "      <td>4.591202</td>\n",
       "    </tr>\n",
       "    <tr>\n",
       "      <th>30762</th>\n",
       "      <td>36</td>\n",
       "      <td>1</td>\n",
       "      <td>7</td>\n",
       "      <td>32</td>\n",
       "      <td>42</td>\n",
       "      <td>-501.965088</td>\n",
       "      <td>-518.938477</td>\n",
       "      <td>-546.379456</td>\n",
       "      <td>-559.395264</td>\n",
       "      <td>-578.390381</td>\n",
       "      <td>4.237324</td>\n",
       "    </tr>\n",
       "    <tr>\n",
       "      <th>30763</th>\n",
       "      <td>36</td>\n",
       "      <td>1</td>\n",
       "      <td>7</td>\n",
       "      <td>32</td>\n",
       "      <td>43</td>\n",
       "      <td>-729.152405</td>\n",
       "      <td>-748.379883</td>\n",
       "      <td>-771.094543</td>\n",
       "      <td>-794.678772</td>\n",
       "      <td>-810.996643</td>\n",
       "      <td>3.918999</td>\n",
       "    </tr>\n",
       "    <tr>\n",
       "      <th>30799</th>\n",
       "      <td>36</td>\n",
       "      <td>1</td>\n",
       "      <td>7</td>\n",
       "      <td>33</td>\n",
       "      <td>15</td>\n",
       "      <td>-1217.971191</td>\n",
       "      <td>-1236.205566</td>\n",
       "      <td>-1261.405762</td>\n",
       "      <td>-1284.039307</td>\n",
       "      <td>-1296.501587</td>\n",
       "      <td>3.371496</td>\n",
       "    </tr>\n",
       "    <tr>\n",
       "      <th>...</th>\n",
       "      <td>...</td>\n",
       "      <td>...</td>\n",
       "      <td>...</td>\n",
       "      <td>...</td>\n",
       "      <td>...</td>\n",
       "      <td>...</td>\n",
       "      <td>...</td>\n",
       "      <td>...</td>\n",
       "      <td>...</td>\n",
       "      <td>...</td>\n",
       "      <td>...</td>\n",
       "    </tr>\n",
       "    <tr>\n",
       "      <th>5011735</th>\n",
       "      <td>35</td>\n",
       "      <td>5</td>\n",
       "      <td>35</td>\n",
       "      <td>36</td>\n",
       "      <td>23</td>\n",
       "      <td>321.924683</td>\n",
       "      <td>342.532410</td>\n",
       "      <td>335.163940</td>\n",
       "      <td>323.188599</td>\n",
       "      <td>335.096008</td>\n",
       "      <td>8.047899</td>\n",
       "    </tr>\n",
       "    <tr>\n",
       "      <th>5011736</th>\n",
       "      <td>35</td>\n",
       "      <td>5</td>\n",
       "      <td>35</td>\n",
       "      <td>36</td>\n",
       "      <td>24</td>\n",
       "      <td>280.548309</td>\n",
       "      <td>296.518066</td>\n",
       "      <td>293.497314</td>\n",
       "      <td>285.676575</td>\n",
       "      <td>294.248779</td>\n",
       "      <td>7.110718</td>\n",
       "    </tr>\n",
       "    <tr>\n",
       "      <th>5011737</th>\n",
       "      <td>35</td>\n",
       "      <td>5</td>\n",
       "      <td>35</td>\n",
       "      <td>36</td>\n",
       "      <td>25</td>\n",
       "      <td>216.092102</td>\n",
       "      <td>232.253601</td>\n",
       "      <td>229.062576</td>\n",
       "      <td>219.861847</td>\n",
       "      <td>229.366959</td>\n",
       "      <td>6.379625</td>\n",
       "    </tr>\n",
       "    <tr>\n",
       "      <th>5011738</th>\n",
       "      <td>35</td>\n",
       "      <td>5</td>\n",
       "      <td>35</td>\n",
       "      <td>36</td>\n",
       "      <td>26</td>\n",
       "      <td>118.546364</td>\n",
       "      <td>135.199966</td>\n",
       "      <td>132.178497</td>\n",
       "      <td>124.143974</td>\n",
       "      <td>132.757050</td>\n",
       "      <td>5.780618</td>\n",
       "    </tr>\n",
       "    <tr>\n",
       "      <th>5011750</th>\n",
       "      <td>35</td>\n",
       "      <td>5</td>\n",
       "      <td>35</td>\n",
       "      <td>36</td>\n",
       "      <td>38</td>\n",
       "      <td>-686.895996</td>\n",
       "      <td>-674.939453</td>\n",
       "      <td>-674.341736</td>\n",
       "      <td>-675.901367</td>\n",
       "      <td>-673.318298</td>\n",
       "      <td>2.270353</td>\n",
       "    </tr>\n",
       "  </tbody>\n",
       "</table>\n",
       "<p>938508 rows × 11 columns</p>\n",
       "</div>"
      ],
      "text/plain": [
       "         exp  mini_exp   i   j   k        mean0        mean1        mean2  \\\n",
       "30760     36         1   7  32  40   118.874306   102.631088    73.720810   \n",
       "30761     36         1   7  32  41   -69.809402   -88.836975  -115.809509   \n",
       "30762     36         1   7  32  42  -501.965088  -518.938477  -546.379456   \n",
       "30763     36         1   7  32  43  -729.152405  -748.379883  -771.094543   \n",
       "30799     36         1   7  33  15 -1217.971191 -1236.205566 -1261.405762   \n",
       "...      ...       ...  ..  ..  ..          ...          ...          ...   \n",
       "5011735   35         5  35  36  23   321.924683   342.532410   335.163940   \n",
       "5011736   35         5  35  36  24   280.548309   296.518066   293.497314   \n",
       "5011737   35         5  35  36  25   216.092102   232.253601   229.062576   \n",
       "5011738   35         5  35  36  26   118.546364   135.199966   132.178497   \n",
       "5011750   35         5  35  36  38  -686.895996  -674.939453  -674.341736   \n",
       "\n",
       "               mean3        mean4    theory  \n",
       "30760      46.604973    35.842915  4.988159  \n",
       "30761    -147.981812  -157.407669  4.591202  \n",
       "30762    -559.395264  -578.390381  4.237324  \n",
       "30763    -794.678772  -810.996643  3.918999  \n",
       "30799   -1284.039307 -1296.501587  3.371496  \n",
       "...              ...          ...       ...  \n",
       "5011735   323.188599   335.096008  8.047899  \n",
       "5011736   285.676575   294.248779  7.110718  \n",
       "5011737   219.861847   229.366959  6.379625  \n",
       "5011738   124.143974   132.757050  5.780618  \n",
       "5011750  -675.901367  -673.318298  2.270353  \n",
       "\n",
       "[938508 rows x 11 columns]"
      ]
     },
     "execution_count": 46,
     "metadata": {},
     "output_type": "execute_result"
    }
   ],
   "source": [
    "df_nonzero"
   ]
  },
  {
   "cell_type": "code",
   "execution_count": 47,
   "metadata": {},
   "outputs": [],
   "source": [
    "df4_train = df_nonzero[~((df_nonzero['exp']==36) & ((df_nonzero['mini_exp']==6) | (df_nonzero['mini_exp']==5)))]\n",
    "df4_test =  df_nonzero[(df_nonzero['exp']==36) & (df_nonzero['mini_exp']==5)]\n",
    "df4_pred =  df_nonzero[(df_nonzero['exp']==36) & (df_nonzero['mini_exp']==6)]"
   ]
  },
  {
   "cell_type": "code",
   "execution_count": 48,
   "metadata": {},
   "outputs": [],
   "source": [
    "X4_train = df4_train.iloc[:, 5:-1].values\n",
    "y4_train = df4_train['theory'].values\n",
    "\n",
    "X4_test = df4_test.iloc[:, 5:-1].values\n",
    "y4_test = df4_test['theory'].values\n",
    "\n",
    "X4_pred = df4_pred.iloc[:, 5:-1].values\n",
    "y4_pred = df4_pred['theory'].values"
   ]
  },
  {
   "cell_type": "code",
   "execution_count": 25,
   "metadata": {},
   "outputs": [],
   "source": [
    "# X = df_nonzero.iloc[:, 5:-1].values\n",
    "# y = df_nonzero['theory'].values\n",
    "\n",
    "# X4_train, X4_test, y4_train, y4_test = train_test_split(\n",
    "#     X, y, test_size=0.3, random_state=0)"
   ]
  },
  {
   "cell_type": "code",
   "execution_count": 49,
   "metadata": {},
   "outputs": [
    {
     "name": "stdout",
     "output_type": "stream",
     "text": [
      "(870485, 5)\n",
      "(870485,)\n",
      "(34011, 5)\n",
      "(34011,)\n",
      "(34012, 5)\n",
      "(34012,)\n"
     ]
    }
   ],
   "source": [
    "# print(X.shape)\n",
    "# print(y.shape)\n",
    "print(X4_train.shape)\n",
    "print(y4_train.shape)\n",
    "print(X4_test.shape)\n",
    "print(y4_test.shape)\n",
    "print(X4_pred.shape)\n",
    "print(y4_pred.shape)"
   ]
  },
  {
   "cell_type": "markdown",
   "metadata": {},
   "source": [
    "# Include zero 36 to 38"
   ]
  },
  {
   "cell_type": "code",
   "execution_count": 16,
   "metadata": {},
   "outputs": [],
   "source": [
    "X_train = X2_train\n",
    "y_train = y2_train\n",
    "X_test = X2_test\n",
    "y_test = y2_test"
   ]
  },
  {
   "cell_type": "code",
   "execution_count": 17,
   "metadata": {},
   "outputs": [
    {
     "name": "stderr",
     "output_type": "stream",
     "text": [
      "2022-11-30 12:15:25.631953: I tensorflow/core/platform/cpu_feature_guard.cc:193] This TensorFlow binary is optimized with oneAPI Deep Neural Network Library (oneDNN) to use the following CPU instructions in performance-critical operations:  SSE4.1 SSE4.2 AVX AVX2 FMA\n",
      "To enable them in other operations, rebuild TensorFlow with the appropriate compiler flags.\n"
     ]
    }
   ],
   "source": [
    "shape = (len(X_train[0]),)\n",
    "model = keras.Sequential()\n",
    "model.add(Dense(10, activation='relu', input_shape=shape)) \n",
    "model.add(Dense(10, activation='relu'))\n",
    "model.add(Dense(10, activation='relu'))\n",
    "model.add(Dense(1, activation='linear'))\n",
    "model.compile(optimizer='adamax', loss='mse', metrics=[\"accuracy\"])"
   ]
  },
  {
   "cell_type": "code",
   "execution_count": 13,
   "metadata": {},
   "outputs": [
    {
     "name": "stdout",
     "output_type": "stream",
     "text": [
      "Epoch 1/100\n",
      "90112/90112 [==============================] - 86s 948us/step - loss: 64.3810 - accuracy: 0.8077 - val_loss: 28.9306 - val_accuracy: 0.8114\n",
      "Epoch 2/100\n",
      "90112/90112 [==============================] - 87s 960us/step - loss: 37.0285 - accuracy: 0.8078 - val_loss: 20.2767 - val_accuracy: 0.8114\n",
      "Epoch 3/100\n",
      "90112/90112 [==============================] - 82s 912us/step - loss: 35.0177 - accuracy: 0.8078 - val_loss: 17.4437 - val_accuracy: 0.8114\n",
      "Epoch 4/100\n",
      "90112/90112 [==============================] - 3168s 35ms/step - loss: 34.0024 - accuracy: 0.8077 - val_loss: 15.2715 - val_accuracy: 0.8114\n",
      "Epoch 5/100\n",
      "90112/90112 [==============================] - 78s 861us/step - loss: 33.4753 - accuracy: 0.8077 - val_loss: 14.6795 - val_accuracy: 0.8112\n",
      "Epoch 6/100\n",
      "90112/90112 [==============================] - 75s 833us/step - loss: 33.2833 - accuracy: 0.8077 - val_loss: 13.7383 - val_accuracy: 0.8112\n",
      "Epoch 7/100\n",
      "90112/90112 [==============================] - 83s 919us/step - loss: 33.0636 - accuracy: 0.8077 - val_loss: 12.7710 - val_accuracy: 0.8112\n",
      "Epoch 8/100\n",
      "90112/90112 [==============================] - 82s 905us/step - loss: 32.8749 - accuracy: 0.8077 - val_loss: 11.9367 - val_accuracy: 0.8112\n",
      "Epoch 9/100\n",
      "90112/90112 [==============================] - 106s 1ms/step - loss: 32.6409 - accuracy: 0.8077 - val_loss: 11.7732 - val_accuracy: 0.8114\n",
      "Epoch 10/100\n",
      "90112/90112 [==============================] - 91s 1ms/step - loss: 32.5277 - accuracy: 0.8077 - val_loss: 11.5642 - val_accuracy: 0.8112\n",
      "Epoch 11/100\n",
      "90112/90112 [==============================] - 82s 913us/step - loss: 32.4524 - accuracy: 0.8076 - val_loss: 12.3502 - val_accuracy: 0.8112\n",
      "Epoch 12/100\n",
      "90112/90112 [==============================] - 1874s 21ms/step - loss: 32.4330 - accuracy: 0.8076 - val_loss: 11.9150 - val_accuracy: 0.8112\n",
      "Epoch 13/100\n",
      "90112/90112 [==============================] - 984s 11ms/step - loss: 32.3573 - accuracy: 0.8076 - val_loss: 11.3073 - val_accuracy: 0.8114\n",
      "Epoch 14/100\n",
      "90112/90112 [==============================] - 73s 815us/step - loss: 32.3154 - accuracy: 0.8076 - val_loss: 11.0109 - val_accuracy: 0.8112\n",
      "Epoch 15/100\n",
      "90112/90112 [==============================] - 77s 852us/step - loss: 32.2414 - accuracy: 0.8076 - val_loss: 11.1014 - val_accuracy: 0.8112\n",
      "Epoch 16/100\n",
      "90112/90112 [==============================] - 991s 11ms/step - loss: 32.2119 - accuracy: 0.8076 - val_loss: 13.1404 - val_accuracy: 0.8112\n",
      "Epoch 17/100\n",
      "90112/90112 [==============================] - 76s 839us/step - loss: 32.1908 - accuracy: 0.8076 - val_loss: 11.5760 - val_accuracy: 0.8112\n",
      "Epoch 18/100\n",
      "90112/90112 [==============================] - 76s 840us/step - loss: 32.2189 - accuracy: 0.8076 - val_loss: 10.9177 - val_accuracy: 0.8112\n",
      "Epoch 19/100\n",
      "90112/90112 [==============================] - 1024s 11ms/step - loss: 32.1545 - accuracy: 0.8076 - val_loss: 11.3190 - val_accuracy: 0.8112\n",
      "Epoch 20/100\n",
      "90112/90112 [==============================] - 2062s 23ms/step - loss: 32.2380 - accuracy: 0.8076 - val_loss: 11.4890 - val_accuracy: 0.8112\n",
      "Epoch 21/100\n",
      "90112/90112 [==============================] - 81s 904us/step - loss: 32.1864 - accuracy: 0.8076 - val_loss: 12.2204 - val_accuracy: 0.8112\n",
      "Epoch 22/100\n",
      "90112/90112 [==============================] - 84s 934us/step - loss: 32.1875 - accuracy: 0.8076 - val_loss: 11.6696 - val_accuracy: 0.8112\n",
      "Epoch 23/100\n",
      "90112/90112 [==============================] - 77s 858us/step - loss: 32.0454 - accuracy: 0.8076 - val_loss: 11.3280 - val_accuracy: 0.8112\n",
      "Epoch 24/100\n",
      "90112/90112 [==============================] - 75s 827us/step - loss: 32.0632 - accuracy: 0.8076 - val_loss: 11.3175 - val_accuracy: 0.8112\n",
      "Epoch 25/100\n",
      "90112/90112 [==============================] - 77s 850us/step - loss: 32.0919 - accuracy: 0.8076 - val_loss: 11.4191 - val_accuracy: 0.8112\n",
      "Epoch 26/100\n",
      "90112/90112 [==============================] - 82s 910us/step - loss: 31.9449 - accuracy: 0.8076 - val_loss: 10.7018 - val_accuracy: 0.8112\n",
      "Epoch 27/100\n",
      "90112/90112 [==============================] - 81s 903us/step - loss: 31.9756 - accuracy: 0.8076 - val_loss: 11.1361 - val_accuracy: 0.8112\n",
      "Epoch 28/100\n",
      "90112/90112 [==============================] - 78s 869us/step - loss: 31.9620 - accuracy: 0.8076 - val_loss: 11.1310 - val_accuracy: 0.8112\n",
      "Epoch 29/100\n",
      "90112/90112 [==============================] - 7278s 81ms/step - loss: 31.9684 - accuracy: 0.8076 - val_loss: 11.1572 - val_accuracy: 0.8112\n",
      "Epoch 30/100\n",
      "90112/90112 [==============================] - 761s 8ms/step - loss: 31.9194 - accuracy: 0.8076 - val_loss: 11.0210 - val_accuracy: 0.8112\n",
      "Epoch 31/100\n",
      "90112/90112 [==============================] - 89s 983us/step - loss: 31.9457 - accuracy: 0.8076 - val_loss: 10.8838 - val_accuracy: 0.8112\n",
      "Epoch 32/100\n",
      "90112/90112 [==============================] - 84s 935us/step - loss: 31.8912 - accuracy: 0.8076 - val_loss: 11.0240 - val_accuracy: 0.8112\n",
      "Epoch 33/100\n",
      "90112/90112 [==============================] - 90s 995us/step - loss: 31.8926 - accuracy: 0.8076 - val_loss: 11.0748 - val_accuracy: 0.8112\n",
      "Epoch 34/100\n",
      "90112/90112 [==============================] - 111s 1ms/step - loss: 31.8975 - accuracy: 0.8076 - val_loss: 10.9283 - val_accuracy: 0.8112\n",
      "Epoch 35/100\n",
      "90112/90112 [==============================] - 3255s 36ms/step - loss: 31.8738 - accuracy: 0.8076 - val_loss: 11.0008 - val_accuracy: 0.8112\n",
      "Epoch 36/100\n",
      "90112/90112 [==============================] - 76s 842us/step - loss: 31.8416 - accuracy: 0.8076 - val_loss: 11.2641 - val_accuracy: 0.8112\n",
      "Epoch 37/100\n",
      "90112/90112 [==============================] - 79s 875us/step - loss: 31.8632 - accuracy: 0.8076 - val_loss: 10.6305 - val_accuracy: 0.8112\n",
      "Epoch 38/100\n",
      "90112/90112 [==============================] - 82s 906us/step - loss: 31.9663 - accuracy: 0.8076 - val_loss: 10.6907 - val_accuracy: 0.8112\n",
      "Epoch 39/100\n",
      "90112/90112 [==============================] - 99s 1ms/step - loss: 31.9056 - accuracy: 0.8076 - val_loss: 10.8699 - val_accuracy: 0.8112\n",
      "Epoch 40/100\n",
      "90112/90112 [==============================] - 99s 1ms/step - loss: 31.9075 - accuracy: 0.8076 - val_loss: 10.7390 - val_accuracy: 0.8112\n",
      "Epoch 41/100\n",
      "90112/90112 [==============================] - 5922s 66ms/step - loss: 31.8238 - accuracy: 0.8076 - val_loss: 10.6555 - val_accuracy: 0.8112\n",
      "Epoch 42/100\n",
      "90112/90112 [==============================] - 77s 860us/step - loss: 31.8849 - accuracy: 0.8076 - val_loss: 10.9764 - val_accuracy: 0.8112\n",
      "Epoch 43/100\n",
      "90112/90112 [==============================] - 82s 914us/step - loss: 31.8619 - accuracy: 0.8076 - val_loss: 10.5812 - val_accuracy: 0.8112\n",
      "Epoch 44/100\n",
      "90112/90112 [==============================] - 104s 1ms/step - loss: 31.8993 - accuracy: 0.8076 - val_loss: 11.2191 - val_accuracy: 0.8112\n",
      "Epoch 45/100\n",
      "90112/90112 [==============================] - 93s 1ms/step - loss: 31.9170 - accuracy: 0.8076 - val_loss: 10.9936 - val_accuracy: 0.8112\n",
      "Epoch 46/100\n",
      "90112/90112 [==============================] - 277s 3ms/step - loss: 31.8693 - accuracy: 0.8076 - val_loss: 11.0179 - val_accuracy: 0.8112\n",
      "Epoch 47/100\n",
      "90112/90112 [==============================] - 92s 1ms/step - loss: 31.9218 - accuracy: 0.8076 - val_loss: 10.9687 - val_accuracy: 0.8112\n",
      "Epoch 48/100\n",
      "90112/90112 [==============================] - 89s 986us/step - loss: 31.8357 - accuracy: 0.8076 - val_loss: 12.0520 - val_accuracy: 0.8112\n",
      "Epoch 49/100\n",
      "90112/90112 [==============================] - 88s 972us/step - loss: 31.8168 - accuracy: 0.8076 - val_loss: 10.7859 - val_accuracy: 0.8112\n",
      "Epoch 50/100\n",
      "90112/90112 [==============================] - 86s 956us/step - loss: 31.9340 - accuracy: 0.8076 - val_loss: 10.7526 - val_accuracy: 0.8112\n",
      "Epoch 51/100\n",
      "90112/90112 [==============================] - 93s 1ms/step - loss: 31.8600 - accuracy: 0.8076 - val_loss: 10.9531 - val_accuracy: 0.8112\n",
      "Epoch 52/100\n",
      "90112/90112 [==============================] - 84s 933us/step - loss: 31.8607 - accuracy: 0.8076 - val_loss: 11.2579 - val_accuracy: 0.8112\n",
      "Epoch 53/100\n",
      "90112/90112 [==============================] - 82s 907us/step - loss: 31.8807 - accuracy: 0.8076 - val_loss: 11.0118 - val_accuracy: 0.8112\n",
      "Epoch 54/100\n",
      "90112/90112 [==============================] - 80s 888us/step - loss: 31.8675 - accuracy: 0.8076 - val_loss: 11.1578 - val_accuracy: 0.8112\n",
      "Epoch 55/100\n",
      "90112/90112 [==============================] - 77s 859us/step - loss: 31.8844 - accuracy: 0.8076 - val_loss: 11.4793 - val_accuracy: 0.8112\n",
      "Epoch 56/100\n",
      "90112/90112 [==============================] - 77s 857us/step - loss: 31.8493 - accuracy: 0.8076 - val_loss: 11.1650 - val_accuracy: 0.8112\n",
      "Epoch 57/100\n",
      "90112/90112 [==============================] - 78s 862us/step - loss: 31.8638 - accuracy: 0.8076 - val_loss: 11.7074 - val_accuracy: 0.8112\n",
      "Epoch 58/100\n",
      "90112/90112 [==============================] - 78s 865us/step - loss: 31.8577 - accuracy: 0.8076 - val_loss: 11.1802 - val_accuracy: 0.8112\n",
      "Epoch 59/100\n",
      "90112/90112 [==============================] - 78s 860us/step - loss: 31.8614 - accuracy: 0.8076 - val_loss: 11.3456 - val_accuracy: 0.8112\n",
      "Epoch 60/100\n",
      "90112/90112 [==============================] - 77s 860us/step - loss: 31.8194 - accuracy: 0.8076 - val_loss: 10.8375 - val_accuracy: 0.8112\n",
      "Epoch 61/100\n",
      "90112/90112 [==============================] - 78s 860us/step - loss: 31.8559 - accuracy: 0.8076 - val_loss: 11.0571 - val_accuracy: 0.8112\n",
      "Epoch 62/100\n",
      "90112/90112 [==============================] - 84s 931us/step - loss: 31.8137 - accuracy: 0.8076 - val_loss: 10.9745 - val_accuracy: 0.8112\n",
      "Epoch 63/100\n",
      "90112/90112 [==============================] - 82s 908us/step - loss: 31.8388 - accuracy: 0.8076 - val_loss: 11.7230 - val_accuracy: 0.8112\n",
      "Epoch 64/100\n",
      "90112/90112 [==============================] - 81s 898us/step - loss: 31.8770 - accuracy: 0.8076 - val_loss: 11.2936 - val_accuracy: 0.8112\n",
      "Epoch 65/100\n",
      "90112/90112 [==============================] - 82s 907us/step - loss: 31.8834 - accuracy: 0.8076 - val_loss: 11.6722 - val_accuracy: 0.8112\n",
      "Epoch 66/100\n",
      "90112/90112 [==============================] - 86s 956us/step - loss: 31.8368 - accuracy: 0.8076 - val_loss: 11.1756 - val_accuracy: 0.8112\n",
      "Epoch 67/100\n",
      "90112/90112 [==============================] - 79s 874us/step - loss: 31.9141 - accuracy: 0.8076 - val_loss: 11.1396 - val_accuracy: 0.8112\n",
      "Epoch 68/100\n",
      "90112/90112 [==============================] - 79s 882us/step - loss: 31.8512 - accuracy: 0.8076 - val_loss: 11.6418 - val_accuracy: 0.8112\n",
      "Epoch 69/100\n",
      "90112/90112 [==============================] - 91s 1ms/step - loss: 31.8437 - accuracy: 0.8076 - val_loss: 10.8331 - val_accuracy: 0.8112\n",
      "Epoch 70/100\n",
      "90112/90112 [==============================] - 78s 870us/step - loss: 31.9200 - accuracy: 0.8076 - val_loss: 10.9121 - val_accuracy: 0.8112\n",
      "Epoch 71/100\n",
      "90112/90112 [==============================] - 81s 899us/step - loss: 31.8372 - accuracy: 0.8076 - val_loss: 10.7566 - val_accuracy: 0.8112\n",
      "Epoch 72/100\n",
      "90112/90112 [==============================] - 78s 866us/step - loss: 31.9184 - accuracy: 0.8076 - val_loss: 10.9303 - val_accuracy: 0.8112\n",
      "Epoch 73/100\n",
      "90112/90112 [==============================] - 80s 892us/step - loss: 31.9147 - accuracy: 0.8076 - val_loss: 11.5174 - val_accuracy: 0.8112\n",
      "Epoch 74/100\n",
      "90112/90112 [==============================] - 81s 900us/step - loss: 31.8353 - accuracy: 0.8076 - val_loss: 10.7587 - val_accuracy: 0.8112\n",
      "Epoch 75/100\n",
      "90112/90112 [==============================] - 82s 912us/step - loss: 31.9323 - accuracy: 0.8076 - val_loss: 10.7644 - val_accuracy: 0.8112\n",
      "Epoch 76/100\n",
      "90112/90112 [==============================] - 84s 929us/step - loss: 31.9670 - accuracy: 0.8076 - val_loss: 11.7131 - val_accuracy: 0.8112\n",
      "Epoch 77/100\n",
      "90112/90112 [==============================] - 84s 934us/step - loss: 32.0613 - accuracy: 0.8076 - val_loss: 12.2819 - val_accuracy: 0.8112\n",
      "Epoch 78/100\n",
      "90112/90112 [==============================] - 81s 898us/step - loss: 32.0392 - accuracy: 0.8076 - val_loss: 11.2378 - val_accuracy: 0.8112\n",
      "Epoch 79/100\n",
      "90112/90112 [==============================] - 79s 882us/step - loss: 32.0751 - accuracy: 0.8076 - val_loss: 11.7002 - val_accuracy: 0.8112\n",
      "Epoch 80/100\n",
      "90112/90112 [==============================] - 82s 912us/step - loss: 32.0132 - accuracy: 0.8076 - val_loss: 12.8048 - val_accuracy: 0.8112\n",
      "Epoch 81/100\n",
      "90112/90112 [==============================] - 80s 891us/step - loss: 32.1154 - accuracy: 0.8076 - val_loss: 11.6868 - val_accuracy: 0.8112\n",
      "Epoch 82/100\n",
      "90112/90112 [==============================] - 85s 942us/step - loss: 32.0708 - accuracy: 0.8076 - val_loss: 12.1977 - val_accuracy: 0.8112\n",
      "Epoch 83/100\n",
      "90112/90112 [==============================] - 85s 949us/step - loss: 32.1769 - accuracy: 0.8076 - val_loss: 12.7372 - val_accuracy: 0.8112\n",
      "Epoch 84/100\n",
      "90112/90112 [==============================] - 79s 879us/step - loss: 32.0370 - accuracy: 0.8076 - val_loss: 11.7947 - val_accuracy: 0.8112\n",
      "Epoch 85/100\n",
      "90112/90112 [==============================] - 77s 855us/step - loss: 32.0725 - accuracy: 0.8076 - val_loss: 11.7074 - val_accuracy: 0.8112\n",
      "Epoch 86/100\n",
      "90112/90112 [==============================] - 77s 853us/step - loss: 32.1479 - accuracy: 0.8076 - val_loss: 10.9637 - val_accuracy: 0.8112\n",
      "Epoch 87/100\n",
      "90112/90112 [==============================] - 77s 855us/step - loss: 32.1325 - accuracy: 0.8076 - val_loss: 12.6714 - val_accuracy: 0.8112\n",
      "Epoch 88/100\n",
      "90112/90112 [==============================] - 77s 851us/step - loss: 32.2330 - accuracy: 0.8076 - val_loss: 11.9755 - val_accuracy: 0.8112\n",
      "Epoch 89/100\n",
      "90112/90112 [==============================] - 77s 859us/step - loss: 32.1416 - accuracy: 0.8076 - val_loss: 11.5426 - val_accuracy: 0.8112\n",
      "Epoch 90/100\n",
      "90112/90112 [==============================] - 77s 855us/step - loss: 32.2530 - accuracy: 0.8076 - val_loss: 11.3309 - val_accuracy: 0.8112\n",
      "Epoch 91/100\n",
      "90112/90112 [==============================] - 82s 908us/step - loss: 32.0836 - accuracy: 0.8076 - val_loss: 11.0502 - val_accuracy: 0.8112\n",
      "Epoch 92/100\n",
      "90112/90112 [==============================] - 77s 855us/step - loss: 32.1699 - accuracy: 0.8076 - val_loss: 12.5639 - val_accuracy: 0.8112\n",
      "Epoch 93/100\n",
      "90112/90112 [==============================] - 77s 857us/step - loss: 32.0902 - accuracy: 0.8076 - val_loss: 10.9864 - val_accuracy: 0.8112\n",
      "Epoch 94/100\n",
      "90112/90112 [==============================] - 77s 853us/step - loss: 32.1477 - accuracy: 0.8076 - val_loss: 10.9202 - val_accuracy: 0.8112\n",
      "Epoch 95/100\n",
      "90112/90112 [==============================] - 77s 858us/step - loss: 32.1187 - accuracy: 0.8076 - val_loss: 11.0975 - val_accuracy: 0.8112\n",
      "Epoch 96/100\n",
      "90112/90112 [==============================] - 78s 863us/step - loss: 32.0772 - accuracy: 0.8076 - val_loss: 11.2338 - val_accuracy: 0.8112\n",
      "Epoch 97/100\n",
      "90112/90112 [==============================] - 77s 856us/step - loss: 32.0810 - accuracy: 0.8076 - val_loss: 11.2616 - val_accuracy: 0.8112\n",
      "Epoch 98/100\n",
      "90112/90112 [==============================] - 77s 854us/step - loss: 31.9589 - accuracy: 0.8076 - val_loss: 10.7578 - val_accuracy: 0.8112\n",
      "Epoch 99/100\n",
      "90112/90112 [==============================] - 77s 857us/step - loss: 32.0319 - accuracy: 0.8076 - val_loss: 11.3360 - val_accuracy: 0.8112\n",
      "Epoch 100/100\n",
      "90112/90112 [==============================] - 77s 857us/step - loss: 31.9525 - accuracy: 0.8076 - val_loss: 11.5037 - val_accuracy: 0.8112\n"
     ]
    }
   ],
   "source": [
    "history = model.fit(X_train, y_train, epochs=100, batch_size=32, validation_data=[X_test, y_test])"
   ]
  },
  {
   "cell_type": "code",
   "execution_count": 14,
   "metadata": {},
   "outputs": [
    {
     "name": "stdout",
     "output_type": "stream",
     "text": [
      "90112/90112 [==============================] - 58s 646us/step\n",
      "32.13113009171346\n",
      "0.8639515224917037\n",
      "5632/5632 [==============================] - 4s 654us/step\n",
      "11.503959924863885\n",
      "0.8785913891610487\n"
     ]
    }
   ],
   "source": [
    "train_pred = model.predict(X_train)\n",
    "print(mse(train_pred, y_train))\n",
    "print(mape(train_pred, y_train))\n",
    "test_pred = model.predict(X_test)\n",
    "print(mse(test_pred, y_test))\n",
    "print(mape(test_pred, y_test))"
   ]
  },
  {
   "cell_type": "code",
   "execution_count": 15,
   "metadata": {},
   "outputs": [
    {
     "name": "stdout",
     "output_type": "stream",
     "text": [
      "5632/5632 [==============================] - 4s 756us/step - loss: 11.5037 - accuracy: 0.8112\n"
     ]
    },
    {
     "data": {
      "text/plain": [
       "[11.503734588623047, 0.8112238049507141]"
      ]
     },
     "execution_count": 15,
     "metadata": {},
     "output_type": "execute_result"
    }
   ],
   "source": [
    "model.evaluate(X_test, y_test)"
   ]
  },
  {
   "cell_type": "code",
   "execution_count": 16,
   "metadata": {},
   "outputs": [
    {
     "data": {
      "text/plain": [
       "array([[1.        , 0.89091311],\n",
       "       [0.89091311, 1.        ]])"
      ]
     },
     "execution_count": 16,
     "metadata": {},
     "output_type": "execute_result"
    }
   ],
   "source": [
    "np.corrcoef(test_pred.flatten(), y_test)"
   ]
  },
  {
   "cell_type": "code",
   "execution_count": 17,
   "metadata": {},
   "outputs": [
    {
     "name": "stdout",
     "output_type": "stream",
     "text": [
      "Model: \"sequential\"\n",
      "_________________________________________________________________\n",
      " Layer (type)                Output Shape              Param #   \n",
      "=================================================================\n",
      " dense (Dense)               (None, 10)                60        \n",
      "                                                                 \n",
      " dense_1 (Dense)             (None, 10)                110       \n",
      "                                                                 \n",
      " dense_2 (Dense)             (None, 10)                110       \n",
      "                                                                 \n",
      " dense_3 (Dense)             (None, 1)                 11        \n",
      "                                                                 \n",
      "=================================================================\n",
      "Total params: 291\n",
      "Trainable params: 291\n",
      "Non-trainable params: 0\n",
      "_________________________________________________________________\n"
     ]
    }
   ],
   "source": [
    "model.summary()"
   ]
  },
  {
   "cell_type": "code",
   "execution_count": 18,
   "metadata": {},
   "outputs": [
    {
     "data": {
      "text/plain": [
       "{'loss': [64.38101959228516,\n",
       "  37.02849197387695,\n",
       "  35.01773452758789,\n",
       "  34.002403259277344,\n",
       "  33.47531509399414,\n",
       "  33.28331756591797,\n",
       "  33.063594818115234,\n",
       "  32.87491989135742,\n",
       "  32.64092254638672,\n",
       "  32.527706146240234,\n",
       "  32.4524040222168,\n",
       "  32.43301010131836,\n",
       "  32.35726547241211,\n",
       "  32.315399169921875,\n",
       "  32.24143981933594,\n",
       "  32.21194076538086,\n",
       "  32.19076156616211,\n",
       "  32.218902587890625,\n",
       "  32.15449142456055,\n",
       "  32.237972259521484,\n",
       "  32.186405181884766,\n",
       "  32.187496185302734,\n",
       "  32.04540252685547,\n",
       "  32.06322479248047,\n",
       "  32.09186553955078,\n",
       "  31.944923400878906,\n",
       "  31.975614547729492,\n",
       "  31.961957931518555,\n",
       "  31.96839141845703,\n",
       "  31.91943359375,\n",
       "  31.945650100708008,\n",
       "  31.8912296295166,\n",
       "  31.892553329467773,\n",
       "  31.897510528564453,\n",
       "  31.873777389526367,\n",
       "  31.841564178466797,\n",
       "  31.863245010375977,\n",
       "  31.966325759887695,\n",
       "  31.905590057373047,\n",
       "  31.907508850097656,\n",
       "  31.823766708374023,\n",
       "  31.884929656982422,\n",
       "  31.86187171936035,\n",
       "  31.89930534362793,\n",
       "  31.916975021362305,\n",
       "  31.86927604675293,\n",
       "  31.92180824279785,\n",
       "  31.835693359375,\n",
       "  31.816755294799805,\n",
       "  31.93402099609375,\n",
       "  31.859973907470703,\n",
       "  31.860742568969727,\n",
       "  31.88067054748535,\n",
       "  31.86748695373535,\n",
       "  31.884410858154297,\n",
       "  31.849332809448242,\n",
       "  31.863794326782227,\n",
       "  31.85765838623047,\n",
       "  31.86138153076172,\n",
       "  31.819427490234375,\n",
       "  31.85590171813965,\n",
       "  31.813718795776367,\n",
       "  31.83880615234375,\n",
       "  31.876989364624023,\n",
       "  31.883350372314453,\n",
       "  31.836814880371094,\n",
       "  31.914140701293945,\n",
       "  31.851158142089844,\n",
       "  31.843730926513672,\n",
       "  31.920013427734375,\n",
       "  31.8371639251709,\n",
       "  31.918363571166992,\n",
       "  31.914745330810547,\n",
       "  31.83527374267578,\n",
       "  31.932334899902344,\n",
       "  31.967018127441406,\n",
       "  32.06130599975586,\n",
       "  32.0391960144043,\n",
       "  32.07512283325195,\n",
       "  32.01318359375,\n",
       "  32.11537170410156,\n",
       "  32.070838928222656,\n",
       "  32.17692565917969,\n",
       "  32.03703689575195,\n",
       "  32.07252883911133,\n",
       "  32.147945404052734,\n",
       "  32.13247299194336,\n",
       "  32.232967376708984,\n",
       "  32.14155578613281,\n",
       "  32.253021240234375,\n",
       "  32.08357238769531,\n",
       "  32.1699104309082,\n",
       "  32.090206146240234,\n",
       "  32.14767074584961,\n",
       "  32.11871337890625,\n",
       "  32.077205657958984,\n",
       "  32.08098602294922,\n",
       "  31.958892822265625,\n",
       "  32.031917572021484,\n",
       "  31.9525203704834],\n",
       " 'accuracy': [0.8076539635658264,\n",
       "  0.8077704906463623,\n",
       "  0.8077625036239624,\n",
       "  0.8077316284179688,\n",
       "  0.8077035546302795,\n",
       "  0.807681679725647,\n",
       "  0.807664692401886,\n",
       "  0.8076539635658264,\n",
       "  0.807654619216919,\n",
       "  0.8076501488685608,\n",
       "  0.8076480627059937,\n",
       "  0.8076400756835938,\n",
       "  0.8076425194740295,\n",
       "  0.8076393604278564,\n",
       "  0.8076397180557251,\n",
       "  0.8076418042182922,\n",
       "  0.8076387047767639,\n",
       "  0.8076338171958923,\n",
       "  0.8076258301734924,\n",
       "  0.8076116442680359,\n",
       "  0.807607114315033,\n",
       "  0.8076061010360718,\n",
       "  0.8076064586639404,\n",
       "  0.807607114315033,\n",
       "  0.8076074719429016,\n",
       "  0.8076074719429016,\n",
       "  0.807607114315033,\n",
       "  0.8076074719429016,\n",
       "  0.8076085448265076,\n",
       "  0.8076078295707703,\n",
       "  0.8076095581054688,\n",
       "  0.8076085448265076,\n",
       "  0.8076078295707703,\n",
       "  0.8076095581054688,\n",
       "  0.8076081871986389,\n",
       "  0.8076074719429016,\n",
       "  0.8076081871986389,\n",
       "  0.8076085448265076,\n",
       "  0.8076078295707703,\n",
       "  0.8076078295707703,\n",
       "  0.8076085448265076,\n",
       "  0.8076074719429016,\n",
       "  0.8076081871986389,\n",
       "  0.8076078295707703,\n",
       "  0.8076092004776001,\n",
       "  0.8076088428497314,\n",
       "  0.8076081871986389,\n",
       "  0.8076085448265076,\n",
       "  0.8076085448265076,\n",
       "  0.8076088428497314,\n",
       "  0.8076085448265076,\n",
       "  0.8076081871986389,\n",
       "  0.8076088428497314,\n",
       "  0.8076092004776001,\n",
       "  0.8076092004776001,\n",
       "  0.8076081871986389,\n",
       "  0.8076095581054688,\n",
       "  0.8076081871986389,\n",
       "  0.8076085448265076,\n",
       "  0.8076092004776001,\n",
       "  0.8076092004776001,\n",
       "  0.8076088428497314,\n",
       "  0.8076081871986389,\n",
       "  0.8076085448265076,\n",
       "  0.8076081871986389,\n",
       "  0.8076092004776001,\n",
       "  0.8076088428497314,\n",
       "  0.8076088428497314,\n",
       "  0.8076064586639404,\n",
       "  0.807607114315033,\n",
       "  0.8076085448265076,\n",
       "  0.8076081871986389,\n",
       "  0.8076092004776001,\n",
       "  0.8076085448265076,\n",
       "  0.8076092004776001,\n",
       "  0.8076085448265076,\n",
       "  0.8076078295707703,\n",
       "  0.8076095581054688,\n",
       "  0.8076081871986389,\n",
       "  0.8076078295707703,\n",
       "  0.8076088428497314,\n",
       "  0.8076081871986389,\n",
       "  0.8076085448265076,\n",
       "  0.8076085448265076,\n",
       "  0.8076092004776001,\n",
       "  0.8076088428497314,\n",
       "  0.8076105713844299,\n",
       "  0.8076105713844299,\n",
       "  0.8076095581054688,\n",
       "  0.8076099157333374,\n",
       "  0.8076092004776001,\n",
       "  0.8076120018959045,\n",
       "  0.8076099157333374,\n",
       "  0.8076081871986389,\n",
       "  0.8076081871986389,\n",
       "  0.8076095581054688,\n",
       "  0.8076099157333374,\n",
       "  0.8076074719429016,\n",
       "  0.807610273361206,\n",
       "  0.8076099157333374],\n",
       " 'val_loss': [28.93059539794922,\n",
       "  20.27674674987793,\n",
       "  17.44365692138672,\n",
       "  15.271529197692871,\n",
       "  14.679473876953125,\n",
       "  13.738285064697266,\n",
       "  12.770979881286621,\n",
       "  11.936718940734863,\n",
       "  11.773177146911621,\n",
       "  11.564163208007812,\n",
       "  12.350152969360352,\n",
       "  11.915022850036621,\n",
       "  11.307333946228027,\n",
       "  11.010860443115234,\n",
       "  11.10144329071045,\n",
       "  13.140399932861328,\n",
       "  11.57596492767334,\n",
       "  10.917652130126953,\n",
       "  11.319022178649902,\n",
       "  11.489017486572266,\n",
       "  12.220381736755371,\n",
       "  11.669573783874512,\n",
       "  11.327950477600098,\n",
       "  11.317488670349121,\n",
       "  11.419096946716309,\n",
       "  10.701821327209473,\n",
       "  11.136083602905273,\n",
       "  11.131031036376953,\n",
       "  11.157173156738281,\n",
       "  11.021035194396973,\n",
       "  10.883806228637695,\n",
       "  11.023988723754883,\n",
       "  11.074808120727539,\n",
       "  10.928290367126465,\n",
       "  11.000779151916504,\n",
       "  11.264143943786621,\n",
       "  10.630478858947754,\n",
       "  10.690657615661621,\n",
       "  10.86989688873291,\n",
       "  10.739025115966797,\n",
       "  10.65546989440918,\n",
       "  10.97638988494873,\n",
       "  10.581214904785156,\n",
       "  11.219082832336426,\n",
       "  10.993609428405762,\n",
       "  11.017912864685059,\n",
       "  10.968728065490723,\n",
       "  12.051983833312988,\n",
       "  10.785933494567871,\n",
       "  10.75257396697998,\n",
       "  10.953118324279785,\n",
       "  11.257869720458984,\n",
       "  11.011756896972656,\n",
       "  11.157753944396973,\n",
       "  11.479255676269531,\n",
       "  11.165045738220215,\n",
       "  11.707425117492676,\n",
       "  11.180167198181152,\n",
       "  11.34557819366455,\n",
       "  10.837498664855957,\n",
       "  11.057101249694824,\n",
       "  10.974491119384766,\n",
       "  11.722979545593262,\n",
       "  11.29355525970459,\n",
       "  11.672192573547363,\n",
       "  11.175594329833984,\n",
       "  11.13961410522461,\n",
       "  11.641763687133789,\n",
       "  10.833093643188477,\n",
       "  10.912102699279785,\n",
       "  10.75662899017334,\n",
       "  10.930292129516602,\n",
       "  11.51744556427002,\n",
       "  10.75871753692627,\n",
       "  10.764420509338379,\n",
       "  11.713118553161621,\n",
       "  12.281879425048828,\n",
       "  11.237778663635254,\n",
       "  11.700173377990723,\n",
       "  12.804798126220703,\n",
       "  11.686803817749023,\n",
       "  12.19765853881836,\n",
       "  12.737228393554688,\n",
       "  11.794747352600098,\n",
       "  11.70743179321289,\n",
       "  10.96366024017334,\n",
       "  12.671420097351074,\n",
       "  11.975454330444336,\n",
       "  11.542563438415527,\n",
       "  11.330854415893555,\n",
       "  11.050201416015625,\n",
       "  12.563907623291016,\n",
       "  10.986418724060059,\n",
       "  10.920177459716797,\n",
       "  11.097469329833984,\n",
       "  11.233802795410156,\n",
       "  11.261578559875488,\n",
       "  10.75777816772461,\n",
       "  11.336007118225098,\n",
       "  11.503734588623047],\n",
       " 'val_accuracy': [0.8114069104194641,\n",
       "  0.8114124536514282,\n",
       "  0.8114124536514282,\n",
       "  0.8113958239555359,\n",
       "  0.8112127184867859,\n",
       "  0.8112293481826782,\n",
       "  0.8112238049507141,\n",
       "  0.8112127184867859,\n",
       "  0.8114069104194641,\n",
       "  0.8112127184867859,\n",
       "  0.8112238049507141,\n",
       "  0.81121826171875,\n",
       "  0.8114069104194641,\n",
       "  0.81121826171875,\n",
       "  0.8112127184867859,\n",
       "  0.81121826171875,\n",
       "  0.8112127184867859,\n",
       "  0.81121826171875,\n",
       "  0.8112348914146423,\n",
       "  0.81121826171875,\n",
       "  0.8112238049507141,\n",
       "  0.8112238049507141,\n",
       "  0.81121826171875,\n",
       "  0.81121826171875,\n",
       "  0.8112127184867859,\n",
       "  0.81121826171875,\n",
       "  0.81121826171875,\n",
       "  0.81121826171875,\n",
       "  0.8112238049507141,\n",
       "  0.8112127184867859,\n",
       "  0.8112127184867859,\n",
       "  0.8112238049507141,\n",
       "  0.81121826171875,\n",
       "  0.8112127184867859,\n",
       "  0.8112071752548218,\n",
       "  0.8112127184867859,\n",
       "  0.8112127184867859,\n",
       "  0.8112127184867859,\n",
       "  0.8112127184867859,\n",
       "  0.8112127184867859,\n",
       "  0.8112238049507141,\n",
       "  0.81121826171875,\n",
       "  0.81121826171875,\n",
       "  0.8112127184867859,\n",
       "  0.8112127184867859,\n",
       "  0.8112238049507141,\n",
       "  0.8112127184867859,\n",
       "  0.8112238049507141,\n",
       "  0.8112238049507141,\n",
       "  0.81121826171875,\n",
       "  0.8112238049507141,\n",
       "  0.81121826171875,\n",
       "  0.8112238049507141,\n",
       "  0.8112127184867859,\n",
       "  0.81121826171875,\n",
       "  0.81121826171875,\n",
       "  0.8112238049507141,\n",
       "  0.8112127184867859,\n",
       "  0.8112238049507141,\n",
       "  0.8112127184867859,\n",
       "  0.8112127184867859,\n",
       "  0.8112238049507141,\n",
       "  0.81121826171875,\n",
       "  0.81121826171875,\n",
       "  0.8112127184867859,\n",
       "  0.81121826171875,\n",
       "  0.8112238049507141,\n",
       "  0.81121826171875,\n",
       "  0.81121826171875,\n",
       "  0.8112127184867859,\n",
       "  0.8112238049507141,\n",
       "  0.81121826171875,\n",
       "  0.81121826171875,\n",
       "  0.81121826171875,\n",
       "  0.81121826171875,\n",
       "  0.81121826171875,\n",
       "  0.8112127184867859,\n",
       "  0.8112127184867859,\n",
       "  0.81121826171875,\n",
       "  0.8112127184867859,\n",
       "  0.8112127184867859,\n",
       "  0.8112127184867859,\n",
       "  0.81121826171875,\n",
       "  0.81121826171875,\n",
       "  0.81121826171875,\n",
       "  0.81121826171875,\n",
       "  0.8112127184867859,\n",
       "  0.81121826171875,\n",
       "  0.8112238049507141,\n",
       "  0.8112238049507141,\n",
       "  0.8112127184867859,\n",
       "  0.8112127184867859,\n",
       "  0.8112127184867859,\n",
       "  0.81121826171875,\n",
       "  0.8112127184867859,\n",
       "  0.8112127184867859,\n",
       "  0.81121826171875,\n",
       "  0.8112127184867859,\n",
       "  0.81121826171875,\n",
       "  0.8112238049507141]}"
      ]
     },
     "execution_count": 18,
     "metadata": {},
     "output_type": "execute_result"
    }
   ],
   "source": [
    "history.history"
   ]
  },
  {
   "cell_type": "code",
   "execution_count": 19,
   "metadata": {},
   "outputs": [
    {
     "name": "stdout",
     "output_type": "stream",
     "text": [
      "INFO:tensorflow:Assets written to: ram:///var/folders/yd/vkjb_lqj2_30lnyhzhjqtg9w0000gp/T/tmplsx3uus6/assets\n"
     ]
    }
   ],
   "source": [
    "file = img_path+'model_36to38.sav'\n",
    "pickle.dump(model, open(file, 'wb'))"
   ]
  },
  {
   "cell_type": "code",
   "execution_count": 21,
   "metadata": {},
   "outputs": [
    {
     "name": "stdout",
     "output_type": "stream",
     "text": [
      "1063/1063 [==============================] - 1s 842us/step - loss: 56.8737 - accuracy: 8.8204e-04\n",
      "[56.87367630004883, 0.0008820416405797005]\n"
     ]
    }
   ],
   "source": [
    "load_model = pickle.load(open(file, 'rb'))\n",
    "result = load_model.evaluate(X_test, y_test)\n",
    "print(result)"
   ]
  },
  {
   "cell_type": "markdown",
   "metadata": {},
   "source": [
    "## Plot"
   ]
  },
  {
   "cell_type": "markdown",
   "metadata": {},
   "source": [
    "### Loss function (MSE)"
   ]
  },
  {
   "cell_type": "code",
   "execution_count": 20,
   "metadata": {
    "scrolled": false
   },
   "outputs": [
    {
     "data": {
      "image/png": "[encoded data removed]",
      "text/plain": [
       "<Figure size 640x480 with 1 Axes>"
      ]
     },
     "metadata": {},
     "output_type": "display_data"
    }
   ],
   "source": [
    "model_df = pd.DataFrame(history.history)\n",
    "model_df[['loss', 'val_loss']].plot()\n",
    "plt.xlabel(\"Number of Epochs\")\n",
    "plt.ylabel(\"Loss\")\n",
    "plt.title(\"Training and Validation Loss Over Training Period\", pad=12);"
   ]
  },
  {
   "cell_type": "markdown",
   "metadata": {},
   "source": [
    "### Accuracy"
   ]
  },
  {
   "cell_type": "code",
   "execution_count": 21,
   "metadata": {},
   "outputs": [
    {
     "data": {
      "image/png": "[encoded data removed]",
      "text/plain": [
       "<Figure size 640x480 with 1 Axes>"
      ]
     },
     "metadata": {},
     "output_type": "display_data"
    }
   ],
   "source": [
    "model_df[['accuracy', 'val_accuracy']].plot()\n",
    "plt.xlabel(\"Number of Epochs\")\n",
    "plt.ylabel(\"Accuracy\")\n",
    "plt.title(\"Training and Validation Accuray Over Training Period\", pad=12);"
   ]
  },
  {
   "cell_type": "markdown",
   "metadata": {},
   "source": [
    "### Theory vs Predict"
   ]
  },
  {
   "cell_type": "code",
   "execution_count": 22,
   "metadata": {
    "scrolled": false
   },
   "outputs": [
    {
     "name": "stdout",
     "output_type": "stream",
     "text": [
      "r: 0.89091%, st_er: 0.000897%\n",
      "y = 0.7469*x + 0.2675\n"
     ]
    },
    {
     "data": {
      "image/png": "[encoded data removed]",
      "text/plain": [
       "<Figure size 640x480 with 1 Axes>"
      ]
     },
     "metadata": {},
     "output_type": "display_data"
    }
   ],
   "source": [
    "x = y_test.flatten()\n",
    "y = test_pred.flatten()\n",
    "m, b, r, p, st_er = stats.linregress(x,y) \n",
    "\n",
    "yfit = [b + m * xi for xi in x]\n",
    "yisx = [0 + 1 * xi for xi in x]\n",
    "plt.plot(x, yfit)\n",
    "plt.plot(x, yisx)\n",
    "\n",
    "plt.scatter(y_test, test_pred,  color='black')\n",
    "plt.axis([0,100, 0, 100])\n",
    "plt.xlabel(\"Theory (nT)\")\n",
    "plt.ylabel(\"Prediction (nT)\")\n",
    "plt.title(\"Neural Network Prediction vs Theory\", fontsize=15)\n",
    "# print(r, st_er)\n",
    "print(\"r: {:.5f}, st_er: {:.6f}\".format(r, st_er))\n",
    "print(\"y = \"+str(round(m,4))+\"*x + \"+str(round(b,4)))"
   ]
  },
  {
   "cell_type": "markdown",
   "metadata": {},
   "source": [
    "# Output data"
   ]
  },
  {
   "cell_type": "code",
   "execution_count": 24,
   "metadata": {},
   "outputs": [
    {
     "name": "stdout",
     "output_type": "stream",
     "text": [
      "5632/5632 [==============================] - 4s 737us/step\n"
     ]
    }
   ],
   "source": [
    "test_pred = model.predict(X1_pred)"
   ]
  },
  {
   "cell_type": "code",
   "execution_count": 25,
   "metadata": {},
   "outputs": [
    {
     "data": {
      "text/html": [
       "<div>\n",
       "<style scoped>\n",
       "    .dataframe tbody tr th:only-of-type {\n",
       "        vertical-align: middle;\n",
       "    }\n",
       "\n",
       "    .dataframe tbody tr th {\n",
       "        vertical-align: top;\n",
       "    }\n",
       "\n",
       "    .dataframe thead th {\n",
       "        text-align: right;\n",
       "    }\n",
       "</style>\n",
       "<table border=\"1\" class=\"dataframe\">\n",
       "  <thead>\n",
       "    <tr style=\"text-align: right;\">\n",
       "      <th></th>\n",
       "      <th>exp</th>\n",
       "      <th>mini_exp</th>\n",
       "      <th>i</th>\n",
       "      <th>j</th>\n",
       "      <th>k</th>\n",
       "      <th>mean0</th>\n",
       "      <th>mean1</th>\n",
       "      <th>mean2</th>\n",
       "      <th>mean3</th>\n",
       "      <th>mean4</th>\n",
       "      <th>theory</th>\n",
       "    </tr>\n",
       "  </thead>\n",
       "  <tbody>\n",
       "    <tr>\n",
       "      <th>901120</th>\n",
       "      <td>36</td>\n",
       "      <td>6</td>\n",
       "      <td>0</td>\n",
       "      <td>0</td>\n",
       "      <td>0</td>\n",
       "      <td>0.0</td>\n",
       "      <td>0.0</td>\n",
       "      <td>0.0</td>\n",
       "      <td>0.0</td>\n",
       "      <td>0.0</td>\n",
       "      <td>0.0</td>\n",
       "    </tr>\n",
       "    <tr>\n",
       "      <th>901121</th>\n",
       "      <td>36</td>\n",
       "      <td>6</td>\n",
       "      <td>0</td>\n",
       "      <td>0</td>\n",
       "      <td>1</td>\n",
       "      <td>0.0</td>\n",
       "      <td>0.0</td>\n",
       "      <td>0.0</td>\n",
       "      <td>0.0</td>\n",
       "      <td>0.0</td>\n",
       "      <td>0.0</td>\n",
       "    </tr>\n",
       "    <tr>\n",
       "      <th>901122</th>\n",
       "      <td>36</td>\n",
       "      <td>6</td>\n",
       "      <td>0</td>\n",
       "      <td>0</td>\n",
       "      <td>2</td>\n",
       "      <td>0.0</td>\n",
       "      <td>0.0</td>\n",
       "      <td>0.0</td>\n",
       "      <td>0.0</td>\n",
       "      <td>0.0</td>\n",
       "      <td>0.0</td>\n",
       "    </tr>\n",
       "    <tr>\n",
       "      <th>901123</th>\n",
       "      <td>36</td>\n",
       "      <td>6</td>\n",
       "      <td>0</td>\n",
       "      <td>0</td>\n",
       "      <td>3</td>\n",
       "      <td>0.0</td>\n",
       "      <td>0.0</td>\n",
       "      <td>0.0</td>\n",
       "      <td>0.0</td>\n",
       "      <td>0.0</td>\n",
       "      <td>0.0</td>\n",
       "    </tr>\n",
       "    <tr>\n",
       "      <th>901124</th>\n",
       "      <td>36</td>\n",
       "      <td>6</td>\n",
       "      <td>0</td>\n",
       "      <td>0</td>\n",
       "      <td>4</td>\n",
       "      <td>0.0</td>\n",
       "      <td>0.0</td>\n",
       "      <td>0.0</td>\n",
       "      <td>0.0</td>\n",
       "      <td>0.0</td>\n",
       "      <td>0.0</td>\n",
       "    </tr>\n",
       "    <tr>\n",
       "      <th>...</th>\n",
       "      <td>...</td>\n",
       "      <td>...</td>\n",
       "      <td>...</td>\n",
       "      <td>...</td>\n",
       "      <td>...</td>\n",
       "      <td>...</td>\n",
       "      <td>...</td>\n",
       "      <td>...</td>\n",
       "      <td>...</td>\n",
       "      <td>...</td>\n",
       "      <td>...</td>\n",
       "    </tr>\n",
       "    <tr>\n",
       "      <th>1081339</th>\n",
       "      <td>36</td>\n",
       "      <td>6</td>\n",
       "      <td>43</td>\n",
       "      <td>63</td>\n",
       "      <td>59</td>\n",
       "      <td>0.0</td>\n",
       "      <td>0.0</td>\n",
       "      <td>0.0</td>\n",
       "      <td>0.0</td>\n",
       "      <td>0.0</td>\n",
       "      <td>0.0</td>\n",
       "    </tr>\n",
       "    <tr>\n",
       "      <th>1081340</th>\n",
       "      <td>36</td>\n",
       "      <td>6</td>\n",
       "      <td>43</td>\n",
       "      <td>63</td>\n",
       "      <td>60</td>\n",
       "      <td>0.0</td>\n",
       "      <td>0.0</td>\n",
       "      <td>0.0</td>\n",
       "      <td>0.0</td>\n",
       "      <td>0.0</td>\n",
       "      <td>0.0</td>\n",
       "    </tr>\n",
       "    <tr>\n",
       "      <th>1081341</th>\n",
       "      <td>36</td>\n",
       "      <td>6</td>\n",
       "      <td>43</td>\n",
       "      <td>63</td>\n",
       "      <td>61</td>\n",
       "      <td>0.0</td>\n",
       "      <td>0.0</td>\n",
       "      <td>0.0</td>\n",
       "      <td>0.0</td>\n",
       "      <td>0.0</td>\n",
       "      <td>0.0</td>\n",
       "    </tr>\n",
       "    <tr>\n",
       "      <th>1081342</th>\n",
       "      <td>36</td>\n",
       "      <td>6</td>\n",
       "      <td>43</td>\n",
       "      <td>63</td>\n",
       "      <td>62</td>\n",
       "      <td>0.0</td>\n",
       "      <td>0.0</td>\n",
       "      <td>0.0</td>\n",
       "      <td>0.0</td>\n",
       "      <td>0.0</td>\n",
       "      <td>0.0</td>\n",
       "    </tr>\n",
       "    <tr>\n",
       "      <th>1081343</th>\n",
       "      <td>36</td>\n",
       "      <td>6</td>\n",
       "      <td>43</td>\n",
       "      <td>63</td>\n",
       "      <td>63</td>\n",
       "      <td>0.0</td>\n",
       "      <td>0.0</td>\n",
       "      <td>0.0</td>\n",
       "      <td>0.0</td>\n",
       "      <td>0.0</td>\n",
       "      <td>0.0</td>\n",
       "    </tr>\n",
       "  </tbody>\n",
       "</table>\n",
       "<p>180224 rows × 11 columns</p>\n",
       "</div>"
      ],
      "text/plain": [
       "         exp  mini_exp   i   j   k  mean0  mean1  mean2  mean3  mean4  theory\n",
       "901120    36         6   0   0   0    0.0    0.0    0.0    0.0    0.0     0.0\n",
       "901121    36         6   0   0   1    0.0    0.0    0.0    0.0    0.0     0.0\n",
       "901122    36         6   0   0   2    0.0    0.0    0.0    0.0    0.0     0.0\n",
       "901123    36         6   0   0   3    0.0    0.0    0.0    0.0    0.0     0.0\n",
       "901124    36         6   0   0   4    0.0    0.0    0.0    0.0    0.0     0.0\n",
       "...      ...       ...  ..  ..  ..    ...    ...    ...    ...    ...     ...\n",
       "1081339   36         6  43  63  59    0.0    0.0    0.0    0.0    0.0     0.0\n",
       "1081340   36         6  43  63  60    0.0    0.0    0.0    0.0    0.0     0.0\n",
       "1081341   36         6  43  63  61    0.0    0.0    0.0    0.0    0.0     0.0\n",
       "1081342   36         6  43  63  62    0.0    0.0    0.0    0.0    0.0     0.0\n",
       "1081343   36         6  43  63  63    0.0    0.0    0.0    0.0    0.0     0.0\n",
       "\n",
       "[180224 rows x 11 columns]"
      ]
     },
     "execution_count": 25,
     "metadata": {},
     "output_type": "execute_result"
    }
   ],
   "source": [
    "df_test"
   ]
  },
  {
   "cell_type": "code",
   "execution_count": 26,
   "metadata": {
    "scrolled": false
   },
   "outputs": [
    {
     "name": "stderr",
     "output_type": "stream",
     "text": [
      "/var/folders/yd/vkjb_lqj2_30lnyhzhjqtg9w0000gp/T/ipykernel_30829/4195812830.py:1: SettingWithCopyWarning: \n",
      "A value is trying to be set on a copy of a slice from a DataFrame.\n",
      "Try using .loc[row_indexer,col_indexer] = value instead\n",
      "\n",
      "See the caveats in the documentation: https://pandas.pydata.org/pandas-docs/stable/user_guide/indexing.html#returning-a-view-versus-a-copy\n",
      "  df_test['predict'] = test_pred\n"
     ]
    }
   ],
   "source": [
    "df_test['predict'] = test_pred"
   ]
  },
  {
   "cell_type": "code",
   "execution_count": 27,
   "metadata": {},
   "outputs": [],
   "source": [
    "np.savetxt(img_path+\"nn_36to38.txt\", df_test[['i', 'j', 'k', 'predict']], fmt=\"%i %i %i %s\")"
   ]
  },
  {
   "cell_type": "code",
   "execution_count": 85,
   "metadata": {},
   "outputs": [
    {
     "data": {
      "text/html": [
       "<div>\n",
       "<style scoped>\n",
       "    .dataframe tbody tr th:only-of-type {\n",
       "        vertical-align: middle;\n",
       "    }\n",
       "\n",
       "    .dataframe tbody tr th {\n",
       "        vertical-align: top;\n",
       "    }\n",
       "\n",
       "    .dataframe thead th {\n",
       "        text-align: right;\n",
       "    }\n",
       "</style>\n",
       "<table border=\"1\" class=\"dataframe\">\n",
       "  <thead>\n",
       "    <tr style=\"text-align: right;\">\n",
       "      <th></th>\n",
       "      <th>exp</th>\n",
       "      <th>mini_exp</th>\n",
       "      <th>i</th>\n",
       "      <th>j</th>\n",
       "      <th>k</th>\n",
       "      <th>mean0</th>\n",
       "      <th>mean1</th>\n",
       "      <th>mean2</th>\n",
       "      <th>mean3</th>\n",
       "      <th>mean4</th>\n",
       "      <th>theory</th>\n",
       "      <th>predict</th>\n",
       "    </tr>\n",
       "  </thead>\n",
       "  <tbody>\n",
       "    <tr>\n",
       "      <th>901120</th>\n",
       "      <td>36</td>\n",
       "      <td>6</td>\n",
       "      <td>0</td>\n",
       "      <td>0</td>\n",
       "      <td>0</td>\n",
       "      <td>0.0</td>\n",
       "      <td>0.0</td>\n",
       "      <td>0.0</td>\n",
       "      <td>0.0</td>\n",
       "      <td>0.0</td>\n",
       "      <td>0.0</td>\n",
       "      <td>0.011854</td>\n",
       "    </tr>\n",
       "    <tr>\n",
       "      <th>901121</th>\n",
       "      <td>36</td>\n",
       "      <td>6</td>\n",
       "      <td>0</td>\n",
       "      <td>0</td>\n",
       "      <td>1</td>\n",
       "      <td>0.0</td>\n",
       "      <td>0.0</td>\n",
       "      <td>0.0</td>\n",
       "      <td>0.0</td>\n",
       "      <td>0.0</td>\n",
       "      <td>0.0</td>\n",
       "      <td>0.011854</td>\n",
       "    </tr>\n",
       "    <tr>\n",
       "      <th>901122</th>\n",
       "      <td>36</td>\n",
       "      <td>6</td>\n",
       "      <td>0</td>\n",
       "      <td>0</td>\n",
       "      <td>2</td>\n",
       "      <td>0.0</td>\n",
       "      <td>0.0</td>\n",
       "      <td>0.0</td>\n",
       "      <td>0.0</td>\n",
       "      <td>0.0</td>\n",
       "      <td>0.0</td>\n",
       "      <td>0.011854</td>\n",
       "    </tr>\n",
       "    <tr>\n",
       "      <th>901123</th>\n",
       "      <td>36</td>\n",
       "      <td>6</td>\n",
       "      <td>0</td>\n",
       "      <td>0</td>\n",
       "      <td>3</td>\n",
       "      <td>0.0</td>\n",
       "      <td>0.0</td>\n",
       "      <td>0.0</td>\n",
       "      <td>0.0</td>\n",
       "      <td>0.0</td>\n",
       "      <td>0.0</td>\n",
       "      <td>0.011854</td>\n",
       "    </tr>\n",
       "    <tr>\n",
       "      <th>901124</th>\n",
       "      <td>36</td>\n",
       "      <td>6</td>\n",
       "      <td>0</td>\n",
       "      <td>0</td>\n",
       "      <td>4</td>\n",
       "      <td>0.0</td>\n",
       "      <td>0.0</td>\n",
       "      <td>0.0</td>\n",
       "      <td>0.0</td>\n",
       "      <td>0.0</td>\n",
       "      <td>0.0</td>\n",
       "      <td>0.011854</td>\n",
       "    </tr>\n",
       "    <tr>\n",
       "      <th>...</th>\n",
       "      <td>...</td>\n",
       "      <td>...</td>\n",
       "      <td>...</td>\n",
       "      <td>...</td>\n",
       "      <td>...</td>\n",
       "      <td>...</td>\n",
       "      <td>...</td>\n",
       "      <td>...</td>\n",
       "      <td>...</td>\n",
       "      <td>...</td>\n",
       "      <td>...</td>\n",
       "      <td>...</td>\n",
       "    </tr>\n",
       "    <tr>\n",
       "      <th>1081339</th>\n",
       "      <td>36</td>\n",
       "      <td>6</td>\n",
       "      <td>43</td>\n",
       "      <td>63</td>\n",
       "      <td>59</td>\n",
       "      <td>0.0</td>\n",
       "      <td>0.0</td>\n",
       "      <td>0.0</td>\n",
       "      <td>0.0</td>\n",
       "      <td>0.0</td>\n",
       "      <td>0.0</td>\n",
       "      <td>0.011854</td>\n",
       "    </tr>\n",
       "    <tr>\n",
       "      <th>1081340</th>\n",
       "      <td>36</td>\n",
       "      <td>6</td>\n",
       "      <td>43</td>\n",
       "      <td>63</td>\n",
       "      <td>60</td>\n",
       "      <td>0.0</td>\n",
       "      <td>0.0</td>\n",
       "      <td>0.0</td>\n",
       "      <td>0.0</td>\n",
       "      <td>0.0</td>\n",
       "      <td>0.0</td>\n",
       "      <td>0.011854</td>\n",
       "    </tr>\n",
       "    <tr>\n",
       "      <th>1081341</th>\n",
       "      <td>36</td>\n",
       "      <td>6</td>\n",
       "      <td>43</td>\n",
       "      <td>63</td>\n",
       "      <td>61</td>\n",
       "      <td>0.0</td>\n",
       "      <td>0.0</td>\n",
       "      <td>0.0</td>\n",
       "      <td>0.0</td>\n",
       "      <td>0.0</td>\n",
       "      <td>0.0</td>\n",
       "      <td>0.011854</td>\n",
       "    </tr>\n",
       "    <tr>\n",
       "      <th>1081342</th>\n",
       "      <td>36</td>\n",
       "      <td>6</td>\n",
       "      <td>43</td>\n",
       "      <td>63</td>\n",
       "      <td>62</td>\n",
       "      <td>0.0</td>\n",
       "      <td>0.0</td>\n",
       "      <td>0.0</td>\n",
       "      <td>0.0</td>\n",
       "      <td>0.0</td>\n",
       "      <td>0.0</td>\n",
       "      <td>0.011854</td>\n",
       "    </tr>\n",
       "    <tr>\n",
       "      <th>1081343</th>\n",
       "      <td>36</td>\n",
       "      <td>6</td>\n",
       "      <td>43</td>\n",
       "      <td>63</td>\n",
       "      <td>63</td>\n",
       "      <td>0.0</td>\n",
       "      <td>0.0</td>\n",
       "      <td>0.0</td>\n",
       "      <td>0.0</td>\n",
       "      <td>0.0</td>\n",
       "      <td>0.0</td>\n",
       "      <td>0.011854</td>\n",
       "    </tr>\n",
       "  </tbody>\n",
       "</table>\n",
       "<p>180224 rows × 12 columns</p>\n",
       "</div>"
      ],
      "text/plain": [
       "         exp  mini_exp   i   j   k  mean0  mean1  mean2  mean3  mean4  theory  \\\n",
       "901120    36         6   0   0   0    0.0    0.0    0.0    0.0    0.0     0.0   \n",
       "901121    36         6   0   0   1    0.0    0.0    0.0    0.0    0.0     0.0   \n",
       "901122    36         6   0   0   2    0.0    0.0    0.0    0.0    0.0     0.0   \n",
       "901123    36         6   0   0   3    0.0    0.0    0.0    0.0    0.0     0.0   \n",
       "901124    36         6   0   0   4    0.0    0.0    0.0    0.0    0.0     0.0   \n",
       "...      ...       ...  ..  ..  ..    ...    ...    ...    ...    ...     ...   \n",
       "1081339   36         6  43  63  59    0.0    0.0    0.0    0.0    0.0     0.0   \n",
       "1081340   36         6  43  63  60    0.0    0.0    0.0    0.0    0.0     0.0   \n",
       "1081341   36         6  43  63  61    0.0    0.0    0.0    0.0    0.0     0.0   \n",
       "1081342   36         6  43  63  62    0.0    0.0    0.0    0.0    0.0     0.0   \n",
       "1081343   36         6  43  63  63    0.0    0.0    0.0    0.0    0.0     0.0   \n",
       "\n",
       "          predict  \n",
       "901120   0.011854  \n",
       "901121   0.011854  \n",
       "901122   0.011854  \n",
       "901123   0.011854  \n",
       "901124   0.011854  \n",
       "...           ...  \n",
       "1081339  0.011854  \n",
       "1081340  0.011854  \n",
       "1081341  0.011854  \n",
       "1081342  0.011854  \n",
       "1081343  0.011854  \n",
       "\n",
       "[180224 rows x 12 columns]"
      ]
     },
     "execution_count": 85,
     "metadata": {},
     "output_type": "execute_result"
    }
   ],
   "source": [
    "df_test"
   ]
  },
  {
   "cell_type": "code",
   "execution_count": null,
   "metadata": {},
   "outputs": [],
   "source": []
  },
  {
   "cell_type": "code",
   "execution_count": 30,
   "metadata": {},
   "outputs": [
    {
     "name": "stderr",
     "output_type": "stream",
     "text": [
      "/var/folders/2c/z02d0fq542v7qg_9kr87__k40000gp/T/ipykernel_79296/4220111569.py:2: SettingWithCopyWarning: \n",
      "A value is trying to be set on a copy of a slice from a DataFrame.\n",
      "Try using .loc[row_indexer,col_indexer] = value instead\n",
      "\n",
      "See the caveats in the documentation: https://pandas.pydata.org/pandas-docs/stable/user_guide/indexing.html#returning-a-view-versus-a-copy\n",
      "  df4_test['predict'] = test_pred\n"
     ]
    }
   ],
   "source": [
    "# non zero\n",
    "df4_test['predict'] = test_pred"
   ]
  },
  {
   "cell_type": "code",
   "execution_count": 92,
   "metadata": {},
   "outputs": [
    {
     "name": "stderr",
     "output_type": "stream",
     "text": [
      "/var/folders/2c/z02d0fq542v7qg_9kr87__k40000gp/T/ipykernel_79296/3257651465.py:1: SettingWithCopyWarning: \n",
      "A value is trying to be set on a copy of a slice from a DataFrame.\n",
      "Try using .loc[row_indexer,col_indexer] = value instead\n",
      "\n",
      "See the caveats in the documentation: https://pandas.pydata.org/pandas-docs/stable/user_guide/indexing.html#returning-a-view-versus-a-copy\n",
      "  df_test['predict'] = 0.00\n"
     ]
    }
   ],
   "source": [
    "df_test['predict'] = 0.00"
   ]
  },
  {
   "cell_type": "code",
   "execution_count": 93,
   "metadata": {},
   "outputs": [],
   "source": [
    "df_out = df_test[['i', 'j', 'k', 'predict']]\n",
    "df_pre = df4_test[['i', 'j', 'k', 'predict']]"
   ]
  },
  {
   "cell_type": "code",
   "execution_count": 99,
   "metadata": {},
   "outputs": [
    {
     "name": "stdout",
     "output_type": "stream",
     "text": [
      "<class 'pandas.core.frame.DataFrame'>\n",
      "Int64Index: 180224 entries, 901120 to 1081343\n",
      "Data columns (total 4 columns):\n",
      " #   Column   Non-Null Count   Dtype  \n",
      "---  ------   --------------   -----  \n",
      " 0   i        180224 non-null  int64  \n",
      " 1   j        180224 non-null  int64  \n",
      " 2   k        180224 non-null  int64  \n",
      " 3   predict  180224 non-null  float64\n",
      "dtypes: float64(1), int64(3)\n",
      "memory usage: 6.9 MB\n"
     ]
    }
   ],
   "source": [
    "df_out.info()"
   ]
  },
  {
   "cell_type": "code",
   "execution_count": 122,
   "metadata": {},
   "outputs": [],
   "source": [
    "for x in range(len(df_pre)):\n",
    "    i = df_pre.iloc[x, :]['i'].astype(int)\n",
    "    j = df_pre.iloc[x, :]['j'].astype(int)\n",
    "    k = df_pre.iloc[x, :]['k'].astype(int)\n",
    "    pred = df_pre.iloc[x, :]['predict']\n",
    "    idx = df_out[(df_out['i']==i) & (df_out['j']==j) & (df_out['k']==k)].index\n",
    "    df_out.loc[idx, 'predict']= pred"
   ]
  },
  {
   "cell_type": "code",
   "execution_count": 127,
   "metadata": {},
   "outputs": [
    {
     "data": {
      "text/html": [
       "<div>\n",
       "<style scoped>\n",
       "    .dataframe tbody tr th:only-of-type {\n",
       "        vertical-align: middle;\n",
       "    }\n",
       "\n",
       "    .dataframe tbody tr th {\n",
       "        vertical-align: top;\n",
       "    }\n",
       "\n",
       "    .dataframe thead th {\n",
       "        text-align: right;\n",
       "    }\n",
       "</style>\n",
       "<table border=\"1\" class=\"dataframe\">\n",
       "  <thead>\n",
       "    <tr style=\"text-align: right;\">\n",
       "      <th></th>\n",
       "      <th>i</th>\n",
       "      <th>j</th>\n",
       "      <th>k</th>\n",
       "      <th>predict</th>\n",
       "    </tr>\n",
       "  </thead>\n",
       "  <tbody>\n",
       "    <tr>\n",
       "      <th>931880</th>\n",
       "      <td>7</td>\n",
       "      <td>32</td>\n",
       "      <td>40</td>\n",
       "      <td>5.183412</td>\n",
       "    </tr>\n",
       "    <tr>\n",
       "      <th>931881</th>\n",
       "      <td>7</td>\n",
       "      <td>32</td>\n",
       "      <td>41</td>\n",
       "      <td>4.673711</td>\n",
       "    </tr>\n",
       "    <tr>\n",
       "      <th>931882</th>\n",
       "      <td>7</td>\n",
       "      <td>32</td>\n",
       "      <td>42</td>\n",
       "      <td>4.348357</td>\n",
       "    </tr>\n",
       "    <tr>\n",
       "      <th>931883</th>\n",
       "      <td>7</td>\n",
       "      <td>32</td>\n",
       "      <td>43</td>\n",
       "      <td>5.062788</td>\n",
       "    </tr>\n",
       "    <tr>\n",
       "      <th>931919</th>\n",
       "      <td>7</td>\n",
       "      <td>33</td>\n",
       "      <td>15</td>\n",
       "      <td>3.794160</td>\n",
       "    </tr>\n",
       "    <tr>\n",
       "      <th>...</th>\n",
       "      <td>...</td>\n",
       "      <td>...</td>\n",
       "      <td>...</td>\n",
       "      <td>...</td>\n",
       "    </tr>\n",
       "    <tr>\n",
       "      <th>1050968</th>\n",
       "      <td>36</td>\n",
       "      <td>37</td>\n",
       "      <td>24</td>\n",
       "      <td>5.607471</td>\n",
       "    </tr>\n",
       "    <tr>\n",
       "      <th>1050979</th>\n",
       "      <td>36</td>\n",
       "      <td>37</td>\n",
       "      <td>35</td>\n",
       "      <td>13.007126</td>\n",
       "    </tr>\n",
       "    <tr>\n",
       "      <th>1050982</th>\n",
       "      <td>36</td>\n",
       "      <td>37</td>\n",
       "      <td>38</td>\n",
       "      <td>8.704618</td>\n",
       "    </tr>\n",
       "    <tr>\n",
       "      <th>1050983</th>\n",
       "      <td>36</td>\n",
       "      <td>37</td>\n",
       "      <td>39</td>\n",
       "      <td>6.513861</td>\n",
       "    </tr>\n",
       "    <tr>\n",
       "      <th>1051039</th>\n",
       "      <td>36</td>\n",
       "      <td>38</td>\n",
       "      <td>31</td>\n",
       "      <td>71.638641</td>\n",
       "    </tr>\n",
       "  </tbody>\n",
       "</table>\n",
       "<p>34012 rows × 4 columns</p>\n",
       "</div>"
      ],
      "text/plain": [
       "          i   j   k    predict\n",
       "931880    7  32  40   5.183412\n",
       "931881    7  32  41   4.673711\n",
       "931882    7  32  42   4.348357\n",
       "931883    7  32  43   5.062788\n",
       "931919    7  33  15   3.794160\n",
       "...      ..  ..  ..        ...\n",
       "1050968  36  37  24   5.607471\n",
       "1050979  36  37  35  13.007126\n",
       "1050982  36  37  38   8.704618\n",
       "1050983  36  37  39   6.513861\n",
       "1051039  36  38  31  71.638641\n",
       "\n",
       "[34012 rows x 4 columns]"
      ]
     },
     "execution_count": 127,
     "metadata": {},
     "output_type": "execute_result"
    }
   ],
   "source": [
    "df_pre"
   ]
  },
  {
   "cell_type": "code",
   "execution_count": 124,
   "metadata": {},
   "outputs": [
    {
     "data": {
      "text/html": [
       "<div>\n",
       "<style scoped>\n",
       "    .dataframe tbody tr th:only-of-type {\n",
       "        vertical-align: middle;\n",
       "    }\n",
       "\n",
       "    .dataframe tbody tr th {\n",
       "        vertical-align: top;\n",
       "    }\n",
       "\n",
       "    .dataframe thead th {\n",
       "        text-align: right;\n",
       "    }\n",
       "</style>\n",
       "<table border=\"1\" class=\"dataframe\">\n",
       "  <thead>\n",
       "    <tr style=\"text-align: right;\">\n",
       "      <th></th>\n",
       "      <th>i</th>\n",
       "      <th>j</th>\n",
       "      <th>k</th>\n",
       "      <th>predict</th>\n",
       "    </tr>\n",
       "  </thead>\n",
       "  <tbody>\n",
       "    <tr>\n",
       "      <th>931880</th>\n",
       "      <td>7</td>\n",
       "      <td>32</td>\n",
       "      <td>40</td>\n",
       "      <td>5.183412</td>\n",
       "    </tr>\n",
       "  </tbody>\n",
       "</table>\n",
       "</div>"
      ],
      "text/plain": [
       "        i   j   k   predict\n",
       "931880  7  32  40  5.183412"
      ]
     },
     "execution_count": 124,
     "metadata": {},
     "output_type": "execute_result"
    }
   ],
   "source": [
    "df_out[(df_out['i']==7) & (df_out['j']==32) & (df_out['k']==40)]"
   ]
  },
  {
   "cell_type": "code",
   "execution_count": 125,
   "metadata": {},
   "outputs": [
    {
     "data": {
      "text/html": [
       "<div>\n",
       "<style scoped>\n",
       "    .dataframe tbody tr th:only-of-type {\n",
       "        vertical-align: middle;\n",
       "    }\n",
       "\n",
       "    .dataframe tbody tr th {\n",
       "        vertical-align: top;\n",
       "    }\n",
       "\n",
       "    .dataframe thead th {\n",
       "        text-align: right;\n",
       "    }\n",
       "</style>\n",
       "<table border=\"1\" class=\"dataframe\">\n",
       "  <thead>\n",
       "    <tr style=\"text-align: right;\">\n",
       "      <th></th>\n",
       "      <th>i</th>\n",
       "      <th>j</th>\n",
       "      <th>k</th>\n",
       "      <th>predict</th>\n",
       "    </tr>\n",
       "  </thead>\n",
       "  <tbody>\n",
       "    <tr>\n",
       "      <th>901120</th>\n",
       "      <td>0</td>\n",
       "      <td>0</td>\n",
       "      <td>0</td>\n",
       "      <td>0.0</td>\n",
       "    </tr>\n",
       "    <tr>\n",
       "      <th>901121</th>\n",
       "      <td>0</td>\n",
       "      <td>0</td>\n",
       "      <td>1</td>\n",
       "      <td>0.0</td>\n",
       "    </tr>\n",
       "    <tr>\n",
       "      <th>901122</th>\n",
       "      <td>0</td>\n",
       "      <td>0</td>\n",
       "      <td>2</td>\n",
       "      <td>0.0</td>\n",
       "    </tr>\n",
       "    <tr>\n",
       "      <th>901123</th>\n",
       "      <td>0</td>\n",
       "      <td>0</td>\n",
       "      <td>3</td>\n",
       "      <td>0.0</td>\n",
       "    </tr>\n",
       "    <tr>\n",
       "      <th>901124</th>\n",
       "      <td>0</td>\n",
       "      <td>0</td>\n",
       "      <td>4</td>\n",
       "      <td>0.0</td>\n",
       "    </tr>\n",
       "    <tr>\n",
       "      <th>...</th>\n",
       "      <td>...</td>\n",
       "      <td>...</td>\n",
       "      <td>...</td>\n",
       "      <td>...</td>\n",
       "    </tr>\n",
       "    <tr>\n",
       "      <th>1081339</th>\n",
       "      <td>43</td>\n",
       "      <td>63</td>\n",
       "      <td>59</td>\n",
       "      <td>0.0</td>\n",
       "    </tr>\n",
       "    <tr>\n",
       "      <th>1081340</th>\n",
       "      <td>43</td>\n",
       "      <td>63</td>\n",
       "      <td>60</td>\n",
       "      <td>0.0</td>\n",
       "    </tr>\n",
       "    <tr>\n",
       "      <th>1081341</th>\n",
       "      <td>43</td>\n",
       "      <td>63</td>\n",
       "      <td>61</td>\n",
       "      <td>0.0</td>\n",
       "    </tr>\n",
       "    <tr>\n",
       "      <th>1081342</th>\n",
       "      <td>43</td>\n",
       "      <td>63</td>\n",
       "      <td>62</td>\n",
       "      <td>0.0</td>\n",
       "    </tr>\n",
       "    <tr>\n",
       "      <th>1081343</th>\n",
       "      <td>43</td>\n",
       "      <td>63</td>\n",
       "      <td>63</td>\n",
       "      <td>0.0</td>\n",
       "    </tr>\n",
       "  </tbody>\n",
       "</table>\n",
       "<p>180224 rows × 4 columns</p>\n",
       "</div>"
      ],
      "text/plain": [
       "          i   j   k  predict\n",
       "901120    0   0   0      0.0\n",
       "901121    0   0   1      0.0\n",
       "901122    0   0   2      0.0\n",
       "901123    0   0   3      0.0\n",
       "901124    0   0   4      0.0\n",
       "...      ..  ..  ..      ...\n",
       "1081339  43  63  59      0.0\n",
       "1081340  43  63  60      0.0\n",
       "1081341  43  63  61      0.0\n",
       "1081342  43  63  62      0.0\n",
       "1081343  43  63  63      0.0\n",
       "\n",
       "[180224 rows x 4 columns]"
      ]
     },
     "execution_count": 125,
     "metadata": {},
     "output_type": "execute_result"
    }
   ],
   "source": [
    "df_out"
   ]
  },
  {
   "cell_type": "code",
   "execution_count": 126,
   "metadata": {},
   "outputs": [],
   "source": [
    "np.savetxt(img_path+\"nn_nonzero_36to38.txt\", df_out[['i', 'j', 'k', 'predict']], fmt=\"%i %i %i %s\")"
   ]
  },
  {
   "cell_type": "code",
   "execution_count": null,
   "metadata": {},
   "outputs": [],
   "source": []
  },
  {
   "cell_type": "markdown",
   "metadata": {},
   "source": [
    "# Nonzero 32 to 38"
   ]
  },
  {
   "cell_type": "code",
   "execution_count": 50,
   "metadata": {},
   "outputs": [],
   "source": [
    "X_train = X4_train\n",
    "y_train = y4_train\n",
    "X_test = X4_test\n",
    "y_test = y4_test"
   ]
  },
  {
   "cell_type": "code",
   "execution_count": 51,
   "metadata": {},
   "outputs": [],
   "source": [
    "shape = (len(X_train[0]),)\n",
    "model = keras.Sequential()\n",
    "model.add(Dense(5, activation='relu', input_shape=shape)) \n",
    "model.add(Dense(5, activation='relu'))\n",
    "model.add(Dense(1, activation='linear'))\n",
    "model.compile(optimizer='RMSprop', loss='mse', metrics=[\"accuracy\"])"
   ]
  },
  {
   "cell_type": "code",
   "execution_count": 52,
   "metadata": {},
   "outputs": [
    {
     "name": "stdout",
     "output_type": "stream",
     "text": [
      "Epoch 1/100\n",
      "13602/13602 [==============================] - 20s 1ms/step - loss: 17575.8594 - accuracy: 6.4332e-05 - val_loss: 184.6232 - val_accuracy: 2.9402e-05\n",
      "Epoch 2/100\n",
      "13602/13602 [==============================] - 13s 962us/step - loss: 17104.1621 - accuracy: 3.2166e-05 - val_loss: 142.8941 - val_accuracy: 0.0000e+00\n",
      "Epoch 3/100\n",
      "13602/13602 [==============================] - 13s 959us/step - loss: 17067.8848 - accuracy: 3.3315e-05 - val_loss: 122.5029 - val_accuracy: 5.8805e-05\n",
      "Epoch 4/100\n",
      "13602/13602 [==============================] - 13s 984us/step - loss: 17059.8789 - accuracy: 2.9868e-05 - val_loss: 102.6077 - val_accuracy: 5.8805e-05\n",
      "Epoch 5/100\n",
      "13602/13602 [==============================] - 13s 963us/step - loss: 17054.2695 - accuracy: 3.4464e-05 - val_loss: 69.8435 - val_accuracy: 0.0000e+00\n",
      "Epoch 6/100\n",
      "13602/13602 [==============================] - 13s 939us/step - loss: 17049.8438 - accuracy: 4.0207e-05 - val_loss: 73.0656 - val_accuracy: 2.9402e-05\n",
      "Epoch 7/100\n",
      "13602/13602 [==============================] - 14s 998us/step - loss: 17038.1895 - accuracy: 4.0207e-05 - val_loss: 66.4544 - val_accuracy: 2.9402e-05\n",
      "Epoch 8/100\n",
      "13602/13602 [==============================] - 14s 1ms/step - loss: 17046.9492 - accuracy: 4.1356e-05 - val_loss: 241.0883 - val_accuracy: 0.0000e+00\n",
      "Epoch 9/100\n",
      "13602/13602 [==============================] - 14s 1ms/step - loss: 17044.6055 - accuracy: 5.1695e-05 - val_loss: 63.6135 - val_accuracy: 2.9402e-05\n",
      "Epoch 10/100\n",
      "13602/13602 [==============================] - 14s 1ms/step - loss: 17039.8730 - accuracy: 5.3993e-05 - val_loss: 63.3657 - val_accuracy: 0.0000e+00\n",
      "Epoch 11/100\n",
      "13602/13602 [==============================] - 14s 1ms/step - loss: 17036.0371 - accuracy: 6.6630e-05 - val_loss: 59.1272 - val_accuracy: 0.0000e+00\n",
      "Epoch 12/100\n",
      "13602/13602 [==============================] - 14s 1ms/step - loss: 17036.8770 - accuracy: 7.2373e-05 - val_loss: 58.7212 - val_accuracy: 9.4087e-04\n",
      "Epoch 13/100\n",
      "13602/13602 [==============================] - 14s 1ms/step - loss: 17036.3770 - accuracy: 1.0913e-04 - val_loss: 58.4796 - val_accuracy: 5.8805e-05\n",
      "Epoch 14/100\n",
      "13602/13602 [==============================] - 14s 1ms/step - loss: 17032.7324 - accuracy: 9.1903e-05 - val_loss: 63.0626 - val_accuracy: 2.9402e-05\n",
      "Epoch 15/100\n",
      "13602/13602 [==============================] - 14s 1ms/step - loss: 17036.2754 - accuracy: 7.4671e-05 - val_loss: 63.2098 - val_accuracy: 5.8805e-05\n",
      "Epoch 16/100\n",
      "13602/13602 [==============================] - 14s 1ms/step - loss: 17030.4551 - accuracy: 8.2713e-05 - val_loss: 56.9619 - val_accuracy: 2.9402e-05\n",
      "Epoch 17/100\n",
      "13602/13602 [==============================] - 13s 957us/step - loss: 17033.7012 - accuracy: 1.0454e-04 - val_loss: 57.6663 - val_accuracy: 2.9402e-05\n",
      "Epoch 18/100\n",
      "13602/13602 [==============================] - 13s 984us/step - loss: 17035.5898 - accuracy: 9.3052e-05 - val_loss: 57.1687 - val_accuracy: 5.8805e-05\n",
      "Epoch 19/100\n",
      "13602/13602 [==============================] - 14s 1ms/step - loss: 17036.4414 - accuracy: 6.6630e-05 - val_loss: 56.6143 - val_accuracy: 2.9402e-05\n",
      "Epoch 20/100\n",
      "13602/13602 [==============================] - 14s 1ms/step - loss: 17037.0820 - accuracy: 6.3183e-05 - val_loss: 57.6709 - val_accuracy: 2.9402e-05\n",
      "Epoch 21/100\n",
      "13602/13602 [==============================] - 14s 998us/step - loss: 17033.5547 - accuracy: 7.9266e-05 - val_loss: 58.2638 - val_accuracy: 9.7027e-04\n",
      "Epoch 22/100\n",
      "13602/13602 [==============================] - 13s 981us/step - loss: 17030.5781 - accuracy: 7.8117e-05 - val_loss: 57.6818 - val_accuracy: 1.4701e-04\n",
      "Epoch 23/100\n",
      "13602/13602 [==============================] - 12s 889us/step - loss: 17035.1230 - accuracy: 9.5349e-05 - val_loss: 57.2031 - val_accuracy: 5.8805e-05\n",
      "Epoch 24/100\n",
      "13602/13602 [==============================] - 12s 874us/step - loss: 17035.3184 - accuracy: 1.0339e-04 - val_loss: 73.0838 - val_accuracy: 9.4087e-04\n",
      "Epoch 25/100\n",
      "13602/13602 [==============================] - 12s 881us/step - loss: 17032.2891 - accuracy: 1.5968e-04 - val_loss: 56.3497 - val_accuracy: 9.7027e-04\n",
      "Epoch 26/100\n",
      "13602/13602 [==============================] - 12s 878us/step - loss: 17033.8984 - accuracy: 1.2407e-04 - val_loss: 56.6147 - val_accuracy: 9.7027e-04\n",
      "Epoch 27/100\n",
      "13602/13602 [==============================] - 12s 878us/step - loss: 17026.8203 - accuracy: 1.4360e-04 - val_loss: 56.7986 - val_accuracy: 5.8805e-05\n",
      "Epoch 28/100\n",
      "13602/13602 [==============================] - 12s 885us/step - loss: 17035.2500 - accuracy: 1.3900e-04 - val_loss: 60.0664 - val_accuracy: 2.9402e-05\n",
      "Epoch 29/100\n",
      "13602/13602 [==============================] - 12s 893us/step - loss: 17032.7734 - accuracy: 1.4360e-04 - val_loss: 57.7219 - val_accuracy: 5.8805e-05\n",
      "Epoch 30/100\n",
      "13602/13602 [==============================] - 12s 889us/step - loss: 17033.0938 - accuracy: 1.2637e-04 - val_loss: 62.4862 - val_accuracy: 2.9402e-05\n",
      "Epoch 31/100\n",
      "13602/13602 [==============================] - 12s 875us/step - loss: 17034.3633 - accuracy: 1.4590e-04 - val_loss: 57.4064 - val_accuracy: 2.9402e-05\n",
      "Epoch 32/100\n",
      "13602/13602 [==============================] - 12s 882us/step - loss: 17033.8047 - accuracy: 1.7576e-04 - val_loss: 59.1815 - val_accuracy: 2.9402e-05\n",
      "Epoch 33/100\n",
      "13602/13602 [==============================] - 12s 901us/step - loss: 17033.2266 - accuracy: 1.5394e-04 - val_loss: 56.8064 - val_accuracy: 5.8805e-05\n",
      "Epoch 34/100\n",
      "13602/13602 [==============================] - 13s 957us/step - loss: 17032.6211 - accuracy: 1.4360e-04 - val_loss: 57.7915 - val_accuracy: 2.9402e-05\n",
      "Epoch 35/100\n",
      "13602/13602 [==============================] - 12s 889us/step - loss: 17032.2949 - accuracy: 1.5738e-04 - val_loss: 59.5342 - val_accuracy: 1.4701e-04\n",
      "Epoch 36/100\n",
      "13602/13602 [==============================] - 13s 934us/step - loss: 17032.8770 - accuracy: 1.3900e-04 - val_loss: 56.7983 - val_accuracy: 5.8805e-05\n",
      "Epoch 37/100\n",
      "13602/13602 [==============================] - 13s 920us/step - loss: 17036.3379 - accuracy: 1.0569e-04 - val_loss: 57.6720 - val_accuracy: 5.8805e-05\n",
      "Epoch 38/100\n",
      "13602/13602 [==============================] - 12s 892us/step - loss: 17032.7539 - accuracy: 1.4015e-04 - val_loss: 56.5631 - val_accuracy: 5.8805e-05\n",
      "Epoch 39/100\n",
      "13602/13602 [==============================] - 12s 876us/step - loss: 17032.2637 - accuracy: 1.5279e-04 - val_loss: 56.8467 - val_accuracy: 5.8805e-05\n",
      "Epoch 40/100\n",
      "13602/13602 [==============================] - 12s 898us/step - loss: 17032.0469 - accuracy: 1.4819e-04 - val_loss: 58.0060 - val_accuracy: 9.7027e-04\n",
      "Epoch 41/100\n",
      "13602/13602 [==============================] - 12s 874us/step - loss: 17030.1934 - accuracy: 1.2637e-04 - val_loss: 58.2152 - val_accuracy: 2.9402e-05\n",
      "Epoch 42/100\n",
      "13602/13602 [==============================] - 12s 874us/step - loss: 17033.9121 - accuracy: 1.2522e-04 - val_loss: 59.4177 - val_accuracy: 9.7027e-04\n",
      "Epoch 43/100\n",
      "13602/13602 [==============================] - 12s 868us/step - loss: 17035.8066 - accuracy: 9.0754e-05 - val_loss: 56.5696 - val_accuracy: 9.7027e-04\n",
      "Epoch 44/100\n",
      "13602/13602 [==============================] - 12s 910us/step - loss: 17032.4316 - accuracy: 1.3441e-04 - val_loss: 59.0789 - val_accuracy: 9.7027e-04\n",
      "Epoch 45/100\n",
      "13602/13602 [==============================] - 13s 928us/step - loss: 17033.7852 - accuracy: 1.1028e-04 - val_loss: 57.1103 - val_accuracy: 9.7027e-04\n",
      "Epoch 46/100\n",
      "13602/13602 [==============================] - 13s 955us/step - loss: 17033.7793 - accuracy: 9.9944e-05 - val_loss: 57.8443 - val_accuracy: 2.9402e-05\n",
      "Epoch 47/100\n",
      "13602/13602 [==============================] - 12s 875us/step - loss: 17033.6094 - accuracy: 1.1488e-04 - val_loss: 58.3103 - val_accuracy: 2.9402e-05\n",
      "Epoch 48/100\n",
      "13602/13602 [==============================] - 12s 868us/step - loss: 17034.3125 - accuracy: 9.5349e-05 - val_loss: 58.7725 - val_accuracy: 5.8805e-05\n",
      "Epoch 49/100\n",
      "13602/13602 [==============================] - 12s 871us/step - loss: 17033.5039 - accuracy: 8.8456e-05 - val_loss: 56.9355 - val_accuracy: 5.8805e-05\n",
      "Epoch 50/100\n",
      "13602/13602 [==============================] - 12s 871us/step - loss: 17035.2520 - accuracy: 8.2713e-05 - val_loss: 57.6003 - val_accuracy: 2.9402e-05\n",
      "Epoch 51/100\n",
      "13602/13602 [==============================] - 12s 875us/step - loss: 17035.8867 - accuracy: 7.4671e-05 - val_loss: 64.1536 - val_accuracy: 2.9402e-05\n",
      "Epoch 52/100\n",
      "13602/13602 [==============================] - 12s 869us/step - loss: 17031.1133 - accuracy: 7.3522e-05 - val_loss: 56.5055 - val_accuracy: 2.9402e-05\n",
      "Epoch 53/100\n",
      "13602/13602 [==============================] - 12s 888us/step - loss: 17036.3145 - accuracy: 8.6159e-05 - val_loss: 55.9319 - val_accuracy: 2.9402e-05\n",
      "Epoch 54/100\n",
      "13602/13602 [==============================] - 12s 873us/step - loss: 17033.3965 - accuracy: 8.8456e-05 - val_loss: 131.1653 - val_accuracy: 9.7027e-04\n",
      "Epoch 55/100\n",
      "13602/13602 [==============================] - 12s 868us/step - loss: 17035.9102 - accuracy: 5.1695e-05 - val_loss: 63.5294 - val_accuracy: 9.7027e-04\n",
      "Epoch 56/100\n",
      "13602/13602 [==============================] - 12s 880us/step - loss: 17034.7344 - accuracy: 7.5820e-05 - val_loss: 57.4899 - val_accuracy: 2.9402e-05\n",
      "Epoch 57/100\n",
      "13602/13602 [==============================] - 12s 870us/step - loss: 17024.4121 - accuracy: 9.0754e-05 - val_loss: 57.2318 - val_accuracy: 2.9402e-05\n",
      "Epoch 58/100\n",
      "13602/13602 [==============================] - 13s 928us/step - loss: 17033.2402 - accuracy: 7.2373e-05 - val_loss: 58.2544 - val_accuracy: 2.9402e-05\n",
      "Epoch 59/100\n",
      "13602/13602 [==============================] - 12s 912us/step - loss: 17033.2441 - accuracy: 6.0886e-05 - val_loss: 99.1699 - val_accuracy: 9.4087e-04\n",
      "Epoch 60/100\n",
      "13602/13602 [==============================] - 12s 894us/step - loss: 17033.2051 - accuracy: 6.7778e-05 - val_loss: 58.5961 - val_accuracy: 5.8805e-05\n",
      "Epoch 61/100\n",
      "13602/13602 [==============================] - 13s 928us/step - loss: 17031.3066 - accuracy: 8.2713e-05 - val_loss: 56.3250 - val_accuracy: 2.9402e-05\n",
      "Epoch 62/100\n",
      "13602/13602 [==============================] - 13s 923us/step - loss: 17032.2871 - accuracy: 6.4332e-05 - val_loss: 56.9024 - val_accuracy: 2.9402e-05\n",
      "Epoch 63/100\n",
      "13602/13602 [==============================] - 12s 889us/step - loss: 17034.9238 - accuracy: 8.9605e-05 - val_loss: 59.0460 - val_accuracy: 2.9402e-05\n",
      "Epoch 64/100\n",
      "13602/13602 [==============================] - 12s 891us/step - loss: 17034.9668 - accuracy: 1.0109e-04 - val_loss: 81.2775 - val_accuracy: 2.9402e-05\n",
      "Epoch 65/100\n",
      "13602/13602 [==============================] - 12s 883us/step - loss: 17035.6309 - accuracy: 1.0339e-04 - val_loss: 57.4000 - val_accuracy: 5.8805e-05\n",
      "Epoch 66/100\n",
      "13602/13602 [==============================] - 12s 900us/step - loss: 17032.2852 - accuracy: 7.2373e-05 - val_loss: 59.6610 - val_accuracy: 5.8805e-05\n",
      "Epoch 67/100\n",
      "13602/13602 [==============================] - 12s 891us/step - loss: 17033.4375 - accuracy: 8.0415e-05 - val_loss: 58.2348 - val_accuracy: 5.8805e-05\n",
      "Epoch 68/100\n",
      "13602/13602 [==============================] - 12s 881us/step - loss: 17037.9082 - accuracy: 8.9605e-05 - val_loss: 59.4727 - val_accuracy: 9.7027e-04\n",
      "Epoch 69/100\n",
      "13602/13602 [==============================] - 12s 890us/step - loss: 17031.6289 - accuracy: 9.4200e-05 - val_loss: 59.5056 - val_accuracy: 5.8805e-05\n",
      "Epoch 70/100\n",
      "13602/13602 [==============================] - 12s 886us/step - loss: 17035.9434 - accuracy: 1.0684e-04 - val_loss: 60.3434 - val_accuracy: 9.4087e-04\n",
      "Epoch 71/100\n",
      "13602/13602 [==============================] - 12s 900us/step - loss: 17030.7715 - accuracy: 7.8117e-05 - val_loss: 56.4404 - val_accuracy: 2.9402e-05\n",
      "Epoch 72/100\n",
      "13602/13602 [==============================] - 13s 923us/step - loss: 17035.4512 - accuracy: 1.0799e-04 - val_loss: 57.4272 - val_accuracy: 2.9402e-05\n",
      "Epoch 73/100\n",
      "13602/13602 [==============================] - 12s 892us/step - loss: 17034.3887 - accuracy: 8.1564e-05 - val_loss: 58.7842 - val_accuracy: 5.8805e-05\n",
      "Epoch 74/100\n",
      "13602/13602 [==============================] - 13s 951us/step - loss: 17036.9160 - accuracy: 7.4671e-05 - val_loss: 61.8533 - val_accuracy: 0.0000e+00\n",
      "Epoch 75/100\n",
      "13602/13602 [==============================] - 13s 936us/step - loss: 17035.2578 - accuracy: 7.8117e-05 - val_loss: 57.0104 - val_accuracy: 2.9402e-05\n",
      "Epoch 76/100\n",
      "13602/13602 [==============================] - 12s 918us/step - loss: 17032.7578 - accuracy: 7.9266e-05 - val_loss: 59.0452 - val_accuracy: 5.8805e-05\n",
      "Epoch 77/100\n",
      "13602/13602 [==============================] - 12s 910us/step - loss: 17034.7852 - accuracy: 8.6159e-05 - val_loss: 60.6210 - val_accuracy: 2.9402e-05\n",
      "Epoch 78/100\n",
      "13602/13602 [==============================] - 13s 954us/step - loss: 17036.2285 - accuracy: 8.8456e-05 - val_loss: 55.6565 - val_accuracy: 2.9402e-05\n",
      "Epoch 79/100\n",
      "13602/13602 [==============================] - 12s 912us/step - loss: 17035.9062 - accuracy: 8.7308e-05 - val_loss: 57.1330 - val_accuracy: 2.9402e-05\n",
      "Epoch 80/100\n",
      "13602/13602 [==============================] - 13s 940us/step - loss: 17035.1465 - accuracy: 9.4200e-05 - val_loss: 55.9227 - val_accuracy: 5.8805e-05\n",
      "Epoch 81/100\n",
      "13602/13602 [==============================] - 13s 940us/step - loss: 17035.0684 - accuracy: 7.1225e-05 - val_loss: 57.3612 - val_accuracy: 2.9402e-05\n",
      "Epoch 82/100\n",
      "13602/13602 [==============================] - 13s 939us/step - loss: 17027.3770 - accuracy: 7.4671e-05 - val_loss: 59.5083 - val_accuracy: 2.9402e-05\n",
      "Epoch 83/100\n",
      "13602/13602 [==============================] - 13s 930us/step - loss: 17037.5312 - accuracy: 8.7308e-05 - val_loss: 60.0297 - val_accuracy: 2.9402e-05\n",
      "Epoch 84/100\n",
      "13602/13602 [==============================] - 13s 935us/step - loss: 17035.1562 - accuracy: 7.6969e-05 - val_loss: 57.0263 - val_accuracy: 5.8805e-05\n",
      "Epoch 85/100\n",
      "13602/13602 [==============================] - 13s 945us/step - loss: 17032.5898 - accuracy: 9.8795e-05 - val_loss: 57.0047 - val_accuracy: 2.9402e-05\n",
      "Epoch 86/100\n",
      "13602/13602 [==============================] - 13s 934us/step - loss: 17040.3926 - accuracy: 7.8117e-05 - val_loss: 60.6334 - val_accuracy: 2.9402e-05\n",
      "Epoch 87/100\n",
      "13602/13602 [==============================] - 13s 970us/step - loss: 17032.1465 - accuracy: 7.1225e-05 - val_loss: 56.2794 - val_accuracy: 5.8805e-05\n",
      "Epoch 88/100\n",
      "13602/13602 [==============================] - 13s 929us/step - loss: 17032.4570 - accuracy: 7.2373e-05 - val_loss: 71.7248 - val_accuracy: 5.8805e-05\n",
      "Epoch 89/100\n",
      "13602/13602 [==============================] - 13s 933us/step - loss: 17034.5938 - accuracy: 7.0076e-05 - val_loss: 56.1052 - val_accuracy: 2.9402e-05\n",
      "Epoch 90/100\n",
      "13602/13602 [==============================] - 13s 942us/step - loss: 17036.4688 - accuracy: 6.6630e-05 - val_loss: 58.3053 - val_accuracy: 5.8805e-05\n",
      "Epoch 91/100\n",
      "13602/13602 [==============================] - 13s 936us/step - loss: 17035.4180 - accuracy: 6.8927e-05 - val_loss: 56.0452 - val_accuracy: 5.8805e-05\n",
      "Epoch 92/100\n",
      "13602/13602 [==============================] - 13s 927us/step - loss: 17034.4023 - accuracy: 8.5010e-05 - val_loss: 55.8762 - val_accuracy: 2.9402e-05\n",
      "Epoch 93/100\n",
      "13602/13602 [==============================] - 13s 933us/step - loss: 17034.4609 - accuracy: 5.5142e-05 - val_loss: 55.9951 - val_accuracy: 5.8805e-05\n",
      "Epoch 94/100\n",
      "13602/13602 [==============================] - 13s 934us/step - loss: 17038.7129 - accuracy: 7.0076e-05 - val_loss: 56.8619 - val_accuracy: 9.4087e-04\n",
      "Epoch 95/100\n",
      "13602/13602 [==============================] - 13s 940us/step - loss: 17037.0957 - accuracy: 6.8927e-05 - val_loss: 70.2219 - val_accuracy: 9.7027e-04\n",
      "Epoch 96/100\n",
      "13602/13602 [==============================] - 13s 937us/step - loss: 17033.1660 - accuracy: 7.3522e-05 - val_loss: 58.2119 - val_accuracy: 5.8805e-05\n",
      "Epoch 97/100\n",
      "13602/13602 [==============================] - 13s 945us/step - loss: 17035.1836 - accuracy: 8.0415e-05 - val_loss: 57.1710 - val_accuracy: 2.9402e-05\n",
      "Epoch 98/100\n",
      "13602/13602 [==============================] - 13s 934us/step - loss: 17029.9141 - accuracy: 7.4671e-05 - val_loss: 56.8706 - val_accuracy: 2.9402e-05\n",
      "Epoch 99/100\n",
      "13602/13602 [==============================] - 13s 924us/step - loss: 17034.9453 - accuracy: 9.4200e-05 - val_loss: 56.3233 - val_accuracy: 2.9402e-05\n",
      "Epoch 100/100\n",
      "13602/13602 [==============================] - 13s 924us/step - loss: 17035.4570 - accuracy: 7.2373e-05 - val_loss: 57.5665 - val_accuracy: 5.8805e-05\n"
     ]
    }
   ],
   "source": [
    "history = model.fit(X_train, y_train, epochs=100, batch_size=64, validation_data=[X_test, y_test])"
   ]
  },
  {
   "cell_type": "code",
   "execution_count": 53,
   "metadata": {},
   "outputs": [
    {
     "name": "stdout",
     "output_type": "stream",
     "text": [
      "27203/27203 [==============================] - 20s 721us/step\n",
      "17036.16378527687\n",
      "0.32268975776225617\n",
      "1063/1063 [==============================] - 1s 703us/step\n",
      "57.56652559415244\n",
      "0.31187733753707825\n"
     ]
    }
   ],
   "source": [
    "train_pred = model.predict(X_train)\n",
    "print(mse(train_pred, y_train))\n",
    "print(mape(train_pred, y_train))\n",
    "test_pred = model.predict(X_test)\n",
    "print(mse(test_pred, y_test))\n",
    "print(mape(test_pred, y_test))"
   ]
  },
  {
   "cell_type": "code",
   "execution_count": 54,
   "metadata": {},
   "outputs": [
    {
     "name": "stdout",
     "output_type": "stream",
     "text": [
      "1063/1063 [==============================] - 1s 875us/step - loss: 57.5665 - accuracy: 5.8805e-05\n"
     ]
    },
    {
     "data": {
      "text/plain": [
       "[57.566505432128906, 5.8804504078580067e-05]"
      ]
     },
     "execution_count": 54,
     "metadata": {},
     "output_type": "execute_result"
    }
   ],
   "source": [
    "model.evaluate(X_test, y_test)"
   ]
  },
  {
   "cell_type": "code",
   "execution_count": 55,
   "metadata": {},
   "outputs": [
    {
     "data": {
      "text/plain": [
       "array([[1.        , 0.83561346],\n",
       "       [0.83561346, 1.        ]])"
      ]
     },
     "execution_count": 55,
     "metadata": {},
     "output_type": "execute_result"
    }
   ],
   "source": [
    "np.corrcoef(test_pred.flatten(), y_test)"
   ]
  },
  {
   "cell_type": "code",
   "execution_count": 56,
   "metadata": {},
   "outputs": [
    {
     "name": "stdout",
     "output_type": "stream",
     "text": [
      "Model: \"sequential_5\"\n",
      "_________________________________________________________________\n",
      " Layer (type)                Output Shape              Param #   \n",
      "=================================================================\n",
      " dense_18 (Dense)            (None, 5)                 30        \n",
      "                                                                 \n",
      " dense_19 (Dense)            (None, 5)                 30        \n",
      "                                                                 \n",
      " dense_20 (Dense)            (None, 1)                 6         \n",
      "                                                                 \n",
      "=================================================================\n",
      "Total params: 66\n",
      "Trainable params: 66\n",
      "Non-trainable params: 0\n",
      "_________________________________________________________________\n"
     ]
    }
   ],
   "source": [
    "model.summary()"
   ]
  },
  {
   "cell_type": "code",
   "execution_count": 57,
   "metadata": {},
   "outputs": [
    {
     "data": {
      "text/plain": [
       "{'loss': [17575.859375,\n",
       "  17104.162109375,\n",
       "  17067.884765625,\n",
       "  17059.87890625,\n",
       "  17054.26953125,\n",
       "  17049.84375,\n",
       "  17038.189453125,\n",
       "  17046.94921875,\n",
       "  17044.60546875,\n",
       "  17039.873046875,\n",
       "  17036.037109375,\n",
       "  17036.876953125,\n",
       "  17036.376953125,\n",
       "  17032.732421875,\n",
       "  17036.275390625,\n",
       "  17030.455078125,\n",
       "  17033.701171875,\n",
       "  17035.58984375,\n",
       "  17036.44140625,\n",
       "  17037.08203125,\n",
       "  17033.5546875,\n",
       "  17030.578125,\n",
       "  17035.123046875,\n",
       "  17035.318359375,\n",
       "  17032.2890625,\n",
       "  17033.8984375,\n",
       "  17026.8203125,\n",
       "  17035.25,\n",
       "  17032.7734375,\n",
       "  17033.09375,\n",
       "  17034.36328125,\n",
       "  17033.8046875,\n",
       "  17033.2265625,\n",
       "  17032.62109375,\n",
       "  17032.294921875,\n",
       "  17032.876953125,\n",
       "  17036.337890625,\n",
       "  17032.75390625,\n",
       "  17032.263671875,\n",
       "  17032.046875,\n",
       "  17030.193359375,\n",
       "  17033.912109375,\n",
       "  17035.806640625,\n",
       "  17032.431640625,\n",
       "  17033.78515625,\n",
       "  17033.779296875,\n",
       "  17033.609375,\n",
       "  17034.3125,\n",
       "  17033.50390625,\n",
       "  17035.251953125,\n",
       "  17035.88671875,\n",
       "  17031.11328125,\n",
       "  17036.314453125,\n",
       "  17033.396484375,\n",
       "  17035.91015625,\n",
       "  17034.734375,\n",
       "  17024.412109375,\n",
       "  17033.240234375,\n",
       "  17033.244140625,\n",
       "  17033.205078125,\n",
       "  17031.306640625,\n",
       "  17032.287109375,\n",
       "  17034.923828125,\n",
       "  17034.966796875,\n",
       "  17035.630859375,\n",
       "  17032.28515625,\n",
       "  17033.4375,\n",
       "  17037.908203125,\n",
       "  17031.62890625,\n",
       "  17035.943359375,\n",
       "  17030.771484375,\n",
       "  17035.451171875,\n",
       "  17034.388671875,\n",
       "  17036.916015625,\n",
       "  17035.2578125,\n",
       "  17032.7578125,\n",
       "  17034.78515625,\n",
       "  17036.228515625,\n",
       "  17035.90625,\n",
       "  17035.146484375,\n",
       "  17035.068359375,\n",
       "  17027.376953125,\n",
       "  17037.53125,\n",
       "  17035.15625,\n",
       "  17032.58984375,\n",
       "  17040.392578125,\n",
       "  17032.146484375,\n",
       "  17032.45703125,\n",
       "  17034.59375,\n",
       "  17036.46875,\n",
       "  17035.41796875,\n",
       "  17034.40234375,\n",
       "  17034.4609375,\n",
       "  17038.712890625,\n",
       "  17037.095703125,\n",
       "  17033.166015625,\n",
       "  17035.18359375,\n",
       "  17029.9140625,\n",
       "  17034.9453125,\n",
       "  17035.45703125],\n",
       " 'accuracy': [6.433195085264742e-05,\n",
       "  3.216597542632371e-05,\n",
       "  3.3314761822111905e-05,\n",
       "  2.9868406272726133e-05,\n",
       "  3.446354457992129e-05,\n",
       "  4.020746928290464e-05,\n",
       "  4.020746928290464e-05,\n",
       "  4.135625567869283e-05,\n",
       "  5.169531868887134e-05,\n",
       "  5.399288784246892e-05,\n",
       "  6.662952364422381e-05,\n",
       "  7.237344834720716e-05,\n",
       "  0.00010913456208072603,\n",
       "  9.190278797177598e-05,\n",
       "  7.467101386282593e-05,\n",
       "  8.271251135738567e-05,\n",
       "  0.00010453942377353087,\n",
       "  9.305157436756417e-05,\n",
       "  6.662952364422381e-05,\n",
       "  6.318316445685923e-05,\n",
       "  7.92661594459787e-05,\n",
       "  7.811737305019051e-05,\n",
       "  9.534914715914056e-05,\n",
       "  0.00010339063737774268,\n",
       "  0.00015968109073583037,\n",
       "  0.0001240687706740573,\n",
       "  0.00014359811029862612,\n",
       "  0.00013900296471547335,\n",
       "  0.00014359811029862612,\n",
       "  0.00012636632891371846,\n",
       "  0.0001458956830902025,\n",
       "  0.00017576408572494984,\n",
       "  0.00015393717330880463,\n",
       "  0.00014359811029862612,\n",
       "  0.0001573835324961692,\n",
       "  0.00013900296471547335,\n",
       "  0.00010568821016931906,\n",
       "  0.00014015175111126155,\n",
       "  0.00015278838691301644,\n",
       "  0.00014819324132986367,\n",
       "  0.00012636632891371846,\n",
       "  0.0001252175570698455,\n",
       "  9.075400157598779e-05,\n",
       "  0.0001344078336842358,\n",
       "  0.00011028334847651422,\n",
       "  9.994428546633571e-05,\n",
       "  0.00011487848678370938,\n",
       "  9.534914715914056e-05,\n",
       "  8.845643606036901e-05,\n",
       "  8.271251135738567e-05,\n",
       "  7.467101386282593e-05,\n",
       "  7.352223474299535e-05,\n",
       "  8.615886326879263e-05,\n",
       "  8.845643606036901e-05,\n",
       "  5.169531868887134e-05,\n",
       "  7.581980025861412e-05,\n",
       "  9.075400157598779e-05,\n",
       "  7.237344834720716e-05,\n",
       "  6.088559894124046e-05,\n",
       "  6.7778310040012e-05,\n",
       "  8.271251135738567e-05,\n",
       "  6.433195085264742e-05,\n",
       "  8.960522245615721e-05,\n",
       "  0.0001010930718621239,\n",
       "  0.00010339063737774268,\n",
       "  7.237344834720716e-05,\n",
       "  8.041493856580928e-05,\n",
       "  8.960522245615721e-05,\n",
       "  9.420036076335236e-05,\n",
       "  0.00010683699656510726,\n",
       "  7.811737305019051e-05,\n",
       "  0.00010798577568493783,\n",
       "  8.156372496159747e-05,\n",
       "  7.467101386282593e-05,\n",
       "  7.811737305019051e-05,\n",
       "  7.92661594459787e-05,\n",
       "  8.615886326879263e-05,\n",
       "  8.845643606036901e-05,\n",
       "  8.730764966458082e-05,\n",
       "  9.420036076335236e-05,\n",
       "  7.122466195141897e-05,\n",
       "  7.467101386282593e-05,\n",
       "  8.730764966458082e-05,\n",
       "  7.696858665440232e-05,\n",
       "  9.879549907054752e-05,\n",
       "  7.811737305019051e-05,\n",
       "  7.122466195141897e-05,\n",
       "  7.237344834720716e-05,\n",
       "  7.007587555563077e-05,\n",
       "  6.662952364422381e-05,\n",
       "  6.892708915984258e-05,\n",
       "  8.501008414896205e-05,\n",
       "  5.514167423825711e-05,\n",
       "  7.007587555563077e-05,\n",
       "  6.892708915984258e-05,\n",
       "  7.352223474299535e-05,\n",
       "  8.041493856580928e-05,\n",
       "  7.467101386282593e-05,\n",
       "  9.420036076335236e-05,\n",
       "  7.237344834720716e-05],\n",
       " 'val_loss': [184.62322998046875,\n",
       "  142.89405822753906,\n",
       "  122.50292205810547,\n",
       "  102.60773468017578,\n",
       "  69.84354400634766,\n",
       "  73.06556701660156,\n",
       "  66.45436096191406,\n",
       "  241.08831787109375,\n",
       "  63.61349105834961,\n",
       "  63.365684509277344,\n",
       "  59.12721252441406,\n",
       "  58.72122573852539,\n",
       "  58.47959518432617,\n",
       "  63.06257629394531,\n",
       "  63.209815979003906,\n",
       "  56.96189880371094,\n",
       "  57.666282653808594,\n",
       "  57.16865921020508,\n",
       "  56.61431884765625,\n",
       "  57.67093276977539,\n",
       "  58.2638053894043,\n",
       "  57.68179702758789,\n",
       "  57.20314025878906,\n",
       "  73.08377075195312,\n",
       "  56.349727630615234,\n",
       "  56.6147346496582,\n",
       "  56.79859924316406,\n",
       "  60.06642150878906,\n",
       "  57.72191619873047,\n",
       "  62.48616027832031,\n",
       "  57.406368255615234,\n",
       "  59.18146514892578,\n",
       "  56.806365966796875,\n",
       "  57.791542053222656,\n",
       "  59.534156799316406,\n",
       "  56.798309326171875,\n",
       "  57.67201232910156,\n",
       "  56.56306838989258,\n",
       "  56.84666442871094,\n",
       "  58.005985260009766,\n",
       "  58.215171813964844,\n",
       "  59.41765213012695,\n",
       "  56.56960678100586,\n",
       "  59.07891845703125,\n",
       "  57.11028289794922,\n",
       "  57.84429168701172,\n",
       "  58.31027603149414,\n",
       "  58.772464752197266,\n",
       "  56.935523986816406,\n",
       "  57.60026550292969,\n",
       "  64.15360260009766,\n",
       "  56.50550079345703,\n",
       "  55.93186950683594,\n",
       "  131.16531372070312,\n",
       "  63.529415130615234,\n",
       "  57.489871978759766,\n",
       "  57.23183059692383,\n",
       "  58.25442886352539,\n",
       "  99.16985321044922,\n",
       "  58.596092224121094,\n",
       "  56.32504653930664,\n",
       "  56.90241241455078,\n",
       "  59.0460090637207,\n",
       "  81.27751159667969,\n",
       "  57.40000915527344,\n",
       "  59.661033630371094,\n",
       "  58.23484420776367,\n",
       "  59.47269821166992,\n",
       "  59.505558013916016,\n",
       "  60.34343719482422,\n",
       "  56.44038391113281,\n",
       "  57.427162170410156,\n",
       "  58.78419494628906,\n",
       "  61.853275299072266,\n",
       "  57.01036834716797,\n",
       "  59.04517364501953,\n",
       "  60.62097930908203,\n",
       "  55.65645980834961,\n",
       "  57.13297653198242,\n",
       "  55.92274475097656,\n",
       "  57.3611946105957,\n",
       "  59.5082893371582,\n",
       "  60.029747009277344,\n",
       "  57.026344299316406,\n",
       "  57.0047492980957,\n",
       "  60.63341522216797,\n",
       "  56.2794303894043,\n",
       "  71.72484588623047,\n",
       "  56.10523986816406,\n",
       "  58.305328369140625,\n",
       "  56.045223236083984,\n",
       "  55.876216888427734,\n",
       "  55.99510955810547,\n",
       "  56.86187744140625,\n",
       "  70.22187042236328,\n",
       "  58.211891174316406,\n",
       "  57.171043395996094,\n",
       "  56.87060546875,\n",
       "  56.32326126098633,\n",
       "  57.566532135009766],\n",
       " 'val_accuracy': [2.9402252039290033e-05,\n",
       "  0.0,\n",
       "  5.8804504078580067e-05,\n",
       "  5.8804504078580067e-05,\n",
       "  0.0,\n",
       "  2.9402252039290033e-05,\n",
       "  2.9402252039290033e-05,\n",
       "  0.0,\n",
       "  2.9402252039290033e-05,\n",
       "  0.0,\n",
       "  0.0,\n",
       "  0.0009408720652572811,\n",
       "  5.8804504078580067e-05,\n",
       "  2.9402252039290033e-05,\n",
       "  5.8804504078580067e-05,\n",
       "  2.9402252039290033e-05,\n",
       "  2.9402252039290033e-05,\n",
       "  5.8804504078580067e-05,\n",
       "  2.9402252039290033e-05,\n",
       "  2.9402252039290033e-05,\n",
       "  0.0009702743263915181,\n",
       "  0.00014701126201543957,\n",
       "  5.8804504078580067e-05,\n",
       "  0.0009408720652572811,\n",
       "  0.0009702743263915181,\n",
       "  0.0009702743263915181,\n",
       "  5.8804504078580067e-05,\n",
       "  2.9402252039290033e-05,\n",
       "  5.8804504078580067e-05,\n",
       "  2.9402252039290033e-05,\n",
       "  2.9402252039290033e-05,\n",
       "  2.9402252039290033e-05,\n",
       "  5.8804504078580067e-05,\n",
       "  2.9402252039290033e-05,\n",
       "  0.00014701126201543957,\n",
       "  5.8804504078580067e-05,\n",
       "  5.8804504078580067e-05,\n",
       "  5.8804504078580067e-05,\n",
       "  5.8804504078580067e-05,\n",
       "  0.0009702743263915181,\n",
       "  2.9402252039290033e-05,\n",
       "  0.0009702743263915181,\n",
       "  0.0009702743263915181,\n",
       "  0.0009702743263915181,\n",
       "  0.0009702743263915181,\n",
       "  2.9402252039290033e-05,\n",
       "  2.9402252039290033e-05,\n",
       "  5.8804504078580067e-05,\n",
       "  5.8804504078580067e-05,\n",
       "  2.9402252039290033e-05,\n",
       "  2.9402252039290033e-05,\n",
       "  2.9402252039290033e-05,\n",
       "  2.9402252039290033e-05,\n",
       "  0.0009702743263915181,\n",
       "  0.0009702743263915181,\n",
       "  2.9402252039290033e-05,\n",
       "  2.9402252039290033e-05,\n",
       "  2.9402252039290033e-05,\n",
       "  0.0009408720652572811,\n",
       "  5.8804504078580067e-05,\n",
       "  2.9402252039290033e-05,\n",
       "  2.9402252039290033e-05,\n",
       "  2.9402252039290033e-05,\n",
       "  2.9402252039290033e-05,\n",
       "  5.8804504078580067e-05,\n",
       "  5.8804504078580067e-05,\n",
       "  5.8804504078580067e-05,\n",
       "  0.0009702743263915181,\n",
       "  5.8804504078580067e-05,\n",
       "  0.0009408720652572811,\n",
       "  2.9402252039290033e-05,\n",
       "  2.9402252039290033e-05,\n",
       "  5.8804504078580067e-05,\n",
       "  0.0,\n",
       "  2.9402252039290033e-05,\n",
       "  5.8804504078580067e-05,\n",
       "  2.9402252039290033e-05,\n",
       "  2.9402252039290033e-05,\n",
       "  2.9402252039290033e-05,\n",
       "  5.8804504078580067e-05,\n",
       "  2.9402252039290033e-05,\n",
       "  2.9402252039290033e-05,\n",
       "  2.9402252039290033e-05,\n",
       "  5.8804504078580067e-05,\n",
       "  2.9402252039290033e-05,\n",
       "  2.9402252039290033e-05,\n",
       "  5.8804504078580067e-05,\n",
       "  5.8804504078580067e-05,\n",
       "  2.9402252039290033e-05,\n",
       "  5.8804504078580067e-05,\n",
       "  5.8804504078580067e-05,\n",
       "  2.9402252039290033e-05,\n",
       "  5.8804504078580067e-05,\n",
       "  0.0009408720652572811,\n",
       "  0.0009702743263915181,\n",
       "  5.8804504078580067e-05,\n",
       "  2.9402252039290033e-05,\n",
       "  2.9402252039290033e-05,\n",
       "  2.9402252039290033e-05,\n",
       "  5.8804504078580067e-05]}"
      ]
     },
     "execution_count": 57,
     "metadata": {},
     "output_type": "execute_result"
    }
   ],
   "source": [
    "history.history"
   ]
  },
  {
   "cell_type": "code",
   "execution_count": 58,
   "metadata": {},
   "outputs": [
    {
     "name": "stdout",
     "output_type": "stream",
     "text": [
      "INFO:tensorflow:Assets written to: ram:///var/folders/yd/vkjb_lqj2_30lnyhzhjqtg9w0000gp/T/tmpvx6kh76i/assets\n"
     ]
    }
   ],
   "source": [
    "file = model_path+'model_nonzero_32to38_3layer5unit_100.sav'\n",
    "pickle.dump(model, open(file, 'wb'))"
   ]
  },
  {
   "cell_type": "code",
   "execution_count": null,
   "metadata": {
    "scrolled": true
   },
   "outputs": [],
   "source": [
    "file = model_path+'model_nonzero_32to38.sav'\n",
    "load_model = pickle.load(open(file, 'rb'))\n",
    "result = load_model.evaluate(X_test, y_test)\n",
    "print(result)"
   ]
  },
  {
   "cell_type": "markdown",
   "metadata": {},
   "source": [
    "## Plot"
   ]
  },
  {
   "cell_type": "markdown",
   "metadata": {},
   "source": [
    "### Loss function (MSE)"
   ]
  },
  {
   "cell_type": "code",
   "execution_count": 59,
   "metadata": {
    "scrolled": false
   },
   "outputs": [
    {
     "data": {
      "image/png": "[encoded data removed]",
      "text/plain": [
       "<Figure size 640x480 with 1 Axes>"
      ]
     },
     "metadata": {},
     "output_type": "display_data"
    }
   ],
   "source": [
    "model_df = pd.DataFrame(history.history)\n",
    "model_df[['loss', 'val_loss']].plot()\n",
    "plt.xlabel(\"Number of Epochs\")\n",
    "plt.ylabel(\"Loss\")\n",
    "plt.title(\"Training and Validation Loss Over Training Period\", pad=12);"
   ]
  },
  {
   "cell_type": "markdown",
   "metadata": {},
   "source": [
    "### Accuracy"
   ]
  },
  {
   "cell_type": "code",
   "execution_count": 60,
   "metadata": {},
   "outputs": [
    {
     "data": {
      "image/png": "[encoded data removed]",
      "text/plain": [
       "<Figure size 640x480 with 1 Axes>"
      ]
     },
     "metadata": {},
     "output_type": "display_data"
    }
   ],
   "source": [
    "model_df[['accuracy', 'val_accuracy']].plot()\n",
    "plt.xlabel(\"Number of Epochs\")\n",
    "plt.ylabel(\"Accuracy\")\n",
    "plt.title(\"Training and Validation Accuray Over Training Period\", pad=12);"
   ]
  },
  {
   "cell_type": "markdown",
   "metadata": {},
   "source": [
    "### Theory vs Predict"
   ]
  },
  {
   "cell_type": "code",
   "execution_count": 61,
   "metadata": {
    "scrolled": false
   },
   "outputs": [
    {
     "name": "stdout",
     "output_type": "stream",
     "text": [
      "r: 0.83561, st_er: 0.002626\n",
      "y = 0.7367*x + 3.0079\n"
     ]
    },
    {
     "data": {
      "image/png": "[encoded data removed]",
      "text/plain": [
       "<Figure size 640x480 with 1 Axes>"
      ]
     },
     "metadata": {},
     "output_type": "display_data"
    }
   ],
   "source": [
    "x = y_test.flatten()\n",
    "y = test_pred.flatten()\n",
    "m, b, r, p, st_er = stats.linregress(x,y) \n",
    "\n",
    "yfit = [b + m * xi for xi in x]\n",
    "yisx = [0 + 1 * xi for xi in x]\n",
    "plt.plot(x, yfit)\n",
    "plt.plot(x, yisx)\n",
    "\n",
    "plt.scatter(y_test, test_pred,  color='black')\n",
    "plt.axis([0,100, 0, 100])\n",
    "plt.xlabel(\"Theory (nT)\")\n",
    "plt.ylabel(\"Prediction (nT)\")\n",
    "plt.title(\"Neural Network Prediction vs Theory\", fontsize=15)\n",
    "# print(r, st_er)\n",
    "print(\"r: {:.5f}, st_er: {:.6f}\".format(r, st_er))\n",
    "print(\"y = \"+str(round(m,4))+\"*x + \"+str(round(b,4)))"
   ]
  },
  {
   "cell_type": "markdown",
   "metadata": {},
   "source": [
    "### Physics vs Theory"
   ]
  },
  {
   "cell_type": "code",
   "execution_count": null,
   "metadata": {},
   "outputs": [],
   "source": [
    "df_p = df_physics[(df_physics['exp']==36) & (df_physics['mini_exp']==6)]"
   ]
  },
  {
   "cell_type": "code",
   "execution_count": null,
   "metadata": {},
   "outputs": [],
   "source": [
    "df_p[(df_p['i'] == 31) & (df_p['j'] == 31) & (df_p['k'] == 31) ]"
   ]
  },
  {
   "cell_type": "code",
   "execution_count": null,
   "metadata": {},
   "outputs": [],
   "source": [
    "y_val = df_physics[(df_physics['exp']==36) & (df_physics['mini_exp']==6)]['mean'].values\n",
    "\n",
    "x = y_test.flatten()\n",
    "y = y_val.flatten()\n",
    "m, b, r, p, st_er = stats.linregress(x,y) \n",
    "\n",
    "yfit = [b + m * xi for xi in x]\n",
    "yisx = [0 + 1 * xi for xi in x]\n",
    "plt.plot(x, yfit)\n",
    "plt.plot(x, yisx)\n",
    "\n",
    "plt.scatter(y_test, y_val,  color='black')\n",
    "plt.axis([0,100, 0, 100])\n",
    "plt.xlabel(\"Theory (nT)\")\n",
    "plt.ylabel(\"Physics (nT)\")\n",
    "plt.title(\"Physics vs Theory\", fontsize=15)\n",
    "# print(r, st_er)\n",
    "print(\"r: {:.5f}%, st_er: {:.6f}%\".format(r, st_er))\n",
    "print(\"y = \"+str(round(m,4))+\"*x + \"+str(round(b,4)))"
   ]
  },
  {
   "cell_type": "markdown",
   "metadata": {},
   "source": [
    "### Theory vs Drift correction"
   ]
  },
  {
   "cell_type": "code",
   "execution_count": null,
   "metadata": {},
   "outputs": [],
   "source": [
    "df_p = df_new[(df_new['exp']==36) & (df_new['mini_exp']==6)]"
   ]
  },
  {
   "cell_type": "code",
   "execution_count": null,
   "metadata": {},
   "outputs": [],
   "source": [
    "df_p[(df_p['i'] == 31) & (df_p['j'] == 31) & (df_p['k'] == 31) ]"
   ]
  },
  {
   "cell_type": "code",
   "execution_count": null,
   "metadata": {},
   "outputs": [],
   "source": [
    "y_val = df_new['value'].values\n",
    "\n",
    "x = y_test.flatten()\n",
    "y = y_val.flatten()\n",
    "m, b, r, p, st_er = stats.linregress(x,y) \n",
    "\n",
    "yfit = [b + m * xi for xi in x]\n",
    "yisx = [0 + 1 * xi for xi in x]\n",
    "plt.plot(x, yfit)\n",
    "plt.plot(x, yisx)\n",
    "\n",
    "plt.scatter(y_test, y_val,  color='black')\n",
    "plt.axis([0,100, 0, 100])\n",
    "plt.xlabel(\"Theory (nT)\")\n",
    "plt.ylabel(\"Physics (Drift correction) (nT)\")\n",
    "plt.title(\"Physics (Drift correction) vs Theory\")\n",
    "# print(r, st_er)\n",
    "print(\"r: {:.5f}%, st_er: {:.6f}%\".format(r, st_er))\n",
    "print(\"y = \"+str(round(m,4))+\"*x + \"+str(round(b,4)))"
   ]
  },
  {
   "cell_type": "code",
   "execution_count": null,
   "metadata": {},
   "outputs": [],
   "source": []
  },
  {
   "cell_type": "code",
   "execution_count": null,
   "metadata": {},
   "outputs": [],
   "source": []
  },
  {
   "cell_type": "markdown",
   "metadata": {},
   "source": [
    "### Erode"
   ]
  },
  {
   "cell_type": "markdown",
   "metadata": {},
   "source": [
    "### Physics vs Theory"
   ]
  },
  {
   "cell_type": "code",
   "execution_count": 15,
   "metadata": {},
   "outputs": [
    {
     "name": "stdout",
     "output_type": "stream",
     "text": [
      "r: 0.06228, st_er: 0.023157\n",
      "y = 0.6134*x + -0.4516\n"
     ]
    },
    {
     "data": {
      "image/png": "[encoded data removed]",
      "text/plain": [
       "<Figure size 432x288 with 1 Axes>"
      ]
     },
     "metadata": {
      "needs_background": "light"
     },
     "output_type": "display_data"
    }
   ],
   "source": [
    "xminusy = \"56minus54\" # run 6\n",
    "erode = '1'\n",
    "sub_path = dir_path+\"data/external/R21_36_Cyl_Aqueous/\"\n",
    "cwd = sub_path+\"NIFTI/bmaps_numpy/\"+xminusy+\"/\"\n",
    "img_meas = nib.load(cwd+\"/diff_fmap_Mean_erode\"+erode+\".nii.gz\")\n",
    "img_theo = nib.load(cwd+\"/Bvals_erode\"+erode+\".nii.gz\")\n",
    "\n",
    "data_meas = img_meas.get_data()\n",
    "data_theo = img_theo.get_data()\n",
    "x = data_theo.flatten()\n",
    "y = data_meas.flatten()\n",
    "\n",
    "m, b, r, p, st_er = stats.linregress(x,y) \n",
    "\n",
    "yfit = [b + m * xi for xi in x]\n",
    "yisx = [0 + 1 * xi for xi in x]\n",
    "plt.plot(x, yfit)\n",
    "plt.plot(x, yisx)\n",
    "\n",
    "plt.scatter(x, y,  color='black')\n",
    "plt.axis([0,100, 0, 100])\n",
    "plt.xlabel(\"Theory (nT)\")\n",
    "plt.ylabel(\"Prediction (nT)\")\n",
    "plt.title(\"Physics vs Theory (erode)\", fontsize=15)\n",
    "# print(r, st_er)\n",
    "print(\"r: {:.5f}, st_er: {:.6f}\".format(r, st_er))\n",
    "print(\"y = \"+str(round(m,4))+\"*x + \"+str(round(b,4)))"
   ]
  },
  {
   "cell_type": "code",
   "execution_count": 12,
   "metadata": {},
   "outputs": [
    {
     "data": {
      "text/plain": [
       "'/Users/chikakoolsen/opt/python/thesis/code/tdcs_thesis/data/processed/NIFTI/bmaps_numpy/46minus44/'"
      ]
     },
     "execution_count": 12,
     "metadata": {},
     "output_type": "execute_result"
    }
   ],
   "source": [
    "cwd"
   ]
  },
  {
   "cell_type": "markdown",
   "metadata": {},
   "source": [
    "### Predict vs Theory"
   ]
  },
  {
   "cell_type": "code",
   "execution_count": 74,
   "metadata": {
    "scrolled": true
   },
   "outputs": [
    {
     "ename": "NameError",
     "evalue": "name 'nib' is not defined",
     "output_type": "error",
     "traceback": [
      "\u001b[0;31m---------------------------------------------------------------------------\u001b[0m",
      "\u001b[0;31mNameError\u001b[0m                                 Traceback (most recent call last)",
      "Input \u001b[0;32mIn [74]\u001b[0m, in \u001b[0;36m<cell line: 1>\u001b[0;34m()\u001b[0m\n\u001b[0;32m----> 1\u001b[0m img_pred \u001b[38;5;241m=\u001b[39m \u001b[43mnib\u001b[49m\u001b[38;5;241m.\u001b[39mload(img_path\u001b[38;5;241m+\u001b[39m\u001b[38;5;124m\"\u001b[39m\u001b[38;5;124m/predicted_nn_nonzero_32to38_3layer5unit_100_erode.nii.gz\u001b[39m\u001b[38;5;124m\"\u001b[39m)\n\u001b[1;32m      2\u001b[0m data_pred \u001b[38;5;241m=\u001b[39m img_pred\u001b[38;5;241m.\u001b[39mget_data()\n\u001b[1;32m      4\u001b[0m x \u001b[38;5;241m=\u001b[39m data_theo\u001b[38;5;241m.\u001b[39mflatten()\n",
      "\u001b[0;31mNameError\u001b[0m: name 'nib' is not defined"
     ]
    }
   ],
   "source": [
    "img_pred = nib.load(img_path+\"/predicted_nn_nonzero_32to38_3layer5unit_erode.nii.gz\")\n",
    "data_pred = img_pred.get_data()\n",
    "\n",
    "x = data_theo.flatten()\n",
    "y = data_pred.flatten()\n",
    "m, b, r, p, st_er = stats.linregress(x,y) \n",
    "\n",
    "yfit = [b + m * xi for xi in x]\n",
    "yisx = [0 + 1 * xi for xi in x]\n",
    "plt.plot(x, yfit)\n",
    "plt.plot(x, yisx)\n",
    "\n",
    "plt.scatter(x, y,  color='black')\n",
    "plt.axis([0,100, 0, 100])\n",
    "plt.xlabel(\"Theory (nT)\")\n",
    "plt.ylabel(\"Prediction (nT)\")\n",
    "plt.title(\"Neural Network Prediction vs Theory (erode)\", fontsize=15)\n",
    "# print(r, st_er)\n",
    "print(\"r: {:.5f}, st_er: {:.6f}\".format(r, st_er))\n",
    "print(\"y = \"+str(round(m,4))+\"*x + \"+str(round(b,4)))"
   ]
  },
  {
   "cell_type": "markdown",
   "metadata": {},
   "source": [
    "# Output data"
   ]
  },
  {
   "cell_type": "code",
   "execution_count": 62,
   "metadata": {},
   "outputs": [
    {
     "name": "stdout",
     "output_type": "stream",
     "text": [
      "1063/1063 [==============================] - 1s 724us/step\n"
     ]
    }
   ],
   "source": [
    "test_pred = model.predict(X4_pred)"
   ]
  },
  {
   "cell_type": "code",
   "execution_count": 63,
   "metadata": {},
   "outputs": [
    {
     "name": "stderr",
     "output_type": "stream",
     "text": [
      "/var/folders/yd/vkjb_lqj2_30lnyhzhjqtg9w0000gp/T/ipykernel_60978/2364276288.py:1: SettingWithCopyWarning: \n",
      "A value is trying to be set on a copy of a slice from a DataFrame.\n",
      "Try using .loc[row_indexer,col_indexer] = value instead\n",
      "\n",
      "See the caveats in the documentation: https://pandas.pydata.org/pandas-docs/stable/user_guide/indexing.html#returning-a-view-versus-a-copy\n",
      "  df4_pred['predict'] = test_pred\n"
     ]
    }
   ],
   "source": [
    "df4_pred['predict'] = test_pred"
   ]
  },
  {
   "cell_type": "code",
   "execution_count": 64,
   "metadata": {},
   "outputs": [
    {
     "data": {
      "text/html": [
       "<div>\n",
       "<style scoped>\n",
       "    .dataframe tbody tr th:only-of-type {\n",
       "        vertical-align: middle;\n",
       "    }\n",
       "\n",
       "    .dataframe tbody tr th {\n",
       "        vertical-align: top;\n",
       "    }\n",
       "\n",
       "    .dataframe thead th {\n",
       "        text-align: right;\n",
       "    }\n",
       "</style>\n",
       "<table border=\"1\" class=\"dataframe\">\n",
       "  <thead>\n",
       "    <tr style=\"text-align: right;\">\n",
       "      <th></th>\n",
       "      <th>exp</th>\n",
       "      <th>mini_exp</th>\n",
       "      <th>i</th>\n",
       "      <th>j</th>\n",
       "      <th>k</th>\n",
       "      <th>mean0</th>\n",
       "      <th>mean1</th>\n",
       "      <th>mean2</th>\n",
       "      <th>mean3</th>\n",
       "      <th>mean4</th>\n",
       "      <th>theory</th>\n",
       "      <th>predict</th>\n",
       "    </tr>\n",
       "  </thead>\n",
       "  <tbody>\n",
       "    <tr>\n",
       "      <th>931880</th>\n",
       "      <td>36</td>\n",
       "      <td>6</td>\n",
       "      <td>7</td>\n",
       "      <td>32</td>\n",
       "      <td>40</td>\n",
       "      <td>-183.593781</td>\n",
       "      <td>-184.268631</td>\n",
       "      <td>-199.538742</td>\n",
       "      <td>-215.528793</td>\n",
       "      <td>-215.355865</td>\n",
       "      <td>4.988159</td>\n",
       "      <td>6.444131</td>\n",
       "    </tr>\n",
       "    <tr>\n",
       "      <th>931881</th>\n",
       "      <td>36</td>\n",
       "      <td>6</td>\n",
       "      <td>7</td>\n",
       "      <td>32</td>\n",
       "      <td>41</td>\n",
       "      <td>-383.761566</td>\n",
       "      <td>-383.066467</td>\n",
       "      <td>-395.916077</td>\n",
       "      <td>-417.522858</td>\n",
       "      <td>-420.110077</td>\n",
       "      <td>4.591202</td>\n",
       "      <td>5.836526</td>\n",
       "    </tr>\n",
       "    <tr>\n",
       "      <th>931882</th>\n",
       "      <td>36</td>\n",
       "      <td>6</td>\n",
       "      <td>7</td>\n",
       "      <td>32</td>\n",
       "      <td>42</td>\n",
       "      <td>-779.052185</td>\n",
       "      <td>-785.270813</td>\n",
       "      <td>-803.943787</td>\n",
       "      <td>-811.441101</td>\n",
       "      <td>-799.951233</td>\n",
       "      <td>4.237324</td>\n",
       "      <td>4.064075</td>\n",
       "    </tr>\n",
       "    <tr>\n",
       "      <th>931883</th>\n",
       "      <td>36</td>\n",
       "      <td>6</td>\n",
       "      <td>7</td>\n",
       "      <td>32</td>\n",
       "      <td>43</td>\n",
       "      <td>-1017.557312</td>\n",
       "      <td>-1026.294189</td>\n",
       "      <td>-1037.133667</td>\n",
       "      <td>-1050.012451</td>\n",
       "      <td>-1046.674072</td>\n",
       "      <td>3.918999</td>\n",
       "      <td>4.042303</td>\n",
       "    </tr>\n",
       "    <tr>\n",
       "      <th>931919</th>\n",
       "      <td>36</td>\n",
       "      <td>6</td>\n",
       "      <td>7</td>\n",
       "      <td>33</td>\n",
       "      <td>15</td>\n",
       "      <td>-1508.948120</td>\n",
       "      <td>-1513.032471</td>\n",
       "      <td>-1527.041992</td>\n",
       "      <td>-1536.478027</td>\n",
       "      <td>-1540.133301</td>\n",
       "      <td>3.371496</td>\n",
       "      <td>3.995751</td>\n",
       "    </tr>\n",
       "    <tr>\n",
       "      <th>...</th>\n",
       "      <td>...</td>\n",
       "      <td>...</td>\n",
       "      <td>...</td>\n",
       "      <td>...</td>\n",
       "      <td>...</td>\n",
       "      <td>...</td>\n",
       "      <td>...</td>\n",
       "      <td>...</td>\n",
       "      <td>...</td>\n",
       "      <td>...</td>\n",
       "      <td>...</td>\n",
       "      <td>...</td>\n",
       "    </tr>\n",
       "    <tr>\n",
       "      <th>1050968</th>\n",
       "      <td>36</td>\n",
       "      <td>6</td>\n",
       "      <td>36</td>\n",
       "      <td>37</td>\n",
       "      <td>24</td>\n",
       "      <td>-27.330389</td>\n",
       "      <td>-28.598026</td>\n",
       "      <td>-46.617607</td>\n",
       "      <td>-59.281792</td>\n",
       "      <td>-58.657875</td>\n",
       "      <td>7.175758</td>\n",
       "      <td>7.033716</td>\n",
       "    </tr>\n",
       "    <tr>\n",
       "      <th>1050979</th>\n",
       "      <td>36</td>\n",
       "      <td>6</td>\n",
       "      <td>36</td>\n",
       "      <td>37</td>\n",
       "      <td>35</td>\n",
       "      <td>171.250366</td>\n",
       "      <td>175.768433</td>\n",
       "      <td>151.715485</td>\n",
       "      <td>130.792816</td>\n",
       "      <td>139.797287</td>\n",
       "      <td>8.527348</td>\n",
       "      <td>13.765636</td>\n",
       "    </tr>\n",
       "    <tr>\n",
       "      <th>1050982</th>\n",
       "      <td>36</td>\n",
       "      <td>6</td>\n",
       "      <td>36</td>\n",
       "      <td>37</td>\n",
       "      <td>38</td>\n",
       "      <td>-96.352455</td>\n",
       "      <td>-94.962585</td>\n",
       "      <td>-115.256683</td>\n",
       "      <td>-131.555984</td>\n",
       "      <td>-127.650993</td>\n",
       "      <td>6.039019</td>\n",
       "      <td>9.995546</td>\n",
       "    </tr>\n",
       "    <tr>\n",
       "      <th>1050983</th>\n",
       "      <td>36</td>\n",
       "      <td>6</td>\n",
       "      <td>36</td>\n",
       "      <td>37</td>\n",
       "      <td>39</td>\n",
       "      <td>-235.110947</td>\n",
       "      <td>-235.878754</td>\n",
       "      <td>-253.580444</td>\n",
       "      <td>-268.104340</td>\n",
       "      <td>-266.388824</td>\n",
       "      <td>5.501382</td>\n",
       "      <td>7.800299</td>\n",
       "    </tr>\n",
       "    <tr>\n",
       "      <th>1051039</th>\n",
       "      <td>36</td>\n",
       "      <td>6</td>\n",
       "      <td>36</td>\n",
       "      <td>38</td>\n",
       "      <td>31</td>\n",
       "      <td>598.718323</td>\n",
       "      <td>657.307373</td>\n",
       "      <td>578.832947</td>\n",
       "      <td>494.954071</td>\n",
       "      <td>569.023071</td>\n",
       "      <td>33.141899</td>\n",
       "      <td>85.393982</td>\n",
       "    </tr>\n",
       "  </tbody>\n",
       "</table>\n",
       "<p>34012 rows × 12 columns</p>\n",
       "</div>"
      ],
      "text/plain": [
       "         exp  mini_exp   i   j   k        mean0        mean1        mean2  \\\n",
       "931880    36         6   7  32  40  -183.593781  -184.268631  -199.538742   \n",
       "931881    36         6   7  32  41  -383.761566  -383.066467  -395.916077   \n",
       "931882    36         6   7  32  42  -779.052185  -785.270813  -803.943787   \n",
       "931883    36         6   7  32  43 -1017.557312 -1026.294189 -1037.133667   \n",
       "931919    36         6   7  33  15 -1508.948120 -1513.032471 -1527.041992   \n",
       "...      ...       ...  ..  ..  ..          ...          ...          ...   \n",
       "1050968   36         6  36  37  24   -27.330389   -28.598026   -46.617607   \n",
       "1050979   36         6  36  37  35   171.250366   175.768433   151.715485   \n",
       "1050982   36         6  36  37  38   -96.352455   -94.962585  -115.256683   \n",
       "1050983   36         6  36  37  39  -235.110947  -235.878754  -253.580444   \n",
       "1051039   36         6  36  38  31   598.718323   657.307373   578.832947   \n",
       "\n",
       "               mean3        mean4     theory    predict  \n",
       "931880   -215.528793  -215.355865   4.988159   6.444131  \n",
       "931881   -417.522858  -420.110077   4.591202   5.836526  \n",
       "931882   -811.441101  -799.951233   4.237324   4.064075  \n",
       "931883  -1050.012451 -1046.674072   3.918999   4.042303  \n",
       "931919  -1536.478027 -1540.133301   3.371496   3.995751  \n",
       "...              ...          ...        ...        ...  \n",
       "1050968   -59.281792   -58.657875   7.175758   7.033716  \n",
       "1050979   130.792816   139.797287   8.527348  13.765636  \n",
       "1050982  -131.555984  -127.650993   6.039019   9.995546  \n",
       "1050983  -268.104340  -266.388824   5.501382   7.800299  \n",
       "1051039   494.954071   569.023071  33.141899  85.393982  \n",
       "\n",
       "[34012 rows x 12 columns]"
      ]
     },
     "execution_count": 64,
     "metadata": {},
     "output_type": "execute_result"
    }
   ],
   "source": [
    "df4_pred"
   ]
  },
  {
   "cell_type": "code",
   "execution_count": 65,
   "metadata": {},
   "outputs": [
    {
     "data": {
      "text/html": [
       "<div>\n",
       "<style scoped>\n",
       "    .dataframe tbody tr th:only-of-type {\n",
       "        vertical-align: middle;\n",
       "    }\n",
       "\n",
       "    .dataframe tbody tr th {\n",
       "        vertical-align: top;\n",
       "    }\n",
       "\n",
       "    .dataframe thead th {\n",
       "        text-align: right;\n",
       "    }\n",
       "</style>\n",
       "<table border=\"1\" class=\"dataframe\">\n",
       "  <thead>\n",
       "    <tr style=\"text-align: right;\">\n",
       "      <th></th>\n",
       "      <th>exp</th>\n",
       "      <th>mini_exp</th>\n",
       "      <th>i</th>\n",
       "      <th>j</th>\n",
       "      <th>k</th>\n",
       "      <th>mean0</th>\n",
       "      <th>mean1</th>\n",
       "      <th>mean2</th>\n",
       "      <th>mean3</th>\n",
       "      <th>mean4</th>\n",
       "      <th>theory</th>\n",
       "    </tr>\n",
       "  </thead>\n",
       "  <tbody>\n",
       "    <tr>\n",
       "      <th>3063808</th>\n",
       "      <td>38</td>\n",
       "      <td>6</td>\n",
       "      <td>0</td>\n",
       "      <td>0</td>\n",
       "      <td>0</td>\n",
       "      <td>0.0</td>\n",
       "      <td>0.0</td>\n",
       "      <td>0.0</td>\n",
       "      <td>0.0</td>\n",
       "      <td>0.0</td>\n",
       "      <td>0.0</td>\n",
       "    </tr>\n",
       "    <tr>\n",
       "      <th>3063809</th>\n",
       "      <td>38</td>\n",
       "      <td>6</td>\n",
       "      <td>0</td>\n",
       "      <td>0</td>\n",
       "      <td>1</td>\n",
       "      <td>0.0</td>\n",
       "      <td>0.0</td>\n",
       "      <td>0.0</td>\n",
       "      <td>0.0</td>\n",
       "      <td>0.0</td>\n",
       "      <td>0.0</td>\n",
       "    </tr>\n",
       "    <tr>\n",
       "      <th>3063810</th>\n",
       "      <td>38</td>\n",
       "      <td>6</td>\n",
       "      <td>0</td>\n",
       "      <td>0</td>\n",
       "      <td>2</td>\n",
       "      <td>0.0</td>\n",
       "      <td>0.0</td>\n",
       "      <td>0.0</td>\n",
       "      <td>0.0</td>\n",
       "      <td>0.0</td>\n",
       "      <td>0.0</td>\n",
       "    </tr>\n",
       "    <tr>\n",
       "      <th>3063811</th>\n",
       "      <td>38</td>\n",
       "      <td>6</td>\n",
       "      <td>0</td>\n",
       "      <td>0</td>\n",
       "      <td>3</td>\n",
       "      <td>0.0</td>\n",
       "      <td>0.0</td>\n",
       "      <td>0.0</td>\n",
       "      <td>0.0</td>\n",
       "      <td>0.0</td>\n",
       "      <td>0.0</td>\n",
       "    </tr>\n",
       "    <tr>\n",
       "      <th>3063812</th>\n",
       "      <td>38</td>\n",
       "      <td>6</td>\n",
       "      <td>0</td>\n",
       "      <td>0</td>\n",
       "      <td>4</td>\n",
       "      <td>0.0</td>\n",
       "      <td>0.0</td>\n",
       "      <td>0.0</td>\n",
       "      <td>0.0</td>\n",
       "      <td>0.0</td>\n",
       "      <td>0.0</td>\n",
       "    </tr>\n",
       "    <tr>\n",
       "      <th>...</th>\n",
       "      <td>...</td>\n",
       "      <td>...</td>\n",
       "      <td>...</td>\n",
       "      <td>...</td>\n",
       "      <td>...</td>\n",
       "      <td>...</td>\n",
       "      <td>...</td>\n",
       "      <td>...</td>\n",
       "      <td>...</td>\n",
       "      <td>...</td>\n",
       "      <td>...</td>\n",
       "    </tr>\n",
       "    <tr>\n",
       "      <th>3244027</th>\n",
       "      <td>38</td>\n",
       "      <td>6</td>\n",
       "      <td>43</td>\n",
       "      <td>63</td>\n",
       "      <td>59</td>\n",
       "      <td>0.0</td>\n",
       "      <td>0.0</td>\n",
       "      <td>0.0</td>\n",
       "      <td>0.0</td>\n",
       "      <td>0.0</td>\n",
       "      <td>0.0</td>\n",
       "    </tr>\n",
       "    <tr>\n",
       "      <th>3244028</th>\n",
       "      <td>38</td>\n",
       "      <td>6</td>\n",
       "      <td>43</td>\n",
       "      <td>63</td>\n",
       "      <td>60</td>\n",
       "      <td>0.0</td>\n",
       "      <td>0.0</td>\n",
       "      <td>0.0</td>\n",
       "      <td>0.0</td>\n",
       "      <td>0.0</td>\n",
       "      <td>0.0</td>\n",
       "    </tr>\n",
       "    <tr>\n",
       "      <th>3244029</th>\n",
       "      <td>38</td>\n",
       "      <td>6</td>\n",
       "      <td>43</td>\n",
       "      <td>63</td>\n",
       "      <td>61</td>\n",
       "      <td>0.0</td>\n",
       "      <td>0.0</td>\n",
       "      <td>0.0</td>\n",
       "      <td>0.0</td>\n",
       "      <td>0.0</td>\n",
       "      <td>0.0</td>\n",
       "    </tr>\n",
       "    <tr>\n",
       "      <th>3244030</th>\n",
       "      <td>38</td>\n",
       "      <td>6</td>\n",
       "      <td>43</td>\n",
       "      <td>63</td>\n",
       "      <td>62</td>\n",
       "      <td>0.0</td>\n",
       "      <td>0.0</td>\n",
       "      <td>0.0</td>\n",
       "      <td>0.0</td>\n",
       "      <td>0.0</td>\n",
       "      <td>0.0</td>\n",
       "    </tr>\n",
       "    <tr>\n",
       "      <th>3244031</th>\n",
       "      <td>38</td>\n",
       "      <td>6</td>\n",
       "      <td>43</td>\n",
       "      <td>63</td>\n",
       "      <td>63</td>\n",
       "      <td>0.0</td>\n",
       "      <td>0.0</td>\n",
       "      <td>0.0</td>\n",
       "      <td>0.0</td>\n",
       "      <td>0.0</td>\n",
       "      <td>0.0</td>\n",
       "    </tr>\n",
       "  </tbody>\n",
       "</table>\n",
       "<p>180224 rows × 11 columns</p>\n",
       "</div>"
      ],
      "text/plain": [
       "         exp  mini_exp   i   j   k  mean0  mean1  mean2  mean3  mean4  theory\n",
       "3063808   38         6   0   0   0    0.0    0.0    0.0    0.0    0.0     0.0\n",
       "3063809   38         6   0   0   1    0.0    0.0    0.0    0.0    0.0     0.0\n",
       "3063810   38         6   0   0   2    0.0    0.0    0.0    0.0    0.0     0.0\n",
       "3063811   38         6   0   0   3    0.0    0.0    0.0    0.0    0.0     0.0\n",
       "3063812   38         6   0   0   4    0.0    0.0    0.0    0.0    0.0     0.0\n",
       "...      ...       ...  ..  ..  ..    ...    ...    ...    ...    ...     ...\n",
       "3244027   38         6  43  63  59    0.0    0.0    0.0    0.0    0.0     0.0\n",
       "3244028   38         6  43  63  60    0.0    0.0    0.0    0.0    0.0     0.0\n",
       "3244029   38         6  43  63  61    0.0    0.0    0.0    0.0    0.0     0.0\n",
       "3244030   38         6  43  63  62    0.0    0.0    0.0    0.0    0.0     0.0\n",
       "3244031   38         6  43  63  63    0.0    0.0    0.0    0.0    0.0     0.0\n",
       "\n",
       "[180224 rows x 11 columns]"
      ]
     },
     "execution_count": 65,
     "metadata": {},
     "output_type": "execute_result"
    }
   ],
   "source": [
    "df_test"
   ]
  },
  {
   "cell_type": "code",
   "execution_count": 66,
   "metadata": {},
   "outputs": [
    {
     "name": "stderr",
     "output_type": "stream",
     "text": [
      "/var/folders/yd/vkjb_lqj2_30lnyhzhjqtg9w0000gp/T/ipykernel_60978/3257651465.py:1: SettingWithCopyWarning: \n",
      "A value is trying to be set on a copy of a slice from a DataFrame.\n",
      "Try using .loc[row_indexer,col_indexer] = value instead\n",
      "\n",
      "See the caveats in the documentation: https://pandas.pydata.org/pandas-docs/stable/user_guide/indexing.html#returning-a-view-versus-a-copy\n",
      "  df_test['predict'] = 0.00\n"
     ]
    }
   ],
   "source": [
    "df_test['predict'] = 0.00"
   ]
  },
  {
   "cell_type": "code",
   "execution_count": 67,
   "metadata": {},
   "outputs": [],
   "source": [
    "df_out = df_test[['i', 'j', 'k', 'predict']]\n",
    "df_pre = df4_pred[['i', 'j', 'k', 'predict']]"
   ]
  },
  {
   "cell_type": "code",
   "execution_count": 68,
   "metadata": {},
   "outputs": [
    {
     "name": "stdout",
     "output_type": "stream",
     "text": [
      "<class 'pandas.core.frame.DataFrame'>\n",
      "Int64Index: 180224 entries, 3063808 to 3244031\n",
      "Data columns (total 4 columns):\n",
      " #   Column   Non-Null Count   Dtype  \n",
      "---  ------   --------------   -----  \n",
      " 0   i        180224 non-null  int64  \n",
      " 1   j        180224 non-null  int64  \n",
      " 2   k        180224 non-null  int64  \n",
      " 3   predict  180224 non-null  float64\n",
      "dtypes: float64(1), int64(3)\n",
      "memory usage: 6.9 MB\n"
     ]
    }
   ],
   "source": [
    "df_out.info()"
   ]
  },
  {
   "cell_type": "code",
   "execution_count": 69,
   "metadata": {},
   "outputs": [],
   "source": [
    "for x in range(len(df_pre)):\n",
    "    i = df_pre.iloc[x, :]['i'].astype(int)\n",
    "    j = df_pre.iloc[x, :]['j'].astype(int)\n",
    "    k = df_pre.iloc[x, :]['k'].astype(int)\n",
    "    pred = df_pre.iloc[x, :]['predict']\n",
    "    idx = df_out[(df_out['i']==i) & (df_out['j']==j) & (df_out['k']==k)].index\n",
    "    df_out.loc[idx, 'predict']= pred"
   ]
  },
  {
   "cell_type": "code",
   "execution_count": 70,
   "metadata": {},
   "outputs": [
    {
     "data": {
      "text/html": [
       "<div>\n",
       "<style scoped>\n",
       "    .dataframe tbody tr th:only-of-type {\n",
       "        vertical-align: middle;\n",
       "    }\n",
       "\n",
       "    .dataframe tbody tr th {\n",
       "        vertical-align: top;\n",
       "    }\n",
       "\n",
       "    .dataframe thead th {\n",
       "        text-align: right;\n",
       "    }\n",
       "</style>\n",
       "<table border=\"1\" class=\"dataframe\">\n",
       "  <thead>\n",
       "    <tr style=\"text-align: right;\">\n",
       "      <th></th>\n",
       "      <th>i</th>\n",
       "      <th>j</th>\n",
       "      <th>k</th>\n",
       "      <th>predict</th>\n",
       "    </tr>\n",
       "  </thead>\n",
       "  <tbody>\n",
       "    <tr>\n",
       "      <th>931880</th>\n",
       "      <td>7</td>\n",
       "      <td>32</td>\n",
       "      <td>40</td>\n",
       "      <td>6.444131</td>\n",
       "    </tr>\n",
       "    <tr>\n",
       "      <th>931881</th>\n",
       "      <td>7</td>\n",
       "      <td>32</td>\n",
       "      <td>41</td>\n",
       "      <td>5.836526</td>\n",
       "    </tr>\n",
       "    <tr>\n",
       "      <th>931882</th>\n",
       "      <td>7</td>\n",
       "      <td>32</td>\n",
       "      <td>42</td>\n",
       "      <td>4.064075</td>\n",
       "    </tr>\n",
       "    <tr>\n",
       "      <th>931883</th>\n",
       "      <td>7</td>\n",
       "      <td>32</td>\n",
       "      <td>43</td>\n",
       "      <td>4.042303</td>\n",
       "    </tr>\n",
       "    <tr>\n",
       "      <th>931919</th>\n",
       "      <td>7</td>\n",
       "      <td>33</td>\n",
       "      <td>15</td>\n",
       "      <td>3.995751</td>\n",
       "    </tr>\n",
       "    <tr>\n",
       "      <th>...</th>\n",
       "      <td>...</td>\n",
       "      <td>...</td>\n",
       "      <td>...</td>\n",
       "      <td>...</td>\n",
       "    </tr>\n",
       "    <tr>\n",
       "      <th>1050968</th>\n",
       "      <td>36</td>\n",
       "      <td>37</td>\n",
       "      <td>24</td>\n",
       "      <td>7.033716</td>\n",
       "    </tr>\n",
       "    <tr>\n",
       "      <th>1050979</th>\n",
       "      <td>36</td>\n",
       "      <td>37</td>\n",
       "      <td>35</td>\n",
       "      <td>13.765636</td>\n",
       "    </tr>\n",
       "    <tr>\n",
       "      <th>1050982</th>\n",
       "      <td>36</td>\n",
       "      <td>37</td>\n",
       "      <td>38</td>\n",
       "      <td>9.995546</td>\n",
       "    </tr>\n",
       "    <tr>\n",
       "      <th>1050983</th>\n",
       "      <td>36</td>\n",
       "      <td>37</td>\n",
       "      <td>39</td>\n",
       "      <td>7.800299</td>\n",
       "    </tr>\n",
       "    <tr>\n",
       "      <th>1051039</th>\n",
       "      <td>36</td>\n",
       "      <td>38</td>\n",
       "      <td>31</td>\n",
       "      <td>85.393982</td>\n",
       "    </tr>\n",
       "  </tbody>\n",
       "</table>\n",
       "<p>34012 rows × 4 columns</p>\n",
       "</div>"
      ],
      "text/plain": [
       "          i   j   k    predict\n",
       "931880    7  32  40   6.444131\n",
       "931881    7  32  41   5.836526\n",
       "931882    7  32  42   4.064075\n",
       "931883    7  32  43   4.042303\n",
       "931919    7  33  15   3.995751\n",
       "...      ..  ..  ..        ...\n",
       "1050968  36  37  24   7.033716\n",
       "1050979  36  37  35  13.765636\n",
       "1050982  36  37  38   9.995546\n",
       "1050983  36  37  39   7.800299\n",
       "1051039  36  38  31  85.393982\n",
       "\n",
       "[34012 rows x 4 columns]"
      ]
     },
     "execution_count": 70,
     "metadata": {},
     "output_type": "execute_result"
    }
   ],
   "source": [
    "df_pre"
   ]
  },
  {
   "cell_type": "code",
   "execution_count": 71,
   "metadata": {},
   "outputs": [
    {
     "data": {
      "text/html": [
       "<div>\n",
       "<style scoped>\n",
       "    .dataframe tbody tr th:only-of-type {\n",
       "        vertical-align: middle;\n",
       "    }\n",
       "\n",
       "    .dataframe tbody tr th {\n",
       "        vertical-align: top;\n",
       "    }\n",
       "\n",
       "    .dataframe thead th {\n",
       "        text-align: right;\n",
       "    }\n",
       "</style>\n",
       "<table border=\"1\" class=\"dataframe\">\n",
       "  <thead>\n",
       "    <tr style=\"text-align: right;\">\n",
       "      <th></th>\n",
       "      <th>i</th>\n",
       "      <th>j</th>\n",
       "      <th>k</th>\n",
       "      <th>predict</th>\n",
       "    </tr>\n",
       "  </thead>\n",
       "  <tbody>\n",
       "    <tr>\n",
       "      <th>3094568</th>\n",
       "      <td>7</td>\n",
       "      <td>32</td>\n",
       "      <td>40</td>\n",
       "      <td>6.444131</td>\n",
       "    </tr>\n",
       "  </tbody>\n",
       "</table>\n",
       "</div>"
      ],
      "text/plain": [
       "         i   j   k   predict\n",
       "3094568  7  32  40  6.444131"
      ]
     },
     "execution_count": 71,
     "metadata": {},
     "output_type": "execute_result"
    }
   ],
   "source": [
    "df_out[(df_out['i']==7) & (df_out['j']==32) & (df_out['k']==40)]"
   ]
  },
  {
   "cell_type": "code",
   "execution_count": 72,
   "metadata": {},
   "outputs": [
    {
     "data": {
      "text/html": [
       "<div>\n",
       "<style scoped>\n",
       "    .dataframe tbody tr th:only-of-type {\n",
       "        vertical-align: middle;\n",
       "    }\n",
       "\n",
       "    .dataframe tbody tr th {\n",
       "        vertical-align: top;\n",
       "    }\n",
       "\n",
       "    .dataframe thead th {\n",
       "        text-align: right;\n",
       "    }\n",
       "</style>\n",
       "<table border=\"1\" class=\"dataframe\">\n",
       "  <thead>\n",
       "    <tr style=\"text-align: right;\">\n",
       "      <th></th>\n",
       "      <th>i</th>\n",
       "      <th>j</th>\n",
       "      <th>k</th>\n",
       "      <th>predict</th>\n",
       "    </tr>\n",
       "  </thead>\n",
       "  <tbody>\n",
       "    <tr>\n",
       "      <th>3063808</th>\n",
       "      <td>0</td>\n",
       "      <td>0</td>\n",
       "      <td>0</td>\n",
       "      <td>0.0</td>\n",
       "    </tr>\n",
       "    <tr>\n",
       "      <th>3063809</th>\n",
       "      <td>0</td>\n",
       "      <td>0</td>\n",
       "      <td>1</td>\n",
       "      <td>0.0</td>\n",
       "    </tr>\n",
       "    <tr>\n",
       "      <th>3063810</th>\n",
       "      <td>0</td>\n",
       "      <td>0</td>\n",
       "      <td>2</td>\n",
       "      <td>0.0</td>\n",
       "    </tr>\n",
       "    <tr>\n",
       "      <th>3063811</th>\n",
       "      <td>0</td>\n",
       "      <td>0</td>\n",
       "      <td>3</td>\n",
       "      <td>0.0</td>\n",
       "    </tr>\n",
       "    <tr>\n",
       "      <th>3063812</th>\n",
       "      <td>0</td>\n",
       "      <td>0</td>\n",
       "      <td>4</td>\n",
       "      <td>0.0</td>\n",
       "    </tr>\n",
       "    <tr>\n",
       "      <th>...</th>\n",
       "      <td>...</td>\n",
       "      <td>...</td>\n",
       "      <td>...</td>\n",
       "      <td>...</td>\n",
       "    </tr>\n",
       "    <tr>\n",
       "      <th>3244027</th>\n",
       "      <td>43</td>\n",
       "      <td>63</td>\n",
       "      <td>59</td>\n",
       "      <td>0.0</td>\n",
       "    </tr>\n",
       "    <tr>\n",
       "      <th>3244028</th>\n",
       "      <td>43</td>\n",
       "      <td>63</td>\n",
       "      <td>60</td>\n",
       "      <td>0.0</td>\n",
       "    </tr>\n",
       "    <tr>\n",
       "      <th>3244029</th>\n",
       "      <td>43</td>\n",
       "      <td>63</td>\n",
       "      <td>61</td>\n",
       "      <td>0.0</td>\n",
       "    </tr>\n",
       "    <tr>\n",
       "      <th>3244030</th>\n",
       "      <td>43</td>\n",
       "      <td>63</td>\n",
       "      <td>62</td>\n",
       "      <td>0.0</td>\n",
       "    </tr>\n",
       "    <tr>\n",
       "      <th>3244031</th>\n",
       "      <td>43</td>\n",
       "      <td>63</td>\n",
       "      <td>63</td>\n",
       "      <td>0.0</td>\n",
       "    </tr>\n",
       "  </tbody>\n",
       "</table>\n",
       "<p>180224 rows × 4 columns</p>\n",
       "</div>"
      ],
      "text/plain": [
       "          i   j   k  predict\n",
       "3063808   0   0   0      0.0\n",
       "3063809   0   0   1      0.0\n",
       "3063810   0   0   2      0.0\n",
       "3063811   0   0   3      0.0\n",
       "3063812   0   0   4      0.0\n",
       "...      ..  ..  ..      ...\n",
       "3244027  43  63  59      0.0\n",
       "3244028  43  63  60      0.0\n",
       "3244029  43  63  61      0.0\n",
       "3244030  43  63  62      0.0\n",
       "3244031  43  63  63      0.0\n",
       "\n",
       "[180224 rows x 4 columns]"
      ]
     },
     "execution_count": 72,
     "metadata": {},
     "output_type": "execute_result"
    }
   ],
   "source": [
    "df_out"
   ]
  },
  {
   "cell_type": "code",
   "execution_count": 73,
   "metadata": {},
   "outputs": [],
   "source": [
    "np.savetxt(img_path+\"nn_nonzero_32to38_3layer5unit_100.txt\", df_out[['i', 'j', 'k', 'predict']], fmt=\"%i %i %i %s\")"
   ]
  },
  {
   "cell_type": "code",
   "execution_count": null,
   "metadata": {},
   "outputs": [],
   "source": []
  },
  {
   "cell_type": "markdown",
   "metadata": {},
   "source": [
    "# Play Ground"
   ]
  },
  {
   "cell_type": "markdown",
   "metadata": {},
   "source": [
    "# Compare each dataset"
   ]
  },
  {
   "cell_type": "code",
   "execution_count": 20,
   "metadata": {},
   "outputs": [],
   "source": [
    "myCallbacks = [tf.keras.callbacks.EarlyStopping(monitor='val_accuracy', patience=10, mode='max'),\n",
    "             tf.keras.callbacks.EarlyStopping(monitor='loss', patience=10, mode='min')]"
   ]
  },
  {
   "cell_type": "markdown",
   "metadata": {},
   "source": [
    "## Data1: fmap means all experiments"
   ]
  },
  {
   "cell_type": "code",
   "execution_count": 176,
   "metadata": {},
   "outputs": [],
   "source": [
    "X_train = X1_train\n",
    "y_train = y1_train\n",
    "X_test = X1_test\n",
    "y_test = y1_test"
   ]
  },
  {
   "cell_type": "code",
   "execution_count": 177,
   "metadata": {},
   "outputs": [],
   "source": [
    "model = keras.Sequential()\n",
    "model.add(Dense(10, activation='relu', input_shape=[len(X_train[0])]))\n",
    "model.add(Dense(10, activation='relu'))\n",
    "model.add(Dense(10, activation='relu'))\n",
    "model.add(Dense(1))\n",
    "#\n",
    "model.compile(optimizer= 'adam', loss='mse', metrics=['accuracy'])\n",
    "history = model.fit(X_train, y_train, epochs=20, verbose=0, validation_data=[X_test, y_test])"
   ]
  },
  {
   "cell_type": "code",
   "execution_count": 178,
   "metadata": {},
   "outputs": [
    {
     "name": "stdout",
     "output_type": "stream",
     "text": [
      "70964/70964 [==============================] - 54s 761us/step\n",
      "30.170082550978588\n",
      "30413/30413 [==============================] - 25s 830us/step\n",
      "37.97403427399727\n"
     ]
    }
   ],
   "source": [
    "train_pred = model.predict(X_train)\n",
    "print(mse(train_pred, y_train))\n",
    "test_pred = model.predict(X_test)\n",
    "print(mse(test_pred, y_test))"
   ]
  },
  {
   "cell_type": "code",
   "execution_count": 179,
   "metadata": {},
   "outputs": [
    {
     "data": {
      "text/plain": [
       "0.5055974148648721"
      ]
     },
     "execution_count": 179,
     "metadata": {},
     "output_type": "execute_result"
    }
   ],
   "source": [
    "r2_score(y_test, test_pred)"
   ]
  },
  {
   "cell_type": "code",
   "execution_count": 180,
   "metadata": {},
   "outputs": [
    {
     "name": "stdout",
     "output_type": "stream",
     "text": [
      "30413/30413 [==============================] - 25s 811us/step - loss: 37.9739 - accuracy: 0.8084\n"
     ]
    },
    {
     "data": {
      "text/plain": [
       "[37.97385787963867, 0.8083938956260681]"
      ]
     },
     "execution_count": 180,
     "metadata": {},
     "output_type": "execute_result"
    }
   ],
   "source": [
    "model.evaluate(X_test, y_test)"
   ]
  },
  {
   "cell_type": "code",
   "execution_count": 181,
   "metadata": {},
   "outputs": [
    {
     "name": "stdout",
     "output_type": "stream",
     "text": [
      "Model: \"sequential_11\"\n",
      "_________________________________________________________________\n",
      " Layer (type)                Output Shape              Param #   \n",
      "=================================================================\n",
      " dense_36 (Dense)            (None, 10)                60        \n",
      "                                                                 \n",
      " dense_37 (Dense)            (None, 10)                110       \n",
      "                                                                 \n",
      " dense_38 (Dense)            (None, 10)                110       \n",
      "                                                                 \n",
      " dense_39 (Dense)            (None, 1)                 11        \n",
      "                                                                 \n",
      "=================================================================\n",
      "Total params: 291\n",
      "Trainable params: 291\n",
      "Non-trainable params: 0\n",
      "_________________________________________________________________\n"
     ]
    }
   ],
   "source": [
    "model.summary()"
   ]
  },
  {
   "cell_type": "code",
   "execution_count": null,
   "metadata": {},
   "outputs": [],
   "source": []
  },
  {
   "cell_type": "markdown",
   "metadata": {},
   "source": [
    "## Data2: One experiment"
   ]
  },
  {
   "cell_type": "code",
   "execution_count": 19,
   "metadata": {},
   "outputs": [],
   "source": [
    "X_train = X2_train\n",
    "y_train = y2_train\n",
    "X_test = X2_test\n",
    "y_test = y2_test"
   ]
  },
  {
   "cell_type": "code",
   "execution_count": 30,
   "metadata": {},
   "outputs": [
    {
     "data": {
      "text/plain": [
       "<keras.callbacks.History at 0x7febea2bbf40>"
      ]
     },
     "execution_count": 30,
     "metadata": {},
     "output_type": "execute_result"
    }
   ],
   "source": [
    "model2 = keras.Sequential()\n",
    "model2.add(Dense(10, activation='relu', input_shape=[len(X_train[0])]))\n",
    "model2.add(Dense(10, activation='relu'))\n",
    "model2.add(Dense(10, activation='relu'))\n",
    "model2.add(Dense(1))\n",
    "\n",
    "#\n",
    "model2.compile(optimizer= 'adam', loss='mse', metrics=['accuracy'])\n",
    "model2.fit(X_train, y_train, epochs=100, validation_data=[X_test, y_test], callbacks =[myCallbacks])\n"
   ]
  },
  {
   "cell_type": "code",
   "execution_count": 31,
   "metadata": {},
   "outputs": [
    {
     "name": "stdout",
     "output_type": "stream",
     "text": [
      "28160/28160 [==============================] - 23s 821us/step\n",
      "62.28770085209032\n",
      "5632/5632 [==============================] - 5s 906us/step\n",
      "62.53858937838004\n"
     ]
    }
   ],
   "source": [
    "train_pred2 = model2.predict(X_train)\n",
    "print(mse(train_pred2, y_train))\n",
    "test_pred2 = model2.predict(X_test)\n",
    "print(mse(test_pred2, y_test))"
   ]
  },
  {
   "cell_type": "code",
   "execution_count": 32,
   "metadata": {},
   "outputs": [
    {
     "data": {
      "text/plain": [
       "0.3752034443349691"
      ]
     },
     "execution_count": 32,
     "metadata": {},
     "output_type": "execute_result"
    }
   ],
   "source": [
    "r2_score(y_test, test_pred2)"
   ]
  },
  {
   "cell_type": "code",
   "execution_count": 24,
   "metadata": {},
   "outputs": [
    {
     "name": "stdout",
     "output_type": "stream",
     "text": [
      "5632/5632 [==============================] - 5s 885us/step - loss: 73.7292 - accuracy: 0.8064\n"
     ]
    },
    {
     "data": {
      "text/plain": [
       "[73.72918701171875, 0.8063909411430359]"
      ]
     },
     "execution_count": 24,
     "metadata": {},
     "output_type": "execute_result"
    }
   ],
   "source": [
    "model2.evaluate(X_test, y_test)"
   ]
  },
  {
   "cell_type": "code",
   "execution_count": 25,
   "metadata": {},
   "outputs": [
    {
     "name": "stdout",
     "output_type": "stream",
     "text": [
      "Model: \"sequential_1\"\n",
      "_________________________________________________________________\n",
      " Layer (type)                Output Shape              Param #   \n",
      "=================================================================\n",
      " dense_4 (Dense)             (None, 10)                60        \n",
      "                                                                 \n",
      " dense_5 (Dense)             (None, 10)                110       \n",
      "                                                                 \n",
      " dense_6 (Dense)             (None, 10)                110       \n",
      "                                                                 \n",
      " dense_7 (Dense)             (None, 1)                 11        \n",
      "                                                                 \n",
      "=================================================================\n",
      "Total params: 291\n",
      "Trainable params: 291\n",
      "Non-trainable params: 0\n",
      "_________________________________________________________________\n"
     ]
    }
   ],
   "source": [
    "model2.summary()"
   ]
  },
  {
   "cell_type": "markdown",
   "metadata": {},
   "source": [
    "## Data3: 55 fmap means"
   ]
  },
  {
   "cell_type": "code",
   "execution_count": 188,
   "metadata": {},
   "outputs": [],
   "source": [
    "X_train = X3_train\n",
    "y_train = y3_train\n",
    "X_test = X3_test\n",
    "y_test = y3_test"
   ]
  },
  {
   "cell_type": "code",
   "execution_count": 189,
   "metadata": {},
   "outputs": [],
   "source": [
    "model3 = keras.Sequential()\n",
    "model3.add(Dense(10, activation='relu', input_shape=[len(X_train[0])]))\n",
    "model3.add(Dense(10, activation='relu'))\n",
    "model3.add(Dense(10, activation='relu'))\n",
    "model3.add(Dense(1))\n",
    "#\n",
    "model3.compile(optimizer= 'adam', loss='mse', metrics=['accuracy'])\n",
    "history3 = model3.fit(X_train, y_train, epochs=20, verbose=0, validation_data=[X_test, y_test])\n"
   ]
  },
  {
   "cell_type": "code",
   "execution_count": 190,
   "metadata": {},
   "outputs": [
    {
     "name": "stdout",
     "output_type": "stream",
     "text": [
      "70964/70964 [==============================] - 49s 691us/step\n",
      "25.653226663055843\n",
      "30413/30413 [==============================] - 21s 679us/step\n",
      "33.91757302155358\n"
     ]
    }
   ],
   "source": [
    "train_pred3 = model3.predict(X_train)\n",
    "print(mse(train_pred3, y_train))\n",
    "test_pred3 = model3.predict(X_test)\n",
    "print(mse(test_pred3, y_test))"
   ]
  },
  {
   "cell_type": "code",
   "execution_count": 191,
   "metadata": {},
   "outputs": [
    {
     "data": {
      "text/plain": [
       "0.5584104743159171"
      ]
     },
     "execution_count": 191,
     "metadata": {},
     "output_type": "execute_result"
    }
   ],
   "source": [
    "r2_score(y_test, test_pred3)"
   ]
  },
  {
   "cell_type": "code",
   "execution_count": 192,
   "metadata": {},
   "outputs": [
    {
     "name": "stdout",
     "output_type": "stream",
     "text": [
      "30413/30413 [==============================] - 25s 809us/step - loss: 33.9176 - accuracy: 0.8084\n"
     ]
    },
    {
     "data": {
      "text/plain": [
       "[33.9175910949707, 0.8083938956260681]"
      ]
     },
     "execution_count": 192,
     "metadata": {},
     "output_type": "execute_result"
    }
   ],
   "source": [
    "model3.evaluate(X_test, y_test)"
   ]
  },
  {
   "cell_type": "code",
   "execution_count": 193,
   "metadata": {},
   "outputs": [
    {
     "name": "stdout",
     "output_type": "stream",
     "text": [
      "Model: \"sequential_13\"\n",
      "_________________________________________________________________\n",
      " Layer (type)                Output Shape              Param #   \n",
      "=================================================================\n",
      " dense_44 (Dense)            (None, 10)                560       \n",
      "                                                                 \n",
      " dense_45 (Dense)            (None, 10)                110       \n",
      "                                                                 \n",
      " dense_46 (Dense)            (None, 10)                110       \n",
      "                                                                 \n",
      " dense_47 (Dense)            (None, 1)                 11        \n",
      "                                                                 \n",
      "=================================================================\n",
      "Total params: 791\n",
      "Trainable params: 791\n",
      "Non-trainable params: 0\n",
      "_________________________________________________________________\n"
     ]
    }
   ],
   "source": [
    "model3.summary()"
   ]
  },
  {
   "cell_type": "code",
   "execution_count": null,
   "metadata": {},
   "outputs": [],
   "source": []
  },
  {
   "cell_type": "markdown",
   "metadata": {},
   "source": [
    "## Data4: None zero"
   ]
  },
  {
   "cell_type": "code",
   "execution_count": 39,
   "metadata": {},
   "outputs": [],
   "source": [
    "X_train = X4_train\n",
    "y_train = y4_train\n",
    "X_test = X4_test\n",
    "y_test = y4_test"
   ]
  },
  {
   "cell_type": "code",
   "execution_count": 28,
   "metadata": {},
   "outputs": [
    {
     "name": "stderr",
     "output_type": "stream",
     "text": [
      "2022-10-26 12:02:18.273343: I tensorflow/core/platform/cpu_feature_guard.cc:193] This TensorFlow binary is optimized with oneAPI Deep Neural Network Library (oneDNN) to use the following CPU instructions in performance-critical operations:  SSE4.1 SSE4.2 AVX AVX2 FMA\n",
      "To enable them in other operations, rebuild TensorFlow with the appropriate compiler flags.\n"
     ]
    },
    {
     "name": "stdout",
     "output_type": "stream",
     "text": [
      "Epoch 1/20\n",
      "13623/13623 [==============================] - 17s 1ms/step - loss: 775.6888 - accuracy: 5.0696e-04 - val_loss: 280.3866 - val_accuracy: 9.8486e-04\n",
      "Epoch 2/20\n",
      "13623/13623 [==============================] - 16s 1ms/step - loss: 254.4488 - accuracy: 5.9642e-04 - val_loss: 239.9096 - val_accuracy: 4.8173e-05\n",
      "Epoch 3/20\n",
      "13623/13623 [==============================] - 16s 1ms/step - loss: 244.3139 - accuracy: 6.0331e-04 - val_loss: 426.1392 - val_accuracy: 0.0011\n",
      "Epoch 4/20\n",
      "13623/13623 [==============================] - 16s 1ms/step - loss: 234.7317 - accuracy: 6.1707e-04 - val_loss: 236.3913 - val_accuracy: 8.9922e-04\n",
      "Epoch 5/20\n",
      "13623/13623 [==============================] - 17s 1ms/step - loss: 226.6837 - accuracy: 6.7212e-04 - val_loss: 226.9637 - val_accuracy: 9.2063e-04\n",
      "Epoch 6/20\n",
      "13623/13623 [==============================] - 16s 1ms/step - loss: 217.3771 - accuracy: 6.9047e-04 - val_loss: 230.2182 - val_accuracy: 1.0705e-04\n",
      "Epoch 7/20\n",
      "13623/13623 [==============================] - 17s 1ms/step - loss: 211.0164 - accuracy: 7.2030e-04 - val_loss: 213.0870 - val_accuracy: 9.5275e-04\n",
      "Epoch 8/20\n",
      "13623/13623 [==============================] - 15s 1ms/step - loss: 206.1197 - accuracy: 7.0194e-04 - val_loss: 205.3757 - val_accuracy: 9.2063e-04\n",
      "Epoch 9/20\n",
      "13623/13623 [==============================] - 16s 1ms/step - loss: 198.6213 - accuracy: 6.8130e-04 - val_loss: 203.7043 - val_accuracy: 9.7951e-04\n",
      "Epoch 10/20\n",
      "13623/13623 [==============================] - 15s 1ms/step - loss: 194.8506 - accuracy: 6.1248e-04 - val_loss: 199.4664 - val_accuracy: 6.9583e-05\n",
      "Epoch 11/20\n",
      "13623/13623 [==============================] - 15s 1ms/step - loss: 192.2697 - accuracy: 5.2072e-04 - val_loss: 200.3087 - val_accuracy: 1.0705e-04\n",
      "Epoch 12/20\n",
      "13623/13623 [==============================] - 16s 1ms/step - loss: 189.6575 - accuracy: 4.7255e-04 - val_loss: 196.2072 - val_accuracy: 8.8317e-04\n",
      "Epoch 13/20\n",
      "13623/13623 [==============================] - 17s 1ms/step - loss: 189.1273 - accuracy: 4.1750e-04 - val_loss: 188.1224 - val_accuracy: 5.8878e-05\n",
      "Epoch 14/20\n",
      "13623/13623 [==============================] - 27s 2ms/step - loss: 187.1798 - accuracy: 4.1291e-04 - val_loss: 213.4365 - val_accuracy: 9.4204e-04\n",
      "Epoch 15/20\n",
      "13623/13623 [==============================] - 19s 1ms/step - loss: 187.6508 - accuracy: 4.4732e-04 - val_loss: 194.6705 - val_accuracy: 8.0288e-05\n",
      "Epoch 16/20\n",
      "13623/13623 [==============================] - 16s 1ms/step - loss: 186.6290 - accuracy: 4.8861e-04 - val_loss: 190.8824 - val_accuracy: 8.0288e-05\n",
      "Epoch 17/20\n",
      "13623/13623 [==============================] - 17s 1ms/step - loss: 186.1162 - accuracy: 4.3585e-04 - val_loss: 187.6642 - val_accuracy: 7.4935e-05\n",
      "Epoch 18/20\n",
      "13623/13623 [==============================] - 16s 1ms/step - loss: 185.3157 - accuracy: 4.7714e-04 - val_loss: 197.1844 - val_accuracy: 9.2063e-04\n",
      "Epoch 19/20\n",
      "13623/13623 [==============================] - 16s 1ms/step - loss: 184.9305 - accuracy: 4.4732e-04 - val_loss: 190.0299 - val_accuracy: 4.8173e-05\n",
      "Epoch 20/20\n",
      "13623/13623 [==============================] - 16s 1ms/step - loss: 184.6431 - accuracy: 4.4732e-04 - val_loss: 199.7217 - val_accuracy: 9.0458e-04\n"
     ]
    }
   ],
   "source": [
    "model4 = keras.Sequential()\n",
    "model4.add(Dense(20, activation='relu', input_shape=[len(X_train[0])]))\n",
    "model4.add(Dense(1))\n",
    "#\n",
    "model4.compile(optimizer= 'adam', loss='mse', metrics=['accuracy'])\n",
    "history4 = model4.fit(X_train, y_train, epochs=20, validation_data=[X_test, y_test])\n"
   ]
  },
  {
   "cell_type": "code",
   "execution_count": 29,
   "metadata": {},
   "outputs": [
    {
     "name": "stdout",
     "output_type": "stream",
     "text": [
      "13623/13623 [==============================] - 10s 700us/step\n",
      "184.91616526100555\n",
      "5839/5839 [==============================] - 4s 672us/step\n",
      "199.72171091691504\n"
     ]
    }
   ],
   "source": [
    "train_pred4 = model4.predict(X_train)\n",
    "print(mse(train_pred4, y_train))\n",
    "test_pred4 = model4.predict(X_test)\n",
    "print(mse(test_pred4, y_test))"
   ]
  },
  {
   "cell_type": "code",
   "execution_count": 30,
   "metadata": {},
   "outputs": [
    {
     "name": "stdout",
     "output_type": "stream",
     "text": [
      "5839/5839 [==============================] - 5s 777us/step - loss: 199.7217 - accuracy: 9.0458e-04\n"
     ]
    },
    {
     "data": {
      "text/plain": [
       "[199.72171020507812, 0.0009045753395184875]"
      ]
     },
     "execution_count": 30,
     "metadata": {},
     "output_type": "execute_result"
    }
   ],
   "source": [
    "model4.evaluate(X_test, y_test)"
   ]
  },
  {
   "cell_type": "code",
   "execution_count": 31,
   "metadata": {},
   "outputs": [
    {
     "name": "stdout",
     "output_type": "stream",
     "text": [
      "Model: \"sequential\"\n",
      "_________________________________________________________________\n",
      " Layer (type)                Output Shape              Param #   \n",
      "=================================================================\n",
      " dense (Dense)               (None, 20)                120       \n",
      "                                                                 \n",
      " dense_1 (Dense)             (None, 1)                 21        \n",
      "                                                                 \n",
      "=================================================================\n",
      "Total params: 141\n",
      "Trainable params: 141\n",
      "Non-trainable params: 0\n",
      "_________________________________________________________________\n"
     ]
    }
   ],
   "source": [
    "model4.summary()"
   ]
  },
  {
   "cell_type": "code",
   "execution_count": 32,
   "metadata": {},
   "outputs": [
    {
     "data": {
      "text/plain": [
       "{'loss': [775.6888427734375,\n",
       "  254.44879150390625,\n",
       "  244.31385803222656,\n",
       "  234.73170471191406,\n",
       "  226.68370056152344,\n",
       "  217.37705993652344,\n",
       "  211.0164031982422,\n",
       "  206.1196746826172,\n",
       "  198.62127685546875,\n",
       "  194.85061645507812,\n",
       "  192.2696990966797,\n",
       "  189.657470703125,\n",
       "  189.12733459472656,\n",
       "  187.17984008789062,\n",
       "  187.6508331298828,\n",
       "  186.62896728515625,\n",
       "  186.11622619628906,\n",
       "  185.31565856933594,\n",
       "  184.93045043945312,\n",
       "  184.64312744140625],\n",
       " 'accuracy': [0.0005069597973488271,\n",
       "  0.00059642328415066,\n",
       "  0.0006033051176927984,\n",
       "  0.0006170687265694141,\n",
       "  0.0006721231620758772,\n",
       "  0.0006904746405780315,\n",
       "  0.0007202958222478628,\n",
       "  0.0007019443437457085,\n",
       "  0.0006812989013269544,\n",
       "  0.0006124808569438756,\n",
       "  0.0005207234062254429,\n",
       "  0.0004725507751572877,\n",
       "  0.0004174963105469942,\n",
       "  0.0004129084409214556,\n",
       "  0.00044731746311299503,\n",
       "  0.0004886083188466728,\n",
       "  0.00043584778904914856,\n",
       "  0.0004771386447828263,\n",
       "  0.00044731746311299503,\n",
       "  0.00044731746311299503],\n",
       " 'val_loss': [280.3866271972656,\n",
       "  239.90960693359375,\n",
       "  426.13916015625,\n",
       "  236.39132690429688,\n",
       "  226.96371459960938,\n",
       "  230.2181854248047,\n",
       "  213.08697509765625,\n",
       "  205.375732421875,\n",
       "  203.7042694091797,\n",
       "  199.46640014648438,\n",
       "  200.30868530273438,\n",
       "  196.2071990966797,\n",
       "  188.12242126464844,\n",
       "  213.4365234375,\n",
       "  194.6704559326172,\n",
       "  190.88241577148438,\n",
       "  187.6642303466797,\n",
       "  197.18443298339844,\n",
       "  190.0298614501953,\n",
       "  199.72171020507812],\n",
       " 'val_accuracy': [0.0009848630288615823,\n",
       "  4.8172649258049205e-05,\n",
       "  0.0011079709511250257,\n",
       "  0.0008992227958515286,\n",
       "  0.000920632854104042,\n",
       "  0.00010705033491831273,\n",
       "  0.0009527479996904731,\n",
       "  0.000920632854104042,\n",
       "  0.0009795106016099453,\n",
       "  6.958271842449903e-05,\n",
       "  0.00010705033491831273,\n",
       "  0.000883165281265974,\n",
       "  5.8877685660263523e-05,\n",
       "  0.0009420429705642164,\n",
       "  8.028775482671335e-05,\n",
       "  8.028775482671335e-05,\n",
       "  7.493523298762739e-05,\n",
       "  0.000920632854104042,\n",
       "  4.8172649258049205e-05,\n",
       "  0.0009045753395184875]}"
      ]
     },
     "execution_count": 32,
     "metadata": {},
     "output_type": "execute_result"
    }
   ],
   "source": [
    "history4.history"
   ]
  },
  {
   "cell_type": "markdown",
   "metadata": {},
   "source": [
    "## Plot"
   ]
  },
  {
   "cell_type": "markdown",
   "metadata": {},
   "source": [
    "### Loss function (MSE)"
   ]
  },
  {
   "cell_type": "code",
   "execution_count": 33,
   "metadata": {
    "scrolled": false
   },
   "outputs": [
    {
     "data": {
      "image/png": "[encoded data removed]",
      "text/plain": [
       "<Figure size 640x480 with 1 Axes>"
      ]
     },
     "metadata": {},
     "output_type": "display_data"
    }
   ],
   "source": [
    "model_df = pd.DataFrame(history4.history)\n",
    "model_df[['loss', 'val_loss']].plot()\n",
    "plt.xlabel(\"Number of Epochs\")\n",
    "plt.ylabel(\"Loss\")\n",
    "plt.title(\"Training and Validation Loss Over Training Period\", pad=12);"
   ]
  },
  {
   "cell_type": "markdown",
   "metadata": {},
   "source": [
    "### Accuracy"
   ]
  },
  {
   "cell_type": "code",
   "execution_count": 34,
   "metadata": {},
   "outputs": [
    {
     "data": {
      "image/png": "[encoded data removed]",
      "text/plain": [
       "<Figure size 640x480 with 1 Axes>"
      ]
     },
     "metadata": {},
     "output_type": "display_data"
    }
   ],
   "source": [
    "model_df[['accuracy', 'val_accuracy']].plot()\n",
    "plt.xlabel(\"Number of Epochs\")\n",
    "plt.ylabel(\"Accuracy\")\n",
    "plt.title(\"Training and Validation Accuray Over Training Period\", pad=12);"
   ]
  },
  {
   "cell_type": "markdown",
   "metadata": {},
   "source": [
    "### Theory vs Predict"
   ]
  },
  {
   "cell_type": "code",
   "execution_count": 42,
   "metadata": {
    "scrolled": true
   },
   "outputs": [
    {
     "name": "stdout",
     "output_type": "stream",
     "text": [
      "r: 0.55524%, st_er: 0.001131%\n",
      "y = 0.3264*x + 7.3193\n"
     ]
    },
    {
     "data": {
      "image/png": "[encoded data removed]",
      "text/plain": [
       "<Figure size 640x480 with 1 Axes>"
      ]
     },
     "metadata": {},
     "output_type": "display_data"
    }
   ],
   "source": [
    "x = y_test.flatten()\n",
    "y = test_pred4.flatten()\n",
    "m, b, r, p, st_er = stats.linregress(x,y) \n",
    "\n",
    "yfit = [b + m * xi for xi in x]\n",
    "yisx = [0 + 1 * xi for xi in x]\n",
    "plt.plot(x, yfit)\n",
    "plt.plot(x, yisx)\n",
    "\n",
    "plt.scatter(y_test, test_pred4,  color='black')\n",
    "plt.axis([0,100, 0, 100])\n",
    "plt.xlabel(\"Theory (nT)\")\n",
    "plt.ylabel(\"Prediction (nT)\")\n",
    "# print(r, st_er)\n",
    "print(\"r: {:.5f}%, st_er: {:.6f}%\".format(r, st_er))\n",
    "print(\"y = \"+str(round(m,4))+\"*x + \"+str(round(b,4)))"
   ]
  },
  {
   "cell_type": "code",
   "execution_count": null,
   "metadata": {},
   "outputs": [],
   "source": []
  },
  {
   "cell_type": "markdown",
   "metadata": {},
   "source": [
    "# Output image data"
   ]
  },
  {
   "cell_type": "code",
   "execution_count": 115,
   "metadata": {},
   "outputs": [
    {
     "name": "stderr",
     "output_type": "stream",
     "text": [
      "/var/folders/yd/vkjb_lqj2_30lnyhzhjqtg9w0000gp/T/ipykernel_3032/2079570890.py:1: SettingWithCopyWarning: \n",
      "A value is trying to be set on a copy of a slice from a DataFrame.\n",
      "Try using .loc[row_indexer,col_indexer] = value instead\n",
      "\n",
      "See the caveats in the documentation: https://pandas.pydata.org/pandas-docs/stable/user_guide/indexing.html#returning-a-view-versus-a-copy\n",
      "  df_test['predict'] = test_pred\n",
      "/var/folders/yd/vkjb_lqj2_30lnyhzhjqtg9w0000gp/T/ipykernel_3032/2079570890.py:2: SettingWithCopyWarning: \n",
      "A value is trying to be set on a copy of a slice from a DataFrame.\n",
      "Try using .loc[row_indexer,col_indexer] = value instead\n",
      "\n",
      "See the caveats in the documentation: https://pandas.pydata.org/pandas-docs/stable/user_guide/indexing.html#returning-a-view-versus-a-copy\n",
      "  df_test['predict2'] = test_pred2\n"
     ]
    }
   ],
   "source": [
    "df['predict'] = test_pred\n",
    "df_test['predict'] = test_pred2\n",
    "df_55['predict'] = test_pred3\n",
    "df_on['predict'] = test_pred4"
   ]
  },
  {
   "cell_type": "code",
   "execution_count": 116,
   "metadata": {},
   "outputs": [],
   "source": [
    "np.savetxt(save_path+\"nn.txt\", df[['i', 'j', 'k', 'predict']], fmt=\"%i %i %i %s\")"
   ]
  },
  {
   "cell_type": "code",
   "execution_count": 117,
   "metadata": {},
   "outputs": [],
   "source": [
    "np.savetxt(save_path+\"nn2.txt\", df_test[['i', 'j', 'k', 'predict']], fmt=\"%i %i %i %s\")"
   ]
  },
  {
   "cell_type": "code",
   "execution_count": null,
   "metadata": {},
   "outputs": [],
   "source": [
    "np.savetxt(save_path+\"nn3.txt\", df_55[['i', 'j', 'k', 'predict']], fmt=\"%i %i %i %s\")"
   ]
  },
  {
   "cell_type": "code",
   "execution_count": null,
   "metadata": {},
   "outputs": [],
   "source": [
    "np.savetxt(save_path+\"nn4.txt\", df_on[['i', 'j', 'k', 'predict']], fmt=\"%i %i %i %s\")"
   ]
  },
  {
   "cell_type": "code",
   "execution_count": null,
   "metadata": {},
   "outputs": [],
   "source": []
  },
  {
   "cell_type": "code",
   "execution_count": null,
   "metadata": {},
   "outputs": [],
   "source": []
  }
 ],
 "metadata": {
  "kernelspec": {
   "display_name": "Python 3 (ipykernel)",
   "language": "python",
   "name": "python3"
  },
  "language_info": {
   "codemirror_mode": {
    "name": "ipython",
    "version": 3
   },
   "file_extension": ".py",
   "mimetype": "text/x-python",
   "name": "python",
   "nbconvert_exporter": "python",
   "pygments_lexer": "ipython3",
   "version": "3.10.6"
  }
 },
 "nbformat": 4,
 "nbformat_minor": 2
}
