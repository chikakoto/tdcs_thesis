{
 "cells": [
  {
   "cell_type": "code",
   "execution_count": 44,
   "metadata": {},
   "outputs": [],
   "source": [
    "import pandas as pd\n",
    "import numpy as np\n",
    "import matplotlib.pyplot as plt\n",
    "import seaborn as sns\n",
    "from scipy import stats\n",
    "import pickle\n",
    "# import nibabel as nib"
   ]
  },
  {
   "cell_type": "code",
   "execution_count": 2,
   "metadata": {},
   "outputs": [],
   "source": [
    "from sklearn.metrics import mean_squared_error as mse\n",
    "from sklearn.metrics import mean_absolute_percentage_error as mape\n",
    "from sklearn.model_selection import train_test_split\n",
    "from sklearn.preprocessing import MinMaxScaler, StandardScaler\n",
    "from sklearn.metrics import r2_score\n",
    "\n",
    "#\n",
    "import tensorflow as tf\n",
    "from tensorflow import keras\n",
    "from tensorflow.keras import layers\n",
    "from tensorflow.keras.layers import Flatten, Dense\n",
    "\n",
    "\n",
    "from sklearn.model_selection import GridSearchCV\n",
    "from sklearn.feature_extraction.text import TfidfVectorizer\n",
    "#from tensorflow.keras.wrappers.scikit_learn import KerasRegressor\n",
    "from scikeras.wrappers import KerasRegressor\n",
    "from sklearn.ensemble import AdaBoostRegressor"
   ]
  },
  {
   "cell_type": "markdown",
   "metadata": {},
   "source": [
    "# Load prepared data"
   ]
  },
  {
   "cell_type": "code",
   "execution_count": 4,
   "metadata": {},
   "outputs": [],
   "source": [
    "dir_path = \"/Users/chikakoolsen/opt/python/thesis/code/tdcs_thesis/\"\n",
    "# dir_path = \"/Users/mriworkshop/Documents/TDCS/code/tdcs_thesis/\"\n",
    "save_path = dir_path+\"data/raw/\"\n",
    "img_path =  dir_path+\"data/processed/\"\n",
    "model_path = dir_path+\"models/\""
   ]
  },
  {
   "cell_type": "markdown",
   "metadata": {},
   "source": [
    "## fmap mean all experiments"
   ]
  },
  {
   "cell_type": "code",
   "execution_count": 4,
   "metadata": {},
   "outputs": [],
   "source": [
    "file_mean = save_path+\"fmap_mean_32to38.txt\"\n",
    "columns_mean =['exp', 'mini_exp', 'i', 'j', 'k', 'mean0', 'mean1', 'mean2', 'mean3', 'mean4', 'theory']\n",
    "data = np.loadtxt(file_mean);"
   ]
  },
  {
   "cell_type": "code",
   "execution_count": 5,
   "metadata": {},
   "outputs": [
    {
     "data": {
      "text/html": [
       "<div>\n",
       "<style scoped>\n",
       "    .dataframe tbody tr th:only-of-type {\n",
       "        vertical-align: middle;\n",
       "    }\n",
       "\n",
       "    .dataframe tbody tr th {\n",
       "        vertical-align: top;\n",
       "    }\n",
       "\n",
       "    .dataframe thead th {\n",
       "        text-align: right;\n",
       "    }\n",
       "</style>\n",
       "<table border=\"1\" class=\"dataframe\">\n",
       "  <thead>\n",
       "    <tr style=\"text-align: right;\">\n",
       "      <th></th>\n",
       "      <th>exp</th>\n",
       "      <th>mini_exp</th>\n",
       "      <th>i</th>\n",
       "      <th>j</th>\n",
       "      <th>k</th>\n",
       "      <th>mean0</th>\n",
       "      <th>mean1</th>\n",
       "      <th>mean2</th>\n",
       "      <th>mean3</th>\n",
       "      <th>mean4</th>\n",
       "      <th>theory</th>\n",
       "    </tr>\n",
       "  </thead>\n",
       "  <tbody>\n",
       "    <tr>\n",
       "      <th>0</th>\n",
       "      <td>36</td>\n",
       "      <td>1</td>\n",
       "      <td>0</td>\n",
       "      <td>0</td>\n",
       "      <td>0</td>\n",
       "      <td>0.0</td>\n",
       "      <td>0.0</td>\n",
       "      <td>0.0</td>\n",
       "      <td>0.0</td>\n",
       "      <td>0.0</td>\n",
       "      <td>0.0</td>\n",
       "    </tr>\n",
       "    <tr>\n",
       "      <th>1</th>\n",
       "      <td>36</td>\n",
       "      <td>1</td>\n",
       "      <td>0</td>\n",
       "      <td>0</td>\n",
       "      <td>1</td>\n",
       "      <td>0.0</td>\n",
       "      <td>0.0</td>\n",
       "      <td>0.0</td>\n",
       "      <td>0.0</td>\n",
       "      <td>0.0</td>\n",
       "      <td>0.0</td>\n",
       "    </tr>\n",
       "    <tr>\n",
       "      <th>2</th>\n",
       "      <td>36</td>\n",
       "      <td>1</td>\n",
       "      <td>0</td>\n",
       "      <td>0</td>\n",
       "      <td>2</td>\n",
       "      <td>0.0</td>\n",
       "      <td>0.0</td>\n",
       "      <td>0.0</td>\n",
       "      <td>0.0</td>\n",
       "      <td>0.0</td>\n",
       "      <td>0.0</td>\n",
       "    </tr>\n",
       "    <tr>\n",
       "      <th>3</th>\n",
       "      <td>36</td>\n",
       "      <td>1</td>\n",
       "      <td>0</td>\n",
       "      <td>0</td>\n",
       "      <td>3</td>\n",
       "      <td>0.0</td>\n",
       "      <td>0.0</td>\n",
       "      <td>0.0</td>\n",
       "      <td>0.0</td>\n",
       "      <td>0.0</td>\n",
       "      <td>0.0</td>\n",
       "    </tr>\n",
       "    <tr>\n",
       "      <th>4</th>\n",
       "      <td>36</td>\n",
       "      <td>1</td>\n",
       "      <td>0</td>\n",
       "      <td>0</td>\n",
       "      <td>4</td>\n",
       "      <td>0.0</td>\n",
       "      <td>0.0</td>\n",
       "      <td>0.0</td>\n",
       "      <td>0.0</td>\n",
       "      <td>0.0</td>\n",
       "      <td>0.0</td>\n",
       "    </tr>\n",
       "    <tr>\n",
       "      <th>...</th>\n",
       "      <td>...</td>\n",
       "      <td>...</td>\n",
       "      <td>...</td>\n",
       "      <td>...</td>\n",
       "      <td>...</td>\n",
       "      <td>...</td>\n",
       "      <td>...</td>\n",
       "      <td>...</td>\n",
       "      <td>...</td>\n",
       "      <td>...</td>\n",
       "      <td>...</td>\n",
       "    </tr>\n",
       "    <tr>\n",
       "      <th>5046267</th>\n",
       "      <td>35</td>\n",
       "      <td>5</td>\n",
       "      <td>43</td>\n",
       "      <td>63</td>\n",
       "      <td>59</td>\n",
       "      <td>0.0</td>\n",
       "      <td>0.0</td>\n",
       "      <td>0.0</td>\n",
       "      <td>0.0</td>\n",
       "      <td>0.0</td>\n",
       "      <td>0.0</td>\n",
       "    </tr>\n",
       "    <tr>\n",
       "      <th>5046268</th>\n",
       "      <td>35</td>\n",
       "      <td>5</td>\n",
       "      <td>43</td>\n",
       "      <td>63</td>\n",
       "      <td>60</td>\n",
       "      <td>0.0</td>\n",
       "      <td>0.0</td>\n",
       "      <td>0.0</td>\n",
       "      <td>0.0</td>\n",
       "      <td>0.0</td>\n",
       "      <td>0.0</td>\n",
       "    </tr>\n",
       "    <tr>\n",
       "      <th>5046269</th>\n",
       "      <td>35</td>\n",
       "      <td>5</td>\n",
       "      <td>43</td>\n",
       "      <td>63</td>\n",
       "      <td>61</td>\n",
       "      <td>0.0</td>\n",
       "      <td>0.0</td>\n",
       "      <td>0.0</td>\n",
       "      <td>0.0</td>\n",
       "      <td>0.0</td>\n",
       "      <td>0.0</td>\n",
       "    </tr>\n",
       "    <tr>\n",
       "      <th>5046270</th>\n",
       "      <td>35</td>\n",
       "      <td>5</td>\n",
       "      <td>43</td>\n",
       "      <td>63</td>\n",
       "      <td>62</td>\n",
       "      <td>0.0</td>\n",
       "      <td>0.0</td>\n",
       "      <td>0.0</td>\n",
       "      <td>0.0</td>\n",
       "      <td>0.0</td>\n",
       "      <td>0.0</td>\n",
       "    </tr>\n",
       "    <tr>\n",
       "      <th>5046271</th>\n",
       "      <td>35</td>\n",
       "      <td>5</td>\n",
       "      <td>43</td>\n",
       "      <td>63</td>\n",
       "      <td>63</td>\n",
       "      <td>0.0</td>\n",
       "      <td>0.0</td>\n",
       "      <td>0.0</td>\n",
       "      <td>0.0</td>\n",
       "      <td>0.0</td>\n",
       "      <td>0.0</td>\n",
       "    </tr>\n",
       "  </tbody>\n",
       "</table>\n",
       "<p>5046272 rows × 11 columns</p>\n",
       "</div>"
      ],
      "text/plain": [
       "         exp  mini_exp   i   j   k  mean0  mean1  mean2  mean3  mean4  theory\n",
       "0         36         1   0   0   0    0.0    0.0    0.0    0.0    0.0     0.0\n",
       "1         36         1   0   0   1    0.0    0.0    0.0    0.0    0.0     0.0\n",
       "2         36         1   0   0   2    0.0    0.0    0.0    0.0    0.0     0.0\n",
       "3         36         1   0   0   3    0.0    0.0    0.0    0.0    0.0     0.0\n",
       "4         36         1   0   0   4    0.0    0.0    0.0    0.0    0.0     0.0\n",
       "...      ...       ...  ..  ..  ..    ...    ...    ...    ...    ...     ...\n",
       "5046267   35         5  43  63  59    0.0    0.0    0.0    0.0    0.0     0.0\n",
       "5046268   35         5  43  63  60    0.0    0.0    0.0    0.0    0.0     0.0\n",
       "5046269   35         5  43  63  61    0.0    0.0    0.0    0.0    0.0     0.0\n",
       "5046270   35         5  43  63  62    0.0    0.0    0.0    0.0    0.0     0.0\n",
       "5046271   35         5  43  63  63    0.0    0.0    0.0    0.0    0.0     0.0\n",
       "\n",
       "[5046272 rows x 11 columns]"
      ]
     },
     "execution_count": 5,
     "metadata": {},
     "output_type": "execute_result"
    }
   ],
   "source": [
    "df = pd.DataFrame(data, columns=columns_mean)\n",
    "df = df.astype({\"exp\": int, \"i\": int, \"j\": int, \"k\": int, \"mini_exp\": int})\n",
    "df"
   ]
  },
  {
   "cell_type": "code",
   "execution_count": 6,
   "metadata": {},
   "outputs": [
    {
     "name": "stdout",
     "output_type": "stream",
     "text": [
      "<class 'pandas.core.frame.DataFrame'>\n",
      "RangeIndex: 5046272 entries, 0 to 5046271\n",
      "Data columns (total 11 columns):\n",
      " #   Column    Dtype  \n",
      "---  ------    -----  \n",
      " 0   exp       int64  \n",
      " 1   mini_exp  int64  \n",
      " 2   i         int64  \n",
      " 3   j         int64  \n",
      " 4   k         int64  \n",
      " 5   mean0     float64\n",
      " 6   mean1     float64\n",
      " 7   mean2     float64\n",
      " 8   mean3     float64\n",
      " 9   mean4     float64\n",
      " 10  theory    float64\n",
      "dtypes: float64(6), int64(5)\n",
      "memory usage: 423.5 MB\n"
     ]
    }
   ],
   "source": [
    "df.info()"
   ]
  },
  {
   "cell_type": "code",
   "execution_count": null,
   "metadata": {},
   "outputs": [],
   "source": []
  },
  {
   "cell_type": "markdown",
   "metadata": {},
   "source": [
    "## Physics Model"
   ]
  },
  {
   "cell_type": "code",
   "execution_count": null,
   "metadata": {},
   "outputs": [],
   "source": [
    "file_mean = save_path+\"fmap_mean_physics.txt\"\n",
    "columns =['exp', 'mini_exp', 'i', 'j', 'k', 'mean']\n",
    "data = np.loadtxt(file_mean);"
   ]
  },
  {
   "cell_type": "code",
   "execution_count": null,
   "metadata": {},
   "outputs": [],
   "source": [
    "df_physics = pd.DataFrame(data, columns=columns)\n",
    "df_physics = df_physics.astype({\"exp\": int, \"i\": int, \"j\": int, \"k\": int, \"mini_exp\": int})"
   ]
  },
  {
   "cell_type": "code",
   "execution_count": null,
   "metadata": {},
   "outputs": [],
   "source": [
    "df_physics.isnull().any()"
   ]
  },
  {
   "cell_type": "code",
   "execution_count": null,
   "metadata": {},
   "outputs": [],
   "source": [
    "df_physics.info()"
   ]
  },
  {
   "cell_type": "code",
   "execution_count": null,
   "metadata": {},
   "outputs": [],
   "source": []
  },
  {
   "cell_type": "markdown",
   "metadata": {},
   "source": [
    "## Drift correction"
   ]
  },
  {
   "cell_type": "code",
   "execution_count": null,
   "metadata": {},
   "outputs": [],
   "source": [
    "file_mean_new = img_path+\"correction.txt\"\n",
    "columns =['exp', 'i', 'j', 'k', 'value']\n",
    "data = np.loadtxt(file_mean_new);"
   ]
  },
  {
   "cell_type": "code",
   "execution_count": null,
   "metadata": {},
   "outputs": [],
   "source": [
    "df_new = pd.DataFrame(data, columns=columns)\n",
    "df_new = df_new.astype({\"exp\": int, \"i\": int, \"j\": int, \"k\": int})"
   ]
  },
  {
   "cell_type": "code",
   "execution_count": null,
   "metadata": {},
   "outputs": [],
   "source": [
    "df_new"
   ]
  },
  {
   "cell_type": "code",
   "execution_count": null,
   "metadata": {},
   "outputs": [],
   "source": []
  },
  {
   "cell_type": "markdown",
   "metadata": {},
   "source": [
    "# Split data"
   ]
  },
  {
   "cell_type": "markdown",
   "metadata": {},
   "source": [
    "## Data 1. fmap mean all experiments"
   ]
  },
  {
   "cell_type": "code",
   "execution_count": 7,
   "metadata": {},
   "outputs": [],
   "source": [
    "df1_train = df[~((df['exp']==36) & ((df['mini_exp']==5) | (df['mini_exp']==6)))]\n",
    "df1_val =  df[(df['exp']==36) & (df['mini_exp']==5)]\n",
    "df1_test =  df[(df['exp']==36) & (df['mini_exp']==6)]"
   ]
  },
  {
   "cell_type": "code",
   "execution_count": 8,
   "metadata": {},
   "outputs": [
    {
     "name": "stdout",
     "output_type": "stream",
     "text": [
      "(4685824, 11)\n",
      "(180224, 11)\n",
      "(180224, 11)\n"
     ]
    }
   ],
   "source": [
    "print(df1_train.shape)\n",
    "print(df1_val.shape)\n",
    "print(df1_test.shape)"
   ]
  },
  {
   "cell_type": "code",
   "execution_count": 9,
   "metadata": {},
   "outputs": [],
   "source": [
    "X1_train = df1_train.iloc[:, 5:-1].values \n",
    "y1_train = df1_train['theory'].values\n",
    "\n",
    "X1_test = df1_val.iloc[:, 5:-1].values \n",
    "y1_test = df1_val['theory'].values\n",
    "\n",
    "X1_pred = df1_test.iloc[:, 5:-1].values \n",
    "y1_pred = df1_val['theory'].values"
   ]
  },
  {
   "cell_type": "code",
   "execution_count": 10,
   "metadata": {},
   "outputs": [
    {
     "name": "stdout",
     "output_type": "stream",
     "text": [
      "(4685824, 5)\n",
      "(4685824,)\n",
      "(180224, 5)\n",
      "(180224,)\n",
      "(180224, 5)\n",
      "(180224,)\n"
     ]
    }
   ],
   "source": [
    "print(X1_train.shape)\n",
    "print(y1_train.shape)\n",
    "print(X1_test.shape)\n",
    "print(y1_test.shape)\n",
    "print(X1_pred.shape)\n",
    "print(y1_pred.shape)"
   ]
  },
  {
   "cell_type": "markdown",
   "metadata": {},
   "source": [
    "## Data2: One experiment"
   ]
  },
  {
   "cell_type": "code",
   "execution_count": 11,
   "metadata": {},
   "outputs": [],
   "source": [
    "df_train = df[(df['exp']==36) & (df['mini_exp']!=6)]\n",
    "df_test = df[(df['exp']==36) & (df['mini_exp']==6)]"
   ]
  },
  {
   "cell_type": "markdown",
   "metadata": {},
   "source": [
    "## Data4: None zero"
   ]
  },
  {
   "cell_type": "code",
   "execution_count": 12,
   "metadata": {},
   "outputs": [],
   "source": [
    "df_nonzero = df[(df['mean0']!=0.0) & (df['mean1']!=0.0) & (df['mean2']!=0.0) & (df['mean3']!=0.0) & (df['mean4']!=0.0)]"
   ]
  },
  {
   "cell_type": "code",
   "execution_count": 13,
   "metadata": {},
   "outputs": [
    {
     "data": {
      "text/html": [
       "<div>\n",
       "<style scoped>\n",
       "    .dataframe tbody tr th:only-of-type {\n",
       "        vertical-align: middle;\n",
       "    }\n",
       "\n",
       "    .dataframe tbody tr th {\n",
       "        vertical-align: top;\n",
       "    }\n",
       "\n",
       "    .dataframe thead th {\n",
       "        text-align: right;\n",
       "    }\n",
       "</style>\n",
       "<table border=\"1\" class=\"dataframe\">\n",
       "  <thead>\n",
       "    <tr style=\"text-align: right;\">\n",
       "      <th></th>\n",
       "      <th>exp</th>\n",
       "      <th>mini_exp</th>\n",
       "      <th>i</th>\n",
       "      <th>j</th>\n",
       "      <th>k</th>\n",
       "      <th>mean0</th>\n",
       "      <th>mean1</th>\n",
       "      <th>mean2</th>\n",
       "      <th>mean3</th>\n",
       "      <th>mean4</th>\n",
       "      <th>theory</th>\n",
       "    </tr>\n",
       "  </thead>\n",
       "  <tbody>\n",
       "    <tr>\n",
       "      <th>30760</th>\n",
       "      <td>36</td>\n",
       "      <td>1</td>\n",
       "      <td>7</td>\n",
       "      <td>32</td>\n",
       "      <td>40</td>\n",
       "      <td>118.874306</td>\n",
       "      <td>102.631088</td>\n",
       "      <td>73.720810</td>\n",
       "      <td>46.604973</td>\n",
       "      <td>35.842915</td>\n",
       "      <td>4.988159</td>\n",
       "    </tr>\n",
       "    <tr>\n",
       "      <th>30761</th>\n",
       "      <td>36</td>\n",
       "      <td>1</td>\n",
       "      <td>7</td>\n",
       "      <td>32</td>\n",
       "      <td>41</td>\n",
       "      <td>-69.809402</td>\n",
       "      <td>-88.836975</td>\n",
       "      <td>-115.809509</td>\n",
       "      <td>-147.981812</td>\n",
       "      <td>-157.407669</td>\n",
       "      <td>4.591202</td>\n",
       "    </tr>\n",
       "    <tr>\n",
       "      <th>30762</th>\n",
       "      <td>36</td>\n",
       "      <td>1</td>\n",
       "      <td>7</td>\n",
       "      <td>32</td>\n",
       "      <td>42</td>\n",
       "      <td>-501.965088</td>\n",
       "      <td>-518.938477</td>\n",
       "      <td>-546.379456</td>\n",
       "      <td>-559.395264</td>\n",
       "      <td>-578.390381</td>\n",
       "      <td>4.237324</td>\n",
       "    </tr>\n",
       "    <tr>\n",
       "      <th>30763</th>\n",
       "      <td>36</td>\n",
       "      <td>1</td>\n",
       "      <td>7</td>\n",
       "      <td>32</td>\n",
       "      <td>43</td>\n",
       "      <td>-729.152405</td>\n",
       "      <td>-748.379883</td>\n",
       "      <td>-771.094543</td>\n",
       "      <td>-794.678772</td>\n",
       "      <td>-810.996643</td>\n",
       "      <td>3.918999</td>\n",
       "    </tr>\n",
       "    <tr>\n",
       "      <th>30799</th>\n",
       "      <td>36</td>\n",
       "      <td>1</td>\n",
       "      <td>7</td>\n",
       "      <td>33</td>\n",
       "      <td>15</td>\n",
       "      <td>-1217.971191</td>\n",
       "      <td>-1236.205566</td>\n",
       "      <td>-1261.405762</td>\n",
       "      <td>-1284.039307</td>\n",
       "      <td>-1296.501587</td>\n",
       "      <td>3.371496</td>\n",
       "    </tr>\n",
       "    <tr>\n",
       "      <th>...</th>\n",
       "      <td>...</td>\n",
       "      <td>...</td>\n",
       "      <td>...</td>\n",
       "      <td>...</td>\n",
       "      <td>...</td>\n",
       "      <td>...</td>\n",
       "      <td>...</td>\n",
       "      <td>...</td>\n",
       "      <td>...</td>\n",
       "      <td>...</td>\n",
       "      <td>...</td>\n",
       "    </tr>\n",
       "    <tr>\n",
       "      <th>5011735</th>\n",
       "      <td>35</td>\n",
       "      <td>5</td>\n",
       "      <td>35</td>\n",
       "      <td>36</td>\n",
       "      <td>23</td>\n",
       "      <td>321.924683</td>\n",
       "      <td>342.532410</td>\n",
       "      <td>335.163940</td>\n",
       "      <td>323.188599</td>\n",
       "      <td>335.096008</td>\n",
       "      <td>8.047899</td>\n",
       "    </tr>\n",
       "    <tr>\n",
       "      <th>5011736</th>\n",
       "      <td>35</td>\n",
       "      <td>5</td>\n",
       "      <td>35</td>\n",
       "      <td>36</td>\n",
       "      <td>24</td>\n",
       "      <td>280.548309</td>\n",
       "      <td>296.518066</td>\n",
       "      <td>293.497314</td>\n",
       "      <td>285.676575</td>\n",
       "      <td>294.248779</td>\n",
       "      <td>7.110718</td>\n",
       "    </tr>\n",
       "    <tr>\n",
       "      <th>5011737</th>\n",
       "      <td>35</td>\n",
       "      <td>5</td>\n",
       "      <td>35</td>\n",
       "      <td>36</td>\n",
       "      <td>25</td>\n",
       "      <td>216.092102</td>\n",
       "      <td>232.253601</td>\n",
       "      <td>229.062576</td>\n",
       "      <td>219.861847</td>\n",
       "      <td>229.366959</td>\n",
       "      <td>6.379625</td>\n",
       "    </tr>\n",
       "    <tr>\n",
       "      <th>5011738</th>\n",
       "      <td>35</td>\n",
       "      <td>5</td>\n",
       "      <td>35</td>\n",
       "      <td>36</td>\n",
       "      <td>26</td>\n",
       "      <td>118.546364</td>\n",
       "      <td>135.199966</td>\n",
       "      <td>132.178497</td>\n",
       "      <td>124.143974</td>\n",
       "      <td>132.757050</td>\n",
       "      <td>5.780618</td>\n",
       "    </tr>\n",
       "    <tr>\n",
       "      <th>5011750</th>\n",
       "      <td>35</td>\n",
       "      <td>5</td>\n",
       "      <td>35</td>\n",
       "      <td>36</td>\n",
       "      <td>38</td>\n",
       "      <td>-686.895996</td>\n",
       "      <td>-674.939453</td>\n",
       "      <td>-674.341736</td>\n",
       "      <td>-675.901367</td>\n",
       "      <td>-673.318298</td>\n",
       "      <td>2.270353</td>\n",
       "    </tr>\n",
       "  </tbody>\n",
       "</table>\n",
       "<p>938508 rows × 11 columns</p>\n",
       "</div>"
      ],
      "text/plain": [
       "         exp  mini_exp   i   j   k        mean0        mean1        mean2  \\\n",
       "30760     36         1   7  32  40   118.874306   102.631088    73.720810   \n",
       "30761     36         1   7  32  41   -69.809402   -88.836975  -115.809509   \n",
       "30762     36         1   7  32  42  -501.965088  -518.938477  -546.379456   \n",
       "30763     36         1   7  32  43  -729.152405  -748.379883  -771.094543   \n",
       "30799     36         1   7  33  15 -1217.971191 -1236.205566 -1261.405762   \n",
       "...      ...       ...  ..  ..  ..          ...          ...          ...   \n",
       "5011735   35         5  35  36  23   321.924683   342.532410   335.163940   \n",
       "5011736   35         5  35  36  24   280.548309   296.518066   293.497314   \n",
       "5011737   35         5  35  36  25   216.092102   232.253601   229.062576   \n",
       "5011738   35         5  35  36  26   118.546364   135.199966   132.178497   \n",
       "5011750   35         5  35  36  38  -686.895996  -674.939453  -674.341736   \n",
       "\n",
       "               mean3        mean4    theory  \n",
       "30760      46.604973    35.842915  4.988159  \n",
       "30761    -147.981812  -157.407669  4.591202  \n",
       "30762    -559.395264  -578.390381  4.237324  \n",
       "30763    -794.678772  -810.996643  3.918999  \n",
       "30799   -1284.039307 -1296.501587  3.371496  \n",
       "...              ...          ...       ...  \n",
       "5011735   323.188599   335.096008  8.047899  \n",
       "5011736   285.676575   294.248779  7.110718  \n",
       "5011737   219.861847   229.366959  6.379625  \n",
       "5011738   124.143974   132.757050  5.780618  \n",
       "5011750  -675.901367  -673.318298  2.270353  \n",
       "\n",
       "[938508 rows x 11 columns]"
      ]
     },
     "execution_count": 13,
     "metadata": {},
     "output_type": "execute_result"
    }
   ],
   "source": [
    "df_nonzero"
   ]
  },
  {
   "cell_type": "code",
   "execution_count": 14,
   "metadata": {},
   "outputs": [],
   "source": [
    "df4_train = df_nonzero[~((df_nonzero['exp']==36) & ((df_nonzero['mini_exp']==6) | (df_nonzero['mini_exp']==5)))]\n",
    "df4_test =  df_nonzero[(df_nonzero['exp']==36) & (df_nonzero['mini_exp']==5)]\n",
    "df4_pred =  df_nonzero[(df_nonzero['exp']==36) & (df_nonzero['mini_exp']==6)]"
   ]
  },
  {
   "cell_type": "code",
   "execution_count": 15,
   "metadata": {},
   "outputs": [],
   "source": [
    "X4_train = df4_train.iloc[:, 5:-1].values\n",
    "y4_train = df4_train['theory'].values\n",
    "\n",
    "X4_test = df4_test.iloc[:, 5:-1].values\n",
    "y4_test = df4_test['theory'].values\n",
    "\n",
    "X4_pred = df4_pred.iloc[:, 5:-1].values\n",
    "y4_pred = df4_pred['theory'].values"
   ]
  },
  {
   "cell_type": "code",
   "execution_count": 25,
   "metadata": {},
   "outputs": [],
   "source": [
    "# X = df_nonzero.iloc[:, 5:-1].values\n",
    "# y = df_nonzero['theory'].values\n",
    "\n",
    "# X4_train, X4_test, y4_train, y4_test = train_test_split(\n",
    "#     X, y, test_size=0.3, random_state=0)"
   ]
  },
  {
   "cell_type": "code",
   "execution_count": 16,
   "metadata": {},
   "outputs": [
    {
     "name": "stdout",
     "output_type": "stream",
     "text": [
      "(870485, 5)\n",
      "(870485,)\n",
      "(34011, 5)\n",
      "(34011,)\n",
      "(34012, 5)\n",
      "(34012,)\n"
     ]
    }
   ],
   "source": [
    "# print(X.shape)\n",
    "# print(y.shape)\n",
    "print(X4_train.shape)\n",
    "print(y4_train.shape)\n",
    "print(X4_test.shape)\n",
    "print(y4_test.shape)\n",
    "print(X4_pred.shape)\n",
    "print(y4_pred.shape)"
   ]
  },
  {
   "cell_type": "markdown",
   "metadata": {},
   "source": [
    "# Include zero 36 to 38"
   ]
  },
  {
   "cell_type": "code",
   "execution_count": 23,
   "metadata": {},
   "outputs": [],
   "source": [
    "X_train = X4_train\n",
    "y_train = y4_train\n",
    "X_test = X4_test\n",
    "y_test = y4_test"
   ]
  },
  {
   "cell_type": "code",
   "execution_count": 12,
   "metadata": {},
   "outputs": [
    {
     "name": "stderr",
     "output_type": "stream",
     "text": [
      "2022-11-13 00:28:22.852367: I tensorflow/core/platform/cpu_feature_guard.cc:193] This TensorFlow binary is optimized with oneAPI Deep Neural Network Library (oneDNN) to use the following CPU instructions in performance-critical operations:  SSE4.1 SSE4.2 AVX AVX2 FMA\n",
      "To enable them in other operations, rebuild TensorFlow with the appropriate compiler flags.\n"
     ]
    }
   ],
   "source": [
    "shape = (len(X_train[0]),)\n",
    "model = keras.Sequential()\n",
    "model.add(Dense(5, activation='relu', input_shape=shape)) \n",
    "model.add(Dense(5, activation='relu'))\n",
    "model.add(Dense(1, activation='linear'))\n",
    "model.compile(optimizer='adamax', loss='mse', metrics=[\"accuracy\"])"
   ]
  },
  {
   "cell_type": "code",
   "execution_count": 13,
   "metadata": {},
   "outputs": [
    {
     "name": "stdout",
     "output_type": "stream",
     "text": [
      "Epoch 1/100\n",
      "90112/90112 [==============================] - 86s 948us/step - loss: 64.3810 - accuracy: 0.8077 - val_loss: 28.9306 - val_accuracy: 0.8114\n",
      "Epoch 2/100\n",
      "90112/90112 [==============================] - 87s 960us/step - loss: 37.0285 - accuracy: 0.8078 - val_loss: 20.2767 - val_accuracy: 0.8114\n",
      "Epoch 3/100\n",
      "90112/90112 [==============================] - 82s 912us/step - loss: 35.0177 - accuracy: 0.8078 - val_loss: 17.4437 - val_accuracy: 0.8114\n",
      "Epoch 4/100\n",
      "90112/90112 [==============================] - 3168s 35ms/step - loss: 34.0024 - accuracy: 0.8077 - val_loss: 15.2715 - val_accuracy: 0.8114\n",
      "Epoch 5/100\n",
      "90112/90112 [==============================] - 78s 861us/step - loss: 33.4753 - accuracy: 0.8077 - val_loss: 14.6795 - val_accuracy: 0.8112\n",
      "Epoch 6/100\n",
      "90112/90112 [==============================] - 75s 833us/step - loss: 33.2833 - accuracy: 0.8077 - val_loss: 13.7383 - val_accuracy: 0.8112\n",
      "Epoch 7/100\n",
      "90112/90112 [==============================] - 83s 919us/step - loss: 33.0636 - accuracy: 0.8077 - val_loss: 12.7710 - val_accuracy: 0.8112\n",
      "Epoch 8/100\n",
      "90112/90112 [==============================] - 82s 905us/step - loss: 32.8749 - accuracy: 0.8077 - val_loss: 11.9367 - val_accuracy: 0.8112\n",
      "Epoch 9/100\n",
      "90112/90112 [==============================] - 106s 1ms/step - loss: 32.6409 - accuracy: 0.8077 - val_loss: 11.7732 - val_accuracy: 0.8114\n",
      "Epoch 10/100\n",
      "90112/90112 [==============================] - 91s 1ms/step - loss: 32.5277 - accuracy: 0.8077 - val_loss: 11.5642 - val_accuracy: 0.8112\n",
      "Epoch 11/100\n",
      "90112/90112 [==============================] - 82s 913us/step - loss: 32.4524 - accuracy: 0.8076 - val_loss: 12.3502 - val_accuracy: 0.8112\n",
      "Epoch 12/100\n",
      "90112/90112 [==============================] - 1874s 21ms/step - loss: 32.4330 - accuracy: 0.8076 - val_loss: 11.9150 - val_accuracy: 0.8112\n",
      "Epoch 13/100\n",
      "90112/90112 [==============================] - 984s 11ms/step - loss: 32.3573 - accuracy: 0.8076 - val_loss: 11.3073 - val_accuracy: 0.8114\n",
      "Epoch 14/100\n",
      "90112/90112 [==============================] - 73s 815us/step - loss: 32.3154 - accuracy: 0.8076 - val_loss: 11.0109 - val_accuracy: 0.8112\n",
      "Epoch 15/100\n",
      "90112/90112 [==============================] - 77s 852us/step - loss: 32.2414 - accuracy: 0.8076 - val_loss: 11.1014 - val_accuracy: 0.8112\n",
      "Epoch 16/100\n",
      "90112/90112 [==============================] - 991s 11ms/step - loss: 32.2119 - accuracy: 0.8076 - val_loss: 13.1404 - val_accuracy: 0.8112\n",
      "Epoch 17/100\n",
      "90112/90112 [==============================] - 76s 839us/step - loss: 32.1908 - accuracy: 0.8076 - val_loss: 11.5760 - val_accuracy: 0.8112\n",
      "Epoch 18/100\n",
      "90112/90112 [==============================] - 76s 840us/step - loss: 32.2189 - accuracy: 0.8076 - val_loss: 10.9177 - val_accuracy: 0.8112\n",
      "Epoch 19/100\n",
      "90112/90112 [==============================] - 1024s 11ms/step - loss: 32.1545 - accuracy: 0.8076 - val_loss: 11.3190 - val_accuracy: 0.8112\n",
      "Epoch 20/100\n",
      "90112/90112 [==============================] - 2062s 23ms/step - loss: 32.2380 - accuracy: 0.8076 - val_loss: 11.4890 - val_accuracy: 0.8112\n",
      "Epoch 21/100\n",
      "90112/90112 [==============================] - 81s 904us/step - loss: 32.1864 - accuracy: 0.8076 - val_loss: 12.2204 - val_accuracy: 0.8112\n",
      "Epoch 22/100\n",
      "90112/90112 [==============================] - 84s 934us/step - loss: 32.1875 - accuracy: 0.8076 - val_loss: 11.6696 - val_accuracy: 0.8112\n",
      "Epoch 23/100\n",
      "90112/90112 [==============================] - 77s 858us/step - loss: 32.0454 - accuracy: 0.8076 - val_loss: 11.3280 - val_accuracy: 0.8112\n",
      "Epoch 24/100\n",
      "90112/90112 [==============================] - 75s 827us/step - loss: 32.0632 - accuracy: 0.8076 - val_loss: 11.3175 - val_accuracy: 0.8112\n",
      "Epoch 25/100\n",
      "90112/90112 [==============================] - 77s 850us/step - loss: 32.0919 - accuracy: 0.8076 - val_loss: 11.4191 - val_accuracy: 0.8112\n",
      "Epoch 26/100\n",
      "90112/90112 [==============================] - 82s 910us/step - loss: 31.9449 - accuracy: 0.8076 - val_loss: 10.7018 - val_accuracy: 0.8112\n",
      "Epoch 27/100\n",
      "90112/90112 [==============================] - 81s 903us/step - loss: 31.9756 - accuracy: 0.8076 - val_loss: 11.1361 - val_accuracy: 0.8112\n",
      "Epoch 28/100\n",
      "90112/90112 [==============================] - 78s 869us/step - loss: 31.9620 - accuracy: 0.8076 - val_loss: 11.1310 - val_accuracy: 0.8112\n",
      "Epoch 29/100\n",
      "90112/90112 [==============================] - 7278s 81ms/step - loss: 31.9684 - accuracy: 0.8076 - val_loss: 11.1572 - val_accuracy: 0.8112\n",
      "Epoch 30/100\n",
      "90112/90112 [==============================] - 761s 8ms/step - loss: 31.9194 - accuracy: 0.8076 - val_loss: 11.0210 - val_accuracy: 0.8112\n",
      "Epoch 31/100\n",
      "90112/90112 [==============================] - 89s 983us/step - loss: 31.9457 - accuracy: 0.8076 - val_loss: 10.8838 - val_accuracy: 0.8112\n",
      "Epoch 32/100\n",
      "90112/90112 [==============================] - 84s 935us/step - loss: 31.8912 - accuracy: 0.8076 - val_loss: 11.0240 - val_accuracy: 0.8112\n",
      "Epoch 33/100\n",
      "90112/90112 [==============================] - 90s 995us/step - loss: 31.8926 - accuracy: 0.8076 - val_loss: 11.0748 - val_accuracy: 0.8112\n",
      "Epoch 34/100\n",
      "90112/90112 [==============================] - 111s 1ms/step - loss: 31.8975 - accuracy: 0.8076 - val_loss: 10.9283 - val_accuracy: 0.8112\n",
      "Epoch 35/100\n",
      "90112/90112 [==============================] - 3255s 36ms/step - loss: 31.8738 - accuracy: 0.8076 - val_loss: 11.0008 - val_accuracy: 0.8112\n",
      "Epoch 36/100\n",
      "90112/90112 [==============================] - 76s 842us/step - loss: 31.8416 - accuracy: 0.8076 - val_loss: 11.2641 - val_accuracy: 0.8112\n",
      "Epoch 37/100\n",
      "90112/90112 [==============================] - 79s 875us/step - loss: 31.8632 - accuracy: 0.8076 - val_loss: 10.6305 - val_accuracy: 0.8112\n",
      "Epoch 38/100\n",
      "90112/90112 [==============================] - 82s 906us/step - loss: 31.9663 - accuracy: 0.8076 - val_loss: 10.6907 - val_accuracy: 0.8112\n",
      "Epoch 39/100\n",
      "90112/90112 [==============================] - 99s 1ms/step - loss: 31.9056 - accuracy: 0.8076 - val_loss: 10.8699 - val_accuracy: 0.8112\n",
      "Epoch 40/100\n",
      "90112/90112 [==============================] - 99s 1ms/step - loss: 31.9075 - accuracy: 0.8076 - val_loss: 10.7390 - val_accuracy: 0.8112\n",
      "Epoch 41/100\n",
      "90112/90112 [==============================] - 5922s 66ms/step - loss: 31.8238 - accuracy: 0.8076 - val_loss: 10.6555 - val_accuracy: 0.8112\n",
      "Epoch 42/100\n",
      "90112/90112 [==============================] - 77s 860us/step - loss: 31.8849 - accuracy: 0.8076 - val_loss: 10.9764 - val_accuracy: 0.8112\n",
      "Epoch 43/100\n",
      "90112/90112 [==============================] - 82s 914us/step - loss: 31.8619 - accuracy: 0.8076 - val_loss: 10.5812 - val_accuracy: 0.8112\n",
      "Epoch 44/100\n",
      "90112/90112 [==============================] - 104s 1ms/step - loss: 31.8993 - accuracy: 0.8076 - val_loss: 11.2191 - val_accuracy: 0.8112\n",
      "Epoch 45/100\n",
      "90112/90112 [==============================] - 93s 1ms/step - loss: 31.9170 - accuracy: 0.8076 - val_loss: 10.9936 - val_accuracy: 0.8112\n",
      "Epoch 46/100\n",
      "90112/90112 [==============================] - 277s 3ms/step - loss: 31.8693 - accuracy: 0.8076 - val_loss: 11.0179 - val_accuracy: 0.8112\n",
      "Epoch 47/100\n",
      "90112/90112 [==============================] - 92s 1ms/step - loss: 31.9218 - accuracy: 0.8076 - val_loss: 10.9687 - val_accuracy: 0.8112\n",
      "Epoch 48/100\n",
      "90112/90112 [==============================] - 89s 986us/step - loss: 31.8357 - accuracy: 0.8076 - val_loss: 12.0520 - val_accuracy: 0.8112\n",
      "Epoch 49/100\n",
      "90112/90112 [==============================] - 88s 972us/step - loss: 31.8168 - accuracy: 0.8076 - val_loss: 10.7859 - val_accuracy: 0.8112\n",
      "Epoch 50/100\n",
      "90112/90112 [==============================] - 86s 956us/step - loss: 31.9340 - accuracy: 0.8076 - val_loss: 10.7526 - val_accuracy: 0.8112\n",
      "Epoch 51/100\n",
      "90112/90112 [==============================] - 93s 1ms/step - loss: 31.8600 - accuracy: 0.8076 - val_loss: 10.9531 - val_accuracy: 0.8112\n",
      "Epoch 52/100\n",
      "90112/90112 [==============================] - 84s 933us/step - loss: 31.8607 - accuracy: 0.8076 - val_loss: 11.2579 - val_accuracy: 0.8112\n",
      "Epoch 53/100\n",
      "90112/90112 [==============================] - 82s 907us/step - loss: 31.8807 - accuracy: 0.8076 - val_loss: 11.0118 - val_accuracy: 0.8112\n",
      "Epoch 54/100\n",
      "90112/90112 [==============================] - 80s 888us/step - loss: 31.8675 - accuracy: 0.8076 - val_loss: 11.1578 - val_accuracy: 0.8112\n",
      "Epoch 55/100\n",
      "90112/90112 [==============================] - 77s 859us/step - loss: 31.8844 - accuracy: 0.8076 - val_loss: 11.4793 - val_accuracy: 0.8112\n",
      "Epoch 56/100\n",
      "90112/90112 [==============================] - 77s 857us/step - loss: 31.8493 - accuracy: 0.8076 - val_loss: 11.1650 - val_accuracy: 0.8112\n",
      "Epoch 57/100\n",
      "90112/90112 [==============================] - 78s 862us/step - loss: 31.8638 - accuracy: 0.8076 - val_loss: 11.7074 - val_accuracy: 0.8112\n",
      "Epoch 58/100\n",
      "90112/90112 [==============================] - 78s 865us/step - loss: 31.8577 - accuracy: 0.8076 - val_loss: 11.1802 - val_accuracy: 0.8112\n",
      "Epoch 59/100\n",
      "90112/90112 [==============================] - 78s 860us/step - loss: 31.8614 - accuracy: 0.8076 - val_loss: 11.3456 - val_accuracy: 0.8112\n",
      "Epoch 60/100\n",
      "90112/90112 [==============================] - 77s 860us/step - loss: 31.8194 - accuracy: 0.8076 - val_loss: 10.8375 - val_accuracy: 0.8112\n",
      "Epoch 61/100\n",
      "90112/90112 [==============================] - 78s 860us/step - loss: 31.8559 - accuracy: 0.8076 - val_loss: 11.0571 - val_accuracy: 0.8112\n",
      "Epoch 62/100\n",
      "90112/90112 [==============================] - 84s 931us/step - loss: 31.8137 - accuracy: 0.8076 - val_loss: 10.9745 - val_accuracy: 0.8112\n",
      "Epoch 63/100\n",
      "90112/90112 [==============================] - 82s 908us/step - loss: 31.8388 - accuracy: 0.8076 - val_loss: 11.7230 - val_accuracy: 0.8112\n",
      "Epoch 64/100\n",
      "90112/90112 [==============================] - 81s 898us/step - loss: 31.8770 - accuracy: 0.8076 - val_loss: 11.2936 - val_accuracy: 0.8112\n",
      "Epoch 65/100\n",
      "90112/90112 [==============================] - 82s 907us/step - loss: 31.8834 - accuracy: 0.8076 - val_loss: 11.6722 - val_accuracy: 0.8112\n",
      "Epoch 66/100\n",
      "90112/90112 [==============================] - 86s 956us/step - loss: 31.8368 - accuracy: 0.8076 - val_loss: 11.1756 - val_accuracy: 0.8112\n",
      "Epoch 67/100\n",
      "90112/90112 [==============================] - 79s 874us/step - loss: 31.9141 - accuracy: 0.8076 - val_loss: 11.1396 - val_accuracy: 0.8112\n",
      "Epoch 68/100\n",
      "90112/90112 [==============================] - 79s 882us/step - loss: 31.8512 - accuracy: 0.8076 - val_loss: 11.6418 - val_accuracy: 0.8112\n",
      "Epoch 69/100\n",
      "90112/90112 [==============================] - 91s 1ms/step - loss: 31.8437 - accuracy: 0.8076 - val_loss: 10.8331 - val_accuracy: 0.8112\n",
      "Epoch 70/100\n",
      "90112/90112 [==============================] - 78s 870us/step - loss: 31.9200 - accuracy: 0.8076 - val_loss: 10.9121 - val_accuracy: 0.8112\n",
      "Epoch 71/100\n",
      "90112/90112 [==============================] - 81s 899us/step - loss: 31.8372 - accuracy: 0.8076 - val_loss: 10.7566 - val_accuracy: 0.8112\n",
      "Epoch 72/100\n",
      "90112/90112 [==============================] - 78s 866us/step - loss: 31.9184 - accuracy: 0.8076 - val_loss: 10.9303 - val_accuracy: 0.8112\n",
      "Epoch 73/100\n",
      "90112/90112 [==============================] - 80s 892us/step - loss: 31.9147 - accuracy: 0.8076 - val_loss: 11.5174 - val_accuracy: 0.8112\n",
      "Epoch 74/100\n",
      "90112/90112 [==============================] - 81s 900us/step - loss: 31.8353 - accuracy: 0.8076 - val_loss: 10.7587 - val_accuracy: 0.8112\n",
      "Epoch 75/100\n",
      "90112/90112 [==============================] - 82s 912us/step - loss: 31.9323 - accuracy: 0.8076 - val_loss: 10.7644 - val_accuracy: 0.8112\n",
      "Epoch 76/100\n",
      "90112/90112 [==============================] - 84s 929us/step - loss: 31.9670 - accuracy: 0.8076 - val_loss: 11.7131 - val_accuracy: 0.8112\n",
      "Epoch 77/100\n",
      "90112/90112 [==============================] - 84s 934us/step - loss: 32.0613 - accuracy: 0.8076 - val_loss: 12.2819 - val_accuracy: 0.8112\n",
      "Epoch 78/100\n",
      "90112/90112 [==============================] - 81s 898us/step - loss: 32.0392 - accuracy: 0.8076 - val_loss: 11.2378 - val_accuracy: 0.8112\n",
      "Epoch 79/100\n",
      "90112/90112 [==============================] - 79s 882us/step - loss: 32.0751 - accuracy: 0.8076 - val_loss: 11.7002 - val_accuracy: 0.8112\n",
      "Epoch 80/100\n",
      "90112/90112 [==============================] - 82s 912us/step - loss: 32.0132 - accuracy: 0.8076 - val_loss: 12.8048 - val_accuracy: 0.8112\n",
      "Epoch 81/100\n",
      "90112/90112 [==============================] - 80s 891us/step - loss: 32.1154 - accuracy: 0.8076 - val_loss: 11.6868 - val_accuracy: 0.8112\n",
      "Epoch 82/100\n",
      "90112/90112 [==============================] - 85s 942us/step - loss: 32.0708 - accuracy: 0.8076 - val_loss: 12.1977 - val_accuracy: 0.8112\n",
      "Epoch 83/100\n",
      "90112/90112 [==============================] - 85s 949us/step - loss: 32.1769 - accuracy: 0.8076 - val_loss: 12.7372 - val_accuracy: 0.8112\n",
      "Epoch 84/100\n",
      "90112/90112 [==============================] - 79s 879us/step - loss: 32.0370 - accuracy: 0.8076 - val_loss: 11.7947 - val_accuracy: 0.8112\n",
      "Epoch 85/100\n",
      "90112/90112 [==============================] - 77s 855us/step - loss: 32.0725 - accuracy: 0.8076 - val_loss: 11.7074 - val_accuracy: 0.8112\n",
      "Epoch 86/100\n",
      "90112/90112 [==============================] - 77s 853us/step - loss: 32.1479 - accuracy: 0.8076 - val_loss: 10.9637 - val_accuracy: 0.8112\n",
      "Epoch 87/100\n",
      "90112/90112 [==============================] - 77s 855us/step - loss: 32.1325 - accuracy: 0.8076 - val_loss: 12.6714 - val_accuracy: 0.8112\n",
      "Epoch 88/100\n",
      "90112/90112 [==============================] - 77s 851us/step - loss: 32.2330 - accuracy: 0.8076 - val_loss: 11.9755 - val_accuracy: 0.8112\n",
      "Epoch 89/100\n",
      "90112/90112 [==============================] - 77s 859us/step - loss: 32.1416 - accuracy: 0.8076 - val_loss: 11.5426 - val_accuracy: 0.8112\n",
      "Epoch 90/100\n",
      "90112/90112 [==============================] - 77s 855us/step - loss: 32.2530 - accuracy: 0.8076 - val_loss: 11.3309 - val_accuracy: 0.8112\n",
      "Epoch 91/100\n",
      "90112/90112 [==============================] - 82s 908us/step - loss: 32.0836 - accuracy: 0.8076 - val_loss: 11.0502 - val_accuracy: 0.8112\n",
      "Epoch 92/100\n",
      "90112/90112 [==============================] - 77s 855us/step - loss: 32.1699 - accuracy: 0.8076 - val_loss: 12.5639 - val_accuracy: 0.8112\n",
      "Epoch 93/100\n",
      "90112/90112 [==============================] - 77s 857us/step - loss: 32.0902 - accuracy: 0.8076 - val_loss: 10.9864 - val_accuracy: 0.8112\n",
      "Epoch 94/100\n",
      "90112/90112 [==============================] - 77s 853us/step - loss: 32.1477 - accuracy: 0.8076 - val_loss: 10.9202 - val_accuracy: 0.8112\n",
      "Epoch 95/100\n",
      "90112/90112 [==============================] - 77s 858us/step - loss: 32.1187 - accuracy: 0.8076 - val_loss: 11.0975 - val_accuracy: 0.8112\n",
      "Epoch 96/100\n",
      "90112/90112 [==============================] - 78s 863us/step - loss: 32.0772 - accuracy: 0.8076 - val_loss: 11.2338 - val_accuracy: 0.8112\n",
      "Epoch 97/100\n",
      "90112/90112 [==============================] - 77s 856us/step - loss: 32.0810 - accuracy: 0.8076 - val_loss: 11.2616 - val_accuracy: 0.8112\n",
      "Epoch 98/100\n",
      "90112/90112 [==============================] - 77s 854us/step - loss: 31.9589 - accuracy: 0.8076 - val_loss: 10.7578 - val_accuracy: 0.8112\n",
      "Epoch 99/100\n",
      "90112/90112 [==============================] - 77s 857us/step - loss: 32.0319 - accuracy: 0.8076 - val_loss: 11.3360 - val_accuracy: 0.8112\n",
      "Epoch 100/100\n",
      "90112/90112 [==============================] - 77s 857us/step - loss: 31.9525 - accuracy: 0.8076 - val_loss: 11.5037 - val_accuracy: 0.8112\n"
     ]
    }
   ],
   "source": [
    "history = model.fit(X_train, y_train, epochs=100, batch_size=32, validation_data=[X_test, y_test])"
   ]
  },
  {
   "cell_type": "code",
   "execution_count": 14,
   "metadata": {},
   "outputs": [
    {
     "name": "stdout",
     "output_type": "stream",
     "text": [
      "90112/90112 [==============================] - 58s 646us/step\n",
      "32.13113009171346\n",
      "0.8639515224917037\n",
      "5632/5632 [==============================] - 4s 654us/step\n",
      "11.503959924863885\n",
      "0.8785913891610487\n"
     ]
    }
   ],
   "source": [
    "train_pred = model.predict(X_train)\n",
    "print(mse(train_pred, y_train))\n",
    "print(mape(train_pred, y_train))\n",
    "test_pred = model.predict(X_test)\n",
    "print(mse(test_pred, y_test))\n",
    "print(mape(test_pred, y_test))"
   ]
  },
  {
   "cell_type": "code",
   "execution_count": 15,
   "metadata": {},
   "outputs": [
    {
     "name": "stdout",
     "output_type": "stream",
     "text": [
      "5632/5632 [==============================] - 4s 756us/step - loss: 11.5037 - accuracy: 0.8112\n"
     ]
    },
    {
     "data": {
      "text/plain": [
       "[11.503734588623047, 0.8112238049507141]"
      ]
     },
     "execution_count": 15,
     "metadata": {},
     "output_type": "execute_result"
    }
   ],
   "source": [
    "model.evaluate(X_test, y_test)"
   ]
  },
  {
   "cell_type": "code",
   "execution_count": 16,
   "metadata": {},
   "outputs": [
    {
     "data": {
      "text/plain": [
       "array([[1.        , 0.89091311],\n",
       "       [0.89091311, 1.        ]])"
      ]
     },
     "execution_count": 16,
     "metadata": {},
     "output_type": "execute_result"
    }
   ],
   "source": [
    "np.corrcoef(test_pred.flatten(), y_test)"
   ]
  },
  {
   "cell_type": "code",
   "execution_count": 17,
   "metadata": {},
   "outputs": [
    {
     "name": "stdout",
     "output_type": "stream",
     "text": [
      "Model: \"sequential\"\n",
      "_________________________________________________________________\n",
      " Layer (type)                Output Shape              Param #   \n",
      "=================================================================\n",
      " dense (Dense)               (None, 10)                60        \n",
      "                                                                 \n",
      " dense_1 (Dense)             (None, 10)                110       \n",
      "                                                                 \n",
      " dense_2 (Dense)             (None, 10)                110       \n",
      "                                                                 \n",
      " dense_3 (Dense)             (None, 1)                 11        \n",
      "                                                                 \n",
      "=================================================================\n",
      "Total params: 291\n",
      "Trainable params: 291\n",
      "Non-trainable params: 0\n",
      "_________________________________________________________________\n"
     ]
    }
   ],
   "source": [
    "model.summary()"
   ]
  },
  {
   "cell_type": "code",
   "execution_count": 18,
   "metadata": {},
   "outputs": [
    {
     "data": {
      "text/plain": [
       "{'loss': [64.38101959228516,\n",
       "  37.02849197387695,\n",
       "  35.01773452758789,\n",
       "  34.002403259277344,\n",
       "  33.47531509399414,\n",
       "  33.28331756591797,\n",
       "  33.063594818115234,\n",
       "  32.87491989135742,\n",
       "  32.64092254638672,\n",
       "  32.527706146240234,\n",
       "  32.4524040222168,\n",
       "  32.43301010131836,\n",
       "  32.35726547241211,\n",
       "  32.315399169921875,\n",
       "  32.24143981933594,\n",
       "  32.21194076538086,\n",
       "  32.19076156616211,\n",
       "  32.218902587890625,\n",
       "  32.15449142456055,\n",
       "  32.237972259521484,\n",
       "  32.186405181884766,\n",
       "  32.187496185302734,\n",
       "  32.04540252685547,\n",
       "  32.06322479248047,\n",
       "  32.09186553955078,\n",
       "  31.944923400878906,\n",
       "  31.975614547729492,\n",
       "  31.961957931518555,\n",
       "  31.96839141845703,\n",
       "  31.91943359375,\n",
       "  31.945650100708008,\n",
       "  31.8912296295166,\n",
       "  31.892553329467773,\n",
       "  31.897510528564453,\n",
       "  31.873777389526367,\n",
       "  31.841564178466797,\n",
       "  31.863245010375977,\n",
       "  31.966325759887695,\n",
       "  31.905590057373047,\n",
       "  31.907508850097656,\n",
       "  31.823766708374023,\n",
       "  31.884929656982422,\n",
       "  31.86187171936035,\n",
       "  31.89930534362793,\n",
       "  31.916975021362305,\n",
       "  31.86927604675293,\n",
       "  31.92180824279785,\n",
       "  31.835693359375,\n",
       "  31.816755294799805,\n",
       "  31.93402099609375,\n",
       "  31.859973907470703,\n",
       "  31.860742568969727,\n",
       "  31.88067054748535,\n",
       "  31.86748695373535,\n",
       "  31.884410858154297,\n",
       "  31.849332809448242,\n",
       "  31.863794326782227,\n",
       "  31.85765838623047,\n",
       "  31.86138153076172,\n",
       "  31.819427490234375,\n",
       "  31.85590171813965,\n",
       "  31.813718795776367,\n",
       "  31.83880615234375,\n",
       "  31.876989364624023,\n",
       "  31.883350372314453,\n",
       "  31.836814880371094,\n",
       "  31.914140701293945,\n",
       "  31.851158142089844,\n",
       "  31.843730926513672,\n",
       "  31.920013427734375,\n",
       "  31.8371639251709,\n",
       "  31.918363571166992,\n",
       "  31.914745330810547,\n",
       "  31.83527374267578,\n",
       "  31.932334899902344,\n",
       "  31.967018127441406,\n",
       "  32.06130599975586,\n",
       "  32.0391960144043,\n",
       "  32.07512283325195,\n",
       "  32.01318359375,\n",
       "  32.11537170410156,\n",
       "  32.070838928222656,\n",
       "  32.17692565917969,\n",
       "  32.03703689575195,\n",
       "  32.07252883911133,\n",
       "  32.147945404052734,\n",
       "  32.13247299194336,\n",
       "  32.232967376708984,\n",
       "  32.14155578613281,\n",
       "  32.253021240234375,\n",
       "  32.08357238769531,\n",
       "  32.1699104309082,\n",
       "  32.090206146240234,\n",
       "  32.14767074584961,\n",
       "  32.11871337890625,\n",
       "  32.077205657958984,\n",
       "  32.08098602294922,\n",
       "  31.958892822265625,\n",
       "  32.031917572021484,\n",
       "  31.9525203704834],\n",
       " 'accuracy': [0.8076539635658264,\n",
       "  0.8077704906463623,\n",
       "  0.8077625036239624,\n",
       "  0.8077316284179688,\n",
       "  0.8077035546302795,\n",
       "  0.807681679725647,\n",
       "  0.807664692401886,\n",
       "  0.8076539635658264,\n",
       "  0.807654619216919,\n",
       "  0.8076501488685608,\n",
       "  0.8076480627059937,\n",
       "  0.8076400756835938,\n",
       "  0.8076425194740295,\n",
       "  0.8076393604278564,\n",
       "  0.8076397180557251,\n",
       "  0.8076418042182922,\n",
       "  0.8076387047767639,\n",
       "  0.8076338171958923,\n",
       "  0.8076258301734924,\n",
       "  0.8076116442680359,\n",
       "  0.807607114315033,\n",
       "  0.8076061010360718,\n",
       "  0.8076064586639404,\n",
       "  0.807607114315033,\n",
       "  0.8076074719429016,\n",
       "  0.8076074719429016,\n",
       "  0.807607114315033,\n",
       "  0.8076074719429016,\n",
       "  0.8076085448265076,\n",
       "  0.8076078295707703,\n",
       "  0.8076095581054688,\n",
       "  0.8076085448265076,\n",
       "  0.8076078295707703,\n",
       "  0.8076095581054688,\n",
       "  0.8076081871986389,\n",
       "  0.8076074719429016,\n",
       "  0.8076081871986389,\n",
       "  0.8076085448265076,\n",
       "  0.8076078295707703,\n",
       "  0.8076078295707703,\n",
       "  0.8076085448265076,\n",
       "  0.8076074719429016,\n",
       "  0.8076081871986389,\n",
       "  0.8076078295707703,\n",
       "  0.8076092004776001,\n",
       "  0.8076088428497314,\n",
       "  0.8076081871986389,\n",
       "  0.8076085448265076,\n",
       "  0.8076085448265076,\n",
       "  0.8076088428497314,\n",
       "  0.8076085448265076,\n",
       "  0.8076081871986389,\n",
       "  0.8076088428497314,\n",
       "  0.8076092004776001,\n",
       "  0.8076092004776001,\n",
       "  0.8076081871986389,\n",
       "  0.8076095581054688,\n",
       "  0.8076081871986389,\n",
       "  0.8076085448265076,\n",
       "  0.8076092004776001,\n",
       "  0.8076092004776001,\n",
       "  0.8076088428497314,\n",
       "  0.8076081871986389,\n",
       "  0.8076085448265076,\n",
       "  0.8076081871986389,\n",
       "  0.8076092004776001,\n",
       "  0.8076088428497314,\n",
       "  0.8076088428497314,\n",
       "  0.8076064586639404,\n",
       "  0.807607114315033,\n",
       "  0.8076085448265076,\n",
       "  0.8076081871986389,\n",
       "  0.8076092004776001,\n",
       "  0.8076085448265076,\n",
       "  0.8076092004776001,\n",
       "  0.8076085448265076,\n",
       "  0.8076078295707703,\n",
       "  0.8076095581054688,\n",
       "  0.8076081871986389,\n",
       "  0.8076078295707703,\n",
       "  0.8076088428497314,\n",
       "  0.8076081871986389,\n",
       "  0.8076085448265076,\n",
       "  0.8076085448265076,\n",
       "  0.8076092004776001,\n",
       "  0.8076088428497314,\n",
       "  0.8076105713844299,\n",
       "  0.8076105713844299,\n",
       "  0.8076095581054688,\n",
       "  0.8076099157333374,\n",
       "  0.8076092004776001,\n",
       "  0.8076120018959045,\n",
       "  0.8076099157333374,\n",
       "  0.8076081871986389,\n",
       "  0.8076081871986389,\n",
       "  0.8076095581054688,\n",
       "  0.8076099157333374,\n",
       "  0.8076074719429016,\n",
       "  0.807610273361206,\n",
       "  0.8076099157333374],\n",
       " 'val_loss': [28.93059539794922,\n",
       "  20.27674674987793,\n",
       "  17.44365692138672,\n",
       "  15.271529197692871,\n",
       "  14.679473876953125,\n",
       "  13.738285064697266,\n",
       "  12.770979881286621,\n",
       "  11.936718940734863,\n",
       "  11.773177146911621,\n",
       "  11.564163208007812,\n",
       "  12.350152969360352,\n",
       "  11.915022850036621,\n",
       "  11.307333946228027,\n",
       "  11.010860443115234,\n",
       "  11.10144329071045,\n",
       "  13.140399932861328,\n",
       "  11.57596492767334,\n",
       "  10.917652130126953,\n",
       "  11.319022178649902,\n",
       "  11.489017486572266,\n",
       "  12.220381736755371,\n",
       "  11.669573783874512,\n",
       "  11.327950477600098,\n",
       "  11.317488670349121,\n",
       "  11.419096946716309,\n",
       "  10.701821327209473,\n",
       "  11.136083602905273,\n",
       "  11.131031036376953,\n",
       "  11.157173156738281,\n",
       "  11.021035194396973,\n",
       "  10.883806228637695,\n",
       "  11.023988723754883,\n",
       "  11.074808120727539,\n",
       "  10.928290367126465,\n",
       "  11.000779151916504,\n",
       "  11.264143943786621,\n",
       "  10.630478858947754,\n",
       "  10.690657615661621,\n",
       "  10.86989688873291,\n",
       "  10.739025115966797,\n",
       "  10.65546989440918,\n",
       "  10.97638988494873,\n",
       "  10.581214904785156,\n",
       "  11.219082832336426,\n",
       "  10.993609428405762,\n",
       "  11.017912864685059,\n",
       "  10.968728065490723,\n",
       "  12.051983833312988,\n",
       "  10.785933494567871,\n",
       "  10.75257396697998,\n",
       "  10.953118324279785,\n",
       "  11.257869720458984,\n",
       "  11.011756896972656,\n",
       "  11.157753944396973,\n",
       "  11.479255676269531,\n",
       "  11.165045738220215,\n",
       "  11.707425117492676,\n",
       "  11.180167198181152,\n",
       "  11.34557819366455,\n",
       "  10.837498664855957,\n",
       "  11.057101249694824,\n",
       "  10.974491119384766,\n",
       "  11.722979545593262,\n",
       "  11.29355525970459,\n",
       "  11.672192573547363,\n",
       "  11.175594329833984,\n",
       "  11.13961410522461,\n",
       "  11.641763687133789,\n",
       "  10.833093643188477,\n",
       "  10.912102699279785,\n",
       "  10.75662899017334,\n",
       "  10.930292129516602,\n",
       "  11.51744556427002,\n",
       "  10.75871753692627,\n",
       "  10.764420509338379,\n",
       "  11.713118553161621,\n",
       "  12.281879425048828,\n",
       "  11.237778663635254,\n",
       "  11.700173377990723,\n",
       "  12.804798126220703,\n",
       "  11.686803817749023,\n",
       "  12.19765853881836,\n",
       "  12.737228393554688,\n",
       "  11.794747352600098,\n",
       "  11.70743179321289,\n",
       "  10.96366024017334,\n",
       "  12.671420097351074,\n",
       "  11.975454330444336,\n",
       "  11.542563438415527,\n",
       "  11.330854415893555,\n",
       "  11.050201416015625,\n",
       "  12.563907623291016,\n",
       "  10.986418724060059,\n",
       "  10.920177459716797,\n",
       "  11.097469329833984,\n",
       "  11.233802795410156,\n",
       "  11.261578559875488,\n",
       "  10.75777816772461,\n",
       "  11.336007118225098,\n",
       "  11.503734588623047],\n",
       " 'val_accuracy': [0.8114069104194641,\n",
       "  0.8114124536514282,\n",
       "  0.8114124536514282,\n",
       "  0.8113958239555359,\n",
       "  0.8112127184867859,\n",
       "  0.8112293481826782,\n",
       "  0.8112238049507141,\n",
       "  0.8112127184867859,\n",
       "  0.8114069104194641,\n",
       "  0.8112127184867859,\n",
       "  0.8112238049507141,\n",
       "  0.81121826171875,\n",
       "  0.8114069104194641,\n",
       "  0.81121826171875,\n",
       "  0.8112127184867859,\n",
       "  0.81121826171875,\n",
       "  0.8112127184867859,\n",
       "  0.81121826171875,\n",
       "  0.8112348914146423,\n",
       "  0.81121826171875,\n",
       "  0.8112238049507141,\n",
       "  0.8112238049507141,\n",
       "  0.81121826171875,\n",
       "  0.81121826171875,\n",
       "  0.8112127184867859,\n",
       "  0.81121826171875,\n",
       "  0.81121826171875,\n",
       "  0.81121826171875,\n",
       "  0.8112238049507141,\n",
       "  0.8112127184867859,\n",
       "  0.8112127184867859,\n",
       "  0.8112238049507141,\n",
       "  0.81121826171875,\n",
       "  0.8112127184867859,\n",
       "  0.8112071752548218,\n",
       "  0.8112127184867859,\n",
       "  0.8112127184867859,\n",
       "  0.8112127184867859,\n",
       "  0.8112127184867859,\n",
       "  0.8112127184867859,\n",
       "  0.8112238049507141,\n",
       "  0.81121826171875,\n",
       "  0.81121826171875,\n",
       "  0.8112127184867859,\n",
       "  0.8112127184867859,\n",
       "  0.8112238049507141,\n",
       "  0.8112127184867859,\n",
       "  0.8112238049507141,\n",
       "  0.8112238049507141,\n",
       "  0.81121826171875,\n",
       "  0.8112238049507141,\n",
       "  0.81121826171875,\n",
       "  0.8112238049507141,\n",
       "  0.8112127184867859,\n",
       "  0.81121826171875,\n",
       "  0.81121826171875,\n",
       "  0.8112238049507141,\n",
       "  0.8112127184867859,\n",
       "  0.8112238049507141,\n",
       "  0.8112127184867859,\n",
       "  0.8112127184867859,\n",
       "  0.8112238049507141,\n",
       "  0.81121826171875,\n",
       "  0.81121826171875,\n",
       "  0.8112127184867859,\n",
       "  0.81121826171875,\n",
       "  0.8112238049507141,\n",
       "  0.81121826171875,\n",
       "  0.81121826171875,\n",
       "  0.8112127184867859,\n",
       "  0.8112238049507141,\n",
       "  0.81121826171875,\n",
       "  0.81121826171875,\n",
       "  0.81121826171875,\n",
       "  0.81121826171875,\n",
       "  0.81121826171875,\n",
       "  0.8112127184867859,\n",
       "  0.8112127184867859,\n",
       "  0.81121826171875,\n",
       "  0.8112127184867859,\n",
       "  0.8112127184867859,\n",
       "  0.8112127184867859,\n",
       "  0.81121826171875,\n",
       "  0.81121826171875,\n",
       "  0.81121826171875,\n",
       "  0.81121826171875,\n",
       "  0.8112127184867859,\n",
       "  0.81121826171875,\n",
       "  0.8112238049507141,\n",
       "  0.8112238049507141,\n",
       "  0.8112127184867859,\n",
       "  0.8112127184867859,\n",
       "  0.8112127184867859,\n",
       "  0.81121826171875,\n",
       "  0.8112127184867859,\n",
       "  0.8112127184867859,\n",
       "  0.81121826171875,\n",
       "  0.8112127184867859,\n",
       "  0.81121826171875,\n",
       "  0.8112238049507141]}"
      ]
     },
     "execution_count": 18,
     "metadata": {},
     "output_type": "execute_result"
    }
   ],
   "source": [
    "history.history"
   ]
  },
  {
   "cell_type": "code",
   "execution_count": 19,
   "metadata": {},
   "outputs": [
    {
     "name": "stdout",
     "output_type": "stream",
     "text": [
      "INFO:tensorflow:Assets written to: ram:///var/folders/yd/vkjb_lqj2_30lnyhzhjqtg9w0000gp/T/tmplsx3uus6/assets\n"
     ]
    }
   ],
   "source": [
    "file = img_path+'model_36to38.sav'\n",
    "pickle.dump(model, open(file, 'wb'))"
   ]
  },
  {
   "cell_type": "code",
   "execution_count": 21,
   "metadata": {},
   "outputs": [
    {
     "name": "stdout",
     "output_type": "stream",
     "text": [
      "1063/1063 [==============================] - 1s 842us/step - loss: 56.8737 - accuracy: 8.8204e-04\n",
      "[56.87367630004883, 0.0008820416405797005]\n"
     ]
    }
   ],
   "source": [
    "load_model = pickle.load(open(file, 'rb'))\n",
    "result = load_model.evaluate(X_test, y_test)\n",
    "print(result)"
   ]
  },
  {
   "cell_type": "markdown",
   "metadata": {},
   "source": [
    "## Plot"
   ]
  },
  {
   "cell_type": "markdown",
   "metadata": {},
   "source": [
    "### Loss function (MSE)"
   ]
  },
  {
   "cell_type": "code",
   "execution_count": 20,
   "metadata": {
    "scrolled": false
   },
   "outputs": [
    {
     "data": {
      "image/png": "[encoded data removed]",
      "text/plain": [
       "<Figure size 640x480 with 1 Axes>"
      ]
     },
     "metadata": {},
     "output_type": "display_data"
    }
   ],
   "source": [
    "model_df = pd.DataFrame(history.history)\n",
    "model_df[['loss', 'val_loss']].plot()\n",
    "plt.xlabel(\"Number of Epochs\")\n",
    "plt.ylabel(\"Loss\")\n",
    "plt.title(\"Training and Validation Loss Over Training Period\", pad=12);"
   ]
  },
  {
   "cell_type": "markdown",
   "metadata": {},
   "source": [
    "### Accuracy"
   ]
  },
  {
   "cell_type": "code",
   "execution_count": 21,
   "metadata": {},
   "outputs": [
    {
     "data": {
      "image/png": "[encoded data removed]",
      "text/plain": [
       "<Figure size 640x480 with 1 Axes>"
      ]
     },
     "metadata": {},
     "output_type": "display_data"
    }
   ],
   "source": [
    "model_df[['accuracy', 'val_accuracy']].plot()\n",
    "plt.xlabel(\"Number of Epochs\")\n",
    "plt.ylabel(\"Accuracy\")\n",
    "plt.title(\"Training and Validation Accuray Over Training Period\", pad=12);"
   ]
  },
  {
   "cell_type": "markdown",
   "metadata": {},
   "source": [
    "### Theory vs Predict"
   ]
  },
  {
   "cell_type": "code",
   "execution_count": 22,
   "metadata": {
    "scrolled": false
   },
   "outputs": [
    {
     "name": "stdout",
     "output_type": "stream",
     "text": [
      "r: 0.89091%, st_er: 0.000897%\n",
      "y = 0.7469*x + 0.2675\n"
     ]
    },
    {
     "data": {
      "image/png": "[encoded data removed]",
      "text/plain": [
       "<Figure size 640x480 with 1 Axes>"
      ]
     },
     "metadata": {},
     "output_type": "display_data"
    }
   ],
   "source": [
    "x = y_test.flatten()\n",
    "y = test_pred.flatten()\n",
    "m, b, r, p, st_er = stats.linregress(x,y) \n",
    "\n",
    "yfit = [b + m * xi for xi in x]\n",
    "yisx = [0 + 1 * xi for xi in x]\n",
    "plt.plot(x, yfit)\n",
    "plt.plot(x, yisx)\n",
    "\n",
    "plt.scatter(y_test, test_pred,  color='black')\n",
    "plt.axis([0,100, 0, 100])\n",
    "plt.xlabel(\"Theory (nT)\")\n",
    "plt.ylabel(\"Prediction (nT)\")\n",
    "plt.title(\"Neural Network Prediction vs Theory\", fontsize=15)\n",
    "# print(r, st_er)\n",
    "print(\"r: {:.5f}, st_er: {:.6f}\".format(r, st_er))\n",
    "print(\"y = \"+str(round(m,4))+\"*x + \"+str(round(b,4)))"
   ]
  },
  {
   "cell_type": "markdown",
   "metadata": {},
   "source": [
    "# Output data"
   ]
  },
  {
   "cell_type": "code",
   "execution_count": 24,
   "metadata": {},
   "outputs": [
    {
     "name": "stdout",
     "output_type": "stream",
     "text": [
      "5632/5632 [==============================] - 4s 737us/step\n"
     ]
    }
   ],
   "source": [
    "test_pred = model.predict(X1_pred)"
   ]
  },
  {
   "cell_type": "code",
   "execution_count": 25,
   "metadata": {},
   "outputs": [
    {
     "data": {
      "text/html": [
       "<div>\n",
       "<style scoped>\n",
       "    .dataframe tbody tr th:only-of-type {\n",
       "        vertical-align: middle;\n",
       "    }\n",
       "\n",
       "    .dataframe tbody tr th {\n",
       "        vertical-align: top;\n",
       "    }\n",
       "\n",
       "    .dataframe thead th {\n",
       "        text-align: right;\n",
       "    }\n",
       "</style>\n",
       "<table border=\"1\" class=\"dataframe\">\n",
       "  <thead>\n",
       "    <tr style=\"text-align: right;\">\n",
       "      <th></th>\n",
       "      <th>exp</th>\n",
       "      <th>mini_exp</th>\n",
       "      <th>i</th>\n",
       "      <th>j</th>\n",
       "      <th>k</th>\n",
       "      <th>mean0</th>\n",
       "      <th>mean1</th>\n",
       "      <th>mean2</th>\n",
       "      <th>mean3</th>\n",
       "      <th>mean4</th>\n",
       "      <th>theory</th>\n",
       "    </tr>\n",
       "  </thead>\n",
       "  <tbody>\n",
       "    <tr>\n",
       "      <th>901120</th>\n",
       "      <td>36</td>\n",
       "      <td>6</td>\n",
       "      <td>0</td>\n",
       "      <td>0</td>\n",
       "      <td>0</td>\n",
       "      <td>0.0</td>\n",
       "      <td>0.0</td>\n",
       "      <td>0.0</td>\n",
       "      <td>0.0</td>\n",
       "      <td>0.0</td>\n",
       "      <td>0.0</td>\n",
       "    </tr>\n",
       "    <tr>\n",
       "      <th>901121</th>\n",
       "      <td>36</td>\n",
       "      <td>6</td>\n",
       "      <td>0</td>\n",
       "      <td>0</td>\n",
       "      <td>1</td>\n",
       "      <td>0.0</td>\n",
       "      <td>0.0</td>\n",
       "      <td>0.0</td>\n",
       "      <td>0.0</td>\n",
       "      <td>0.0</td>\n",
       "      <td>0.0</td>\n",
       "    </tr>\n",
       "    <tr>\n",
       "      <th>901122</th>\n",
       "      <td>36</td>\n",
       "      <td>6</td>\n",
       "      <td>0</td>\n",
       "      <td>0</td>\n",
       "      <td>2</td>\n",
       "      <td>0.0</td>\n",
       "      <td>0.0</td>\n",
       "      <td>0.0</td>\n",
       "      <td>0.0</td>\n",
       "      <td>0.0</td>\n",
       "      <td>0.0</td>\n",
       "    </tr>\n",
       "    <tr>\n",
       "      <th>901123</th>\n",
       "      <td>36</td>\n",
       "      <td>6</td>\n",
       "      <td>0</td>\n",
       "      <td>0</td>\n",
       "      <td>3</td>\n",
       "      <td>0.0</td>\n",
       "      <td>0.0</td>\n",
       "      <td>0.0</td>\n",
       "      <td>0.0</td>\n",
       "      <td>0.0</td>\n",
       "      <td>0.0</td>\n",
       "    </tr>\n",
       "    <tr>\n",
       "      <th>901124</th>\n",
       "      <td>36</td>\n",
       "      <td>6</td>\n",
       "      <td>0</td>\n",
       "      <td>0</td>\n",
       "      <td>4</td>\n",
       "      <td>0.0</td>\n",
       "      <td>0.0</td>\n",
       "      <td>0.0</td>\n",
       "      <td>0.0</td>\n",
       "      <td>0.0</td>\n",
       "      <td>0.0</td>\n",
       "    </tr>\n",
       "    <tr>\n",
       "      <th>...</th>\n",
       "      <td>...</td>\n",
       "      <td>...</td>\n",
       "      <td>...</td>\n",
       "      <td>...</td>\n",
       "      <td>...</td>\n",
       "      <td>...</td>\n",
       "      <td>...</td>\n",
       "      <td>...</td>\n",
       "      <td>...</td>\n",
       "      <td>...</td>\n",
       "      <td>...</td>\n",
       "    </tr>\n",
       "    <tr>\n",
       "      <th>1081339</th>\n",
       "      <td>36</td>\n",
       "      <td>6</td>\n",
       "      <td>43</td>\n",
       "      <td>63</td>\n",
       "      <td>59</td>\n",
       "      <td>0.0</td>\n",
       "      <td>0.0</td>\n",
       "      <td>0.0</td>\n",
       "      <td>0.0</td>\n",
       "      <td>0.0</td>\n",
       "      <td>0.0</td>\n",
       "    </tr>\n",
       "    <tr>\n",
       "      <th>1081340</th>\n",
       "      <td>36</td>\n",
       "      <td>6</td>\n",
       "      <td>43</td>\n",
       "      <td>63</td>\n",
       "      <td>60</td>\n",
       "      <td>0.0</td>\n",
       "      <td>0.0</td>\n",
       "      <td>0.0</td>\n",
       "      <td>0.0</td>\n",
       "      <td>0.0</td>\n",
       "      <td>0.0</td>\n",
       "    </tr>\n",
       "    <tr>\n",
       "      <th>1081341</th>\n",
       "      <td>36</td>\n",
       "      <td>6</td>\n",
       "      <td>43</td>\n",
       "      <td>63</td>\n",
       "      <td>61</td>\n",
       "      <td>0.0</td>\n",
       "      <td>0.0</td>\n",
       "      <td>0.0</td>\n",
       "      <td>0.0</td>\n",
       "      <td>0.0</td>\n",
       "      <td>0.0</td>\n",
       "    </tr>\n",
       "    <tr>\n",
       "      <th>1081342</th>\n",
       "      <td>36</td>\n",
       "      <td>6</td>\n",
       "      <td>43</td>\n",
       "      <td>63</td>\n",
       "      <td>62</td>\n",
       "      <td>0.0</td>\n",
       "      <td>0.0</td>\n",
       "      <td>0.0</td>\n",
       "      <td>0.0</td>\n",
       "      <td>0.0</td>\n",
       "      <td>0.0</td>\n",
       "    </tr>\n",
       "    <tr>\n",
       "      <th>1081343</th>\n",
       "      <td>36</td>\n",
       "      <td>6</td>\n",
       "      <td>43</td>\n",
       "      <td>63</td>\n",
       "      <td>63</td>\n",
       "      <td>0.0</td>\n",
       "      <td>0.0</td>\n",
       "      <td>0.0</td>\n",
       "      <td>0.0</td>\n",
       "      <td>0.0</td>\n",
       "      <td>0.0</td>\n",
       "    </tr>\n",
       "  </tbody>\n",
       "</table>\n",
       "<p>180224 rows × 11 columns</p>\n",
       "</div>"
      ],
      "text/plain": [
       "         exp  mini_exp   i   j   k  mean0  mean1  mean2  mean3  mean4  theory\n",
       "901120    36         6   0   0   0    0.0    0.0    0.0    0.0    0.0     0.0\n",
       "901121    36         6   0   0   1    0.0    0.0    0.0    0.0    0.0     0.0\n",
       "901122    36         6   0   0   2    0.0    0.0    0.0    0.0    0.0     0.0\n",
       "901123    36         6   0   0   3    0.0    0.0    0.0    0.0    0.0     0.0\n",
       "901124    36         6   0   0   4    0.0    0.0    0.0    0.0    0.0     0.0\n",
       "...      ...       ...  ..  ..  ..    ...    ...    ...    ...    ...     ...\n",
       "1081339   36         6  43  63  59    0.0    0.0    0.0    0.0    0.0     0.0\n",
       "1081340   36         6  43  63  60    0.0    0.0    0.0    0.0    0.0     0.0\n",
       "1081341   36         6  43  63  61    0.0    0.0    0.0    0.0    0.0     0.0\n",
       "1081342   36         6  43  63  62    0.0    0.0    0.0    0.0    0.0     0.0\n",
       "1081343   36         6  43  63  63    0.0    0.0    0.0    0.0    0.0     0.0\n",
       "\n",
       "[180224 rows x 11 columns]"
      ]
     },
     "execution_count": 25,
     "metadata": {},
     "output_type": "execute_result"
    }
   ],
   "source": [
    "df_test"
   ]
  },
  {
   "cell_type": "code",
   "execution_count": 26,
   "metadata": {
    "scrolled": false
   },
   "outputs": [
    {
     "name": "stderr",
     "output_type": "stream",
     "text": [
      "/var/folders/yd/vkjb_lqj2_30lnyhzhjqtg9w0000gp/T/ipykernel_30829/4195812830.py:1: SettingWithCopyWarning: \n",
      "A value is trying to be set on a copy of a slice from a DataFrame.\n",
      "Try using .loc[row_indexer,col_indexer] = value instead\n",
      "\n",
      "See the caveats in the documentation: https://pandas.pydata.org/pandas-docs/stable/user_guide/indexing.html#returning-a-view-versus-a-copy\n",
      "  df_test['predict'] = test_pred\n"
     ]
    }
   ],
   "source": [
    "df_test['predict'] = test_pred"
   ]
  },
  {
   "cell_type": "code",
   "execution_count": 27,
   "metadata": {},
   "outputs": [],
   "source": [
    "np.savetxt(img_path+\"nn_36to38.txt\", df_test[['i', 'j', 'k', 'predict']], fmt=\"%i %i %i %s\")"
   ]
  },
  {
   "cell_type": "code",
   "execution_count": 85,
   "metadata": {},
   "outputs": [
    {
     "data": {
      "text/html": [
       "<div>\n",
       "<style scoped>\n",
       "    .dataframe tbody tr th:only-of-type {\n",
       "        vertical-align: middle;\n",
       "    }\n",
       "\n",
       "    .dataframe tbody tr th {\n",
       "        vertical-align: top;\n",
       "    }\n",
       "\n",
       "    .dataframe thead th {\n",
       "        text-align: right;\n",
       "    }\n",
       "</style>\n",
       "<table border=\"1\" class=\"dataframe\">\n",
       "  <thead>\n",
       "    <tr style=\"text-align: right;\">\n",
       "      <th></th>\n",
       "      <th>exp</th>\n",
       "      <th>mini_exp</th>\n",
       "      <th>i</th>\n",
       "      <th>j</th>\n",
       "      <th>k</th>\n",
       "      <th>mean0</th>\n",
       "      <th>mean1</th>\n",
       "      <th>mean2</th>\n",
       "      <th>mean3</th>\n",
       "      <th>mean4</th>\n",
       "      <th>theory</th>\n",
       "      <th>predict</th>\n",
       "    </tr>\n",
       "  </thead>\n",
       "  <tbody>\n",
       "    <tr>\n",
       "      <th>901120</th>\n",
       "      <td>36</td>\n",
       "      <td>6</td>\n",
       "      <td>0</td>\n",
       "      <td>0</td>\n",
       "      <td>0</td>\n",
       "      <td>0.0</td>\n",
       "      <td>0.0</td>\n",
       "      <td>0.0</td>\n",
       "      <td>0.0</td>\n",
       "      <td>0.0</td>\n",
       "      <td>0.0</td>\n",
       "      <td>0.011854</td>\n",
       "    </tr>\n",
       "    <tr>\n",
       "      <th>901121</th>\n",
       "      <td>36</td>\n",
       "      <td>6</td>\n",
       "      <td>0</td>\n",
       "      <td>0</td>\n",
       "      <td>1</td>\n",
       "      <td>0.0</td>\n",
       "      <td>0.0</td>\n",
       "      <td>0.0</td>\n",
       "      <td>0.0</td>\n",
       "      <td>0.0</td>\n",
       "      <td>0.0</td>\n",
       "      <td>0.011854</td>\n",
       "    </tr>\n",
       "    <tr>\n",
       "      <th>901122</th>\n",
       "      <td>36</td>\n",
       "      <td>6</td>\n",
       "      <td>0</td>\n",
       "      <td>0</td>\n",
       "      <td>2</td>\n",
       "      <td>0.0</td>\n",
       "      <td>0.0</td>\n",
       "      <td>0.0</td>\n",
       "      <td>0.0</td>\n",
       "      <td>0.0</td>\n",
       "      <td>0.0</td>\n",
       "      <td>0.011854</td>\n",
       "    </tr>\n",
       "    <tr>\n",
       "      <th>901123</th>\n",
       "      <td>36</td>\n",
       "      <td>6</td>\n",
       "      <td>0</td>\n",
       "      <td>0</td>\n",
       "      <td>3</td>\n",
       "      <td>0.0</td>\n",
       "      <td>0.0</td>\n",
       "      <td>0.0</td>\n",
       "      <td>0.0</td>\n",
       "      <td>0.0</td>\n",
       "      <td>0.0</td>\n",
       "      <td>0.011854</td>\n",
       "    </tr>\n",
       "    <tr>\n",
       "      <th>901124</th>\n",
       "      <td>36</td>\n",
       "      <td>6</td>\n",
       "      <td>0</td>\n",
       "      <td>0</td>\n",
       "      <td>4</td>\n",
       "      <td>0.0</td>\n",
       "      <td>0.0</td>\n",
       "      <td>0.0</td>\n",
       "      <td>0.0</td>\n",
       "      <td>0.0</td>\n",
       "      <td>0.0</td>\n",
       "      <td>0.011854</td>\n",
       "    </tr>\n",
       "    <tr>\n",
       "      <th>...</th>\n",
       "      <td>...</td>\n",
       "      <td>...</td>\n",
       "      <td>...</td>\n",
       "      <td>...</td>\n",
       "      <td>...</td>\n",
       "      <td>...</td>\n",
       "      <td>...</td>\n",
       "      <td>...</td>\n",
       "      <td>...</td>\n",
       "      <td>...</td>\n",
       "      <td>...</td>\n",
       "      <td>...</td>\n",
       "    </tr>\n",
       "    <tr>\n",
       "      <th>1081339</th>\n",
       "      <td>36</td>\n",
       "      <td>6</td>\n",
       "      <td>43</td>\n",
       "      <td>63</td>\n",
       "      <td>59</td>\n",
       "      <td>0.0</td>\n",
       "      <td>0.0</td>\n",
       "      <td>0.0</td>\n",
       "      <td>0.0</td>\n",
       "      <td>0.0</td>\n",
       "      <td>0.0</td>\n",
       "      <td>0.011854</td>\n",
       "    </tr>\n",
       "    <tr>\n",
       "      <th>1081340</th>\n",
       "      <td>36</td>\n",
       "      <td>6</td>\n",
       "      <td>43</td>\n",
       "      <td>63</td>\n",
       "      <td>60</td>\n",
       "      <td>0.0</td>\n",
       "      <td>0.0</td>\n",
       "      <td>0.0</td>\n",
       "      <td>0.0</td>\n",
       "      <td>0.0</td>\n",
       "      <td>0.0</td>\n",
       "      <td>0.011854</td>\n",
       "    </tr>\n",
       "    <tr>\n",
       "      <th>1081341</th>\n",
       "      <td>36</td>\n",
       "      <td>6</td>\n",
       "      <td>43</td>\n",
       "      <td>63</td>\n",
       "      <td>61</td>\n",
       "      <td>0.0</td>\n",
       "      <td>0.0</td>\n",
       "      <td>0.0</td>\n",
       "      <td>0.0</td>\n",
       "      <td>0.0</td>\n",
       "      <td>0.0</td>\n",
       "      <td>0.011854</td>\n",
       "    </tr>\n",
       "    <tr>\n",
       "      <th>1081342</th>\n",
       "      <td>36</td>\n",
       "      <td>6</td>\n",
       "      <td>43</td>\n",
       "      <td>63</td>\n",
       "      <td>62</td>\n",
       "      <td>0.0</td>\n",
       "      <td>0.0</td>\n",
       "      <td>0.0</td>\n",
       "      <td>0.0</td>\n",
       "      <td>0.0</td>\n",
       "      <td>0.0</td>\n",
       "      <td>0.011854</td>\n",
       "    </tr>\n",
       "    <tr>\n",
       "      <th>1081343</th>\n",
       "      <td>36</td>\n",
       "      <td>6</td>\n",
       "      <td>43</td>\n",
       "      <td>63</td>\n",
       "      <td>63</td>\n",
       "      <td>0.0</td>\n",
       "      <td>0.0</td>\n",
       "      <td>0.0</td>\n",
       "      <td>0.0</td>\n",
       "      <td>0.0</td>\n",
       "      <td>0.0</td>\n",
       "      <td>0.011854</td>\n",
       "    </tr>\n",
       "  </tbody>\n",
       "</table>\n",
       "<p>180224 rows × 12 columns</p>\n",
       "</div>"
      ],
      "text/plain": [
       "         exp  mini_exp   i   j   k  mean0  mean1  mean2  mean3  mean4  theory  \\\n",
       "901120    36         6   0   0   0    0.0    0.0    0.0    0.0    0.0     0.0   \n",
       "901121    36         6   0   0   1    0.0    0.0    0.0    0.0    0.0     0.0   \n",
       "901122    36         6   0   0   2    0.0    0.0    0.0    0.0    0.0     0.0   \n",
       "901123    36         6   0   0   3    0.0    0.0    0.0    0.0    0.0     0.0   \n",
       "901124    36         6   0   0   4    0.0    0.0    0.0    0.0    0.0     0.0   \n",
       "...      ...       ...  ..  ..  ..    ...    ...    ...    ...    ...     ...   \n",
       "1081339   36         6  43  63  59    0.0    0.0    0.0    0.0    0.0     0.0   \n",
       "1081340   36         6  43  63  60    0.0    0.0    0.0    0.0    0.0     0.0   \n",
       "1081341   36         6  43  63  61    0.0    0.0    0.0    0.0    0.0     0.0   \n",
       "1081342   36         6  43  63  62    0.0    0.0    0.0    0.0    0.0     0.0   \n",
       "1081343   36         6  43  63  63    0.0    0.0    0.0    0.0    0.0     0.0   \n",
       "\n",
       "          predict  \n",
       "901120   0.011854  \n",
       "901121   0.011854  \n",
       "901122   0.011854  \n",
       "901123   0.011854  \n",
       "901124   0.011854  \n",
       "...           ...  \n",
       "1081339  0.011854  \n",
       "1081340  0.011854  \n",
       "1081341  0.011854  \n",
       "1081342  0.011854  \n",
       "1081343  0.011854  \n",
       "\n",
       "[180224 rows x 12 columns]"
      ]
     },
     "execution_count": 85,
     "metadata": {},
     "output_type": "execute_result"
    }
   ],
   "source": [
    "df_test"
   ]
  },
  {
   "cell_type": "code",
   "execution_count": null,
   "metadata": {},
   "outputs": [],
   "source": []
  },
  {
   "cell_type": "code",
   "execution_count": 30,
   "metadata": {},
   "outputs": [
    {
     "name": "stderr",
     "output_type": "stream",
     "text": [
      "/var/folders/2c/z02d0fq542v7qg_9kr87__k40000gp/T/ipykernel_79296/4220111569.py:2: SettingWithCopyWarning: \n",
      "A value is trying to be set on a copy of a slice from a DataFrame.\n",
      "Try using .loc[row_indexer,col_indexer] = value instead\n",
      "\n",
      "See the caveats in the documentation: https://pandas.pydata.org/pandas-docs/stable/user_guide/indexing.html#returning-a-view-versus-a-copy\n",
      "  df4_test['predict'] = test_pred\n"
     ]
    }
   ],
   "source": [
    "# non zero\n",
    "df4_test['predict'] = test_pred"
   ]
  },
  {
   "cell_type": "code",
   "execution_count": 92,
   "metadata": {},
   "outputs": [
    {
     "name": "stderr",
     "output_type": "stream",
     "text": [
      "/var/folders/2c/z02d0fq542v7qg_9kr87__k40000gp/T/ipykernel_79296/3257651465.py:1: SettingWithCopyWarning: \n",
      "A value is trying to be set on a copy of a slice from a DataFrame.\n",
      "Try using .loc[row_indexer,col_indexer] = value instead\n",
      "\n",
      "See the caveats in the documentation: https://pandas.pydata.org/pandas-docs/stable/user_guide/indexing.html#returning-a-view-versus-a-copy\n",
      "  df_test['predict'] = 0.00\n"
     ]
    }
   ],
   "source": [
    "df_test['predict'] = 0.00"
   ]
  },
  {
   "cell_type": "code",
   "execution_count": 93,
   "metadata": {},
   "outputs": [],
   "source": [
    "df_out = df_test[['i', 'j', 'k', 'predict']]\n",
    "df_pre = df4_test[['i', 'j', 'k', 'predict']]"
   ]
  },
  {
   "cell_type": "code",
   "execution_count": 99,
   "metadata": {},
   "outputs": [
    {
     "name": "stdout",
     "output_type": "stream",
     "text": [
      "<class 'pandas.core.frame.DataFrame'>\n",
      "Int64Index: 180224 entries, 901120 to 1081343\n",
      "Data columns (total 4 columns):\n",
      " #   Column   Non-Null Count   Dtype  \n",
      "---  ------   --------------   -----  \n",
      " 0   i        180224 non-null  int64  \n",
      " 1   j        180224 non-null  int64  \n",
      " 2   k        180224 non-null  int64  \n",
      " 3   predict  180224 non-null  float64\n",
      "dtypes: float64(1), int64(3)\n",
      "memory usage: 6.9 MB\n"
     ]
    }
   ],
   "source": [
    "df_out.info()"
   ]
  },
  {
   "cell_type": "code",
   "execution_count": 122,
   "metadata": {},
   "outputs": [],
   "source": [
    "for x in range(len(df_pre)):\n",
    "    i = df_pre.iloc[x, :]['i'].astype(int)\n",
    "    j = df_pre.iloc[x, :]['j'].astype(int)\n",
    "    k = df_pre.iloc[x, :]['k'].astype(int)\n",
    "    pred = df_pre.iloc[x, :]['predict']\n",
    "    idx = df_out[(df_out['i']==i) & (df_out['j']==j) & (df_out['k']==k)].index\n",
    "    df_out.loc[idx, 'predict']= pred"
   ]
  },
  {
   "cell_type": "code",
   "execution_count": 127,
   "metadata": {},
   "outputs": [
    {
     "data": {
      "text/html": [
       "<div>\n",
       "<style scoped>\n",
       "    .dataframe tbody tr th:only-of-type {\n",
       "        vertical-align: middle;\n",
       "    }\n",
       "\n",
       "    .dataframe tbody tr th {\n",
       "        vertical-align: top;\n",
       "    }\n",
       "\n",
       "    .dataframe thead th {\n",
       "        text-align: right;\n",
       "    }\n",
       "</style>\n",
       "<table border=\"1\" class=\"dataframe\">\n",
       "  <thead>\n",
       "    <tr style=\"text-align: right;\">\n",
       "      <th></th>\n",
       "      <th>i</th>\n",
       "      <th>j</th>\n",
       "      <th>k</th>\n",
       "      <th>predict</th>\n",
       "    </tr>\n",
       "  </thead>\n",
       "  <tbody>\n",
       "    <tr>\n",
       "      <th>931880</th>\n",
       "      <td>7</td>\n",
       "      <td>32</td>\n",
       "      <td>40</td>\n",
       "      <td>5.183412</td>\n",
       "    </tr>\n",
       "    <tr>\n",
       "      <th>931881</th>\n",
       "      <td>7</td>\n",
       "      <td>32</td>\n",
       "      <td>41</td>\n",
       "      <td>4.673711</td>\n",
       "    </tr>\n",
       "    <tr>\n",
       "      <th>931882</th>\n",
       "      <td>7</td>\n",
       "      <td>32</td>\n",
       "      <td>42</td>\n",
       "      <td>4.348357</td>\n",
       "    </tr>\n",
       "    <tr>\n",
       "      <th>931883</th>\n",
       "      <td>7</td>\n",
       "      <td>32</td>\n",
       "      <td>43</td>\n",
       "      <td>5.062788</td>\n",
       "    </tr>\n",
       "    <tr>\n",
       "      <th>931919</th>\n",
       "      <td>7</td>\n",
       "      <td>33</td>\n",
       "      <td>15</td>\n",
       "      <td>3.794160</td>\n",
       "    </tr>\n",
       "    <tr>\n",
       "      <th>...</th>\n",
       "      <td>...</td>\n",
       "      <td>...</td>\n",
       "      <td>...</td>\n",
       "      <td>...</td>\n",
       "    </tr>\n",
       "    <tr>\n",
       "      <th>1050968</th>\n",
       "      <td>36</td>\n",
       "      <td>37</td>\n",
       "      <td>24</td>\n",
       "      <td>5.607471</td>\n",
       "    </tr>\n",
       "    <tr>\n",
       "      <th>1050979</th>\n",
       "      <td>36</td>\n",
       "      <td>37</td>\n",
       "      <td>35</td>\n",
       "      <td>13.007126</td>\n",
       "    </tr>\n",
       "    <tr>\n",
       "      <th>1050982</th>\n",
       "      <td>36</td>\n",
       "      <td>37</td>\n",
       "      <td>38</td>\n",
       "      <td>8.704618</td>\n",
       "    </tr>\n",
       "    <tr>\n",
       "      <th>1050983</th>\n",
       "      <td>36</td>\n",
       "      <td>37</td>\n",
       "      <td>39</td>\n",
       "      <td>6.513861</td>\n",
       "    </tr>\n",
       "    <tr>\n",
       "      <th>1051039</th>\n",
       "      <td>36</td>\n",
       "      <td>38</td>\n",
       "      <td>31</td>\n",
       "      <td>71.638641</td>\n",
       "    </tr>\n",
       "  </tbody>\n",
       "</table>\n",
       "<p>34012 rows × 4 columns</p>\n",
       "</div>"
      ],
      "text/plain": [
       "          i   j   k    predict\n",
       "931880    7  32  40   5.183412\n",
       "931881    7  32  41   4.673711\n",
       "931882    7  32  42   4.348357\n",
       "931883    7  32  43   5.062788\n",
       "931919    7  33  15   3.794160\n",
       "...      ..  ..  ..        ...\n",
       "1050968  36  37  24   5.607471\n",
       "1050979  36  37  35  13.007126\n",
       "1050982  36  37  38   8.704618\n",
       "1050983  36  37  39   6.513861\n",
       "1051039  36  38  31  71.638641\n",
       "\n",
       "[34012 rows x 4 columns]"
      ]
     },
     "execution_count": 127,
     "metadata": {},
     "output_type": "execute_result"
    }
   ],
   "source": [
    "df_pre"
   ]
  },
  {
   "cell_type": "code",
   "execution_count": 124,
   "metadata": {},
   "outputs": [
    {
     "data": {
      "text/html": [
       "<div>\n",
       "<style scoped>\n",
       "    .dataframe tbody tr th:only-of-type {\n",
       "        vertical-align: middle;\n",
       "    }\n",
       "\n",
       "    .dataframe tbody tr th {\n",
       "        vertical-align: top;\n",
       "    }\n",
       "\n",
       "    .dataframe thead th {\n",
       "        text-align: right;\n",
       "    }\n",
       "</style>\n",
       "<table border=\"1\" class=\"dataframe\">\n",
       "  <thead>\n",
       "    <tr style=\"text-align: right;\">\n",
       "      <th></th>\n",
       "      <th>i</th>\n",
       "      <th>j</th>\n",
       "      <th>k</th>\n",
       "      <th>predict</th>\n",
       "    </tr>\n",
       "  </thead>\n",
       "  <tbody>\n",
       "    <tr>\n",
       "      <th>931880</th>\n",
       "      <td>7</td>\n",
       "      <td>32</td>\n",
       "      <td>40</td>\n",
       "      <td>5.183412</td>\n",
       "    </tr>\n",
       "  </tbody>\n",
       "</table>\n",
       "</div>"
      ],
      "text/plain": [
       "        i   j   k   predict\n",
       "931880  7  32  40  5.183412"
      ]
     },
     "execution_count": 124,
     "metadata": {},
     "output_type": "execute_result"
    }
   ],
   "source": [
    "df_out[(df_out['i']==7) & (df_out['j']==32) & (df_out['k']==40)]"
   ]
  },
  {
   "cell_type": "code",
   "execution_count": 125,
   "metadata": {},
   "outputs": [
    {
     "data": {
      "text/html": [
       "<div>\n",
       "<style scoped>\n",
       "    .dataframe tbody tr th:only-of-type {\n",
       "        vertical-align: middle;\n",
       "    }\n",
       "\n",
       "    .dataframe tbody tr th {\n",
       "        vertical-align: top;\n",
       "    }\n",
       "\n",
       "    .dataframe thead th {\n",
       "        text-align: right;\n",
       "    }\n",
       "</style>\n",
       "<table border=\"1\" class=\"dataframe\">\n",
       "  <thead>\n",
       "    <tr style=\"text-align: right;\">\n",
       "      <th></th>\n",
       "      <th>i</th>\n",
       "      <th>j</th>\n",
       "      <th>k</th>\n",
       "      <th>predict</th>\n",
       "    </tr>\n",
       "  </thead>\n",
       "  <tbody>\n",
       "    <tr>\n",
       "      <th>901120</th>\n",
       "      <td>0</td>\n",
       "      <td>0</td>\n",
       "      <td>0</td>\n",
       "      <td>0.0</td>\n",
       "    </tr>\n",
       "    <tr>\n",
       "      <th>901121</th>\n",
       "      <td>0</td>\n",
       "      <td>0</td>\n",
       "      <td>1</td>\n",
       "      <td>0.0</td>\n",
       "    </tr>\n",
       "    <tr>\n",
       "      <th>901122</th>\n",
       "      <td>0</td>\n",
       "      <td>0</td>\n",
       "      <td>2</td>\n",
       "      <td>0.0</td>\n",
       "    </tr>\n",
       "    <tr>\n",
       "      <th>901123</th>\n",
       "      <td>0</td>\n",
       "      <td>0</td>\n",
       "      <td>3</td>\n",
       "      <td>0.0</td>\n",
       "    </tr>\n",
       "    <tr>\n",
       "      <th>901124</th>\n",
       "      <td>0</td>\n",
       "      <td>0</td>\n",
       "      <td>4</td>\n",
       "      <td>0.0</td>\n",
       "    </tr>\n",
       "    <tr>\n",
       "      <th>...</th>\n",
       "      <td>...</td>\n",
       "      <td>...</td>\n",
       "      <td>...</td>\n",
       "      <td>...</td>\n",
       "    </tr>\n",
       "    <tr>\n",
       "      <th>1081339</th>\n",
       "      <td>43</td>\n",
       "      <td>63</td>\n",
       "      <td>59</td>\n",
       "      <td>0.0</td>\n",
       "    </tr>\n",
       "    <tr>\n",
       "      <th>1081340</th>\n",
       "      <td>43</td>\n",
       "      <td>63</td>\n",
       "      <td>60</td>\n",
       "      <td>0.0</td>\n",
       "    </tr>\n",
       "    <tr>\n",
       "      <th>1081341</th>\n",
       "      <td>43</td>\n",
       "      <td>63</td>\n",
       "      <td>61</td>\n",
       "      <td>0.0</td>\n",
       "    </tr>\n",
       "    <tr>\n",
       "      <th>1081342</th>\n",
       "      <td>43</td>\n",
       "      <td>63</td>\n",
       "      <td>62</td>\n",
       "      <td>0.0</td>\n",
       "    </tr>\n",
       "    <tr>\n",
       "      <th>1081343</th>\n",
       "      <td>43</td>\n",
       "      <td>63</td>\n",
       "      <td>63</td>\n",
       "      <td>0.0</td>\n",
       "    </tr>\n",
       "  </tbody>\n",
       "</table>\n",
       "<p>180224 rows × 4 columns</p>\n",
       "</div>"
      ],
      "text/plain": [
       "          i   j   k  predict\n",
       "901120    0   0   0      0.0\n",
       "901121    0   0   1      0.0\n",
       "901122    0   0   2      0.0\n",
       "901123    0   0   3      0.0\n",
       "901124    0   0   4      0.0\n",
       "...      ..  ..  ..      ...\n",
       "1081339  43  63  59      0.0\n",
       "1081340  43  63  60      0.0\n",
       "1081341  43  63  61      0.0\n",
       "1081342  43  63  62      0.0\n",
       "1081343  43  63  63      0.0\n",
       "\n",
       "[180224 rows x 4 columns]"
      ]
     },
     "execution_count": 125,
     "metadata": {},
     "output_type": "execute_result"
    }
   ],
   "source": [
    "df_out"
   ]
  },
  {
   "cell_type": "code",
   "execution_count": 126,
   "metadata": {},
   "outputs": [],
   "source": [
    "np.savetxt(img_path+\"nn_nonzero_36to38.txt\", df_out[['i', 'j', 'k', 'predict']], fmt=\"%i %i %i %s\")"
   ]
  },
  {
   "cell_type": "code",
   "execution_count": null,
   "metadata": {},
   "outputs": [],
   "source": []
  },
  {
   "cell_type": "markdown",
   "metadata": {},
   "source": [
    "# Nonzero 32 to 38"
   ]
  },
  {
   "cell_type": "code",
   "execution_count": 17,
   "metadata": {},
   "outputs": [],
   "source": [
    "X_train = X4_train\n",
    "y_train = y4_train\n",
    "X_test = X4_test\n",
    "y_test = y4_test"
   ]
  },
  {
   "cell_type": "code",
   "execution_count": 45,
   "metadata": {},
   "outputs": [],
   "source": [
    "shape = (len(X_train[0]),)\n",
    "model = keras.Sequential()\n",
    "model.add(Dense(5, activation='relu', input_shape=shape)) \n",
    "model.add(Dense(5, activation='relu'))\n",
    "model.add(Dense(1, activation='linear'))\n",
    "model.compile(optimizer='adamax', loss='mse', metrics=[\"accuracy\"])"
   ]
  },
  {
   "cell_type": "code",
   "execution_count": 46,
   "metadata": {},
   "outputs": [
    {
     "name": "stdout",
     "output_type": "stream",
     "text": [
      "Epoch 1/100\n",
      "27203/27203 [==============================] - 27s 973us/step - loss: 17798.2617 - accuracy: 1.1832e-04 - val_loss: 232.1569 - val_accuracy: 8.8207e-05\n",
      "Epoch 2/100\n",
      "27203/27203 [==============================] - 26s 943us/step - loss: 17113.9160 - accuracy: 4.2505e-05 - val_loss: 194.7836 - val_accuracy: 2.9402e-05\n",
      "Epoch 3/100\n",
      "27203/27203 [==============================] - 26s 946us/step - loss: 17100.2773 - accuracy: 1.6313e-04 - val_loss: 172.8505 - val_accuracy: 1.7641e-04\n",
      "Epoch 4/100\n",
      "27203/27203 [==============================] - 27s 974us/step - loss: 17093.4434 - accuracy: 6.2609e-04 - val_loss: 166.7159 - val_accuracy: 0.0011\n",
      "Epoch 5/100\n",
      "27203/27203 [==============================] - 27s 990us/step - loss: 17086.7617 - accuracy: 7.2144e-04 - val_loss: 151.8359 - val_accuracy: 0.0011\n",
      "Epoch 6/100\n",
      "27203/27203 [==============================] - 28s 1ms/step - loss: 17080.5684 - accuracy: 7.3292e-04 - val_loss: 147.2286 - val_accuracy: 0.0011\n",
      "Epoch 7/100\n",
      "27203/27203 [==============================] - 28s 1ms/step - loss: 17077.0430 - accuracy: 7.3407e-04 - val_loss: 141.7991 - val_accuracy: 0.0011\n",
      "Epoch 8/100\n",
      "27203/27203 [==============================] - 28s 1ms/step - loss: 17074.5254 - accuracy: 7.2833e-04 - val_loss: 139.8551 - val_accuracy: 0.0011\n",
      "Epoch 9/100\n",
      "27203/27203 [==============================] - 25s 904us/step - loss: 17072.3359 - accuracy: 7.3178e-04 - val_loss: 142.2571 - val_accuracy: 0.0011\n",
      "Epoch 10/100\n",
      "27203/27203 [==============================] - 25s 911us/step - loss: 17071.0957 - accuracy: 7.3637e-04 - val_loss: 134.9793 - val_accuracy: 0.0011\n",
      "Epoch 11/100\n",
      "27203/27203 [==============================] - 24s 898us/step - loss: 17067.9102 - accuracy: 7.2948e-04 - val_loss: 137.1593 - val_accuracy: 0.0011\n",
      "Epoch 12/100\n",
      "27203/27203 [==============================] - 24s 900us/step - loss: 17068.3984 - accuracy: 7.2603e-04 - val_loss: 133.7630 - val_accuracy: 0.0011\n",
      "Epoch 13/100\n",
      "27203/27203 [==============================] - 25s 921us/step - loss: 17067.1582 - accuracy: 7.3178e-04 - val_loss: 139.1447 - val_accuracy: 0.0011\n",
      "Epoch 14/100\n",
      "27203/27203 [==============================] - 26s 967us/step - loss: 17065.4492 - accuracy: 7.2488e-04 - val_loss: 134.7423 - val_accuracy: 0.0011\n",
      "Epoch 15/100\n",
      "27203/27203 [==============================] - 25s 912us/step - loss: 17064.6465 - accuracy: 7.2603e-04 - val_loss: 134.9330 - val_accuracy: 0.0011\n",
      "Epoch 16/100\n",
      "27203/27203 [==============================] - 24s 889us/step - loss: 17062.7422 - accuracy: 7.2488e-04 - val_loss: 133.4369 - val_accuracy: 0.0011\n",
      "Epoch 17/100\n",
      "27203/27203 [==============================] - 24s 886us/step - loss: 17062.7539 - accuracy: 7.2488e-04 - val_loss: 130.4291 - val_accuracy: 0.0011\n",
      "Epoch 18/100\n",
      "27203/27203 [==============================] - 24s 890us/step - loss: 17061.0117 - accuracy: 7.2488e-04 - val_loss: 130.9076 - val_accuracy: 0.0011\n",
      "Epoch 19/100\n",
      "27203/27203 [==============================] - 24s 890us/step - loss: 17061.5059 - accuracy: 7.1799e-04 - val_loss: 128.9939 - val_accuracy: 0.0011\n",
      "Epoch 20/100\n",
      "27203/27203 [==============================] - 25s 921us/step - loss: 17060.6719 - accuracy: 7.0995e-04 - val_loss: 126.7129 - val_accuracy: 0.0011\n",
      "Epoch 21/100\n",
      "27203/27203 [==============================] - 25s 901us/step - loss: 17059.8652 - accuracy: 7.2144e-04 - val_loss: 125.5816 - val_accuracy: 0.0011\n",
      "Epoch 22/100\n",
      "27203/27203 [==============================] - 147s 5ms/step - loss: 17059.1230 - accuracy: 7.2029e-04 - val_loss: 126.5589 - val_accuracy: 0.0011\n",
      "Epoch 23/100\n",
      "27203/27203 [==============================] - 23s 845us/step - loss: 17057.9180 - accuracy: 7.2144e-04 - val_loss: 125.5452 - val_accuracy: 0.0011\n",
      "Epoch 24/100\n",
      "27203/27203 [==============================] - 1649s 61ms/step - loss: 17058.1621 - accuracy: 7.2259e-04 - val_loss: 120.7910 - val_accuracy: 0.0011\n",
      "Epoch 25/100\n",
      "27203/27203 [==============================] - 28s 1ms/step - loss: 17058.0625 - accuracy: 7.2144e-04 - val_loss: 122.7657 - val_accuracy: 0.0011\n",
      "Epoch 26/100\n",
      "27203/27203 [==============================] - 7151s 263ms/step - loss: 17057.9844 - accuracy: 7.1914e-04 - val_loss: 121.8685 - val_accuracy: 0.0011\n",
      "Epoch 27/100\n",
      "27203/27203 [==============================] - 23s 863us/step - loss: 17056.9863 - accuracy: 7.1914e-04 - val_loss: 119.2652 - val_accuracy: 0.0011\n",
      "Epoch 28/100\n",
      "27203/27203 [==============================] - 1093s 40ms/step - loss: 17057.5547 - accuracy: 7.1799e-04 - val_loss: 121.9244 - val_accuracy: 0.0011\n",
      "Epoch 29/100\n",
      "27203/27203 [==============================] - 28s 1ms/step - loss: 17056.3066 - accuracy: 7.2144e-04 - val_loss: 120.1177 - val_accuracy: 0.0011\n",
      "Epoch 30/100\n",
      "27203/27203 [==============================] - 27s 998us/step - loss: 17055.5898 - accuracy: 7.0995e-04 - val_loss: 112.9349 - val_accuracy: 0.0011\n",
      "Epoch 31/100\n",
      "27203/27203 [==============================] - 27s 996us/step - loss: 17055.4395 - accuracy: 7.1454e-04 - val_loss: 113.5689 - val_accuracy: 0.0011\n",
      "Epoch 32/100\n",
      "27203/27203 [==============================] - 29s 1ms/step - loss: 17056.6680 - accuracy: 7.1569e-04 - val_loss: 113.3211 - val_accuracy: 0.0011\n",
      "Epoch 33/100\n",
      "27203/27203 [==============================] - 31s 1ms/step - loss: 17054.7637 - accuracy: 7.1454e-04 - val_loss: 112.0321 - val_accuracy: 0.0011\n",
      "Epoch 34/100\n",
      "27203/27203 [==============================] - 31s 1ms/step - loss: 17055.3047 - accuracy: 7.0765e-04 - val_loss: 112.3482 - val_accuracy: 0.0011\n",
      "Epoch 35/100\n",
      "27203/27203 [==============================] - 31s 1ms/step - loss: 17055.3320 - accuracy: 7.1684e-04 - val_loss: 115.9675 - val_accuracy: 0.0011\n",
      "Epoch 36/100\n",
      "27203/27203 [==============================] - 31s 1ms/step - loss: 17054.6953 - accuracy: 7.0995e-04 - val_loss: 110.0620 - val_accuracy: 0.0011\n",
      "Epoch 37/100\n",
      "27203/27203 [==============================] - 7227s 266ms/step - loss: 17055.8457 - accuracy: 7.0191e-04 - val_loss: 108.3586 - val_accuracy: 0.0011\n",
      "Epoch 38/100\n",
      "27203/27203 [==============================] - 25s 905us/step - loss: 17055.0059 - accuracy: 6.9501e-04 - val_loss: 108.2095 - val_accuracy: 0.0011\n",
      "Epoch 39/100\n",
      "27203/27203 [==============================] - 25s 916us/step - loss: 17054.4219 - accuracy: 6.8582e-04 - val_loss: 107.8206 - val_accuracy: 2.9402e-05\n",
      "Epoch 40/100\n",
      "27203/27203 [==============================] - 26s 971us/step - loss: 17054.6094 - accuracy: 6.5940e-04 - val_loss: 111.3014 - val_accuracy: 0.0011\n",
      "Epoch 41/100\n",
      "27203/27203 [==============================] - 27s 994us/step - loss: 17052.9414 - accuracy: 6.4791e-04 - val_loss: 105.8821 - val_accuracy: 9.4087e-04\n",
      "Epoch 42/100\n",
      "27203/27203 [==============================] - 25s 921us/step - loss: 17054.3125 - accuracy: 6.3643e-04 - val_loss: 106.1910 - val_accuracy: 2.9402e-05\n",
      "Epoch 43/100\n",
      "27203/27203 [==============================] - 23s 851us/step - loss: 17054.5156 - accuracy: 6.2724e-04 - val_loss: 105.6113 - val_accuracy: 0.0010\n",
      "Epoch 44/100\n",
      "27203/27203 [==============================] - 23s 829us/step - loss: 17053.7598 - accuracy: 6.0081e-04 - val_loss: 107.9582 - val_accuracy: 0.0010\n",
      "Epoch 45/100\n",
      "27203/27203 [==============================] - 7221s 265ms/step - loss: 17054.4062 - accuracy: 5.7899e-04 - val_loss: 103.7705 - val_accuracy: 2.9402e-05\n",
      "Epoch 46/100\n",
      "27203/27203 [==============================] - 25s 918us/step - loss: 17053.5840 - accuracy: 5.3763e-04 - val_loss: 105.3654 - val_accuracy: 0.0010\n",
      "Epoch 47/100\n",
      "27203/27203 [==============================] - 23s 844us/step - loss: 17052.7324 - accuracy: 5.7095e-04 - val_loss: 102.4904 - val_accuracy: 0.0010\n",
      "Epoch 48/100\n",
      "27203/27203 [==============================] - 23s 836us/step - loss: 17052.7695 - accuracy: 5.0661e-04 - val_loss: 99.5158 - val_accuracy: 0.0011\n",
      "Epoch 49/100\n",
      "27203/27203 [==============================] - 24s 868us/step - loss: 17053.7012 - accuracy: 4.9513e-04 - val_loss: 100.3195 - val_accuracy: 0.0011\n",
      "Epoch 50/100\n",
      "27203/27203 [==============================] - 495s 18ms/step - loss: 17055.2734 - accuracy: 4.8594e-04 - val_loss: 100.8457 - val_accuracy: 2.9402e-05\n",
      "Epoch 51/100\n",
      "27203/27203 [==============================] - 24s 884us/step - loss: 17053.7207 - accuracy: 4.6641e-04 - val_loss: 102.4319 - val_accuracy: 0.0011\n"
     ]
    },
    {
     "name": "stdout",
     "output_type": "stream",
     "text": [
      "Epoch 52/100\n",
      "27203/27203 [==============================] - 24s 872us/step - loss: 17052.7031 - accuracy: 3.6761e-04 - val_loss: 100.4827 - val_accuracy: 2.9402e-05\n",
      "Epoch 53/100\n",
      "27203/27203 [==============================] - 7223s 266ms/step - loss: 17052.0059 - accuracy: 3.2625e-04 - val_loss: 95.6648 - val_accuracy: 2.9402e-05\n",
      "Epoch 54/100\n",
      "27203/27203 [==============================] - 25s 906us/step - loss: 17052.6426 - accuracy: 3.8714e-04 - val_loss: 104.1389 - val_accuracy: 0.0010\n",
      "Epoch 55/100\n",
      "27203/27203 [==============================] - 2972s 109ms/step - loss: 17051.2363 - accuracy: 2.5503e-04 - val_loss: 98.2194 - val_accuracy: 0.0011\n",
      "Epoch 56/100\n",
      "27203/27203 [==============================] - 23s 840us/step - loss: 17051.7695 - accuracy: 2.8835e-04 - val_loss: 96.9590 - val_accuracy: 2.9402e-05\n",
      "Epoch 57/100\n",
      "27203/27203 [==============================] - 1331s 49ms/step - loss: 17051.7793 - accuracy: 2.9868e-04 - val_loss: 94.3965 - val_accuracy: 5.8805e-05\n",
      "Epoch 58/100\n",
      "27203/27203 [==============================] - 32s 1ms/step - loss: 17052.5176 - accuracy: 3.7680e-04 - val_loss: 93.4479 - val_accuracy: 0.0011\n",
      "Epoch 59/100\n",
      "27203/27203 [==============================] - 26s 944us/step - loss: 17053.2168 - accuracy: 3.1936e-04 - val_loss: 97.0641 - val_accuracy: 8.8207e-05\n",
      "Epoch 60/100\n",
      "27203/27203 [==============================] - 26s 956us/step - loss: 17051.6738 - accuracy: 3.0213e-04 - val_loss: 94.2111 - val_accuracy: 2.9402e-05\n",
      "Epoch 61/100\n",
      "27203/27203 [==============================] - 27s 1ms/step - loss: 17051.3223 - accuracy: 3.0443e-04 - val_loss: 95.3232 - val_accuracy: 5.8805e-05\n",
      "Epoch 62/100\n",
      "27203/27203 [==============================] - 28s 1ms/step - loss: 17052.7129 - accuracy: 3.4004e-04 - val_loss: 91.4091 - val_accuracy: 2.9402e-05\n",
      "Epoch 63/100\n",
      "27203/27203 [==============================] - 28s 1ms/step - loss: 17052.3555 - accuracy: 3.3774e-04 - val_loss: 96.7337 - val_accuracy: 0.0011\n",
      "Epoch 64/100\n",
      "27203/27203 [==============================] - 27s 997us/step - loss: 17051.9668 - accuracy: 3.6072e-04 - val_loss: 88.0118 - val_accuracy: 2.9402e-05\n",
      "Epoch 65/100\n",
      "27203/27203 [==============================] - 26s 943us/step - loss: 17050.7500 - accuracy: 3.1477e-04 - val_loss: 90.1804 - val_accuracy: 5.8805e-05\n",
      "Epoch 66/100\n",
      "27203/27203 [==============================] - 27s 991us/step - loss: 17052.1328 - accuracy: 3.2281e-04 - val_loss: 90.6137 - val_accuracy: 5.8805e-05\n",
      "Epoch 67/100\n",
      "27203/27203 [==============================] - 26s 955us/step - loss: 17051.4727 - accuracy: 2.9064e-04 - val_loss: 96.0796 - val_accuracy: 2.9402e-05\n",
      "Epoch 68/100\n",
      "27203/27203 [==============================] - 27s 974us/step - loss: 17049.5703 - accuracy: 3.4808e-04 - val_loss: 87.3786 - val_accuracy: 2.9402e-05\n",
      "Epoch 69/100\n",
      "27203/27203 [==============================] - 26s 950us/step - loss: 17052.0625 - accuracy: 3.0902e-04 - val_loss: 96.8567 - val_accuracy: 2.9402e-05\n",
      "Epoch 70/100\n",
      "27203/27203 [==============================] - 27s 991us/step - loss: 17051.3047 - accuracy: 2.4469e-04 - val_loss: 92.1664 - val_accuracy: 2.9402e-05\n",
      "Epoch 71/100\n",
      "27203/27203 [==============================] - 27s 1ms/step - loss: 17050.9902 - accuracy: 2.5963e-04 - val_loss: 94.5155 - val_accuracy: 2.9402e-05\n",
      "Epoch 72/100\n",
      "27203/27203 [==============================] - 28s 1ms/step - loss: 17050.4941 - accuracy: 2.7226e-04 - val_loss: 88.2559 - val_accuracy: 0.0011\n",
      "Epoch 73/100\n",
      "27203/27203 [==============================] - 29s 1ms/step - loss: 17050.4570 - accuracy: 2.9409e-04 - val_loss: 89.3821 - val_accuracy: 8.8207e-05\n",
      "Epoch 74/100\n",
      "27203/27203 [==============================] - 28s 1ms/step - loss: 17051.1387 - accuracy: 2.9064e-04 - val_loss: 85.7895 - val_accuracy: 5.8805e-05\n",
      "Epoch 75/100\n",
      "27203/27203 [==============================] - 27s 1ms/step - loss: 17050.7070 - accuracy: 3.4578e-04 - val_loss: 89.8420 - val_accuracy: 2.9402e-05\n",
      "Epoch 76/100\n",
      "27203/27203 [==============================] - 26s 963us/step - loss: 17050.8223 - accuracy: 3.0787e-04 - val_loss: 90.2253 - val_accuracy: 0.0011\n",
      "Epoch 77/100\n",
      "27203/27203 [==============================] - 26s 938us/step - loss: 17049.5371 - accuracy: 2.6307e-04 - val_loss: 91.1670 - val_accuracy: 2.9402e-05\n",
      "Epoch 78/100\n",
      "27203/27203 [==============================] - 25s 937us/step - loss: 17047.8086 - accuracy: 2.5503e-04 - val_loss: 88.1980 - val_accuracy: 2.9402e-05\n",
      "Epoch 79/100\n",
      "27203/27203 [==============================] - 26s 941us/step - loss: 17048.4023 - accuracy: 1.7691e-04 - val_loss: 90.8871 - val_accuracy: 8.8207e-05\n",
      "Epoch 80/100\n",
      "27203/27203 [==============================] - 26s 938us/step - loss: 17049.9414 - accuracy: 2.5273e-04 - val_loss: 92.6992 - val_accuracy: 2.9402e-05\n",
      "Epoch 81/100\n",
      "27203/27203 [==============================] - 25s 936us/step - loss: 17047.7461 - accuracy: 1.9529e-04 - val_loss: 87.0104 - val_accuracy: 2.9402e-05\n",
      "Epoch 82/100\n",
      "27203/27203 [==============================] - 26s 939us/step - loss: 17049.8105 - accuracy: 2.1253e-04 - val_loss: 85.8824 - val_accuracy: 2.9402e-05\n",
      "Epoch 83/100\n",
      "27203/27203 [==============================] - 26s 948us/step - loss: 17048.1523 - accuracy: 2.3550e-04 - val_loss: 87.0504 - val_accuracy: 5.8805e-05\n",
      "Epoch 84/100\n",
      "27203/27203 [==============================] - 26s 941us/step - loss: 17047.0312 - accuracy: 2.1023e-04 - val_loss: 84.3271 - val_accuracy: 2.9402e-05\n",
      "Epoch 85/100\n",
      "27203/27203 [==============================] - 26s 940us/step - loss: 17047.3633 - accuracy: 2.0219e-04 - val_loss: 88.7017 - val_accuracy: 0.0011\n",
      "Epoch 86/100\n",
      "27203/27203 [==============================] - 25s 937us/step - loss: 17048.8770 - accuracy: 2.3205e-04 - val_loss: 86.2903 - val_accuracy: 0.0011\n",
      "Epoch 87/100\n",
      "27203/27203 [==============================] - 26s 944us/step - loss: 17048.8105 - accuracy: 2.4124e-04 - val_loss: 90.9674 - val_accuracy: 8.8207e-05\n",
      "Epoch 88/100\n",
      "27203/27203 [==============================] - 26s 938us/step - loss: 17045.9492 - accuracy: 2.1712e-04 - val_loss: 85.6947 - val_accuracy: 2.9402e-05\n",
      "Epoch 89/100\n",
      "27203/27203 [==============================] - 26s 940us/step - loss: 17047.2012 - accuracy: 1.5164e-04 - val_loss: 85.1310 - val_accuracy: 0.0010\n",
      "Epoch 90/100\n",
      "27203/27203 [==============================] - 25s 936us/step - loss: 17047.6602 - accuracy: 1.4360e-04 - val_loss: 87.0198 - val_accuracy: 2.9402e-05\n",
      "Epoch 91/100\n",
      "27203/27203 [==============================] - 26s 944us/step - loss: 17046.4004 - accuracy: 9.6498e-05 - val_loss: 85.9146 - val_accuracy: 2.9402e-05\n",
      "Epoch 92/100\n",
      "27203/27203 [==============================] - 26s 939us/step - loss: 17042.8613 - accuracy: 1.1488e-04 - val_loss: 94.5052 - val_accuracy: 2.9402e-05\n",
      "Epoch 93/100\n",
      "27203/27203 [==============================] - 26s 940us/step - loss: 17041.5547 - accuracy: 5.1695e-05 - val_loss: 85.8653 - val_accuracy: 2.9402e-05\n",
      "Epoch 94/100\n",
      "27203/27203 [==============================] - 26s 942us/step - loss: 17040.7520 - accuracy: 4.1356e-05 - val_loss: 86.0919 - val_accuracy: 2.9402e-05\n",
      "Epoch 95/100\n",
      "27203/27203 [==============================] - 25s 936us/step - loss: 17040.8613 - accuracy: 4.5951e-05 - val_loss: 91.0648 - val_accuracy: 2.9402e-05\n",
      "Epoch 96/100\n",
      "27203/27203 [==============================] - 26s 943us/step - loss: 17039.3711 - accuracy: 4.4803e-05 - val_loss: 82.6776 - val_accuracy: 2.9402e-05\n",
      "Epoch 97/100\n",
      "27203/27203 [==============================] - 26s 938us/step - loss: 17039.6836 - accuracy: 4.5951e-05 - val_loss: 79.4325 - val_accuracy: 2.9402e-05\n",
      "Epoch 98/100\n",
      "27203/27203 [==============================] - 26s 943us/step - loss: 17040.1816 - accuracy: 4.1356e-05 - val_loss: 78.9704 - val_accuracy: 2.9402e-05\n",
      "Epoch 99/100\n",
      "27203/27203 [==============================] - 26s 938us/step - loss: 17039.6602 - accuracy: 4.4803e-05 - val_loss: 81.4448 - val_accuracy: 2.9402e-05\n",
      "Epoch 100/100\n",
      "27203/27203 [==============================] - 26s 942us/step - loss: 17038.2715 - accuracy: 4.3654e-05 - val_loss: 79.4899 - val_accuracy: 2.9402e-05\n"
     ]
    }
   ],
   "source": [
    "history = model.fit(X_train, y_train, epochs=100, batch_size=32, validation_data=[X_test, y_test])"
   ]
  },
  {
   "cell_type": "code",
   "execution_count": 56,
   "metadata": {},
   "outputs": [
    {
     "name": "stdout",
     "output_type": "stream",
     "text": [
      "27203/27203 [==============================] - 20s 721us/step\n",
      "17038.094943428958\n",
      "0.3391243161580373\n",
      "1063/1063 [==============================] - 1s 688us/step\n",
      "79.48982876589265\n",
      "0.35212577338340956\n"
     ]
    }
   ],
   "source": [
    "train_pred = model.predict(X_train)\n",
    "print(mse(train_pred, y_train))\n",
    "print(mape(train_pred, y_train))\n",
    "test_pred = model.predict(X_test)\n",
    "print(mse(test_pred, y_test))\n",
    "print(mape(test_pred, y_test))"
   ]
  },
  {
   "cell_type": "code",
   "execution_count": 48,
   "metadata": {},
   "outputs": [
    {
     "name": "stdout",
     "output_type": "stream",
     "text": [
      "1063/1063 [==============================] - 1s 791us/step - loss: 79.4899 - accuracy: 2.9402e-05\n"
     ]
    },
    {
     "data": {
      "text/plain": [
       "[79.4898910522461, 2.9402252039290033e-05]"
      ]
     },
     "execution_count": 48,
     "metadata": {},
     "output_type": "execute_result"
    }
   ],
   "source": [
    "model.evaluate(X_test, y_test)"
   ]
  },
  {
   "cell_type": "code",
   "execution_count": 49,
   "metadata": {},
   "outputs": [
    {
     "data": {
      "text/plain": [
       "array([[1.       , 0.7641504],\n",
       "       [0.7641504, 1.       ]])"
      ]
     },
     "execution_count": 49,
     "metadata": {},
     "output_type": "execute_result"
    }
   ],
   "source": [
    "np.corrcoef(test_pred.flatten(), y_test)"
   ]
  },
  {
   "cell_type": "code",
   "execution_count": 50,
   "metadata": {},
   "outputs": [
    {
     "name": "stdout",
     "output_type": "stream",
     "text": [
      "Model: \"sequential_2\"\n",
      "_________________________________________________________________\n",
      " Layer (type)                Output Shape              Param #   \n",
      "=================================================================\n",
      " dense_8 (Dense)             (None, 5)                 30        \n",
      "                                                                 \n",
      " dense_9 (Dense)             (None, 5)                 30        \n",
      "                                                                 \n",
      " dense_10 (Dense)            (None, 1)                 6         \n",
      "                                                                 \n",
      "=================================================================\n",
      "Total params: 66\n",
      "Trainable params: 66\n",
      "Non-trainable params: 0\n",
      "_________________________________________________________________\n"
     ]
    }
   ],
   "source": [
    "model.summary()"
   ]
  },
  {
   "cell_type": "code",
   "execution_count": 51,
   "metadata": {},
   "outputs": [
    {
     "data": {
      "text/plain": [
       "{'loss': [17798.26171875,\n",
       "  17113.916015625,\n",
       "  17100.27734375,\n",
       "  17093.443359375,\n",
       "  17086.76171875,\n",
       "  17080.568359375,\n",
       "  17077.04296875,\n",
       "  17074.525390625,\n",
       "  17072.3359375,\n",
       "  17071.095703125,\n",
       "  17067.91015625,\n",
       "  17068.3984375,\n",
       "  17067.158203125,\n",
       "  17065.44921875,\n",
       "  17064.646484375,\n",
       "  17062.7421875,\n",
       "  17062.75390625,\n",
       "  17061.01171875,\n",
       "  17061.505859375,\n",
       "  17060.671875,\n",
       "  17059.865234375,\n",
       "  17059.123046875,\n",
       "  17057.91796875,\n",
       "  17058.162109375,\n",
       "  17058.0625,\n",
       "  17057.984375,\n",
       "  17056.986328125,\n",
       "  17057.5546875,\n",
       "  17056.306640625,\n",
       "  17055.58984375,\n",
       "  17055.439453125,\n",
       "  17056.66796875,\n",
       "  17054.763671875,\n",
       "  17055.3046875,\n",
       "  17055.33203125,\n",
       "  17054.6953125,\n",
       "  17055.845703125,\n",
       "  17055.005859375,\n",
       "  17054.421875,\n",
       "  17054.609375,\n",
       "  17052.94140625,\n",
       "  17054.3125,\n",
       "  17054.515625,\n",
       "  17053.759765625,\n",
       "  17054.40625,\n",
       "  17053.583984375,\n",
       "  17052.732421875,\n",
       "  17052.76953125,\n",
       "  17053.701171875,\n",
       "  17055.2734375,\n",
       "  17053.720703125,\n",
       "  17052.703125,\n",
       "  17052.005859375,\n",
       "  17052.642578125,\n",
       "  17051.236328125,\n",
       "  17051.76953125,\n",
       "  17051.779296875,\n",
       "  17052.517578125,\n",
       "  17053.216796875,\n",
       "  17051.673828125,\n",
       "  17051.322265625,\n",
       "  17052.712890625,\n",
       "  17052.35546875,\n",
       "  17051.966796875,\n",
       "  17050.75,\n",
       "  17052.1328125,\n",
       "  17051.47265625,\n",
       "  17049.5703125,\n",
       "  17052.0625,\n",
       "  17051.3046875,\n",
       "  17050.990234375,\n",
       "  17050.494140625,\n",
       "  17050.45703125,\n",
       "  17051.138671875,\n",
       "  17050.70703125,\n",
       "  17050.822265625,\n",
       "  17049.537109375,\n",
       "  17047.80859375,\n",
       "  17048.40234375,\n",
       "  17049.94140625,\n",
       "  17047.74609375,\n",
       "  17049.810546875,\n",
       "  17048.15234375,\n",
       "  17047.03125,\n",
       "  17047.36328125,\n",
       "  17048.876953125,\n",
       "  17048.810546875,\n",
       "  17045.94921875,\n",
       "  17047.201171875,\n",
       "  17047.66015625,\n",
       "  17046.400390625,\n",
       "  17042.861328125,\n",
       "  17041.5546875,\n",
       "  17040.751953125,\n",
       "  17040.861328125,\n",
       "  17039.37109375,\n",
       "  17039.68359375,\n",
       "  17040.181640625,\n",
       "  17039.66015625,\n",
       "  17038.271484375],\n",
       " 'accuracy': [0.00011832483869511634,\n",
       "  4.2505042074481025e-05,\n",
       "  0.00016312744992319494,\n",
       "  0.0006260877707973123,\n",
       "  0.0007214369252324104,\n",
       "  0.0007329247309826314,\n",
       "  0.0007340735173784196,\n",
       "  0.0007283295853994787,\n",
       "  0.0007317759445868433,\n",
       "  0.000736371090169996,\n",
       "  0.0007294783717952669,\n",
       "  0.0007260320126079023,\n",
       "  0.0007317759445868433,\n",
       "  0.0007248832262121141,\n",
       "  0.0007260320126079023,\n",
       "  0.0007248832262121141,\n",
       "  0.0007248832262121141,\n",
       "  0.0007248832262121141,\n",
       "  0.0007179905660450459,\n",
       "  0.0007099490612745285,\n",
       "  0.0007214369252324104,\n",
       "  0.0007202881388366222,\n",
       "  0.0007214369252324104,\n",
       "  0.0007225857116281986,\n",
       "  0.0007214369252324104,\n",
       "  0.000719139352440834,\n",
       "  0.000719139352440834,\n",
       "  0.0007179905660450459,\n",
       "  0.0007214369252324104,\n",
       "  0.0007099490612745285,\n",
       "  0.0007145442068576813,\n",
       "  0.0007156929932534695,\n",
       "  0.0007145442068576813,\n",
       "  0.0007076514884829521,\n",
       "  0.0007168417796492577,\n",
       "  0.0007099490612745285,\n",
       "  0.0007019075565040112,\n",
       "  0.000695014838129282,\n",
       "  0.0006858245469629765,\n",
       "  0.0006594025180675089,\n",
       "  0.000647914654109627,\n",
       "  0.000636426848359406,\n",
       "  0.0006272365571931005,\n",
       "  0.000600814470089972,\n",
       "  0.0005789875867776573,\n",
       "  0.0005376313347369432,\n",
       "  0.0005709460820071399,\n",
       "  0.000506614102050662,\n",
       "  0.000495126296300441,\n",
       "  0.0004859360051341355,\n",
       "  0.00046640666550956666,\n",
       "  0.0003676111518871039,\n",
       "  0.0003262548998463899,\n",
       "  0.00038714049151167274,\n",
       "  0.0002550302306190133,\n",
       "  0.00028834500699304044,\n",
       "  0.0002986840554513037,\n",
       "  0.00037680144305340946,\n",
       "  0.00031936218147166073,\n",
       "  0.0003021304146386683,\n",
       "  0.0003044279874302447,\n",
       "  0.0003400403365958482,\n",
       "  0.0003377427638042718,\n",
       "  0.0003607184626162052,\n",
       "  0.0003147670649923384,\n",
       "  0.0003228085406590253,\n",
       "  0.00029064257978461683,\n",
       "  0.0003480818122625351,\n",
       "  0.00030902313301339746,\n",
       "  0.00024469118216075003,\n",
       "  0.0002596253762021661,\n",
       "  0.0002722620265558362,\n",
       "  0.0002940889389719814,\n",
       "  0.00029064257978461683,\n",
       "  0.0003457842394709587,\n",
       "  0.00030787434661760926,\n",
       "  0.00026307173538953066,\n",
       "  0.0002550302306190133,\n",
       "  0.00017691287212073803,\n",
       "  0.0002527326578274369,\n",
       "  0.00019529342534951866,\n",
       "  0.00021252520673442632,\n",
       "  0.00023550090554635972,\n",
       "  0.00021022763394284993,\n",
       "  0.0002021861437242478,\n",
       "  0.00023205454635899514,\n",
       "  0.00024124482297338545,\n",
       "  0.00021712033776566386,\n",
       "  0.00015163960051722825,\n",
       "  0.00014359811029862612,\n",
       "  9.649792627897114e-05,\n",
       "  0.00011487848678370938,\n",
       "  5.169531868887134e-05,\n",
       "  4.135625567869283e-05,\n",
       "  4.595139398588799e-05,\n",
       "  4.4802611228078604e-05,\n",
       "  4.595139398588799e-05,\n",
       "  4.135625567869283e-05,\n",
       "  4.4802611228078604e-05,\n",
       "  4.365382483229041e-05],\n",
       " 'val_loss': [232.1569061279297,\n",
       "  194.78363037109375,\n",
       "  172.85049438476562,\n",
       "  166.7159423828125,\n",
       "  151.83587646484375,\n",
       "  147.22860717773438,\n",
       "  141.79910278320312,\n",
       "  139.85511779785156,\n",
       "  142.257080078125,\n",
       "  134.97926330566406,\n",
       "  137.15928649902344,\n",
       "  133.76300048828125,\n",
       "  139.1446990966797,\n",
       "  134.74229431152344,\n",
       "  134.93296813964844,\n",
       "  133.4369354248047,\n",
       "  130.42910766601562,\n",
       "  130.9076385498047,\n",
       "  128.99391174316406,\n",
       "  126.712890625,\n",
       "  125.58157348632812,\n",
       "  126.55892181396484,\n",
       "  125.54521942138672,\n",
       "  120.79100036621094,\n",
       "  122.76571655273438,\n",
       "  121.86847686767578,\n",
       "  119.2652359008789,\n",
       "  121.92444610595703,\n",
       "  120.11772918701172,\n",
       "  112.9349365234375,\n",
       "  113.56886291503906,\n",
       "  113.32109832763672,\n",
       "  112.03205108642578,\n",
       "  112.34822082519531,\n",
       "  115.96752166748047,\n",
       "  110.06199645996094,\n",
       "  108.35856628417969,\n",
       "  108.20947265625,\n",
       "  107.82056427001953,\n",
       "  111.30142211914062,\n",
       "  105.882080078125,\n",
       "  106.19098663330078,\n",
       "  105.61134338378906,\n",
       "  107.95824432373047,\n",
       "  103.77047729492188,\n",
       "  105.3653564453125,\n",
       "  102.49036407470703,\n",
       "  99.51580047607422,\n",
       "  100.31953430175781,\n",
       "  100.84569549560547,\n",
       "  102.43191528320312,\n",
       "  100.48272705078125,\n",
       "  95.66480255126953,\n",
       "  104.13890075683594,\n",
       "  98.21942138671875,\n",
       "  96.95896911621094,\n",
       "  94.39653015136719,\n",
       "  93.44786071777344,\n",
       "  97.06413269042969,\n",
       "  94.2110595703125,\n",
       "  95.32315826416016,\n",
       "  91.40906524658203,\n",
       "  96.73368835449219,\n",
       "  88.01181030273438,\n",
       "  90.18035125732422,\n",
       "  90.61368560791016,\n",
       "  96.07962036132812,\n",
       "  87.37861633300781,\n",
       "  96.85674285888672,\n",
       "  92.16635131835938,\n",
       "  94.51551055908203,\n",
       "  88.25589752197266,\n",
       "  89.382080078125,\n",
       "  85.78949737548828,\n",
       "  89.8420181274414,\n",
       "  90.22534942626953,\n",
       "  91.16703796386719,\n",
       "  88.19801330566406,\n",
       "  90.88706970214844,\n",
       "  92.69918823242188,\n",
       "  87.01036834716797,\n",
       "  85.88241577148438,\n",
       "  87.05037689208984,\n",
       "  84.32713317871094,\n",
       "  88.70166015625,\n",
       "  86.29032135009766,\n",
       "  90.96739959716797,\n",
       "  85.6947021484375,\n",
       "  85.13095092773438,\n",
       "  87.01982116699219,\n",
       "  85.91458129882812,\n",
       "  94.50521087646484,\n",
       "  85.86532592773438,\n",
       "  86.09187316894531,\n",
       "  91.06477355957031,\n",
       "  82.67756652832031,\n",
       "  79.43246459960938,\n",
       "  78.9704360961914,\n",
       "  81.44479370117188,\n",
       "  79.4898910522461],\n",
       " 'val_accuracy': [8.82067542988807e-05,\n",
       "  2.9402252039290033e-05,\n",
       "  0.0001764135085977614,\n",
       "  0.0010878833709284663,\n",
       "  0.0010878833709284663,\n",
       "  0.0010878833709284663,\n",
       "  0.0010878833709284663,\n",
       "  0.0010878833709284663,\n",
       "  0.0010584810515865684,\n",
       "  0.0010878833709284663,\n",
       "  0.0010878833709284663,\n",
       "  0.0010878833709284663,\n",
       "  0.0010878833709284663,\n",
       "  0.0010878833709284663,\n",
       "  0.0010878833709284663,\n",
       "  0.0010878833709284663,\n",
       "  0.0010878833709284663,\n",
       "  0.0010878833709284663,\n",
       "  0.0010878833709284663,\n",
       "  0.0010878833709284663,\n",
       "  0.0010878833709284663,\n",
       "  0.0010878833709284663,\n",
       "  0.0010878833709284663,\n",
       "  0.0010878833709284663,\n",
       "  0.0010878833709284663,\n",
       "  0.0010878833709284663,\n",
       "  0.0010878833709284663,\n",
       "  0.0010878833709284663,\n",
       "  0.0010878833709284663,\n",
       "  0.0010878833709284663,\n",
       "  0.0010878833709284663,\n",
       "  0.0010878833709284663,\n",
       "  0.0010878833709284663,\n",
       "  0.0010878833709284663,\n",
       "  0.0010878833709284663,\n",
       "  0.0010878833709284663,\n",
       "  0.0010878833709284663,\n",
       "  0.0010878833709284663,\n",
       "  2.9402252039290033e-05,\n",
       "  0.0010878833709284663,\n",
       "  0.0009408720652572811,\n",
       "  2.9402252039290033e-05,\n",
       "  0.0010290788486599922,\n",
       "  0.0010290788486599922,\n",
       "  2.9402252039290033e-05,\n",
       "  0.0010290788486599922,\n",
       "  0.0010290788486599922,\n",
       "  0.0010878833709284663,\n",
       "  0.0010878833709284663,\n",
       "  2.9402252039290033e-05,\n",
       "  0.0010878833709284663,\n",
       "  2.9402252039290033e-05,\n",
       "  2.9402252039290033e-05,\n",
       "  0.0010290788486599922,\n",
       "  0.0010878833709284663,\n",
       "  2.9402252039290033e-05,\n",
       "  5.8804504078580067e-05,\n",
       "  0.0010878833709284663,\n",
       "  8.82067542988807e-05,\n",
       "  2.9402252039290033e-05,\n",
       "  5.8804504078580067e-05,\n",
       "  2.9402252039290033e-05,\n",
       "  0.0010878833709284663,\n",
       "  2.9402252039290033e-05,\n",
       "  5.8804504078580067e-05,\n",
       "  5.8804504078580067e-05,\n",
       "  2.9402252039290033e-05,\n",
       "  2.9402252039290033e-05,\n",
       "  2.9402252039290033e-05,\n",
       "  2.9402252039290033e-05,\n",
       "  2.9402252039290033e-05,\n",
       "  0.0010878833709284663,\n",
       "  8.82067542988807e-05,\n",
       "  5.8804504078580067e-05,\n",
       "  2.9402252039290033e-05,\n",
       "  0.0010878833709284663,\n",
       "  2.9402252039290033e-05,\n",
       "  2.9402252039290033e-05,\n",
       "  8.82067542988807e-05,\n",
       "  2.9402252039290033e-05,\n",
       "  2.9402252039290033e-05,\n",
       "  2.9402252039290033e-05,\n",
       "  5.8804504078580067e-05,\n",
       "  2.9402252039290033e-05,\n",
       "  0.0010584810515865684,\n",
       "  0.0010878833709284663,\n",
       "  8.82067542988807e-05,\n",
       "  2.9402252039290033e-05,\n",
       "  0.0010290788486599922,\n",
       "  2.9402252039290033e-05,\n",
       "  2.9402252039290033e-05,\n",
       "  2.9402252039290033e-05,\n",
       "  2.9402252039290033e-05,\n",
       "  2.9402252039290033e-05,\n",
       "  2.9402252039290033e-05,\n",
       "  2.9402252039290033e-05,\n",
       "  2.9402252039290033e-05,\n",
       "  2.9402252039290033e-05,\n",
       "  2.9402252039290033e-05,\n",
       "  2.9402252039290033e-05]}"
      ]
     },
     "execution_count": 51,
     "metadata": {},
     "output_type": "execute_result"
    }
   ],
   "source": [
    "history.history"
   ]
  },
  {
   "cell_type": "code",
   "execution_count": 52,
   "metadata": {},
   "outputs": [
    {
     "name": "stdout",
     "output_type": "stream",
     "text": [
      "INFO:tensorflow:Assets written to: ram:///var/folders/yd/vkjb_lqj2_30lnyhzhjqtg9w0000gp/T/tmp67mt3bd5/assets\n"
     ]
    }
   ],
   "source": [
    "file = model_path+'model_nonzero_32to38_3layer5unit.sav'\n",
    "pickle.dump(model, open(file, 'wb'))"
   ]
  },
  {
   "cell_type": "code",
   "execution_count": null,
   "metadata": {
    "scrolled": true
   },
   "outputs": [],
   "source": [
    "file = model_path+'model_nonzero_32to38.sav'\n",
    "load_model = pickle.load(open(file, 'rb'))\n",
    "result = load_model.evaluate(X_test, y_test)\n",
    "print(result)"
   ]
  },
  {
   "cell_type": "code",
   "execution_count": null,
   "metadata": {},
   "outputs": [],
   "source": []
  },
  {
   "cell_type": "markdown",
   "metadata": {},
   "source": [
    "## Plot"
   ]
  },
  {
   "cell_type": "markdown",
   "metadata": {},
   "source": [
    "### Loss function (MSE)"
   ]
  },
  {
   "cell_type": "code",
   "execution_count": 53,
   "metadata": {
    "scrolled": false
   },
   "outputs": [
    {
     "data": {
      "image/png": "[encoded data removed]",
      "text/plain": [
       "<Figure size 640x480 with 1 Axes>"
      ]
     },
     "metadata": {},
     "output_type": "display_data"
    }
   ],
   "source": [
    "model_df = pd.DataFrame(history.history)\n",
    "model_df[['loss', 'val_loss']].plot()\n",
    "plt.xlabel(\"Number of Epochs\")\n",
    "plt.ylabel(\"Loss\")\n",
    "plt.title(\"Training and Validation Loss Over Training Period\", pad=12);"
   ]
  },
  {
   "cell_type": "markdown",
   "metadata": {},
   "source": [
    "### Accuracy"
   ]
  },
  {
   "cell_type": "code",
   "execution_count": 54,
   "metadata": {},
   "outputs": [
    {
     "data": {
      "image/png": "[encoded data removed]",
      "text/plain": [
       "<Figure size 640x480 with 1 Axes>"
      ]
     },
     "metadata": {},
     "output_type": "display_data"
    }
   ],
   "source": [
    "model_df[['accuracy', 'val_accuracy']].plot()\n",
    "plt.xlabel(\"Number of Epochs\")\n",
    "plt.ylabel(\"Accuracy\")\n",
    "plt.title(\"Training and Validation Accuray Over Training Period\", pad=12);"
   ]
  },
  {
   "cell_type": "markdown",
   "metadata": {},
   "source": [
    "### Theory vs Predict"
   ]
  },
  {
   "cell_type": "code",
   "execution_count": 55,
   "metadata": {
    "scrolled": false
   },
   "outputs": [
    {
     "name": "stdout",
     "output_type": "stream",
     "text": [
      "r: 0.76415, st_er: 0.002494\n",
      "y = 0.5448*x + 4.6419\n"
     ]
    },
    {
     "data": {
      "image/png": "[encoded data removed]",
      "text/plain": [
       "<Figure size 640x480 with 1 Axes>"
      ]
     },
     "metadata": {},
     "output_type": "display_data"
    }
   ],
   "source": [
    "x = y_test.flatten()\n",
    "y = test_pred.flatten()\n",
    "m, b, r, p, st_er = stats.linregress(x,y) \n",
    "\n",
    "yfit = [b + m * xi for xi in x]\n",
    "yisx = [0 + 1 * xi for xi in x]\n",
    "plt.plot(x, yfit)\n",
    "plt.plot(x, yisx)\n",
    "\n",
    "plt.scatter(y_test, test_pred,  color='black')\n",
    "plt.axis([0,100, 0, 100])\n",
    "plt.xlabel(\"Theory (nT)\")\n",
    "plt.ylabel(\"Prediction (nT)\")\n",
    "plt.title(\"Neural Network Prediction vs Theory\", fontsize=15)\n",
    "# print(r, st_er)\n",
    "print(\"r: {:.5f}, st_er: {:.6f}\".format(r, st_er))\n",
    "print(\"y = \"+str(round(m,4))+\"*x + \"+str(round(b,4)))"
   ]
  },
  {
   "cell_type": "markdown",
   "metadata": {},
   "source": [
    "### Physics vs Theory"
   ]
  },
  {
   "cell_type": "code",
   "execution_count": null,
   "metadata": {},
   "outputs": [],
   "source": [
    "df_p = df_physics[(df_physics['exp']==36) & (df_physics['mini_exp']==6)]"
   ]
  },
  {
   "cell_type": "code",
   "execution_count": null,
   "metadata": {},
   "outputs": [],
   "source": [
    "df_p[(df_p['i'] == 31) & (df_p['j'] == 31) & (df_p['k'] == 31) ]"
   ]
  },
  {
   "cell_type": "code",
   "execution_count": null,
   "metadata": {},
   "outputs": [],
   "source": [
    "y_val = df_physics[(df_physics['exp']==36) & (df_physics['mini_exp']==6)]['mean'].values\n",
    "\n",
    "x = y_test.flatten()\n",
    "y = y_val.flatten()\n",
    "m, b, r, p, st_er = stats.linregress(x,y) \n",
    "\n",
    "yfit = [b + m * xi for xi in x]\n",
    "yisx = [0 + 1 * xi for xi in x]\n",
    "plt.plot(x, yfit)\n",
    "plt.plot(x, yisx)\n",
    "\n",
    "plt.scatter(y_test, y_val,  color='black')\n",
    "plt.axis([0,100, 0, 100])\n",
    "plt.xlabel(\"Theory (nT)\")\n",
    "plt.ylabel(\"Physics (nT)\")\n",
    "plt.title(\"Physics vs Theory\", fontsize=15)\n",
    "# print(r, st_er)\n",
    "print(\"r: {:.5f}%, st_er: {:.6f}%\".format(r, st_er))\n",
    "print(\"y = \"+str(round(m,4))+\"*x + \"+str(round(b,4)))"
   ]
  },
  {
   "cell_type": "markdown",
   "metadata": {},
   "source": [
    "### Theory vs Drift correction"
   ]
  },
  {
   "cell_type": "code",
   "execution_count": null,
   "metadata": {},
   "outputs": [],
   "source": [
    "df_p = df_new[(df_new['exp']==36) & (df_new['mini_exp']==6)]"
   ]
  },
  {
   "cell_type": "code",
   "execution_count": null,
   "metadata": {},
   "outputs": [],
   "source": [
    "df_p[(df_p['i'] == 31) & (df_p['j'] == 31) & (df_p['k'] == 31) ]"
   ]
  },
  {
   "cell_type": "code",
   "execution_count": null,
   "metadata": {},
   "outputs": [],
   "source": [
    "y_val = df_new['value'].values\n",
    "\n",
    "x = y_test.flatten()\n",
    "y = y_val.flatten()\n",
    "m, b, r, p, st_er = stats.linregress(x,y) \n",
    "\n",
    "yfit = [b + m * xi for xi in x]\n",
    "yisx = [0 + 1 * xi for xi in x]\n",
    "plt.plot(x, yfit)\n",
    "plt.plot(x, yisx)\n",
    "\n",
    "plt.scatter(y_test, y_val,  color='black')\n",
    "plt.axis([0,100, 0, 100])\n",
    "plt.xlabel(\"Theory (nT)\")\n",
    "plt.ylabel(\"Physics (Drift correction) (nT)\")\n",
    "plt.title(\"Physics (Drift correction) vs Theory\")\n",
    "# print(r, st_er)\n",
    "print(\"r: {:.5f}%, st_er: {:.6f}%\".format(r, st_er))\n",
    "print(\"y = \"+str(round(m,4))+\"*x + \"+str(round(b,4)))"
   ]
  },
  {
   "cell_type": "code",
   "execution_count": null,
   "metadata": {},
   "outputs": [],
   "source": []
  },
  {
   "cell_type": "code",
   "execution_count": null,
   "metadata": {},
   "outputs": [],
   "source": []
  },
  {
   "cell_type": "markdown",
   "metadata": {},
   "source": [
    "### Erode"
   ]
  },
  {
   "cell_type": "markdown",
   "metadata": {},
   "source": [
    "### Physics vs Theory"
   ]
  },
  {
   "cell_type": "code",
   "execution_count": 15,
   "metadata": {},
   "outputs": [
    {
     "name": "stdout",
     "output_type": "stream",
     "text": [
      "r: 0.06228, st_er: 0.023157\n",
      "y = 0.6134*x + -0.4516\n"
     ]
    },
    {
     "data": {
      "image/png": "[encoded data removed]",
      "text/plain": [
       "<Figure size 432x288 with 1 Axes>"
      ]
     },
     "metadata": {
      "needs_background": "light"
     },
     "output_type": "display_data"
    }
   ],
   "source": [
    "xminusy = \"56minus54\" # run 6\n",
    "erode = '1'\n",
    "sub_path = dir_path+\"data/external/R21_36_Cyl_Aqueous/\"\n",
    "cwd = sub_path+\"NIFTI/bmaps_numpy/\"+xminusy+\"/\"\n",
    "img_meas = nib.load(cwd+\"/diff_fmap_Mean_erode\"+erode+\".nii.gz\")\n",
    "img_theo = nib.load(cwd+\"/Bvals_erode\"+erode+\".nii.gz\")\n",
    "\n",
    "data_meas = img_meas.get_data()\n",
    "data_theo = img_theo.get_data()\n",
    "x = data_theo.flatten()\n",
    "y = data_meas.flatten()\n",
    "\n",
    "m, b, r, p, st_er = stats.linregress(x,y) \n",
    "\n",
    "yfit = [b + m * xi for xi in x]\n",
    "yisx = [0 + 1 * xi for xi in x]\n",
    "plt.plot(x, yfit)\n",
    "plt.plot(x, yisx)\n",
    "\n",
    "plt.scatter(x, y,  color='black')\n",
    "plt.axis([0,100, 0, 100])\n",
    "plt.xlabel(\"Theory (nT)\")\n",
    "plt.ylabel(\"Prediction (nT)\")\n",
    "plt.title(\"Physics vs Theory (erode)\", fontsize=15)\n",
    "# print(r, st_er)\n",
    "print(\"r: {:.5f}, st_er: {:.6f}\".format(r, st_er))\n",
    "print(\"y = \"+str(round(m,4))+\"*x + \"+str(round(b,4)))"
   ]
  },
  {
   "cell_type": "code",
   "execution_count": 12,
   "metadata": {},
   "outputs": [
    {
     "data": {
      "text/plain": [
       "'/Users/chikakoolsen/opt/python/thesis/code/tdcs_thesis/data/processed/NIFTI/bmaps_numpy/46minus44/'"
      ]
     },
     "execution_count": 12,
     "metadata": {},
     "output_type": "execute_result"
    }
   ],
   "source": [
    "cwd"
   ]
  },
  {
   "cell_type": "markdown",
   "metadata": {},
   "source": [
    "### Predict vs Theory"
   ]
  },
  {
   "cell_type": "code",
   "execution_count": null,
   "metadata": {
    "scrolled": true
   },
   "outputs": [],
   "source": [
    "img_pred = nib.load(img_path+\"/predicted_nn_nonzero_32to38_3layer5unit_erode.nii.gz\")\n",
    "data_pred = img_pred.get_data()\n",
    "\n",
    "x = data_theo.flatten()\n",
    "y = data_pred.flatten()\n",
    "m, b, r, p, st_er = stats.linregress(x,y) \n",
    "\n",
    "yfit = [b + m * xi for xi in x]\n",
    "yisx = [0 + 1 * xi for xi in x]\n",
    "plt.plot(x, yfit)\n",
    "plt.plot(x, yisx)\n",
    "\n",
    "plt.scatter(x, y,  color='black')\n",
    "plt.axis([0,100, 0, 100])\n",
    "plt.xlabel(\"Theory (nT)\")\n",
    "plt.ylabel(\"Prediction (nT)\")\n",
    "plt.title(\"Neural Network Prediction vs Theory (erode)\", fontsize=15)\n",
    "# print(r, st_er)\n",
    "print(\"r: {:.5f}, st_er: {:.6f}\".format(r, st_er))\n",
    "print(\"y = \"+str(round(m,4))+\"*x + \"+str(round(b,4)))"
   ]
  },
  {
   "cell_type": "markdown",
   "metadata": {},
   "source": [
    "# Output data"
   ]
  },
  {
   "cell_type": "code",
   "execution_count": 57,
   "metadata": {},
   "outputs": [
    {
     "name": "stdout",
     "output_type": "stream",
     "text": [
      "1063/1063 [==============================] - 1s 788us/step\n"
     ]
    }
   ],
   "source": [
    "test_pred = model.predict(X4_pred)"
   ]
  },
  {
   "cell_type": "code",
   "execution_count": 93,
   "metadata": {},
   "outputs": [
    {
     "name": "stderr",
     "output_type": "stream",
     "text": [
      "/var/folders/yd/vkjb_lqj2_30lnyhzhjqtg9w0000gp/T/ipykernel_59995/2364276288.py:1: SettingWithCopyWarning: \n",
      "A value is trying to be set on a copy of a slice from a DataFrame.\n",
      "Try using .loc[row_indexer,col_indexer] = value instead\n",
      "\n",
      "See the caveats in the documentation: https://pandas.pydata.org/pandas-docs/stable/user_guide/indexing.html#returning-a-view-versus-a-copy\n",
      "  df4_pred['predict'] = test_pred\n"
     ]
    }
   ],
   "source": [
    "df4_pred['predict'] = test_pred"
   ]
  },
  {
   "cell_type": "code",
   "execution_count": 58,
   "metadata": {},
   "outputs": [
    {
     "data": {
      "text/html": [
       "<div>\n",
       "<style scoped>\n",
       "    .dataframe tbody tr th:only-of-type {\n",
       "        vertical-align: middle;\n",
       "    }\n",
       "\n",
       "    .dataframe tbody tr th {\n",
       "        vertical-align: top;\n",
       "    }\n",
       "\n",
       "    .dataframe thead th {\n",
       "        text-align: right;\n",
       "    }\n",
       "</style>\n",
       "<table border=\"1\" class=\"dataframe\">\n",
       "  <thead>\n",
       "    <tr style=\"text-align: right;\">\n",
       "      <th></th>\n",
       "      <th>exp</th>\n",
       "      <th>mini_exp</th>\n",
       "      <th>i</th>\n",
       "      <th>j</th>\n",
       "      <th>k</th>\n",
       "      <th>mean0</th>\n",
       "      <th>mean1</th>\n",
       "      <th>mean2</th>\n",
       "      <th>mean3</th>\n",
       "      <th>mean4</th>\n",
       "      <th>theory</th>\n",
       "      <th>predict</th>\n",
       "    </tr>\n",
       "  </thead>\n",
       "  <tbody>\n",
       "    <tr>\n",
       "      <th>931880</th>\n",
       "      <td>36</td>\n",
       "      <td>6</td>\n",
       "      <td>7</td>\n",
       "      <td>32</td>\n",
       "      <td>40</td>\n",
       "      <td>-183.593781</td>\n",
       "      <td>-184.268631</td>\n",
       "      <td>-199.538742</td>\n",
       "      <td>-215.528793</td>\n",
       "      <td>-215.355865</td>\n",
       "      <td>4.988159</td>\n",
       "      <td>7.268236</td>\n",
       "    </tr>\n",
       "    <tr>\n",
       "      <th>931881</th>\n",
       "      <td>36</td>\n",
       "      <td>6</td>\n",
       "      <td>7</td>\n",
       "      <td>32</td>\n",
       "      <td>41</td>\n",
       "      <td>-383.761566</td>\n",
       "      <td>-383.066467</td>\n",
       "      <td>-395.916077</td>\n",
       "      <td>-417.522858</td>\n",
       "      <td>-420.110077</td>\n",
       "      <td>4.591202</td>\n",
       "      <td>7.256881</td>\n",
       "    </tr>\n",
       "    <tr>\n",
       "      <th>931882</th>\n",
       "      <td>36</td>\n",
       "      <td>6</td>\n",
       "      <td>7</td>\n",
       "      <td>32</td>\n",
       "      <td>42</td>\n",
       "      <td>-779.052185</td>\n",
       "      <td>-785.270813</td>\n",
       "      <td>-803.943787</td>\n",
       "      <td>-811.441101</td>\n",
       "      <td>-799.951233</td>\n",
       "      <td>4.237324</td>\n",
       "      <td>3.528872</td>\n",
       "    </tr>\n",
       "    <tr>\n",
       "      <th>931883</th>\n",
       "      <td>36</td>\n",
       "      <td>6</td>\n",
       "      <td>7</td>\n",
       "      <td>32</td>\n",
       "      <td>43</td>\n",
       "      <td>-1017.557312</td>\n",
       "      <td>-1026.294189</td>\n",
       "      <td>-1037.133667</td>\n",
       "      <td>-1050.012451</td>\n",
       "      <td>-1046.674072</td>\n",
       "      <td>3.918999</td>\n",
       "      <td>3.528872</td>\n",
       "    </tr>\n",
       "    <tr>\n",
       "      <th>931919</th>\n",
       "      <td>36</td>\n",
       "      <td>6</td>\n",
       "      <td>7</td>\n",
       "      <td>33</td>\n",
       "      <td>15</td>\n",
       "      <td>-1508.948120</td>\n",
       "      <td>-1513.032471</td>\n",
       "      <td>-1527.041992</td>\n",
       "      <td>-1536.478027</td>\n",
       "      <td>-1540.133301</td>\n",
       "      <td>3.371496</td>\n",
       "      <td>3.922677</td>\n",
       "    </tr>\n",
       "    <tr>\n",
       "      <th>...</th>\n",
       "      <td>...</td>\n",
       "      <td>...</td>\n",
       "      <td>...</td>\n",
       "      <td>...</td>\n",
       "      <td>...</td>\n",
       "      <td>...</td>\n",
       "      <td>...</td>\n",
       "      <td>...</td>\n",
       "      <td>...</td>\n",
       "      <td>...</td>\n",
       "      <td>...</td>\n",
       "      <td>...</td>\n",
       "    </tr>\n",
       "    <tr>\n",
       "      <th>1050968</th>\n",
       "      <td>36</td>\n",
       "      <td>6</td>\n",
       "      <td>36</td>\n",
       "      <td>37</td>\n",
       "      <td>24</td>\n",
       "      <td>-27.330389</td>\n",
       "      <td>-28.598026</td>\n",
       "      <td>-46.617607</td>\n",
       "      <td>-59.281792</td>\n",
       "      <td>-58.657875</td>\n",
       "      <td>7.175758</td>\n",
       "      <td>6.119306</td>\n",
       "    </tr>\n",
       "    <tr>\n",
       "      <th>1050979</th>\n",
       "      <td>36</td>\n",
       "      <td>6</td>\n",
       "      <td>36</td>\n",
       "      <td>37</td>\n",
       "      <td>35</td>\n",
       "      <td>171.250366</td>\n",
       "      <td>175.768433</td>\n",
       "      <td>151.715485</td>\n",
       "      <td>130.792816</td>\n",
       "      <td>139.797287</td>\n",
       "      <td>8.527348</td>\n",
       "      <td>11.999338</td>\n",
       "    </tr>\n",
       "    <tr>\n",
       "      <th>1050982</th>\n",
       "      <td>36</td>\n",
       "      <td>6</td>\n",
       "      <td>36</td>\n",
       "      <td>37</td>\n",
       "      <td>38</td>\n",
       "      <td>-96.352455</td>\n",
       "      <td>-94.962585</td>\n",
       "      <td>-115.256683</td>\n",
       "      <td>-131.555984</td>\n",
       "      <td>-127.650993</td>\n",
       "      <td>6.039019</td>\n",
       "      <td>9.579826</td>\n",
       "    </tr>\n",
       "    <tr>\n",
       "      <th>1050983</th>\n",
       "      <td>36</td>\n",
       "      <td>6</td>\n",
       "      <td>36</td>\n",
       "      <td>37</td>\n",
       "      <td>39</td>\n",
       "      <td>-235.110947</td>\n",
       "      <td>-235.878754</td>\n",
       "      <td>-253.580444</td>\n",
       "      <td>-268.104340</td>\n",
       "      <td>-266.388824</td>\n",
       "      <td>5.501382</td>\n",
       "      <td>7.683246</td>\n",
       "    </tr>\n",
       "    <tr>\n",
       "      <th>1051039</th>\n",
       "      <td>36</td>\n",
       "      <td>6</td>\n",
       "      <td>36</td>\n",
       "      <td>38</td>\n",
       "      <td>31</td>\n",
       "      <td>598.718323</td>\n",
       "      <td>657.307373</td>\n",
       "      <td>578.832947</td>\n",
       "      <td>494.954071</td>\n",
       "      <td>569.023071</td>\n",
       "      <td>33.141899</td>\n",
       "      <td>72.998390</td>\n",
       "    </tr>\n",
       "  </tbody>\n",
       "</table>\n",
       "<p>34012 rows × 12 columns</p>\n",
       "</div>"
      ],
      "text/plain": [
       "         exp  mini_exp   i   j   k        mean0        mean1        mean2  \\\n",
       "931880    36         6   7  32  40  -183.593781  -184.268631  -199.538742   \n",
       "931881    36         6   7  32  41  -383.761566  -383.066467  -395.916077   \n",
       "931882    36         6   7  32  42  -779.052185  -785.270813  -803.943787   \n",
       "931883    36         6   7  32  43 -1017.557312 -1026.294189 -1037.133667   \n",
       "931919    36         6   7  33  15 -1508.948120 -1513.032471 -1527.041992   \n",
       "...      ...       ...  ..  ..  ..          ...          ...          ...   \n",
       "1050968   36         6  36  37  24   -27.330389   -28.598026   -46.617607   \n",
       "1050979   36         6  36  37  35   171.250366   175.768433   151.715485   \n",
       "1050982   36         6  36  37  38   -96.352455   -94.962585  -115.256683   \n",
       "1050983   36         6  36  37  39  -235.110947  -235.878754  -253.580444   \n",
       "1051039   36         6  36  38  31   598.718323   657.307373   578.832947   \n",
       "\n",
       "               mean3        mean4     theory    predict  \n",
       "931880   -215.528793  -215.355865   4.988159   7.268236  \n",
       "931881   -417.522858  -420.110077   4.591202   7.256881  \n",
       "931882   -811.441101  -799.951233   4.237324   3.528872  \n",
       "931883  -1050.012451 -1046.674072   3.918999   3.528872  \n",
       "931919  -1536.478027 -1540.133301   3.371496   3.922677  \n",
       "...              ...          ...        ...        ...  \n",
       "1050968   -59.281792   -58.657875   7.175758   6.119306  \n",
       "1050979   130.792816   139.797287   8.527348  11.999338  \n",
       "1050982  -131.555984  -127.650993   6.039019   9.579826  \n",
       "1050983  -268.104340  -266.388824   5.501382   7.683246  \n",
       "1051039   494.954071   569.023071  33.141899  72.998390  \n",
       "\n",
       "[34012 rows x 12 columns]"
      ]
     },
     "execution_count": 58,
     "metadata": {},
     "output_type": "execute_result"
    }
   ],
   "source": [
    "df4_pred"
   ]
  },
  {
   "cell_type": "code",
   "execution_count": 59,
   "metadata": {},
   "outputs": [
    {
     "data": {
      "text/html": [
       "<div>\n",
       "<style scoped>\n",
       "    .dataframe tbody tr th:only-of-type {\n",
       "        vertical-align: middle;\n",
       "    }\n",
       "\n",
       "    .dataframe tbody tr th {\n",
       "        vertical-align: top;\n",
       "    }\n",
       "\n",
       "    .dataframe thead th {\n",
       "        text-align: right;\n",
       "    }\n",
       "</style>\n",
       "<table border=\"1\" class=\"dataframe\">\n",
       "  <thead>\n",
       "    <tr style=\"text-align: right;\">\n",
       "      <th></th>\n",
       "      <th>exp</th>\n",
       "      <th>mini_exp</th>\n",
       "      <th>i</th>\n",
       "      <th>j</th>\n",
       "      <th>k</th>\n",
       "      <th>mean0</th>\n",
       "      <th>mean1</th>\n",
       "      <th>mean2</th>\n",
       "      <th>mean3</th>\n",
       "      <th>mean4</th>\n",
       "      <th>theory</th>\n",
       "      <th>predict</th>\n",
       "    </tr>\n",
       "  </thead>\n",
       "  <tbody>\n",
       "    <tr>\n",
       "      <th>901120</th>\n",
       "      <td>36</td>\n",
       "      <td>6</td>\n",
       "      <td>0</td>\n",
       "      <td>0</td>\n",
       "      <td>0</td>\n",
       "      <td>0.0</td>\n",
       "      <td>0.0</td>\n",
       "      <td>0.0</td>\n",
       "      <td>0.0</td>\n",
       "      <td>0.0</td>\n",
       "      <td>0.0</td>\n",
       "      <td>0.0</td>\n",
       "    </tr>\n",
       "    <tr>\n",
       "      <th>901121</th>\n",
       "      <td>36</td>\n",
       "      <td>6</td>\n",
       "      <td>0</td>\n",
       "      <td>0</td>\n",
       "      <td>1</td>\n",
       "      <td>0.0</td>\n",
       "      <td>0.0</td>\n",
       "      <td>0.0</td>\n",
       "      <td>0.0</td>\n",
       "      <td>0.0</td>\n",
       "      <td>0.0</td>\n",
       "      <td>0.0</td>\n",
       "    </tr>\n",
       "    <tr>\n",
       "      <th>901122</th>\n",
       "      <td>36</td>\n",
       "      <td>6</td>\n",
       "      <td>0</td>\n",
       "      <td>0</td>\n",
       "      <td>2</td>\n",
       "      <td>0.0</td>\n",
       "      <td>0.0</td>\n",
       "      <td>0.0</td>\n",
       "      <td>0.0</td>\n",
       "      <td>0.0</td>\n",
       "      <td>0.0</td>\n",
       "      <td>0.0</td>\n",
       "    </tr>\n",
       "    <tr>\n",
       "      <th>901123</th>\n",
       "      <td>36</td>\n",
       "      <td>6</td>\n",
       "      <td>0</td>\n",
       "      <td>0</td>\n",
       "      <td>3</td>\n",
       "      <td>0.0</td>\n",
       "      <td>0.0</td>\n",
       "      <td>0.0</td>\n",
       "      <td>0.0</td>\n",
       "      <td>0.0</td>\n",
       "      <td>0.0</td>\n",
       "      <td>0.0</td>\n",
       "    </tr>\n",
       "    <tr>\n",
       "      <th>901124</th>\n",
       "      <td>36</td>\n",
       "      <td>6</td>\n",
       "      <td>0</td>\n",
       "      <td>0</td>\n",
       "      <td>4</td>\n",
       "      <td>0.0</td>\n",
       "      <td>0.0</td>\n",
       "      <td>0.0</td>\n",
       "      <td>0.0</td>\n",
       "      <td>0.0</td>\n",
       "      <td>0.0</td>\n",
       "      <td>0.0</td>\n",
       "    </tr>\n",
       "    <tr>\n",
       "      <th>...</th>\n",
       "      <td>...</td>\n",
       "      <td>...</td>\n",
       "      <td>...</td>\n",
       "      <td>...</td>\n",
       "      <td>...</td>\n",
       "      <td>...</td>\n",
       "      <td>...</td>\n",
       "      <td>...</td>\n",
       "      <td>...</td>\n",
       "      <td>...</td>\n",
       "      <td>...</td>\n",
       "      <td>...</td>\n",
       "    </tr>\n",
       "    <tr>\n",
       "      <th>1081339</th>\n",
       "      <td>36</td>\n",
       "      <td>6</td>\n",
       "      <td>43</td>\n",
       "      <td>63</td>\n",
       "      <td>59</td>\n",
       "      <td>0.0</td>\n",
       "      <td>0.0</td>\n",
       "      <td>0.0</td>\n",
       "      <td>0.0</td>\n",
       "      <td>0.0</td>\n",
       "      <td>0.0</td>\n",
       "      <td>0.0</td>\n",
       "    </tr>\n",
       "    <tr>\n",
       "      <th>1081340</th>\n",
       "      <td>36</td>\n",
       "      <td>6</td>\n",
       "      <td>43</td>\n",
       "      <td>63</td>\n",
       "      <td>60</td>\n",
       "      <td>0.0</td>\n",
       "      <td>0.0</td>\n",
       "      <td>0.0</td>\n",
       "      <td>0.0</td>\n",
       "      <td>0.0</td>\n",
       "      <td>0.0</td>\n",
       "      <td>0.0</td>\n",
       "    </tr>\n",
       "    <tr>\n",
       "      <th>1081341</th>\n",
       "      <td>36</td>\n",
       "      <td>6</td>\n",
       "      <td>43</td>\n",
       "      <td>63</td>\n",
       "      <td>61</td>\n",
       "      <td>0.0</td>\n",
       "      <td>0.0</td>\n",
       "      <td>0.0</td>\n",
       "      <td>0.0</td>\n",
       "      <td>0.0</td>\n",
       "      <td>0.0</td>\n",
       "      <td>0.0</td>\n",
       "    </tr>\n",
       "    <tr>\n",
       "      <th>1081342</th>\n",
       "      <td>36</td>\n",
       "      <td>6</td>\n",
       "      <td>43</td>\n",
       "      <td>63</td>\n",
       "      <td>62</td>\n",
       "      <td>0.0</td>\n",
       "      <td>0.0</td>\n",
       "      <td>0.0</td>\n",
       "      <td>0.0</td>\n",
       "      <td>0.0</td>\n",
       "      <td>0.0</td>\n",
       "      <td>0.0</td>\n",
       "    </tr>\n",
       "    <tr>\n",
       "      <th>1081343</th>\n",
       "      <td>36</td>\n",
       "      <td>6</td>\n",
       "      <td>43</td>\n",
       "      <td>63</td>\n",
       "      <td>63</td>\n",
       "      <td>0.0</td>\n",
       "      <td>0.0</td>\n",
       "      <td>0.0</td>\n",
       "      <td>0.0</td>\n",
       "      <td>0.0</td>\n",
       "      <td>0.0</td>\n",
       "      <td>0.0</td>\n",
       "    </tr>\n",
       "  </tbody>\n",
       "</table>\n",
       "<p>180224 rows × 12 columns</p>\n",
       "</div>"
      ],
      "text/plain": [
       "         exp  mini_exp   i   j   k  mean0  mean1  mean2  mean3  mean4  theory  \\\n",
       "901120    36         6   0   0   0    0.0    0.0    0.0    0.0    0.0     0.0   \n",
       "901121    36         6   0   0   1    0.0    0.0    0.0    0.0    0.0     0.0   \n",
       "901122    36         6   0   0   2    0.0    0.0    0.0    0.0    0.0     0.0   \n",
       "901123    36         6   0   0   3    0.0    0.0    0.0    0.0    0.0     0.0   \n",
       "901124    36         6   0   0   4    0.0    0.0    0.0    0.0    0.0     0.0   \n",
       "...      ...       ...  ..  ..  ..    ...    ...    ...    ...    ...     ...   \n",
       "1081339   36         6  43  63  59    0.0    0.0    0.0    0.0    0.0     0.0   \n",
       "1081340   36         6  43  63  60    0.0    0.0    0.0    0.0    0.0     0.0   \n",
       "1081341   36         6  43  63  61    0.0    0.0    0.0    0.0    0.0     0.0   \n",
       "1081342   36         6  43  63  62    0.0    0.0    0.0    0.0    0.0     0.0   \n",
       "1081343   36         6  43  63  63    0.0    0.0    0.0    0.0    0.0     0.0   \n",
       "\n",
       "         predict  \n",
       "901120       0.0  \n",
       "901121       0.0  \n",
       "901122       0.0  \n",
       "901123       0.0  \n",
       "901124       0.0  \n",
       "...          ...  \n",
       "1081339      0.0  \n",
       "1081340      0.0  \n",
       "1081341      0.0  \n",
       "1081342      0.0  \n",
       "1081343      0.0  \n",
       "\n",
       "[180224 rows x 12 columns]"
      ]
     },
     "execution_count": 59,
     "metadata": {},
     "output_type": "execute_result"
    }
   ],
   "source": [
    "df_test"
   ]
  },
  {
   "cell_type": "code",
   "execution_count": 60,
   "metadata": {},
   "outputs": [
    {
     "name": "stderr",
     "output_type": "stream",
     "text": [
      "/var/folders/yd/vkjb_lqj2_30lnyhzhjqtg9w0000gp/T/ipykernel_84582/3257651465.py:1: SettingWithCopyWarning: \n",
      "A value is trying to be set on a copy of a slice from a DataFrame.\n",
      "Try using .loc[row_indexer,col_indexer] = value instead\n",
      "\n",
      "See the caveats in the documentation: https://pandas.pydata.org/pandas-docs/stable/user_guide/indexing.html#returning-a-view-versus-a-copy\n",
      "  df_test['predict'] = 0.00\n"
     ]
    }
   ],
   "source": [
    "df_test['predict'] = 0.00"
   ]
  },
  {
   "cell_type": "code",
   "execution_count": 61,
   "metadata": {},
   "outputs": [],
   "source": [
    "df_out = df_test[['i', 'j', 'k', 'predict']]\n",
    "df_pre = df4_pred[['i', 'j', 'k', 'predict']]"
   ]
  },
  {
   "cell_type": "code",
   "execution_count": 62,
   "metadata": {},
   "outputs": [
    {
     "name": "stdout",
     "output_type": "stream",
     "text": [
      "<class 'pandas.core.frame.DataFrame'>\n",
      "Int64Index: 180224 entries, 901120 to 1081343\n",
      "Data columns (total 4 columns):\n",
      " #   Column   Non-Null Count   Dtype  \n",
      "---  ------   --------------   -----  \n",
      " 0   i        180224 non-null  int64  \n",
      " 1   j        180224 non-null  int64  \n",
      " 2   k        180224 non-null  int64  \n",
      " 3   predict  180224 non-null  float64\n",
      "dtypes: float64(1), int64(3)\n",
      "memory usage: 10.9 MB\n"
     ]
    }
   ],
   "source": [
    "df_out.info()"
   ]
  },
  {
   "cell_type": "code",
   "execution_count": 63,
   "metadata": {},
   "outputs": [],
   "source": [
    "for x in range(len(df_pre)):\n",
    "    i = df_pre.iloc[x, :]['i'].astype(int)\n",
    "    j = df_pre.iloc[x, :]['j'].astype(int)\n",
    "    k = df_pre.iloc[x, :]['k'].astype(int)\n",
    "    pred = df_pre.iloc[x, :]['predict']\n",
    "    idx = df_out[(df_out['i']==i) & (df_out['j']==j) & (df_out['k']==k)].index\n",
    "    df_out.loc[idx, 'predict']= pred"
   ]
  },
  {
   "cell_type": "code",
   "execution_count": 64,
   "metadata": {},
   "outputs": [
    {
     "data": {
      "text/html": [
       "<div>\n",
       "<style scoped>\n",
       "    .dataframe tbody tr th:only-of-type {\n",
       "        vertical-align: middle;\n",
       "    }\n",
       "\n",
       "    .dataframe tbody tr th {\n",
       "        vertical-align: top;\n",
       "    }\n",
       "\n",
       "    .dataframe thead th {\n",
       "        text-align: right;\n",
       "    }\n",
       "</style>\n",
       "<table border=\"1\" class=\"dataframe\">\n",
       "  <thead>\n",
       "    <tr style=\"text-align: right;\">\n",
       "      <th></th>\n",
       "      <th>i</th>\n",
       "      <th>j</th>\n",
       "      <th>k</th>\n",
       "      <th>predict</th>\n",
       "    </tr>\n",
       "  </thead>\n",
       "  <tbody>\n",
       "    <tr>\n",
       "      <th>931880</th>\n",
       "      <td>7</td>\n",
       "      <td>32</td>\n",
       "      <td>40</td>\n",
       "      <td>7.268236</td>\n",
       "    </tr>\n",
       "    <tr>\n",
       "      <th>931881</th>\n",
       "      <td>7</td>\n",
       "      <td>32</td>\n",
       "      <td>41</td>\n",
       "      <td>7.256881</td>\n",
       "    </tr>\n",
       "    <tr>\n",
       "      <th>931882</th>\n",
       "      <td>7</td>\n",
       "      <td>32</td>\n",
       "      <td>42</td>\n",
       "      <td>3.528872</td>\n",
       "    </tr>\n",
       "    <tr>\n",
       "      <th>931883</th>\n",
       "      <td>7</td>\n",
       "      <td>32</td>\n",
       "      <td>43</td>\n",
       "      <td>3.528872</td>\n",
       "    </tr>\n",
       "    <tr>\n",
       "      <th>931919</th>\n",
       "      <td>7</td>\n",
       "      <td>33</td>\n",
       "      <td>15</td>\n",
       "      <td>3.922677</td>\n",
       "    </tr>\n",
       "    <tr>\n",
       "      <th>...</th>\n",
       "      <td>...</td>\n",
       "      <td>...</td>\n",
       "      <td>...</td>\n",
       "      <td>...</td>\n",
       "    </tr>\n",
       "    <tr>\n",
       "      <th>1050968</th>\n",
       "      <td>36</td>\n",
       "      <td>37</td>\n",
       "      <td>24</td>\n",
       "      <td>6.119306</td>\n",
       "    </tr>\n",
       "    <tr>\n",
       "      <th>1050979</th>\n",
       "      <td>36</td>\n",
       "      <td>37</td>\n",
       "      <td>35</td>\n",
       "      <td>11.999338</td>\n",
       "    </tr>\n",
       "    <tr>\n",
       "      <th>1050982</th>\n",
       "      <td>36</td>\n",
       "      <td>37</td>\n",
       "      <td>38</td>\n",
       "      <td>9.579826</td>\n",
       "    </tr>\n",
       "    <tr>\n",
       "      <th>1050983</th>\n",
       "      <td>36</td>\n",
       "      <td>37</td>\n",
       "      <td>39</td>\n",
       "      <td>7.683246</td>\n",
       "    </tr>\n",
       "    <tr>\n",
       "      <th>1051039</th>\n",
       "      <td>36</td>\n",
       "      <td>38</td>\n",
       "      <td>31</td>\n",
       "      <td>72.998390</td>\n",
       "    </tr>\n",
       "  </tbody>\n",
       "</table>\n",
       "<p>34012 rows × 4 columns</p>\n",
       "</div>"
      ],
      "text/plain": [
       "          i   j   k    predict\n",
       "931880    7  32  40   7.268236\n",
       "931881    7  32  41   7.256881\n",
       "931882    7  32  42   3.528872\n",
       "931883    7  32  43   3.528872\n",
       "931919    7  33  15   3.922677\n",
       "...      ..  ..  ..        ...\n",
       "1050968  36  37  24   6.119306\n",
       "1050979  36  37  35  11.999338\n",
       "1050982  36  37  38   9.579826\n",
       "1050983  36  37  39   7.683246\n",
       "1051039  36  38  31  72.998390\n",
       "\n",
       "[34012 rows x 4 columns]"
      ]
     },
     "execution_count": 64,
     "metadata": {},
     "output_type": "execute_result"
    }
   ],
   "source": [
    "df_pre"
   ]
  },
  {
   "cell_type": "code",
   "execution_count": 65,
   "metadata": {},
   "outputs": [
    {
     "data": {
      "text/html": [
       "<div>\n",
       "<style scoped>\n",
       "    .dataframe tbody tr th:only-of-type {\n",
       "        vertical-align: middle;\n",
       "    }\n",
       "\n",
       "    .dataframe tbody tr th {\n",
       "        vertical-align: top;\n",
       "    }\n",
       "\n",
       "    .dataframe thead th {\n",
       "        text-align: right;\n",
       "    }\n",
       "</style>\n",
       "<table border=\"1\" class=\"dataframe\">\n",
       "  <thead>\n",
       "    <tr style=\"text-align: right;\">\n",
       "      <th></th>\n",
       "      <th>i</th>\n",
       "      <th>j</th>\n",
       "      <th>k</th>\n",
       "      <th>predict</th>\n",
       "    </tr>\n",
       "  </thead>\n",
       "  <tbody>\n",
       "    <tr>\n",
       "      <th>931880</th>\n",
       "      <td>7</td>\n",
       "      <td>32</td>\n",
       "      <td>40</td>\n",
       "      <td>7.268236</td>\n",
       "    </tr>\n",
       "  </tbody>\n",
       "</table>\n",
       "</div>"
      ],
      "text/plain": [
       "        i   j   k   predict\n",
       "931880  7  32  40  7.268236"
      ]
     },
     "execution_count": 65,
     "metadata": {},
     "output_type": "execute_result"
    }
   ],
   "source": [
    "df_out[(df_out['i']==7) & (df_out['j']==32) & (df_out['k']==40)]"
   ]
  },
  {
   "cell_type": "code",
   "execution_count": 66,
   "metadata": {},
   "outputs": [
    {
     "data": {
      "text/html": [
       "<div>\n",
       "<style scoped>\n",
       "    .dataframe tbody tr th:only-of-type {\n",
       "        vertical-align: middle;\n",
       "    }\n",
       "\n",
       "    .dataframe tbody tr th {\n",
       "        vertical-align: top;\n",
       "    }\n",
       "\n",
       "    .dataframe thead th {\n",
       "        text-align: right;\n",
       "    }\n",
       "</style>\n",
       "<table border=\"1\" class=\"dataframe\">\n",
       "  <thead>\n",
       "    <tr style=\"text-align: right;\">\n",
       "      <th></th>\n",
       "      <th>i</th>\n",
       "      <th>j</th>\n",
       "      <th>k</th>\n",
       "      <th>predict</th>\n",
       "    </tr>\n",
       "  </thead>\n",
       "  <tbody>\n",
       "    <tr>\n",
       "      <th>901120</th>\n",
       "      <td>0</td>\n",
       "      <td>0</td>\n",
       "      <td>0</td>\n",
       "      <td>0.0</td>\n",
       "    </tr>\n",
       "    <tr>\n",
       "      <th>901121</th>\n",
       "      <td>0</td>\n",
       "      <td>0</td>\n",
       "      <td>1</td>\n",
       "      <td>0.0</td>\n",
       "    </tr>\n",
       "    <tr>\n",
       "      <th>901122</th>\n",
       "      <td>0</td>\n",
       "      <td>0</td>\n",
       "      <td>2</td>\n",
       "      <td>0.0</td>\n",
       "    </tr>\n",
       "    <tr>\n",
       "      <th>901123</th>\n",
       "      <td>0</td>\n",
       "      <td>0</td>\n",
       "      <td>3</td>\n",
       "      <td>0.0</td>\n",
       "    </tr>\n",
       "    <tr>\n",
       "      <th>901124</th>\n",
       "      <td>0</td>\n",
       "      <td>0</td>\n",
       "      <td>4</td>\n",
       "      <td>0.0</td>\n",
       "    </tr>\n",
       "    <tr>\n",
       "      <th>...</th>\n",
       "      <td>...</td>\n",
       "      <td>...</td>\n",
       "      <td>...</td>\n",
       "      <td>...</td>\n",
       "    </tr>\n",
       "    <tr>\n",
       "      <th>1081339</th>\n",
       "      <td>43</td>\n",
       "      <td>63</td>\n",
       "      <td>59</td>\n",
       "      <td>0.0</td>\n",
       "    </tr>\n",
       "    <tr>\n",
       "      <th>1081340</th>\n",
       "      <td>43</td>\n",
       "      <td>63</td>\n",
       "      <td>60</td>\n",
       "      <td>0.0</td>\n",
       "    </tr>\n",
       "    <tr>\n",
       "      <th>1081341</th>\n",
       "      <td>43</td>\n",
       "      <td>63</td>\n",
       "      <td>61</td>\n",
       "      <td>0.0</td>\n",
       "    </tr>\n",
       "    <tr>\n",
       "      <th>1081342</th>\n",
       "      <td>43</td>\n",
       "      <td>63</td>\n",
       "      <td>62</td>\n",
       "      <td>0.0</td>\n",
       "    </tr>\n",
       "    <tr>\n",
       "      <th>1081343</th>\n",
       "      <td>43</td>\n",
       "      <td>63</td>\n",
       "      <td>63</td>\n",
       "      <td>0.0</td>\n",
       "    </tr>\n",
       "  </tbody>\n",
       "</table>\n",
       "<p>180224 rows × 4 columns</p>\n",
       "</div>"
      ],
      "text/plain": [
       "          i   j   k  predict\n",
       "901120    0   0   0      0.0\n",
       "901121    0   0   1      0.0\n",
       "901122    0   0   2      0.0\n",
       "901123    0   0   3      0.0\n",
       "901124    0   0   4      0.0\n",
       "...      ..  ..  ..      ...\n",
       "1081339  43  63  59      0.0\n",
       "1081340  43  63  60      0.0\n",
       "1081341  43  63  61      0.0\n",
       "1081342  43  63  62      0.0\n",
       "1081343  43  63  63      0.0\n",
       "\n",
       "[180224 rows x 4 columns]"
      ]
     },
     "execution_count": 66,
     "metadata": {},
     "output_type": "execute_result"
    }
   ],
   "source": [
    "df_out"
   ]
  },
  {
   "cell_type": "code",
   "execution_count": 67,
   "metadata": {},
   "outputs": [],
   "source": [
    "np.savetxt(img_path+\"nn_nonzero_32to38_3layer5unit.txt\", df_out[['i', 'j', 'k', 'predict']], fmt=\"%i %i %i %s\")"
   ]
  },
  {
   "cell_type": "code",
   "execution_count": null,
   "metadata": {},
   "outputs": [],
   "source": []
  },
  {
   "cell_type": "markdown",
   "metadata": {},
   "source": [
    "# Play Ground"
   ]
  },
  {
   "cell_type": "markdown",
   "metadata": {},
   "source": [
    "# Compare each dataset"
   ]
  },
  {
   "cell_type": "markdown",
   "metadata": {},
   "source": [
    "## Data1: fmap means all experiments"
   ]
  },
  {
   "cell_type": "code",
   "execution_count": 176,
   "metadata": {},
   "outputs": [],
   "source": [
    "X_train = X1_train\n",
    "y_train = y1_train\n",
    "X_test = X1_test\n",
    "y_test = y1_test"
   ]
  },
  {
   "cell_type": "code",
   "execution_count": 177,
   "metadata": {},
   "outputs": [],
   "source": [
    "model = keras.Sequential()\n",
    "model.add(Dense(10, activation='relu', input_shape=[len(X_train[0])]))\n",
    "model.add(Dense(10, activation='relu'))\n",
    "model.add(Dense(10, activation='relu'))\n",
    "model.add(Dense(1))\n",
    "#\n",
    "model.compile(optimizer= 'adam', loss='mse', metrics=['accuracy'])\n",
    "history = model.fit(X_train, y_train, epochs=20, verbose=0, validation_data=[X_test, y_test])"
   ]
  },
  {
   "cell_type": "code",
   "execution_count": 178,
   "metadata": {},
   "outputs": [
    {
     "name": "stdout",
     "output_type": "stream",
     "text": [
      "70964/70964 [==============================] - 54s 761us/step\n",
      "30.170082550978588\n",
      "30413/30413 [==============================] - 25s 830us/step\n",
      "37.97403427399727\n"
     ]
    }
   ],
   "source": [
    "train_pred = model.predict(X_train)\n",
    "print(mse(train_pred, y_train))\n",
    "test_pred = model.predict(X_test)\n",
    "print(mse(test_pred, y_test))"
   ]
  },
  {
   "cell_type": "code",
   "execution_count": 179,
   "metadata": {},
   "outputs": [
    {
     "data": {
      "text/plain": [
       "0.5055974148648721"
      ]
     },
     "execution_count": 179,
     "metadata": {},
     "output_type": "execute_result"
    }
   ],
   "source": [
    "r2_score(y_test, test_pred)"
   ]
  },
  {
   "cell_type": "code",
   "execution_count": 180,
   "metadata": {},
   "outputs": [
    {
     "name": "stdout",
     "output_type": "stream",
     "text": [
      "30413/30413 [==============================] - 25s 811us/step - loss: 37.9739 - accuracy: 0.8084\n"
     ]
    },
    {
     "data": {
      "text/plain": [
       "[37.97385787963867, 0.8083938956260681]"
      ]
     },
     "execution_count": 180,
     "metadata": {},
     "output_type": "execute_result"
    }
   ],
   "source": [
    "model.evaluate(X_test, y_test)"
   ]
  },
  {
   "cell_type": "code",
   "execution_count": 181,
   "metadata": {},
   "outputs": [
    {
     "name": "stdout",
     "output_type": "stream",
     "text": [
      "Model: \"sequential_11\"\n",
      "_________________________________________________________________\n",
      " Layer (type)                Output Shape              Param #   \n",
      "=================================================================\n",
      " dense_36 (Dense)            (None, 10)                60        \n",
      "                                                                 \n",
      " dense_37 (Dense)            (None, 10)                110       \n",
      "                                                                 \n",
      " dense_38 (Dense)            (None, 10)                110       \n",
      "                                                                 \n",
      " dense_39 (Dense)            (None, 1)                 11        \n",
      "                                                                 \n",
      "=================================================================\n",
      "Total params: 291\n",
      "Trainable params: 291\n",
      "Non-trainable params: 0\n",
      "_________________________________________________________________\n"
     ]
    }
   ],
   "source": [
    "model.summary()"
   ]
  },
  {
   "cell_type": "code",
   "execution_count": null,
   "metadata": {},
   "outputs": [],
   "source": []
  },
  {
   "cell_type": "markdown",
   "metadata": {},
   "source": [
    "## Data2: One experiment"
   ]
  },
  {
   "cell_type": "code",
   "execution_count": 182,
   "metadata": {},
   "outputs": [],
   "source": [
    "X_train = X2_train\n",
    "y_train = y2_train\n",
    "X_test = X2_test\n",
    "y_test = y2_test"
   ]
  },
  {
   "cell_type": "code",
   "execution_count": 183,
   "metadata": {},
   "outputs": [],
   "source": [
    "model2 = keras.Sequential()\n",
    "model2.add(Dense(10, activation='relu', input_shape=[len(X_train[0])]))\n",
    "model2.add(Dense(10, activation='relu'))\n",
    "model2.add(Dense(10, activation='relu'))\n",
    "model2.add(Dense(1))\n",
    "\n",
    "#\n",
    "model2.compile(optimizer= 'adam', loss='mse', metrics=['accuracy'])\n",
    "history2 = model2.fit(X_train, y_train, epochs=20, verbose=0, validation_data=[X_test, y_test])\n"
   ]
  },
  {
   "cell_type": "code",
   "execution_count": 184,
   "metadata": {},
   "outputs": [
    {
     "name": "stdout",
     "output_type": "stream",
     "text": [
      "28160/28160 [==============================] - 21s 737us/step\n",
      "10.787611349421352\n",
      "5632/5632 [==============================] - 4s 720us/step\n",
      "11.598423677038422\n"
     ]
    }
   ],
   "source": [
    "train_pred2 = model2.predict(X_train)\n",
    "print(mse(train_pred2, y_train))\n",
    "test_pred2 = model2.predict(X_test)\n",
    "print(mse(test_pred2, y_test))"
   ]
  },
  {
   "cell_type": "code",
   "execution_count": 185,
   "metadata": {},
   "outputs": [
    {
     "data": {
      "text/plain": [
       "0.7879580102236565"
      ]
     },
     "execution_count": 185,
     "metadata": {},
     "output_type": "execute_result"
    }
   ],
   "source": [
    "r2_score(y_test, test_pred2)"
   ]
  },
  {
   "cell_type": "code",
   "execution_count": 186,
   "metadata": {},
   "outputs": [
    {
     "name": "stdout",
     "output_type": "stream",
     "text": [
      "5632/5632 [==============================] - 5s 872us/step - loss: 11.5982 - accuracy: 0.8112\n"
     ]
    },
    {
     "data": {
      "text/plain": [
       "[11.598172187805176, 0.8112071752548218]"
      ]
     },
     "execution_count": 186,
     "metadata": {},
     "output_type": "execute_result"
    }
   ],
   "source": [
    "model2.evaluate(X_test, y_test)"
   ]
  },
  {
   "cell_type": "code",
   "execution_count": 187,
   "metadata": {},
   "outputs": [
    {
     "name": "stdout",
     "output_type": "stream",
     "text": [
      "Model: \"sequential_12\"\n",
      "_________________________________________________________________\n",
      " Layer (type)                Output Shape              Param #   \n",
      "=================================================================\n",
      " dense_40 (Dense)            (None, 10)                60        \n",
      "                                                                 \n",
      " dense_41 (Dense)            (None, 10)                110       \n",
      "                                                                 \n",
      " dense_42 (Dense)            (None, 10)                110       \n",
      "                                                                 \n",
      " dense_43 (Dense)            (None, 1)                 11        \n",
      "                                                                 \n",
      "=================================================================\n",
      "Total params: 291\n",
      "Trainable params: 291\n",
      "Non-trainable params: 0\n",
      "_________________________________________________________________\n"
     ]
    }
   ],
   "source": [
    "model2.summary()"
   ]
  },
  {
   "cell_type": "markdown",
   "metadata": {},
   "source": [
    "## Data3: 55 fmap means"
   ]
  },
  {
   "cell_type": "code",
   "execution_count": 188,
   "metadata": {},
   "outputs": [],
   "source": [
    "X_train = X3_train\n",
    "y_train = y3_train\n",
    "X_test = X3_test\n",
    "y_test = y3_test"
   ]
  },
  {
   "cell_type": "code",
   "execution_count": 189,
   "metadata": {},
   "outputs": [],
   "source": [
    "model3 = keras.Sequential()\n",
    "model3.add(Dense(10, activation='relu', input_shape=[len(X_train[0])]))\n",
    "model3.add(Dense(10, activation='relu'))\n",
    "model3.add(Dense(10, activation='relu'))\n",
    "model3.add(Dense(1))\n",
    "#\n",
    "model3.compile(optimizer= 'adam', loss='mse', metrics=['accuracy'])\n",
    "history3 = model3.fit(X_train, y_train, epochs=20, verbose=0, validation_data=[X_test, y_test])\n"
   ]
  },
  {
   "cell_type": "code",
   "execution_count": 190,
   "metadata": {},
   "outputs": [
    {
     "name": "stdout",
     "output_type": "stream",
     "text": [
      "70964/70964 [==============================] - 49s 691us/step\n",
      "25.653226663055843\n",
      "30413/30413 [==============================] - 21s 679us/step\n",
      "33.91757302155358\n"
     ]
    }
   ],
   "source": [
    "train_pred3 = model3.predict(X_train)\n",
    "print(mse(train_pred3, y_train))\n",
    "test_pred3 = model3.predict(X_test)\n",
    "print(mse(test_pred3, y_test))"
   ]
  },
  {
   "cell_type": "code",
   "execution_count": 191,
   "metadata": {},
   "outputs": [
    {
     "data": {
      "text/plain": [
       "0.5584104743159171"
      ]
     },
     "execution_count": 191,
     "metadata": {},
     "output_type": "execute_result"
    }
   ],
   "source": [
    "r2_score(y_test, test_pred3)"
   ]
  },
  {
   "cell_type": "code",
   "execution_count": 192,
   "metadata": {},
   "outputs": [
    {
     "name": "stdout",
     "output_type": "stream",
     "text": [
      "30413/30413 [==============================] - 25s 809us/step - loss: 33.9176 - accuracy: 0.8084\n"
     ]
    },
    {
     "data": {
      "text/plain": [
       "[33.9175910949707, 0.8083938956260681]"
      ]
     },
     "execution_count": 192,
     "metadata": {},
     "output_type": "execute_result"
    }
   ],
   "source": [
    "model3.evaluate(X_test, y_test)"
   ]
  },
  {
   "cell_type": "code",
   "execution_count": 193,
   "metadata": {},
   "outputs": [
    {
     "name": "stdout",
     "output_type": "stream",
     "text": [
      "Model: \"sequential_13\"\n",
      "_________________________________________________________________\n",
      " Layer (type)                Output Shape              Param #   \n",
      "=================================================================\n",
      " dense_44 (Dense)            (None, 10)                560       \n",
      "                                                                 \n",
      " dense_45 (Dense)            (None, 10)                110       \n",
      "                                                                 \n",
      " dense_46 (Dense)            (None, 10)                110       \n",
      "                                                                 \n",
      " dense_47 (Dense)            (None, 1)                 11        \n",
      "                                                                 \n",
      "=================================================================\n",
      "Total params: 791\n",
      "Trainable params: 791\n",
      "Non-trainable params: 0\n",
      "_________________________________________________________________\n"
     ]
    }
   ],
   "source": [
    "model3.summary()"
   ]
  },
  {
   "cell_type": "code",
   "execution_count": null,
   "metadata": {},
   "outputs": [],
   "source": []
  },
  {
   "cell_type": "markdown",
   "metadata": {},
   "source": [
    "## Data4: None zero"
   ]
  },
  {
   "cell_type": "code",
   "execution_count": 39,
   "metadata": {},
   "outputs": [],
   "source": [
    "X_train = X4_train\n",
    "y_train = y4_train\n",
    "X_test = X4_test\n",
    "y_test = y4_test"
   ]
  },
  {
   "cell_type": "code",
   "execution_count": 28,
   "metadata": {},
   "outputs": [
    {
     "name": "stderr",
     "output_type": "stream",
     "text": [
      "2022-10-26 12:02:18.273343: I tensorflow/core/platform/cpu_feature_guard.cc:193] This TensorFlow binary is optimized with oneAPI Deep Neural Network Library (oneDNN) to use the following CPU instructions in performance-critical operations:  SSE4.1 SSE4.2 AVX AVX2 FMA\n",
      "To enable them in other operations, rebuild TensorFlow with the appropriate compiler flags.\n"
     ]
    },
    {
     "name": "stdout",
     "output_type": "stream",
     "text": [
      "Epoch 1/20\n",
      "13623/13623 [==============================] - 17s 1ms/step - loss: 775.6888 - accuracy: 5.0696e-04 - val_loss: 280.3866 - val_accuracy: 9.8486e-04\n",
      "Epoch 2/20\n",
      "13623/13623 [==============================] - 16s 1ms/step - loss: 254.4488 - accuracy: 5.9642e-04 - val_loss: 239.9096 - val_accuracy: 4.8173e-05\n",
      "Epoch 3/20\n",
      "13623/13623 [==============================] - 16s 1ms/step - loss: 244.3139 - accuracy: 6.0331e-04 - val_loss: 426.1392 - val_accuracy: 0.0011\n",
      "Epoch 4/20\n",
      "13623/13623 [==============================] - 16s 1ms/step - loss: 234.7317 - accuracy: 6.1707e-04 - val_loss: 236.3913 - val_accuracy: 8.9922e-04\n",
      "Epoch 5/20\n",
      "13623/13623 [==============================] - 17s 1ms/step - loss: 226.6837 - accuracy: 6.7212e-04 - val_loss: 226.9637 - val_accuracy: 9.2063e-04\n",
      "Epoch 6/20\n",
      "13623/13623 [==============================] - 16s 1ms/step - loss: 217.3771 - accuracy: 6.9047e-04 - val_loss: 230.2182 - val_accuracy: 1.0705e-04\n",
      "Epoch 7/20\n",
      "13623/13623 [==============================] - 17s 1ms/step - loss: 211.0164 - accuracy: 7.2030e-04 - val_loss: 213.0870 - val_accuracy: 9.5275e-04\n",
      "Epoch 8/20\n",
      "13623/13623 [==============================] - 15s 1ms/step - loss: 206.1197 - accuracy: 7.0194e-04 - val_loss: 205.3757 - val_accuracy: 9.2063e-04\n",
      "Epoch 9/20\n",
      "13623/13623 [==============================] - 16s 1ms/step - loss: 198.6213 - accuracy: 6.8130e-04 - val_loss: 203.7043 - val_accuracy: 9.7951e-04\n",
      "Epoch 10/20\n",
      "13623/13623 [==============================] - 15s 1ms/step - loss: 194.8506 - accuracy: 6.1248e-04 - val_loss: 199.4664 - val_accuracy: 6.9583e-05\n",
      "Epoch 11/20\n",
      "13623/13623 [==============================] - 15s 1ms/step - loss: 192.2697 - accuracy: 5.2072e-04 - val_loss: 200.3087 - val_accuracy: 1.0705e-04\n",
      "Epoch 12/20\n",
      "13623/13623 [==============================] - 16s 1ms/step - loss: 189.6575 - accuracy: 4.7255e-04 - val_loss: 196.2072 - val_accuracy: 8.8317e-04\n",
      "Epoch 13/20\n",
      "13623/13623 [==============================] - 17s 1ms/step - loss: 189.1273 - accuracy: 4.1750e-04 - val_loss: 188.1224 - val_accuracy: 5.8878e-05\n",
      "Epoch 14/20\n",
      "13623/13623 [==============================] - 27s 2ms/step - loss: 187.1798 - accuracy: 4.1291e-04 - val_loss: 213.4365 - val_accuracy: 9.4204e-04\n",
      "Epoch 15/20\n",
      "13623/13623 [==============================] - 19s 1ms/step - loss: 187.6508 - accuracy: 4.4732e-04 - val_loss: 194.6705 - val_accuracy: 8.0288e-05\n",
      "Epoch 16/20\n",
      "13623/13623 [==============================] - 16s 1ms/step - loss: 186.6290 - accuracy: 4.8861e-04 - val_loss: 190.8824 - val_accuracy: 8.0288e-05\n",
      "Epoch 17/20\n",
      "13623/13623 [==============================] - 17s 1ms/step - loss: 186.1162 - accuracy: 4.3585e-04 - val_loss: 187.6642 - val_accuracy: 7.4935e-05\n",
      "Epoch 18/20\n",
      "13623/13623 [==============================] - 16s 1ms/step - loss: 185.3157 - accuracy: 4.7714e-04 - val_loss: 197.1844 - val_accuracy: 9.2063e-04\n",
      "Epoch 19/20\n",
      "13623/13623 [==============================] - 16s 1ms/step - loss: 184.9305 - accuracy: 4.4732e-04 - val_loss: 190.0299 - val_accuracy: 4.8173e-05\n",
      "Epoch 20/20\n",
      "13623/13623 [==============================] - 16s 1ms/step - loss: 184.6431 - accuracy: 4.4732e-04 - val_loss: 199.7217 - val_accuracy: 9.0458e-04\n"
     ]
    }
   ],
   "source": [
    "model4 = keras.Sequential()\n",
    "model4.add(Dense(20, activation='relu', input_shape=[len(X_train[0])]))\n",
    "model4.add(Dense(1))\n",
    "#\n",
    "model4.compile(optimizer= 'adam', loss='mse', metrics=['accuracy'])\n",
    "history4 = model4.fit(X_train, y_train, epochs=20, validation_data=[X_test, y_test])\n"
   ]
  },
  {
   "cell_type": "code",
   "execution_count": 29,
   "metadata": {},
   "outputs": [
    {
     "name": "stdout",
     "output_type": "stream",
     "text": [
      "13623/13623 [==============================] - 10s 700us/step\n",
      "184.91616526100555\n",
      "5839/5839 [==============================] - 4s 672us/step\n",
      "199.72171091691504\n"
     ]
    }
   ],
   "source": [
    "train_pred4 = model4.predict(X_train)\n",
    "print(mse(train_pred4, y_train))\n",
    "test_pred4 = model4.predict(X_test)\n",
    "print(mse(test_pred4, y_test))"
   ]
  },
  {
   "cell_type": "code",
   "execution_count": 30,
   "metadata": {},
   "outputs": [
    {
     "name": "stdout",
     "output_type": "stream",
     "text": [
      "5839/5839 [==============================] - 5s 777us/step - loss: 199.7217 - accuracy: 9.0458e-04\n"
     ]
    },
    {
     "data": {
      "text/plain": [
       "[199.72171020507812, 0.0009045753395184875]"
      ]
     },
     "execution_count": 30,
     "metadata": {},
     "output_type": "execute_result"
    }
   ],
   "source": [
    "model4.evaluate(X_test, y_test)"
   ]
  },
  {
   "cell_type": "code",
   "execution_count": 31,
   "metadata": {},
   "outputs": [
    {
     "name": "stdout",
     "output_type": "stream",
     "text": [
      "Model: \"sequential\"\n",
      "_________________________________________________________________\n",
      " Layer (type)                Output Shape              Param #   \n",
      "=================================================================\n",
      " dense (Dense)               (None, 20)                120       \n",
      "                                                                 \n",
      " dense_1 (Dense)             (None, 1)                 21        \n",
      "                                                                 \n",
      "=================================================================\n",
      "Total params: 141\n",
      "Trainable params: 141\n",
      "Non-trainable params: 0\n",
      "_________________________________________________________________\n"
     ]
    }
   ],
   "source": [
    "model4.summary()"
   ]
  },
  {
   "cell_type": "code",
   "execution_count": 32,
   "metadata": {},
   "outputs": [
    {
     "data": {
      "text/plain": [
       "{'loss': [775.6888427734375,\n",
       "  254.44879150390625,\n",
       "  244.31385803222656,\n",
       "  234.73170471191406,\n",
       "  226.68370056152344,\n",
       "  217.37705993652344,\n",
       "  211.0164031982422,\n",
       "  206.1196746826172,\n",
       "  198.62127685546875,\n",
       "  194.85061645507812,\n",
       "  192.2696990966797,\n",
       "  189.657470703125,\n",
       "  189.12733459472656,\n",
       "  187.17984008789062,\n",
       "  187.6508331298828,\n",
       "  186.62896728515625,\n",
       "  186.11622619628906,\n",
       "  185.31565856933594,\n",
       "  184.93045043945312,\n",
       "  184.64312744140625],\n",
       " 'accuracy': [0.0005069597973488271,\n",
       "  0.00059642328415066,\n",
       "  0.0006033051176927984,\n",
       "  0.0006170687265694141,\n",
       "  0.0006721231620758772,\n",
       "  0.0006904746405780315,\n",
       "  0.0007202958222478628,\n",
       "  0.0007019443437457085,\n",
       "  0.0006812989013269544,\n",
       "  0.0006124808569438756,\n",
       "  0.0005207234062254429,\n",
       "  0.0004725507751572877,\n",
       "  0.0004174963105469942,\n",
       "  0.0004129084409214556,\n",
       "  0.00044731746311299503,\n",
       "  0.0004886083188466728,\n",
       "  0.00043584778904914856,\n",
       "  0.0004771386447828263,\n",
       "  0.00044731746311299503,\n",
       "  0.00044731746311299503],\n",
       " 'val_loss': [280.3866271972656,\n",
       "  239.90960693359375,\n",
       "  426.13916015625,\n",
       "  236.39132690429688,\n",
       "  226.96371459960938,\n",
       "  230.2181854248047,\n",
       "  213.08697509765625,\n",
       "  205.375732421875,\n",
       "  203.7042694091797,\n",
       "  199.46640014648438,\n",
       "  200.30868530273438,\n",
       "  196.2071990966797,\n",
       "  188.12242126464844,\n",
       "  213.4365234375,\n",
       "  194.6704559326172,\n",
       "  190.88241577148438,\n",
       "  187.6642303466797,\n",
       "  197.18443298339844,\n",
       "  190.0298614501953,\n",
       "  199.72171020507812],\n",
       " 'val_accuracy': [0.0009848630288615823,\n",
       "  4.8172649258049205e-05,\n",
       "  0.0011079709511250257,\n",
       "  0.0008992227958515286,\n",
       "  0.000920632854104042,\n",
       "  0.00010705033491831273,\n",
       "  0.0009527479996904731,\n",
       "  0.000920632854104042,\n",
       "  0.0009795106016099453,\n",
       "  6.958271842449903e-05,\n",
       "  0.00010705033491831273,\n",
       "  0.000883165281265974,\n",
       "  5.8877685660263523e-05,\n",
       "  0.0009420429705642164,\n",
       "  8.028775482671335e-05,\n",
       "  8.028775482671335e-05,\n",
       "  7.493523298762739e-05,\n",
       "  0.000920632854104042,\n",
       "  4.8172649258049205e-05,\n",
       "  0.0009045753395184875]}"
      ]
     },
     "execution_count": 32,
     "metadata": {},
     "output_type": "execute_result"
    }
   ],
   "source": [
    "history4.history"
   ]
  },
  {
   "cell_type": "markdown",
   "metadata": {},
   "source": [
    "## Plot"
   ]
  },
  {
   "cell_type": "markdown",
   "metadata": {},
   "source": [
    "### Loss function (MSE)"
   ]
  },
  {
   "cell_type": "code",
   "execution_count": 33,
   "metadata": {
    "scrolled": false
   },
   "outputs": [
    {
     "data": {
      "image/png": "[encoded data removed]",
      "text/plain": [
       "<Figure size 640x480 with 1 Axes>"
      ]
     },
     "metadata": {},
     "output_type": "display_data"
    }
   ],
   "source": [
    "model_df = pd.DataFrame(history4.history)\n",
    "model_df[['loss', 'val_loss']].plot()\n",
    "plt.xlabel(\"Number of Epochs\")\n",
    "plt.ylabel(\"Loss\")\n",
    "plt.title(\"Training and Validation Loss Over Training Period\", pad=12);"
   ]
  },
  {
   "cell_type": "markdown",
   "metadata": {},
   "source": [
    "### Accuracy"
   ]
  },
  {
   "cell_type": "code",
   "execution_count": 34,
   "metadata": {},
   "outputs": [
    {
     "data": {
      "image/png": "[encoded data removed]",
      "text/plain": [
       "<Figure size 640x480 with 1 Axes>"
      ]
     },
     "metadata": {},
     "output_type": "display_data"
    }
   ],
   "source": [
    "model_df[['accuracy', 'val_accuracy']].plot()\n",
    "plt.xlabel(\"Number of Epochs\")\n",
    "plt.ylabel(\"Accuracy\")\n",
    "plt.title(\"Training and Validation Accuray Over Training Period\", pad=12);"
   ]
  },
  {
   "cell_type": "markdown",
   "metadata": {},
   "source": [
    "### Theory vs Predict"
   ]
  },
  {
   "cell_type": "code",
   "execution_count": 42,
   "metadata": {
    "scrolled": true
   },
   "outputs": [
    {
     "name": "stdout",
     "output_type": "stream",
     "text": [
      "r: 0.55524%, st_er: 0.001131%\n",
      "y = 0.3264*x + 7.3193\n"
     ]
    },
    {
     "data": {
      "image/png": "[encoded data removed]",
      "text/plain": [
       "<Figure size 640x480 with 1 Axes>"
      ]
     },
     "metadata": {},
     "output_type": "display_data"
    }
   ],
   "source": [
    "x = y_test.flatten()\n",
    "y = test_pred4.flatten()\n",
    "m, b, r, p, st_er = stats.linregress(x,y) \n",
    "\n",
    "yfit = [b + m * xi for xi in x]\n",
    "yisx = [0 + 1 * xi for xi in x]\n",
    "plt.plot(x, yfit)\n",
    "plt.plot(x, yisx)\n",
    "\n",
    "plt.scatter(y_test, test_pred4,  color='black')\n",
    "plt.axis([0,100, 0, 100])\n",
    "plt.xlabel(\"Theory (nT)\")\n",
    "plt.ylabel(\"Prediction (nT)\")\n",
    "# print(r, st_er)\n",
    "print(\"r: {:.5f}%, st_er: {:.6f}%\".format(r, st_er))\n",
    "print(\"y = \"+str(round(m,4))+\"*x + \"+str(round(b,4)))"
   ]
  },
  {
   "cell_type": "code",
   "execution_count": null,
   "metadata": {},
   "outputs": [],
   "source": []
  },
  {
   "cell_type": "markdown",
   "metadata": {},
   "source": [
    "# Output image data"
   ]
  },
  {
   "cell_type": "code",
   "execution_count": 115,
   "metadata": {},
   "outputs": [
    {
     "name": "stderr",
     "output_type": "stream",
     "text": [
      "/var/folders/yd/vkjb_lqj2_30lnyhzhjqtg9w0000gp/T/ipykernel_3032/2079570890.py:1: SettingWithCopyWarning: \n",
      "A value is trying to be set on a copy of a slice from a DataFrame.\n",
      "Try using .loc[row_indexer,col_indexer] = value instead\n",
      "\n",
      "See the caveats in the documentation: https://pandas.pydata.org/pandas-docs/stable/user_guide/indexing.html#returning-a-view-versus-a-copy\n",
      "  df_test['predict'] = test_pred\n",
      "/var/folders/yd/vkjb_lqj2_30lnyhzhjqtg9w0000gp/T/ipykernel_3032/2079570890.py:2: SettingWithCopyWarning: \n",
      "A value is trying to be set on a copy of a slice from a DataFrame.\n",
      "Try using .loc[row_indexer,col_indexer] = value instead\n",
      "\n",
      "See the caveats in the documentation: https://pandas.pydata.org/pandas-docs/stable/user_guide/indexing.html#returning-a-view-versus-a-copy\n",
      "  df_test['predict2'] = test_pred2\n"
     ]
    }
   ],
   "source": [
    "df['predict'] = test_pred\n",
    "df_test['predict'] = test_pred2\n",
    "df_55['predict'] = test_pred3\n",
    "df_on['predict'] = test_pred4"
   ]
  },
  {
   "cell_type": "code",
   "execution_count": 116,
   "metadata": {},
   "outputs": [],
   "source": [
    "np.savetxt(save_path+\"nn.txt\", df[['i', 'j', 'k', 'predict']], fmt=\"%i %i %i %s\")"
   ]
  },
  {
   "cell_type": "code",
   "execution_count": 117,
   "metadata": {},
   "outputs": [],
   "source": [
    "np.savetxt(save_path+\"nn2.txt\", df_test[['i', 'j', 'k', 'predict']], fmt=\"%i %i %i %s\")"
   ]
  },
  {
   "cell_type": "code",
   "execution_count": null,
   "metadata": {},
   "outputs": [],
   "source": [
    "np.savetxt(save_path+\"nn3.txt\", df_55[['i', 'j', 'k', 'predict']], fmt=\"%i %i %i %s\")"
   ]
  },
  {
   "cell_type": "code",
   "execution_count": null,
   "metadata": {},
   "outputs": [],
   "source": [
    "np.savetxt(save_path+\"nn4.txt\", df_on[['i', 'j', 'k', 'predict']], fmt=\"%i %i %i %s\")"
   ]
  },
  {
   "cell_type": "code",
   "execution_count": null,
   "metadata": {},
   "outputs": [],
   "source": []
  },
  {
   "cell_type": "code",
   "execution_count": null,
   "metadata": {},
   "outputs": [],
   "source": []
  }
 ],
 "metadata": {
  "kernelspec": {
   "display_name": "Python 3 (ipykernel)",
   "language": "python",
   "name": "python3"
  },
  "language_info": {
   "codemirror_mode": {
    "name": "ipython",
    "version": 3
   },
   "file_extension": ".py",
   "mimetype": "text/x-python",
   "name": "python",
   "nbconvert_exporter": "python",
   "pygments_lexer": "ipython3",
   "version": "3.10.6"
  }
 },
 "nbformat": 4,
 "nbformat_minor": 2
}
