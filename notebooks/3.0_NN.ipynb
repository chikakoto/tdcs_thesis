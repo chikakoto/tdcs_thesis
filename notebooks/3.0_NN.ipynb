{
 "cells": [
  {
   "cell_type": "code",
   "execution_count": 1,
   "metadata": {},
   "outputs": [],
   "source": [
    "import pandas as pd\n",
    "import numpy as np\n",
    "import matplotlib.pyplot as plt\n",
    "import seaborn as sns\n",
    "from scipy import stats\n",
    "import pickle\n",
    "import nibabel as nib"
   ]
  },
  {
   "cell_type": "code",
   "execution_count": 2,
   "metadata": {},
   "outputs": [],
   "source": [
    "from sklearn.metrics import mean_squared_error as mse\n",
    "from sklearn.metrics import mean_absolute_percentage_error as mape\n",
    "from sklearn.model_selection import train_test_split\n",
    "from sklearn.preprocessing import MinMaxScaler, StandardScaler\n",
    "from sklearn.metrics import r2_score\n",
    "\n",
    "#\n",
    "import tensorflow as tf\n",
    "from tensorflow import keras\n",
    "from tensorflow.keras import layers\n",
    "from tensorflow.keras.layers import Flatten, Dense\n",
    "\n",
    "\n",
    "from sklearn.model_selection import GridSearchCV\n",
    "from sklearn.feature_extraction.text import TfidfVectorizer\n",
    "#from tensorflow.keras.wrappers.scikit_learn import KerasRegressor\n",
    "from scikeras.wrappers import KerasRegressor\n",
    "from sklearn.ensemble import AdaBoostRegressor"
   ]
  },
  {
   "cell_type": "markdown",
   "metadata": {},
   "source": [
    "# Load prepared data"
   ]
  },
  {
   "cell_type": "code",
   "execution_count": 4,
   "metadata": {},
   "outputs": [],
   "source": [
    "dir_path = \"/Users/chikakoolsen/opt/python/thesis/code/tdcs_thesis/\"\n",
    "# dir_path = \"/Users/mriworkshop/Documents/TDCS/code/tdcs_thesis/\"\n",
    "save_path = dir_path+\"data/raw/\"\n",
    "img_path =  dir_path+\"data/processed/\"\n",
    "model_path = dir_path+\"models/\""
   ]
  },
  {
   "cell_type": "markdown",
   "metadata": {},
   "source": [
    "## fmap mean all experiments"
   ]
  },
  {
   "cell_type": "code",
   "execution_count": 4,
   "metadata": {},
   "outputs": [],
   "source": [
    "file_mean = save_path+\"fmap_mean_32to38.txt\"\n",
    "columns_mean =['exp', 'mini_exp', 'i', 'j', 'k', 'mean0', 'mean1', 'mean2', 'mean3', 'mean4', 'theory']\n",
    "data = np.loadtxt(file_mean);"
   ]
  },
  {
   "cell_type": "code",
   "execution_count": 5,
   "metadata": {},
   "outputs": [
    {
     "data": {
      "text/html": [
       "<div>\n",
       "<style scoped>\n",
       "    .dataframe tbody tr th:only-of-type {\n",
       "        vertical-align: middle;\n",
       "    }\n",
       "\n",
       "    .dataframe tbody tr th {\n",
       "        vertical-align: top;\n",
       "    }\n",
       "\n",
       "    .dataframe thead th {\n",
       "        text-align: right;\n",
       "    }\n",
       "</style>\n",
       "<table border=\"1\" class=\"dataframe\">\n",
       "  <thead>\n",
       "    <tr style=\"text-align: right;\">\n",
       "      <th></th>\n",
       "      <th>exp</th>\n",
       "      <th>mini_exp</th>\n",
       "      <th>i</th>\n",
       "      <th>j</th>\n",
       "      <th>k</th>\n",
       "      <th>mean0</th>\n",
       "      <th>mean1</th>\n",
       "      <th>mean2</th>\n",
       "      <th>mean3</th>\n",
       "      <th>mean4</th>\n",
       "      <th>theory</th>\n",
       "    </tr>\n",
       "  </thead>\n",
       "  <tbody>\n",
       "    <tr>\n",
       "      <th>0</th>\n",
       "      <td>36</td>\n",
       "      <td>1</td>\n",
       "      <td>0</td>\n",
       "      <td>0</td>\n",
       "      <td>0</td>\n",
       "      <td>0.0</td>\n",
       "      <td>0.0</td>\n",
       "      <td>0.0</td>\n",
       "      <td>0.0</td>\n",
       "      <td>0.0</td>\n",
       "      <td>0.0</td>\n",
       "    </tr>\n",
       "    <tr>\n",
       "      <th>1</th>\n",
       "      <td>36</td>\n",
       "      <td>1</td>\n",
       "      <td>0</td>\n",
       "      <td>0</td>\n",
       "      <td>1</td>\n",
       "      <td>0.0</td>\n",
       "      <td>0.0</td>\n",
       "      <td>0.0</td>\n",
       "      <td>0.0</td>\n",
       "      <td>0.0</td>\n",
       "      <td>0.0</td>\n",
       "    </tr>\n",
       "    <tr>\n",
       "      <th>2</th>\n",
       "      <td>36</td>\n",
       "      <td>1</td>\n",
       "      <td>0</td>\n",
       "      <td>0</td>\n",
       "      <td>2</td>\n",
       "      <td>0.0</td>\n",
       "      <td>0.0</td>\n",
       "      <td>0.0</td>\n",
       "      <td>0.0</td>\n",
       "      <td>0.0</td>\n",
       "      <td>0.0</td>\n",
       "    </tr>\n",
       "    <tr>\n",
       "      <th>3</th>\n",
       "      <td>36</td>\n",
       "      <td>1</td>\n",
       "      <td>0</td>\n",
       "      <td>0</td>\n",
       "      <td>3</td>\n",
       "      <td>0.0</td>\n",
       "      <td>0.0</td>\n",
       "      <td>0.0</td>\n",
       "      <td>0.0</td>\n",
       "      <td>0.0</td>\n",
       "      <td>0.0</td>\n",
       "    </tr>\n",
       "    <tr>\n",
       "      <th>4</th>\n",
       "      <td>36</td>\n",
       "      <td>1</td>\n",
       "      <td>0</td>\n",
       "      <td>0</td>\n",
       "      <td>4</td>\n",
       "      <td>0.0</td>\n",
       "      <td>0.0</td>\n",
       "      <td>0.0</td>\n",
       "      <td>0.0</td>\n",
       "      <td>0.0</td>\n",
       "      <td>0.0</td>\n",
       "    </tr>\n",
       "    <tr>\n",
       "      <th>...</th>\n",
       "      <td>...</td>\n",
       "      <td>...</td>\n",
       "      <td>...</td>\n",
       "      <td>...</td>\n",
       "      <td>...</td>\n",
       "      <td>...</td>\n",
       "      <td>...</td>\n",
       "      <td>...</td>\n",
       "      <td>...</td>\n",
       "      <td>...</td>\n",
       "      <td>...</td>\n",
       "    </tr>\n",
       "    <tr>\n",
       "      <th>5046267</th>\n",
       "      <td>35</td>\n",
       "      <td>5</td>\n",
       "      <td>43</td>\n",
       "      <td>63</td>\n",
       "      <td>59</td>\n",
       "      <td>0.0</td>\n",
       "      <td>0.0</td>\n",
       "      <td>0.0</td>\n",
       "      <td>0.0</td>\n",
       "      <td>0.0</td>\n",
       "      <td>0.0</td>\n",
       "    </tr>\n",
       "    <tr>\n",
       "      <th>5046268</th>\n",
       "      <td>35</td>\n",
       "      <td>5</td>\n",
       "      <td>43</td>\n",
       "      <td>63</td>\n",
       "      <td>60</td>\n",
       "      <td>0.0</td>\n",
       "      <td>0.0</td>\n",
       "      <td>0.0</td>\n",
       "      <td>0.0</td>\n",
       "      <td>0.0</td>\n",
       "      <td>0.0</td>\n",
       "    </tr>\n",
       "    <tr>\n",
       "      <th>5046269</th>\n",
       "      <td>35</td>\n",
       "      <td>5</td>\n",
       "      <td>43</td>\n",
       "      <td>63</td>\n",
       "      <td>61</td>\n",
       "      <td>0.0</td>\n",
       "      <td>0.0</td>\n",
       "      <td>0.0</td>\n",
       "      <td>0.0</td>\n",
       "      <td>0.0</td>\n",
       "      <td>0.0</td>\n",
       "    </tr>\n",
       "    <tr>\n",
       "      <th>5046270</th>\n",
       "      <td>35</td>\n",
       "      <td>5</td>\n",
       "      <td>43</td>\n",
       "      <td>63</td>\n",
       "      <td>62</td>\n",
       "      <td>0.0</td>\n",
       "      <td>0.0</td>\n",
       "      <td>0.0</td>\n",
       "      <td>0.0</td>\n",
       "      <td>0.0</td>\n",
       "      <td>0.0</td>\n",
       "    </tr>\n",
       "    <tr>\n",
       "      <th>5046271</th>\n",
       "      <td>35</td>\n",
       "      <td>5</td>\n",
       "      <td>43</td>\n",
       "      <td>63</td>\n",
       "      <td>63</td>\n",
       "      <td>0.0</td>\n",
       "      <td>0.0</td>\n",
       "      <td>0.0</td>\n",
       "      <td>0.0</td>\n",
       "      <td>0.0</td>\n",
       "      <td>0.0</td>\n",
       "    </tr>\n",
       "  </tbody>\n",
       "</table>\n",
       "<p>5046272 rows × 11 columns</p>\n",
       "</div>"
      ],
      "text/plain": [
       "         exp  mini_exp   i   j   k  mean0  mean1  mean2  mean3  mean4  theory\n",
       "0         36         1   0   0   0    0.0    0.0    0.0    0.0    0.0     0.0\n",
       "1         36         1   0   0   1    0.0    0.0    0.0    0.0    0.0     0.0\n",
       "2         36         1   0   0   2    0.0    0.0    0.0    0.0    0.0     0.0\n",
       "3         36         1   0   0   3    0.0    0.0    0.0    0.0    0.0     0.0\n",
       "4         36         1   0   0   4    0.0    0.0    0.0    0.0    0.0     0.0\n",
       "...      ...       ...  ..  ..  ..    ...    ...    ...    ...    ...     ...\n",
       "5046267   35         5  43  63  59    0.0    0.0    0.0    0.0    0.0     0.0\n",
       "5046268   35         5  43  63  60    0.0    0.0    0.0    0.0    0.0     0.0\n",
       "5046269   35         5  43  63  61    0.0    0.0    0.0    0.0    0.0     0.0\n",
       "5046270   35         5  43  63  62    0.0    0.0    0.0    0.0    0.0     0.0\n",
       "5046271   35         5  43  63  63    0.0    0.0    0.0    0.0    0.0     0.0\n",
       "\n",
       "[5046272 rows x 11 columns]"
      ]
     },
     "execution_count": 5,
     "metadata": {},
     "output_type": "execute_result"
    }
   ],
   "source": [
    "df = pd.DataFrame(data, columns=columns_mean)\n",
    "df = df.astype({\"exp\": int, \"i\": int, \"j\": int, \"k\": int, \"mini_exp\": int})\n",
    "df"
   ]
  },
  {
   "cell_type": "code",
   "execution_count": 6,
   "metadata": {},
   "outputs": [
    {
     "name": "stdout",
     "output_type": "stream",
     "text": [
      "<class 'pandas.core.frame.DataFrame'>\n",
      "RangeIndex: 5046272 entries, 0 to 5046271\n",
      "Data columns (total 11 columns):\n",
      " #   Column    Dtype  \n",
      "---  ------    -----  \n",
      " 0   exp       int64  \n",
      " 1   mini_exp  int64  \n",
      " 2   i         int64  \n",
      " 3   j         int64  \n",
      " 4   k         int64  \n",
      " 5   mean0     float64\n",
      " 6   mean1     float64\n",
      " 7   mean2     float64\n",
      " 8   mean3     float64\n",
      " 9   mean4     float64\n",
      " 10  theory    float64\n",
      "dtypes: float64(6), int64(5)\n",
      "memory usage: 423.5 MB\n"
     ]
    }
   ],
   "source": [
    "df.info()"
   ]
  },
  {
   "cell_type": "code",
   "execution_count": null,
   "metadata": {},
   "outputs": [],
   "source": []
  },
  {
   "cell_type": "markdown",
   "metadata": {},
   "source": [
    "# Split data"
   ]
  },
  {
   "cell_type": "markdown",
   "metadata": {},
   "source": [
    "## Data 1. fmap mean all experiments"
   ]
  },
  {
   "cell_type": "code",
   "execution_count": 7,
   "metadata": {},
   "outputs": [],
   "source": [
    "df1_train = df[~((df['exp']==36) & ((df['mini_exp']==5) | (df['mini_exp']==6)))]\n",
    "df1_val =  df[(df['exp']==36) & (df['mini_exp']==5)]\n",
    "df1_test =  df[(df['exp']==36) & (df['mini_exp']==6)]"
   ]
  },
  {
   "cell_type": "code",
   "execution_count": 8,
   "metadata": {},
   "outputs": [
    {
     "name": "stdout",
     "output_type": "stream",
     "text": [
      "(4685824, 11)\n",
      "(180224, 11)\n",
      "(180224, 11)\n"
     ]
    }
   ],
   "source": [
    "print(df1_train.shape)\n",
    "print(df1_val.shape)\n",
    "print(df1_test.shape)"
   ]
  },
  {
   "cell_type": "code",
   "execution_count": 9,
   "metadata": {},
   "outputs": [],
   "source": [
    "X1_train = df1_train.iloc[:, 5:-1].values \n",
    "y1_train = df1_train['theory'].values\n",
    "\n",
    "X1_test = df1_val.iloc[:, 5:-1].values \n",
    "y1_test = df1_val['theory'].values\n",
    "\n",
    "X1_pred = df1_test.iloc[:, 5:-1].values \n",
    "y1_pred = df1_val['theory'].values"
   ]
  },
  {
   "cell_type": "code",
   "execution_count": 10,
   "metadata": {},
   "outputs": [
    {
     "name": "stdout",
     "output_type": "stream",
     "text": [
      "(4685824, 5)\n",
      "(4685824,)\n",
      "(180224, 5)\n",
      "(180224,)\n",
      "(180224, 5)\n",
      "(180224,)\n"
     ]
    }
   ],
   "source": [
    "print(X1_train.shape)\n",
    "print(y1_train.shape)\n",
    "print(X1_test.shape)\n",
    "print(y1_test.shape)\n",
    "print(X1_pred.shape)\n",
    "print(y1_pred.shape)"
   ]
  },
  {
   "cell_type": "markdown",
   "metadata": {},
   "source": [
    "## Data2: One experiment"
   ]
  },
  {
   "cell_type": "code",
   "execution_count": 11,
   "metadata": {},
   "outputs": [],
   "source": [
    "df_train = df[(df['exp']==36) & (df['mini_exp']!=6)]\n",
    "df_test = df[(df['exp']==36) & (df['mini_exp']==6)]"
   ]
  },
  {
   "cell_type": "markdown",
   "metadata": {},
   "source": [
    "## Data4: None zero"
   ]
  },
  {
   "cell_type": "code",
   "execution_count": 12,
   "metadata": {},
   "outputs": [],
   "source": [
    "df_nonzero = df[(df['mean0']!=0.0) & (df['mean1']!=0.0) & (df['mean2']!=0.0) & (df['mean3']!=0.0) & (df['mean4']!=0.0)]"
   ]
  },
  {
   "cell_type": "code",
   "execution_count": 13,
   "metadata": {},
   "outputs": [
    {
     "data": {
      "text/html": [
       "<div>\n",
       "<style scoped>\n",
       "    .dataframe tbody tr th:only-of-type {\n",
       "        vertical-align: middle;\n",
       "    }\n",
       "\n",
       "    .dataframe tbody tr th {\n",
       "        vertical-align: top;\n",
       "    }\n",
       "\n",
       "    .dataframe thead th {\n",
       "        text-align: right;\n",
       "    }\n",
       "</style>\n",
       "<table border=\"1\" class=\"dataframe\">\n",
       "  <thead>\n",
       "    <tr style=\"text-align: right;\">\n",
       "      <th></th>\n",
       "      <th>exp</th>\n",
       "      <th>mini_exp</th>\n",
       "      <th>i</th>\n",
       "      <th>j</th>\n",
       "      <th>k</th>\n",
       "      <th>mean0</th>\n",
       "      <th>mean1</th>\n",
       "      <th>mean2</th>\n",
       "      <th>mean3</th>\n",
       "      <th>mean4</th>\n",
       "      <th>theory</th>\n",
       "    </tr>\n",
       "  </thead>\n",
       "  <tbody>\n",
       "    <tr>\n",
       "      <th>30760</th>\n",
       "      <td>36</td>\n",
       "      <td>1</td>\n",
       "      <td>7</td>\n",
       "      <td>32</td>\n",
       "      <td>40</td>\n",
       "      <td>118.874306</td>\n",
       "      <td>102.631088</td>\n",
       "      <td>73.720810</td>\n",
       "      <td>46.604973</td>\n",
       "      <td>35.842915</td>\n",
       "      <td>4.988159</td>\n",
       "    </tr>\n",
       "    <tr>\n",
       "      <th>30761</th>\n",
       "      <td>36</td>\n",
       "      <td>1</td>\n",
       "      <td>7</td>\n",
       "      <td>32</td>\n",
       "      <td>41</td>\n",
       "      <td>-69.809402</td>\n",
       "      <td>-88.836975</td>\n",
       "      <td>-115.809509</td>\n",
       "      <td>-147.981812</td>\n",
       "      <td>-157.407669</td>\n",
       "      <td>4.591202</td>\n",
       "    </tr>\n",
       "    <tr>\n",
       "      <th>30762</th>\n",
       "      <td>36</td>\n",
       "      <td>1</td>\n",
       "      <td>7</td>\n",
       "      <td>32</td>\n",
       "      <td>42</td>\n",
       "      <td>-501.965088</td>\n",
       "      <td>-518.938477</td>\n",
       "      <td>-546.379456</td>\n",
       "      <td>-559.395264</td>\n",
       "      <td>-578.390381</td>\n",
       "      <td>4.237324</td>\n",
       "    </tr>\n",
       "    <tr>\n",
       "      <th>30763</th>\n",
       "      <td>36</td>\n",
       "      <td>1</td>\n",
       "      <td>7</td>\n",
       "      <td>32</td>\n",
       "      <td>43</td>\n",
       "      <td>-729.152405</td>\n",
       "      <td>-748.379883</td>\n",
       "      <td>-771.094543</td>\n",
       "      <td>-794.678772</td>\n",
       "      <td>-810.996643</td>\n",
       "      <td>3.918999</td>\n",
       "    </tr>\n",
       "    <tr>\n",
       "      <th>30799</th>\n",
       "      <td>36</td>\n",
       "      <td>1</td>\n",
       "      <td>7</td>\n",
       "      <td>33</td>\n",
       "      <td>15</td>\n",
       "      <td>-1217.971191</td>\n",
       "      <td>-1236.205566</td>\n",
       "      <td>-1261.405762</td>\n",
       "      <td>-1284.039307</td>\n",
       "      <td>-1296.501587</td>\n",
       "      <td>3.371496</td>\n",
       "    </tr>\n",
       "    <tr>\n",
       "      <th>...</th>\n",
       "      <td>...</td>\n",
       "      <td>...</td>\n",
       "      <td>...</td>\n",
       "      <td>...</td>\n",
       "      <td>...</td>\n",
       "      <td>...</td>\n",
       "      <td>...</td>\n",
       "      <td>...</td>\n",
       "      <td>...</td>\n",
       "      <td>...</td>\n",
       "      <td>...</td>\n",
       "    </tr>\n",
       "    <tr>\n",
       "      <th>5011735</th>\n",
       "      <td>35</td>\n",
       "      <td>5</td>\n",
       "      <td>35</td>\n",
       "      <td>36</td>\n",
       "      <td>23</td>\n",
       "      <td>321.924683</td>\n",
       "      <td>342.532410</td>\n",
       "      <td>335.163940</td>\n",
       "      <td>323.188599</td>\n",
       "      <td>335.096008</td>\n",
       "      <td>8.047899</td>\n",
       "    </tr>\n",
       "    <tr>\n",
       "      <th>5011736</th>\n",
       "      <td>35</td>\n",
       "      <td>5</td>\n",
       "      <td>35</td>\n",
       "      <td>36</td>\n",
       "      <td>24</td>\n",
       "      <td>280.548309</td>\n",
       "      <td>296.518066</td>\n",
       "      <td>293.497314</td>\n",
       "      <td>285.676575</td>\n",
       "      <td>294.248779</td>\n",
       "      <td>7.110718</td>\n",
       "    </tr>\n",
       "    <tr>\n",
       "      <th>5011737</th>\n",
       "      <td>35</td>\n",
       "      <td>5</td>\n",
       "      <td>35</td>\n",
       "      <td>36</td>\n",
       "      <td>25</td>\n",
       "      <td>216.092102</td>\n",
       "      <td>232.253601</td>\n",
       "      <td>229.062576</td>\n",
       "      <td>219.861847</td>\n",
       "      <td>229.366959</td>\n",
       "      <td>6.379625</td>\n",
       "    </tr>\n",
       "    <tr>\n",
       "      <th>5011738</th>\n",
       "      <td>35</td>\n",
       "      <td>5</td>\n",
       "      <td>35</td>\n",
       "      <td>36</td>\n",
       "      <td>26</td>\n",
       "      <td>118.546364</td>\n",
       "      <td>135.199966</td>\n",
       "      <td>132.178497</td>\n",
       "      <td>124.143974</td>\n",
       "      <td>132.757050</td>\n",
       "      <td>5.780618</td>\n",
       "    </tr>\n",
       "    <tr>\n",
       "      <th>5011750</th>\n",
       "      <td>35</td>\n",
       "      <td>5</td>\n",
       "      <td>35</td>\n",
       "      <td>36</td>\n",
       "      <td>38</td>\n",
       "      <td>-686.895996</td>\n",
       "      <td>-674.939453</td>\n",
       "      <td>-674.341736</td>\n",
       "      <td>-675.901367</td>\n",
       "      <td>-673.318298</td>\n",
       "      <td>2.270353</td>\n",
       "    </tr>\n",
       "  </tbody>\n",
       "</table>\n",
       "<p>938508 rows × 11 columns</p>\n",
       "</div>"
      ],
      "text/plain": [
       "         exp  mini_exp   i   j   k        mean0        mean1        mean2  \\\n",
       "30760     36         1   7  32  40   118.874306   102.631088    73.720810   \n",
       "30761     36         1   7  32  41   -69.809402   -88.836975  -115.809509   \n",
       "30762     36         1   7  32  42  -501.965088  -518.938477  -546.379456   \n",
       "30763     36         1   7  32  43  -729.152405  -748.379883  -771.094543   \n",
       "30799     36         1   7  33  15 -1217.971191 -1236.205566 -1261.405762   \n",
       "...      ...       ...  ..  ..  ..          ...          ...          ...   \n",
       "5011735   35         5  35  36  23   321.924683   342.532410   335.163940   \n",
       "5011736   35         5  35  36  24   280.548309   296.518066   293.497314   \n",
       "5011737   35         5  35  36  25   216.092102   232.253601   229.062576   \n",
       "5011738   35         5  35  36  26   118.546364   135.199966   132.178497   \n",
       "5011750   35         5  35  36  38  -686.895996  -674.939453  -674.341736   \n",
       "\n",
       "               mean3        mean4    theory  \n",
       "30760      46.604973    35.842915  4.988159  \n",
       "30761    -147.981812  -157.407669  4.591202  \n",
       "30762    -559.395264  -578.390381  4.237324  \n",
       "30763    -794.678772  -810.996643  3.918999  \n",
       "30799   -1284.039307 -1296.501587  3.371496  \n",
       "...              ...          ...       ...  \n",
       "5011735   323.188599   335.096008  8.047899  \n",
       "5011736   285.676575   294.248779  7.110718  \n",
       "5011737   219.861847   229.366959  6.379625  \n",
       "5011738   124.143974   132.757050  5.780618  \n",
       "5011750  -675.901367  -673.318298  2.270353  \n",
       "\n",
       "[938508 rows x 11 columns]"
      ]
     },
     "execution_count": 13,
     "metadata": {},
     "output_type": "execute_result"
    }
   ],
   "source": [
    "df_nonzero"
   ]
  },
  {
   "cell_type": "code",
   "execution_count": 14,
   "metadata": {},
   "outputs": [],
   "source": [
    "df4_train = df_nonzero[~((df_nonzero['exp']==36) & ((df_nonzero['mini_exp']==6) | (df_nonzero['mini_exp']==5)))]\n",
    "df4_test =  df_nonzero[(df_nonzero['exp']==36) & (df_nonzero['mini_exp']==5)]\n",
    "df4_pred =  df_nonzero[(df_nonzero['exp']==36) & (df_nonzero['mini_exp']==6)]"
   ]
  },
  {
   "cell_type": "code",
   "execution_count": 15,
   "metadata": {},
   "outputs": [],
   "source": [
    "X4_train = df4_train.iloc[:, 5:-1].values\n",
    "y4_train = df4_train['theory'].values\n",
    "\n",
    "X4_test = df4_test.iloc[:, 5:-1].values\n",
    "y4_test = df4_test['theory'].values\n",
    "\n",
    "X4_pred = df4_pred.iloc[:, 5:-1].values\n",
    "y4_pred = df4_pred['theory'].values"
   ]
  },
  {
   "cell_type": "code",
   "execution_count": 25,
   "metadata": {},
   "outputs": [],
   "source": [
    "# X = df_nonzero.iloc[:, 5:-1].values\n",
    "# y = df_nonzero['theory'].values\n",
    "\n",
    "# X4_train, X4_test, y4_train, y4_test = train_test_split(\n",
    "#     X, y, test_size=0.3, random_state=0)"
   ]
  },
  {
   "cell_type": "code",
   "execution_count": 16,
   "metadata": {},
   "outputs": [
    {
     "name": "stdout",
     "output_type": "stream",
     "text": [
      "(870485, 5)\n",
      "(870485,)\n",
      "(34011, 5)\n",
      "(34011,)\n",
      "(34012, 5)\n",
      "(34012,)\n"
     ]
    }
   ],
   "source": [
    "# print(X.shape)\n",
    "# print(y.shape)\n",
    "print(X4_train.shape)\n",
    "print(y4_train.shape)\n",
    "print(X4_test.shape)\n",
    "print(y4_test.shape)\n",
    "print(X4_pred.shape)\n",
    "print(y4_pred.shape)"
   ]
  },
  {
   "cell_type": "markdown",
   "metadata": {},
   "source": [
    "# Include zero 36 to 38"
   ]
  },
  {
   "cell_type": "code",
   "execution_count": 23,
   "metadata": {},
   "outputs": [],
   "source": [
    "X_train = X4_train\n",
    "y_train = y4_train\n",
    "X_test = X4_test\n",
    "y_test = y4_test"
   ]
  },
  {
   "cell_type": "code",
   "execution_count": 12,
   "metadata": {},
   "outputs": [
    {
     "name": "stderr",
     "output_type": "stream",
     "text": [
      "2022-11-13 00:28:22.852367: I tensorflow/core/platform/cpu_feature_guard.cc:193] This TensorFlow binary is optimized with oneAPI Deep Neural Network Library (oneDNN) to use the following CPU instructions in performance-critical operations:  SSE4.1 SSE4.2 AVX AVX2 FMA\n",
      "To enable them in other operations, rebuild TensorFlow with the appropriate compiler flags.\n"
     ]
    }
   ],
   "source": [
    "shape = (len(X_train[0]),)\n",
    "model = keras.Sequential()\n",
    "model.add(Dense(5, activation='relu', input_shape=shape)) \n",
    "model.add(Dense(5, activation='relu'))\n",
    "model.add(Dense(1, activation='linear'))\n",
    "model.compile(optimizer='adamax', loss='mse', metrics=[\"accuracy\"])"
   ]
  },
  {
   "cell_type": "code",
   "execution_count": 13,
   "metadata": {},
   "outputs": [
    {
     "name": "stdout",
     "output_type": "stream",
     "text": [
      "Epoch 1/100\n",
      "90112/90112 [==============================] - 86s 948us/step - loss: 64.3810 - accuracy: 0.8077 - val_loss: 28.9306 - val_accuracy: 0.8114\n",
      "Epoch 2/100\n",
      "90112/90112 [==============================] - 87s 960us/step - loss: 37.0285 - accuracy: 0.8078 - val_loss: 20.2767 - val_accuracy: 0.8114\n",
      "Epoch 3/100\n",
      "90112/90112 [==============================] - 82s 912us/step - loss: 35.0177 - accuracy: 0.8078 - val_loss: 17.4437 - val_accuracy: 0.8114\n",
      "Epoch 4/100\n",
      "90112/90112 [==============================] - 3168s 35ms/step - loss: 34.0024 - accuracy: 0.8077 - val_loss: 15.2715 - val_accuracy: 0.8114\n",
      "Epoch 5/100\n",
      "90112/90112 [==============================] - 78s 861us/step - loss: 33.4753 - accuracy: 0.8077 - val_loss: 14.6795 - val_accuracy: 0.8112\n",
      "Epoch 6/100\n",
      "90112/90112 [==============================] - 75s 833us/step - loss: 33.2833 - accuracy: 0.8077 - val_loss: 13.7383 - val_accuracy: 0.8112\n",
      "Epoch 7/100\n",
      "90112/90112 [==============================] - 83s 919us/step - loss: 33.0636 - accuracy: 0.8077 - val_loss: 12.7710 - val_accuracy: 0.8112\n",
      "Epoch 8/100\n",
      "90112/90112 [==============================] - 82s 905us/step - loss: 32.8749 - accuracy: 0.8077 - val_loss: 11.9367 - val_accuracy: 0.8112\n",
      "Epoch 9/100\n",
      "90112/90112 [==============================] - 106s 1ms/step - loss: 32.6409 - accuracy: 0.8077 - val_loss: 11.7732 - val_accuracy: 0.8114\n",
      "Epoch 10/100\n",
      "90112/90112 [==============================] - 91s 1ms/step - loss: 32.5277 - accuracy: 0.8077 - val_loss: 11.5642 - val_accuracy: 0.8112\n",
      "Epoch 11/100\n",
      "90112/90112 [==============================] - 82s 913us/step - loss: 32.4524 - accuracy: 0.8076 - val_loss: 12.3502 - val_accuracy: 0.8112\n",
      "Epoch 12/100\n",
      "90112/90112 [==============================] - 1874s 21ms/step - loss: 32.4330 - accuracy: 0.8076 - val_loss: 11.9150 - val_accuracy: 0.8112\n",
      "Epoch 13/100\n",
      "90112/90112 [==============================] - 984s 11ms/step - loss: 32.3573 - accuracy: 0.8076 - val_loss: 11.3073 - val_accuracy: 0.8114\n",
      "Epoch 14/100\n",
      "90112/90112 [==============================] - 73s 815us/step - loss: 32.3154 - accuracy: 0.8076 - val_loss: 11.0109 - val_accuracy: 0.8112\n",
      "Epoch 15/100\n",
      "90112/90112 [==============================] - 77s 852us/step - loss: 32.2414 - accuracy: 0.8076 - val_loss: 11.1014 - val_accuracy: 0.8112\n",
      "Epoch 16/100\n",
      "90112/90112 [==============================] - 991s 11ms/step - loss: 32.2119 - accuracy: 0.8076 - val_loss: 13.1404 - val_accuracy: 0.8112\n",
      "Epoch 17/100\n",
      "90112/90112 [==============================] - 76s 839us/step - loss: 32.1908 - accuracy: 0.8076 - val_loss: 11.5760 - val_accuracy: 0.8112\n",
      "Epoch 18/100\n",
      "90112/90112 [==============================] - 76s 840us/step - loss: 32.2189 - accuracy: 0.8076 - val_loss: 10.9177 - val_accuracy: 0.8112\n",
      "Epoch 19/100\n",
      "90112/90112 [==============================] - 1024s 11ms/step - loss: 32.1545 - accuracy: 0.8076 - val_loss: 11.3190 - val_accuracy: 0.8112\n",
      "Epoch 20/100\n",
      "90112/90112 [==============================] - 2062s 23ms/step - loss: 32.2380 - accuracy: 0.8076 - val_loss: 11.4890 - val_accuracy: 0.8112\n",
      "Epoch 21/100\n",
      "90112/90112 [==============================] - 81s 904us/step - loss: 32.1864 - accuracy: 0.8076 - val_loss: 12.2204 - val_accuracy: 0.8112\n",
      "Epoch 22/100\n",
      "90112/90112 [==============================] - 84s 934us/step - loss: 32.1875 - accuracy: 0.8076 - val_loss: 11.6696 - val_accuracy: 0.8112\n",
      "Epoch 23/100\n",
      "90112/90112 [==============================] - 77s 858us/step - loss: 32.0454 - accuracy: 0.8076 - val_loss: 11.3280 - val_accuracy: 0.8112\n",
      "Epoch 24/100\n",
      "90112/90112 [==============================] - 75s 827us/step - loss: 32.0632 - accuracy: 0.8076 - val_loss: 11.3175 - val_accuracy: 0.8112\n",
      "Epoch 25/100\n",
      "90112/90112 [==============================] - 77s 850us/step - loss: 32.0919 - accuracy: 0.8076 - val_loss: 11.4191 - val_accuracy: 0.8112\n",
      "Epoch 26/100\n",
      "90112/90112 [==============================] - 82s 910us/step - loss: 31.9449 - accuracy: 0.8076 - val_loss: 10.7018 - val_accuracy: 0.8112\n",
      "Epoch 27/100\n",
      "90112/90112 [==============================] - 81s 903us/step - loss: 31.9756 - accuracy: 0.8076 - val_loss: 11.1361 - val_accuracy: 0.8112\n",
      "Epoch 28/100\n",
      "90112/90112 [==============================] - 78s 869us/step - loss: 31.9620 - accuracy: 0.8076 - val_loss: 11.1310 - val_accuracy: 0.8112\n",
      "Epoch 29/100\n",
      "90112/90112 [==============================] - 7278s 81ms/step - loss: 31.9684 - accuracy: 0.8076 - val_loss: 11.1572 - val_accuracy: 0.8112\n",
      "Epoch 30/100\n",
      "90112/90112 [==============================] - 761s 8ms/step - loss: 31.9194 - accuracy: 0.8076 - val_loss: 11.0210 - val_accuracy: 0.8112\n",
      "Epoch 31/100\n",
      "90112/90112 [==============================] - 89s 983us/step - loss: 31.9457 - accuracy: 0.8076 - val_loss: 10.8838 - val_accuracy: 0.8112\n",
      "Epoch 32/100\n",
      "90112/90112 [==============================] - 84s 935us/step - loss: 31.8912 - accuracy: 0.8076 - val_loss: 11.0240 - val_accuracy: 0.8112\n",
      "Epoch 33/100\n",
      "90112/90112 [==============================] - 90s 995us/step - loss: 31.8926 - accuracy: 0.8076 - val_loss: 11.0748 - val_accuracy: 0.8112\n",
      "Epoch 34/100\n",
      "90112/90112 [==============================] - 111s 1ms/step - loss: 31.8975 - accuracy: 0.8076 - val_loss: 10.9283 - val_accuracy: 0.8112\n",
      "Epoch 35/100\n",
      "90112/90112 [==============================] - 3255s 36ms/step - loss: 31.8738 - accuracy: 0.8076 - val_loss: 11.0008 - val_accuracy: 0.8112\n",
      "Epoch 36/100\n",
      "90112/90112 [==============================] - 76s 842us/step - loss: 31.8416 - accuracy: 0.8076 - val_loss: 11.2641 - val_accuracy: 0.8112\n",
      "Epoch 37/100\n",
      "90112/90112 [==============================] - 79s 875us/step - loss: 31.8632 - accuracy: 0.8076 - val_loss: 10.6305 - val_accuracy: 0.8112\n",
      "Epoch 38/100\n",
      "90112/90112 [==============================] - 82s 906us/step - loss: 31.9663 - accuracy: 0.8076 - val_loss: 10.6907 - val_accuracy: 0.8112\n",
      "Epoch 39/100\n",
      "90112/90112 [==============================] - 99s 1ms/step - loss: 31.9056 - accuracy: 0.8076 - val_loss: 10.8699 - val_accuracy: 0.8112\n",
      "Epoch 40/100\n",
      "90112/90112 [==============================] - 99s 1ms/step - loss: 31.9075 - accuracy: 0.8076 - val_loss: 10.7390 - val_accuracy: 0.8112\n",
      "Epoch 41/100\n",
      "90112/90112 [==============================] - 5922s 66ms/step - loss: 31.8238 - accuracy: 0.8076 - val_loss: 10.6555 - val_accuracy: 0.8112\n",
      "Epoch 42/100\n",
      "90112/90112 [==============================] - 77s 860us/step - loss: 31.8849 - accuracy: 0.8076 - val_loss: 10.9764 - val_accuracy: 0.8112\n",
      "Epoch 43/100\n",
      "90112/90112 [==============================] - 82s 914us/step - loss: 31.8619 - accuracy: 0.8076 - val_loss: 10.5812 - val_accuracy: 0.8112\n",
      "Epoch 44/100\n",
      "90112/90112 [==============================] - 104s 1ms/step - loss: 31.8993 - accuracy: 0.8076 - val_loss: 11.2191 - val_accuracy: 0.8112\n",
      "Epoch 45/100\n",
      "90112/90112 [==============================] - 93s 1ms/step - loss: 31.9170 - accuracy: 0.8076 - val_loss: 10.9936 - val_accuracy: 0.8112\n",
      "Epoch 46/100\n",
      "90112/90112 [==============================] - 277s 3ms/step - loss: 31.8693 - accuracy: 0.8076 - val_loss: 11.0179 - val_accuracy: 0.8112\n",
      "Epoch 47/100\n",
      "90112/90112 [==============================] - 92s 1ms/step - loss: 31.9218 - accuracy: 0.8076 - val_loss: 10.9687 - val_accuracy: 0.8112\n",
      "Epoch 48/100\n",
      "90112/90112 [==============================] - 89s 986us/step - loss: 31.8357 - accuracy: 0.8076 - val_loss: 12.0520 - val_accuracy: 0.8112\n",
      "Epoch 49/100\n",
      "90112/90112 [==============================] - 88s 972us/step - loss: 31.8168 - accuracy: 0.8076 - val_loss: 10.7859 - val_accuracy: 0.8112\n",
      "Epoch 50/100\n",
      "90112/90112 [==============================] - 86s 956us/step - loss: 31.9340 - accuracy: 0.8076 - val_loss: 10.7526 - val_accuracy: 0.8112\n",
      "Epoch 51/100\n",
      "90112/90112 [==============================] - 93s 1ms/step - loss: 31.8600 - accuracy: 0.8076 - val_loss: 10.9531 - val_accuracy: 0.8112\n",
      "Epoch 52/100\n",
      "90112/90112 [==============================] - 84s 933us/step - loss: 31.8607 - accuracy: 0.8076 - val_loss: 11.2579 - val_accuracy: 0.8112\n",
      "Epoch 53/100\n",
      "90112/90112 [==============================] - 82s 907us/step - loss: 31.8807 - accuracy: 0.8076 - val_loss: 11.0118 - val_accuracy: 0.8112\n",
      "Epoch 54/100\n",
      "90112/90112 [==============================] - 80s 888us/step - loss: 31.8675 - accuracy: 0.8076 - val_loss: 11.1578 - val_accuracy: 0.8112\n",
      "Epoch 55/100\n",
      "90112/90112 [==============================] - 77s 859us/step - loss: 31.8844 - accuracy: 0.8076 - val_loss: 11.4793 - val_accuracy: 0.8112\n",
      "Epoch 56/100\n",
      "90112/90112 [==============================] - 77s 857us/step - loss: 31.8493 - accuracy: 0.8076 - val_loss: 11.1650 - val_accuracy: 0.8112\n",
      "Epoch 57/100\n",
      "90112/90112 [==============================] - 78s 862us/step - loss: 31.8638 - accuracy: 0.8076 - val_loss: 11.7074 - val_accuracy: 0.8112\n",
      "Epoch 58/100\n",
      "90112/90112 [==============================] - 78s 865us/step - loss: 31.8577 - accuracy: 0.8076 - val_loss: 11.1802 - val_accuracy: 0.8112\n",
      "Epoch 59/100\n",
      "90112/90112 [==============================] - 78s 860us/step - loss: 31.8614 - accuracy: 0.8076 - val_loss: 11.3456 - val_accuracy: 0.8112\n",
      "Epoch 60/100\n",
      "90112/90112 [==============================] - 77s 860us/step - loss: 31.8194 - accuracy: 0.8076 - val_loss: 10.8375 - val_accuracy: 0.8112\n",
      "Epoch 61/100\n",
      "90112/90112 [==============================] - 78s 860us/step - loss: 31.8559 - accuracy: 0.8076 - val_loss: 11.0571 - val_accuracy: 0.8112\n",
      "Epoch 62/100\n",
      "90112/90112 [==============================] - 84s 931us/step - loss: 31.8137 - accuracy: 0.8076 - val_loss: 10.9745 - val_accuracy: 0.8112\n",
      "Epoch 63/100\n",
      "90112/90112 [==============================] - 82s 908us/step - loss: 31.8388 - accuracy: 0.8076 - val_loss: 11.7230 - val_accuracy: 0.8112\n",
      "Epoch 64/100\n",
      "90112/90112 [==============================] - 81s 898us/step - loss: 31.8770 - accuracy: 0.8076 - val_loss: 11.2936 - val_accuracy: 0.8112\n",
      "Epoch 65/100\n",
      "90112/90112 [==============================] - 82s 907us/step - loss: 31.8834 - accuracy: 0.8076 - val_loss: 11.6722 - val_accuracy: 0.8112\n",
      "Epoch 66/100\n",
      "90112/90112 [==============================] - 86s 956us/step - loss: 31.8368 - accuracy: 0.8076 - val_loss: 11.1756 - val_accuracy: 0.8112\n",
      "Epoch 67/100\n",
      "90112/90112 [==============================] - 79s 874us/step - loss: 31.9141 - accuracy: 0.8076 - val_loss: 11.1396 - val_accuracy: 0.8112\n",
      "Epoch 68/100\n",
      "90112/90112 [==============================] - 79s 882us/step - loss: 31.8512 - accuracy: 0.8076 - val_loss: 11.6418 - val_accuracy: 0.8112\n",
      "Epoch 69/100\n",
      "90112/90112 [==============================] - 91s 1ms/step - loss: 31.8437 - accuracy: 0.8076 - val_loss: 10.8331 - val_accuracy: 0.8112\n",
      "Epoch 70/100\n",
      "90112/90112 [==============================] - 78s 870us/step - loss: 31.9200 - accuracy: 0.8076 - val_loss: 10.9121 - val_accuracy: 0.8112\n",
      "Epoch 71/100\n",
      "90112/90112 [==============================] - 81s 899us/step - loss: 31.8372 - accuracy: 0.8076 - val_loss: 10.7566 - val_accuracy: 0.8112\n",
      "Epoch 72/100\n",
      "90112/90112 [==============================] - 78s 866us/step - loss: 31.9184 - accuracy: 0.8076 - val_loss: 10.9303 - val_accuracy: 0.8112\n",
      "Epoch 73/100\n",
      "90112/90112 [==============================] - 80s 892us/step - loss: 31.9147 - accuracy: 0.8076 - val_loss: 11.5174 - val_accuracy: 0.8112\n",
      "Epoch 74/100\n",
      "90112/90112 [==============================] - 81s 900us/step - loss: 31.8353 - accuracy: 0.8076 - val_loss: 10.7587 - val_accuracy: 0.8112\n",
      "Epoch 75/100\n",
      "90112/90112 [==============================] - 82s 912us/step - loss: 31.9323 - accuracy: 0.8076 - val_loss: 10.7644 - val_accuracy: 0.8112\n",
      "Epoch 76/100\n",
      "90112/90112 [==============================] - 84s 929us/step - loss: 31.9670 - accuracy: 0.8076 - val_loss: 11.7131 - val_accuracy: 0.8112\n",
      "Epoch 77/100\n",
      "90112/90112 [==============================] - 84s 934us/step - loss: 32.0613 - accuracy: 0.8076 - val_loss: 12.2819 - val_accuracy: 0.8112\n",
      "Epoch 78/100\n",
      "90112/90112 [==============================] - 81s 898us/step - loss: 32.0392 - accuracy: 0.8076 - val_loss: 11.2378 - val_accuracy: 0.8112\n",
      "Epoch 79/100\n",
      "90112/90112 [==============================] - 79s 882us/step - loss: 32.0751 - accuracy: 0.8076 - val_loss: 11.7002 - val_accuracy: 0.8112\n",
      "Epoch 80/100\n",
      "90112/90112 [==============================] - 82s 912us/step - loss: 32.0132 - accuracy: 0.8076 - val_loss: 12.8048 - val_accuracy: 0.8112\n",
      "Epoch 81/100\n",
      "90112/90112 [==============================] - 80s 891us/step - loss: 32.1154 - accuracy: 0.8076 - val_loss: 11.6868 - val_accuracy: 0.8112\n",
      "Epoch 82/100\n",
      "90112/90112 [==============================] - 85s 942us/step - loss: 32.0708 - accuracy: 0.8076 - val_loss: 12.1977 - val_accuracy: 0.8112\n",
      "Epoch 83/100\n",
      "90112/90112 [==============================] - 85s 949us/step - loss: 32.1769 - accuracy: 0.8076 - val_loss: 12.7372 - val_accuracy: 0.8112\n",
      "Epoch 84/100\n",
      "90112/90112 [==============================] - 79s 879us/step - loss: 32.0370 - accuracy: 0.8076 - val_loss: 11.7947 - val_accuracy: 0.8112\n",
      "Epoch 85/100\n",
      "90112/90112 [==============================] - 77s 855us/step - loss: 32.0725 - accuracy: 0.8076 - val_loss: 11.7074 - val_accuracy: 0.8112\n",
      "Epoch 86/100\n",
      "90112/90112 [==============================] - 77s 853us/step - loss: 32.1479 - accuracy: 0.8076 - val_loss: 10.9637 - val_accuracy: 0.8112\n",
      "Epoch 87/100\n",
      "90112/90112 [==============================] - 77s 855us/step - loss: 32.1325 - accuracy: 0.8076 - val_loss: 12.6714 - val_accuracy: 0.8112\n",
      "Epoch 88/100\n",
      "90112/90112 [==============================] - 77s 851us/step - loss: 32.2330 - accuracy: 0.8076 - val_loss: 11.9755 - val_accuracy: 0.8112\n",
      "Epoch 89/100\n",
      "90112/90112 [==============================] - 77s 859us/step - loss: 32.1416 - accuracy: 0.8076 - val_loss: 11.5426 - val_accuracy: 0.8112\n",
      "Epoch 90/100\n",
      "90112/90112 [==============================] - 77s 855us/step - loss: 32.2530 - accuracy: 0.8076 - val_loss: 11.3309 - val_accuracy: 0.8112\n",
      "Epoch 91/100\n",
      "90112/90112 [==============================] - 82s 908us/step - loss: 32.0836 - accuracy: 0.8076 - val_loss: 11.0502 - val_accuracy: 0.8112\n",
      "Epoch 92/100\n",
      "90112/90112 [==============================] - 77s 855us/step - loss: 32.1699 - accuracy: 0.8076 - val_loss: 12.5639 - val_accuracy: 0.8112\n",
      "Epoch 93/100\n",
      "90112/90112 [==============================] - 77s 857us/step - loss: 32.0902 - accuracy: 0.8076 - val_loss: 10.9864 - val_accuracy: 0.8112\n",
      "Epoch 94/100\n",
      "90112/90112 [==============================] - 77s 853us/step - loss: 32.1477 - accuracy: 0.8076 - val_loss: 10.9202 - val_accuracy: 0.8112\n",
      "Epoch 95/100\n",
      "90112/90112 [==============================] - 77s 858us/step - loss: 32.1187 - accuracy: 0.8076 - val_loss: 11.0975 - val_accuracy: 0.8112\n",
      "Epoch 96/100\n",
      "90112/90112 [==============================] - 78s 863us/step - loss: 32.0772 - accuracy: 0.8076 - val_loss: 11.2338 - val_accuracy: 0.8112\n",
      "Epoch 97/100\n",
      "90112/90112 [==============================] - 77s 856us/step - loss: 32.0810 - accuracy: 0.8076 - val_loss: 11.2616 - val_accuracy: 0.8112\n",
      "Epoch 98/100\n",
      "90112/90112 [==============================] - 77s 854us/step - loss: 31.9589 - accuracy: 0.8076 - val_loss: 10.7578 - val_accuracy: 0.8112\n",
      "Epoch 99/100\n",
      "90112/90112 [==============================] - 77s 857us/step - loss: 32.0319 - accuracy: 0.8076 - val_loss: 11.3360 - val_accuracy: 0.8112\n",
      "Epoch 100/100\n",
      "90112/90112 [==============================] - 77s 857us/step - loss: 31.9525 - accuracy: 0.8076 - val_loss: 11.5037 - val_accuracy: 0.8112\n"
     ]
    }
   ],
   "source": [
    "history = model.fit(X_train, y_train, epochs=100, batch_size=32, validation_data=[X_test, y_test])"
   ]
  },
  {
   "cell_type": "code",
   "execution_count": 14,
   "metadata": {},
   "outputs": [
    {
     "name": "stdout",
     "output_type": "stream",
     "text": [
      "90112/90112 [==============================] - 58s 646us/step\n",
      "32.13113009171346\n",
      "0.8639515224917037\n",
      "5632/5632 [==============================] - 4s 654us/step\n",
      "11.503959924863885\n",
      "0.8785913891610487\n"
     ]
    }
   ],
   "source": [
    "train_pred = model.predict(X_train)\n",
    "print(mse(train_pred, y_train))\n",
    "print(mape(train_pred, y_train))\n",
    "test_pred = model.predict(X_test)\n",
    "print(mse(test_pred, y_test))\n",
    "print(mape(test_pred, y_test))"
   ]
  },
  {
   "cell_type": "code",
   "execution_count": 15,
   "metadata": {},
   "outputs": [
    {
     "name": "stdout",
     "output_type": "stream",
     "text": [
      "5632/5632 [==============================] - 4s 756us/step - loss: 11.5037 - accuracy: 0.8112\n"
     ]
    },
    {
     "data": {
      "text/plain": [
       "[11.503734588623047, 0.8112238049507141]"
      ]
     },
     "execution_count": 15,
     "metadata": {},
     "output_type": "execute_result"
    }
   ],
   "source": [
    "model.evaluate(X_test, y_test)"
   ]
  },
  {
   "cell_type": "code",
   "execution_count": 16,
   "metadata": {},
   "outputs": [
    {
     "data": {
      "text/plain": [
       "array([[1.        , 0.89091311],\n",
       "       [0.89091311, 1.        ]])"
      ]
     },
     "execution_count": 16,
     "metadata": {},
     "output_type": "execute_result"
    }
   ],
   "source": [
    "np.corrcoef(test_pred.flatten(), y_test)"
   ]
  },
  {
   "cell_type": "code",
   "execution_count": 17,
   "metadata": {},
   "outputs": [
    {
     "name": "stdout",
     "output_type": "stream",
     "text": [
      "Model: \"sequential\"\n",
      "_________________________________________________________________\n",
      " Layer (type)                Output Shape              Param #   \n",
      "=================================================================\n",
      " dense (Dense)               (None, 10)                60        \n",
      "                                                                 \n",
      " dense_1 (Dense)             (None, 10)                110       \n",
      "                                                                 \n",
      " dense_2 (Dense)             (None, 10)                110       \n",
      "                                                                 \n",
      " dense_3 (Dense)             (None, 1)                 11        \n",
      "                                                                 \n",
      "=================================================================\n",
      "Total params: 291\n",
      "Trainable params: 291\n",
      "Non-trainable params: 0\n",
      "_________________________________________________________________\n"
     ]
    }
   ],
   "source": [
    "model.summary()"
   ]
  },
  {
   "cell_type": "code",
   "execution_count": 18,
   "metadata": {},
   "outputs": [
    {
     "data": {
      "text/plain": [
       "{'loss': [64.38101959228516,\n",
       "  37.02849197387695,\n",
       "  35.01773452758789,\n",
       "  34.002403259277344,\n",
       "  33.47531509399414,\n",
       "  33.28331756591797,\n",
       "  33.063594818115234,\n",
       "  32.87491989135742,\n",
       "  32.64092254638672,\n",
       "  32.527706146240234,\n",
       "  32.4524040222168,\n",
       "  32.43301010131836,\n",
       "  32.35726547241211,\n",
       "  32.315399169921875,\n",
       "  32.24143981933594,\n",
       "  32.21194076538086,\n",
       "  32.19076156616211,\n",
       "  32.218902587890625,\n",
       "  32.15449142456055,\n",
       "  32.237972259521484,\n",
       "  32.186405181884766,\n",
       "  32.187496185302734,\n",
       "  32.04540252685547,\n",
       "  32.06322479248047,\n",
       "  32.09186553955078,\n",
       "  31.944923400878906,\n",
       "  31.975614547729492,\n",
       "  31.961957931518555,\n",
       "  31.96839141845703,\n",
       "  31.91943359375,\n",
       "  31.945650100708008,\n",
       "  31.8912296295166,\n",
       "  31.892553329467773,\n",
       "  31.897510528564453,\n",
       "  31.873777389526367,\n",
       "  31.841564178466797,\n",
       "  31.863245010375977,\n",
       "  31.966325759887695,\n",
       "  31.905590057373047,\n",
       "  31.907508850097656,\n",
       "  31.823766708374023,\n",
       "  31.884929656982422,\n",
       "  31.86187171936035,\n",
       "  31.89930534362793,\n",
       "  31.916975021362305,\n",
       "  31.86927604675293,\n",
       "  31.92180824279785,\n",
       "  31.835693359375,\n",
       "  31.816755294799805,\n",
       "  31.93402099609375,\n",
       "  31.859973907470703,\n",
       "  31.860742568969727,\n",
       "  31.88067054748535,\n",
       "  31.86748695373535,\n",
       "  31.884410858154297,\n",
       "  31.849332809448242,\n",
       "  31.863794326782227,\n",
       "  31.85765838623047,\n",
       "  31.86138153076172,\n",
       "  31.819427490234375,\n",
       "  31.85590171813965,\n",
       "  31.813718795776367,\n",
       "  31.83880615234375,\n",
       "  31.876989364624023,\n",
       "  31.883350372314453,\n",
       "  31.836814880371094,\n",
       "  31.914140701293945,\n",
       "  31.851158142089844,\n",
       "  31.843730926513672,\n",
       "  31.920013427734375,\n",
       "  31.8371639251709,\n",
       "  31.918363571166992,\n",
       "  31.914745330810547,\n",
       "  31.83527374267578,\n",
       "  31.932334899902344,\n",
       "  31.967018127441406,\n",
       "  32.06130599975586,\n",
       "  32.0391960144043,\n",
       "  32.07512283325195,\n",
       "  32.01318359375,\n",
       "  32.11537170410156,\n",
       "  32.070838928222656,\n",
       "  32.17692565917969,\n",
       "  32.03703689575195,\n",
       "  32.07252883911133,\n",
       "  32.147945404052734,\n",
       "  32.13247299194336,\n",
       "  32.232967376708984,\n",
       "  32.14155578613281,\n",
       "  32.253021240234375,\n",
       "  32.08357238769531,\n",
       "  32.1699104309082,\n",
       "  32.090206146240234,\n",
       "  32.14767074584961,\n",
       "  32.11871337890625,\n",
       "  32.077205657958984,\n",
       "  32.08098602294922,\n",
       "  31.958892822265625,\n",
       "  32.031917572021484,\n",
       "  31.9525203704834],\n",
       " 'accuracy': [0.8076539635658264,\n",
       "  0.8077704906463623,\n",
       "  0.8077625036239624,\n",
       "  0.8077316284179688,\n",
       "  0.8077035546302795,\n",
       "  0.807681679725647,\n",
       "  0.807664692401886,\n",
       "  0.8076539635658264,\n",
       "  0.807654619216919,\n",
       "  0.8076501488685608,\n",
       "  0.8076480627059937,\n",
       "  0.8076400756835938,\n",
       "  0.8076425194740295,\n",
       "  0.8076393604278564,\n",
       "  0.8076397180557251,\n",
       "  0.8076418042182922,\n",
       "  0.8076387047767639,\n",
       "  0.8076338171958923,\n",
       "  0.8076258301734924,\n",
       "  0.8076116442680359,\n",
       "  0.807607114315033,\n",
       "  0.8076061010360718,\n",
       "  0.8076064586639404,\n",
       "  0.807607114315033,\n",
       "  0.8076074719429016,\n",
       "  0.8076074719429016,\n",
       "  0.807607114315033,\n",
       "  0.8076074719429016,\n",
       "  0.8076085448265076,\n",
       "  0.8076078295707703,\n",
       "  0.8076095581054688,\n",
       "  0.8076085448265076,\n",
       "  0.8076078295707703,\n",
       "  0.8076095581054688,\n",
       "  0.8076081871986389,\n",
       "  0.8076074719429016,\n",
       "  0.8076081871986389,\n",
       "  0.8076085448265076,\n",
       "  0.8076078295707703,\n",
       "  0.8076078295707703,\n",
       "  0.8076085448265076,\n",
       "  0.8076074719429016,\n",
       "  0.8076081871986389,\n",
       "  0.8076078295707703,\n",
       "  0.8076092004776001,\n",
       "  0.8076088428497314,\n",
       "  0.8076081871986389,\n",
       "  0.8076085448265076,\n",
       "  0.8076085448265076,\n",
       "  0.8076088428497314,\n",
       "  0.8076085448265076,\n",
       "  0.8076081871986389,\n",
       "  0.8076088428497314,\n",
       "  0.8076092004776001,\n",
       "  0.8076092004776001,\n",
       "  0.8076081871986389,\n",
       "  0.8076095581054688,\n",
       "  0.8076081871986389,\n",
       "  0.8076085448265076,\n",
       "  0.8076092004776001,\n",
       "  0.8076092004776001,\n",
       "  0.8076088428497314,\n",
       "  0.8076081871986389,\n",
       "  0.8076085448265076,\n",
       "  0.8076081871986389,\n",
       "  0.8076092004776001,\n",
       "  0.8076088428497314,\n",
       "  0.8076088428497314,\n",
       "  0.8076064586639404,\n",
       "  0.807607114315033,\n",
       "  0.8076085448265076,\n",
       "  0.8076081871986389,\n",
       "  0.8076092004776001,\n",
       "  0.8076085448265076,\n",
       "  0.8076092004776001,\n",
       "  0.8076085448265076,\n",
       "  0.8076078295707703,\n",
       "  0.8076095581054688,\n",
       "  0.8076081871986389,\n",
       "  0.8076078295707703,\n",
       "  0.8076088428497314,\n",
       "  0.8076081871986389,\n",
       "  0.8076085448265076,\n",
       "  0.8076085448265076,\n",
       "  0.8076092004776001,\n",
       "  0.8076088428497314,\n",
       "  0.8076105713844299,\n",
       "  0.8076105713844299,\n",
       "  0.8076095581054688,\n",
       "  0.8076099157333374,\n",
       "  0.8076092004776001,\n",
       "  0.8076120018959045,\n",
       "  0.8076099157333374,\n",
       "  0.8076081871986389,\n",
       "  0.8076081871986389,\n",
       "  0.8076095581054688,\n",
       "  0.8076099157333374,\n",
       "  0.8076074719429016,\n",
       "  0.807610273361206,\n",
       "  0.8076099157333374],\n",
       " 'val_loss': [28.93059539794922,\n",
       "  20.27674674987793,\n",
       "  17.44365692138672,\n",
       "  15.271529197692871,\n",
       "  14.679473876953125,\n",
       "  13.738285064697266,\n",
       "  12.770979881286621,\n",
       "  11.936718940734863,\n",
       "  11.773177146911621,\n",
       "  11.564163208007812,\n",
       "  12.350152969360352,\n",
       "  11.915022850036621,\n",
       "  11.307333946228027,\n",
       "  11.010860443115234,\n",
       "  11.10144329071045,\n",
       "  13.140399932861328,\n",
       "  11.57596492767334,\n",
       "  10.917652130126953,\n",
       "  11.319022178649902,\n",
       "  11.489017486572266,\n",
       "  12.220381736755371,\n",
       "  11.669573783874512,\n",
       "  11.327950477600098,\n",
       "  11.317488670349121,\n",
       "  11.419096946716309,\n",
       "  10.701821327209473,\n",
       "  11.136083602905273,\n",
       "  11.131031036376953,\n",
       "  11.157173156738281,\n",
       "  11.021035194396973,\n",
       "  10.883806228637695,\n",
       "  11.023988723754883,\n",
       "  11.074808120727539,\n",
       "  10.928290367126465,\n",
       "  11.000779151916504,\n",
       "  11.264143943786621,\n",
       "  10.630478858947754,\n",
       "  10.690657615661621,\n",
       "  10.86989688873291,\n",
       "  10.739025115966797,\n",
       "  10.65546989440918,\n",
       "  10.97638988494873,\n",
       "  10.581214904785156,\n",
       "  11.219082832336426,\n",
       "  10.993609428405762,\n",
       "  11.017912864685059,\n",
       "  10.968728065490723,\n",
       "  12.051983833312988,\n",
       "  10.785933494567871,\n",
       "  10.75257396697998,\n",
       "  10.953118324279785,\n",
       "  11.257869720458984,\n",
       "  11.011756896972656,\n",
       "  11.157753944396973,\n",
       "  11.479255676269531,\n",
       "  11.165045738220215,\n",
       "  11.707425117492676,\n",
       "  11.180167198181152,\n",
       "  11.34557819366455,\n",
       "  10.837498664855957,\n",
       "  11.057101249694824,\n",
       "  10.974491119384766,\n",
       "  11.722979545593262,\n",
       "  11.29355525970459,\n",
       "  11.672192573547363,\n",
       "  11.175594329833984,\n",
       "  11.13961410522461,\n",
       "  11.641763687133789,\n",
       "  10.833093643188477,\n",
       "  10.912102699279785,\n",
       "  10.75662899017334,\n",
       "  10.930292129516602,\n",
       "  11.51744556427002,\n",
       "  10.75871753692627,\n",
       "  10.764420509338379,\n",
       "  11.713118553161621,\n",
       "  12.281879425048828,\n",
       "  11.237778663635254,\n",
       "  11.700173377990723,\n",
       "  12.804798126220703,\n",
       "  11.686803817749023,\n",
       "  12.19765853881836,\n",
       "  12.737228393554688,\n",
       "  11.794747352600098,\n",
       "  11.70743179321289,\n",
       "  10.96366024017334,\n",
       "  12.671420097351074,\n",
       "  11.975454330444336,\n",
       "  11.542563438415527,\n",
       "  11.330854415893555,\n",
       "  11.050201416015625,\n",
       "  12.563907623291016,\n",
       "  10.986418724060059,\n",
       "  10.920177459716797,\n",
       "  11.097469329833984,\n",
       "  11.233802795410156,\n",
       "  11.261578559875488,\n",
       "  10.75777816772461,\n",
       "  11.336007118225098,\n",
       "  11.503734588623047],\n",
       " 'val_accuracy': [0.8114069104194641,\n",
       "  0.8114124536514282,\n",
       "  0.8114124536514282,\n",
       "  0.8113958239555359,\n",
       "  0.8112127184867859,\n",
       "  0.8112293481826782,\n",
       "  0.8112238049507141,\n",
       "  0.8112127184867859,\n",
       "  0.8114069104194641,\n",
       "  0.8112127184867859,\n",
       "  0.8112238049507141,\n",
       "  0.81121826171875,\n",
       "  0.8114069104194641,\n",
       "  0.81121826171875,\n",
       "  0.8112127184867859,\n",
       "  0.81121826171875,\n",
       "  0.8112127184867859,\n",
       "  0.81121826171875,\n",
       "  0.8112348914146423,\n",
       "  0.81121826171875,\n",
       "  0.8112238049507141,\n",
       "  0.8112238049507141,\n",
       "  0.81121826171875,\n",
       "  0.81121826171875,\n",
       "  0.8112127184867859,\n",
       "  0.81121826171875,\n",
       "  0.81121826171875,\n",
       "  0.81121826171875,\n",
       "  0.8112238049507141,\n",
       "  0.8112127184867859,\n",
       "  0.8112127184867859,\n",
       "  0.8112238049507141,\n",
       "  0.81121826171875,\n",
       "  0.8112127184867859,\n",
       "  0.8112071752548218,\n",
       "  0.8112127184867859,\n",
       "  0.8112127184867859,\n",
       "  0.8112127184867859,\n",
       "  0.8112127184867859,\n",
       "  0.8112127184867859,\n",
       "  0.8112238049507141,\n",
       "  0.81121826171875,\n",
       "  0.81121826171875,\n",
       "  0.8112127184867859,\n",
       "  0.8112127184867859,\n",
       "  0.8112238049507141,\n",
       "  0.8112127184867859,\n",
       "  0.8112238049507141,\n",
       "  0.8112238049507141,\n",
       "  0.81121826171875,\n",
       "  0.8112238049507141,\n",
       "  0.81121826171875,\n",
       "  0.8112238049507141,\n",
       "  0.8112127184867859,\n",
       "  0.81121826171875,\n",
       "  0.81121826171875,\n",
       "  0.8112238049507141,\n",
       "  0.8112127184867859,\n",
       "  0.8112238049507141,\n",
       "  0.8112127184867859,\n",
       "  0.8112127184867859,\n",
       "  0.8112238049507141,\n",
       "  0.81121826171875,\n",
       "  0.81121826171875,\n",
       "  0.8112127184867859,\n",
       "  0.81121826171875,\n",
       "  0.8112238049507141,\n",
       "  0.81121826171875,\n",
       "  0.81121826171875,\n",
       "  0.8112127184867859,\n",
       "  0.8112238049507141,\n",
       "  0.81121826171875,\n",
       "  0.81121826171875,\n",
       "  0.81121826171875,\n",
       "  0.81121826171875,\n",
       "  0.81121826171875,\n",
       "  0.8112127184867859,\n",
       "  0.8112127184867859,\n",
       "  0.81121826171875,\n",
       "  0.8112127184867859,\n",
       "  0.8112127184867859,\n",
       "  0.8112127184867859,\n",
       "  0.81121826171875,\n",
       "  0.81121826171875,\n",
       "  0.81121826171875,\n",
       "  0.81121826171875,\n",
       "  0.8112127184867859,\n",
       "  0.81121826171875,\n",
       "  0.8112238049507141,\n",
       "  0.8112238049507141,\n",
       "  0.8112127184867859,\n",
       "  0.8112127184867859,\n",
       "  0.8112127184867859,\n",
       "  0.81121826171875,\n",
       "  0.8112127184867859,\n",
       "  0.8112127184867859,\n",
       "  0.81121826171875,\n",
       "  0.8112127184867859,\n",
       "  0.81121826171875,\n",
       "  0.8112238049507141]}"
      ]
     },
     "execution_count": 18,
     "metadata": {},
     "output_type": "execute_result"
    }
   ],
   "source": [
    "history.history"
   ]
  },
  {
   "cell_type": "code",
   "execution_count": 19,
   "metadata": {},
   "outputs": [
    {
     "name": "stdout",
     "output_type": "stream",
     "text": [
      "INFO:tensorflow:Assets written to: ram:///var/folders/yd/vkjb_lqj2_30lnyhzhjqtg9w0000gp/T/tmplsx3uus6/assets\n"
     ]
    }
   ],
   "source": [
    "file = img_path+'model_36to38.sav'\n",
    "pickle.dump(model, open(file, 'wb'))"
   ]
  },
  {
   "cell_type": "code",
   "execution_count": 21,
   "metadata": {},
   "outputs": [
    {
     "name": "stdout",
     "output_type": "stream",
     "text": [
      "1063/1063 [==============================] - 1s 842us/step - loss: 56.8737 - accuracy: 8.8204e-04\n",
      "[56.87367630004883, 0.0008820416405797005]\n"
     ]
    }
   ],
   "source": [
    "load_model = pickle.load(open(file, 'rb'))\n",
    "result = load_model.evaluate(X_test, y_test)\n",
    "print(result)"
   ]
  },
  {
   "cell_type": "markdown",
   "metadata": {},
   "source": [
    "## Plot"
   ]
  },
  {
   "cell_type": "markdown",
   "metadata": {},
   "source": [
    "### Loss function (MSE)"
   ]
  },
  {
   "cell_type": "code",
   "execution_count": 20,
   "metadata": {
    "scrolled": false
   },
   "outputs": [
    {
     "data": {
      "image/png": "[encoded data removed]",
      "text/plain": [
       "<Figure size 640x480 with 1 Axes>"
      ]
     },
     "metadata": {},
     "output_type": "display_data"
    }
   ],
   "source": [
    "model_df = pd.DataFrame(history.history)\n",
    "model_df[['loss', 'val_loss']].plot()\n",
    "plt.xlabel(\"Number of Epochs\")\n",
    "plt.ylabel(\"Loss\")\n",
    "plt.title(\"Training and Validation Loss Over Training Period\", pad=12);"
   ]
  },
  {
   "cell_type": "markdown",
   "metadata": {},
   "source": [
    "### Accuracy"
   ]
  },
  {
   "cell_type": "code",
   "execution_count": 21,
   "metadata": {},
   "outputs": [
    {
     "data": {
      "image/png": "[encoded data removed]",
      "text/plain": [
       "<Figure size 640x480 with 1 Axes>"
      ]
     },
     "metadata": {},
     "output_type": "display_data"
    }
   ],
   "source": [
    "model_df[['accuracy', 'val_accuracy']].plot()\n",
    "plt.xlabel(\"Number of Epochs\")\n",
    "plt.ylabel(\"Accuracy\")\n",
    "plt.title(\"Training and Validation Accuray Over Training Period\", pad=12);"
   ]
  },
  {
   "cell_type": "markdown",
   "metadata": {},
   "source": [
    "### Theory vs Predict"
   ]
  },
  {
   "cell_type": "code",
   "execution_count": 22,
   "metadata": {
    "scrolled": false
   },
   "outputs": [
    {
     "name": "stdout",
     "output_type": "stream",
     "text": [
      "r: 0.89091%, st_er: 0.000897%\n",
      "y = 0.7469*x + 0.2675\n"
     ]
    },
    {
     "data": {
      "image/png": "[encoded data removed]",
      "text/plain": [
       "<Figure size 640x480 with 1 Axes>"
      ]
     },
     "metadata": {},
     "output_type": "display_data"
    }
   ],
   "source": [
    "x = y_test.flatten()\n",
    "y = test_pred.flatten()\n",
    "m, b, r, p, st_er = stats.linregress(x,y) \n",
    "\n",
    "yfit = [b + m * xi for xi in x]\n",
    "yisx = [0 + 1 * xi for xi in x]\n",
    "plt.plot(x, yfit)\n",
    "plt.plot(x, yisx)\n",
    "\n",
    "plt.scatter(y_test, test_pred,  color='black')\n",
    "plt.axis([0,100, 0, 100])\n",
    "plt.xlabel(\"Theory (nT)\")\n",
    "plt.ylabel(\"Prediction (nT)\")\n",
    "plt.title(\"Neural Network Prediction vs Theory\", fontsize=15)\n",
    "# print(r, st_er)\n",
    "print(\"r: {:.5f}, st_er: {:.6f}\".format(r, st_er))\n",
    "print(\"y = \"+str(round(m,4))+\"*x + \"+str(round(b,4)))"
   ]
  },
  {
   "cell_type": "markdown",
   "metadata": {},
   "source": [
    "# Output data"
   ]
  },
  {
   "cell_type": "code",
   "execution_count": 24,
   "metadata": {},
   "outputs": [
    {
     "name": "stdout",
     "output_type": "stream",
     "text": [
      "5632/5632 [==============================] - 4s 737us/step\n"
     ]
    }
   ],
   "source": [
    "test_pred = model.predict(X1_pred)"
   ]
  },
  {
   "cell_type": "code",
   "execution_count": 25,
   "metadata": {},
   "outputs": [
    {
     "data": {
      "text/html": [
       "<div>\n",
       "<style scoped>\n",
       "    .dataframe tbody tr th:only-of-type {\n",
       "        vertical-align: middle;\n",
       "    }\n",
       "\n",
       "    .dataframe tbody tr th {\n",
       "        vertical-align: top;\n",
       "    }\n",
       "\n",
       "    .dataframe thead th {\n",
       "        text-align: right;\n",
       "    }\n",
       "</style>\n",
       "<table border=\"1\" class=\"dataframe\">\n",
       "  <thead>\n",
       "    <tr style=\"text-align: right;\">\n",
       "      <th></th>\n",
       "      <th>exp</th>\n",
       "      <th>mini_exp</th>\n",
       "      <th>i</th>\n",
       "      <th>j</th>\n",
       "      <th>k</th>\n",
       "      <th>mean0</th>\n",
       "      <th>mean1</th>\n",
       "      <th>mean2</th>\n",
       "      <th>mean3</th>\n",
       "      <th>mean4</th>\n",
       "      <th>theory</th>\n",
       "    </tr>\n",
       "  </thead>\n",
       "  <tbody>\n",
       "    <tr>\n",
       "      <th>901120</th>\n",
       "      <td>36</td>\n",
       "      <td>6</td>\n",
       "      <td>0</td>\n",
       "      <td>0</td>\n",
       "      <td>0</td>\n",
       "      <td>0.0</td>\n",
       "      <td>0.0</td>\n",
       "      <td>0.0</td>\n",
       "      <td>0.0</td>\n",
       "      <td>0.0</td>\n",
       "      <td>0.0</td>\n",
       "    </tr>\n",
       "    <tr>\n",
       "      <th>901121</th>\n",
       "      <td>36</td>\n",
       "      <td>6</td>\n",
       "      <td>0</td>\n",
       "      <td>0</td>\n",
       "      <td>1</td>\n",
       "      <td>0.0</td>\n",
       "      <td>0.0</td>\n",
       "      <td>0.0</td>\n",
       "      <td>0.0</td>\n",
       "      <td>0.0</td>\n",
       "      <td>0.0</td>\n",
       "    </tr>\n",
       "    <tr>\n",
       "      <th>901122</th>\n",
       "      <td>36</td>\n",
       "      <td>6</td>\n",
       "      <td>0</td>\n",
       "      <td>0</td>\n",
       "      <td>2</td>\n",
       "      <td>0.0</td>\n",
       "      <td>0.0</td>\n",
       "      <td>0.0</td>\n",
       "      <td>0.0</td>\n",
       "      <td>0.0</td>\n",
       "      <td>0.0</td>\n",
       "    </tr>\n",
       "    <tr>\n",
       "      <th>901123</th>\n",
       "      <td>36</td>\n",
       "      <td>6</td>\n",
       "      <td>0</td>\n",
       "      <td>0</td>\n",
       "      <td>3</td>\n",
       "      <td>0.0</td>\n",
       "      <td>0.0</td>\n",
       "      <td>0.0</td>\n",
       "      <td>0.0</td>\n",
       "      <td>0.0</td>\n",
       "      <td>0.0</td>\n",
       "    </tr>\n",
       "    <tr>\n",
       "      <th>901124</th>\n",
       "      <td>36</td>\n",
       "      <td>6</td>\n",
       "      <td>0</td>\n",
       "      <td>0</td>\n",
       "      <td>4</td>\n",
       "      <td>0.0</td>\n",
       "      <td>0.0</td>\n",
       "      <td>0.0</td>\n",
       "      <td>0.0</td>\n",
       "      <td>0.0</td>\n",
       "      <td>0.0</td>\n",
       "    </tr>\n",
       "    <tr>\n",
       "      <th>...</th>\n",
       "      <td>...</td>\n",
       "      <td>...</td>\n",
       "      <td>...</td>\n",
       "      <td>...</td>\n",
       "      <td>...</td>\n",
       "      <td>...</td>\n",
       "      <td>...</td>\n",
       "      <td>...</td>\n",
       "      <td>...</td>\n",
       "      <td>...</td>\n",
       "      <td>...</td>\n",
       "    </tr>\n",
       "    <tr>\n",
       "      <th>1081339</th>\n",
       "      <td>36</td>\n",
       "      <td>6</td>\n",
       "      <td>43</td>\n",
       "      <td>63</td>\n",
       "      <td>59</td>\n",
       "      <td>0.0</td>\n",
       "      <td>0.0</td>\n",
       "      <td>0.0</td>\n",
       "      <td>0.0</td>\n",
       "      <td>0.0</td>\n",
       "      <td>0.0</td>\n",
       "    </tr>\n",
       "    <tr>\n",
       "      <th>1081340</th>\n",
       "      <td>36</td>\n",
       "      <td>6</td>\n",
       "      <td>43</td>\n",
       "      <td>63</td>\n",
       "      <td>60</td>\n",
       "      <td>0.0</td>\n",
       "      <td>0.0</td>\n",
       "      <td>0.0</td>\n",
       "      <td>0.0</td>\n",
       "      <td>0.0</td>\n",
       "      <td>0.0</td>\n",
       "    </tr>\n",
       "    <tr>\n",
       "      <th>1081341</th>\n",
       "      <td>36</td>\n",
       "      <td>6</td>\n",
       "      <td>43</td>\n",
       "      <td>63</td>\n",
       "      <td>61</td>\n",
       "      <td>0.0</td>\n",
       "      <td>0.0</td>\n",
       "      <td>0.0</td>\n",
       "      <td>0.0</td>\n",
       "      <td>0.0</td>\n",
       "      <td>0.0</td>\n",
       "    </tr>\n",
       "    <tr>\n",
       "      <th>1081342</th>\n",
       "      <td>36</td>\n",
       "      <td>6</td>\n",
       "      <td>43</td>\n",
       "      <td>63</td>\n",
       "      <td>62</td>\n",
       "      <td>0.0</td>\n",
       "      <td>0.0</td>\n",
       "      <td>0.0</td>\n",
       "      <td>0.0</td>\n",
       "      <td>0.0</td>\n",
       "      <td>0.0</td>\n",
       "    </tr>\n",
       "    <tr>\n",
       "      <th>1081343</th>\n",
       "      <td>36</td>\n",
       "      <td>6</td>\n",
       "      <td>43</td>\n",
       "      <td>63</td>\n",
       "      <td>63</td>\n",
       "      <td>0.0</td>\n",
       "      <td>0.0</td>\n",
       "      <td>0.0</td>\n",
       "      <td>0.0</td>\n",
       "      <td>0.0</td>\n",
       "      <td>0.0</td>\n",
       "    </tr>\n",
       "  </tbody>\n",
       "</table>\n",
       "<p>180224 rows × 11 columns</p>\n",
       "</div>"
      ],
      "text/plain": [
       "         exp  mini_exp   i   j   k  mean0  mean1  mean2  mean3  mean4  theory\n",
       "901120    36         6   0   0   0    0.0    0.0    0.0    0.0    0.0     0.0\n",
       "901121    36         6   0   0   1    0.0    0.0    0.0    0.0    0.0     0.0\n",
       "901122    36         6   0   0   2    0.0    0.0    0.0    0.0    0.0     0.0\n",
       "901123    36         6   0   0   3    0.0    0.0    0.0    0.0    0.0     0.0\n",
       "901124    36         6   0   0   4    0.0    0.0    0.0    0.0    0.0     0.0\n",
       "...      ...       ...  ..  ..  ..    ...    ...    ...    ...    ...     ...\n",
       "1081339   36         6  43  63  59    0.0    0.0    0.0    0.0    0.0     0.0\n",
       "1081340   36         6  43  63  60    0.0    0.0    0.0    0.0    0.0     0.0\n",
       "1081341   36         6  43  63  61    0.0    0.0    0.0    0.0    0.0     0.0\n",
       "1081342   36         6  43  63  62    0.0    0.0    0.0    0.0    0.0     0.0\n",
       "1081343   36         6  43  63  63    0.0    0.0    0.0    0.0    0.0     0.0\n",
       "\n",
       "[180224 rows x 11 columns]"
      ]
     },
     "execution_count": 25,
     "metadata": {},
     "output_type": "execute_result"
    }
   ],
   "source": [
    "df_test"
   ]
  },
  {
   "cell_type": "code",
   "execution_count": 26,
   "metadata": {
    "scrolled": false
   },
   "outputs": [
    {
     "name": "stderr",
     "output_type": "stream",
     "text": [
      "/var/folders/yd/vkjb_lqj2_30lnyhzhjqtg9w0000gp/T/ipykernel_30829/4195812830.py:1: SettingWithCopyWarning: \n",
      "A value is trying to be set on a copy of a slice from a DataFrame.\n",
      "Try using .loc[row_indexer,col_indexer] = value instead\n",
      "\n",
      "See the caveats in the documentation: https://pandas.pydata.org/pandas-docs/stable/user_guide/indexing.html#returning-a-view-versus-a-copy\n",
      "  df_test['predict'] = test_pred\n"
     ]
    }
   ],
   "source": [
    "df_test['predict'] = test_pred"
   ]
  },
  {
   "cell_type": "code",
   "execution_count": 27,
   "metadata": {},
   "outputs": [],
   "source": [
    "np.savetxt(img_path+\"nn_36to38.txt\", df_test[['i', 'j', 'k', 'predict']], fmt=\"%i %i %i %s\")"
   ]
  },
  {
   "cell_type": "code",
   "execution_count": 85,
   "metadata": {},
   "outputs": [
    {
     "data": {
      "text/html": [
       "<div>\n",
       "<style scoped>\n",
       "    .dataframe tbody tr th:only-of-type {\n",
       "        vertical-align: middle;\n",
       "    }\n",
       "\n",
       "    .dataframe tbody tr th {\n",
       "        vertical-align: top;\n",
       "    }\n",
       "\n",
       "    .dataframe thead th {\n",
       "        text-align: right;\n",
       "    }\n",
       "</style>\n",
       "<table border=\"1\" class=\"dataframe\">\n",
       "  <thead>\n",
       "    <tr style=\"text-align: right;\">\n",
       "      <th></th>\n",
       "      <th>exp</th>\n",
       "      <th>mini_exp</th>\n",
       "      <th>i</th>\n",
       "      <th>j</th>\n",
       "      <th>k</th>\n",
       "      <th>mean0</th>\n",
       "      <th>mean1</th>\n",
       "      <th>mean2</th>\n",
       "      <th>mean3</th>\n",
       "      <th>mean4</th>\n",
       "      <th>theory</th>\n",
       "      <th>predict</th>\n",
       "    </tr>\n",
       "  </thead>\n",
       "  <tbody>\n",
       "    <tr>\n",
       "      <th>901120</th>\n",
       "      <td>36</td>\n",
       "      <td>6</td>\n",
       "      <td>0</td>\n",
       "      <td>0</td>\n",
       "      <td>0</td>\n",
       "      <td>0.0</td>\n",
       "      <td>0.0</td>\n",
       "      <td>0.0</td>\n",
       "      <td>0.0</td>\n",
       "      <td>0.0</td>\n",
       "      <td>0.0</td>\n",
       "      <td>0.011854</td>\n",
       "    </tr>\n",
       "    <tr>\n",
       "      <th>901121</th>\n",
       "      <td>36</td>\n",
       "      <td>6</td>\n",
       "      <td>0</td>\n",
       "      <td>0</td>\n",
       "      <td>1</td>\n",
       "      <td>0.0</td>\n",
       "      <td>0.0</td>\n",
       "      <td>0.0</td>\n",
       "      <td>0.0</td>\n",
       "      <td>0.0</td>\n",
       "      <td>0.0</td>\n",
       "      <td>0.011854</td>\n",
       "    </tr>\n",
       "    <tr>\n",
       "      <th>901122</th>\n",
       "      <td>36</td>\n",
       "      <td>6</td>\n",
       "      <td>0</td>\n",
       "      <td>0</td>\n",
       "      <td>2</td>\n",
       "      <td>0.0</td>\n",
       "      <td>0.0</td>\n",
       "      <td>0.0</td>\n",
       "      <td>0.0</td>\n",
       "      <td>0.0</td>\n",
       "      <td>0.0</td>\n",
       "      <td>0.011854</td>\n",
       "    </tr>\n",
       "    <tr>\n",
       "      <th>901123</th>\n",
       "      <td>36</td>\n",
       "      <td>6</td>\n",
       "      <td>0</td>\n",
       "      <td>0</td>\n",
       "      <td>3</td>\n",
       "      <td>0.0</td>\n",
       "      <td>0.0</td>\n",
       "      <td>0.0</td>\n",
       "      <td>0.0</td>\n",
       "      <td>0.0</td>\n",
       "      <td>0.0</td>\n",
       "      <td>0.011854</td>\n",
       "    </tr>\n",
       "    <tr>\n",
       "      <th>901124</th>\n",
       "      <td>36</td>\n",
       "      <td>6</td>\n",
       "      <td>0</td>\n",
       "      <td>0</td>\n",
       "      <td>4</td>\n",
       "      <td>0.0</td>\n",
       "      <td>0.0</td>\n",
       "      <td>0.0</td>\n",
       "      <td>0.0</td>\n",
       "      <td>0.0</td>\n",
       "      <td>0.0</td>\n",
       "      <td>0.011854</td>\n",
       "    </tr>\n",
       "    <tr>\n",
       "      <th>...</th>\n",
       "      <td>...</td>\n",
       "      <td>...</td>\n",
       "      <td>...</td>\n",
       "      <td>...</td>\n",
       "      <td>...</td>\n",
       "      <td>...</td>\n",
       "      <td>...</td>\n",
       "      <td>...</td>\n",
       "      <td>...</td>\n",
       "      <td>...</td>\n",
       "      <td>...</td>\n",
       "      <td>...</td>\n",
       "    </tr>\n",
       "    <tr>\n",
       "      <th>1081339</th>\n",
       "      <td>36</td>\n",
       "      <td>6</td>\n",
       "      <td>43</td>\n",
       "      <td>63</td>\n",
       "      <td>59</td>\n",
       "      <td>0.0</td>\n",
       "      <td>0.0</td>\n",
       "      <td>0.0</td>\n",
       "      <td>0.0</td>\n",
       "      <td>0.0</td>\n",
       "      <td>0.0</td>\n",
       "      <td>0.011854</td>\n",
       "    </tr>\n",
       "    <tr>\n",
       "      <th>1081340</th>\n",
       "      <td>36</td>\n",
       "      <td>6</td>\n",
       "      <td>43</td>\n",
       "      <td>63</td>\n",
       "      <td>60</td>\n",
       "      <td>0.0</td>\n",
       "      <td>0.0</td>\n",
       "      <td>0.0</td>\n",
       "      <td>0.0</td>\n",
       "      <td>0.0</td>\n",
       "      <td>0.0</td>\n",
       "      <td>0.011854</td>\n",
       "    </tr>\n",
       "    <tr>\n",
       "      <th>1081341</th>\n",
       "      <td>36</td>\n",
       "      <td>6</td>\n",
       "      <td>43</td>\n",
       "      <td>63</td>\n",
       "      <td>61</td>\n",
       "      <td>0.0</td>\n",
       "      <td>0.0</td>\n",
       "      <td>0.0</td>\n",
       "      <td>0.0</td>\n",
       "      <td>0.0</td>\n",
       "      <td>0.0</td>\n",
       "      <td>0.011854</td>\n",
       "    </tr>\n",
       "    <tr>\n",
       "      <th>1081342</th>\n",
       "      <td>36</td>\n",
       "      <td>6</td>\n",
       "      <td>43</td>\n",
       "      <td>63</td>\n",
       "      <td>62</td>\n",
       "      <td>0.0</td>\n",
       "      <td>0.0</td>\n",
       "      <td>0.0</td>\n",
       "      <td>0.0</td>\n",
       "      <td>0.0</td>\n",
       "      <td>0.0</td>\n",
       "      <td>0.011854</td>\n",
       "    </tr>\n",
       "    <tr>\n",
       "      <th>1081343</th>\n",
       "      <td>36</td>\n",
       "      <td>6</td>\n",
       "      <td>43</td>\n",
       "      <td>63</td>\n",
       "      <td>63</td>\n",
       "      <td>0.0</td>\n",
       "      <td>0.0</td>\n",
       "      <td>0.0</td>\n",
       "      <td>0.0</td>\n",
       "      <td>0.0</td>\n",
       "      <td>0.0</td>\n",
       "      <td>0.011854</td>\n",
       "    </tr>\n",
       "  </tbody>\n",
       "</table>\n",
       "<p>180224 rows × 12 columns</p>\n",
       "</div>"
      ],
      "text/plain": [
       "         exp  mini_exp   i   j   k  mean0  mean1  mean2  mean3  mean4  theory  \\\n",
       "901120    36         6   0   0   0    0.0    0.0    0.0    0.0    0.0     0.0   \n",
       "901121    36         6   0   0   1    0.0    0.0    0.0    0.0    0.0     0.0   \n",
       "901122    36         6   0   0   2    0.0    0.0    0.0    0.0    0.0     0.0   \n",
       "901123    36         6   0   0   3    0.0    0.0    0.0    0.0    0.0     0.0   \n",
       "901124    36         6   0   0   4    0.0    0.0    0.0    0.0    0.0     0.0   \n",
       "...      ...       ...  ..  ..  ..    ...    ...    ...    ...    ...     ...   \n",
       "1081339   36         6  43  63  59    0.0    0.0    0.0    0.0    0.0     0.0   \n",
       "1081340   36         6  43  63  60    0.0    0.0    0.0    0.0    0.0     0.0   \n",
       "1081341   36         6  43  63  61    0.0    0.0    0.0    0.0    0.0     0.0   \n",
       "1081342   36         6  43  63  62    0.0    0.0    0.0    0.0    0.0     0.0   \n",
       "1081343   36         6  43  63  63    0.0    0.0    0.0    0.0    0.0     0.0   \n",
       "\n",
       "          predict  \n",
       "901120   0.011854  \n",
       "901121   0.011854  \n",
       "901122   0.011854  \n",
       "901123   0.011854  \n",
       "901124   0.011854  \n",
       "...           ...  \n",
       "1081339  0.011854  \n",
       "1081340  0.011854  \n",
       "1081341  0.011854  \n",
       "1081342  0.011854  \n",
       "1081343  0.011854  \n",
       "\n",
       "[180224 rows x 12 columns]"
      ]
     },
     "execution_count": 85,
     "metadata": {},
     "output_type": "execute_result"
    }
   ],
   "source": [
    "df_test"
   ]
  },
  {
   "cell_type": "code",
   "execution_count": null,
   "metadata": {},
   "outputs": [],
   "source": []
  },
  {
   "cell_type": "code",
   "execution_count": 30,
   "metadata": {},
   "outputs": [
    {
     "name": "stderr",
     "output_type": "stream",
     "text": [
      "/var/folders/2c/z02d0fq542v7qg_9kr87__k40000gp/T/ipykernel_79296/4220111569.py:2: SettingWithCopyWarning: \n",
      "A value is trying to be set on a copy of a slice from a DataFrame.\n",
      "Try using .loc[row_indexer,col_indexer] = value instead\n",
      "\n",
      "See the caveats in the documentation: https://pandas.pydata.org/pandas-docs/stable/user_guide/indexing.html#returning-a-view-versus-a-copy\n",
      "  df4_test['predict'] = test_pred\n"
     ]
    }
   ],
   "source": [
    "# non zero\n",
    "df4_test['predict'] = test_pred"
   ]
  },
  {
   "cell_type": "code",
   "execution_count": 92,
   "metadata": {},
   "outputs": [
    {
     "name": "stderr",
     "output_type": "stream",
     "text": [
      "/var/folders/2c/z02d0fq542v7qg_9kr87__k40000gp/T/ipykernel_79296/3257651465.py:1: SettingWithCopyWarning: \n",
      "A value is trying to be set on a copy of a slice from a DataFrame.\n",
      "Try using .loc[row_indexer,col_indexer] = value instead\n",
      "\n",
      "See the caveats in the documentation: https://pandas.pydata.org/pandas-docs/stable/user_guide/indexing.html#returning-a-view-versus-a-copy\n",
      "  df_test['predict'] = 0.00\n"
     ]
    }
   ],
   "source": [
    "df_test['predict'] = 0.00"
   ]
  },
  {
   "cell_type": "code",
   "execution_count": 93,
   "metadata": {},
   "outputs": [],
   "source": [
    "df_out = df_test[['i', 'j', 'k', 'predict']]\n",
    "df_pre = df4_test[['i', 'j', 'k', 'predict']]"
   ]
  },
  {
   "cell_type": "code",
   "execution_count": 99,
   "metadata": {},
   "outputs": [
    {
     "name": "stdout",
     "output_type": "stream",
     "text": [
      "<class 'pandas.core.frame.DataFrame'>\n",
      "Int64Index: 180224 entries, 901120 to 1081343\n",
      "Data columns (total 4 columns):\n",
      " #   Column   Non-Null Count   Dtype  \n",
      "---  ------   --------------   -----  \n",
      " 0   i        180224 non-null  int64  \n",
      " 1   j        180224 non-null  int64  \n",
      " 2   k        180224 non-null  int64  \n",
      " 3   predict  180224 non-null  float64\n",
      "dtypes: float64(1), int64(3)\n",
      "memory usage: 6.9 MB\n"
     ]
    }
   ],
   "source": [
    "df_out.info()"
   ]
  },
  {
   "cell_type": "code",
   "execution_count": 122,
   "metadata": {},
   "outputs": [],
   "source": [
    "for x in range(len(df_pre)):\n",
    "    i = df_pre.iloc[x, :]['i'].astype(int)\n",
    "    j = df_pre.iloc[x, :]['j'].astype(int)\n",
    "    k = df_pre.iloc[x, :]['k'].astype(int)\n",
    "    pred = df_pre.iloc[x, :]['predict']\n",
    "    idx = df_out[(df_out['i']==i) & (df_out['j']==j) & (df_out['k']==k)].index\n",
    "    df_out.loc[idx, 'predict']= pred"
   ]
  },
  {
   "cell_type": "code",
   "execution_count": 127,
   "metadata": {},
   "outputs": [
    {
     "data": {
      "text/html": [
       "<div>\n",
       "<style scoped>\n",
       "    .dataframe tbody tr th:only-of-type {\n",
       "        vertical-align: middle;\n",
       "    }\n",
       "\n",
       "    .dataframe tbody tr th {\n",
       "        vertical-align: top;\n",
       "    }\n",
       "\n",
       "    .dataframe thead th {\n",
       "        text-align: right;\n",
       "    }\n",
       "</style>\n",
       "<table border=\"1\" class=\"dataframe\">\n",
       "  <thead>\n",
       "    <tr style=\"text-align: right;\">\n",
       "      <th></th>\n",
       "      <th>i</th>\n",
       "      <th>j</th>\n",
       "      <th>k</th>\n",
       "      <th>predict</th>\n",
       "    </tr>\n",
       "  </thead>\n",
       "  <tbody>\n",
       "    <tr>\n",
       "      <th>931880</th>\n",
       "      <td>7</td>\n",
       "      <td>32</td>\n",
       "      <td>40</td>\n",
       "      <td>5.183412</td>\n",
       "    </tr>\n",
       "    <tr>\n",
       "      <th>931881</th>\n",
       "      <td>7</td>\n",
       "      <td>32</td>\n",
       "      <td>41</td>\n",
       "      <td>4.673711</td>\n",
       "    </tr>\n",
       "    <tr>\n",
       "      <th>931882</th>\n",
       "      <td>7</td>\n",
       "      <td>32</td>\n",
       "      <td>42</td>\n",
       "      <td>4.348357</td>\n",
       "    </tr>\n",
       "    <tr>\n",
       "      <th>931883</th>\n",
       "      <td>7</td>\n",
       "      <td>32</td>\n",
       "      <td>43</td>\n",
       "      <td>5.062788</td>\n",
       "    </tr>\n",
       "    <tr>\n",
       "      <th>931919</th>\n",
       "      <td>7</td>\n",
       "      <td>33</td>\n",
       "      <td>15</td>\n",
       "      <td>3.794160</td>\n",
       "    </tr>\n",
       "    <tr>\n",
       "      <th>...</th>\n",
       "      <td>...</td>\n",
       "      <td>...</td>\n",
       "      <td>...</td>\n",
       "      <td>...</td>\n",
       "    </tr>\n",
       "    <tr>\n",
       "      <th>1050968</th>\n",
       "      <td>36</td>\n",
       "      <td>37</td>\n",
       "      <td>24</td>\n",
       "      <td>5.607471</td>\n",
       "    </tr>\n",
       "    <tr>\n",
       "      <th>1050979</th>\n",
       "      <td>36</td>\n",
       "      <td>37</td>\n",
       "      <td>35</td>\n",
       "      <td>13.007126</td>\n",
       "    </tr>\n",
       "    <tr>\n",
       "      <th>1050982</th>\n",
       "      <td>36</td>\n",
       "      <td>37</td>\n",
       "      <td>38</td>\n",
       "      <td>8.704618</td>\n",
       "    </tr>\n",
       "    <tr>\n",
       "      <th>1050983</th>\n",
       "      <td>36</td>\n",
       "      <td>37</td>\n",
       "      <td>39</td>\n",
       "      <td>6.513861</td>\n",
       "    </tr>\n",
       "    <tr>\n",
       "      <th>1051039</th>\n",
       "      <td>36</td>\n",
       "      <td>38</td>\n",
       "      <td>31</td>\n",
       "      <td>71.638641</td>\n",
       "    </tr>\n",
       "  </tbody>\n",
       "</table>\n",
       "<p>34012 rows × 4 columns</p>\n",
       "</div>"
      ],
      "text/plain": [
       "          i   j   k    predict\n",
       "931880    7  32  40   5.183412\n",
       "931881    7  32  41   4.673711\n",
       "931882    7  32  42   4.348357\n",
       "931883    7  32  43   5.062788\n",
       "931919    7  33  15   3.794160\n",
       "...      ..  ..  ..        ...\n",
       "1050968  36  37  24   5.607471\n",
       "1050979  36  37  35  13.007126\n",
       "1050982  36  37  38   8.704618\n",
       "1050983  36  37  39   6.513861\n",
       "1051039  36  38  31  71.638641\n",
       "\n",
       "[34012 rows x 4 columns]"
      ]
     },
     "execution_count": 127,
     "metadata": {},
     "output_type": "execute_result"
    }
   ],
   "source": [
    "df_pre"
   ]
  },
  {
   "cell_type": "code",
   "execution_count": 124,
   "metadata": {},
   "outputs": [
    {
     "data": {
      "text/html": [
       "<div>\n",
       "<style scoped>\n",
       "    .dataframe tbody tr th:only-of-type {\n",
       "        vertical-align: middle;\n",
       "    }\n",
       "\n",
       "    .dataframe tbody tr th {\n",
       "        vertical-align: top;\n",
       "    }\n",
       "\n",
       "    .dataframe thead th {\n",
       "        text-align: right;\n",
       "    }\n",
       "</style>\n",
       "<table border=\"1\" class=\"dataframe\">\n",
       "  <thead>\n",
       "    <tr style=\"text-align: right;\">\n",
       "      <th></th>\n",
       "      <th>i</th>\n",
       "      <th>j</th>\n",
       "      <th>k</th>\n",
       "      <th>predict</th>\n",
       "    </tr>\n",
       "  </thead>\n",
       "  <tbody>\n",
       "    <tr>\n",
       "      <th>931880</th>\n",
       "      <td>7</td>\n",
       "      <td>32</td>\n",
       "      <td>40</td>\n",
       "      <td>5.183412</td>\n",
       "    </tr>\n",
       "  </tbody>\n",
       "</table>\n",
       "</div>"
      ],
      "text/plain": [
       "        i   j   k   predict\n",
       "931880  7  32  40  5.183412"
      ]
     },
     "execution_count": 124,
     "metadata": {},
     "output_type": "execute_result"
    }
   ],
   "source": [
    "df_out[(df_out['i']==7) & (df_out['j']==32) & (df_out['k']==40)]"
   ]
  },
  {
   "cell_type": "code",
   "execution_count": 125,
   "metadata": {},
   "outputs": [
    {
     "data": {
      "text/html": [
       "<div>\n",
       "<style scoped>\n",
       "    .dataframe tbody tr th:only-of-type {\n",
       "        vertical-align: middle;\n",
       "    }\n",
       "\n",
       "    .dataframe tbody tr th {\n",
       "        vertical-align: top;\n",
       "    }\n",
       "\n",
       "    .dataframe thead th {\n",
       "        text-align: right;\n",
       "    }\n",
       "</style>\n",
       "<table border=\"1\" class=\"dataframe\">\n",
       "  <thead>\n",
       "    <tr style=\"text-align: right;\">\n",
       "      <th></th>\n",
       "      <th>i</th>\n",
       "      <th>j</th>\n",
       "      <th>k</th>\n",
       "      <th>predict</th>\n",
       "    </tr>\n",
       "  </thead>\n",
       "  <tbody>\n",
       "    <tr>\n",
       "      <th>901120</th>\n",
       "      <td>0</td>\n",
       "      <td>0</td>\n",
       "      <td>0</td>\n",
       "      <td>0.0</td>\n",
       "    </tr>\n",
       "    <tr>\n",
       "      <th>901121</th>\n",
       "      <td>0</td>\n",
       "      <td>0</td>\n",
       "      <td>1</td>\n",
       "      <td>0.0</td>\n",
       "    </tr>\n",
       "    <tr>\n",
       "      <th>901122</th>\n",
       "      <td>0</td>\n",
       "      <td>0</td>\n",
       "      <td>2</td>\n",
       "      <td>0.0</td>\n",
       "    </tr>\n",
       "    <tr>\n",
       "      <th>901123</th>\n",
       "      <td>0</td>\n",
       "      <td>0</td>\n",
       "      <td>3</td>\n",
       "      <td>0.0</td>\n",
       "    </tr>\n",
       "    <tr>\n",
       "      <th>901124</th>\n",
       "      <td>0</td>\n",
       "      <td>0</td>\n",
       "      <td>4</td>\n",
       "      <td>0.0</td>\n",
       "    </tr>\n",
       "    <tr>\n",
       "      <th>...</th>\n",
       "      <td>...</td>\n",
       "      <td>...</td>\n",
       "      <td>...</td>\n",
       "      <td>...</td>\n",
       "    </tr>\n",
       "    <tr>\n",
       "      <th>1081339</th>\n",
       "      <td>43</td>\n",
       "      <td>63</td>\n",
       "      <td>59</td>\n",
       "      <td>0.0</td>\n",
       "    </tr>\n",
       "    <tr>\n",
       "      <th>1081340</th>\n",
       "      <td>43</td>\n",
       "      <td>63</td>\n",
       "      <td>60</td>\n",
       "      <td>0.0</td>\n",
       "    </tr>\n",
       "    <tr>\n",
       "      <th>1081341</th>\n",
       "      <td>43</td>\n",
       "      <td>63</td>\n",
       "      <td>61</td>\n",
       "      <td>0.0</td>\n",
       "    </tr>\n",
       "    <tr>\n",
       "      <th>1081342</th>\n",
       "      <td>43</td>\n",
       "      <td>63</td>\n",
       "      <td>62</td>\n",
       "      <td>0.0</td>\n",
       "    </tr>\n",
       "    <tr>\n",
       "      <th>1081343</th>\n",
       "      <td>43</td>\n",
       "      <td>63</td>\n",
       "      <td>63</td>\n",
       "      <td>0.0</td>\n",
       "    </tr>\n",
       "  </tbody>\n",
       "</table>\n",
       "<p>180224 rows × 4 columns</p>\n",
       "</div>"
      ],
      "text/plain": [
       "          i   j   k  predict\n",
       "901120    0   0   0      0.0\n",
       "901121    0   0   1      0.0\n",
       "901122    0   0   2      0.0\n",
       "901123    0   0   3      0.0\n",
       "901124    0   0   4      0.0\n",
       "...      ..  ..  ..      ...\n",
       "1081339  43  63  59      0.0\n",
       "1081340  43  63  60      0.0\n",
       "1081341  43  63  61      0.0\n",
       "1081342  43  63  62      0.0\n",
       "1081343  43  63  63      0.0\n",
       "\n",
       "[180224 rows x 4 columns]"
      ]
     },
     "execution_count": 125,
     "metadata": {},
     "output_type": "execute_result"
    }
   ],
   "source": [
    "df_out"
   ]
  },
  {
   "cell_type": "code",
   "execution_count": 126,
   "metadata": {},
   "outputs": [],
   "source": [
    "np.savetxt(img_path+\"nn_nonzero_36to38.txt\", df_out[['i', 'j', 'k', 'predict']], fmt=\"%i %i %i %s\")"
   ]
  },
  {
   "cell_type": "code",
   "execution_count": null,
   "metadata": {},
   "outputs": [],
   "source": []
  },
  {
   "cell_type": "markdown",
   "metadata": {},
   "source": [
    "# Nonzero 32 to 38"
   ]
  },
  {
   "cell_type": "code",
   "execution_count": 17,
   "metadata": {},
   "outputs": [],
   "source": [
    "X_train = X4_train\n",
    "y_train = y4_train\n",
    "X_test = X4_test\n",
    "y_test = y4_test"
   ]
  },
  {
   "cell_type": "code",
   "execution_count": 20,
   "metadata": {},
   "outputs": [],
   "source": [
    "shape = (len(X_train[0]),)\n",
    "model = keras.Sequential()\n",
    "model.add(Dense(10, activation='relu', input_shape=shape)) \n",
    "model.add(Dense(10, activation='relu'))\n",
    "model.add(Dense(10, activation='relu'))\n",
    "model.add(Dense(1, activation='linear'))\n",
    "model.compile(optimizer='adamax', loss='mse', metrics=[\"accuracy\"])"
   ]
  },
  {
   "cell_type": "code",
   "execution_count": 21,
   "metadata": {},
   "outputs": [
    {
     "name": "stdout",
     "output_type": "stream",
     "text": [
      "Epoch 1/100\n",
      "27203/27203 [==============================] - 30s 1ms/step - loss: 17205.4766 - accuracy: 1.1488e-04 - val_loss: 213.2913 - val_accuracy: 2.9402e-05\n",
      "Epoch 2/100\n",
      "27203/27203 [==============================] - 27s 1ms/step - loss: 17096.2969 - accuracy: 2.8720e-05 - val_loss: 152.1224 - val_accuracy: 2.9402e-05\n",
      "Epoch 3/100\n",
      "27203/27203 [==============================] - 26s 958us/step - loss: 17070.7910 - accuracy: 2.8720e-05 - val_loss: 128.0684 - val_accuracy: 2.9402e-05\n",
      "Epoch 4/100\n",
      "27203/27203 [==============================] - 26s 971us/step - loss: 17061.9336 - accuracy: 2.8720e-05 - val_loss: 124.1674 - val_accuracy: 2.9402e-05\n",
      "Epoch 5/100\n",
      "27203/27203 [==============================] - 26s 971us/step - loss: 17055.9355 - accuracy: 2.9868e-05 - val_loss: 118.7897 - val_accuracy: 2.9402e-05\n",
      "Epoch 6/100\n",
      "27203/27203 [==============================] - 26s 959us/step - loss: 17051.3320 - accuracy: 2.9868e-05 - val_loss: 105.8017 - val_accuracy: 2.9402e-05\n",
      "Epoch 7/100\n",
      "27203/27203 [==============================] - 26s 964us/step - loss: 17049.2676 - accuracy: 2.9868e-05 - val_loss: 103.2062 - val_accuracy: 2.9402e-05\n",
      "Epoch 8/100\n",
      "27203/27203 [==============================] - 26s 967us/step - loss: 17047.9941 - accuracy: 2.8720e-05 - val_loss: 102.3030 - val_accuracy: 2.9402e-05\n",
      "Epoch 9/100\n",
      "27203/27203 [==============================] - 26s 962us/step - loss: 17044.0547 - accuracy: 2.6422e-05 - val_loss: 98.2074 - val_accuracy: 2.9402e-05\n",
      "Epoch 10/100\n",
      "27203/27203 [==============================] - 26s 961us/step - loss: 17041.2656 - accuracy: 2.8720e-05 - val_loss: 87.4534 - val_accuracy: 0.0000e+00\n",
      "Epoch 11/100\n",
      "27203/27203 [==============================] - 26s 965us/step - loss: 17039.7656 - accuracy: 3.1017e-05 - val_loss: 90.6691 - val_accuracy: 2.9402e-05\n",
      "Epoch 12/100\n",
      "27203/27203 [==============================] - 26s 965us/step - loss: 17038.3398 - accuracy: 3.3315e-05 - val_loss: 86.1658 - val_accuracy: 2.9402e-05\n",
      "Epoch 13/100\n",
      "27203/27203 [==============================] - 26s 973us/step - loss: 17036.1699 - accuracy: 2.9868e-05 - val_loss: 84.0817 - val_accuracy: 2.9402e-05\n",
      "Epoch 14/100\n",
      "27203/27203 [==============================] - 26s 966us/step - loss: 17036.0293 - accuracy: 2.9868e-05 - val_loss: 78.7813 - val_accuracy: 2.9402e-05\n",
      "Epoch 15/100\n",
      "27203/27203 [==============================] - 26s 967us/step - loss: 17034.3105 - accuracy: 3.1017e-05 - val_loss: 76.1086 - val_accuracy: 2.9402e-05\n",
      "Epoch 16/100\n",
      "27203/27203 [==============================] - 27s 997us/step - loss: 17034.7500 - accuracy: 2.9868e-05 - val_loss: 75.5928 - val_accuracy: 2.9402e-05\n",
      "Epoch 17/100\n",
      "27203/27203 [==============================] - 29s 1ms/step - loss: 17033.6426 - accuracy: 2.9868e-05 - val_loss: 77.1368 - val_accuracy: 2.9402e-05\n",
      "Epoch 18/100\n",
      "27203/27203 [==============================] - 30s 1ms/step - loss: 17032.8906 - accuracy: 2.9868e-05 - val_loss: 72.5685 - val_accuracy: 2.9402e-05\n",
      "Epoch 19/100\n",
      "27203/27203 [==============================] - 29s 1ms/step - loss: 17031.6348 - accuracy: 2.9868e-05 - val_loss: 72.8397 - val_accuracy: 2.9402e-05\n",
      "Epoch 20/100\n",
      "27203/27203 [==============================] - 30s 1ms/step - loss: 17031.6855 - accuracy: 3.1017e-05 - val_loss: 69.3244 - val_accuracy: 2.9402e-05\n",
      "Epoch 21/100\n",
      "27203/27203 [==============================] - 30s 1ms/step - loss: 17034.7969 - accuracy: 2.8720e-05 - val_loss: 67.1802 - val_accuracy: 2.9402e-05\n",
      "Epoch 22/100\n",
      "27203/27203 [==============================] - 30s 1ms/step - loss: 17032.9102 - accuracy: 2.7571e-05 - val_loss: 67.1276 - val_accuracy: 2.9402e-05\n",
      "Epoch 23/100\n",
      "27203/27203 [==============================] - 30s 1ms/step - loss: 17031.8008 - accuracy: 2.7571e-05 - val_loss: 68.7373 - val_accuracy: 2.9402e-05\n",
      "Epoch 24/100\n",
      "27203/27203 [==============================] - 30s 1ms/step - loss: 17031.7500 - accuracy: 2.8720e-05 - val_loss: 66.0518 - val_accuracy: 2.9402e-05\n",
      "Epoch 25/100\n",
      "27203/27203 [==============================] - 27s 1ms/step - loss: 17027.7598 - accuracy: 2.9868e-05 - val_loss: 66.7402 - val_accuracy: 2.9402e-05\n",
      "Epoch 26/100\n",
      "27203/27203 [==============================] - 27s 977us/step - loss: 17031.6953 - accuracy: 2.9868e-05 - val_loss: 65.4938 - val_accuracy: 0.0000e+00\n",
      "Epoch 27/100\n",
      "27203/27203 [==============================] - 27s 979us/step - loss: 17032.2422 - accuracy: 2.9868e-05 - val_loss: 64.1447 - val_accuracy: 2.9402e-05\n",
      "Epoch 28/100\n",
      "27203/27203 [==============================] - 27s 983us/step - loss: 17030.2441 - accuracy: 3.1017e-05 - val_loss: 67.4564 - val_accuracy: 2.9402e-05\n",
      "Epoch 29/100\n",
      "27203/27203 [==============================] - 27s 979us/step - loss: 17030.9043 - accuracy: 2.9868e-05 - val_loss: 66.4128 - val_accuracy: 2.9402e-05\n",
      "Epoch 30/100\n",
      "27203/27203 [==============================] - 27s 976us/step - loss: 17032.4785 - accuracy: 3.1017e-05 - val_loss: 63.0771 - val_accuracy: 2.9402e-05\n",
      "Epoch 31/100\n",
      "27203/27203 [==============================] - 27s 977us/step - loss: 17030.0703 - accuracy: 3.1017e-05 - val_loss: 63.2670 - val_accuracy: 2.9402e-05\n",
      "Epoch 32/100\n",
      "27203/27203 [==============================] - 27s 978us/step - loss: 17030.4434 - accuracy: 2.8720e-05 - val_loss: 62.0567 - val_accuracy: 2.9402e-05\n",
      "Epoch 33/100\n",
      "27203/27203 [==============================] - 27s 976us/step - loss: 17028.5527 - accuracy: 3.1017e-05 - val_loss: 63.6032 - val_accuracy: 2.9402e-05\n",
      "Epoch 34/100\n",
      "27203/27203 [==============================] - 27s 976us/step - loss: 17028.4082 - accuracy: 2.8720e-05 - val_loss: 62.2972 - val_accuracy: 2.9402e-05\n",
      "Epoch 35/100\n",
      "27203/27203 [==============================] - 28s 1ms/step - loss: 17030.2754 - accuracy: 2.9868e-05 - val_loss: 62.0465 - val_accuracy: 2.9402e-05\n",
      "Epoch 36/100\n",
      "27203/27203 [==============================] - 27s 980us/step - loss: 17033.0820 - accuracy: 2.9868e-05 - val_loss: 62.2901 - val_accuracy: 2.9402e-05\n",
      "Epoch 37/100\n",
      "27203/27203 [==============================] - 27s 980us/step - loss: 17029.4922 - accuracy: 2.9868e-05 - val_loss: 61.9654 - val_accuracy: 2.9402e-05\n",
      "Epoch 38/100\n",
      "27203/27203 [==============================] - 27s 978us/step - loss: 17030.5820 - accuracy: 2.9868e-05 - val_loss: 63.3876 - val_accuracy: 2.9402e-05\n",
      "Epoch 39/100\n",
      "27203/27203 [==============================] - 27s 979us/step - loss: 17028.8281 - accuracy: 3.1017e-05 - val_loss: 66.3438 - val_accuracy: 2.9402e-05\n",
      "Epoch 40/100\n",
      "27203/27203 [==============================] - 26s 969us/step - loss: 17030.3066 - accuracy: 3.1017e-05 - val_loss: 62.0499 - val_accuracy: 2.9402e-05\n",
      "Epoch 41/100\n",
      "27203/27203 [==============================] - 26s 969us/step - loss: 17031.5371 - accuracy: 2.9868e-05 - val_loss: 62.1971 - val_accuracy: 2.9402e-05\n",
      "Epoch 42/100\n",
      "27203/27203 [==============================] - 26s 970us/step - loss: 17029.3887 - accuracy: 3.1017e-05 - val_loss: 61.1328 - val_accuracy: 2.9402e-05\n",
      "Epoch 43/100\n",
      "27203/27203 [==============================] - 26s 964us/step - loss: 17028.1992 - accuracy: 2.9868e-05 - val_loss: 63.3626 - val_accuracy: 2.9402e-05\n",
      "Epoch 44/100\n",
      "27203/27203 [==============================] - 26s 969us/step - loss: 17029.5117 - accuracy: 2.9868e-05 - val_loss: 61.0376 - val_accuracy: 2.9402e-05\n",
      "Epoch 45/100\n",
      "27203/27203 [==============================] - 26s 968us/step - loss: 17027.0996 - accuracy: 3.1017e-05 - val_loss: 63.7111 - val_accuracy: 2.9402e-05\n",
      "Epoch 46/100\n",
      "27203/27203 [==============================] - 31s 1ms/step - loss: 17031.8457 - accuracy: 3.1017e-05 - val_loss: 60.4817 - val_accuracy: 2.9402e-05\n",
      "Epoch 47/100\n",
      "27203/27203 [==============================] - 44s 2ms/step - loss: 17027.6855 - accuracy: 3.2166e-05 - val_loss: 61.3149 - val_accuracy: 2.9402e-05\n",
      "Epoch 48/100\n",
      "27203/27203 [==============================] - 44s 2ms/step - loss: 17029.4746 - accuracy: 3.1017e-05 - val_loss: 60.1825 - val_accuracy: 2.9402e-05\n",
      "Epoch 49/100\n",
      "27203/27203 [==============================] - 45s 2ms/step - loss: 17029.1895 - accuracy: 3.1017e-05 - val_loss: 61.1798 - val_accuracy: 0.0000e+00\n",
      "Epoch 50/100\n",
      "27203/27203 [==============================] - 44s 2ms/step - loss: 17028.6602 - accuracy: 3.1017e-05 - val_loss: 64.0425 - val_accuracy: 2.9402e-05\n",
      "Epoch 51/100\n",
      "27203/27203 [==============================] - 43s 2ms/step - loss: 17028.0859 - accuracy: 3.1017e-05 - val_loss: 60.4358 - val_accuracy: 2.9402e-05\n",
      "Epoch 52/100\n",
      "27203/27203 [==============================] - 43s 2ms/step - loss: 17028.8379 - accuracy: 3.1017e-05 - val_loss: 62.8130 - val_accuracy: 2.9402e-05\n",
      "Epoch 53/100\n",
      "27203/27203 [==============================] - 43s 2ms/step - loss: 17028.7305 - accuracy: 2.9868e-05 - val_loss: 62.4811 - val_accuracy: 2.9402e-05\n",
      "Epoch 54/100\n",
      "27203/27203 [==============================] - 42s 2ms/step - loss: 17027.5332 - accuracy: 2.9868e-05 - val_loss: 60.6289 - val_accuracy: 2.9402e-05\n",
      "Epoch 55/100\n",
      "27203/27203 [==============================] - 43s 2ms/step - loss: 17027.9902 - accuracy: 3.1017e-05 - val_loss: 61.0192 - val_accuracy: 2.9402e-05\n",
      "Epoch 56/100\n",
      "27203/27203 [==============================] - 44s 2ms/step - loss: 17030.5781 - accuracy: 3.1017e-05 - val_loss: 59.3271 - val_accuracy: 2.9402e-05\n",
      "Epoch 57/100\n",
      "27203/27203 [==============================] - 44s 2ms/step - loss: 17027.0391 - accuracy: 2.9868e-05 - val_loss: 59.0754 - val_accuracy: 2.9402e-05\n",
      "Epoch 58/100\n",
      "27203/27203 [==============================] - 43s 2ms/step - loss: 17028.0117 - accuracy: 3.2166e-05 - val_loss: 58.8231 - val_accuracy: 2.9402e-05\n",
      "Epoch 59/100\n",
      "27203/27203 [==============================] - 44s 2ms/step - loss: 17028.3691 - accuracy: 3.2166e-05 - val_loss: 60.4280 - val_accuracy: 2.9402e-05\n",
      "Epoch 60/100\n",
      "27203/27203 [==============================] - 41s 1ms/step - loss: 17029.3730 - accuracy: 3.2166e-05 - val_loss: 59.6537 - val_accuracy: 2.9402e-05\n",
      "Epoch 61/100\n",
      "27203/27203 [==============================] - 24s 899us/step - loss: 17028.9551 - accuracy: 3.1017e-05 - val_loss: 60.6186 - val_accuracy: 2.9402e-05\n",
      "Epoch 62/100\n",
      "27203/27203 [==============================] - 24s 897us/step - loss: 17029.3398 - accuracy: 3.2166e-05 - val_loss: 58.2765 - val_accuracy: 2.9402e-05\n",
      "Epoch 63/100\n",
      "27203/27203 [==============================] - 24s 899us/step - loss: 17028.9844 - accuracy: 3.1017e-05 - val_loss: 58.5567 - val_accuracy: 2.9402e-05\n",
      "Epoch 64/100\n",
      "27203/27203 [==============================] - 24s 897us/step - loss: 17030.0762 - accuracy: 3.1017e-05 - val_loss: 58.5775 - val_accuracy: 2.9402e-05\n",
      "Epoch 65/100\n",
      "27203/27203 [==============================] - 25s 902us/step - loss: 17028.9121 - accuracy: 3.1017e-05 - val_loss: 58.1305 - val_accuracy: 2.9402e-05\n",
      "Epoch 66/100\n",
      "27203/27203 [==============================] - 24s 896us/step - loss: 17030.7871 - accuracy: 3.2166e-05 - val_loss: 58.4961 - val_accuracy: 2.9402e-05\n",
      "Epoch 67/100\n",
      "27203/27203 [==============================] - 24s 898us/step - loss: 17028.7812 - accuracy: 3.2166e-05 - val_loss: 63.1318 - val_accuracy: 2.9402e-05\n",
      "Epoch 68/100\n",
      "27203/27203 [==============================] - 24s 900us/step - loss: 17030.7539 - accuracy: 3.2166e-05 - val_loss: 58.2779 - val_accuracy: 2.9402e-05\n",
      "Epoch 69/100\n",
      "27203/27203 [==============================] - 25s 904us/step - loss: 17028.8047 - accuracy: 3.2166e-05 - val_loss: 57.8641 - val_accuracy: 2.9402e-05\n",
      "Epoch 70/100\n",
      "27203/27203 [==============================] - 24s 900us/step - loss: 17029.4727 - accuracy: 3.1017e-05 - val_loss: 58.7722 - val_accuracy: 2.9402e-05\n",
      "Epoch 71/100\n",
      "27203/27203 [==============================] - 24s 896us/step - loss: 17027.8164 - accuracy: 3.1017e-05 - val_loss: 57.7537 - val_accuracy: 2.9402e-05\n",
      "Epoch 72/100\n",
      "27203/27203 [==============================] - 26s 964us/step - loss: 17030.8359 - accuracy: 3.1017e-05 - val_loss: 57.8302 - val_accuracy: 2.9402e-05\n",
      "Epoch 73/100\n",
      "27203/27203 [==============================] - 25s 904us/step - loss: 17028.7461 - accuracy: 3.2166e-05 - val_loss: 57.8258 - val_accuracy: 2.9402e-05\n",
      "Epoch 74/100\n",
      "27203/27203 [==============================] - 25s 931us/step - loss: 17029.1445 - accuracy: 3.2166e-05 - val_loss: 57.7258 - val_accuracy: 2.9402e-05\n",
      "Epoch 75/100\n",
      "27203/27203 [==============================] - 25s 904us/step - loss: 17028.2637 - accuracy: 3.2166e-05 - val_loss: 58.2099 - val_accuracy: 2.9402e-05\n",
      "Epoch 76/100\n",
      "27203/27203 [==============================] - 24s 898us/step - loss: 17030.6191 - accuracy: 3.2166e-05 - val_loss: 58.4398 - val_accuracy: 2.9402e-05\n",
      "Epoch 77/100\n",
      "27203/27203 [==============================] - 24s 899us/step - loss: 17029.8398 - accuracy: 2.9868e-05 - val_loss: 58.1671 - val_accuracy: 2.9402e-05\n",
      "Epoch 78/100\n",
      "27203/27203 [==============================] - 25s 903us/step - loss: 17027.7480 - accuracy: 3.2166e-05 - val_loss: 57.7516 - val_accuracy: 2.9402e-05\n",
      "Epoch 79/100\n",
      "27203/27203 [==============================] - 24s 897us/step - loss: 17028.9141 - accuracy: 2.9868e-05 - val_loss: 57.0050 - val_accuracy: 2.9402e-05\n",
      "Epoch 80/100\n",
      "27203/27203 [==============================] - 25s 902us/step - loss: 17026.6660 - accuracy: 2.9868e-05 - val_loss: 57.9955 - val_accuracy: 2.9402e-05\n",
      "Epoch 81/100\n",
      "27203/27203 [==============================] - 24s 896us/step - loss: 17029.6055 - accuracy: 3.1017e-05 - val_loss: 56.9863 - val_accuracy: 2.9402e-05\n",
      "Epoch 82/100\n",
      "27203/27203 [==============================] - 25s 905us/step - loss: 17028.4023 - accuracy: 3.2166e-05 - val_loss: 57.7201 - val_accuracy: 2.9402e-05\n",
      "Epoch 83/100\n",
      "27203/27203 [==============================] - 24s 900us/step - loss: 17028.1582 - accuracy: 3.1017e-05 - val_loss: 57.7537 - val_accuracy: 2.9402e-05\n",
      "Epoch 84/100\n",
      "27203/27203 [==============================] - 24s 899us/step - loss: 17028.2012 - accuracy: 3.2166e-05 - val_loss: 56.5131 - val_accuracy: 2.9402e-05\n",
      "Epoch 85/100\n",
      "27203/27203 [==============================] - 24s 900us/step - loss: 17028.4727 - accuracy: 2.9868e-05 - val_loss: 58.3549 - val_accuracy: 2.9402e-05\n",
      "Epoch 86/100\n",
      "27203/27203 [==============================] - 24s 896us/step - loss: 17030.0137 - accuracy: 3.3315e-05 - val_loss: 57.1606 - val_accuracy: 2.9402e-05\n",
      "Epoch 87/100\n",
      "27203/27203 [==============================] - 24s 900us/step - loss: 17030.5820 - accuracy: 3.1017e-05 - val_loss: 57.2747 - val_accuracy: 2.9402e-05\n",
      "Epoch 88/100\n",
      "27203/27203 [==============================] - 25s 930us/step - loss: 17027.8555 - accuracy: 3.1017e-05 - val_loss: 57.6921 - val_accuracy: 2.9402e-05\n",
      "Epoch 89/100\n",
      "27203/27203 [==============================] - 27s 988us/step - loss: 17028.8184 - accuracy: 2.9868e-05 - val_loss: 57.3170 - val_accuracy: 2.9402e-05\n",
      "Epoch 90/100\n",
      "27203/27203 [==============================] - 26s 972us/step - loss: 17027.8105 - accuracy: 3.1017e-05 - val_loss: 56.6062 - val_accuracy: 2.9402e-05\n",
      "Epoch 91/100\n",
      "27203/27203 [==============================] - 27s 975us/step - loss: 17028.8086 - accuracy: 3.2166e-05 - val_loss: 56.4590 - val_accuracy: 2.9402e-05\n",
      "Epoch 92/100\n",
      "27203/27203 [==============================] - 27s 980us/step - loss: 17027.7285 - accuracy: 3.2166e-05 - val_loss: 58.5978 - val_accuracy: 2.9402e-05\n",
      "Epoch 93/100\n",
      "27203/27203 [==============================] - 27s 974us/step - loss: 17028.1816 - accuracy: 2.9868e-05 - val_loss: 56.1498 - val_accuracy: 2.9402e-05\n",
      "Epoch 94/100\n",
      "27203/27203 [==============================] - 26s 973us/step - loss: 17027.3379 - accuracy: 3.2166e-05 - val_loss: 58.0316 - val_accuracy: 8.8207e-05\n",
      "Epoch 95/100\n",
      "27203/27203 [==============================] - 26s 969us/step - loss: 17029.7402 - accuracy: 2.9868e-05 - val_loss: 57.3633 - val_accuracy: 2.9402e-05\n",
      "Epoch 96/100\n",
      "27203/27203 [==============================] - 27s 989us/step - loss: 17026.7363 - accuracy: 3.2166e-05 - val_loss: 59.7860 - val_accuracy: 2.9402e-05\n",
      "Epoch 97/100\n",
      "27203/27203 [==============================] - 27s 975us/step - loss: 17026.9824 - accuracy: 3.2166e-05 - val_loss: 56.5207 - val_accuracy: 2.9402e-05\n",
      "Epoch 98/100\n",
      "27203/27203 [==============================] - 27s 1ms/step - loss: 17027.1406 - accuracy: 3.2166e-05 - val_loss: 57.7899 - val_accuracy: 2.9402e-05\n",
      "Epoch 99/100\n",
      "27203/27203 [==============================] - 28s 1ms/step - loss: 17027.8867 - accuracy: 2.9868e-05 - val_loss: 56.6186 - val_accuracy: 2.9402e-05\n",
      "Epoch 100/100\n",
      "27203/27203 [==============================] - 28s 1ms/step - loss: 17028.8887 - accuracy: 3.2166e-05 - val_loss: 56.6477 - val_accuracy: 2.9402e-05\n"
     ]
    }
   ],
   "source": [
    "history = model.fit(X_train, y_train, epochs=100, batch_size=32, validation_data=[X_test, y_test])"
   ]
  },
  {
   "cell_type": "code",
   "execution_count": 22,
   "metadata": {},
   "outputs": [
    {
     "name": "stdout",
     "output_type": "stream",
     "text": [
      "27203/27203 [==============================] - 20s 717us/step\n",
      "17026.977647823092\n",
      "0.257609840581334\n",
      "1063/1063 [==============================] - 1s 710us/step\n",
      "56.64768963544796\n",
      "0.2100135234417976\n"
     ]
    }
   ],
   "source": [
    "train_pred = model.predict(X_train)\n",
    "print(mse(train_pred, y_train))\n",
    "print(mape(train_pred, y_train))\n",
    "test_pred = model.predict(X_test)\n",
    "print(mse(test_pred, y_test))\n",
    "print(mape(test_pred, y_test))"
   ]
  },
  {
   "cell_type": "code",
   "execution_count": 24,
   "metadata": {},
   "outputs": [
    {
     "name": "stdout",
     "output_type": "stream",
     "text": [
      "1063/1063 [==============================] - 1s 888us/step - loss: 56.6477 - accuracy: 2.9402e-05\n"
     ]
    },
    {
     "data": {
      "text/plain": [
       "[56.6476936340332, 2.9402252039290033e-05]"
      ]
     },
     "execution_count": 24,
     "metadata": {},
     "output_type": "execute_result"
    }
   ],
   "source": [
    "model.evaluate(X_test, y_test)"
   ]
  },
  {
   "cell_type": "code",
   "execution_count": 25,
   "metadata": {},
   "outputs": [
    {
     "data": {
      "text/plain": [
       "array([[1.        , 0.83818038],\n",
       "       [0.83818038, 1.        ]])"
      ]
     },
     "execution_count": 25,
     "metadata": {},
     "output_type": "execute_result"
    }
   ],
   "source": [
    "np.corrcoef(test_pred.flatten(), y_test)"
   ]
  },
  {
   "cell_type": "code",
   "execution_count": 26,
   "metadata": {},
   "outputs": [
    {
     "name": "stdout",
     "output_type": "stream",
     "text": [
      "Model: \"sequential_1\"\n",
      "_________________________________________________________________\n",
      " Layer (type)                Output Shape              Param #   \n",
      "=================================================================\n",
      " dense_4 (Dense)             (None, 10)                60        \n",
      "                                                                 \n",
      " dense_5 (Dense)             (None, 10)                110       \n",
      "                                                                 \n",
      " dense_6 (Dense)             (None, 10)                110       \n",
      "                                                                 \n",
      " dense_7 (Dense)             (None, 1)                 11        \n",
      "                                                                 \n",
      "=================================================================\n",
      "Total params: 291\n",
      "Trainable params: 291\n",
      "Non-trainable params: 0\n",
      "_________________________________________________________________\n"
     ]
    }
   ],
   "source": [
    "model.summary()"
   ]
  },
  {
   "cell_type": "code",
   "execution_count": 27,
   "metadata": {},
   "outputs": [
    {
     "data": {
      "text/plain": [
       "{'loss': [17205.4765625,\n",
       "  17096.296875,\n",
       "  17070.791015625,\n",
       "  17061.93359375,\n",
       "  17055.935546875,\n",
       "  17051.33203125,\n",
       "  17049.267578125,\n",
       "  17047.994140625,\n",
       "  17044.0546875,\n",
       "  17041.265625,\n",
       "  17039.765625,\n",
       "  17038.33984375,\n",
       "  17036.169921875,\n",
       "  17036.029296875,\n",
       "  17034.310546875,\n",
       "  17034.75,\n",
       "  17033.642578125,\n",
       "  17032.890625,\n",
       "  17031.634765625,\n",
       "  17031.685546875,\n",
       "  17034.796875,\n",
       "  17032.91015625,\n",
       "  17031.80078125,\n",
       "  17031.75,\n",
       "  17027.759765625,\n",
       "  17031.6953125,\n",
       "  17032.2421875,\n",
       "  17030.244140625,\n",
       "  17030.904296875,\n",
       "  17032.478515625,\n",
       "  17030.0703125,\n",
       "  17030.443359375,\n",
       "  17028.552734375,\n",
       "  17028.408203125,\n",
       "  17030.275390625,\n",
       "  17033.08203125,\n",
       "  17029.4921875,\n",
       "  17030.58203125,\n",
       "  17028.828125,\n",
       "  17030.306640625,\n",
       "  17031.537109375,\n",
       "  17029.388671875,\n",
       "  17028.19921875,\n",
       "  17029.51171875,\n",
       "  17027.099609375,\n",
       "  17031.845703125,\n",
       "  17027.685546875,\n",
       "  17029.474609375,\n",
       "  17029.189453125,\n",
       "  17028.66015625,\n",
       "  17028.0859375,\n",
       "  17028.837890625,\n",
       "  17028.73046875,\n",
       "  17027.533203125,\n",
       "  17027.990234375,\n",
       "  17030.578125,\n",
       "  17027.0390625,\n",
       "  17028.01171875,\n",
       "  17028.369140625,\n",
       "  17029.373046875,\n",
       "  17028.955078125,\n",
       "  17029.33984375,\n",
       "  17028.984375,\n",
       "  17030.076171875,\n",
       "  17028.912109375,\n",
       "  17030.787109375,\n",
       "  17028.78125,\n",
       "  17030.75390625,\n",
       "  17028.8046875,\n",
       "  17029.47265625,\n",
       "  17027.81640625,\n",
       "  17030.8359375,\n",
       "  17028.74609375,\n",
       "  17029.14453125,\n",
       "  17028.263671875,\n",
       "  17030.619140625,\n",
       "  17029.83984375,\n",
       "  17027.748046875,\n",
       "  17028.9140625,\n",
       "  17026.666015625,\n",
       "  17029.60546875,\n",
       "  17028.40234375,\n",
       "  17028.158203125,\n",
       "  17028.201171875,\n",
       "  17028.47265625,\n",
       "  17030.013671875,\n",
       "  17030.58203125,\n",
       "  17027.85546875,\n",
       "  17028.818359375,\n",
       "  17027.810546875,\n",
       "  17028.80859375,\n",
       "  17027.728515625,\n",
       "  17028.181640625,\n",
       "  17027.337890625,\n",
       "  17029.740234375,\n",
       "  17026.736328125,\n",
       "  17026.982421875,\n",
       "  17027.140625,\n",
       "  17027.88671875,\n",
       "  17028.888671875],\n",
       " 'accuracy': [0.00011487848678370938,\n",
       "  2.8719621695927344e-05,\n",
       "  2.8719621695927344e-05,\n",
       "  2.8719621695927344e-05,\n",
       "  2.9868406272726133e-05,\n",
       "  2.9868406272726133e-05,\n",
       "  2.9868406272726133e-05,\n",
       "  2.8719621695927344e-05,\n",
       "  2.6422052542329766e-05,\n",
       "  2.8719621695927344e-05,\n",
       "  3.1017192668514326e-05,\n",
       "  3.3314761822111905e-05,\n",
       "  2.9868406272726133e-05,\n",
       "  2.9868406272726133e-05,\n",
       "  3.1017192668514326e-05,\n",
       "  2.9868406272726133e-05,\n",
       "  2.9868406272726133e-05,\n",
       "  2.9868406272726133e-05,\n",
       "  2.9868406272726133e-05,\n",
       "  3.1017192668514326e-05,\n",
       "  2.8719621695927344e-05,\n",
       "  2.7570837119128555e-05,\n",
       "  2.7570837119128555e-05,\n",
       "  2.8719621695927344e-05,\n",
       "  2.9868406272726133e-05,\n",
       "  2.9868406272726133e-05,\n",
       "  2.9868406272726133e-05,\n",
       "  3.1017192668514326e-05,\n",
       "  2.9868406272726133e-05,\n",
       "  3.1017192668514326e-05,\n",
       "  3.1017192668514326e-05,\n",
       "  2.8719621695927344e-05,\n",
       "  3.1017192668514326e-05,\n",
       "  2.8719621695927344e-05,\n",
       "  2.9868406272726133e-05,\n",
       "  2.9868406272726133e-05,\n",
       "  2.9868406272726133e-05,\n",
       "  2.9868406272726133e-05,\n",
       "  3.1017192668514326e-05,\n",
       "  3.1017192668514326e-05,\n",
       "  2.9868406272726133e-05,\n",
       "  3.1017192668514326e-05,\n",
       "  2.9868406272726133e-05,\n",
       "  2.9868406272726133e-05,\n",
       "  3.1017192668514326e-05,\n",
       "  3.1017192668514326e-05,\n",
       "  3.216597542632371e-05,\n",
       "  3.1017192668514326e-05,\n",
       "  3.1017192668514326e-05,\n",
       "  3.1017192668514326e-05,\n",
       "  3.1017192668514326e-05,\n",
       "  3.1017192668514326e-05,\n",
       "  2.9868406272726133e-05,\n",
       "  2.9868406272726133e-05,\n",
       "  3.1017192668514326e-05,\n",
       "  3.1017192668514326e-05,\n",
       "  2.9868406272726133e-05,\n",
       "  3.216597542632371e-05,\n",
       "  3.216597542632371e-05,\n",
       "  3.216597542632371e-05,\n",
       "  3.1017192668514326e-05,\n",
       "  3.216597542632371e-05,\n",
       "  3.1017192668514326e-05,\n",
       "  3.1017192668514326e-05,\n",
       "  3.1017192668514326e-05,\n",
       "  3.216597542632371e-05,\n",
       "  3.216597542632371e-05,\n",
       "  3.216597542632371e-05,\n",
       "  3.216597542632371e-05,\n",
       "  3.1017192668514326e-05,\n",
       "  3.1017192668514326e-05,\n",
       "  3.1017192668514326e-05,\n",
       "  3.216597542632371e-05,\n",
       "  3.216597542632371e-05,\n",
       "  3.216597542632371e-05,\n",
       "  3.216597542632371e-05,\n",
       "  2.9868406272726133e-05,\n",
       "  3.216597542632371e-05,\n",
       "  2.9868406272726133e-05,\n",
       "  2.9868406272726133e-05,\n",
       "  3.1017192668514326e-05,\n",
       "  3.216597542632371e-05,\n",
       "  3.1017192668514326e-05,\n",
       "  3.216597542632371e-05,\n",
       "  2.9868406272726133e-05,\n",
       "  3.3314761822111905e-05,\n",
       "  3.1017192668514326e-05,\n",
       "  3.1017192668514326e-05,\n",
       "  2.9868406272726133e-05,\n",
       "  3.1017192668514326e-05,\n",
       "  3.216597542632371e-05,\n",
       "  3.216597542632371e-05,\n",
       "  2.9868406272726133e-05,\n",
       "  3.216597542632371e-05,\n",
       "  2.9868406272726133e-05,\n",
       "  3.216597542632371e-05,\n",
       "  3.216597542632371e-05,\n",
       "  3.216597542632371e-05,\n",
       "  2.9868406272726133e-05,\n",
       "  3.216597542632371e-05],\n",
       " 'val_loss': [213.29127502441406,\n",
       "  152.12242126464844,\n",
       "  128.068359375,\n",
       "  124.16744232177734,\n",
       "  118.78970336914062,\n",
       "  105.80171203613281,\n",
       "  103.2061767578125,\n",
       "  102.30301666259766,\n",
       "  98.20735168457031,\n",
       "  87.45343780517578,\n",
       "  90.66912841796875,\n",
       "  86.16583251953125,\n",
       "  84.08171844482422,\n",
       "  78.78129577636719,\n",
       "  76.10860443115234,\n",
       "  75.59278869628906,\n",
       "  77.13682556152344,\n",
       "  72.5685043334961,\n",
       "  72.83965301513672,\n",
       "  69.32441711425781,\n",
       "  67.18017578125,\n",
       "  67.1275634765625,\n",
       "  68.73725128173828,\n",
       "  66.05181884765625,\n",
       "  66.74020385742188,\n",
       "  65.4937515258789,\n",
       "  64.14472198486328,\n",
       "  67.4563980102539,\n",
       "  66.41283416748047,\n",
       "  63.07707977294922,\n",
       "  63.267032623291016,\n",
       "  62.056671142578125,\n",
       "  63.60323715209961,\n",
       "  62.297183990478516,\n",
       "  62.046485900878906,\n",
       "  62.290069580078125,\n",
       "  61.965415954589844,\n",
       "  63.38756561279297,\n",
       "  66.34378051757812,\n",
       "  62.049896240234375,\n",
       "  62.19709777832031,\n",
       "  61.132835388183594,\n",
       "  63.36259460449219,\n",
       "  61.03764343261719,\n",
       "  63.711124420166016,\n",
       "  60.48168182373047,\n",
       "  61.31489181518555,\n",
       "  60.18254470825195,\n",
       "  61.179840087890625,\n",
       "  64.04253387451172,\n",
       "  60.435821533203125,\n",
       "  62.81300354003906,\n",
       "  62.48108673095703,\n",
       "  60.628883361816406,\n",
       "  61.01915740966797,\n",
       "  59.32710266113281,\n",
       "  59.075401306152344,\n",
       "  58.823123931884766,\n",
       "  60.428043365478516,\n",
       "  59.653709411621094,\n",
       "  60.6186408996582,\n",
       "  58.276485443115234,\n",
       "  58.55666732788086,\n",
       "  58.5775032043457,\n",
       "  58.13050079345703,\n",
       "  58.49614715576172,\n",
       "  63.131752014160156,\n",
       "  58.27788162231445,\n",
       "  57.8641242980957,\n",
       "  58.77216339111328,\n",
       "  57.753684997558594,\n",
       "  57.8302001953125,\n",
       "  57.82582092285156,\n",
       "  57.725830078125,\n",
       "  58.20992660522461,\n",
       "  58.439788818359375,\n",
       "  58.16710662841797,\n",
       "  57.75159454345703,\n",
       "  57.004974365234375,\n",
       "  57.995548248291016,\n",
       "  56.98633575439453,\n",
       "  57.72014236450195,\n",
       "  57.75366973876953,\n",
       "  56.51308822631836,\n",
       "  58.3548698425293,\n",
       "  57.160587310791016,\n",
       "  57.27467727661133,\n",
       "  57.69211196899414,\n",
       "  57.31700897216797,\n",
       "  56.606170654296875,\n",
       "  56.45903396606445,\n",
       "  58.59775924682617,\n",
       "  56.1497917175293,\n",
       "  58.03156280517578,\n",
       "  57.363346099853516,\n",
       "  59.7860107421875,\n",
       "  56.520668029785156,\n",
       "  57.7899169921875,\n",
       "  56.61861038208008,\n",
       "  56.6476936340332],\n",
       " 'val_accuracy': [2.9402252039290033e-05,\n",
       "  2.9402252039290033e-05,\n",
       "  2.9402252039290033e-05,\n",
       "  2.9402252039290033e-05,\n",
       "  2.9402252039290033e-05,\n",
       "  2.9402252039290033e-05,\n",
       "  2.9402252039290033e-05,\n",
       "  2.9402252039290033e-05,\n",
       "  2.9402252039290033e-05,\n",
       "  0.0,\n",
       "  2.9402252039290033e-05,\n",
       "  2.9402252039290033e-05,\n",
       "  2.9402252039290033e-05,\n",
       "  2.9402252039290033e-05,\n",
       "  2.9402252039290033e-05,\n",
       "  2.9402252039290033e-05,\n",
       "  2.9402252039290033e-05,\n",
       "  2.9402252039290033e-05,\n",
       "  2.9402252039290033e-05,\n",
       "  2.9402252039290033e-05,\n",
       "  2.9402252039290033e-05,\n",
       "  2.9402252039290033e-05,\n",
       "  2.9402252039290033e-05,\n",
       "  2.9402252039290033e-05,\n",
       "  2.9402252039290033e-05,\n",
       "  0.0,\n",
       "  2.9402252039290033e-05,\n",
       "  2.9402252039290033e-05,\n",
       "  2.9402252039290033e-05,\n",
       "  2.9402252039290033e-05,\n",
       "  2.9402252039290033e-05,\n",
       "  2.9402252039290033e-05,\n",
       "  2.9402252039290033e-05,\n",
       "  2.9402252039290033e-05,\n",
       "  2.9402252039290033e-05,\n",
       "  2.9402252039290033e-05,\n",
       "  2.9402252039290033e-05,\n",
       "  2.9402252039290033e-05,\n",
       "  2.9402252039290033e-05,\n",
       "  2.9402252039290033e-05,\n",
       "  2.9402252039290033e-05,\n",
       "  2.9402252039290033e-05,\n",
       "  2.9402252039290033e-05,\n",
       "  2.9402252039290033e-05,\n",
       "  2.9402252039290033e-05,\n",
       "  2.9402252039290033e-05,\n",
       "  2.9402252039290033e-05,\n",
       "  2.9402252039290033e-05,\n",
       "  0.0,\n",
       "  2.9402252039290033e-05,\n",
       "  2.9402252039290033e-05,\n",
       "  2.9402252039290033e-05,\n",
       "  2.9402252039290033e-05,\n",
       "  2.9402252039290033e-05,\n",
       "  2.9402252039290033e-05,\n",
       "  2.9402252039290033e-05,\n",
       "  2.9402252039290033e-05,\n",
       "  2.9402252039290033e-05,\n",
       "  2.9402252039290033e-05,\n",
       "  2.9402252039290033e-05,\n",
       "  2.9402252039290033e-05,\n",
       "  2.9402252039290033e-05,\n",
       "  2.9402252039290033e-05,\n",
       "  2.9402252039290033e-05,\n",
       "  2.9402252039290033e-05,\n",
       "  2.9402252039290033e-05,\n",
       "  2.9402252039290033e-05,\n",
       "  2.9402252039290033e-05,\n",
       "  2.9402252039290033e-05,\n",
       "  2.9402252039290033e-05,\n",
       "  2.9402252039290033e-05,\n",
       "  2.9402252039290033e-05,\n",
       "  2.9402252039290033e-05,\n",
       "  2.9402252039290033e-05,\n",
       "  2.9402252039290033e-05,\n",
       "  2.9402252039290033e-05,\n",
       "  2.9402252039290033e-05,\n",
       "  2.9402252039290033e-05,\n",
       "  2.9402252039290033e-05,\n",
       "  2.9402252039290033e-05,\n",
       "  2.9402252039290033e-05,\n",
       "  2.9402252039290033e-05,\n",
       "  2.9402252039290033e-05,\n",
       "  2.9402252039290033e-05,\n",
       "  2.9402252039290033e-05,\n",
       "  2.9402252039290033e-05,\n",
       "  2.9402252039290033e-05,\n",
       "  2.9402252039290033e-05,\n",
       "  2.9402252039290033e-05,\n",
       "  2.9402252039290033e-05,\n",
       "  2.9402252039290033e-05,\n",
       "  2.9402252039290033e-05,\n",
       "  2.9402252039290033e-05,\n",
       "  8.82067542988807e-05,\n",
       "  2.9402252039290033e-05,\n",
       "  2.9402252039290033e-05,\n",
       "  2.9402252039290033e-05,\n",
       "  2.9402252039290033e-05,\n",
       "  2.9402252039290033e-05,\n",
       "  2.9402252039290033e-05]}"
      ]
     },
     "execution_count": 27,
     "metadata": {},
     "output_type": "execute_result"
    }
   ],
   "source": [
    "history.history"
   ]
  },
  {
   "cell_type": "code",
   "execution_count": 28,
   "metadata": {},
   "outputs": [
    {
     "name": "stdout",
     "output_type": "stream",
     "text": [
      "INFO:tensorflow:Assets written to: ram:///var/folders/yd/vkjb_lqj2_30lnyhzhjqtg9w0000gp/T/tmp9vpalns4/assets\n"
     ]
    }
   ],
   "source": [
    "file = model_path+'model_nonzero_32to38.sav'\n",
    "pickle.dump(model, open(file, 'wb'))"
   ]
  },
  {
   "cell_type": "code",
   "execution_count": 25,
   "metadata": {},
   "outputs": [
    {
     "ename": "ImportError",
     "evalue": "No module named scikeras._saving_utils",
     "output_type": "error",
     "traceback": [
      "\u001b[0;31m---------------------------------------------------------------------------\u001b[0m",
      "\u001b[0;31mImportError\u001b[0m                               Traceback (most recent call last)",
      "\u001b[0;32m<ipython-input-25-c0e061e138f9>\u001b[0m in \u001b[0;36m<module>\u001b[0;34m()\u001b[0m\n\u001b[1;32m      1\u001b[0m \u001b[0mfile\u001b[0m \u001b[0;34m=\u001b[0m \u001b[0mmodel_path\u001b[0m\u001b[0;34m+\u001b[0m\u001b[0;34m'model_nonzero_32to38.sav'\u001b[0m\u001b[0;34m\u001b[0m\u001b[0m\n\u001b[0;32m----> 2\u001b[0;31m \u001b[0mload_model\u001b[0m \u001b[0;34m=\u001b[0m \u001b[0mpickle\u001b[0m\u001b[0;34m.\u001b[0m\u001b[0mload\u001b[0m\u001b[0;34m(\u001b[0m\u001b[0mopen\u001b[0m\u001b[0;34m(\u001b[0m\u001b[0mfile\u001b[0m\u001b[0;34m,\u001b[0m \u001b[0;34m'rb'\u001b[0m\u001b[0;34m)\u001b[0m\u001b[0;34m)\u001b[0m\u001b[0;34m\u001b[0m\u001b[0m\n\u001b[0m\u001b[1;32m      3\u001b[0m \u001b[0mresult\u001b[0m \u001b[0;34m=\u001b[0m \u001b[0mload_model\u001b[0m\u001b[0;34m.\u001b[0m\u001b[0mevaluate\u001b[0m\u001b[0;34m(\u001b[0m\u001b[0mX_test\u001b[0m\u001b[0;34m,\u001b[0m \u001b[0my_test\u001b[0m\u001b[0;34m)\u001b[0m\u001b[0;34m\u001b[0m\u001b[0m\n\u001b[1;32m      4\u001b[0m \u001b[0;32mprint\u001b[0m\u001b[0;34m(\u001b[0m\u001b[0mresult\u001b[0m\u001b[0;34m)\u001b[0m\u001b[0;34m\u001b[0m\u001b[0m\n",
      "\u001b[0;32m/Users/chikakoolsen/opt/anaconda3/envs/py27/lib/python2.7/pickle.pyc\u001b[0m in \u001b[0;36mload\u001b[0;34m(file)\u001b[0m\n\u001b[1;32m   1382\u001b[0m \u001b[0;34m\u001b[0m\u001b[0m\n\u001b[1;32m   1383\u001b[0m \u001b[0;32mdef\u001b[0m \u001b[0mload\u001b[0m\u001b[0;34m(\u001b[0m\u001b[0mfile\u001b[0m\u001b[0;34m)\u001b[0m\u001b[0;34m:\u001b[0m\u001b[0;34m\u001b[0m\u001b[0m\n\u001b[0;32m-> 1384\u001b[0;31m     \u001b[0;32mreturn\u001b[0m \u001b[0mUnpickler\u001b[0m\u001b[0;34m(\u001b[0m\u001b[0mfile\u001b[0m\u001b[0;34m)\u001b[0m\u001b[0;34m.\u001b[0m\u001b[0mload\u001b[0m\u001b[0;34m(\u001b[0m\u001b[0;34m)\u001b[0m\u001b[0;34m\u001b[0m\u001b[0m\n\u001b[0m\u001b[1;32m   1385\u001b[0m \u001b[0;34m\u001b[0m\u001b[0m\n\u001b[1;32m   1386\u001b[0m \u001b[0;32mdef\u001b[0m \u001b[0mloads\u001b[0m\u001b[0;34m(\u001b[0m\u001b[0mstr\u001b[0m\u001b[0;34m)\u001b[0m\u001b[0;34m:\u001b[0m\u001b[0;34m\u001b[0m\u001b[0m\n",
      "\u001b[0;32m/Users/chikakoolsen/opt/anaconda3/envs/py27/lib/python2.7/pickle.pyc\u001b[0m in \u001b[0;36mload\u001b[0;34m(self)\u001b[0m\n\u001b[1;32m    862\u001b[0m             \u001b[0;32mwhile\u001b[0m \u001b[0;36m1\u001b[0m\u001b[0;34m:\u001b[0m\u001b[0;34m\u001b[0m\u001b[0m\n\u001b[1;32m    863\u001b[0m                 \u001b[0mkey\u001b[0m \u001b[0;34m=\u001b[0m \u001b[0mread\u001b[0m\u001b[0;34m(\u001b[0m\u001b[0;36m1\u001b[0m\u001b[0;34m)\u001b[0m\u001b[0;34m\u001b[0m\u001b[0m\n\u001b[0;32m--> 864\u001b[0;31m                 \u001b[0mdispatch\u001b[0m\u001b[0;34m[\u001b[0m\u001b[0mkey\u001b[0m\u001b[0;34m]\u001b[0m\u001b[0;34m(\u001b[0m\u001b[0mself\u001b[0m\u001b[0;34m)\u001b[0m\u001b[0;34m\u001b[0m\u001b[0m\n\u001b[0m\u001b[1;32m    865\u001b[0m         \u001b[0;32mexcept\u001b[0m \u001b[0m_Stop\u001b[0m\u001b[0;34m,\u001b[0m \u001b[0mstopinst\u001b[0m\u001b[0;34m:\u001b[0m\u001b[0;34m\u001b[0m\u001b[0m\n\u001b[1;32m    866\u001b[0m             \u001b[0;32mreturn\u001b[0m \u001b[0mstopinst\u001b[0m\u001b[0;34m.\u001b[0m\u001b[0mvalue\u001b[0m\u001b[0;34m\u001b[0m\u001b[0m\n",
      "\u001b[0;32m/Users/chikakoolsen/opt/anaconda3/envs/py27/lib/python2.7/pickle.pyc\u001b[0m in \u001b[0;36mload_global\u001b[0;34m(self)\u001b[0m\n\u001b[1;32m   1094\u001b[0m         \u001b[0mmodule\u001b[0m \u001b[0;34m=\u001b[0m \u001b[0mself\u001b[0m\u001b[0;34m.\u001b[0m\u001b[0mreadline\u001b[0m\u001b[0;34m(\u001b[0m\u001b[0;34m)\u001b[0m\u001b[0;34m[\u001b[0m\u001b[0;34m:\u001b[0m\u001b[0;34m-\u001b[0m\u001b[0;36m1\u001b[0m\u001b[0;34m]\u001b[0m\u001b[0;34m\u001b[0m\u001b[0m\n\u001b[1;32m   1095\u001b[0m         \u001b[0mname\u001b[0m \u001b[0;34m=\u001b[0m \u001b[0mself\u001b[0m\u001b[0;34m.\u001b[0m\u001b[0mreadline\u001b[0m\u001b[0;34m(\u001b[0m\u001b[0;34m)\u001b[0m\u001b[0;34m[\u001b[0m\u001b[0;34m:\u001b[0m\u001b[0;34m-\u001b[0m\u001b[0;36m1\u001b[0m\u001b[0;34m]\u001b[0m\u001b[0;34m\u001b[0m\u001b[0m\n\u001b[0;32m-> 1096\u001b[0;31m         \u001b[0mklass\u001b[0m \u001b[0;34m=\u001b[0m \u001b[0mself\u001b[0m\u001b[0;34m.\u001b[0m\u001b[0mfind_class\u001b[0m\u001b[0;34m(\u001b[0m\u001b[0mmodule\u001b[0m\u001b[0;34m,\u001b[0m \u001b[0mname\u001b[0m\u001b[0;34m)\u001b[0m\u001b[0;34m\u001b[0m\u001b[0m\n\u001b[0m\u001b[1;32m   1097\u001b[0m         \u001b[0mself\u001b[0m\u001b[0;34m.\u001b[0m\u001b[0mappend\u001b[0m\u001b[0;34m(\u001b[0m\u001b[0mklass\u001b[0m\u001b[0;34m)\u001b[0m\u001b[0;34m\u001b[0m\u001b[0m\n\u001b[1;32m   1098\u001b[0m     \u001b[0mdispatch\u001b[0m\u001b[0;34m[\u001b[0m\u001b[0mGLOBAL\u001b[0m\u001b[0;34m]\u001b[0m \u001b[0;34m=\u001b[0m \u001b[0mload_global\u001b[0m\u001b[0;34m\u001b[0m\u001b[0m\n",
      "\u001b[0;32m/Users/chikakoolsen/opt/anaconda3/envs/py27/lib/python2.7/pickle.pyc\u001b[0m in \u001b[0;36mfind_class\u001b[0;34m(self, module, name)\u001b[0m\n\u001b[1;32m   1128\u001b[0m     \u001b[0;32mdef\u001b[0m \u001b[0mfind_class\u001b[0m\u001b[0;34m(\u001b[0m\u001b[0mself\u001b[0m\u001b[0;34m,\u001b[0m \u001b[0mmodule\u001b[0m\u001b[0;34m,\u001b[0m \u001b[0mname\u001b[0m\u001b[0;34m)\u001b[0m\u001b[0;34m:\u001b[0m\u001b[0;34m\u001b[0m\u001b[0m\n\u001b[1;32m   1129\u001b[0m         \u001b[0;31m# Subclasses may override this\u001b[0m\u001b[0;34m\u001b[0m\u001b[0;34m\u001b[0m\u001b[0m\n\u001b[0;32m-> 1130\u001b[0;31m         \u001b[0m__import__\u001b[0m\u001b[0;34m(\u001b[0m\u001b[0mmodule\u001b[0m\u001b[0;34m)\u001b[0m\u001b[0;34m\u001b[0m\u001b[0m\n\u001b[0m\u001b[1;32m   1131\u001b[0m         \u001b[0mmod\u001b[0m \u001b[0;34m=\u001b[0m \u001b[0msys\u001b[0m\u001b[0;34m.\u001b[0m\u001b[0mmodules\u001b[0m\u001b[0;34m[\u001b[0m\u001b[0mmodule\u001b[0m\u001b[0;34m]\u001b[0m\u001b[0;34m\u001b[0m\u001b[0m\n\u001b[1;32m   1132\u001b[0m         \u001b[0mklass\u001b[0m \u001b[0;34m=\u001b[0m \u001b[0mgetattr\u001b[0m\u001b[0;34m(\u001b[0m\u001b[0mmod\u001b[0m\u001b[0;34m,\u001b[0m \u001b[0mname\u001b[0m\u001b[0;34m)\u001b[0m\u001b[0;34m\u001b[0m\u001b[0m\n",
      "\u001b[0;31mImportError\u001b[0m: No module named scikeras._saving_utils"
     ]
    }
   ],
   "source": [
    "file = model_path+'model_nonzero_32to38.sav'\n",
    "load_model = pickle.load(open(file, 'rb'))\n",
    "result = load_model.evaluate(X_test, y_test)\n",
    "print(result)"
   ]
  },
  {
   "cell_type": "code",
   "execution_count": null,
   "metadata": {},
   "outputs": [],
   "source": []
  },
  {
   "cell_type": "markdown",
   "metadata": {},
   "source": [
    "## Plot"
   ]
  },
  {
   "cell_type": "markdown",
   "metadata": {},
   "source": [
    "### Loss function (MSE)"
   ]
  },
  {
   "cell_type": "code",
   "execution_count": 29,
   "metadata": {
    "scrolled": false
   },
   "outputs": [
    {
     "data": {
      "image/png": "[encoded data removed]",
      "text/plain": [
       "<Figure size 640x480 with 1 Axes>"
      ]
     },
     "metadata": {},
     "output_type": "display_data"
    }
   ],
   "source": [
    "model_df = pd.DataFrame(history.history)\n",
    "model_df[['loss', 'val_loss']].plot()\n",
    "plt.xlabel(\"Number of Epochs\")\n",
    "plt.ylabel(\"Loss\")\n",
    "plt.title(\"Training and Validation Loss Over Training Period\", pad=12);"
   ]
  },
  {
   "cell_type": "markdown",
   "metadata": {},
   "source": [
    "### Accuracy"
   ]
  },
  {
   "cell_type": "code",
   "execution_count": 30,
   "metadata": {},
   "outputs": [
    {
     "data": {
      "image/png": "[encoded data removed]",
      "text/plain": [
       "<Figure size 640x480 with 1 Axes>"
      ]
     },
     "metadata": {},
     "output_type": "display_data"
    }
   ],
   "source": [
    "model_df[['accuracy', 'val_accuracy']].plot()\n",
    "plt.xlabel(\"Number of Epochs\")\n",
    "plt.ylabel(\"Accuracy\")\n",
    "plt.title(\"Training and Validation Accuray Over Training Period\", pad=12);"
   ]
  },
  {
   "cell_type": "markdown",
   "metadata": {},
   "source": [
    "### Theory vs Predict"
   ]
  },
  {
   "cell_type": "code",
   "execution_count": 31,
   "metadata": {
    "scrolled": false
   },
   "outputs": [
    {
     "name": "stdout",
     "output_type": "stream",
     "text": [
      "r: 0.83818, st_er: 0.002442\n",
      "y = 0.6921*x + 3.9481\n"
     ]
    },
    {
     "data": {
      "image/png": "[encoded data removed]",
      "text/plain": [
       "<Figure size 640x480 with 1 Axes>"
      ]
     },
     "metadata": {},
     "output_type": "display_data"
    }
   ],
   "source": [
    "x = y_test.flatten()\n",
    "y = test_pred.flatten()\n",
    "m, b, r, p, st_er = stats.linregress(x,y) \n",
    "\n",
    "yfit = [b + m * xi for xi in x]\n",
    "yisx = [0 + 1 * xi for xi in x]\n",
    "plt.plot(x, yfit)\n",
    "plt.plot(x, yisx)\n",
    "\n",
    "plt.scatter(y_test, test_pred,  color='black')\n",
    "plt.axis([0,100, 0, 100])\n",
    "plt.xlabel(\"Theory (nT)\")\n",
    "plt.ylabel(\"Prediction (nT)\")\n",
    "plt.title(\"Neural Network Prediction vs Theory\", fontsize=15)\n",
    "# print(r, st_er)\n",
    "print(\"r: {:.5f}, st_er: {:.6f}\".format(r, st_er))\n",
    "print(\"y = \"+str(round(m,4))+\"*x + \"+str(round(b,4)))"
   ]
  },
  {
   "cell_type": "markdown",
   "metadata": {},
   "source": [
    "### Erode"
   ]
  },
  {
   "cell_type": "markdown",
   "metadata": {},
   "source": [
    "### Physics vs Theory"
   ]
  },
  {
   "cell_type": "code",
   "execution_count": 15,
   "metadata": {},
   "outputs": [
    {
     "name": "stdout",
     "output_type": "stream",
     "text": [
      "r: 0.06228, st_er: 0.023157\n",
      "y = 0.6134*x + -0.4516\n"
     ]
    },
    {
     "data": {
      "image/png": "[encoded data removed]",
      "text/plain": [
       "<Figure size 432x288 with 1 Axes>"
      ]
     },
     "metadata": {
      "needs_background": "light"
     },
     "output_type": "display_data"
    }
   ],
   "source": [
    "xminusy = \"56minus54\" # run 6\n",
    "erode = '1'\n",
    "sub_path = dir_path+\"data/external/R21_36_Cyl_Aqueous/\"\n",
    "cwd = sub_path+\"NIFTI/bmaps_numpy/\"+xminusy+\"/\"\n",
    "img_meas = nib.load(cwd+\"/diff_fmap_Mean_erode\"+erode+\".nii.gz\")\n",
    "img_theo = nib.load(cwd+\"/Bvals_erode\"+erode+\".nii.gz\")\n",
    "\n",
    "data_meas = img_meas.get_data()\n",
    "data_theo = img_theo.get_data()\n",
    "x = data_theo.flatten()\n",
    "y = data_meas.flatten()\n",
    "\n",
    "m, b, r, p, st_er = stats.linregress(x,y) \n",
    "\n",
    "yfit = [b + m * xi for xi in x]\n",
    "yisx = [0 + 1 * xi for xi in x]\n",
    "plt.plot(x, yfit)\n",
    "plt.plot(x, yisx)\n",
    "\n",
    "plt.scatter(x, y,  color='black')\n",
    "plt.axis([0,100, 0, 100])\n",
    "plt.xlabel(\"Theory (nT)\")\n",
    "plt.ylabel(\"Prediction (nT)\")\n",
    "plt.title(\"Physics vs Theory (erode)\", fontsize=15)\n",
    "# print(r, st_er)\n",
    "print(\"r: {:.5f}, st_er: {:.6f}\".format(r, st_er))\n",
    "print(\"y = \"+str(round(m,4))+\"*x + \"+str(round(b,4)))"
   ]
  },
  {
   "cell_type": "code",
   "execution_count": 12,
   "metadata": {},
   "outputs": [
    {
     "data": {
      "text/plain": [
       "'/Users/chikakoolsen/opt/python/thesis/code/tdcs_thesis/data/processed/NIFTI/bmaps_numpy/46minus44/'"
      ]
     },
     "execution_count": 12,
     "metadata": {},
     "output_type": "execute_result"
    }
   ],
   "source": [
    "cwd"
   ]
  },
  {
   "cell_type": "markdown",
   "metadata": {},
   "source": [
    "### Predict vs Theory"
   ]
  },
  {
   "cell_type": "code",
   "execution_count": 16,
   "metadata": {},
   "outputs": [
    {
     "name": "stdout",
     "output_type": "stream",
     "text": [
      "r: 0.98466, st_er: 0.000440\n",
      "y = 1.0534*x + 0.0352\n"
     ]
    },
    {
     "data": {
      "image/png": "[encoded data removed]",
      "text/plain": [
       "<Figure size 432x288 with 1 Axes>"
      ]
     },
     "metadata": {
      "needs_background": "light"
     },
     "output_type": "display_data"
    }
   ],
   "source": [
    "img_pred = nib.load(img_path+\"/predicted_nn_nonzero_32to38_erode.nii.gz\")\n",
    "data_pred = img_pred.get_data()\n",
    "\n",
    "x = data_theo.flatten()\n",
    "y = data_pred.flatten()\n",
    "m, b, r, p, st_er = stats.linregress(x,y) \n",
    "\n",
    "yfit = [b + m * xi for xi in x]\n",
    "yisx = [0 + 1 * xi for xi in x]\n",
    "plt.plot(x, yfit)\n",
    "plt.plot(x, yisx)\n",
    "\n",
    "plt.scatter(x, y,  color='black')\n",
    "plt.axis([0,100, 0, 100])\n",
    "plt.xlabel(\"Theory (nT)\")\n",
    "plt.ylabel(\"Prediction (nT)\")\n",
    "plt.title(\"Neural Network Prediction vs Theory (erode)\", fontsize=15)\n",
    "# print(r, st_er)\n",
    "print(\"r: {:.5f}, st_er: {:.6f}\".format(r, st_er))\n",
    "print(\"y = \"+str(round(m,4))+\"*x + \"+str(round(b,4)))"
   ]
  },
  {
   "cell_type": "markdown",
   "metadata": {},
   "source": [
    "# Output data"
   ]
  },
  {
   "cell_type": "code",
   "execution_count": 92,
   "metadata": {},
   "outputs": [
    {
     "name": "stdout",
     "output_type": "stream",
     "text": [
      "1063/1063 [==============================] - 1s 727us/step\n"
     ]
    }
   ],
   "source": [
    "test_pred = model.predict(X4_pred)"
   ]
  },
  {
   "cell_type": "code",
   "execution_count": 93,
   "metadata": {},
   "outputs": [
    {
     "name": "stderr",
     "output_type": "stream",
     "text": [
      "/var/folders/yd/vkjb_lqj2_30lnyhzhjqtg9w0000gp/T/ipykernel_59995/2364276288.py:1: SettingWithCopyWarning: \n",
      "A value is trying to be set on a copy of a slice from a DataFrame.\n",
      "Try using .loc[row_indexer,col_indexer] = value instead\n",
      "\n",
      "See the caveats in the documentation: https://pandas.pydata.org/pandas-docs/stable/user_guide/indexing.html#returning-a-view-versus-a-copy\n",
      "  df4_pred['predict'] = test_pred\n"
     ]
    }
   ],
   "source": [
    "df4_pred['predict'] = test_pred"
   ]
  },
  {
   "cell_type": "code",
   "execution_count": 94,
   "metadata": {},
   "outputs": [
    {
     "data": {
      "text/html": [
       "<div>\n",
       "<style scoped>\n",
       "    .dataframe tbody tr th:only-of-type {\n",
       "        vertical-align: middle;\n",
       "    }\n",
       "\n",
       "    .dataframe tbody tr th {\n",
       "        vertical-align: top;\n",
       "    }\n",
       "\n",
       "    .dataframe thead th {\n",
       "        text-align: right;\n",
       "    }\n",
       "</style>\n",
       "<table border=\"1\" class=\"dataframe\">\n",
       "  <thead>\n",
       "    <tr style=\"text-align: right;\">\n",
       "      <th></th>\n",
       "      <th>exp</th>\n",
       "      <th>mini_exp</th>\n",
       "      <th>i</th>\n",
       "      <th>j</th>\n",
       "      <th>k</th>\n",
       "      <th>mean0</th>\n",
       "      <th>mean1</th>\n",
       "      <th>mean2</th>\n",
       "      <th>mean3</th>\n",
       "      <th>mean4</th>\n",
       "      <th>theory</th>\n",
       "      <th>predict</th>\n",
       "    </tr>\n",
       "  </thead>\n",
       "  <tbody>\n",
       "    <tr>\n",
       "      <th>931880</th>\n",
       "      <td>36</td>\n",
       "      <td>6</td>\n",
       "      <td>7</td>\n",
       "      <td>32</td>\n",
       "      <td>40</td>\n",
       "      <td>-183.593781</td>\n",
       "      <td>-184.268631</td>\n",
       "      <td>-199.538742</td>\n",
       "      <td>-215.528793</td>\n",
       "      <td>-215.355865</td>\n",
       "      <td>4.988159</td>\n",
       "      <td>1.592257</td>\n",
       "    </tr>\n",
       "    <tr>\n",
       "      <th>931881</th>\n",
       "      <td>36</td>\n",
       "      <td>6</td>\n",
       "      <td>7</td>\n",
       "      <td>32</td>\n",
       "      <td>41</td>\n",
       "      <td>-383.761566</td>\n",
       "      <td>-383.066467</td>\n",
       "      <td>-395.916077</td>\n",
       "      <td>-417.522858</td>\n",
       "      <td>-420.110077</td>\n",
       "      <td>4.591202</td>\n",
       "      <td>1.592257</td>\n",
       "    </tr>\n",
       "    <tr>\n",
       "      <th>931882</th>\n",
       "      <td>36</td>\n",
       "      <td>6</td>\n",
       "      <td>7</td>\n",
       "      <td>32</td>\n",
       "      <td>42</td>\n",
       "      <td>-779.052185</td>\n",
       "      <td>-785.270813</td>\n",
       "      <td>-803.943787</td>\n",
       "      <td>-811.441101</td>\n",
       "      <td>-799.951233</td>\n",
       "      <td>4.237324</td>\n",
       "      <td>1.592257</td>\n",
       "    </tr>\n",
       "    <tr>\n",
       "      <th>931883</th>\n",
       "      <td>36</td>\n",
       "      <td>6</td>\n",
       "      <td>7</td>\n",
       "      <td>32</td>\n",
       "      <td>43</td>\n",
       "      <td>-1017.557312</td>\n",
       "      <td>-1026.294189</td>\n",
       "      <td>-1037.133667</td>\n",
       "      <td>-1050.012451</td>\n",
       "      <td>-1046.674072</td>\n",
       "      <td>3.918999</td>\n",
       "      <td>1.592257</td>\n",
       "    </tr>\n",
       "    <tr>\n",
       "      <th>931919</th>\n",
       "      <td>36</td>\n",
       "      <td>6</td>\n",
       "      <td>7</td>\n",
       "      <td>33</td>\n",
       "      <td>15</td>\n",
       "      <td>-1508.948120</td>\n",
       "      <td>-1513.032471</td>\n",
       "      <td>-1527.041992</td>\n",
       "      <td>-1536.478027</td>\n",
       "      <td>-1540.133301</td>\n",
       "      <td>3.371496</td>\n",
       "      <td>1.592257</td>\n",
       "    </tr>\n",
       "    <tr>\n",
       "      <th>...</th>\n",
       "      <td>...</td>\n",
       "      <td>...</td>\n",
       "      <td>...</td>\n",
       "      <td>...</td>\n",
       "      <td>...</td>\n",
       "      <td>...</td>\n",
       "      <td>...</td>\n",
       "      <td>...</td>\n",
       "      <td>...</td>\n",
       "      <td>...</td>\n",
       "      <td>...</td>\n",
       "      <td>...</td>\n",
       "    </tr>\n",
       "    <tr>\n",
       "      <th>1050968</th>\n",
       "      <td>36</td>\n",
       "      <td>6</td>\n",
       "      <td>36</td>\n",
       "      <td>37</td>\n",
       "      <td>24</td>\n",
       "      <td>-27.330389</td>\n",
       "      <td>-28.598026</td>\n",
       "      <td>-46.617607</td>\n",
       "      <td>-59.281792</td>\n",
       "      <td>-58.657875</td>\n",
       "      <td>7.175758</td>\n",
       "      <td>1.592257</td>\n",
       "    </tr>\n",
       "    <tr>\n",
       "      <th>1050979</th>\n",
       "      <td>36</td>\n",
       "      <td>6</td>\n",
       "      <td>36</td>\n",
       "      <td>37</td>\n",
       "      <td>35</td>\n",
       "      <td>171.250366</td>\n",
       "      <td>175.768433</td>\n",
       "      <td>151.715485</td>\n",
       "      <td>130.792816</td>\n",
       "      <td>139.797287</td>\n",
       "      <td>8.527348</td>\n",
       "      <td>1.592257</td>\n",
       "    </tr>\n",
       "    <tr>\n",
       "      <th>1050982</th>\n",
       "      <td>36</td>\n",
       "      <td>6</td>\n",
       "      <td>36</td>\n",
       "      <td>37</td>\n",
       "      <td>38</td>\n",
       "      <td>-96.352455</td>\n",
       "      <td>-94.962585</td>\n",
       "      <td>-115.256683</td>\n",
       "      <td>-131.555984</td>\n",
       "      <td>-127.650993</td>\n",
       "      <td>6.039019</td>\n",
       "      <td>1.592257</td>\n",
       "    </tr>\n",
       "    <tr>\n",
       "      <th>1050983</th>\n",
       "      <td>36</td>\n",
       "      <td>6</td>\n",
       "      <td>36</td>\n",
       "      <td>37</td>\n",
       "      <td>39</td>\n",
       "      <td>-235.110947</td>\n",
       "      <td>-235.878754</td>\n",
       "      <td>-253.580444</td>\n",
       "      <td>-268.104340</td>\n",
       "      <td>-266.388824</td>\n",
       "      <td>5.501382</td>\n",
       "      <td>1.592257</td>\n",
       "    </tr>\n",
       "    <tr>\n",
       "      <th>1051039</th>\n",
       "      <td>36</td>\n",
       "      <td>6</td>\n",
       "      <td>36</td>\n",
       "      <td>38</td>\n",
       "      <td>31</td>\n",
       "      <td>598.718323</td>\n",
       "      <td>657.307373</td>\n",
       "      <td>578.832947</td>\n",
       "      <td>494.954071</td>\n",
       "      <td>569.023071</td>\n",
       "      <td>33.141899</td>\n",
       "      <td>1.592257</td>\n",
       "    </tr>\n",
       "  </tbody>\n",
       "</table>\n",
       "<p>34012 rows × 12 columns</p>\n",
       "</div>"
      ],
      "text/plain": [
       "         exp  mini_exp   i   j   k        mean0        mean1        mean2  \\\n",
       "931880    36         6   7  32  40  -183.593781  -184.268631  -199.538742   \n",
       "931881    36         6   7  32  41  -383.761566  -383.066467  -395.916077   \n",
       "931882    36         6   7  32  42  -779.052185  -785.270813  -803.943787   \n",
       "931883    36         6   7  32  43 -1017.557312 -1026.294189 -1037.133667   \n",
       "931919    36         6   7  33  15 -1508.948120 -1513.032471 -1527.041992   \n",
       "...      ...       ...  ..  ..  ..          ...          ...          ...   \n",
       "1050968   36         6  36  37  24   -27.330389   -28.598026   -46.617607   \n",
       "1050979   36         6  36  37  35   171.250366   175.768433   151.715485   \n",
       "1050982   36         6  36  37  38   -96.352455   -94.962585  -115.256683   \n",
       "1050983   36         6  36  37  39  -235.110947  -235.878754  -253.580444   \n",
       "1051039   36         6  36  38  31   598.718323   657.307373   578.832947   \n",
       "\n",
       "               mean3        mean4     theory   predict  \n",
       "931880   -215.528793  -215.355865   4.988159  1.592257  \n",
       "931881   -417.522858  -420.110077   4.591202  1.592257  \n",
       "931882   -811.441101  -799.951233   4.237324  1.592257  \n",
       "931883  -1050.012451 -1046.674072   3.918999  1.592257  \n",
       "931919  -1536.478027 -1540.133301   3.371496  1.592257  \n",
       "...              ...          ...        ...       ...  \n",
       "1050968   -59.281792   -58.657875   7.175758  1.592257  \n",
       "1050979   130.792816   139.797287   8.527348  1.592257  \n",
       "1050982  -131.555984  -127.650993   6.039019  1.592257  \n",
       "1050983  -268.104340  -266.388824   5.501382  1.592257  \n",
       "1051039   494.954071   569.023071  33.141899  1.592257  \n",
       "\n",
       "[34012 rows x 12 columns]"
      ]
     },
     "execution_count": 94,
     "metadata": {},
     "output_type": "execute_result"
    }
   ],
   "source": [
    "df4_pred"
   ]
  },
  {
   "cell_type": "code",
   "execution_count": 95,
   "metadata": {},
   "outputs": [
    {
     "data": {
      "text/html": [
       "<div>\n",
       "<style scoped>\n",
       "    .dataframe tbody tr th:only-of-type {\n",
       "        vertical-align: middle;\n",
       "    }\n",
       "\n",
       "    .dataframe tbody tr th {\n",
       "        vertical-align: top;\n",
       "    }\n",
       "\n",
       "    .dataframe thead th {\n",
       "        text-align: right;\n",
       "    }\n",
       "</style>\n",
       "<table border=\"1\" class=\"dataframe\">\n",
       "  <thead>\n",
       "    <tr style=\"text-align: right;\">\n",
       "      <th></th>\n",
       "      <th>exp</th>\n",
       "      <th>mini_exp</th>\n",
       "      <th>i</th>\n",
       "      <th>j</th>\n",
       "      <th>k</th>\n",
       "      <th>mean0</th>\n",
       "      <th>mean1</th>\n",
       "      <th>mean2</th>\n",
       "      <th>mean3</th>\n",
       "      <th>mean4</th>\n",
       "      <th>theory</th>\n",
       "      <th>predict</th>\n",
       "    </tr>\n",
       "  </thead>\n",
       "  <tbody>\n",
       "    <tr>\n",
       "      <th>901120</th>\n",
       "      <td>36</td>\n",
       "      <td>6</td>\n",
       "      <td>0</td>\n",
       "      <td>0</td>\n",
       "      <td>0</td>\n",
       "      <td>0.0</td>\n",
       "      <td>0.0</td>\n",
       "      <td>0.0</td>\n",
       "      <td>0.0</td>\n",
       "      <td>0.0</td>\n",
       "      <td>0.0</td>\n",
       "      <td>0.0</td>\n",
       "    </tr>\n",
       "    <tr>\n",
       "      <th>901121</th>\n",
       "      <td>36</td>\n",
       "      <td>6</td>\n",
       "      <td>0</td>\n",
       "      <td>0</td>\n",
       "      <td>1</td>\n",
       "      <td>0.0</td>\n",
       "      <td>0.0</td>\n",
       "      <td>0.0</td>\n",
       "      <td>0.0</td>\n",
       "      <td>0.0</td>\n",
       "      <td>0.0</td>\n",
       "      <td>0.0</td>\n",
       "    </tr>\n",
       "    <tr>\n",
       "      <th>901122</th>\n",
       "      <td>36</td>\n",
       "      <td>6</td>\n",
       "      <td>0</td>\n",
       "      <td>0</td>\n",
       "      <td>2</td>\n",
       "      <td>0.0</td>\n",
       "      <td>0.0</td>\n",
       "      <td>0.0</td>\n",
       "      <td>0.0</td>\n",
       "      <td>0.0</td>\n",
       "      <td>0.0</td>\n",
       "      <td>0.0</td>\n",
       "    </tr>\n",
       "    <tr>\n",
       "      <th>901123</th>\n",
       "      <td>36</td>\n",
       "      <td>6</td>\n",
       "      <td>0</td>\n",
       "      <td>0</td>\n",
       "      <td>3</td>\n",
       "      <td>0.0</td>\n",
       "      <td>0.0</td>\n",
       "      <td>0.0</td>\n",
       "      <td>0.0</td>\n",
       "      <td>0.0</td>\n",
       "      <td>0.0</td>\n",
       "      <td>0.0</td>\n",
       "    </tr>\n",
       "    <tr>\n",
       "      <th>901124</th>\n",
       "      <td>36</td>\n",
       "      <td>6</td>\n",
       "      <td>0</td>\n",
       "      <td>0</td>\n",
       "      <td>4</td>\n",
       "      <td>0.0</td>\n",
       "      <td>0.0</td>\n",
       "      <td>0.0</td>\n",
       "      <td>0.0</td>\n",
       "      <td>0.0</td>\n",
       "      <td>0.0</td>\n",
       "      <td>0.0</td>\n",
       "    </tr>\n",
       "    <tr>\n",
       "      <th>...</th>\n",
       "      <td>...</td>\n",
       "      <td>...</td>\n",
       "      <td>...</td>\n",
       "      <td>...</td>\n",
       "      <td>...</td>\n",
       "      <td>...</td>\n",
       "      <td>...</td>\n",
       "      <td>...</td>\n",
       "      <td>...</td>\n",
       "      <td>...</td>\n",
       "      <td>...</td>\n",
       "      <td>...</td>\n",
       "    </tr>\n",
       "    <tr>\n",
       "      <th>1081339</th>\n",
       "      <td>36</td>\n",
       "      <td>6</td>\n",
       "      <td>43</td>\n",
       "      <td>63</td>\n",
       "      <td>59</td>\n",
       "      <td>0.0</td>\n",
       "      <td>0.0</td>\n",
       "      <td>0.0</td>\n",
       "      <td>0.0</td>\n",
       "      <td>0.0</td>\n",
       "      <td>0.0</td>\n",
       "      <td>0.0</td>\n",
       "    </tr>\n",
       "    <tr>\n",
       "      <th>1081340</th>\n",
       "      <td>36</td>\n",
       "      <td>6</td>\n",
       "      <td>43</td>\n",
       "      <td>63</td>\n",
       "      <td>60</td>\n",
       "      <td>0.0</td>\n",
       "      <td>0.0</td>\n",
       "      <td>0.0</td>\n",
       "      <td>0.0</td>\n",
       "      <td>0.0</td>\n",
       "      <td>0.0</td>\n",
       "      <td>0.0</td>\n",
       "    </tr>\n",
       "    <tr>\n",
       "      <th>1081341</th>\n",
       "      <td>36</td>\n",
       "      <td>6</td>\n",
       "      <td>43</td>\n",
       "      <td>63</td>\n",
       "      <td>61</td>\n",
       "      <td>0.0</td>\n",
       "      <td>0.0</td>\n",
       "      <td>0.0</td>\n",
       "      <td>0.0</td>\n",
       "      <td>0.0</td>\n",
       "      <td>0.0</td>\n",
       "      <td>0.0</td>\n",
       "    </tr>\n",
       "    <tr>\n",
       "      <th>1081342</th>\n",
       "      <td>36</td>\n",
       "      <td>6</td>\n",
       "      <td>43</td>\n",
       "      <td>63</td>\n",
       "      <td>62</td>\n",
       "      <td>0.0</td>\n",
       "      <td>0.0</td>\n",
       "      <td>0.0</td>\n",
       "      <td>0.0</td>\n",
       "      <td>0.0</td>\n",
       "      <td>0.0</td>\n",
       "      <td>0.0</td>\n",
       "    </tr>\n",
       "    <tr>\n",
       "      <th>1081343</th>\n",
       "      <td>36</td>\n",
       "      <td>6</td>\n",
       "      <td>43</td>\n",
       "      <td>63</td>\n",
       "      <td>63</td>\n",
       "      <td>0.0</td>\n",
       "      <td>0.0</td>\n",
       "      <td>0.0</td>\n",
       "      <td>0.0</td>\n",
       "      <td>0.0</td>\n",
       "      <td>0.0</td>\n",
       "      <td>0.0</td>\n",
       "    </tr>\n",
       "  </tbody>\n",
       "</table>\n",
       "<p>180224 rows × 12 columns</p>\n",
       "</div>"
      ],
      "text/plain": [
       "         exp  mini_exp   i   j   k  mean0  mean1  mean2  mean3  mean4  theory  \\\n",
       "901120    36         6   0   0   0    0.0    0.0    0.0    0.0    0.0     0.0   \n",
       "901121    36         6   0   0   1    0.0    0.0    0.0    0.0    0.0     0.0   \n",
       "901122    36         6   0   0   2    0.0    0.0    0.0    0.0    0.0     0.0   \n",
       "901123    36         6   0   0   3    0.0    0.0    0.0    0.0    0.0     0.0   \n",
       "901124    36         6   0   0   4    0.0    0.0    0.0    0.0    0.0     0.0   \n",
       "...      ...       ...  ..  ..  ..    ...    ...    ...    ...    ...     ...   \n",
       "1081339   36         6  43  63  59    0.0    0.0    0.0    0.0    0.0     0.0   \n",
       "1081340   36         6  43  63  60    0.0    0.0    0.0    0.0    0.0     0.0   \n",
       "1081341   36         6  43  63  61    0.0    0.0    0.0    0.0    0.0     0.0   \n",
       "1081342   36         6  43  63  62    0.0    0.0    0.0    0.0    0.0     0.0   \n",
       "1081343   36         6  43  63  63    0.0    0.0    0.0    0.0    0.0     0.0   \n",
       "\n",
       "         predict  \n",
       "901120       0.0  \n",
       "901121       0.0  \n",
       "901122       0.0  \n",
       "901123       0.0  \n",
       "901124       0.0  \n",
       "...          ...  \n",
       "1081339      0.0  \n",
       "1081340      0.0  \n",
       "1081341      0.0  \n",
       "1081342      0.0  \n",
       "1081343      0.0  \n",
       "\n",
       "[180224 rows x 12 columns]"
      ]
     },
     "execution_count": 95,
     "metadata": {},
     "output_type": "execute_result"
    }
   ],
   "source": [
    "df_test"
   ]
  },
  {
   "cell_type": "code",
   "execution_count": 96,
   "metadata": {},
   "outputs": [
    {
     "name": "stderr",
     "output_type": "stream",
     "text": [
      "/var/folders/yd/vkjb_lqj2_30lnyhzhjqtg9w0000gp/T/ipykernel_59995/3257651465.py:1: SettingWithCopyWarning: \n",
      "A value is trying to be set on a copy of a slice from a DataFrame.\n",
      "Try using .loc[row_indexer,col_indexer] = value instead\n",
      "\n",
      "See the caveats in the documentation: https://pandas.pydata.org/pandas-docs/stable/user_guide/indexing.html#returning-a-view-versus-a-copy\n",
      "  df_test['predict'] = 0.00\n"
     ]
    }
   ],
   "source": [
    "df_test['predict'] = 0.00"
   ]
  },
  {
   "cell_type": "code",
   "execution_count": 97,
   "metadata": {},
   "outputs": [],
   "source": [
    "df_out = df_test[['i', 'j', 'k', 'predict']]\n",
    "df_pre = df4_pred[['i', 'j', 'k', 'predict']]"
   ]
  },
  {
   "cell_type": "code",
   "execution_count": 98,
   "metadata": {},
   "outputs": [
    {
     "name": "stdout",
     "output_type": "stream",
     "text": [
      "<class 'pandas.core.frame.DataFrame'>\n",
      "Int64Index: 180224 entries, 901120 to 1081343\n",
      "Data columns (total 4 columns):\n",
      " #   Column   Non-Null Count   Dtype  \n",
      "---  ------   --------------   -----  \n",
      " 0   i        180224 non-null  int64  \n",
      " 1   j        180224 non-null  int64  \n",
      " 2   k        180224 non-null  int64  \n",
      " 3   predict  180224 non-null  float64\n",
      "dtypes: float64(1), int64(3)\n",
      "memory usage: 10.9 MB\n"
     ]
    }
   ],
   "source": [
    "df_out.info()"
   ]
  },
  {
   "cell_type": "code",
   "execution_count": null,
   "metadata": {},
   "outputs": [],
   "source": [
    "for x in range(len(df_pre)):\n",
    "    i = df_pre.iloc[x, :]['i'].astype(int)\n",
    "    j = df_pre.iloc[x, :]['j'].astype(int)\n",
    "    k = df_pre.iloc[x, :]['k'].astype(int)\n",
    "    pred = df_pre.iloc[x, :]['predict']\n",
    "    idx = df_out[(df_out['i']==i) & (df_out['j']==j) & (df_out['k']==k)].index\n",
    "    df_out.loc[idx, 'predict']= pred"
   ]
  },
  {
   "cell_type": "code",
   "execution_count": null,
   "metadata": {},
   "outputs": [],
   "source": [
    "df_pre"
   ]
  },
  {
   "cell_type": "code",
   "execution_count": null,
   "metadata": {},
   "outputs": [],
   "source": [
    "df_out[(df_out['i']==7) & (df_out['j']==32) & (df_out['k']==40)]"
   ]
  },
  {
   "cell_type": "code",
   "execution_count": null,
   "metadata": {},
   "outputs": [],
   "source": [
    "df_out"
   ]
  },
  {
   "cell_type": "code",
   "execution_count": null,
   "metadata": {},
   "outputs": [],
   "source": [
    "np.savetxt(img_path+\"nn_nonzero_32to38.txt\", df_out[['i', 'j', 'k', 'predict']], fmt=\"%i %i %i %s\")"
   ]
  },
  {
   "cell_type": "code",
   "execution_count": null,
   "metadata": {},
   "outputs": [],
   "source": []
  },
  {
   "cell_type": "markdown",
   "metadata": {},
   "source": [
    "# Play Ground"
   ]
  },
  {
   "cell_type": "markdown",
   "metadata": {},
   "source": [
    "# Compare each dataset"
   ]
  },
  {
   "cell_type": "markdown",
   "metadata": {},
   "source": [
    "## Data1: fmap means all experiments"
   ]
  },
  {
   "cell_type": "code",
   "execution_count": 176,
   "metadata": {},
   "outputs": [],
   "source": [
    "X_train = X1_train\n",
    "y_train = y1_train\n",
    "X_test = X1_test\n",
    "y_test = y1_test"
   ]
  },
  {
   "cell_type": "code",
   "execution_count": 177,
   "metadata": {},
   "outputs": [],
   "source": [
    "model = keras.Sequential()\n",
    "model.add(Dense(10, activation='relu', input_shape=[len(X_train[0])]))\n",
    "model.add(Dense(10, activation='relu'))\n",
    "model.add(Dense(10, activation='relu'))\n",
    "model.add(Dense(1))\n",
    "#\n",
    "model.compile(optimizer= 'adam', loss='mse', metrics=['accuracy'])\n",
    "history = model.fit(X_train, y_train, epochs=20, verbose=0, validation_data=[X_test, y_test])"
   ]
  },
  {
   "cell_type": "code",
   "execution_count": 178,
   "metadata": {},
   "outputs": [
    {
     "name": "stdout",
     "output_type": "stream",
     "text": [
      "70964/70964 [==============================] - 54s 761us/step\n",
      "30.170082550978588\n",
      "30413/30413 [==============================] - 25s 830us/step\n",
      "37.97403427399727\n"
     ]
    }
   ],
   "source": [
    "train_pred = model.predict(X_train)\n",
    "print(mse(train_pred, y_train))\n",
    "test_pred = model.predict(X_test)\n",
    "print(mse(test_pred, y_test))"
   ]
  },
  {
   "cell_type": "code",
   "execution_count": 179,
   "metadata": {},
   "outputs": [
    {
     "data": {
      "text/plain": [
       "0.5055974148648721"
      ]
     },
     "execution_count": 179,
     "metadata": {},
     "output_type": "execute_result"
    }
   ],
   "source": [
    "r2_score(y_test, test_pred)"
   ]
  },
  {
   "cell_type": "code",
   "execution_count": 180,
   "metadata": {},
   "outputs": [
    {
     "name": "stdout",
     "output_type": "stream",
     "text": [
      "30413/30413 [==============================] - 25s 811us/step - loss: 37.9739 - accuracy: 0.8084\n"
     ]
    },
    {
     "data": {
      "text/plain": [
       "[37.97385787963867, 0.8083938956260681]"
      ]
     },
     "execution_count": 180,
     "metadata": {},
     "output_type": "execute_result"
    }
   ],
   "source": [
    "model.evaluate(X_test, y_test)"
   ]
  },
  {
   "cell_type": "code",
   "execution_count": 181,
   "metadata": {},
   "outputs": [
    {
     "name": "stdout",
     "output_type": "stream",
     "text": [
      "Model: \"sequential_11\"\n",
      "_________________________________________________________________\n",
      " Layer (type)                Output Shape              Param #   \n",
      "=================================================================\n",
      " dense_36 (Dense)            (None, 10)                60        \n",
      "                                                                 \n",
      " dense_37 (Dense)            (None, 10)                110       \n",
      "                                                                 \n",
      " dense_38 (Dense)            (None, 10)                110       \n",
      "                                                                 \n",
      " dense_39 (Dense)            (None, 1)                 11        \n",
      "                                                                 \n",
      "=================================================================\n",
      "Total params: 291\n",
      "Trainable params: 291\n",
      "Non-trainable params: 0\n",
      "_________________________________________________________________\n"
     ]
    }
   ],
   "source": [
    "model.summary()"
   ]
  },
  {
   "cell_type": "code",
   "execution_count": null,
   "metadata": {},
   "outputs": [],
   "source": []
  },
  {
   "cell_type": "markdown",
   "metadata": {},
   "source": [
    "## Data2: One experiment"
   ]
  },
  {
   "cell_type": "code",
   "execution_count": 182,
   "metadata": {},
   "outputs": [],
   "source": [
    "X_train = X2_train\n",
    "y_train = y2_train\n",
    "X_test = X2_test\n",
    "y_test = y2_test"
   ]
  },
  {
   "cell_type": "code",
   "execution_count": 183,
   "metadata": {},
   "outputs": [],
   "source": [
    "model2 = keras.Sequential()\n",
    "model2.add(Dense(10, activation='relu', input_shape=[len(X_train[0])]))\n",
    "model2.add(Dense(10, activation='relu'))\n",
    "model2.add(Dense(10, activation='relu'))\n",
    "model2.add(Dense(1))\n",
    "\n",
    "#\n",
    "model2.compile(optimizer= 'adam', loss='mse', metrics=['accuracy'])\n",
    "history2 = model2.fit(X_train, y_train, epochs=20, verbose=0, validation_data=[X_test, y_test])\n"
   ]
  },
  {
   "cell_type": "code",
   "execution_count": 184,
   "metadata": {},
   "outputs": [
    {
     "name": "stdout",
     "output_type": "stream",
     "text": [
      "28160/28160 [==============================] - 21s 737us/step\n",
      "10.787611349421352\n",
      "5632/5632 [==============================] - 4s 720us/step\n",
      "11.598423677038422\n"
     ]
    }
   ],
   "source": [
    "train_pred2 = model2.predict(X_train)\n",
    "print(mse(train_pred2, y_train))\n",
    "test_pred2 = model2.predict(X_test)\n",
    "print(mse(test_pred2, y_test))"
   ]
  },
  {
   "cell_type": "code",
   "execution_count": 185,
   "metadata": {},
   "outputs": [
    {
     "data": {
      "text/plain": [
       "0.7879580102236565"
      ]
     },
     "execution_count": 185,
     "metadata": {},
     "output_type": "execute_result"
    }
   ],
   "source": [
    "r2_score(y_test, test_pred2)"
   ]
  },
  {
   "cell_type": "code",
   "execution_count": 186,
   "metadata": {},
   "outputs": [
    {
     "name": "stdout",
     "output_type": "stream",
     "text": [
      "5632/5632 [==============================] - 5s 872us/step - loss: 11.5982 - accuracy: 0.8112\n"
     ]
    },
    {
     "data": {
      "text/plain": [
       "[11.598172187805176, 0.8112071752548218]"
      ]
     },
     "execution_count": 186,
     "metadata": {},
     "output_type": "execute_result"
    }
   ],
   "source": [
    "model2.evaluate(X_test, y_test)"
   ]
  },
  {
   "cell_type": "code",
   "execution_count": 187,
   "metadata": {},
   "outputs": [
    {
     "name": "stdout",
     "output_type": "stream",
     "text": [
      "Model: \"sequential_12\"\n",
      "_________________________________________________________________\n",
      " Layer (type)                Output Shape              Param #   \n",
      "=================================================================\n",
      " dense_40 (Dense)            (None, 10)                60        \n",
      "                                                                 \n",
      " dense_41 (Dense)            (None, 10)                110       \n",
      "                                                                 \n",
      " dense_42 (Dense)            (None, 10)                110       \n",
      "                                                                 \n",
      " dense_43 (Dense)            (None, 1)                 11        \n",
      "                                                                 \n",
      "=================================================================\n",
      "Total params: 291\n",
      "Trainable params: 291\n",
      "Non-trainable params: 0\n",
      "_________________________________________________________________\n"
     ]
    }
   ],
   "source": [
    "model2.summary()"
   ]
  },
  {
   "cell_type": "markdown",
   "metadata": {},
   "source": [
    "## Data3: 55 fmap means"
   ]
  },
  {
   "cell_type": "code",
   "execution_count": 188,
   "metadata": {},
   "outputs": [],
   "source": [
    "X_train = X3_train\n",
    "y_train = y3_train\n",
    "X_test = X3_test\n",
    "y_test = y3_test"
   ]
  },
  {
   "cell_type": "code",
   "execution_count": 189,
   "metadata": {},
   "outputs": [],
   "source": [
    "model3 = keras.Sequential()\n",
    "model3.add(Dense(10, activation='relu', input_shape=[len(X_train[0])]))\n",
    "model3.add(Dense(10, activation='relu'))\n",
    "model3.add(Dense(10, activation='relu'))\n",
    "model3.add(Dense(1))\n",
    "#\n",
    "model3.compile(optimizer= 'adam', loss='mse', metrics=['accuracy'])\n",
    "history3 = model3.fit(X_train, y_train, epochs=20, verbose=0, validation_data=[X_test, y_test])\n"
   ]
  },
  {
   "cell_type": "code",
   "execution_count": 190,
   "metadata": {},
   "outputs": [
    {
     "name": "stdout",
     "output_type": "stream",
     "text": [
      "70964/70964 [==============================] - 49s 691us/step\n",
      "25.653226663055843\n",
      "30413/30413 [==============================] - 21s 679us/step\n",
      "33.91757302155358\n"
     ]
    }
   ],
   "source": [
    "train_pred3 = model3.predict(X_train)\n",
    "print(mse(train_pred3, y_train))\n",
    "test_pred3 = model3.predict(X_test)\n",
    "print(mse(test_pred3, y_test))"
   ]
  },
  {
   "cell_type": "code",
   "execution_count": 191,
   "metadata": {},
   "outputs": [
    {
     "data": {
      "text/plain": [
       "0.5584104743159171"
      ]
     },
     "execution_count": 191,
     "metadata": {},
     "output_type": "execute_result"
    }
   ],
   "source": [
    "r2_score(y_test, test_pred3)"
   ]
  },
  {
   "cell_type": "code",
   "execution_count": 192,
   "metadata": {},
   "outputs": [
    {
     "name": "stdout",
     "output_type": "stream",
     "text": [
      "30413/30413 [==============================] - 25s 809us/step - loss: 33.9176 - accuracy: 0.8084\n"
     ]
    },
    {
     "data": {
      "text/plain": [
       "[33.9175910949707, 0.8083938956260681]"
      ]
     },
     "execution_count": 192,
     "metadata": {},
     "output_type": "execute_result"
    }
   ],
   "source": [
    "model3.evaluate(X_test, y_test)"
   ]
  },
  {
   "cell_type": "code",
   "execution_count": 193,
   "metadata": {},
   "outputs": [
    {
     "name": "stdout",
     "output_type": "stream",
     "text": [
      "Model: \"sequential_13\"\n",
      "_________________________________________________________________\n",
      " Layer (type)                Output Shape              Param #   \n",
      "=================================================================\n",
      " dense_44 (Dense)            (None, 10)                560       \n",
      "                                                                 \n",
      " dense_45 (Dense)            (None, 10)                110       \n",
      "                                                                 \n",
      " dense_46 (Dense)            (None, 10)                110       \n",
      "                                                                 \n",
      " dense_47 (Dense)            (None, 1)                 11        \n",
      "                                                                 \n",
      "=================================================================\n",
      "Total params: 791\n",
      "Trainable params: 791\n",
      "Non-trainable params: 0\n",
      "_________________________________________________________________\n"
     ]
    }
   ],
   "source": [
    "model3.summary()"
   ]
  },
  {
   "cell_type": "code",
   "execution_count": null,
   "metadata": {},
   "outputs": [],
   "source": []
  },
  {
   "cell_type": "markdown",
   "metadata": {},
   "source": [
    "## Data4: None zero"
   ]
  },
  {
   "cell_type": "code",
   "execution_count": 39,
   "metadata": {},
   "outputs": [],
   "source": [
    "X_train = X4_train\n",
    "y_train = y4_train\n",
    "X_test = X4_test\n",
    "y_test = y4_test"
   ]
  },
  {
   "cell_type": "code",
   "execution_count": 28,
   "metadata": {},
   "outputs": [
    {
     "name": "stderr",
     "output_type": "stream",
     "text": [
      "2022-10-26 12:02:18.273343: I tensorflow/core/platform/cpu_feature_guard.cc:193] This TensorFlow binary is optimized with oneAPI Deep Neural Network Library (oneDNN) to use the following CPU instructions in performance-critical operations:  SSE4.1 SSE4.2 AVX AVX2 FMA\n",
      "To enable them in other operations, rebuild TensorFlow with the appropriate compiler flags.\n"
     ]
    },
    {
     "name": "stdout",
     "output_type": "stream",
     "text": [
      "Epoch 1/20\n",
      "13623/13623 [==============================] - 17s 1ms/step - loss: 775.6888 - accuracy: 5.0696e-04 - val_loss: 280.3866 - val_accuracy: 9.8486e-04\n",
      "Epoch 2/20\n",
      "13623/13623 [==============================] - 16s 1ms/step - loss: 254.4488 - accuracy: 5.9642e-04 - val_loss: 239.9096 - val_accuracy: 4.8173e-05\n",
      "Epoch 3/20\n",
      "13623/13623 [==============================] - 16s 1ms/step - loss: 244.3139 - accuracy: 6.0331e-04 - val_loss: 426.1392 - val_accuracy: 0.0011\n",
      "Epoch 4/20\n",
      "13623/13623 [==============================] - 16s 1ms/step - loss: 234.7317 - accuracy: 6.1707e-04 - val_loss: 236.3913 - val_accuracy: 8.9922e-04\n",
      "Epoch 5/20\n",
      "13623/13623 [==============================] - 17s 1ms/step - loss: 226.6837 - accuracy: 6.7212e-04 - val_loss: 226.9637 - val_accuracy: 9.2063e-04\n",
      "Epoch 6/20\n",
      "13623/13623 [==============================] - 16s 1ms/step - loss: 217.3771 - accuracy: 6.9047e-04 - val_loss: 230.2182 - val_accuracy: 1.0705e-04\n",
      "Epoch 7/20\n",
      "13623/13623 [==============================] - 17s 1ms/step - loss: 211.0164 - accuracy: 7.2030e-04 - val_loss: 213.0870 - val_accuracy: 9.5275e-04\n",
      "Epoch 8/20\n",
      "13623/13623 [==============================] - 15s 1ms/step - loss: 206.1197 - accuracy: 7.0194e-04 - val_loss: 205.3757 - val_accuracy: 9.2063e-04\n",
      "Epoch 9/20\n",
      "13623/13623 [==============================] - 16s 1ms/step - loss: 198.6213 - accuracy: 6.8130e-04 - val_loss: 203.7043 - val_accuracy: 9.7951e-04\n",
      "Epoch 10/20\n",
      "13623/13623 [==============================] - 15s 1ms/step - loss: 194.8506 - accuracy: 6.1248e-04 - val_loss: 199.4664 - val_accuracy: 6.9583e-05\n",
      "Epoch 11/20\n",
      "13623/13623 [==============================] - 15s 1ms/step - loss: 192.2697 - accuracy: 5.2072e-04 - val_loss: 200.3087 - val_accuracy: 1.0705e-04\n",
      "Epoch 12/20\n",
      "13623/13623 [==============================] - 16s 1ms/step - loss: 189.6575 - accuracy: 4.7255e-04 - val_loss: 196.2072 - val_accuracy: 8.8317e-04\n",
      "Epoch 13/20\n",
      "13623/13623 [==============================] - 17s 1ms/step - loss: 189.1273 - accuracy: 4.1750e-04 - val_loss: 188.1224 - val_accuracy: 5.8878e-05\n",
      "Epoch 14/20\n",
      "13623/13623 [==============================] - 27s 2ms/step - loss: 187.1798 - accuracy: 4.1291e-04 - val_loss: 213.4365 - val_accuracy: 9.4204e-04\n",
      "Epoch 15/20\n",
      "13623/13623 [==============================] - 19s 1ms/step - loss: 187.6508 - accuracy: 4.4732e-04 - val_loss: 194.6705 - val_accuracy: 8.0288e-05\n",
      "Epoch 16/20\n",
      "13623/13623 [==============================] - 16s 1ms/step - loss: 186.6290 - accuracy: 4.8861e-04 - val_loss: 190.8824 - val_accuracy: 8.0288e-05\n",
      "Epoch 17/20\n",
      "13623/13623 [==============================] - 17s 1ms/step - loss: 186.1162 - accuracy: 4.3585e-04 - val_loss: 187.6642 - val_accuracy: 7.4935e-05\n",
      "Epoch 18/20\n",
      "13623/13623 [==============================] - 16s 1ms/step - loss: 185.3157 - accuracy: 4.7714e-04 - val_loss: 197.1844 - val_accuracy: 9.2063e-04\n",
      "Epoch 19/20\n",
      "13623/13623 [==============================] - 16s 1ms/step - loss: 184.9305 - accuracy: 4.4732e-04 - val_loss: 190.0299 - val_accuracy: 4.8173e-05\n",
      "Epoch 20/20\n",
      "13623/13623 [==============================] - 16s 1ms/step - loss: 184.6431 - accuracy: 4.4732e-04 - val_loss: 199.7217 - val_accuracy: 9.0458e-04\n"
     ]
    }
   ],
   "source": [
    "model4 = keras.Sequential()\n",
    "model4.add(Dense(20, activation='relu', input_shape=[len(X_train[0])]))\n",
    "model4.add(Dense(1))\n",
    "#\n",
    "model4.compile(optimizer= 'adam', loss='mse', metrics=['accuracy'])\n",
    "history4 = model4.fit(X_train, y_train, epochs=20, validation_data=[X_test, y_test])\n"
   ]
  },
  {
   "cell_type": "code",
   "execution_count": 29,
   "metadata": {},
   "outputs": [
    {
     "name": "stdout",
     "output_type": "stream",
     "text": [
      "13623/13623 [==============================] - 10s 700us/step\n",
      "184.91616526100555\n",
      "5839/5839 [==============================] - 4s 672us/step\n",
      "199.72171091691504\n"
     ]
    }
   ],
   "source": [
    "train_pred4 = model4.predict(X_train)\n",
    "print(mse(train_pred4, y_train))\n",
    "test_pred4 = model4.predict(X_test)\n",
    "print(mse(test_pred4, y_test))"
   ]
  },
  {
   "cell_type": "code",
   "execution_count": 30,
   "metadata": {},
   "outputs": [
    {
     "name": "stdout",
     "output_type": "stream",
     "text": [
      "5839/5839 [==============================] - 5s 777us/step - loss: 199.7217 - accuracy: 9.0458e-04\n"
     ]
    },
    {
     "data": {
      "text/plain": [
       "[199.72171020507812, 0.0009045753395184875]"
      ]
     },
     "execution_count": 30,
     "metadata": {},
     "output_type": "execute_result"
    }
   ],
   "source": [
    "model4.evaluate(X_test, y_test)"
   ]
  },
  {
   "cell_type": "code",
   "execution_count": 31,
   "metadata": {},
   "outputs": [
    {
     "name": "stdout",
     "output_type": "stream",
     "text": [
      "Model: \"sequential\"\n",
      "_________________________________________________________________\n",
      " Layer (type)                Output Shape              Param #   \n",
      "=================================================================\n",
      " dense (Dense)               (None, 20)                120       \n",
      "                                                                 \n",
      " dense_1 (Dense)             (None, 1)                 21        \n",
      "                                                                 \n",
      "=================================================================\n",
      "Total params: 141\n",
      "Trainable params: 141\n",
      "Non-trainable params: 0\n",
      "_________________________________________________________________\n"
     ]
    }
   ],
   "source": [
    "model4.summary()"
   ]
  },
  {
   "cell_type": "code",
   "execution_count": 32,
   "metadata": {},
   "outputs": [
    {
     "data": {
      "text/plain": [
       "{'loss': [775.6888427734375,\n",
       "  254.44879150390625,\n",
       "  244.31385803222656,\n",
       "  234.73170471191406,\n",
       "  226.68370056152344,\n",
       "  217.37705993652344,\n",
       "  211.0164031982422,\n",
       "  206.1196746826172,\n",
       "  198.62127685546875,\n",
       "  194.85061645507812,\n",
       "  192.2696990966797,\n",
       "  189.657470703125,\n",
       "  189.12733459472656,\n",
       "  187.17984008789062,\n",
       "  187.6508331298828,\n",
       "  186.62896728515625,\n",
       "  186.11622619628906,\n",
       "  185.31565856933594,\n",
       "  184.93045043945312,\n",
       "  184.64312744140625],\n",
       " 'accuracy': [0.0005069597973488271,\n",
       "  0.00059642328415066,\n",
       "  0.0006033051176927984,\n",
       "  0.0006170687265694141,\n",
       "  0.0006721231620758772,\n",
       "  0.0006904746405780315,\n",
       "  0.0007202958222478628,\n",
       "  0.0007019443437457085,\n",
       "  0.0006812989013269544,\n",
       "  0.0006124808569438756,\n",
       "  0.0005207234062254429,\n",
       "  0.0004725507751572877,\n",
       "  0.0004174963105469942,\n",
       "  0.0004129084409214556,\n",
       "  0.00044731746311299503,\n",
       "  0.0004886083188466728,\n",
       "  0.00043584778904914856,\n",
       "  0.0004771386447828263,\n",
       "  0.00044731746311299503,\n",
       "  0.00044731746311299503],\n",
       " 'val_loss': [280.3866271972656,\n",
       "  239.90960693359375,\n",
       "  426.13916015625,\n",
       "  236.39132690429688,\n",
       "  226.96371459960938,\n",
       "  230.2181854248047,\n",
       "  213.08697509765625,\n",
       "  205.375732421875,\n",
       "  203.7042694091797,\n",
       "  199.46640014648438,\n",
       "  200.30868530273438,\n",
       "  196.2071990966797,\n",
       "  188.12242126464844,\n",
       "  213.4365234375,\n",
       "  194.6704559326172,\n",
       "  190.88241577148438,\n",
       "  187.6642303466797,\n",
       "  197.18443298339844,\n",
       "  190.0298614501953,\n",
       "  199.72171020507812],\n",
       " 'val_accuracy': [0.0009848630288615823,\n",
       "  4.8172649258049205e-05,\n",
       "  0.0011079709511250257,\n",
       "  0.0008992227958515286,\n",
       "  0.000920632854104042,\n",
       "  0.00010705033491831273,\n",
       "  0.0009527479996904731,\n",
       "  0.000920632854104042,\n",
       "  0.0009795106016099453,\n",
       "  6.958271842449903e-05,\n",
       "  0.00010705033491831273,\n",
       "  0.000883165281265974,\n",
       "  5.8877685660263523e-05,\n",
       "  0.0009420429705642164,\n",
       "  8.028775482671335e-05,\n",
       "  8.028775482671335e-05,\n",
       "  7.493523298762739e-05,\n",
       "  0.000920632854104042,\n",
       "  4.8172649258049205e-05,\n",
       "  0.0009045753395184875]}"
      ]
     },
     "execution_count": 32,
     "metadata": {},
     "output_type": "execute_result"
    }
   ],
   "source": [
    "history4.history"
   ]
  },
  {
   "cell_type": "markdown",
   "metadata": {},
   "source": [
    "## Plot"
   ]
  },
  {
   "cell_type": "markdown",
   "metadata": {},
   "source": [
    "### Loss function (MSE)"
   ]
  },
  {
   "cell_type": "code",
   "execution_count": 33,
   "metadata": {
    "scrolled": false
   },
   "outputs": [
    {
     "data": {
      "image/png": "[encoded data removed]",
      "text/plain": [
       "<Figure size 640x480 with 1 Axes>"
      ]
     },
     "metadata": {},
     "output_type": "display_data"
    }
   ],
   "source": [
    "model_df = pd.DataFrame(history4.history)\n",
    "model_df[['loss', 'val_loss']].plot()\n",
    "plt.xlabel(\"Number of Epochs\")\n",
    "plt.ylabel(\"Loss\")\n",
    "plt.title(\"Training and Validation Loss Over Training Period\", pad=12);"
   ]
  },
  {
   "cell_type": "markdown",
   "metadata": {},
   "source": [
    "### Accuracy"
   ]
  },
  {
   "cell_type": "code",
   "execution_count": 34,
   "metadata": {},
   "outputs": [
    {
     "data": {
      "image/png": "[encoded data removed]",
      "text/plain": [
       "<Figure size 640x480 with 1 Axes>"
      ]
     },
     "metadata": {},
     "output_type": "display_data"
    }
   ],
   "source": [
    "model_df[['accuracy', 'val_accuracy']].plot()\n",
    "plt.xlabel(\"Number of Epochs\")\n",
    "plt.ylabel(\"Accuracy\")\n",
    "plt.title(\"Training and Validation Accuray Over Training Period\", pad=12);"
   ]
  },
  {
   "cell_type": "markdown",
   "metadata": {},
   "source": [
    "### Theory vs Predict"
   ]
  },
  {
   "cell_type": "code",
   "execution_count": 42,
   "metadata": {
    "scrolled": true
   },
   "outputs": [
    {
     "name": "stdout",
     "output_type": "stream",
     "text": [
      "r: 0.55524%, st_er: 0.001131%\n",
      "y = 0.3264*x + 7.3193\n"
     ]
    },
    {
     "data": {
      "image/png": "[encoded data removed]",
      "text/plain": [
       "<Figure size 640x480 with 1 Axes>"
      ]
     },
     "metadata": {},
     "output_type": "display_data"
    }
   ],
   "source": [
    "x = y_test.flatten()\n",
    "y = test_pred4.flatten()\n",
    "m, b, r, p, st_er = stats.linregress(x,y) \n",
    "\n",
    "yfit = [b + m * xi for xi in x]\n",
    "yisx = [0 + 1 * xi for xi in x]\n",
    "plt.plot(x, yfit)\n",
    "plt.plot(x, yisx)\n",
    "\n",
    "plt.scatter(y_test, test_pred4,  color='black')\n",
    "plt.axis([0,100, 0, 100])\n",
    "plt.xlabel(\"Theory (nT)\")\n",
    "plt.ylabel(\"Prediction (nT)\")\n",
    "# print(r, st_er)\n",
    "print(\"r: {:.5f}%, st_er: {:.6f}%\".format(r, st_er))\n",
    "print(\"y = \"+str(round(m,4))+\"*x + \"+str(round(b,4)))"
   ]
  },
  {
   "cell_type": "code",
   "execution_count": null,
   "metadata": {},
   "outputs": [],
   "source": []
  },
  {
   "cell_type": "markdown",
   "metadata": {},
   "source": [
    "# Output image data"
   ]
  },
  {
   "cell_type": "code",
   "execution_count": 115,
   "metadata": {},
   "outputs": [
    {
     "name": "stderr",
     "output_type": "stream",
     "text": [
      "/var/folders/yd/vkjb_lqj2_30lnyhzhjqtg9w0000gp/T/ipykernel_3032/2079570890.py:1: SettingWithCopyWarning: \n",
      "A value is trying to be set on a copy of a slice from a DataFrame.\n",
      "Try using .loc[row_indexer,col_indexer] = value instead\n",
      "\n",
      "See the caveats in the documentation: https://pandas.pydata.org/pandas-docs/stable/user_guide/indexing.html#returning-a-view-versus-a-copy\n",
      "  df_test['predict'] = test_pred\n",
      "/var/folders/yd/vkjb_lqj2_30lnyhzhjqtg9w0000gp/T/ipykernel_3032/2079570890.py:2: SettingWithCopyWarning: \n",
      "A value is trying to be set on a copy of a slice from a DataFrame.\n",
      "Try using .loc[row_indexer,col_indexer] = value instead\n",
      "\n",
      "See the caveats in the documentation: https://pandas.pydata.org/pandas-docs/stable/user_guide/indexing.html#returning-a-view-versus-a-copy\n",
      "  df_test['predict2'] = test_pred2\n"
     ]
    }
   ],
   "source": [
    "df['predict'] = test_pred\n",
    "df_test['predict'] = test_pred2\n",
    "df_55['predict'] = test_pred3\n",
    "df_on['predict'] = test_pred4"
   ]
  },
  {
   "cell_type": "code",
   "execution_count": 116,
   "metadata": {},
   "outputs": [],
   "source": [
    "np.savetxt(save_path+\"nn.txt\", df[['i', 'j', 'k', 'predict']], fmt=\"%i %i %i %s\")"
   ]
  },
  {
   "cell_type": "code",
   "execution_count": 117,
   "metadata": {},
   "outputs": [],
   "source": [
    "np.savetxt(save_path+\"nn2.txt\", df_test[['i', 'j', 'k', 'predict']], fmt=\"%i %i %i %s\")"
   ]
  },
  {
   "cell_type": "code",
   "execution_count": null,
   "metadata": {},
   "outputs": [],
   "source": [
    "np.savetxt(save_path+\"nn3.txt\", df_55[['i', 'j', 'k', 'predict']], fmt=\"%i %i %i %s\")"
   ]
  },
  {
   "cell_type": "code",
   "execution_count": null,
   "metadata": {},
   "outputs": [],
   "source": [
    "np.savetxt(save_path+\"nn4.txt\", df_on[['i', 'j', 'k', 'predict']], fmt=\"%i %i %i %s\")"
   ]
  },
  {
   "cell_type": "code",
   "execution_count": null,
   "metadata": {},
   "outputs": [],
   "source": []
  },
  {
   "cell_type": "code",
   "execution_count": null,
   "metadata": {},
   "outputs": [],
   "source": []
  }
 ],
 "metadata": {
  "kernelspec": {
   "display_name": "Python 2",
   "language": "python",
   "name": "python2"
  },
  "language_info": {
   "codemirror_mode": {
    "name": "ipython",
    "version": 2
   },
   "file_extension": ".py",
   "mimetype": "text/x-python",
   "name": "python",
   "nbconvert_exporter": "python",
   "pygments_lexer": "ipython2",
   "version": "2.7.18"
  }
 },
 "nbformat": 4,
 "nbformat_minor": 2
}
