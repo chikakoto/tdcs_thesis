{
 "cells": [
  {
   "cell_type": "code",
   "execution_count": 1,
   "metadata": {},
   "outputs": [],
   "source": [
    "import nibabel as nib\n",
    "import pandas as pd\n",
    "import matplotlib.pyplot as plt\n",
    "import numpy as np\n",
    "import seaborn as sb\n",
    "from scipy import stats\n",
    "import commands"
   ]
  },
  {
   "cell_type": "code",
   "execution_count": 2,
   "metadata": {},
   "outputs": [],
   "source": [
    "# dir_path = \"/Users/mriworkshop/Documents/TDCS/code/tdcs_thesis/\"\n",
    "dir_path = \"/Users/chikakoolsen/opt/python/thesis/code/tdcs_thesis/\"\n",
    "sub_path = dir_path+\"data/external/R21_39_Cyl_Aqueous/\"\n",
    "img_path = dir_path+\"data/processed/\""
   ]
  },
  {
   "cell_type": "markdown",
   "metadata": {},
   "source": [
    "# Create mask"
   ]
  },
  {
   "cell_type": "code",
   "execution_count": 5,
   "metadata": {},
   "outputs": [],
   "source": [
    "def create_mask(sub_path, base_runs):\n",
    "    for m in range(len(base_runs)):\n",
    "        cwd_path = sub_path+\"NIFTI/bmaps_numpy/\"\n",
    "        for n in range(len(base_runs[m])):\n",
    "            bdir = cwd_path+\"base_run_\"+base_runs[m][n]+\"/\"\n",
    "            print commands.getoutput(\"fslmaths \"+bdir+\"4d_fmap_Mean.nii.gz -div \"+bdir+\"4d_fmap_Mean.nii.gz \"+bdir+\"mask.nii.gz\")\n",
    "            print commands.getoutput(\"3dmaskdump -o \"+bdir+\"/mask.txt -xyz -nozero \"+bdir+\"mask.nii.gz\")"
   ]
  },
  {
   "cell_type": "code",
   "execution_count": 7,
   "metadata": {},
   "outputs": [
    {
     "name": "stdout",
     "output_type": "stream",
     "text": [
      "\n",
      "++ 3dmaskdump: AFNI version=AFNI_22.1.14 (Jun 24 2022) [64-bit]\n",
      "++ 180224 voxels in the entire dataset (no mask)\n",
      "\n",
      "++ 3dmaskdump: AFNI version=AFNI_22.1.14 (Jun 24 2022) [64-bit]\n",
      "++ 180224 voxels in the entire dataset (no mask)\n",
      "\n",
      "++ 3dmaskdump: AFNI version=AFNI_22.1.14 (Jun 24 2022) [64-bit]\n",
      "++ 180224 voxels in the entire dataset (no mask)\n",
      "\n",
      "++ 3dmaskdump: AFNI version=AFNI_22.1.14 (Jun 24 2022) [64-bit]\n",
      "++ 180224 voxels in the entire dataset (no mask)\n",
      "\n",
      "++ 3dmaskdump: AFNI version=AFNI_22.1.14 (Jun 24 2022) [64-bit]\n",
      "++ 180224 voxels in the entire dataset (no mask)\n",
      "\n",
      "++ 3dmaskdump: AFNI version=AFNI_22.1.14 (Jun 24 2022) [64-bit]\n",
      "++ 180224 voxels in the entire dataset (no mask)\n",
      "\n",
      "++ 3dmaskdump: AFNI version=AFNI_22.1.14 (Jun 24 2022) [64-bit]\n",
      "++ 180224 voxels in the entire dataset (no mask)\n",
      "\n",
      "++ 3dmaskdump: AFNI version=AFNI_22.1.14 (Jun 24 2022) [64-bit]\n",
      "++ 180224 voxels in the entire dataset (no mask)\n",
      "\n",
      "++ 3dmaskdump: AFNI version=AFNI_22.1.14 (Jun 24 2022) [64-bit]\n",
      "++ 180224 voxels in the entire dataset (no mask)\n",
      "\n",
      "++ 3dmaskdump: AFNI version=AFNI_22.1.14 (Jun 24 2022) [64-bit]\n",
      "++ 180224 voxels in the entire dataset (no mask)\n",
      "\n",
      "++ 3dmaskdump: AFNI version=AFNI_22.1.14 (Jun 24 2022) [64-bit]\n",
      "++ 180224 voxels in the entire dataset (no mask)\n",
      "\n",
      "++ 3dmaskdump: AFNI version=AFNI_22.1.14 (Jun 24 2022) [64-bit]\n",
      "++ 180224 voxels in the entire dataset (no mask)\n",
      "\n",
      "++ 3dmaskdump: AFNI version=AFNI_22.1.14 (Jun 24 2022) [64-bit]\n",
      "++ 180224 voxels in the entire dataset (no mask)\n",
      "\n",
      "++ 3dmaskdump: AFNI version=AFNI_22.1.14 (Jun 24 2022) [64-bit]\n",
      "++ 180224 voxels in the entire dataset (no mask)\n",
      "\n",
      "++ 3dmaskdump: AFNI version=AFNI_22.1.14 (Jun 24 2022) [64-bit]\n",
      "++ 180224 voxels in the entire dataset (no mask)\n",
      "\n",
      "++ 3dmaskdump: AFNI version=AFNI_22.1.14 (Jun 24 2022) [64-bit]\n",
      "++ 180224 voxels in the entire dataset (no mask)\n",
      "\n",
      "++ 3dmaskdump: AFNI version=AFNI_22.1.14 (Jun 24 2022) [64-bit]\n",
      "++ 180224 voxels in the entire dataset (no mask)\n",
      "\n",
      "++ 3dmaskdump: AFNI version=AFNI_22.1.14 (Jun 24 2022) [64-bit]\n",
      "++ 180224 voxels in the entire dataset (no mask)\n",
      "\n",
      "++ 3dmaskdump: AFNI version=AFNI_22.1.14 (Jun 24 2022) [64-bit]\n",
      "++ 180224 voxels in the entire dataset (no mask)\n",
      "\n",
      "++ 3dmaskdump: AFNI version=AFNI_22.1.14 (Jun 24 2022) [64-bit]\n",
      "++ 180224 voxels in the entire dataset (no mask)\n",
      "\n",
      "++ 3dmaskdump: AFNI version=AFNI_22.1.14 (Jun 24 2022) [64-bit]\n",
      "++ 180224 voxels in the entire dataset (no mask)\n",
      "\n",
      "++ 3dmaskdump: AFNI version=AFNI_22.1.14 (Jun 24 2022) [64-bit]\n",
      "++ 180224 voxels in the entire dataset (no mask)\n",
      "\n",
      "++ 3dmaskdump: AFNI version=AFNI_22.1.14 (Jun 24 2022) [64-bit]\n",
      "++ 180224 voxels in the entire dataset (no mask)\n",
      "\n",
      "++ 3dmaskdump: AFNI version=AFNI_22.1.14 (Jun 24 2022) [64-bit]\n",
      "++ 180224 voxels in the entire dataset (no mask)\n",
      "\n",
      "++ 3dmaskdump: AFNI version=AFNI_22.1.14 (Jun 24 2022) [64-bit]\n",
      "++ 180224 voxels in the entire dataset (no mask)\n",
      "\n",
      "++ 3dmaskdump: AFNI version=AFNI_22.1.14 (Jun 24 2022) [64-bit]\n",
      "++ 180224 voxels in the entire dataset (no mask)\n",
      "\n",
      "++ 3dmaskdump: AFNI version=AFNI_22.1.14 (Jun 24 2022) [64-bit]\n",
      "++ 180224 voxels in the entire dataset (no mask)\n",
      "\n",
      "++ 3dmaskdump: AFNI version=AFNI_22.1.14 (Jun 24 2022) [64-bit]\n",
      "++ 180224 voxels in the entire dataset (no mask)\n",
      "\n",
      "++ 3dmaskdump: AFNI version=AFNI_22.1.14 (Jun 24 2022) [64-bit]\n",
      "++ 180224 voxels in the entire dataset (no mask)\n",
      "\n",
      "++ 3dmaskdump: AFNI version=AFNI_22.1.14 (Jun 24 2022) [64-bit]\n",
      "++ 180224 voxels in the entire dataset (no mask)\n"
     ]
    }
   ],
   "source": [
    "# 39\n",
    "base_runs = [\n",
    " ['4', '6', '8', '10', '12'],\n",
    " ['14', '16', '18', '20', '22'],\n",
    " ['24', '26', '28', '30', '32'],\n",
    " ['34', '36', '38', '40', '42'],\n",
    " ['44', '46', '48', '50', '52'],\n",
    " ['56', '58', '60', '62', '64']]\n",
    "bp = [['6','4'],['10','4'],['6','10']],[['16','14'],['20','14'],['16','20']],[['26','24'],['30','24'],['26','30']],[['36','34'],['40','34'],['36','40']],[['46','44'],['50','44'],['46','50']],[['58','56'],['62','56'],['58','62']]\n",
    "create_mask(sub_path, base_runs)"
   ]
  },
  {
   "cell_type": "markdown",
   "metadata": {},
   "source": [
    "# Physics image"
   ]
  },
  {
   "cell_type": "code",
   "execution_count": 26,
   "metadata": {},
   "outputs": [],
   "source": [
    "def create_erode_image(sub_path, erode = \"1\", xminusy = \"6minus4\"):\n",
    "    cwd = sub_path+\"NIFTI/bmaps_numpy/\"+xminusy\n",
    "    #print commands.getoutput(\"3dcalc -a \"+cwd+\"/mask.nii.gz -prefix \"+cwd+\"/mask_erode1.nii.gz -b a+i -c a-i -d a+j -e a-j -f a+k -g a-k -expr 'a*(1-amongst(0,b,c,d,e,f,g))'\")\n",
    "    print commands.getoutput(\"3dmask_tool -input \"+cwd+\"/mask.nii.gz -prefix \"+cwd+\"/mask_erode\"+erode+\".nii.gz -dilate_result -\"+erode)\n",
    "    print commands.getoutput(\"fslmaths \"+cwd+\"/mask_erode\"+erode+\".nii.gz -mul \"+cwd+\"/4d_fmap_Mean.nii.gz \"+cwd+\"/diff_fmap_Mean_erode\"+erode+\".nii.gz\")\n",
    "    print commands.getoutput(\"fslmaths \"+cwd+\"/mask_erode\"+erode+\".nii.gz -mul \"+cwd+\"/Bvals.nii \"+cwd+\"/Bvals_erode\"+erode+\".nii.gz\")\n",
    "#     img_meas = nib.load(cwd+\"/diff_fmap_Mean_erode\"+erode+\".nii.gz\")\n",
    "#     img_theo = nib.load(cwd+\"/Bvals_erode\"+erode+\".nii.gz\")"
   ]
  },
  {
   "cell_type": "code",
   "execution_count": 27,
   "metadata": {},
   "outputs": [
    {
     "name": "stdout",
     "output_type": "stream",
     "text": [
      "++ no -frac option: defaulting to -union\n",
      "++ processing 1 input dataset(s), NN=2...\n",
      "++ padding all datasets by 0 (for dilations)\n",
      "++ frac 0 over 1 volumes gives min count 0\n",
      "++ voxel limits: 0 clipped, 35249 survived, 144975 were zero\n",
      "++ writing result mask_erode1.nii.gz...\n",
      "++ Output dataset /Users/chikakoolsen/opt/python/thesis/code/tdcs_thesis/data/external/R21_39_Cyl_Aqueous/NIFTI/bmaps_numpy/6minus4/mask_erode1.nii.gz\n",
      "\n",
      "\n"
     ]
    }
   ],
   "source": [
    "create_erode_image(sub_path, \"1\", \"6minus4\")"
   ]
  },
  {
   "cell_type": "code",
   "execution_count": 28,
   "metadata": {},
   "outputs": [
    {
     "name": "stdout",
     "output_type": "stream",
     "text": [
      "++ no -frac option: defaulting to -union\n",
      "++ processing 1 input dataset(s), NN=2...\n",
      "++ padding all datasets by 0 (for dilations)\n",
      "++ frac 0 over 1 volumes gives min count 0\n",
      "++ voxel limits: 0 clipped, 35248 survived, 144976 were zero\n",
      "++ writing result mask_erode1.nii.gz...\n",
      "++ Output dataset /Users/chikakoolsen/opt/python/thesis/code/tdcs_thesis/data/external/R21_39_Cyl_Aqueous/NIFTI/bmaps_numpy/36minus34/mask_erode1.nii.gz\n",
      "\n",
      "\n"
     ]
    }
   ],
   "source": [
    "create_erode_image(sub_path, \"1\", \"36minus34\")"
   ]
  },
  {
   "cell_type": "code",
   "execution_count": 29,
   "metadata": {},
   "outputs": [
    {
     "name": "stdout",
     "output_type": "stream",
     "text": [
      "++ no -frac option: defaulting to -union\n",
      "++ processing 1 input dataset(s), NN=2...\n",
      "++ padding all datasets by 0 (for dilations)\n",
      "++ frac 0 over 1 volumes gives min count 0\n",
      "++ voxel limits: 0 clipped, 35247 survived, 144977 were zero\n",
      "++ writing result mask_erode1.nii.gz...\n",
      "++ Output dataset /Users/chikakoolsen/opt/python/thesis/code/tdcs_thesis/data/external/R21_39_Cyl_Aqueous/NIFTI/bmaps_numpy/58minus56/mask_erode1.nii.gz\n",
      "\n",
      "\n"
     ]
    }
   ],
   "source": [
    "create_erode_image(sub_path, \"1\", \"58minus56\")"
   ]
  },
  {
   "cell_type": "markdown",
   "metadata": {},
   "source": [
    "# Prediction image"
   ]
  },
  {
   "cell_type": "code",
   "execution_count": 3,
   "metadata": {},
   "outputs": [],
   "source": [
    "sub_path = dir_path+\"data/external/R21_36_Cyl_Aqueous/\""
   ]
  },
  {
   "cell_type": "code",
   "execution_count": 4,
   "metadata": {},
   "outputs": [],
   "source": [
    "def create_predict_erode(sub_path, img_path, erode_path, erode='1', xminusy = \"6minus4\"):\n",
    "    cwd = sub_path+\"NIFTI/bmaps_numpy/\"+xminusy\n",
    "    print commands.getoutput(\"fslmaths \"+cwd+\"/mask_erode\"+erode+\".nii.gz -mul \"+img_path+\" \"+erode_path)\n",
    "    "
   ]
  },
  {
   "cell_type": "code",
   "execution_count": 7,
   "metadata": {},
   "outputs": [
    {
     "name": "stdout",
     "output_type": "stream",
     "text": [
      "\n",
      "None\n"
     ]
    }
   ],
   "source": [
    "xminusy = \"6minus4\" \n",
    "pred_path = img_path+\"predicted_nn_neg_nonzero_pos.nii.gz\"\n",
    "erode_path = img_path+\"predicted_nn_neg_nonzero_pos_erode.nii.gz\"\n",
    "print create_predict_erode(sub_path, pred_path, erode_path, '1', xminusy)"
   ]
  },
  {
   "cell_type": "code",
   "execution_count": 8,
   "metadata": {},
   "outputs": [
    {
     "name": "stdout",
     "output_type": "stream",
     "text": [
      "\n",
      "None\n"
     ]
    }
   ],
   "source": [
    "xminusy = \"6minus4\" \n",
    "pred_path = img_path+\"predicted_nn_neg_nonzero_neg.nii.gz\"\n",
    "erode_path = img_path+\"predicted_nn_neg_nonzero_neg_erode.nii.gz\"\n",
    "print create_predict_erode(sub_path, pred_path, erode_path, '1', xminusy)"
   ]
  },
  {
   "cell_type": "markdown",
   "metadata": {},
   "source": [
    "# Create graph for erode"
   ]
  },
  {
   "cell_type": "markdown",
   "metadata": {},
   "source": [
    "## Physics vs Theory"
   ]
  },
  {
   "cell_type": "code",
   "execution_count": 24,
   "metadata": {},
   "outputs": [
    {
     "name": "stdout",
     "output_type": "stream",
     "text": [
      "r: 0.01148, st_er: 0.024306\n",
      "y = 0.1185*x + 1.1952\n"
     ]
    },
    {
     "data": {
      "image/png": "[encoded data removed]",
      "text/plain": [
       "<Figure size 432x288 with 1 Axes>"
      ]
     },
     "metadata": {
      "needs_background": "light"
     },
     "output_type": "display_data"
    }
   ],
   "source": [
    "xminusy = \"36minus34\" \n",
    "xminusy = \"58minus56\" # run 6\n",
    "cwd = sub_path+\"NIFTI/bmaps_numpy/\"+xminusy\n",
    "\n",
    "# Non erode\n",
    "img_meas = nib.load(cwd+\"/4d_fmap_Mean.nii.gz\")\n",
    "img_theo = nib.load(cwd+\"/Bvals.nii\")\n",
    "\n",
    "data_meas = img_meas.get_data()\n",
    "data_theo = img_theo.get_data()\n",
    "x = data_theo.flatten()\n",
    "y = data_meas.flatten()\n",
    "\n",
    "m, b, r, p, st_er = stats.linregress(x,y) \n",
    "\n",
    "yfit = [b + m * xi for xi in x]\n",
    "yisx = [0 + 1 * xi for xi in x]\n",
    "plt.plot(x, yfit)\n",
    "plt.plot(x, yisx)\n",
    "\n",
    "plt.scatter(x, y,  color='black')\n",
    "plt.axis([0,100, 0, 100])\n",
    "plt.xlabel(\"Theory (nT)\")\n",
    "plt.ylabel(\"Physics (nT)\")\n",
    "plt.title(\"Physics vs Theory\", fontsize=15)\n",
    "print(\"r: {:.5f}, st_er: {:.6f}\".format(r, st_er))\n",
    "print(\"y = \"+str(round(m,4))+\"*x + \"+str(round(b,4)))"
   ]
  },
  {
   "cell_type": "code",
   "execution_count": null,
   "metadata": {},
   "outputs": [],
   "source": []
  },
  {
   "cell_type": "code",
   "execution_count": 42,
   "metadata": {},
   "outputs": [
    {
     "name": "stdout",
     "output_type": "stream",
     "text": [
      "r: 0.04969, st_er: 0.049196\n",
      "y = 1.0391*x + -0.1391\n"
     ]
    },
    {
     "data": {
      "image/png": "[encoded data removed]",
      "text/plain": [
       "<Figure size 432x288 with 1 Axes>"
      ]
     },
     "metadata": {
      "needs_background": "light"
     },
     "output_type": "display_data"
    }
   ],
   "source": [
    "xminusy = \"36minus34\" \n",
    "xminusy = \"58minus56\" # run 6\n",
    "erode = '1'\n",
    "cwd = sub_path+\"NIFTI/bmaps_numpy/\"+xminusy\n",
    "\n",
    "# Erode\n",
    "img_meas = nib.load(cwd+\"/diff_fmap_Mean_erode\"+erode+\".nii.gz\")\n",
    "img_theo = nib.load(cwd+\"/Bvals_erode\"+erode+\".nii.gz\")\n",
    "\n",
    "data_meas = img_meas.get_data()\n",
    "data_theo = img_theo.get_data()\n",
    "x = data_theo.flatten()\n",
    "y = data_meas.flatten()\n",
    "\n",
    "m, b, r, p, st_er = stats.linregress(x,y) \n",
    "\n",
    "yfit = [b + m * xi for xi in x]\n",
    "yisx = [0 + 1 * xi for xi in x]\n",
    "plt.plot(x, yfit)\n",
    "plt.plot(x, yisx)\n",
    "\n",
    "plt.scatter(x, y,  color='black')\n",
    "plt.axis([0,100, 0, 100])\n",
    "plt.xlabel(\"Theory (nT)\")\n",
    "# plt.ylabel(\"Physics (nT)\")\n",
    "plt.ylabel(\"Physics (Drift Correction) (nT)\")\n",
    "# plt.title(\"Drift Corrected Physics vs Theory\", fontsize=15)\n",
    "# print(r, st_er)\n",
    "print(\"r: {:.5f}, st_er: {:.6f}\".format(r, st_er))\n",
    "print(\"y = \"+str(round(m,4))+\"*x + \"+str(round(b,4)))"
   ]
  },
  {
   "cell_type": "markdown",
   "metadata": {},
   "source": [
    "## Predict vs Theory"
   ]
  },
  {
   "cell_type": "code",
   "execution_count": 11,
   "metadata": {},
   "outputs": [
    {
     "name": "stdout",
     "output_type": "stream",
     "text": [
      "r: 0.96135, st_er: 0.000622\n",
      "y = 0.9223*x + 0.0125\n"
     ]
    },
    {
     "data": {
      "image/png": "[encoded data removed]",
      "text/plain": [
       "<Figure size 432x288 with 1 Axes>"
      ]
     },
     "metadata": {
      "needs_background": "light"
     },
     "output_type": "display_data"
    }
   ],
   "source": [
    "img_pred = nib.load(img_path+\"predicted_nn_neg_nonzero_pos_erode.nii.gz\")\n",
    "data_pred = img_pred.get_data()\n",
    "\n",
    "\n",
    "xminusy = \"6minus4\" \n",
    "erode = '1'\n",
    "cwd = sub_path+\"NIFTI/bmaps_numpy/\"+xminusy\n",
    "img_theo = nib.load(cwd+\"/Bvals_erode\"+erode+\".nii.gz\")\n",
    "data_theo = img_theo.get_data()\n",
    "\n",
    "\n",
    "x = data_theo.flatten()\n",
    "y = data_pred.flatten()\n",
    "m, b, r, p, st_er = stats.linregress(x,y) \n",
    "\n",
    "yfit = [b + m * xi for xi in x]\n",
    "yisx = [0 + 1 * xi for xi in x]\n",
    "plt.plot(x, yfit)\n",
    "plt.plot(x, yisx)\n",
    "\n",
    "plt.scatter(x, y,  color='black')\n",
    "plt.axis([0,100, 0, 100])\n",
    "plt.xlabel(\"Theory (nT)\")\n",
    "plt.ylabel(\"Prediction (nT)\")\n",
    "# plt.title(\"Neural Network Prediction vs Theory (erode)\", fontsize=15)\n",
    "# print(r, st_er)\n",
    "print(\"r: {:.5f}, st_er: {:.6f}\".format(r, st_er))\n",
    "print(\"y = \"+str(round(m,4))+\"*x + \"+str(round(b,4)))"
   ]
  },
  {
   "cell_type": "code",
   "execution_count": 33,
   "metadata": {},
   "outputs": [
    {
     "data": {
      "text/plain": [
       "array([[1.        , 0.95432785],\n",
       "       [0.95432785, 1.        ]])"
      ]
     },
     "execution_count": 33,
     "metadata": {},
     "output_type": "execute_result"
    }
   ],
   "source": [
    "np.corrcoef(x, y)"
   ]
  },
  {
   "cell_type": "code",
   "execution_count": 31,
   "metadata": {},
   "outputs": [
    {
     "data": {
      "text/plain": [
       "'/Users/chikakoolsen/opt/python/thesis/code/tdcs_thesis/data/external/R21_39_Cyl_Aqueous/NIFTI/bmaps_numpy/6minus4'"
      ]
     },
     "execution_count": 31,
     "metadata": {},
     "output_type": "execute_result"
    }
   ],
   "source": [
    "cwd"
   ]
  },
  {
   "cell_type": "code",
   "execution_count": null,
   "metadata": {},
   "outputs": [],
   "source": []
  },
  {
   "cell_type": "code",
   "execution_count": null,
   "metadata": {},
   "outputs": [],
   "source": []
  },
  {
   "cell_type": "code",
   "execution_count": null,
   "metadata": {},
   "outputs": [],
   "source": []
  },
  {
   "cell_type": "code",
   "execution_count": null,
   "metadata": {},
   "outputs": [],
   "source": []
  },
  {
   "cell_type": "markdown",
   "metadata": {},
   "source": [
    "# Play ground"
   ]
  },
  {
   "cell_type": "code",
   "execution_count": null,
   "metadata": {},
   "outputs": [],
   "source": [
    "# command line\n",
    "#fslroi Bvals.nii crop_bval_11_33_28_42_6_55.nii.gz 11 22 28 16 6 49\n",
    "#fslroi predicted_nn_nonzero_36to38.nii crop_pred_11_33_28_42_6_55.nii.gz 11 22 28 16 6 49"
   ]
  },
  {
   "cell_type": "code",
   "execution_count": 12,
   "metadata": {},
   "outputs": [],
   "source": [
    "tdir = '/Users/mriworkshop/Documents/TDCS/code/tdcs_thesis/data/external/R21_36_Cyl_Aqueous/NIFTI/bmaps_numpy/56minus54/'"
   ]
  },
  {
   "cell_type": "code",
   "execution_count": 13,
   "metadata": {},
   "outputs": [],
   "source": [
    "pred_img = nib.load(tdir+\"crop_pred_11_33_28_42_6_55.nii.gz\")\n",
    "bval_img = nib.load(tdir+\"crop_bval_11_33_28_42_6_55.nii.gz\")"
   ]
  },
  {
   "cell_type": "code",
   "execution_count": 19,
   "metadata": {},
   "outputs": [],
   "source": [
    "pred_data = pred_img.get_data()\n",
    "bval_data = bval_img.get_data()"
   ]
  },
  {
   "cell_type": "code",
   "execution_count": 17,
   "metadata": {},
   "outputs": [
    {
     "data": {
      "text/plain": [
       "array([4.6401663, 4.2926555, 3.8183494, ..., 3.4961429, 3.8389475,\n",
       "       3.8791254], dtype=float32)"
      ]
     },
     "execution_count": 17,
     "metadata": {},
     "output_type": "execute_result"
    }
   ],
   "source": [
    "pred_data.flatten()"
   ]
  },
  {
   "cell_type": "code",
   "execution_count": 21,
   "metadata": {},
   "outputs": [
    {
     "name": "stdout",
     "output_type": "stream",
     "text": [
      "r: 0.92168, st_er: 0.002415\n",
      "y = 0.7536*x + 0.9555\n"
     ]
    },
    {
     "data": {
      "image/png": "[encoded data removed]",
      "text/plain": [
       "<Figure size 432x288 with 1 Axes>"
      ]
     },
     "metadata": {
      "needs_background": "light"
     },
     "output_type": "display_data"
    }
   ],
   "source": [
    "x = bval_data.flatten()\n",
    "y = pred_data.flatten()\n",
    "m, b, r, p, st_er = stats.linregress(x,y) \n",
    "\n",
    "yfit = [b + m * xi for xi in x]\n",
    "yisx = [0 + 1 * xi for xi in x]\n",
    "plt.plot(x, yfit)\n",
    "plt.plot(x, yisx)\n",
    "\n",
    "plt.scatter(x, y,  color='black')\n",
    "plt.axis([0,100, 0, 100])\n",
    "plt.xlabel(\"Theory (nT)\")\n",
    "plt.ylabel(\"Prediction (nT)\")\n",
    "plt.title(\"Neural Network Prediction vs Theory\", fontsize=15)\n",
    "# print(r, st_er)\n",
    "print(\"r: {:.5f}, st_er: {:.6f}\".format(r, st_er))\n",
    "print(\"y = \"+str(round(m,4))+\"*x + \"+str(round(b,4)))"
   ]
  },
  {
   "cell_type": "code",
   "execution_count": null,
   "metadata": {},
   "outputs": [],
   "source": []
  },
  {
   "cell_type": "code",
   "execution_count": null,
   "metadata": {},
   "outputs": [],
   "source": []
  },
  {
   "cell_type": "code",
   "execution_count": null,
   "metadata": {},
   "outputs": [],
   "source": []
  }
 ],
 "metadata": {
  "kernelspec": {
   "display_name": "Python 2",
   "language": "python",
   "name": "python2"
  },
  "language_info": {
   "codemirror_mode": {
    "name": "ipython",
    "version": 2
   },
   "file_extension": ".py",
   "mimetype": "text/x-python",
   "name": "python",
   "nbconvert_exporter": "python",
   "pygments_lexer": "ipython2",
   "version": "2.7.18"
  }
 },
 "nbformat": 4,
 "nbformat_minor": 2
}
