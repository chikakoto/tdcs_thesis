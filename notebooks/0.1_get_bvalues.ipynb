{
 "cells": [
  {
   "cell_type": "code",
   "execution_count": 3,
   "metadata": {},
   "outputs": [],
   "source": [
    "# import sys\n",
    "\n",
    "# sys.path.append(\"/Users/chikakoolsen/opt/python/thesis/code/tdcs_thesis/src/script\")\n",
    "# from DEFsv1-Cylinder import *"
   ]
  },
  {
   "cell_type": "code",
   "execution_count": 6,
   "metadata": {},
   "outputs": [],
   "source": [
    "import commands\n",
    "import numpy as np\n",
    "import nibabel as nib\n",
    "import os\n",
    "from sklearn import linear_model\n",
    "from scipy import stats\n",
    "import matplotlib.pyplot as plt\n",
    "from scipy.optimize import curve_fit\n",
    "import subprocess\n",
    "from skimage import data, img_as_float, color, exposure\n",
    "from skimage.restoration import unwrap_phase\n",
    "import loopfield as lf\n",
    "import pandas as pd"
   ]
  },
  {
   "cell_type": "code",
   "execution_count": 8,
   "metadata": {},
   "outputs": [],
   "source": [
    "def theory_map(sub_path, position, normal, radius, current, bp):\n",
    "    field = lf.Field(length_units = lf.cm, current_units = lf.A, field_units = lf.uT)\n",
    "    # single-turn 12 cm z-oriented coil at origin\n",
    "\n",
    "    c = lf.Loop(position, normal, radius, current)\n",
    "    # add loop to field\n",
    "    field.addLoop(c);\n",
    "    #MAKE THEORETICAL B FIELD MAPS\n",
    "    #read in xyz ijk coordinates from i=0 masked image\n",
    "    cwd_path = sub_path+\"/NIFTI/bmaps_numpy/\"\n",
    "    for i in range(0,len(bp)):\n",
    "        print i\n",
    "        df_t=pd.DataFrame()\n",
    "        Bvals = list()\n",
    "        df_t_geo = pd.DataFrame()\n",
    "        df_Bvals = pd.DataFrame()\n",
    "        bdir = cwd_path+bp[i][0]+'minus'+bp[i][1]+\"/\"\n",
    "        print bdir\n",
    "        #make mask\n",
    "        commands.getoutput(\"fslmaths \"+bdir+\"4d_fmap_Mean.nii.gz -div \"+bdir+\"4d_fmap_Mean.nii.gz \"+bdir+\"mask.nii.gz\")\n",
    "        commands.getoutput(\"3dmaskdump -o \"+bdir+\"/mask.txt -xyz -nozero \"+bdir+\"mask.nii.gz\")\n",
    "        df_t = pd.read_csv(bdir+\"/mask.txt\", sep=\" \", header=None)\n",
    "        a = len(df_t)\n",
    "        for j in range(0,a-1):\n",
    "            bval = 1000*field.evaluate([float(df_t[3][j])/10.,float(df_t[4][j])/10.,float(df_t[5][j])/10.])\n",
    "            Bvals.append(bval[2])\n",
    "\n",
    "        \n",
    "        k = i%3\n",
    "        if k ==0:\n",
    "            print k\n",
    "            df_t_geo = df_t\n",
    "            df_t_geo = df_t_geo.drop(6,1)\n",
    "            df_t_geo = df_t_geo.drop(5,1)\n",
    "            df_t_geo = df_t_geo.drop(4,1)\n",
    "            df_t_geo = df_t_geo.drop(3,1)\n",
    "            Bvals_col = pd.Series(Bvals)\n",
    "            df_Bvals = df_t_geo\n",
    "            df_Bvals.insert(loc=3,column = 3,value=Bvals_col)\n",
    "            df_Bvals.to_csv(bdir+\"/Bvals.txt\", header=None, index=None, sep=' ')\n",
    "        #!!!!! here you use a different -master and -mask file for 3dundump--need to fix that to all be the same\n",
    "            commands.getoutput(\"3dUndump -ijk -datum float -prefix \"+bdir+\"/Bvals.nii -master \"+bdir+\"/mask.nii.gz -mask \"+bdir+\"mask.nii.gz \"+bdir+\"/Bvals.txt\")\n",
    "        if k ==1:\n",
    "            print k\n",
    "            Bvals1 = [-1*Bvals[k] for k in range(0,len(Bvals))]\n",
    "            Bvals1_col = pd.Series(Bvals1)\n",
    "            df_t_geo = df_t\n",
    "            df_t_geo = df_t_geo.drop(6,1)\n",
    "            df_t_geo = df_t_geo.drop(5,1)\n",
    "            df_t_geo = df_t_geo.drop(4,1)\n",
    "            df_t_geo = df_t_geo.drop(3,1)\n",
    "            df_Bvals1 = pd.DataFrame()\n",
    "            df_Bvals1 = df_t_geo\n",
    "            df_Bvals1.insert(loc=3,column = 3,value=Bvals1_col)\n",
    "            df_Bvals1.to_csv(bdir+\"/Bvals.txt\", header=None, index=None, sep=' ')\n",
    "        #!!!!! here you use a different -master and -mask file for 3dundump--need to fix that to all be the same\n",
    "            commands.getoutput(\"3dUndump -ijk -datum float -prefix \"+bdir+\"/Bvals.nii -master \"+bdir+\"/mask.nii.gz -mask \"+bdir+\"mask.nii.gz \"+bdir+\"/Bvals.txt\")\n",
    "        if k ==2:\n",
    "            print k\n",
    "            Bvals2 = [2*Bvals[k] for k in range(0,len(Bvals))]\n",
    "            Bvals2_col = pd.Series(Bvals2)\n",
    "            df_t_geo = df_t\n",
    "            df_t_geo = df_t_geo.drop(6,1)\n",
    "            df_t_geo = df_t_geo.drop(5,1)\n",
    "            df_t_geo = df_t_geo.drop(4,1)\n",
    "            df_t_geo = df_t_geo.drop(3,1)\n",
    "            df_Bvals2 = pd.DataFrame()\n",
    "            df_Bvals2 = df_t_geo\n",
    "            df_Bvals2.insert(loc=3,column = 3,value=Bvals2_col)\n",
    "            df_Bvals2.to_csv(bdir+\"/Bvals.txt\", header=None, index=None, sep=' ')\n",
    "        #!!!!! here you use a different -master and -mask file for 3dundump--need to fix that to all be the same\n",
    "            commands.getoutput(\"3dUndump -ijk -datum float -prefix \"+bdir+\"/Bvals.nii -master \"+bdir+\"/mask.nii.gz -mask \"+bdir+\"mask.nii.gz \"+bdir+\"/Bvals.txt\")\n"
   ]
  },
  {
   "cell_type": "code",
   "execution_count": 9,
   "metadata": {},
   "outputs": [
    {
     "name": "stdout",
     "output_type": "stream",
     "text": [
      "0\n",
      "/Users/chikakoolsen/opt/python/thesis/code/tdcs_thesis/data/processed/R21_32_aqueous_2mA/NIFTI/bmaps_numpy/6minus4/\n",
      "0\n",
      "1\n",
      "/Users/chikakoolsen/opt/python/thesis/code/tdcs_thesis/data/processed/R21_32_aqueous_2mA/NIFTI/bmaps_numpy/10minus4/\n",
      "1\n",
      "2\n",
      "/Users/chikakoolsen/opt/python/thesis/code/tdcs_thesis/data/processed/R21_32_aqueous_2mA/NIFTI/bmaps_numpy/6minus10/\n",
      "2\n",
      "3\n",
      "/Users/chikakoolsen/opt/python/thesis/code/tdcs_thesis/data/processed/R21_32_aqueous_2mA/NIFTI/bmaps_numpy/16minus14/\n",
      "0\n",
      "4\n",
      "/Users/chikakoolsen/opt/python/thesis/code/tdcs_thesis/data/processed/R21_32_aqueous_2mA/NIFTI/bmaps_numpy/20minus14/\n",
      "1\n",
      "5\n",
      "/Users/chikakoolsen/opt/python/thesis/code/tdcs_thesis/data/processed/R21_32_aqueous_2mA/NIFTI/bmaps_numpy/16minus20/\n",
      "2\n"
     ]
    }
   ],
   "source": [
    "##############\n",
    "# Cylinder 32\n",
    "##############\n",
    "\n",
    "sub_path = \"/Users/chikakoolsen/opt/python/thesis/code/tdcs_thesis/data/processed/R21_32_aqueous_2mA\"\n",
    "bp = ['6','4'],['10','4'],['6','10'],['16','14'],['20','14'],['16','20']\n",
    "\n",
    "position = [0.6, -1.5, 0.0] \n",
    "normal = [0., 0., 1.]\n",
    "radius = 6.0\n",
    "current = 0.00200\n",
    "theory_map(sub_path, position, normal, radius, current, bp)"
   ]
  },
  {
   "cell_type": "code",
   "execution_count": 11,
   "metadata": {},
   "outputs": [
    {
     "name": "stdout",
     "output_type": "stream",
     "text": [
      "0\n",
      "/Users/chikakoolsen/opt/python/thesis/code/tdcs_thesis/data/processed/R21_33_aqueous_2mA/NIFTI/bmaps_numpy/6minus4/\n",
      "0\n",
      "1\n",
      "/Users/chikakoolsen/opt/python/thesis/code/tdcs_thesis/data/processed/R21_33_aqueous_2mA/NIFTI/bmaps_numpy/10minus4/\n",
      "1\n",
      "2\n",
      "/Users/chikakoolsen/opt/python/thesis/code/tdcs_thesis/data/processed/R21_33_aqueous_2mA/NIFTI/bmaps_numpy/6minus10/\n",
      "2\n",
      "3\n",
      "/Users/chikakoolsen/opt/python/thesis/code/tdcs_thesis/data/processed/R21_33_aqueous_2mA/NIFTI/bmaps_numpy/16minus14/\n",
      "0\n",
      "4\n",
      "/Users/chikakoolsen/opt/python/thesis/code/tdcs_thesis/data/processed/R21_33_aqueous_2mA/NIFTI/bmaps_numpy/20minus14/\n",
      "1\n",
      "5\n",
      "/Users/chikakoolsen/opt/python/thesis/code/tdcs_thesis/data/processed/R21_33_aqueous_2mA/NIFTI/bmaps_numpy/16minus20/\n",
      "2\n"
     ]
    }
   ],
   "source": [
    "##############\n",
    "# Cylinder 33\n",
    "##############\n",
    "\n",
    "sub_path = \"/Users/chikakoolsen/opt/python/thesis/code/tdcs_thesis/data/processed/R21_33_aqueous_2mA\"\n",
    "bp = ['6','4'],['10','4'],['6','10'],['16','14'],['20','14'],['16','20']\n",
    "\n",
    "position = [0.45, -1.5, 0.0] # z coordinate is not zero\n",
    "normal = [0., 0., 1.]\n",
    "radius = 6.0\n",
    "current = 0.00200\n",
    "theory_map(sub_path, position, normal, radius, current, bp)"
   ]
  }
 ],
 "metadata": {
  "kernelspec": {
   "display_name": "Python 2",
   "language": "python",
   "name": "python2"
  },
  "language_info": {
   "codemirror_mode": {
    "name": "ipython",
    "version": 2
   },
   "file_extension": ".py",
   "mimetype": "text/x-python",
   "name": "python",
   "nbconvert_exporter": "python",
   "pygments_lexer": "ipython2",
   "version": "2.7.18"
  }
 },
 "nbformat": 4,
 "nbformat_minor": 2
}
