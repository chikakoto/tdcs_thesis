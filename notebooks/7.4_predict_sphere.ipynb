{
 "cells": [
  {
   "cell_type": "markdown",
   "id": "7ca77330",
   "metadata": {},
   "source": [
    "Run the following code before running this script\n",
    "\n",
    "ROAST to get Bvals\n",
    "\n",
    "0.5_extract_sphere_data.ipynb"
   ]
  },
  {
   "cell_type": "code",
   "execution_count": null,
   "id": "c9a07737",
   "metadata": {},
   "outputs": [],
   "source": [
    "import pandas as pd\n",
    "import numpy as np\n",
    "import matplotlib.pyplot as plt\n",
    "import seaborn as sns\n",
    "from scipy import stats\n",
    "from sklearn.metrics import mean_squared_error as mse\n",
    "from sklearn.metrics import mean_absolute_percentage_error as mape\n",
    "from sklearn.metrics import mean_absolute_error as mae\n",
    "from sklearn.model_selection import train_test_split\n",
    "from sklearn.preprocessing import MinMaxScaler, StandardScaler\n",
    "from sklearn.metrics import r2_score\n",
    "\n",
    "#\n",
    "import tensorflow as tf\n",
    "from tensorflow import keras\n",
    "from tensorflow.keras import layers\n",
    "from tensorflow.keras.layers import Flatten, Dense\n",
    "\n",
    "\n",
    "from sklearn.model_selection import GridSearchCV\n",
    "from sklearn.feature_extraction.text import TfidfVectorizer\n",
    "#from tensorflow.keras.wrappers.scikit_learn import KerasRegressor\n",
    "from scikeras.wrappers import KerasRegressor\n",
    "from sklearn.ensemble import AdaBoostRegressor\n",
    "\n",
    "import pickle\n",
    "from keras.models import load_model"
   ]
  },
  {
   "cell_type": "markdown",
   "id": "2d584045",
   "metadata": {},
   "source": [
    "# Load prepared data"
   ]
  },
  {
   "cell_type": "code",
   "execution_count": null,
   "id": "5488a427",
   "metadata": {},
   "outputs": [],
   "source": [
    "dir_path = \"/Users/chikakoolsen/opt/python/thesis/code/tdcs_thesis/\"\n",
    "# dir_path = \"/Users/mriworkshop/Documents/TDCS/code/tdcs_thesis/\"\n",
    "save_path = dir_path+\"data/raw/\"\n",
    "img_path =  dir_path+\"data/processed/\"\n",
    "model_path = dir_path+\"models/\""
   ]
  },
  {
   "cell_type": "markdown",
   "id": "d8783b14",
   "metadata": {},
   "source": [
    "## fmap mean all experiments"
   ]
  },
  {
   "cell_type": "code",
   "execution_count": null,
   "id": "262814fa",
   "metadata": {},
   "outputs": [],
   "source": [
    "file_mean = save_path+\"fmap_mean_40.txt\"\n",
    "columns_mean =['exp', 'mini_exp', 'i', 'j', 'k', 'mean0', 'mean1', 'mean2', 'mean3', 'mean4']\n",
    "data = np.loadtxt(file_mean);"
   ]
  },
  {
   "cell_type": "code",
   "execution_count": null,
   "id": "9be86b8d",
   "metadata": {},
   "outputs": [],
   "source": [
    "df = pd.DataFrame(data, columns=columns_mean)\n",
    "df = df.astype({\"exp\": int, \"i\": int, \"j\": int, \"k\": int, \"mini_exp\": int})\n",
    "df"
   ]
  },
  {
   "cell_type": "markdown",
   "id": "bdab22e6",
   "metadata": {},
   "source": [
    "# Separate -ON case"
   ]
  },
  {
   "cell_type": "code",
   "execution_count": null,
   "id": "aff7749c",
   "metadata": {},
   "outputs": [],
   "source": [
    "file_mean = save_path+\"fmap_mean_neg_amp_42.txt\"\n",
    "columns_mean =['exp', 'mini_exp', 'i', 'j', 'k', 'amp', 'neg', 'mean0', 'mean1', 'mean2','target']\n",
    "data = np.loadtxt(file_mean);"
   ]
  },
  {
   "cell_type": "code",
   "execution_count": null,
   "id": "1fe4c60a",
   "metadata": {},
   "outputs": [],
   "source": [
    "df = pd.DataFrame(data, columns=columns_mean)\n",
    "df = df.astype({\"exp\": int, \"i\": int, \"j\": int, \"k\": int, \"mini_exp\": int, \"amp\":int, \"neg\": int})\n",
    "df"
   ]
  },
  {
   "cell_type": "code",
   "execution_count": null,
   "id": "33f2c98b",
   "metadata": {},
   "outputs": [],
   "source": [
    "df.info()"
   ]
  },
  {
   "cell_type": "markdown",
   "id": "13c1e08a",
   "metadata": {},
   "source": [
    "# Split data"
   ]
  },
  {
   "cell_type": "markdown",
   "id": "91c17abf",
   "metadata": {},
   "source": [
    "## Get one experiment"
   ]
  },
  {
   "cell_type": "code",
   "execution_count": null,
   "id": "b3394527",
   "metadata": {},
   "outputs": [],
   "source": [
    "df_test1 = df[(df['exp']==42) & (df['mini_exp']==3)]\n",
    "# df_test2 = df[(df['exp']==41) & (df['mini_exp']==1)]\n",
    "# df_test3 = df[(df['exp']==42) & (df['mini_exp']==1)]"
   ]
  },
  {
   "cell_type": "code",
   "execution_count": null,
   "id": "272e1d4d",
   "metadata": {},
   "outputs": [],
   "source": [
    "print(df_test1.shape)\n",
    "# print(df_test2.shape)\n",
    "# print(df_test3.shape)"
   ]
  },
  {
   "cell_type": "markdown",
   "id": "67938935",
   "metadata": {},
   "source": [
    "## None zero"
   ]
  },
  {
   "cell_type": "code",
   "execution_count": null,
   "id": "4fed10e4",
   "metadata": {},
   "outputs": [],
   "source": [
    "df_nonzero = df[(df['mean0']!=0.0) & (df['mean1']!=0.0) & (df['mean2']!=0.0) & (df['mean3']!=0.0) & (df['mean4']!=0.0)]"
   ]
  },
  {
   "cell_type": "code",
   "execution_count": null,
   "id": "eb4e404d",
   "metadata": {},
   "outputs": [],
   "source": [
    "# For separate -ON\n",
    "df_nonzero = df[(df['mean0']!=0.0) & (df['mean1']!=0.0) & (df['mean2']!=0.0)]"
   ]
  },
  {
   "cell_type": "code",
   "execution_count": null,
   "id": "60734982",
   "metadata": {},
   "outputs": [],
   "source": [
    "df_nonzero"
   ]
  },
  {
   "cell_type": "code",
   "execution_count": null,
   "id": "1eb81fdb",
   "metadata": {},
   "outputs": [],
   "source": [
    "df4_pred1 =  df_nonzero[(df_nonzero['exp']==42) & (df_nonzero['mini_exp']==3)]\n",
    "# df4_pred2 =  df_nonzero[(df_nonzero['exp']==41) & (df_nonzero['mini_exp']==1)]\n",
    "# df4_pred3 =  df_nonzero[(df_nonzero['exp']==42) & (df_nonzero['mini_exp']==1)]"
   ]
  },
  {
   "cell_type": "code",
   "execution_count": null,
   "id": "171a20f3",
   "metadata": {},
   "outputs": [],
   "source": [
    "X4_pred1 = df4_pred1.iloc[:, 6:-1].values\n",
    "# y4_pred1 = df4_pred1['theory'].values\n",
    "\n",
    "# X4_pred2 = df4_pred2.iloc[:, 5:].values\n",
    "# # y4_pred2 = df4_pred2['theory'].values\n",
    "\n",
    "# X4_pred3 = df4_pred3.iloc[:, 5:].values\n",
    "# # y4_pred3 = df4_pred3['theory'].values"
   ]
  },
  {
   "cell_type": "code",
   "execution_count": null,
   "id": "68782810",
   "metadata": {
    "scrolled": true
   },
   "outputs": [],
   "source": [
    "print(X4_pred1.shape)\n",
    "# print(X4_pred2.shape)\n",
    "# print(X4_pred3.shape)"
   ]
  },
  {
   "cell_type": "markdown",
   "id": "298db51c",
   "metadata": {},
   "source": [
    "## Load model"
   ]
  },
  {
   "cell_type": "code",
   "execution_count": null,
   "id": "41c0dc1a",
   "metadata": {},
   "outputs": [],
   "source": [
    "file = model_path+'model_nonzero_32to38_3layer5unit_300.sav'\n",
    "model = pickle.load(open(file, 'rb'))"
   ]
  },
  {
   "cell_type": "code",
   "execution_count": null,
   "id": "604e4d6d",
   "metadata": {},
   "outputs": [],
   "source": [
    "# For separate -ON\n",
    "file = model_path+'best_model_nn_neg_nonzero.h5'\n",
    "model = load_model(file)"
   ]
  },
  {
   "cell_type": "markdown",
   "id": "5776ab06",
   "metadata": {},
   "source": [
    "# Predict"
   ]
  },
  {
   "cell_type": "code",
   "execution_count": null,
   "id": "2af8daa8",
   "metadata": {},
   "outputs": [],
   "source": [
    "df_test = df_test1\n",
    "df_pred = df4_pred1"
   ]
  },
  {
   "cell_type": "code",
   "execution_count": null,
   "id": "52987527",
   "metadata": {},
   "outputs": [],
   "source": [
    "X_test = X4_pred1\n",
    "# y_test = y4_pred3"
   ]
  },
  {
   "cell_type": "code",
   "execution_count": null,
   "id": "d056ffd8",
   "metadata": {},
   "outputs": [],
   "source": [
    "# GO TO Output section"
   ]
  },
  {
   "cell_type": "code",
   "execution_count": null,
   "id": "a1d240b3",
   "metadata": {},
   "outputs": [],
   "source": []
  },
  {
   "cell_type": "code",
   "execution_count": null,
   "id": "61481e67",
   "metadata": {},
   "outputs": [],
   "source": []
  },
  {
   "cell_type": "code",
   "execution_count": null,
   "id": "b3b64088",
   "metadata": {},
   "outputs": [],
   "source": [
    "result = model.evaluate(X_test, y_test)\n",
    "print(result)"
   ]
  },
  {
   "cell_type": "code",
   "execution_count": null,
   "id": "c6f22ed2",
   "metadata": {},
   "outputs": [],
   "source": [
    "test_pred = model.predict(X_test)\n",
    "print(mse(test_pred, y_test))\n",
    "print(mape(test_pred, y_test))"
   ]
  },
  {
   "cell_type": "code",
   "execution_count": null,
   "id": "870884e0",
   "metadata": {},
   "outputs": [],
   "source": [
    "np.corrcoef(test_pred.flatten(), y_test)"
   ]
  },
  {
   "cell_type": "markdown",
   "id": "4ded2674",
   "metadata": {},
   "source": [
    "# Plot"
   ]
  },
  {
   "cell_type": "markdown",
   "id": "45215d1e",
   "metadata": {},
   "source": [
    "### Theory vs Predict"
   ]
  },
  {
   "cell_type": "code",
   "execution_count": null,
   "id": "91787bbd",
   "metadata": {},
   "outputs": [],
   "source": [
    "x = y_test.flatten()\n",
    "y = test_pred.flatten()\n",
    "m, b, r, p, st_er = stats.linregress(x,y) \n",
    "\n",
    "yfit = [b + m * xi for xi in x]\n",
    "yisx = [0 + 1 * xi for xi in x]\n",
    "plt.plot(x, yfit)\n",
    "plt.plot(x, yisx)\n",
    "\n",
    "plt.scatter(y_test, test_pred,  color='black')\n",
    "plt.axis([0,100, 0, 100])\n",
    "plt.xlabel(\"Theory (nT)\")\n",
    "plt.ylabel(\"Prediction (nT)\")\n",
    "plt.title(\"Neural Network Prediction vs Theory\", fontsize=15)\n",
    "# print(r, st_er)\n",
    "print(\"r: {:.5f}, st_er: {:.6f}\".format(r, st_er))\n",
    "print(\"y = \"+str(round(m,4))+\"*x + \"+str(round(b,4)))"
   ]
  },
  {
   "cell_type": "markdown",
   "id": "721b3109",
   "metadata": {},
   "source": [
    "# Output data"
   ]
  },
  {
   "cell_type": "code",
   "execution_count": null,
   "id": "47a966cb",
   "metadata": {},
   "outputs": [],
   "source": [
    "test_pred = model.predict(X_test)"
   ]
  },
  {
   "cell_type": "code",
   "execution_count": null,
   "id": "a7cc0e3e",
   "metadata": {},
   "outputs": [],
   "source": [
    "df_pred['predict'] = test_pred"
   ]
  },
  {
   "cell_type": "code",
   "execution_count": null,
   "id": "de395ca0",
   "metadata": {},
   "outputs": [],
   "source": [
    "df_test['predict'] = 0.00"
   ]
  },
  {
   "cell_type": "code",
   "execution_count": null,
   "id": "ed15e31a",
   "metadata": {},
   "outputs": [],
   "source": [
    "df_out = df_test[['i', 'j', 'k', 'predict']]\n",
    "df_pre = df_pred[['i', 'j', 'k', 'predict']]"
   ]
  },
  {
   "cell_type": "code",
   "execution_count": null,
   "id": "c1fc0730",
   "metadata": {},
   "outputs": [],
   "source": [
    "# For separate -ON\n",
    "df_out = df_test[['i', 'j', 'k', 'neg', 'predict']]\n",
    "df_pre = df_pred[['i', 'j', 'k', 'neg', 'predict']]"
   ]
  },
  {
   "cell_type": "code",
   "execution_count": null,
   "id": "94fd3881",
   "metadata": {},
   "outputs": [],
   "source": [
    "df_test"
   ]
  },
  {
   "cell_type": "code",
   "execution_count": null,
   "id": "07ef4fe5",
   "metadata": {},
   "outputs": [],
   "source": [
    "for x in range(len(df_pre)):\n",
    "    i = df_pre.iloc[x, :]['i'].astype(int)\n",
    "    j = df_pre.iloc[x, :]['j'].astype(int)\n",
    "    k = df_pre.iloc[x, :]['k'].astype(int)\n",
    "    pred = df_pre.iloc[x, :]['predict']\n",
    "    idx = df_out[(df_out['i']==i) & (df_out['j']==j) & (df_out['k']==k)].index\n",
    "    df_out.loc[idx, 'predict']= pred"
   ]
  },
  {
   "cell_type": "code",
   "execution_count": 33,
   "id": "76fc67e5",
   "metadata": {},
   "outputs": [],
   "source": [
    "# For separate -ON\n",
    "for x in range(len(df_pre)):\n",
    "    i = df_pre.iloc[x, :]['i'].astype(int)\n",
    "    j = df_pre.iloc[x, :]['j'].astype(int)\n",
    "    k = df_pre.iloc[x, :]['k'].astype(int)\n",
    "    neg = df_pre.iloc[x, :]['neg'].astype(int)\n",
    "    pred = df_pre.iloc[x, :]['predict']\n",
    "    idx = df_out[(df_out['i']==i) & (df_out['j']==j) & (df_out['k']==k) & (df_out['neg']==neg)].index\n",
    "    df_out.loc[idx, 'predict']= pred"
   ]
  },
  {
   "cell_type": "code",
   "execution_count": 34,
   "id": "c5afadbd",
   "metadata": {},
   "outputs": [
    {
     "data": {
      "text/html": [
       "<div>\n",
       "<style scoped>\n",
       "    .dataframe tbody tr th:only-of-type {\n",
       "        vertical-align: middle;\n",
       "    }\n",
       "\n",
       "    .dataframe tbody tr th {\n",
       "        vertical-align: top;\n",
       "    }\n",
       "\n",
       "    .dataframe thead th {\n",
       "        text-align: right;\n",
       "    }\n",
       "</style>\n",
       "<table border=\"1\" class=\"dataframe\">\n",
       "  <thead>\n",
       "    <tr style=\"text-align: right;\">\n",
       "      <th></th>\n",
       "      <th>i</th>\n",
       "      <th>j</th>\n",
       "      <th>k</th>\n",
       "      <th>neg</th>\n",
       "      <th>predict</th>\n",
       "    </tr>\n",
       "  </thead>\n",
       "  <tbody>\n",
       "    <tr>\n",
       "      <th>720896</th>\n",
       "      <td>0</td>\n",
       "      <td>0</td>\n",
       "      <td>0</td>\n",
       "      <td>0</td>\n",
       "      <td>0.0</td>\n",
       "    </tr>\n",
       "    <tr>\n",
       "      <th>720897</th>\n",
       "      <td>0</td>\n",
       "      <td>0</td>\n",
       "      <td>1</td>\n",
       "      <td>0</td>\n",
       "      <td>0.0</td>\n",
       "    </tr>\n",
       "    <tr>\n",
       "      <th>720898</th>\n",
       "      <td>0</td>\n",
       "      <td>0</td>\n",
       "      <td>2</td>\n",
       "      <td>0</td>\n",
       "      <td>0.0</td>\n",
       "    </tr>\n",
       "    <tr>\n",
       "      <th>720899</th>\n",
       "      <td>0</td>\n",
       "      <td>0</td>\n",
       "      <td>3</td>\n",
       "      <td>0</td>\n",
       "      <td>0.0</td>\n",
       "    </tr>\n",
       "    <tr>\n",
       "      <th>720900</th>\n",
       "      <td>0</td>\n",
       "      <td>0</td>\n",
       "      <td>4</td>\n",
       "      <td>0</td>\n",
       "      <td>0.0</td>\n",
       "    </tr>\n",
       "    <tr>\n",
       "      <th>...</th>\n",
       "      <td>...</td>\n",
       "      <td>...</td>\n",
       "      <td>...</td>\n",
       "      <td>...</td>\n",
       "      <td>...</td>\n",
       "    </tr>\n",
       "    <tr>\n",
       "      <th>1081339</th>\n",
       "      <td>43</td>\n",
       "      <td>63</td>\n",
       "      <td>59</td>\n",
       "      <td>1</td>\n",
       "      <td>0.0</td>\n",
       "    </tr>\n",
       "    <tr>\n",
       "      <th>1081340</th>\n",
       "      <td>43</td>\n",
       "      <td>63</td>\n",
       "      <td>60</td>\n",
       "      <td>1</td>\n",
       "      <td>0.0</td>\n",
       "    </tr>\n",
       "    <tr>\n",
       "      <th>1081341</th>\n",
       "      <td>43</td>\n",
       "      <td>63</td>\n",
       "      <td>61</td>\n",
       "      <td>1</td>\n",
       "      <td>0.0</td>\n",
       "    </tr>\n",
       "    <tr>\n",
       "      <th>1081342</th>\n",
       "      <td>43</td>\n",
       "      <td>63</td>\n",
       "      <td>62</td>\n",
       "      <td>1</td>\n",
       "      <td>0.0</td>\n",
       "    </tr>\n",
       "    <tr>\n",
       "      <th>1081343</th>\n",
       "      <td>43</td>\n",
       "      <td>63</td>\n",
       "      <td>63</td>\n",
       "      <td>1</td>\n",
       "      <td>0.0</td>\n",
       "    </tr>\n",
       "  </tbody>\n",
       "</table>\n",
       "<p>360448 rows × 5 columns</p>\n",
       "</div>"
      ],
      "text/plain": [
       "          i   j   k  neg  predict\n",
       "720896    0   0   0    0      0.0\n",
       "720897    0   0   1    0      0.0\n",
       "720898    0   0   2    0      0.0\n",
       "720899    0   0   3    0      0.0\n",
       "720900    0   0   4    0      0.0\n",
       "...      ..  ..  ..  ...      ...\n",
       "1081339  43  63  59    1      0.0\n",
       "1081340  43  63  60    1      0.0\n",
       "1081341  43  63  61    1      0.0\n",
       "1081342  43  63  62    1      0.0\n",
       "1081343  43  63  63    1      0.0\n",
       "\n",
       "[360448 rows x 5 columns]"
      ]
     },
     "execution_count": 34,
     "metadata": {},
     "output_type": "execute_result"
    }
   ],
   "source": [
    "df_out"
   ]
  },
  {
   "cell_type": "code",
   "execution_count": null,
   "id": "86d118ef",
   "metadata": {},
   "outputs": [],
   "source": [
    "np.savetxt(img_path+\"nn_nonzero_42_predict.txt\", df_out[['i', 'j', 'k', 'predict']], fmt=\"%i %i %i %s\")"
   ]
  },
  {
   "cell_type": "code",
   "execution_count": 35,
   "id": "62f90584",
   "metadata": {},
   "outputs": [],
   "source": [
    "# For separate -ON\n",
    "df_pos = df_out[df_out['neg']==0]\n",
    "df_neg = df_out[df_out['neg']==1]\n",
    "np.savetxt(img_path+\"nn_nonzero_neg_42_pos_cly.txt\", df_pos[['i', 'j', 'k', 'predict']], fmt=\"%i %i %i %s\")\n",
    "np.savetxt(img_path+\"nn_nonzero_neg_42_neg_cly.txt\", df_neg[['i', 'j', 'k', 'predict']], fmt=\"%i %i %i %s\")"
   ]
  },
  {
   "cell_type": "code",
   "execution_count": 36,
   "id": "426d7ede",
   "metadata": {},
   "outputs": [
    {
     "data": {
      "text/html": [
       "<div>\n",
       "<style scoped>\n",
       "    .dataframe tbody tr th:only-of-type {\n",
       "        vertical-align: middle;\n",
       "    }\n",
       "\n",
       "    .dataframe tbody tr th {\n",
       "        vertical-align: top;\n",
       "    }\n",
       "\n",
       "    .dataframe thead th {\n",
       "        text-align: right;\n",
       "    }\n",
       "</style>\n",
       "<table border=\"1\" class=\"dataframe\">\n",
       "  <thead>\n",
       "    <tr style=\"text-align: right;\">\n",
       "      <th></th>\n",
       "      <th>i</th>\n",
       "      <th>j</th>\n",
       "      <th>k</th>\n",
       "      <th>neg</th>\n",
       "      <th>predict</th>\n",
       "    </tr>\n",
       "  </thead>\n",
       "  <tbody>\n",
       "    <tr>\n",
       "      <th>720896</th>\n",
       "      <td>0</td>\n",
       "      <td>0</td>\n",
       "      <td>0</td>\n",
       "      <td>0</td>\n",
       "      <td>0.0</td>\n",
       "    </tr>\n",
       "    <tr>\n",
       "      <th>720897</th>\n",
       "      <td>0</td>\n",
       "      <td>0</td>\n",
       "      <td>1</td>\n",
       "      <td>0</td>\n",
       "      <td>0.0</td>\n",
       "    </tr>\n",
       "    <tr>\n",
       "      <th>720898</th>\n",
       "      <td>0</td>\n",
       "      <td>0</td>\n",
       "      <td>2</td>\n",
       "      <td>0</td>\n",
       "      <td>0.0</td>\n",
       "    </tr>\n",
       "    <tr>\n",
       "      <th>720899</th>\n",
       "      <td>0</td>\n",
       "      <td>0</td>\n",
       "      <td>3</td>\n",
       "      <td>0</td>\n",
       "      <td>0.0</td>\n",
       "    </tr>\n",
       "    <tr>\n",
       "      <th>720900</th>\n",
       "      <td>0</td>\n",
       "      <td>0</td>\n",
       "      <td>4</td>\n",
       "      <td>0</td>\n",
       "      <td>0.0</td>\n",
       "    </tr>\n",
       "    <tr>\n",
       "      <th>...</th>\n",
       "      <td>...</td>\n",
       "      <td>...</td>\n",
       "      <td>...</td>\n",
       "      <td>...</td>\n",
       "      <td>...</td>\n",
       "    </tr>\n",
       "    <tr>\n",
       "      <th>901115</th>\n",
       "      <td>43</td>\n",
       "      <td>63</td>\n",
       "      <td>59</td>\n",
       "      <td>0</td>\n",
       "      <td>0.0</td>\n",
       "    </tr>\n",
       "    <tr>\n",
       "      <th>901116</th>\n",
       "      <td>43</td>\n",
       "      <td>63</td>\n",
       "      <td>60</td>\n",
       "      <td>0</td>\n",
       "      <td>0.0</td>\n",
       "    </tr>\n",
       "    <tr>\n",
       "      <th>901117</th>\n",
       "      <td>43</td>\n",
       "      <td>63</td>\n",
       "      <td>61</td>\n",
       "      <td>0</td>\n",
       "      <td>0.0</td>\n",
       "    </tr>\n",
       "    <tr>\n",
       "      <th>901118</th>\n",
       "      <td>43</td>\n",
       "      <td>63</td>\n",
       "      <td>62</td>\n",
       "      <td>0</td>\n",
       "      <td>0.0</td>\n",
       "    </tr>\n",
       "    <tr>\n",
       "      <th>901119</th>\n",
       "      <td>43</td>\n",
       "      <td>63</td>\n",
       "      <td>63</td>\n",
       "      <td>0</td>\n",
       "      <td>0.0</td>\n",
       "    </tr>\n",
       "  </tbody>\n",
       "</table>\n",
       "<p>180224 rows × 5 columns</p>\n",
       "</div>"
      ],
      "text/plain": [
       "         i   j   k  neg  predict\n",
       "720896   0   0   0    0      0.0\n",
       "720897   0   0   1    0      0.0\n",
       "720898   0   0   2    0      0.0\n",
       "720899   0   0   3    0      0.0\n",
       "720900   0   0   4    0      0.0\n",
       "...     ..  ..  ..  ...      ...\n",
       "901115  43  63  59    0      0.0\n",
       "901116  43  63  60    0      0.0\n",
       "901117  43  63  61    0      0.0\n",
       "901118  43  63  62    0      0.0\n",
       "901119  43  63  63    0      0.0\n",
       "\n",
       "[180224 rows x 5 columns]"
      ]
     },
     "execution_count": 36,
     "metadata": {},
     "output_type": "execute_result"
    }
   ],
   "source": [
    "df_out[df_out['neg']==0]"
   ]
  },
  {
   "cell_type": "code",
   "execution_count": null,
   "id": "f7457e89",
   "metadata": {},
   "outputs": [],
   "source": []
  },
  {
   "cell_type": "code",
   "execution_count": null,
   "id": "24c8937d",
   "metadata": {},
   "outputs": [],
   "source": []
  },
  {
   "cell_type": "code",
   "execution_count": null,
   "id": "02fe4276",
   "metadata": {},
   "outputs": [],
   "source": [
    "test_pred"
   ]
  },
  {
   "cell_type": "code",
   "execution_count": null,
   "id": "df32dbab",
   "metadata": {},
   "outputs": [],
   "source": [
    "df_out.describe()"
   ]
  }
 ],
 "metadata": {
  "kernelspec": {
   "display_name": "Python 3 (ipykernel)",
   "language": "python",
   "name": "python3"
  },
  "language_info": {
   "codemirror_mode": {
    "name": "ipython",
    "version": 3
   },
   "file_extension": ".py",
   "mimetype": "text/x-python",
   "name": "python",
   "nbconvert_exporter": "python",
   "pygments_lexer": "ipython3",
   "version": "3.10.6"
  }
 },
 "nbformat": 4,
 "nbformat_minor": 5
}
