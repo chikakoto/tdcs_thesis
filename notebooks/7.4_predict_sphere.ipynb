{
 "cells": [
  {
   "cell_type": "markdown",
   "id": "7ca77330",
   "metadata": {},
   "source": [
    "Run the following code before running this script\n",
    "\n",
    "ROAST to get Bvals\n",
    "\n",
    "0.5_extract_sphere_data.ipynb"
   ]
  },
  {
   "cell_type": "code",
   "execution_count": 1,
   "id": "c9a07737",
   "metadata": {},
   "outputs": [],
   "source": [
    "import pandas as pd\n",
    "import numpy as np\n",
    "import matplotlib.pyplot as plt\n",
    "import seaborn as sns\n",
    "from scipy import stats\n",
    "from sklearn.metrics import mean_squared_error as mse\n",
    "from sklearn.metrics import mean_absolute_percentage_error as mape\n",
    "from sklearn.metrics import mean_absolute_error as mae\n",
    "from sklearn.model_selection import train_test_split\n",
    "from sklearn.preprocessing import MinMaxScaler, StandardScaler\n",
    "from sklearn.metrics import r2_score\n",
    "\n",
    "#\n",
    "import tensorflow as tf\n",
    "from tensorflow import keras\n",
    "from tensorflow.keras import layers\n",
    "from tensorflow.keras.layers import Flatten, Dense\n",
    "\n",
    "\n",
    "from sklearn.model_selection import GridSearchCV\n",
    "from sklearn.feature_extraction.text import TfidfVectorizer\n",
    "#from tensorflow.keras.wrappers.scikit_learn import KerasRegressor\n",
    "from scikeras.wrappers import KerasRegressor\n",
    "from sklearn.ensemble import AdaBoostRegressor\n",
    "\n",
    "import pickle\n",
    "from keras.models import load_model"
   ]
  },
  {
   "cell_type": "markdown",
   "id": "2d584045",
   "metadata": {},
   "source": [
    "# Load prepared data"
   ]
  },
  {
   "cell_type": "code",
   "execution_count": 2,
   "id": "5488a427",
   "metadata": {},
   "outputs": [],
   "source": [
    "dir_path = \"/Users/chikakoolsen/opt/python/thesis/code/tdcs_thesis/\"\n",
    "# dir_path = \"/Users/mriworkshop/Documents/TDCS/code/tdcs_thesis/\"\n",
    "save_path = dir_path+\"data/raw/\"\n",
    "img_path =  dir_path+\"data/processed/\"\n",
    "model_path = dir_path+\"models/\""
   ]
  },
  {
   "cell_type": "markdown",
   "id": "d8783b14",
   "metadata": {},
   "source": [
    "## 5 attribute"
   ]
  },
  {
   "cell_type": "code",
   "execution_count": null,
   "id": "262814fa",
   "metadata": {},
   "outputs": [],
   "source": [
    "file_mean = save_path+\"fmap_mean_40.txt\"\n",
    "columns_mean =['exp', 'mini_exp', 'i', 'j', 'k', 'mean0', 'mean1', 'mean2', 'mean3', 'mean4']\n",
    "data = np.loadtxt(file_mean);"
   ]
  },
  {
   "cell_type": "code",
   "execution_count": null,
   "id": "9be86b8d",
   "metadata": {},
   "outputs": [],
   "source": [
    "df = pd.DataFrame(data, columns=columns_mean)\n",
    "df = df.astype({\"exp\": int, \"i\": int, \"j\": int, \"k\": int, \"mini_exp\": int})\n",
    "df"
   ]
  },
  {
   "cell_type": "markdown",
   "id": "bdab22e6",
   "metadata": {},
   "source": [
    "## 3 attributes"
   ]
  },
  {
   "cell_type": "code",
   "execution_count": 3,
   "id": "aff7749c",
   "metadata": {},
   "outputs": [],
   "source": [
    "file_mean = save_path+\"fmap_mean_neg_42to44.txt\"\n",
    "columns_mean =['exp', 'mini_exp', 'i', 'j', 'k', 'neg', 'mean0', 'mean1', 'mean2']\n",
    "data = np.loadtxt(file_mean);"
   ]
  },
  {
   "cell_type": "code",
   "execution_count": 4,
   "id": "1fe4c60a",
   "metadata": {},
   "outputs": [
    {
     "data": {
      "text/html": [
       "<div>\n",
       "<style scoped>\n",
       "    .dataframe tbody tr th:only-of-type {\n",
       "        vertical-align: middle;\n",
       "    }\n",
       "\n",
       "    .dataframe tbody tr th {\n",
       "        vertical-align: top;\n",
       "    }\n",
       "\n",
       "    .dataframe thead th {\n",
       "        text-align: right;\n",
       "    }\n",
       "</style>\n",
       "<table border=\"1\" class=\"dataframe\">\n",
       "  <thead>\n",
       "    <tr style=\"text-align: right;\">\n",
       "      <th></th>\n",
       "      <th>exp</th>\n",
       "      <th>mini_exp</th>\n",
       "      <th>i</th>\n",
       "      <th>j</th>\n",
       "      <th>k</th>\n",
       "      <th>neg</th>\n",
       "      <th>mean0</th>\n",
       "      <th>mean1</th>\n",
       "      <th>mean2</th>\n",
       "    </tr>\n",
       "  </thead>\n",
       "  <tbody>\n",
       "    <tr>\n",
       "      <th>0</th>\n",
       "      <td>42</td>\n",
       "      <td>1</td>\n",
       "      <td>0</td>\n",
       "      <td>0</td>\n",
       "      <td>0</td>\n",
       "      <td>0</td>\n",
       "      <td>0.0</td>\n",
       "      <td>0.0</td>\n",
       "      <td>0.0</td>\n",
       "    </tr>\n",
       "    <tr>\n",
       "      <th>1</th>\n",
       "      <td>42</td>\n",
       "      <td>1</td>\n",
       "      <td>0</td>\n",
       "      <td>0</td>\n",
       "      <td>1</td>\n",
       "      <td>0</td>\n",
       "      <td>0.0</td>\n",
       "      <td>0.0</td>\n",
       "      <td>0.0</td>\n",
       "    </tr>\n",
       "    <tr>\n",
       "      <th>2</th>\n",
       "      <td>42</td>\n",
       "      <td>1</td>\n",
       "      <td>0</td>\n",
       "      <td>0</td>\n",
       "      <td>2</td>\n",
       "      <td>0</td>\n",
       "      <td>0.0</td>\n",
       "      <td>0.0</td>\n",
       "      <td>0.0</td>\n",
       "    </tr>\n",
       "    <tr>\n",
       "      <th>3</th>\n",
       "      <td>42</td>\n",
       "      <td>1</td>\n",
       "      <td>0</td>\n",
       "      <td>0</td>\n",
       "      <td>3</td>\n",
       "      <td>0</td>\n",
       "      <td>0.0</td>\n",
       "      <td>0.0</td>\n",
       "      <td>0.0</td>\n",
       "    </tr>\n",
       "    <tr>\n",
       "      <th>4</th>\n",
       "      <td>42</td>\n",
       "      <td>1</td>\n",
       "      <td>0</td>\n",
       "      <td>0</td>\n",
       "      <td>4</td>\n",
       "      <td>0</td>\n",
       "      <td>0.0</td>\n",
       "      <td>0.0</td>\n",
       "      <td>0.0</td>\n",
       "    </tr>\n",
       "    <tr>\n",
       "      <th>...</th>\n",
       "      <td>...</td>\n",
       "      <td>...</td>\n",
       "      <td>...</td>\n",
       "      <td>...</td>\n",
       "      <td>...</td>\n",
       "      <td>...</td>\n",
       "      <td>...</td>\n",
       "      <td>...</td>\n",
       "      <td>...</td>\n",
       "    </tr>\n",
       "    <tr>\n",
       "      <th>2883579</th>\n",
       "      <td>44</td>\n",
       "      <td>3</td>\n",
       "      <td>43</td>\n",
       "      <td>63</td>\n",
       "      <td>59</td>\n",
       "      <td>1</td>\n",
       "      <td>0.0</td>\n",
       "      <td>0.0</td>\n",
       "      <td>0.0</td>\n",
       "    </tr>\n",
       "    <tr>\n",
       "      <th>2883580</th>\n",
       "      <td>44</td>\n",
       "      <td>3</td>\n",
       "      <td>43</td>\n",
       "      <td>63</td>\n",
       "      <td>60</td>\n",
       "      <td>1</td>\n",
       "      <td>0.0</td>\n",
       "      <td>0.0</td>\n",
       "      <td>0.0</td>\n",
       "    </tr>\n",
       "    <tr>\n",
       "      <th>2883581</th>\n",
       "      <td>44</td>\n",
       "      <td>3</td>\n",
       "      <td>43</td>\n",
       "      <td>63</td>\n",
       "      <td>61</td>\n",
       "      <td>1</td>\n",
       "      <td>0.0</td>\n",
       "      <td>0.0</td>\n",
       "      <td>0.0</td>\n",
       "    </tr>\n",
       "    <tr>\n",
       "      <th>2883582</th>\n",
       "      <td>44</td>\n",
       "      <td>3</td>\n",
       "      <td>43</td>\n",
       "      <td>63</td>\n",
       "      <td>62</td>\n",
       "      <td>1</td>\n",
       "      <td>0.0</td>\n",
       "      <td>0.0</td>\n",
       "      <td>0.0</td>\n",
       "    </tr>\n",
       "    <tr>\n",
       "      <th>2883583</th>\n",
       "      <td>44</td>\n",
       "      <td>3</td>\n",
       "      <td>43</td>\n",
       "      <td>63</td>\n",
       "      <td>63</td>\n",
       "      <td>1</td>\n",
       "      <td>0.0</td>\n",
       "      <td>0.0</td>\n",
       "      <td>0.0</td>\n",
       "    </tr>\n",
       "  </tbody>\n",
       "</table>\n",
       "<p>2883584 rows × 9 columns</p>\n",
       "</div>"
      ],
      "text/plain": [
       "         exp  mini_exp   i   j   k  neg  mean0  mean1  mean2\n",
       "0         42         1   0   0   0    0    0.0    0.0    0.0\n",
       "1         42         1   0   0   1    0    0.0    0.0    0.0\n",
       "2         42         1   0   0   2    0    0.0    0.0    0.0\n",
       "3         42         1   0   0   3    0    0.0    0.0    0.0\n",
       "4         42         1   0   0   4    0    0.0    0.0    0.0\n",
       "...      ...       ...  ..  ..  ..  ...    ...    ...    ...\n",
       "2883579   44         3  43  63  59    1    0.0    0.0    0.0\n",
       "2883580   44         3  43  63  60    1    0.0    0.0    0.0\n",
       "2883581   44         3  43  63  61    1    0.0    0.0    0.0\n",
       "2883582   44         3  43  63  62    1    0.0    0.0    0.0\n",
       "2883583   44         3  43  63  63    1    0.0    0.0    0.0\n",
       "\n",
       "[2883584 rows x 9 columns]"
      ]
     },
     "execution_count": 4,
     "metadata": {},
     "output_type": "execute_result"
    }
   ],
   "source": [
    "df = pd.DataFrame(data, columns=columns_mean)\n",
    "df = df.astype({\"exp\": int, \"i\": int, \"j\": int, \"k\": int, \"mini_exp\": int, \"neg\": int})\n",
    "df"
   ]
  },
  {
   "cell_type": "code",
   "execution_count": 8,
   "id": "86e607a5",
   "metadata": {},
   "outputs": [
    {
     "data": {
      "text/html": [
       "<div>\n",
       "<style scoped>\n",
       "    .dataframe tbody tr th:only-of-type {\n",
       "        vertical-align: middle;\n",
       "    }\n",
       "\n",
       "    .dataframe tbody tr th {\n",
       "        vertical-align: top;\n",
       "    }\n",
       "\n",
       "    .dataframe thead th {\n",
       "        text-align: right;\n",
       "    }\n",
       "</style>\n",
       "<table border=\"1\" class=\"dataframe\">\n",
       "  <thead>\n",
       "    <tr style=\"text-align: right;\">\n",
       "      <th></th>\n",
       "      <th>exp</th>\n",
       "      <th>mini_exp</th>\n",
       "      <th>i</th>\n",
       "      <th>j</th>\n",
       "      <th>k</th>\n",
       "      <th>neg</th>\n",
       "      <th>mean0</th>\n",
       "      <th>mean1</th>\n",
       "      <th>mean2</th>\n",
       "    </tr>\n",
       "  </thead>\n",
       "  <tbody>\n",
       "    <tr>\n",
       "      <th>88479</th>\n",
       "      <td>42</td>\n",
       "      <td>1</td>\n",
       "      <td>21</td>\n",
       "      <td>38</td>\n",
       "      <td>31</td>\n",
       "      <td>0</td>\n",
       "      <td>-414.192474</td>\n",
       "      <td>-408.864014</td>\n",
       "      <td>-400.965332</td>\n",
       "    </tr>\n",
       "    <tr>\n",
       "      <th>268703</th>\n",
       "      <td>42</td>\n",
       "      <td>1</td>\n",
       "      <td>21</td>\n",
       "      <td>38</td>\n",
       "      <td>31</td>\n",
       "      <td>1</td>\n",
       "      <td>-400.965332</td>\n",
       "      <td>-396.122742</td>\n",
       "      <td>-392.983704</td>\n",
       "    </tr>\n",
       "    <tr>\n",
       "      <th>448927</th>\n",
       "      <td>42</td>\n",
       "      <td>2</td>\n",
       "      <td>21</td>\n",
       "      <td>38</td>\n",
       "      <td>31</td>\n",
       "      <td>0</td>\n",
       "      <td>-389.405853</td>\n",
       "      <td>-389.718658</td>\n",
       "      <td>-384.057922</td>\n",
       "    </tr>\n",
       "    <tr>\n",
       "      <th>629151</th>\n",
       "      <td>42</td>\n",
       "      <td>2</td>\n",
       "      <td>21</td>\n",
       "      <td>38</td>\n",
       "      <td>31</td>\n",
       "      <td>1</td>\n",
       "      <td>-384.057922</td>\n",
       "      <td>-378.707153</td>\n",
       "      <td>-378.122986</td>\n",
       "    </tr>\n",
       "    <tr>\n",
       "      <th>809375</th>\n",
       "      <td>42</td>\n",
       "      <td>3</td>\n",
       "      <td>21</td>\n",
       "      <td>38</td>\n",
       "      <td>31</td>\n",
       "      <td>0</td>\n",
       "      <td>-375.691589</td>\n",
       "      <td>-377.150238</td>\n",
       "      <td>-372.640259</td>\n",
       "    </tr>\n",
       "    <tr>\n",
       "      <th>989599</th>\n",
       "      <td>42</td>\n",
       "      <td>3</td>\n",
       "      <td>21</td>\n",
       "      <td>38</td>\n",
       "      <td>31</td>\n",
       "      <td>1</td>\n",
       "      <td>-372.640259</td>\n",
       "      <td>-369.027954</td>\n",
       "      <td>-369.421661</td>\n",
       "    </tr>\n",
       "    <tr>\n",
       "      <th>1169823</th>\n",
       "      <td>43</td>\n",
       "      <td>1</td>\n",
       "      <td>21</td>\n",
       "      <td>38</td>\n",
       "      <td>31</td>\n",
       "      <td>0</td>\n",
       "      <td>74.168518</td>\n",
       "      <td>75.958549</td>\n",
       "      <td>77.451073</td>\n",
       "    </tr>\n",
       "    <tr>\n",
       "      <th>1350047</th>\n",
       "      <td>43</td>\n",
       "      <td>1</td>\n",
       "      <td>21</td>\n",
       "      <td>38</td>\n",
       "      <td>31</td>\n",
       "      <td>1</td>\n",
       "      <td>77.451073</td>\n",
       "      <td>83.136375</td>\n",
       "      <td>82.270538</td>\n",
       "    </tr>\n",
       "    <tr>\n",
       "      <th>1530271</th>\n",
       "      <td>43</td>\n",
       "      <td>2</td>\n",
       "      <td>21</td>\n",
       "      <td>38</td>\n",
       "      <td>31</td>\n",
       "      <td>0</td>\n",
       "      <td>85.189888</td>\n",
       "      <td>86.367722</td>\n",
       "      <td>89.208015</td>\n",
       "    </tr>\n",
       "    <tr>\n",
       "      <th>1710495</th>\n",
       "      <td>43</td>\n",
       "      <td>2</td>\n",
       "      <td>21</td>\n",
       "      <td>38</td>\n",
       "      <td>31</td>\n",
       "      <td>1</td>\n",
       "      <td>89.208015</td>\n",
       "      <td>91.062462</td>\n",
       "      <td>94.325844</td>\n",
       "    </tr>\n",
       "    <tr>\n",
       "      <th>1890719</th>\n",
       "      <td>44</td>\n",
       "      <td>1</td>\n",
       "      <td>21</td>\n",
       "      <td>38</td>\n",
       "      <td>31</td>\n",
       "      <td>0</td>\n",
       "      <td>29.595047</td>\n",
       "      <td>30.693346</td>\n",
       "      <td>31.347326</td>\n",
       "    </tr>\n",
       "    <tr>\n",
       "      <th>2070943</th>\n",
       "      <td>44</td>\n",
       "      <td>1</td>\n",
       "      <td>21</td>\n",
       "      <td>38</td>\n",
       "      <td>31</td>\n",
       "      <td>1</td>\n",
       "      <td>31.347326</td>\n",
       "      <td>32.883629</td>\n",
       "      <td>32.781830</td>\n",
       "    </tr>\n",
       "    <tr>\n",
       "      <th>2251167</th>\n",
       "      <td>44</td>\n",
       "      <td>2</td>\n",
       "      <td>21</td>\n",
       "      <td>38</td>\n",
       "      <td>31</td>\n",
       "      <td>0</td>\n",
       "      <td>35.537823</td>\n",
       "      <td>34.621246</td>\n",
       "      <td>34.367661</td>\n",
       "    </tr>\n",
       "    <tr>\n",
       "      <th>2431391</th>\n",
       "      <td>44</td>\n",
       "      <td>2</td>\n",
       "      <td>21</td>\n",
       "      <td>38</td>\n",
       "      <td>31</td>\n",
       "      <td>1</td>\n",
       "      <td>34.367661</td>\n",
       "      <td>34.636692</td>\n",
       "      <td>34.520252</td>\n",
       "    </tr>\n",
       "    <tr>\n",
       "      <th>2611615</th>\n",
       "      <td>44</td>\n",
       "      <td>3</td>\n",
       "      <td>21</td>\n",
       "      <td>38</td>\n",
       "      <td>31</td>\n",
       "      <td>0</td>\n",
       "      <td>37.540604</td>\n",
       "      <td>35.444508</td>\n",
       "      <td>37.139183</td>\n",
       "    </tr>\n",
       "    <tr>\n",
       "      <th>2791839</th>\n",
       "      <td>44</td>\n",
       "      <td>3</td>\n",
       "      <td>21</td>\n",
       "      <td>38</td>\n",
       "      <td>31</td>\n",
       "      <td>1</td>\n",
       "      <td>37.139183</td>\n",
       "      <td>38.024582</td>\n",
       "      <td>36.614670</td>\n",
       "    </tr>\n",
       "  </tbody>\n",
       "</table>\n",
       "</div>"
      ],
      "text/plain": [
       "         exp  mini_exp   i   j   k  neg       mean0       mean1       mean2\n",
       "88479     42         1  21  38  31    0 -414.192474 -408.864014 -400.965332\n",
       "268703    42         1  21  38  31    1 -400.965332 -396.122742 -392.983704\n",
       "448927    42         2  21  38  31    0 -389.405853 -389.718658 -384.057922\n",
       "629151    42         2  21  38  31    1 -384.057922 -378.707153 -378.122986\n",
       "809375    42         3  21  38  31    0 -375.691589 -377.150238 -372.640259\n",
       "989599    42         3  21  38  31    1 -372.640259 -369.027954 -369.421661\n",
       "1169823   43         1  21  38  31    0   74.168518   75.958549   77.451073\n",
       "1350047   43         1  21  38  31    1   77.451073   83.136375   82.270538\n",
       "1530271   43         2  21  38  31    0   85.189888   86.367722   89.208015\n",
       "1710495   43         2  21  38  31    1   89.208015   91.062462   94.325844\n",
       "1890719   44         1  21  38  31    0   29.595047   30.693346   31.347326\n",
       "2070943   44         1  21  38  31    1   31.347326   32.883629   32.781830\n",
       "2251167   44         2  21  38  31    0   35.537823   34.621246   34.367661\n",
       "2431391   44         2  21  38  31    1   34.367661   34.636692   34.520252\n",
       "2611615   44         3  21  38  31    0   37.540604   35.444508   37.139183\n",
       "2791839   44         3  21  38  31    1   37.139183   38.024582   36.614670"
      ]
     },
     "execution_count": 8,
     "metadata": {},
     "output_type": "execute_result"
    }
   ],
   "source": [
    "df.loc[(df['i']==21)&(df['j']==38)&(df['k']==31)]"
   ]
  },
  {
   "cell_type": "code",
   "execution_count": 6,
   "id": "33f2c98b",
   "metadata": {},
   "outputs": [
    {
     "name": "stdout",
     "output_type": "stream",
     "text": [
      "<class 'pandas.core.frame.DataFrame'>\n",
      "RangeIndex: 2883584 entries, 0 to 2883583\n",
      "Data columns (total 9 columns):\n",
      " #   Column    Dtype  \n",
      "---  ------    -----  \n",
      " 0   exp       int64  \n",
      " 1   mini_exp  int64  \n",
      " 2   i         int64  \n",
      " 3   j         int64  \n",
      " 4   k         int64  \n",
      " 5   neg       int64  \n",
      " 6   mean0     float64\n",
      " 7   mean1     float64\n",
      " 8   mean2     float64\n",
      "dtypes: float64(3), int64(6)\n",
      "memory usage: 198.0 MB\n"
     ]
    }
   ],
   "source": [
    "df.info()"
   ]
  },
  {
   "cell_type": "markdown",
   "id": "13c1e08a",
   "metadata": {},
   "source": [
    "# Split data"
   ]
  },
  {
   "cell_type": "markdown",
   "id": "91c17abf",
   "metadata": {},
   "source": [
    "## Get one experiment"
   ]
  },
  {
   "cell_type": "code",
   "execution_count": 9,
   "id": "b3394527",
   "metadata": {},
   "outputs": [],
   "source": [
    "df_test1 = df[(df['exp']==44) & (df['mini_exp']==1) & (df['neg']==1)]\n",
    "df_test2 = df[(df['exp']==44) & (df['mini_exp']==1) & (df['neg']==0)]\n",
    "df_test3 = df[(df['exp']==44) & (df['mini_exp']==2) & (df['neg']==1)]\n",
    "df_test4 = df[(df['exp']==44) & (df['mini_exp']==2) & (df['neg']==0)]\n",
    "# df_test5 = df[(df['exp']==44) & (df['mini_exp']==3) & (df['neg']==1)]\n",
    "# df_test6 = df[(df['exp']==44) & (df['mini_exp']==3) & (df['neg']==0)]"
   ]
  },
  {
   "cell_type": "code",
   "execution_count": 10,
   "id": "272e1d4d",
   "metadata": {},
   "outputs": [
    {
     "name": "stdout",
     "output_type": "stream",
     "text": [
      "(180224, 9)\n",
      "(180224, 9)\n",
      "(180224, 9)\n",
      "(180224, 9)\n"
     ]
    }
   ],
   "source": [
    "print(df_test1.shape)\n",
    "print(df_test2.shape)\n",
    "print(df_test3.shape)\n",
    "print(df_test4.shape)\n",
    "# print(df_test5.shape)\n",
    "# print(df_test6.shape)"
   ]
  },
  {
   "cell_type": "code",
   "execution_count": 11,
   "id": "90663603",
   "metadata": {},
   "outputs": [
    {
     "data": {
      "text/html": [
       "<div>\n",
       "<style scoped>\n",
       "    .dataframe tbody tr th:only-of-type {\n",
       "        vertical-align: middle;\n",
       "    }\n",
       "\n",
       "    .dataframe tbody tr th {\n",
       "        vertical-align: top;\n",
       "    }\n",
       "\n",
       "    .dataframe thead th {\n",
       "        text-align: right;\n",
       "    }\n",
       "</style>\n",
       "<table border=\"1\" class=\"dataframe\">\n",
       "  <thead>\n",
       "    <tr style=\"text-align: right;\">\n",
       "      <th></th>\n",
       "      <th>mean0</th>\n",
       "      <th>mean1</th>\n",
       "      <th>mean2</th>\n",
       "    </tr>\n",
       "  </thead>\n",
       "  <tbody>\n",
       "    <tr>\n",
       "      <th>1982464</th>\n",
       "      <td>0.0</td>\n",
       "      <td>0.0</td>\n",
       "      <td>0.0</td>\n",
       "    </tr>\n",
       "    <tr>\n",
       "      <th>1982465</th>\n",
       "      <td>0.0</td>\n",
       "      <td>0.0</td>\n",
       "      <td>0.0</td>\n",
       "    </tr>\n",
       "    <tr>\n",
       "      <th>1982466</th>\n",
       "      <td>0.0</td>\n",
       "      <td>0.0</td>\n",
       "      <td>0.0</td>\n",
       "    </tr>\n",
       "    <tr>\n",
       "      <th>1982467</th>\n",
       "      <td>0.0</td>\n",
       "      <td>0.0</td>\n",
       "      <td>0.0</td>\n",
       "    </tr>\n",
       "    <tr>\n",
       "      <th>1982468</th>\n",
       "      <td>0.0</td>\n",
       "      <td>0.0</td>\n",
       "      <td>0.0</td>\n",
       "    </tr>\n",
       "    <tr>\n",
       "      <th>...</th>\n",
       "      <td>...</td>\n",
       "      <td>...</td>\n",
       "      <td>...</td>\n",
       "    </tr>\n",
       "    <tr>\n",
       "      <th>2162683</th>\n",
       "      <td>0.0</td>\n",
       "      <td>0.0</td>\n",
       "      <td>0.0</td>\n",
       "    </tr>\n",
       "    <tr>\n",
       "      <th>2162684</th>\n",
       "      <td>0.0</td>\n",
       "      <td>0.0</td>\n",
       "      <td>0.0</td>\n",
       "    </tr>\n",
       "    <tr>\n",
       "      <th>2162685</th>\n",
       "      <td>0.0</td>\n",
       "      <td>0.0</td>\n",
       "      <td>0.0</td>\n",
       "    </tr>\n",
       "    <tr>\n",
       "      <th>2162686</th>\n",
       "      <td>0.0</td>\n",
       "      <td>0.0</td>\n",
       "      <td>0.0</td>\n",
       "    </tr>\n",
       "    <tr>\n",
       "      <th>2162687</th>\n",
       "      <td>0.0</td>\n",
       "      <td>0.0</td>\n",
       "      <td>0.0</td>\n",
       "    </tr>\n",
       "  </tbody>\n",
       "</table>\n",
       "<p>180224 rows × 3 columns</p>\n",
       "</div>"
      ],
      "text/plain": [
       "         mean0  mean1  mean2\n",
       "1982464    0.0    0.0    0.0\n",
       "1982465    0.0    0.0    0.0\n",
       "1982466    0.0    0.0    0.0\n",
       "1982467    0.0    0.0    0.0\n",
       "1982468    0.0    0.0    0.0\n",
       "...        ...    ...    ...\n",
       "2162683    0.0    0.0    0.0\n",
       "2162684    0.0    0.0    0.0\n",
       "2162685    0.0    0.0    0.0\n",
       "2162686    0.0    0.0    0.0\n",
       "2162687    0.0    0.0    0.0\n",
       "\n",
       "[180224 rows x 3 columns]"
      ]
     },
     "execution_count": 11,
     "metadata": {},
     "output_type": "execute_result"
    }
   ],
   "source": [
    "df_test1.iloc[:, 6:]"
   ]
  },
  {
   "cell_type": "code",
   "execution_count": 12,
   "id": "305a9e64",
   "metadata": {},
   "outputs": [],
   "source": [
    "X_pred1 = df_test1.iloc[:, 6:].values \n",
    "# y_pred1 = df_test1['theory'].values\n",
    "\n",
    "X_pred2 = df_test2.iloc[:, 6:].values \n",
    "# y_pred2 = df_test2['theory'].values\n",
    "\n",
    "X_pred3 = df_test3.iloc[:, 6:].values \n",
    "# y_pred3 = df_test3['theory'].values\n",
    "\n",
    "# X_pred4 = df_test4.iloc[:, 6:].values \n",
    "# # y_pred4 = df_test4['theory'].values\n",
    "\n",
    "# X_pred5 = df_test5.iloc[:, 6:].values \n",
    "# # y_pred5 = df_test5['theory'].values\n",
    "\n",
    "# X_pred6 = df_test6.iloc[:, 6:].values \n",
    "# # y_pred6 = df_test6['theory'].values"
   ]
  },
  {
   "cell_type": "code",
   "execution_count": null,
   "id": "592a1797",
   "metadata": {},
   "outputs": [],
   "source": []
  },
  {
   "cell_type": "markdown",
   "id": "67938935",
   "metadata": {},
   "source": [
    "## None zero"
   ]
  },
  {
   "cell_type": "code",
   "execution_count": null,
   "id": "4fed10e4",
   "metadata": {},
   "outputs": [],
   "source": [
    "# 5 attributes\n",
    "df_nonzero = df[(df['mean0']!=0.0) & (df['mean1']!=0.0) & (df['mean2']!=0.0) & (df['mean3']!=0.0) & (df['mean4']!=0.0)]"
   ]
  },
  {
   "cell_type": "code",
   "execution_count": 13,
   "id": "eb4e404d",
   "metadata": {},
   "outputs": [],
   "source": [
    "# 3 attributes\n",
    "df_nonzero = df[(df['mean0']!=0.0) & (df['mean1']!=0.0) & (df['mean2']!=0.0)]"
   ]
  },
  {
   "cell_type": "code",
   "execution_count": 135,
   "id": "60734982",
   "metadata": {},
   "outputs": [
    {
     "data": {
      "text/html": [
       "<div>\n",
       "<style scoped>\n",
       "    .dataframe tbody tr th:only-of-type {\n",
       "        vertical-align: middle;\n",
       "    }\n",
       "\n",
       "    .dataframe tbody tr th {\n",
       "        vertical-align: top;\n",
       "    }\n",
       "\n",
       "    .dataframe thead th {\n",
       "        text-align: right;\n",
       "    }\n",
       "</style>\n",
       "<table border=\"1\" class=\"dataframe\">\n",
       "  <thead>\n",
       "    <tr style=\"text-align: right;\">\n",
       "      <th></th>\n",
       "      <th>exp</th>\n",
       "      <th>mini_exp</th>\n",
       "      <th>i</th>\n",
       "      <th>j</th>\n",
       "      <th>k</th>\n",
       "      <th>neg</th>\n",
       "      <th>mean0</th>\n",
       "      <th>mean1</th>\n",
       "      <th>mean2</th>\n",
       "    </tr>\n",
       "  </thead>\n",
       "  <tbody>\n",
       "    <tr>\n",
       "      <th>10074</th>\n",
       "      <td>42</td>\n",
       "      <td>1</td>\n",
       "      <td>2</td>\n",
       "      <td>29</td>\n",
       "      <td>26</td>\n",
       "      <td>0</td>\n",
       "      <td>-984.707153</td>\n",
       "      <td>-970.159729</td>\n",
       "      <td>-974.554504</td>\n",
       "    </tr>\n",
       "    <tr>\n",
       "      <th>10076</th>\n",
       "      <td>42</td>\n",
       "      <td>1</td>\n",
       "      <td>2</td>\n",
       "      <td>29</td>\n",
       "      <td>28</td>\n",
       "      <td>0</td>\n",
       "      <td>-333.152374</td>\n",
       "      <td>-270.754669</td>\n",
       "      <td>-102.585724</td>\n",
       "    </tr>\n",
       "    <tr>\n",
       "      <th>10137</th>\n",
       "      <td>42</td>\n",
       "      <td>1</td>\n",
       "      <td>2</td>\n",
       "      <td>30</td>\n",
       "      <td>25</td>\n",
       "      <td>0</td>\n",
       "      <td>-788.129700</td>\n",
       "      <td>-787.770996</td>\n",
       "      <td>-808.987488</td>\n",
       "    </tr>\n",
       "    <tr>\n",
       "      <th>10138</th>\n",
       "      <td>42</td>\n",
       "      <td>1</td>\n",
       "      <td>2</td>\n",
       "      <td>30</td>\n",
       "      <td>26</td>\n",
       "      <td>0</td>\n",
       "      <td>-1038.672119</td>\n",
       "      <td>-1019.283020</td>\n",
       "      <td>-1018.710083</td>\n",
       "    </tr>\n",
       "    <tr>\n",
       "      <th>13853</th>\n",
       "      <td>42</td>\n",
       "      <td>1</td>\n",
       "      <td>3</td>\n",
       "      <td>24</td>\n",
       "      <td>29</td>\n",
       "      <td>0</td>\n",
       "      <td>-352.913147</td>\n",
       "      <td>-328.458252</td>\n",
       "      <td>-345.069885</td>\n",
       "    </tr>\n",
       "    <tr>\n",
       "      <th>...</th>\n",
       "      <td>...</td>\n",
       "      <td>...</td>\n",
       "      <td>...</td>\n",
       "      <td>...</td>\n",
       "      <td>...</td>\n",
       "      <td>...</td>\n",
       "      <td>...</td>\n",
       "      <td>...</td>\n",
       "      <td>...</td>\n",
       "    </tr>\n",
       "    <tr>\n",
       "      <th>2870480</th>\n",
       "      <td>44</td>\n",
       "      <td>3</td>\n",
       "      <td>40</td>\n",
       "      <td>51</td>\n",
       "      <td>16</td>\n",
       "      <td>1</td>\n",
       "      <td>108.029625</td>\n",
       "      <td>237.504181</td>\n",
       "      <td>300.838898</td>\n",
       "    </tr>\n",
       "    <tr>\n",
       "      <th>2870481</th>\n",
       "      <td>44</td>\n",
       "      <td>3</td>\n",
       "      <td>40</td>\n",
       "      <td>51</td>\n",
       "      <td>17</td>\n",
       "      <td>1</td>\n",
       "      <td>104.060471</td>\n",
       "      <td>73.791672</td>\n",
       "      <td>126.305840</td>\n",
       "    </tr>\n",
       "    <tr>\n",
       "      <th>2870543</th>\n",
       "      <td>44</td>\n",
       "      <td>3</td>\n",
       "      <td>40</td>\n",
       "      <td>52</td>\n",
       "      <td>15</td>\n",
       "      <td>1</td>\n",
       "      <td>167.685898</td>\n",
       "      <td>155.256668</td>\n",
       "      <td>9.042796</td>\n",
       "    </tr>\n",
       "    <tr>\n",
       "      <th>2870605</th>\n",
       "      <td>44</td>\n",
       "      <td>3</td>\n",
       "      <td>40</td>\n",
       "      <td>53</td>\n",
       "      <td>13</td>\n",
       "      <td>1</td>\n",
       "      <td>951.931030</td>\n",
       "      <td>-87.699287</td>\n",
       "      <td>-870.282227</td>\n",
       "    </tr>\n",
       "    <tr>\n",
       "      <th>2870606</th>\n",
       "      <td>44</td>\n",
       "      <td>3</td>\n",
       "      <td>40</td>\n",
       "      <td>53</td>\n",
       "      <td>14</td>\n",
       "      <td>1</td>\n",
       "      <td>128.917389</td>\n",
       "      <td>-332.348175</td>\n",
       "      <td>509.209503</td>\n",
       "    </tr>\n",
       "  </tbody>\n",
       "</table>\n",
       "<p>430585 rows × 9 columns</p>\n",
       "</div>"
      ],
      "text/plain": [
       "         exp  mini_exp   i   j   k  neg        mean0        mean1        mean2\n",
       "10074     42         1   2  29  26    0  -984.707153  -970.159729  -974.554504\n",
       "10076     42         1   2  29  28    0  -333.152374  -270.754669  -102.585724\n",
       "10137     42         1   2  30  25    0  -788.129700  -787.770996  -808.987488\n",
       "10138     42         1   2  30  26    0 -1038.672119 -1019.283020 -1018.710083\n",
       "13853     42         1   3  24  29    0  -352.913147  -328.458252  -345.069885\n",
       "...      ...       ...  ..  ..  ..  ...          ...          ...          ...\n",
       "2870480   44         3  40  51  16    1   108.029625   237.504181   300.838898\n",
       "2870481   44         3  40  51  17    1   104.060471    73.791672   126.305840\n",
       "2870543   44         3  40  52  15    1   167.685898   155.256668     9.042796\n",
       "2870605   44         3  40  53  13    1   951.931030   -87.699287  -870.282227\n",
       "2870606   44         3  40  53  14    1   128.917389  -332.348175   509.209503\n",
       "\n",
       "[430585 rows x 9 columns]"
      ]
     },
     "execution_count": 135,
     "metadata": {},
     "output_type": "execute_result"
    }
   ],
   "source": [
    "df_nonzero"
   ]
  },
  {
   "cell_type": "code",
   "execution_count": 14,
   "id": "1eb81fdb",
   "metadata": {},
   "outputs": [],
   "source": [
    "df4_pred1 =  df_nonzero[(df_nonzero['exp']==44) & (df_nonzero['mini_exp']==1) & (df_nonzero['neg']==1)]\n",
    "df4_pred2 =  df_nonzero[(df_nonzero['exp']==44) & (df_nonzero['mini_exp']==1) & (df_nonzero['neg']==0)]\n",
    "df4_pred3 =  df_nonzero[(df_nonzero['exp']==44) & (df_nonzero['mini_exp']==2) & (df_nonzero['neg']==1)]\n",
    "df4_pred4 =  df_nonzero[(df_nonzero['exp']==44) & (df_nonzero['mini_exp']==2) & (df_nonzero['neg']==0)]\n",
    "# df4_pred5 =  df_nonzero[(df_nonzero['exp']==44) & (df_nonzero['mini_exp']==3) & (df_nonzero['neg']==1)]\n",
    "# df4_pred6 =  df_nonzero[(df_nonzero['exp']==44) & (df_nonzero['mini_exp']==3) & (df_nonzero['neg']==0)]"
   ]
  },
  {
   "cell_type": "code",
   "execution_count": 137,
   "id": "9f20c2d8",
   "metadata": {},
   "outputs": [
    {
     "data": {
      "text/html": [
       "<div>\n",
       "<style scoped>\n",
       "    .dataframe tbody tr th:only-of-type {\n",
       "        vertical-align: middle;\n",
       "    }\n",
       "\n",
       "    .dataframe tbody tr th {\n",
       "        vertical-align: top;\n",
       "    }\n",
       "\n",
       "    .dataframe thead th {\n",
       "        text-align: right;\n",
       "    }\n",
       "</style>\n",
       "<table border=\"1\" class=\"dataframe\">\n",
       "  <thead>\n",
       "    <tr style=\"text-align: right;\">\n",
       "      <th></th>\n",
       "      <th>mean0</th>\n",
       "      <th>mean1</th>\n",
       "      <th>mean2</th>\n",
       "    </tr>\n",
       "  </thead>\n",
       "  <tbody>\n",
       "    <tr>\n",
       "      <th>1272389</th>\n",
       "      <td>-164.883804</td>\n",
       "      <td>-32.437187</td>\n",
       "      <td>4223.044922</td>\n",
       "    </tr>\n",
       "    <tr>\n",
       "      <th>1272390</th>\n",
       "      <td>-5027.678223</td>\n",
       "      <td>1026.242920</td>\n",
       "      <td>483.986450</td>\n",
       "    </tr>\n",
       "    <tr>\n",
       "      <th>1272391</th>\n",
       "      <td>-19.035112</td>\n",
       "      <td>-2394.353760</td>\n",
       "      <td>692.172668</td>\n",
       "    </tr>\n",
       "    <tr>\n",
       "      <th>1272392</th>\n",
       "      <td>-115.449661</td>\n",
       "      <td>1003.072388</td>\n",
       "      <td>585.662109</td>\n",
       "    </tr>\n",
       "    <tr>\n",
       "      <th>1272412</th>\n",
       "      <td>-450.681030</td>\n",
       "      <td>-436.324005</td>\n",
       "      <td>-444.340424</td>\n",
       "    </tr>\n",
       "    <tr>\n",
       "      <th>...</th>\n",
       "      <td>...</td>\n",
       "      <td>...</td>\n",
       "      <td>...</td>\n",
       "    </tr>\n",
       "    <tr>\n",
       "      <th>1428056</th>\n",
       "      <td>-319.276337</td>\n",
       "      <td>-315.796112</td>\n",
       "      <td>-327.174133</td>\n",
       "    </tr>\n",
       "    <tr>\n",
       "      <th>1428057</th>\n",
       "      <td>-267.923767</td>\n",
       "      <td>-267.496338</td>\n",
       "      <td>-266.819611</td>\n",
       "    </tr>\n",
       "    <tr>\n",
       "      <th>1428058</th>\n",
       "      <td>-339.439331</td>\n",
       "      <td>-339.289368</td>\n",
       "      <td>-340.359467</td>\n",
       "    </tr>\n",
       "    <tr>\n",
       "      <th>1428060</th>\n",
       "      <td>-388.100250</td>\n",
       "      <td>-362.276947</td>\n",
       "      <td>-380.388489</td>\n",
       "    </tr>\n",
       "    <tr>\n",
       "      <th>1428125</th>\n",
       "      <td>846.366272</td>\n",
       "      <td>921.764038</td>\n",
       "      <td>866.384399</td>\n",
       "    </tr>\n",
       "  </tbody>\n",
       "</table>\n",
       "<p>26757 rows × 3 columns</p>\n",
       "</div>"
      ],
      "text/plain": [
       "               mean0        mean1        mean2\n",
       "1272389  -164.883804   -32.437187  4223.044922\n",
       "1272390 -5027.678223  1026.242920   483.986450\n",
       "1272391   -19.035112 -2394.353760   692.172668\n",
       "1272392  -115.449661  1003.072388   585.662109\n",
       "1272412  -450.681030  -436.324005  -444.340424\n",
       "...              ...          ...          ...\n",
       "1428056  -319.276337  -315.796112  -327.174133\n",
       "1428057  -267.923767  -267.496338  -266.819611\n",
       "1428058  -339.439331  -339.289368  -340.359467\n",
       "1428060  -388.100250  -362.276947  -380.388489\n",
       "1428125   846.366272   921.764038   866.384399\n",
       "\n",
       "[26757 rows x 3 columns]"
      ]
     },
     "execution_count": 137,
     "metadata": {},
     "output_type": "execute_result"
    }
   ],
   "source": [
    "df4_pred1.iloc[:, 6:]"
   ]
  },
  {
   "cell_type": "code",
   "execution_count": 15,
   "id": "171a20f3",
   "metadata": {},
   "outputs": [],
   "source": [
    "X4_pred1 = df4_pred1.iloc[:, 6:].values\n",
    "# y4_pred1 = df4_pred1['theory'].values\n",
    "\n",
    "X4_pred2 = df4_pred2.iloc[:, 6:].values\n",
    "# y4_pred2 = df4_pred2['theory'].values\n",
    "\n",
    "X4_pred3 = df4_pred3.iloc[:, 6:].values\n",
    "# y4_pred3 = df4_pred3['theory'].values\n",
    "\n",
    "X4_pred4 = df4_pred4.iloc[:, 6:].values\n",
    "# X4_pred5 = df4_pred5.iloc[:, 6:].values\n",
    "# X4_pred6 = df4_pred6.iloc[:, 6:].values"
   ]
  },
  {
   "cell_type": "code",
   "execution_count": 16,
   "id": "68782810",
   "metadata": {
    "scrolled": true
   },
   "outputs": [
    {
     "name": "stdout",
     "output_type": "stream",
     "text": [
      "(26798, 3)\n",
      "(26798, 3)\n",
      "(26798, 3)\n",
      "(26798, 3)\n"
     ]
    }
   ],
   "source": [
    "print(X4_pred1.shape)\n",
    "print(X4_pred2.shape)\n",
    "print(X4_pred3.shape)\n",
    "print(X4_pred4.shape)\n",
    "# print(X4_pred5.shape)\n",
    "# print(X4_pred6.shape)"
   ]
  },
  {
   "cell_type": "markdown",
   "id": "298db51c",
   "metadata": {},
   "source": [
    "## Load model"
   ]
  },
  {
   "cell_type": "code",
   "execution_count": null,
   "id": "41c0dc1a",
   "metadata": {},
   "outputs": [],
   "source": [
    "# 5 attributes\n",
    "file = model_path+'model_nonzero_32to38_3layer5unit_300.sav'\n",
    "model = pickle.load(open(file, 'rb'))"
   ]
  },
  {
   "cell_type": "code",
   "execution_count": 17,
   "id": "604e4d6d",
   "metadata": {},
   "outputs": [
    {
     "name": "stderr",
     "output_type": "stream",
     "text": [
      "2023-05-01 23:10:04.111254: I tensorflow/core/platform/cpu_feature_guard.cc:193] This TensorFlow binary is optimized with oneAPI Deep Neural Network Library (oneDNN) to use the following CPU instructions in performance-critical operations:  SSE4.1 SSE4.2 AVX AVX2 FMA\n",
      "To enable them in other operations, rebuild TensorFlow with the appropriate compiler flags.\n"
     ]
    }
   ],
   "source": [
    "# 3 attributes\n",
    "file = model_path+'best_model_nn_optimized.h5'\n",
    "model = load_model(file)"
   ]
  },
  {
   "cell_type": "markdown",
   "id": "5776ab06",
   "metadata": {},
   "source": [
    "# Predict"
   ]
  },
  {
   "cell_type": "code",
   "execution_count": null,
   "id": "d056ffd8",
   "metadata": {},
   "outputs": [],
   "source": [
    "# GO TO Output section"
   ]
  },
  {
   "cell_type": "code",
   "execution_count": 87,
   "id": "2af8daa8",
   "metadata": {},
   "outputs": [],
   "source": [
    "df_test = df_test1\n",
    "df_pred = df4_pred1"
   ]
  },
  {
   "cell_type": "code",
   "execution_count": 88,
   "id": "52987527",
   "metadata": {},
   "outputs": [],
   "source": [
    "X_test = X4_pred1\n",
    "# y_test = y4_pred3"
   ]
  },
  {
   "cell_type": "code",
   "execution_count": null,
   "id": "61481e67",
   "metadata": {},
   "outputs": [],
   "source": []
  },
  {
   "cell_type": "code",
   "execution_count": null,
   "id": "b3b64088",
   "metadata": {},
   "outputs": [],
   "source": [
    "result = model.evaluate(X_test, y_test)\n",
    "print(result)"
   ]
  },
  {
   "cell_type": "code",
   "execution_count": null,
   "id": "c6f22ed2",
   "metadata": {},
   "outputs": [],
   "source": [
    "test_pred = model.predict(X_test)\n",
    "print(mse(test_pred, y_test))\n",
    "print(mape(test_pred, y_test))"
   ]
  },
  {
   "cell_type": "code",
   "execution_count": null,
   "id": "870884e0",
   "metadata": {},
   "outputs": [],
   "source": [
    "np.corrcoef(test_pred.flatten(), y_test)"
   ]
  },
  {
   "cell_type": "markdown",
   "id": "4ded2674",
   "metadata": {},
   "source": [
    "# Plot"
   ]
  },
  {
   "cell_type": "markdown",
   "id": "45215d1e",
   "metadata": {},
   "source": [
    "### Theory vs Predict"
   ]
  },
  {
   "cell_type": "code",
   "execution_count": null,
   "id": "91787bbd",
   "metadata": {},
   "outputs": [],
   "source": [
    "x = y_test.flatten()\n",
    "y = test_pred.flatten()\n",
    "m, b, r, p, st_er = stats.linregress(x,y) \n",
    "\n",
    "yfit = [b + m * xi for xi in x]\n",
    "yisx = [0 + 1 * xi for xi in x]\n",
    "plt.plot(x, yfit)\n",
    "plt.plot(x, yisx)\n",
    "\n",
    "plt.scatter(y_test, test_pred,  color='black')\n",
    "plt.axis([0,100, 0, 100])\n",
    "plt.xlabel(\"Theory (nT)\")\n",
    "plt.ylabel(\"Prediction (nT)\")\n",
    "plt.title(\"Neural Network Prediction vs Theory\", fontsize=15)\n",
    "# print(r, st_er)\n",
    "print(\"r: {:.5f}, st_er: {:.6f}\".format(r, st_er))\n",
    "print(\"y = \"+str(round(m,4))+\"*x + \"+str(round(b,4)))"
   ]
  },
  {
   "cell_type": "markdown",
   "id": "721b3109",
   "metadata": {},
   "source": [
    "# Output data"
   ]
  },
  {
   "cell_type": "markdown",
   "id": "8951263e",
   "metadata": {},
   "source": [
    "## ROI"
   ]
  },
  {
   "cell_type": "markdown",
   "id": "3d8c1657",
   "metadata": {},
   "source": [
    "### Negative"
   ]
  },
  {
   "cell_type": "code",
   "execution_count": 51,
   "id": "29a25841",
   "metadata": {},
   "outputs": [
    {
     "name": "stdout",
     "output_type": "stream",
     "text": [
      "250/250 [==============================] - 0s 725us/step\n"
     ]
    }
   ],
   "source": [
    "test_pred1 = model.predict(X_pred1)"
   ]
  },
  {
   "cell_type": "code",
   "execution_count": 52,
   "id": "04cb43b0",
   "metadata": {},
   "outputs": [],
   "source": [
    "y_pred = y_pred1\n",
    "test_pred = test_pred1"
   ]
  },
  {
   "cell_type": "code",
   "execution_count": 56,
   "id": "3196e681",
   "metadata": {},
   "outputs": [
    {
     "name": "stdout",
     "output_type": "stream",
     "text": [
      "r: 0.90747, st_er: 0.005843\n",
      "y = 1.1288*x + 2.9513\n"
     ]
    },
    {
     "data": {
      "image/png": "[encoded data removed]",
      "text/plain": [
       "<Figure size 640x480 with 1 Axes>"
      ]
     },
     "metadata": {},
     "output_type": "display_data"
    }
   ],
   "source": [
    "x = y_pred.flatten()\n",
    "y = test_pred.flatten()\n",
    "m, b, r, p, st_er = stats.linregress(x,y) \n",
    "\n",
    "yfit = [b + m * xi for xi in x]\n",
    "yisx = [0 + 1 * xi for xi in x]\n",
    "plt.plot(x, yfit)\n",
    "plt.plot(x, yisx)\n",
    "\n",
    "plt.scatter(y_pred, test_pred,  color='black')\n",
    "plt.axis([-5, 5, -10, 20])\n",
    "plt.xlabel(\"Theory (nT)\")\n",
    "plt.ylabel(\"Prediction (nT)\")\n",
    "plt.title(\"Neural Network Prediction vs Theory\", fontsize=15)\n",
    "# print(r, st_er)\n",
    "print(\"r: {:.5f}, st_er: {:.6f}\".format(r, st_er))\n",
    "print(\"y = \"+str(round(m,4))+\"*x + \"+str(round(b,4)))"
   ]
  },
  {
   "cell_type": "markdown",
   "id": "00339623",
   "metadata": {},
   "source": [
    "### Positive"
   ]
  },
  {
   "cell_type": "code",
   "execution_count": 57,
   "id": "7e18a6a3",
   "metadata": {},
   "outputs": [
    {
     "name": "stdout",
     "output_type": "stream",
     "text": [
      "250/250 [==============================] - 0s 797us/step\n"
     ]
    }
   ],
   "source": [
    "test_pred2 = model.predict(X_pred2)"
   ]
  },
  {
   "cell_type": "code",
   "execution_count": 58,
   "id": "c3c236d9",
   "metadata": {},
   "outputs": [],
   "source": [
    "y_pred = y_pred2\n",
    "test_pred = test_pred2"
   ]
  },
  {
   "cell_type": "code",
   "execution_count": 59,
   "id": "41782a46",
   "metadata": {},
   "outputs": [
    {
     "name": "stdout",
     "output_type": "stream",
     "text": [
      "r: 0.92673, st_er: 0.003850\n",
      "y = 0.8494*x + 1.425\n"
     ]
    },
    {
     "data": {
      "image/png": "[encoded data removed]",
      "text/plain": [
       "<Figure size 640x480 with 1 Axes>"
      ]
     },
     "metadata": {},
     "output_type": "display_data"
    }
   ],
   "source": [
    "x = y_pred.flatten()\n",
    "y = test_pred.flatten()\n",
    "m, b, r, p, st_er = stats.linregress(x,y) \n",
    "\n",
    "yfit = [b + m * xi for xi in x]\n",
    "yisx = [0 + 1 * xi for xi in x]\n",
    "plt.plot(x, yfit)\n",
    "plt.plot(x, yisx)\n",
    "\n",
    "plt.scatter(y_pred, test_pred,  color='black')\n",
    "plt.axis([-5, 5, -10, 20])\n",
    "plt.xlabel(\"Theory (nT)\")\n",
    "plt.ylabel(\"Prediction (nT)\")\n",
    "plt.title(\"Neural Network Prediction vs Theory\", fontsize=15)\n",
    "# print(r, st_er)\n",
    "print(\"r: {:.5f}, st_er: {:.6f}\".format(r, st_er))\n",
    "print(\"y = \"+str(round(m,4))+\"*x + \"+str(round(b,4)))"
   ]
  },
  {
   "cell_type": "code",
   "execution_count": 60,
   "id": "a583ab05",
   "metadata": {},
   "outputs": [
    {
     "name": "stderr",
     "output_type": "stream",
     "text": [
      "/var/folders/yd/vkjb_lqj2_30lnyhzhjqtg9w0000gp/T/ipykernel_30393/1578999380.py:1: SettingWithCopyWarning: \n",
      "A value is trying to be set on a copy of a slice from a DataFrame.\n",
      "Try using .loc[row_indexer,col_indexer] = value instead\n",
      "\n",
      "See the caveats in the documentation: https://pandas.pydata.org/pandas-docs/stable/user_guide/indexing.html#returning-a-view-versus-a-copy\n",
      "  df_test1['predict'] = test_pred1\n",
      "/var/folders/yd/vkjb_lqj2_30lnyhzhjqtg9w0000gp/T/ipykernel_30393/1578999380.py:2: SettingWithCopyWarning: \n",
      "A value is trying to be set on a copy of a slice from a DataFrame.\n",
      "Try using .loc[row_indexer,col_indexer] = value instead\n",
      "\n",
      "See the caveats in the documentation: https://pandas.pydata.org/pandas-docs/stable/user_guide/indexing.html#returning-a-view-versus-a-copy\n",
      "  df_test2['predict'] = test_pred2\n"
     ]
    }
   ],
   "source": [
    "df_test1['predict'] = test_pred1\n",
    "df_test2['predict'] = test_pred2"
   ]
  },
  {
   "cell_type": "code",
   "execution_count": 61,
   "id": "415858fa",
   "metadata": {},
   "outputs": [],
   "source": [
    "np.savetxt(img_path+\"nn_optimized_43_1_neg.txt\", df_test1[['i', 'j', 'k', 'predict']], fmt=\"%i %i %i %s\")\n",
    "np.savetxt(img_path+\"nn_optimized_43_1_pos.txt\", df_test2[['i', 'j', 'k', 'predict']], fmt=\"%i %i %i %s\")"
   ]
  },
  {
   "cell_type": "code",
   "execution_count": null,
   "id": "6cc58a1a",
   "metadata": {},
   "outputs": [],
   "source": []
  },
  {
   "cell_type": "markdown",
   "id": "242b2d41",
   "metadata": {},
   "source": [
    "#### Detrend vs Theory"
   ]
  },
  {
   "cell_type": "code",
   "execution_count": 65,
   "id": "95bc65aa",
   "metadata": {},
   "outputs": [],
   "source": [
    "detrend = df_test2['detrend'].values\n",
    "y_pred = df_test2['theory'].values"
   ]
  },
  {
   "cell_type": "code",
   "execution_count": 66,
   "id": "501aefc9",
   "metadata": {},
   "outputs": [
    {
     "name": "stdout",
     "output_type": "stream",
     "text": [
      "r: 0.95367, st_er: 0.002618\n",
      "y = 0.7421*x + 0.1522\n"
     ]
    },
    {
     "data": {
      "image/png": "[encoded data removed]",
      "text/plain": [
       "<Figure size 640x480 with 1 Axes>"
      ]
     },
     "metadata": {},
     "output_type": "display_data"
    }
   ],
   "source": [
    "x = y_pred.flatten()\n",
    "y = detrend.flatten()\n",
    "m, b, r, p, st_er = stats.linregress(x,y) \n",
    "\n",
    "yfit = [b + m * xi for xi in x]\n",
    "yisx = [0 + 1 * xi for xi in x]\n",
    "plt.plot(x, yfit)\n",
    "plt.plot(x, yisx)\n",
    "\n",
    "plt.scatter(y_pred, detrend,  color='black')\n",
    "plt.axis([-5, 5, -10, 20])\n",
    "plt.xlabel(\"Theory (nT)\")\n",
    "plt.ylabel(\"Detrend (nT)\")\n",
    "plt.title(\"Detrend vs Theory\", fontsize=15)\n",
    "# print(r, st_er)\n",
    "print(\"r: {:.5f}, st_er: {:.6f}\".format(r, st_er))\n",
    "print(\"y = \"+str(round(m,4))+\"*x + \"+str(round(b,4)))"
   ]
  },
  {
   "cell_type": "code",
   "execution_count": null,
   "id": "5a4c10b7",
   "metadata": {},
   "outputs": [],
   "source": []
  },
  {
   "cell_type": "markdown",
   "id": "e130f1d6",
   "metadata": {},
   "source": [
    "## No ROI"
   ]
  },
  {
   "cell_type": "code",
   "execution_count": 18,
   "id": "1066c946",
   "metadata": {},
   "outputs": [],
   "source": [
    "df_test = df_test3\n",
    "df_pred = df4_pred3"
   ]
  },
  {
   "cell_type": "code",
   "execution_count": 19,
   "id": "aa169685",
   "metadata": {},
   "outputs": [],
   "source": [
    "X_test = X4_pred3"
   ]
  },
  {
   "cell_type": "code",
   "execution_count": 20,
   "id": "47a966cb",
   "metadata": {},
   "outputs": [
    {
     "name": "stdout",
     "output_type": "stream",
     "text": [
      "838/838 [==============================] - 2s 764us/step\n"
     ]
    }
   ],
   "source": [
    "test_pred = model.predict(X_test)"
   ]
  },
  {
   "cell_type": "code",
   "execution_count": 21,
   "id": "a7cc0e3e",
   "metadata": {},
   "outputs": [
    {
     "name": "stderr",
     "output_type": "stream",
     "text": [
      "/var/folders/yd/vkjb_lqj2_30lnyhzhjqtg9w0000gp/T/ipykernel_5375/255584968.py:1: SettingWithCopyWarning: \n",
      "A value is trying to be set on a copy of a slice from a DataFrame.\n",
      "Try using .loc[row_indexer,col_indexer] = value instead\n",
      "\n",
      "See the caveats in the documentation: https://pandas.pydata.org/pandas-docs/stable/user_guide/indexing.html#returning-a-view-versus-a-copy\n",
      "  df_pred['predict'] = test_pred\n"
     ]
    }
   ],
   "source": [
    "df_pred['predict'] = test_pred"
   ]
  },
  {
   "cell_type": "code",
   "execution_count": 22,
   "id": "de395ca0",
   "metadata": {},
   "outputs": [
    {
     "name": "stderr",
     "output_type": "stream",
     "text": [
      "/var/folders/yd/vkjb_lqj2_30lnyhzhjqtg9w0000gp/T/ipykernel_5375/3257651465.py:1: SettingWithCopyWarning: \n",
      "A value is trying to be set on a copy of a slice from a DataFrame.\n",
      "Try using .loc[row_indexer,col_indexer] = value instead\n",
      "\n",
      "See the caveats in the documentation: https://pandas.pydata.org/pandas-docs/stable/user_guide/indexing.html#returning-a-view-versus-a-copy\n",
      "  df_test['predict'] = 0.00\n"
     ]
    }
   ],
   "source": [
    "df_test['predict'] = 0.00"
   ]
  },
  {
   "cell_type": "code",
   "execution_count": 160,
   "id": "ed15e31a",
   "metadata": {},
   "outputs": [],
   "source": [
    "# 5 attributes\n",
    "df_out = df_test[['i', 'j', 'k', 'predict']]\n",
    "df_pre = df_pred[['i', 'j', 'k', 'predict']]"
   ]
  },
  {
   "cell_type": "code",
   "execution_count": 23,
   "id": "c1fc0730",
   "metadata": {},
   "outputs": [],
   "source": [
    "# 3 attributes\n",
    "df_out = df_test[['i', 'j', 'k', 'neg', 'predict']]\n",
    "df_pre = df_pred[['i', 'j', 'k', 'neg', 'predict']]"
   ]
  },
  {
   "cell_type": "code",
   "execution_count": 162,
   "id": "07ef4fe5",
   "metadata": {},
   "outputs": [],
   "source": [
    "# 5 attributes\n",
    "for x in range(len(df_pre)):\n",
    "    i = df_pre.iloc[x, :]['i'].astype(int)\n",
    "    j = df_pre.iloc[x, :]['j'].astype(int)\n",
    "    k = df_pre.iloc[x, :]['k'].astype(int)\n",
    "    pred = df_pre.iloc[x, :]['predict']\n",
    "    idx = df_out[(df_out['i']==i) & (df_out['j']==j) & (df_out['k']==k)].index\n",
    "    df_out.loc[idx, 'predict']= pred"
   ]
  },
  {
   "cell_type": "code",
   "execution_count": 24,
   "id": "76fc67e5",
   "metadata": {},
   "outputs": [],
   "source": [
    "# 3 attributes\n",
    "for x in range(len(df_pre)):\n",
    "    i = df_pre.iloc[x, :]['i'].astype(int)\n",
    "    j = df_pre.iloc[x, :]['j'].astype(int)\n",
    "    k = df_pre.iloc[x, :]['k'].astype(int)\n",
    "    neg = df_pre.iloc[x, :]['neg'].astype(int)\n",
    "    pred = df_pre.iloc[x, :]['predict']\n",
    "    idx = df_out[(df_out['i']==i) & (df_out['j']==j) & (df_out['k']==k) & (df_out['neg']==neg)].index\n",
    "    df_out.loc[idx, 'predict']= pred"
   ]
  },
  {
   "cell_type": "code",
   "execution_count": 102,
   "id": "c5afadbd",
   "metadata": {},
   "outputs": [
    {
     "data": {
      "text/html": [
       "<div>\n",
       "<style scoped>\n",
       "    .dataframe tbody tr th:only-of-type {\n",
       "        vertical-align: middle;\n",
       "    }\n",
       "\n",
       "    .dataframe tbody tr th {\n",
       "        vertical-align: top;\n",
       "    }\n",
       "\n",
       "    .dataframe thead th {\n",
       "        text-align: right;\n",
       "    }\n",
       "</style>\n",
       "<table border=\"1\" class=\"dataframe\">\n",
       "  <thead>\n",
       "    <tr style=\"text-align: right;\">\n",
       "      <th></th>\n",
       "      <th>i</th>\n",
       "      <th>j</th>\n",
       "      <th>k</th>\n",
       "      <th>neg</th>\n",
       "      <th>predict</th>\n",
       "    </tr>\n",
       "  </thead>\n",
       "  <tbody>\n",
       "    <tr>\n",
       "      <th>1802240</th>\n",
       "      <td>0</td>\n",
       "      <td>0</td>\n",
       "      <td>0</td>\n",
       "      <td>0</td>\n",
       "      <td>0.0</td>\n",
       "    </tr>\n",
       "    <tr>\n",
       "      <th>1802241</th>\n",
       "      <td>0</td>\n",
       "      <td>0</td>\n",
       "      <td>1</td>\n",
       "      <td>0</td>\n",
       "      <td>0.0</td>\n",
       "    </tr>\n",
       "    <tr>\n",
       "      <th>1802242</th>\n",
       "      <td>0</td>\n",
       "      <td>0</td>\n",
       "      <td>2</td>\n",
       "      <td>0</td>\n",
       "      <td>0.0</td>\n",
       "    </tr>\n",
       "    <tr>\n",
       "      <th>1802243</th>\n",
       "      <td>0</td>\n",
       "      <td>0</td>\n",
       "      <td>3</td>\n",
       "      <td>0</td>\n",
       "      <td>0.0</td>\n",
       "    </tr>\n",
       "    <tr>\n",
       "      <th>1802244</th>\n",
       "      <td>0</td>\n",
       "      <td>0</td>\n",
       "      <td>4</td>\n",
       "      <td>0</td>\n",
       "      <td>0.0</td>\n",
       "    </tr>\n",
       "    <tr>\n",
       "      <th>...</th>\n",
       "      <td>...</td>\n",
       "      <td>...</td>\n",
       "      <td>...</td>\n",
       "      <td>...</td>\n",
       "      <td>...</td>\n",
       "    </tr>\n",
       "    <tr>\n",
       "      <th>1982459</th>\n",
       "      <td>43</td>\n",
       "      <td>63</td>\n",
       "      <td>59</td>\n",
       "      <td>0</td>\n",
       "      <td>0.0</td>\n",
       "    </tr>\n",
       "    <tr>\n",
       "      <th>1982460</th>\n",
       "      <td>43</td>\n",
       "      <td>63</td>\n",
       "      <td>60</td>\n",
       "      <td>0</td>\n",
       "      <td>0.0</td>\n",
       "    </tr>\n",
       "    <tr>\n",
       "      <th>1982461</th>\n",
       "      <td>43</td>\n",
       "      <td>63</td>\n",
       "      <td>61</td>\n",
       "      <td>0</td>\n",
       "      <td>0.0</td>\n",
       "    </tr>\n",
       "    <tr>\n",
       "      <th>1982462</th>\n",
       "      <td>43</td>\n",
       "      <td>63</td>\n",
       "      <td>62</td>\n",
       "      <td>0</td>\n",
       "      <td>0.0</td>\n",
       "    </tr>\n",
       "    <tr>\n",
       "      <th>1982463</th>\n",
       "      <td>43</td>\n",
       "      <td>63</td>\n",
       "      <td>63</td>\n",
       "      <td>0</td>\n",
       "      <td>0.0</td>\n",
       "    </tr>\n",
       "  </tbody>\n",
       "</table>\n",
       "<p>180224 rows × 5 columns</p>\n",
       "</div>"
      ],
      "text/plain": [
       "          i   j   k  neg  predict\n",
       "1802240   0   0   0    0      0.0\n",
       "1802241   0   0   1    0      0.0\n",
       "1802242   0   0   2    0      0.0\n",
       "1802243   0   0   3    0      0.0\n",
       "1802244   0   0   4    0      0.0\n",
       "...      ..  ..  ..  ...      ...\n",
       "1982459  43  63  59    0      0.0\n",
       "1982460  43  63  60    0      0.0\n",
       "1982461  43  63  61    0      0.0\n",
       "1982462  43  63  62    0      0.0\n",
       "1982463  43  63  63    0      0.0\n",
       "\n",
       "[180224 rows x 5 columns]"
      ]
     },
     "execution_count": 102,
     "metadata": {},
     "output_type": "execute_result"
    }
   ],
   "source": [
    "df_out"
   ]
  },
  {
   "cell_type": "code",
   "execution_count": 164,
   "id": "86d118ef",
   "metadata": {},
   "outputs": [],
   "source": [
    "# 5 attributes\n",
    "np.savetxt(img_path+\"nn_nonzero_neg_40_7_pos_erode_cly_2.txt\", df_out[['i', 'j', 'k', 'predict']], fmt=\"%i %i %i %s\")"
   ]
  },
  {
   "cell_type": "code",
   "execution_count": 116,
   "id": "62f90584",
   "metadata": {},
   "outputs": [],
   "source": [
    "# 3 attributes\n",
    "# df_pos = df_out[df_out['neg']==0]\n",
    "# df_neg = df_out[df_out['neg']==1]\n",
    "# np.savetxt(img_path+\"nn_nonzero_neg_40_1_pos_erode_cly.txt\", df_pos[['i', 'j', 'k', 'predict']], fmt=\"%i %i %i %s\")\n",
    "# np.savetxt(img_path+\"nn_nonzero_neg_40_1_neg_erode_cly.txt\", df_neg[['i', 'j', 'k', 'predict']], fmt=\"%i %i %i %s\")"
   ]
  },
  {
   "cell_type": "code",
   "execution_count": 25,
   "id": "6ef9c207",
   "metadata": {},
   "outputs": [],
   "source": [
    "# New 3 attributes\n",
    "np.savetxt(img_path+\"nn_nonzero_best_cly_44_2_neg_2.txt\", df_out[['i', 'j', 'k', 'predict']], fmt=\"%i %i %i %s\")"
   ]
  },
  {
   "cell_type": "code",
   "execution_count": null,
   "id": "0ab05d2f",
   "metadata": {},
   "outputs": [],
   "source": []
  },
  {
   "cell_type": "code",
   "execution_count": null,
   "id": "f7457e89",
   "metadata": {},
   "outputs": [],
   "source": []
  },
  {
   "cell_type": "code",
   "execution_count": null,
   "id": "ad92f085",
   "metadata": {},
   "outputs": [],
   "source": []
  },
  {
   "cell_type": "code",
   "execution_count": null,
   "id": "03d7441e",
   "metadata": {},
   "outputs": [],
   "source": []
  },
  {
   "cell_type": "code",
   "execution_count": null,
   "id": "55ac5a38",
   "metadata": {},
   "outputs": [],
   "source": []
  },
  {
   "cell_type": "code",
   "execution_count": 115,
   "id": "3aa2e55b",
   "metadata": {},
   "outputs": [
    {
     "data": {
      "text/html": [
       "<div>\n",
       "<style scoped>\n",
       "    .dataframe tbody tr th:only-of-type {\n",
       "        vertical-align: middle;\n",
       "    }\n",
       "\n",
       "    .dataframe tbody tr th {\n",
       "        vertical-align: top;\n",
       "    }\n",
       "\n",
       "    .dataframe thead th {\n",
       "        text-align: right;\n",
       "    }\n",
       "</style>\n",
       "<table border=\"1\" class=\"dataframe\">\n",
       "  <thead>\n",
       "    <tr style=\"text-align: right;\">\n",
       "      <th></th>\n",
       "      <th>exp</th>\n",
       "      <th>mini_exp</th>\n",
       "      <th>i</th>\n",
       "      <th>j</th>\n",
       "      <th>k</th>\n",
       "      <th>amp</th>\n",
       "      <th>neg</th>\n",
       "      <th>mean0</th>\n",
       "      <th>mean1</th>\n",
       "      <th>mean2</th>\n",
       "      <th>theory</th>\n",
       "      <th>predict</th>\n",
       "    </tr>\n",
       "  </thead>\n",
       "  <tbody>\n",
       "    <tr>\n",
       "      <th>190298</th>\n",
       "      <td>42</td>\n",
       "      <td>1</td>\n",
       "      <td>2</td>\n",
       "      <td>29</td>\n",
       "      <td>26</td>\n",
       "      <td>2</td>\n",
       "      <td>1</td>\n",
       "      <td>-974.554504</td>\n",
       "      <td>-988.312378</td>\n",
       "      <td>-973.724548</td>\n",
       "      <td>0.798312</td>\n",
       "      <td>-10.822295</td>\n",
       "    </tr>\n",
       "    <tr>\n",
       "      <th>190300</th>\n",
       "      <td>42</td>\n",
       "      <td>1</td>\n",
       "      <td>2</td>\n",
       "      <td>29</td>\n",
       "      <td>28</td>\n",
       "      <td>2</td>\n",
       "      <td>1</td>\n",
       "      <td>-102.585724</td>\n",
       "      <td>-143.370544</td>\n",
       "      <td>-117.800835</td>\n",
       "      <td>0.819827</td>\n",
       "      <td>-32.550446</td>\n",
       "    </tr>\n",
       "    <tr>\n",
       "      <th>190361</th>\n",
       "      <td>42</td>\n",
       "      <td>1</td>\n",
       "      <td>2</td>\n",
       "      <td>30</td>\n",
       "      <td>25</td>\n",
       "      <td>2</td>\n",
       "      <td>1</td>\n",
       "      <td>-808.987488</td>\n",
       "      <td>-804.097961</td>\n",
       "      <td>-796.817200</td>\n",
       "      <td>0.786963</td>\n",
       "      <td>-0.599734</td>\n",
       "    </tr>\n",
       "    <tr>\n",
       "      <th>190362</th>\n",
       "      <td>42</td>\n",
       "      <td>1</td>\n",
       "      <td>2</td>\n",
       "      <td>30</td>\n",
       "      <td>26</td>\n",
       "      <td>2</td>\n",
       "      <td>1</td>\n",
       "      <td>-1018.710083</td>\n",
       "      <td>-1042.302490</td>\n",
       "      <td>-1022.633850</td>\n",
       "      <td>0.797582</td>\n",
       "      <td>-16.952923</td>\n",
       "    </tr>\n",
       "    <tr>\n",
       "      <th>194077</th>\n",
       "      <td>42</td>\n",
       "      <td>1</td>\n",
       "      <td>3</td>\n",
       "      <td>24</td>\n",
       "      <td>29</td>\n",
       "      <td>2</td>\n",
       "      <td>1</td>\n",
       "      <td>-345.069885</td>\n",
       "      <td>-351.042358</td>\n",
       "      <td>-337.602417</td>\n",
       "      <td>0.837726</td>\n",
       "      <td>-7.687072</td>\n",
       "    </tr>\n",
       "    <tr>\n",
       "      <th>...</th>\n",
       "      <td>...</td>\n",
       "      <td>...</td>\n",
       "      <td>...</td>\n",
       "      <td>...</td>\n",
       "      <td>...</td>\n",
       "      <td>...</td>\n",
       "      <td>...</td>\n",
       "      <td>...</td>\n",
       "      <td>...</td>\n",
       "      <td>...</td>\n",
       "      <td>...</td>\n",
       "      <td>...</td>\n",
       "    </tr>\n",
       "    <tr>\n",
       "      <th>346016</th>\n",
       "      <td>42</td>\n",
       "      <td>1</td>\n",
       "      <td>40</td>\n",
       "      <td>30</td>\n",
       "      <td>32</td>\n",
       "      <td>2</td>\n",
       "      <td>1</td>\n",
       "      <td>499.902985</td>\n",
       "      <td>502.789764</td>\n",
       "      <td>508.389282</td>\n",
       "      <td>1.120325</td>\n",
       "      <td>-0.439261</td>\n",
       "    </tr>\n",
       "    <tr>\n",
       "      <th>346069</th>\n",
       "      <td>42</td>\n",
       "      <td>1</td>\n",
       "      <td>40</td>\n",
       "      <td>31</td>\n",
       "      <td>21</td>\n",
       "      <td>2</td>\n",
       "      <td>1</td>\n",
       "      <td>-799.488831</td>\n",
       "      <td>-320.193604</td>\n",
       "      <td>3493.769287</td>\n",
       "      <td>0.942770</td>\n",
       "      <td>0.801806</td>\n",
       "    </tr>\n",
       "    <tr>\n",
       "      <th>346070</th>\n",
       "      <td>42</td>\n",
       "      <td>1</td>\n",
       "      <td>40</td>\n",
       "      <td>31</td>\n",
       "      <td>22</td>\n",
       "      <td>2</td>\n",
       "      <td>1</td>\n",
       "      <td>-875.329651</td>\n",
       "      <td>-849.496460</td>\n",
       "      <td>-857.573242</td>\n",
       "      <td>0.957650</td>\n",
       "      <td>6.918746</td>\n",
       "    </tr>\n",
       "    <tr>\n",
       "      <th>346132</th>\n",
       "      <td>42</td>\n",
       "      <td>1</td>\n",
       "      <td>40</td>\n",
       "      <td>32</td>\n",
       "      <td>20</td>\n",
       "      <td>2</td>\n",
       "      <td>1</td>\n",
       "      <td>-550.844604</td>\n",
       "      <td>-898.714355</td>\n",
       "      <td>-763.393127</td>\n",
       "      <td>0.927170</td>\n",
       "      <td>-58.171696</td>\n",
       "    </tr>\n",
       "    <tr>\n",
       "      <th>346133</th>\n",
       "      <td>42</td>\n",
       "      <td>1</td>\n",
       "      <td>40</td>\n",
       "      <td>32</td>\n",
       "      <td>21</td>\n",
       "      <td>2</td>\n",
       "      <td>1</td>\n",
       "      <td>-799.810852</td>\n",
       "      <td>-841.443970</td>\n",
       "      <td>-821.722473</td>\n",
       "      <td>0.941901</td>\n",
       "      <td>-27.995813</td>\n",
       "    </tr>\n",
       "  </tbody>\n",
       "</table>\n",
       "<p>27128 rows × 12 columns</p>\n",
       "</div>"
      ],
      "text/plain": [
       "        exp  mini_exp   i   j   k  amp  neg        mean0        mean1  \\\n",
       "190298   42         1   2  29  26    2    1  -974.554504  -988.312378   \n",
       "190300   42         1   2  29  28    2    1  -102.585724  -143.370544   \n",
       "190361   42         1   2  30  25    2    1  -808.987488  -804.097961   \n",
       "190362   42         1   2  30  26    2    1 -1018.710083 -1042.302490   \n",
       "194077   42         1   3  24  29    2    1  -345.069885  -351.042358   \n",
       "...     ...       ...  ..  ..  ..  ...  ...          ...          ...   \n",
       "346016   42         1  40  30  32    2    1   499.902985   502.789764   \n",
       "346069   42         1  40  31  21    2    1  -799.488831  -320.193604   \n",
       "346070   42         1  40  31  22    2    1  -875.329651  -849.496460   \n",
       "346132   42         1  40  32  20    2    1  -550.844604  -898.714355   \n",
       "346133   42         1  40  32  21    2    1  -799.810852  -841.443970   \n",
       "\n",
       "              mean2    theory    predict  \n",
       "190298  -973.724548  0.798312 -10.822295  \n",
       "190300  -117.800835  0.819827 -32.550446  \n",
       "190361  -796.817200  0.786963  -0.599734  \n",
       "190362 -1022.633850  0.797582 -16.952923  \n",
       "194077  -337.602417  0.837726  -7.687072  \n",
       "...             ...       ...        ...  \n",
       "346016   508.389282  1.120325  -0.439261  \n",
       "346069  3493.769287  0.942770   0.801806  \n",
       "346070  -857.573242  0.957650   6.918746  \n",
       "346132  -763.393127  0.927170 -58.171696  \n",
       "346133  -821.722473  0.941901 -27.995813  \n",
       "\n",
       "[27128 rows x 12 columns]"
      ]
     },
     "execution_count": 115,
     "metadata": {},
     "output_type": "execute_result"
    }
   ],
   "source": [
    "df4_pred1['theory']"
   ]
  },
  {
   "cell_type": "code",
   "execution_count": 116,
   "id": "37f14d5b",
   "metadata": {},
   "outputs": [],
   "source": [
    "y_pred = df4_pred1['theory'].values"
   ]
  },
  {
   "cell_type": "code",
   "execution_count": 121,
   "id": "24c8937d",
   "metadata": {},
   "outputs": [
    {
     "name": "stdout",
     "output_type": "stream",
     "text": [
      "r: 0.03073, st_er: 0.985489\n",
      "y = 4.9907*x + -5.6763\n"
     ]
    },
    {
     "data": {
      "image/png": "[encoded data removed]",
      "text/plain": [
       "<Figure size 640x480 with 1 Axes>"
      ]
     },
     "metadata": {},
     "output_type": "display_data"
    }
   ],
   "source": [
    "x = df4_pred1['theory'].values.flatten()\n",
    "y = df4_pred1['predict'].values.flatten()\n",
    "m, b, r, p, st_er = stats.linregress(x,y) \n",
    "\n",
    "yfit = [b + m * xi for xi in x]\n",
    "yisx = [0 + 1 * xi for xi in x]\n",
    "plt.plot(x, yfit)\n",
    "plt.plot(x, yisx)\n",
    "\n",
    "plt.scatter(y_pred, test_pred,  color='black')\n",
    "plt.axis([-5, 5, -10, 20])\n",
    "plt.xlabel(\"Theory (nT)\")\n",
    "plt.ylabel(\"Prediction (nT)\")\n",
    "plt.title(\"Neural Network Prediction vs Theory\", fontsize=15)\n",
    "# print(r, st_er)\n",
    "print(\"r: {:.5f}, st_er: {:.6f}\".format(r, st_er))\n",
    "print(\"y = \"+str(round(m,4))+\"*x + \"+str(round(b,4)))"
   ]
  }
 ],
 "metadata": {
  "kernelspec": {
   "display_name": "Python 3 (ipykernel)",
   "language": "python",
   "name": "python3"
  },
  "language_info": {
   "codemirror_mode": {
    "name": "ipython",
    "version": 3
   },
   "file_extension": ".py",
   "mimetype": "text/x-python",
   "name": "python",
   "nbconvert_exporter": "python",
   "pygments_lexer": "ipython3",
   "version": "3.10.6"
  }
 },
 "nbformat": 4,
 "nbformat_minor": 5
}
