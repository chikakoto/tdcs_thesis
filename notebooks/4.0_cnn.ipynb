{
 "cells": [
  {
   "cell_type": "code",
   "execution_count": 1,
   "metadata": {},
   "outputs": [],
   "source": [
    "import pandas as pd\n",
    "import numpy as np\n",
    "import matplotlib.pyplot as plt\n",
    "from scipy import stats\n",
    "from sklearn.metrics import mean_squared_error as mse\n",
    "from sklearn.metrics import mean_absolute_percentage_error as mape\n",
    "from sklearn.model_selection import train_test_split\n",
    "from sklearn.metrics import r2_score\n",
    "\n",
    "#\n",
    "import tensorflow as tf\n",
    "from tensorflow import keras\n",
    "from tensorflow.keras import layers\n",
    "from tensorflow.keras.layers import Conv1D, MaxPooling1D, Conv1D, MaxPooling1D, Dropout, Flatten, Dense\n"
   ]
  },
  {
   "cell_type": "markdown",
   "metadata": {},
   "source": [
    "# Load prepared data"
   ]
  },
  {
   "cell_type": "code",
   "execution_count": 6,
   "metadata": {},
   "outputs": [],
   "source": [
    "save_path = \"/Users/chikakoolsen/opt/python/thesis/code/tdcs_thesis/data/raw/\""
   ]
  },
  {
   "cell_type": "markdown",
   "metadata": {},
   "source": [
    "## fmap mean all experiments"
   ]
  },
  {
   "cell_type": "code",
   "execution_count": 7,
   "metadata": {},
   "outputs": [],
   "source": [
    "file_mean = save_path+\"fmap_mean.txt\"\n",
    "columns_mean =['exp', 'mini_exp', 'i', 'j', 'k', 'mean0', 'mean1', 'mean2', 'mean3', 'mean4', 'theory']\n",
    "data = np.loadtxt(file_mean);"
   ]
  },
  {
   "cell_type": "code",
   "execution_count": 8,
   "metadata": {},
   "outputs": [],
   "source": [
    "df = pd.DataFrame(data, columns=columns_mean)\n",
    "df = df.astype({\"exp\": int, \"i\": int, \"j\": int, \"k\": int, \"mini_exp\": int})"
   ]
  },
  {
   "cell_type": "code",
   "execution_count": 9,
   "metadata": {},
   "outputs": [
    {
     "name": "stdout",
     "output_type": "stream",
     "text": [
      "<class 'pandas.core.frame.DataFrame'>\n",
      "RangeIndex: 3244032 entries, 0 to 3244031\n",
      "Data columns (total 11 columns):\n",
      " #   Column    Dtype  \n",
      "---  ------    -----  \n",
      " 0   exp       int64  \n",
      " 1   mini_exp  int64  \n",
      " 2   i         int64  \n",
      " 3   j         int64  \n",
      " 4   k         int64  \n",
      " 5   mean0     float64\n",
      " 6   mean1     float64\n",
      " 7   mean2     float64\n",
      " 8   mean3     float64\n",
      " 9   mean4     float64\n",
      " 10  theory    float64\n",
      "dtypes: float64(6), int64(5)\n",
      "memory usage: 272.3 MB\n"
     ]
    }
   ],
   "source": [
    "df.info()"
   ]
  },
  {
   "cell_type": "markdown",
   "metadata": {},
   "source": [
    "## 55 fmap means"
   ]
  },
  {
   "cell_type": "code",
   "execution_count": 5,
   "metadata": {},
   "outputs": [],
   "source": [
    "arr = [4, 6, 8, 10, 12]\n",
    "col = []\n",
    "for i in range(len(arr)):\n",
    "    for j in range(1, 12):\n",
    "        name = str(arr[i])+'_'+str(j+1)+'m'+str(j)\n",
    "        col.append(name)"
   ]
  },
  {
   "cell_type": "code",
   "execution_count": 6,
   "metadata": {},
   "outputs": [],
   "source": [
    "file_name = save_path+\"fmap_mean_55.txt\"\n",
    "columns = ['exp', 'mini_exp', 'i', 'j', 'k']\n",
    "for i in range(len(col)): \n",
    "    columns.append(col[i])\n",
    "columns.append('theory')\n",
    "data = np.loadtxt(file_name);"
   ]
  },
  {
   "cell_type": "code",
   "execution_count": 7,
   "metadata": {},
   "outputs": [
    {
     "data": {
      "text/html": [
       "<div>\n",
       "<style scoped>\n",
       "    .dataframe tbody tr th:only-of-type {\n",
       "        vertical-align: middle;\n",
       "    }\n",
       "\n",
       "    .dataframe tbody tr th {\n",
       "        vertical-align: top;\n",
       "    }\n",
       "\n",
       "    .dataframe thead th {\n",
       "        text-align: right;\n",
       "    }\n",
       "</style>\n",
       "<table border=\"1\" class=\"dataframe\">\n",
       "  <thead>\n",
       "    <tr style=\"text-align: right;\">\n",
       "      <th></th>\n",
       "      <th>exp</th>\n",
       "      <th>mini_exp</th>\n",
       "      <th>i</th>\n",
       "      <th>j</th>\n",
       "      <th>k</th>\n",
       "      <th>4_2m1</th>\n",
       "      <th>4_3m2</th>\n",
       "      <th>4_4m3</th>\n",
       "      <th>4_5m4</th>\n",
       "      <th>4_6m5</th>\n",
       "      <th>...</th>\n",
       "      <th>12_4m3</th>\n",
       "      <th>12_5m4</th>\n",
       "      <th>12_6m5</th>\n",
       "      <th>12_7m6</th>\n",
       "      <th>12_8m7</th>\n",
       "      <th>12_9m8</th>\n",
       "      <th>12_10m9</th>\n",
       "      <th>12_11m10</th>\n",
       "      <th>12_12m11</th>\n",
       "      <th>theory</th>\n",
       "    </tr>\n",
       "  </thead>\n",
       "  <tbody>\n",
       "    <tr>\n",
       "      <th>0</th>\n",
       "      <td>36</td>\n",
       "      <td>1</td>\n",
       "      <td>0</td>\n",
       "      <td>0</td>\n",
       "      <td>0</td>\n",
       "      <td>0.0</td>\n",
       "      <td>0.0</td>\n",
       "      <td>0.0</td>\n",
       "      <td>0.0</td>\n",
       "      <td>0.0</td>\n",
       "      <td>...</td>\n",
       "      <td>0.0</td>\n",
       "      <td>0.0</td>\n",
       "      <td>0.0</td>\n",
       "      <td>0.0</td>\n",
       "      <td>0.0</td>\n",
       "      <td>0.0</td>\n",
       "      <td>0.0</td>\n",
       "      <td>0.0</td>\n",
       "      <td>0.0</td>\n",
       "      <td>0.0</td>\n",
       "    </tr>\n",
       "    <tr>\n",
       "      <th>1</th>\n",
       "      <td>36</td>\n",
       "      <td>1</td>\n",
       "      <td>0</td>\n",
       "      <td>0</td>\n",
       "      <td>1</td>\n",
       "      <td>0.0</td>\n",
       "      <td>0.0</td>\n",
       "      <td>0.0</td>\n",
       "      <td>0.0</td>\n",
       "      <td>0.0</td>\n",
       "      <td>...</td>\n",
       "      <td>0.0</td>\n",
       "      <td>0.0</td>\n",
       "      <td>0.0</td>\n",
       "      <td>0.0</td>\n",
       "      <td>0.0</td>\n",
       "      <td>0.0</td>\n",
       "      <td>0.0</td>\n",
       "      <td>0.0</td>\n",
       "      <td>0.0</td>\n",
       "      <td>0.0</td>\n",
       "    </tr>\n",
       "    <tr>\n",
       "      <th>2</th>\n",
       "      <td>36</td>\n",
       "      <td>1</td>\n",
       "      <td>0</td>\n",
       "      <td>0</td>\n",
       "      <td>2</td>\n",
       "      <td>0.0</td>\n",
       "      <td>0.0</td>\n",
       "      <td>0.0</td>\n",
       "      <td>0.0</td>\n",
       "      <td>0.0</td>\n",
       "      <td>...</td>\n",
       "      <td>0.0</td>\n",
       "      <td>0.0</td>\n",
       "      <td>0.0</td>\n",
       "      <td>0.0</td>\n",
       "      <td>0.0</td>\n",
       "      <td>0.0</td>\n",
       "      <td>0.0</td>\n",
       "      <td>0.0</td>\n",
       "      <td>0.0</td>\n",
       "      <td>0.0</td>\n",
       "    </tr>\n",
       "    <tr>\n",
       "      <th>3</th>\n",
       "      <td>36</td>\n",
       "      <td>1</td>\n",
       "      <td>0</td>\n",
       "      <td>0</td>\n",
       "      <td>3</td>\n",
       "      <td>0.0</td>\n",
       "      <td>0.0</td>\n",
       "      <td>0.0</td>\n",
       "      <td>0.0</td>\n",
       "      <td>0.0</td>\n",
       "      <td>...</td>\n",
       "      <td>0.0</td>\n",
       "      <td>0.0</td>\n",
       "      <td>0.0</td>\n",
       "      <td>0.0</td>\n",
       "      <td>0.0</td>\n",
       "      <td>0.0</td>\n",
       "      <td>0.0</td>\n",
       "      <td>0.0</td>\n",
       "      <td>0.0</td>\n",
       "      <td>0.0</td>\n",
       "    </tr>\n",
       "    <tr>\n",
       "      <th>4</th>\n",
       "      <td>36</td>\n",
       "      <td>1</td>\n",
       "      <td>0</td>\n",
       "      <td>0</td>\n",
       "      <td>4</td>\n",
       "      <td>0.0</td>\n",
       "      <td>0.0</td>\n",
       "      <td>0.0</td>\n",
       "      <td>0.0</td>\n",
       "      <td>0.0</td>\n",
       "      <td>...</td>\n",
       "      <td>0.0</td>\n",
       "      <td>0.0</td>\n",
       "      <td>0.0</td>\n",
       "      <td>0.0</td>\n",
       "      <td>0.0</td>\n",
       "      <td>0.0</td>\n",
       "      <td>0.0</td>\n",
       "      <td>0.0</td>\n",
       "      <td>0.0</td>\n",
       "      <td>0.0</td>\n",
       "    </tr>\n",
       "    <tr>\n",
       "      <th>...</th>\n",
       "      <td>...</td>\n",
       "      <td>...</td>\n",
       "      <td>...</td>\n",
       "      <td>...</td>\n",
       "      <td>...</td>\n",
       "      <td>...</td>\n",
       "      <td>...</td>\n",
       "      <td>...</td>\n",
       "      <td>...</td>\n",
       "      <td>...</td>\n",
       "      <td>...</td>\n",
       "      <td>...</td>\n",
       "      <td>...</td>\n",
       "      <td>...</td>\n",
       "      <td>...</td>\n",
       "      <td>...</td>\n",
       "      <td>...</td>\n",
       "      <td>...</td>\n",
       "      <td>...</td>\n",
       "      <td>...</td>\n",
       "      <td>...</td>\n",
       "    </tr>\n",
       "    <tr>\n",
       "      <th>3244027</th>\n",
       "      <td>38</td>\n",
       "      <td>6</td>\n",
       "      <td>43</td>\n",
       "      <td>63</td>\n",
       "      <td>59</td>\n",
       "      <td>0.0</td>\n",
       "      <td>0.0</td>\n",
       "      <td>0.0</td>\n",
       "      <td>0.0</td>\n",
       "      <td>0.0</td>\n",
       "      <td>...</td>\n",
       "      <td>0.0</td>\n",
       "      <td>0.0</td>\n",
       "      <td>0.0</td>\n",
       "      <td>0.0</td>\n",
       "      <td>0.0</td>\n",
       "      <td>0.0</td>\n",
       "      <td>0.0</td>\n",
       "      <td>0.0</td>\n",
       "      <td>0.0</td>\n",
       "      <td>0.0</td>\n",
       "    </tr>\n",
       "    <tr>\n",
       "      <th>3244028</th>\n",
       "      <td>38</td>\n",
       "      <td>6</td>\n",
       "      <td>43</td>\n",
       "      <td>63</td>\n",
       "      <td>60</td>\n",
       "      <td>0.0</td>\n",
       "      <td>0.0</td>\n",
       "      <td>0.0</td>\n",
       "      <td>0.0</td>\n",
       "      <td>0.0</td>\n",
       "      <td>...</td>\n",
       "      <td>0.0</td>\n",
       "      <td>0.0</td>\n",
       "      <td>0.0</td>\n",
       "      <td>0.0</td>\n",
       "      <td>0.0</td>\n",
       "      <td>0.0</td>\n",
       "      <td>0.0</td>\n",
       "      <td>0.0</td>\n",
       "      <td>0.0</td>\n",
       "      <td>0.0</td>\n",
       "    </tr>\n",
       "    <tr>\n",
       "      <th>3244029</th>\n",
       "      <td>38</td>\n",
       "      <td>6</td>\n",
       "      <td>43</td>\n",
       "      <td>63</td>\n",
       "      <td>61</td>\n",
       "      <td>0.0</td>\n",
       "      <td>0.0</td>\n",
       "      <td>0.0</td>\n",
       "      <td>0.0</td>\n",
       "      <td>0.0</td>\n",
       "      <td>...</td>\n",
       "      <td>0.0</td>\n",
       "      <td>0.0</td>\n",
       "      <td>0.0</td>\n",
       "      <td>0.0</td>\n",
       "      <td>0.0</td>\n",
       "      <td>0.0</td>\n",
       "      <td>0.0</td>\n",
       "      <td>0.0</td>\n",
       "      <td>0.0</td>\n",
       "      <td>0.0</td>\n",
       "    </tr>\n",
       "    <tr>\n",
       "      <th>3244030</th>\n",
       "      <td>38</td>\n",
       "      <td>6</td>\n",
       "      <td>43</td>\n",
       "      <td>63</td>\n",
       "      <td>62</td>\n",
       "      <td>0.0</td>\n",
       "      <td>0.0</td>\n",
       "      <td>0.0</td>\n",
       "      <td>0.0</td>\n",
       "      <td>0.0</td>\n",
       "      <td>...</td>\n",
       "      <td>0.0</td>\n",
       "      <td>0.0</td>\n",
       "      <td>0.0</td>\n",
       "      <td>0.0</td>\n",
       "      <td>0.0</td>\n",
       "      <td>0.0</td>\n",
       "      <td>0.0</td>\n",
       "      <td>0.0</td>\n",
       "      <td>0.0</td>\n",
       "      <td>0.0</td>\n",
       "    </tr>\n",
       "    <tr>\n",
       "      <th>3244031</th>\n",
       "      <td>38</td>\n",
       "      <td>6</td>\n",
       "      <td>43</td>\n",
       "      <td>63</td>\n",
       "      <td>63</td>\n",
       "      <td>0.0</td>\n",
       "      <td>0.0</td>\n",
       "      <td>0.0</td>\n",
       "      <td>0.0</td>\n",
       "      <td>0.0</td>\n",
       "      <td>...</td>\n",
       "      <td>0.0</td>\n",
       "      <td>0.0</td>\n",
       "      <td>0.0</td>\n",
       "      <td>0.0</td>\n",
       "      <td>0.0</td>\n",
       "      <td>0.0</td>\n",
       "      <td>0.0</td>\n",
       "      <td>0.0</td>\n",
       "      <td>0.0</td>\n",
       "      <td>0.0</td>\n",
       "    </tr>\n",
       "  </tbody>\n",
       "</table>\n",
       "<p>3244032 rows × 61 columns</p>\n",
       "</div>"
      ],
      "text/plain": [
       "         exp  mini_exp   i   j   k  4_2m1  4_3m2  4_4m3  4_5m4  4_6m5  ...  \\\n",
       "0         36         1   0   0   0    0.0    0.0    0.0    0.0    0.0  ...   \n",
       "1         36         1   0   0   1    0.0    0.0    0.0    0.0    0.0  ...   \n",
       "2         36         1   0   0   2    0.0    0.0    0.0    0.0    0.0  ...   \n",
       "3         36         1   0   0   3    0.0    0.0    0.0    0.0    0.0  ...   \n",
       "4         36         1   0   0   4    0.0    0.0    0.0    0.0    0.0  ...   \n",
       "...      ...       ...  ..  ..  ..    ...    ...    ...    ...    ...  ...   \n",
       "3244027   38         6  43  63  59    0.0    0.0    0.0    0.0    0.0  ...   \n",
       "3244028   38         6  43  63  60    0.0    0.0    0.0    0.0    0.0  ...   \n",
       "3244029   38         6  43  63  61    0.0    0.0    0.0    0.0    0.0  ...   \n",
       "3244030   38         6  43  63  62    0.0    0.0    0.0    0.0    0.0  ...   \n",
       "3244031   38         6  43  63  63    0.0    0.0    0.0    0.0    0.0  ...   \n",
       "\n",
       "         12_4m3  12_5m4  12_6m5  12_7m6  12_8m7  12_9m8  12_10m9  12_11m10  \\\n",
       "0           0.0     0.0     0.0     0.0     0.0     0.0      0.0       0.0   \n",
       "1           0.0     0.0     0.0     0.0     0.0     0.0      0.0       0.0   \n",
       "2           0.0     0.0     0.0     0.0     0.0     0.0      0.0       0.0   \n",
       "3           0.0     0.0     0.0     0.0     0.0     0.0      0.0       0.0   \n",
       "4           0.0     0.0     0.0     0.0     0.0     0.0      0.0       0.0   \n",
       "...         ...     ...     ...     ...     ...     ...      ...       ...   \n",
       "3244027     0.0     0.0     0.0     0.0     0.0     0.0      0.0       0.0   \n",
       "3244028     0.0     0.0     0.0     0.0     0.0     0.0      0.0       0.0   \n",
       "3244029     0.0     0.0     0.0     0.0     0.0     0.0      0.0       0.0   \n",
       "3244030     0.0     0.0     0.0     0.0     0.0     0.0      0.0       0.0   \n",
       "3244031     0.0     0.0     0.0     0.0     0.0     0.0      0.0       0.0   \n",
       "\n",
       "         12_12m11  theory  \n",
       "0             0.0     0.0  \n",
       "1             0.0     0.0  \n",
       "2             0.0     0.0  \n",
       "3             0.0     0.0  \n",
       "4             0.0     0.0  \n",
       "...           ...     ...  \n",
       "3244027       0.0     0.0  \n",
       "3244028       0.0     0.0  \n",
       "3244029       0.0     0.0  \n",
       "3244030       0.0     0.0  \n",
       "3244031       0.0     0.0  \n",
       "\n",
       "[3244032 rows x 61 columns]"
      ]
     },
     "execution_count": 7,
     "metadata": {},
     "output_type": "execute_result"
    }
   ],
   "source": [
    "df_55 = pd.DataFrame(data, columns=columns)\n",
    "df_55 = df_55.astype({\"exp\": int, \"i\": int, \"j\": int, \"k\": int, \"mini_exp\": int})\n",
    "df_55"
   ]
  },
  {
   "cell_type": "code",
   "execution_count": 8,
   "metadata": {},
   "outputs": [
    {
     "name": "stdout",
     "output_type": "stream",
     "text": [
      "<class 'pandas.core.frame.DataFrame'>\n",
      "RangeIndex: 3244032 entries, 0 to 3244031\n",
      "Data columns (total 61 columns):\n",
      " #   Column    Dtype  \n",
      "---  ------    -----  \n",
      " 0   exp       int64  \n",
      " 1   mini_exp  int64  \n",
      " 2   i         int64  \n",
      " 3   j         int64  \n",
      " 4   k         int64  \n",
      " 5   4_2m1     float64\n",
      " 6   4_3m2     float64\n",
      " 7   4_4m3     float64\n",
      " 8   4_5m4     float64\n",
      " 9   4_6m5     float64\n",
      " 10  4_7m6     float64\n",
      " 11  4_8m7     float64\n",
      " 12  4_9m8     float64\n",
      " 13  4_10m9    float64\n",
      " 14  4_11m10   float64\n",
      " 15  4_12m11   float64\n",
      " 16  6_2m1     float64\n",
      " 17  6_3m2     float64\n",
      " 18  6_4m3     float64\n",
      " 19  6_5m4     float64\n",
      " 20  6_6m5     float64\n",
      " 21  6_7m6     float64\n",
      " 22  6_8m7     float64\n",
      " 23  6_9m8     float64\n",
      " 24  6_10m9    float64\n",
      " 25  6_11m10   float64\n",
      " 26  6_12m11   float64\n",
      " 27  8_2m1     float64\n",
      " 28  8_3m2     float64\n",
      " 29  8_4m3     float64\n",
      " 30  8_5m4     float64\n",
      " 31  8_6m5     float64\n",
      " 32  8_7m6     float64\n",
      " 33  8_8m7     float64\n",
      " 34  8_9m8     float64\n",
      " 35  8_10m9    float64\n",
      " 36  8_11m10   float64\n",
      " 37  8_12m11   float64\n",
      " 38  10_2m1    float64\n",
      " 39  10_3m2    float64\n",
      " 40  10_4m3    float64\n",
      " 41  10_5m4    float64\n",
      " 42  10_6m5    float64\n",
      " 43  10_7m6    float64\n",
      " 44  10_8m7    float64\n",
      " 45  10_9m8    float64\n",
      " 46  10_10m9   float64\n",
      " 47  10_11m10  float64\n",
      " 48  10_12m11  float64\n",
      " 49  12_2m1    float64\n",
      " 50  12_3m2    float64\n",
      " 51  12_4m3    float64\n",
      " 52  12_5m4    float64\n",
      " 53  12_6m5    float64\n",
      " 54  12_7m6    float64\n",
      " 55  12_8m7    float64\n",
      " 56  12_9m8    float64\n",
      " 57  12_10m9   float64\n",
      " 58  12_11m10  float64\n",
      " 59  12_12m11  float64\n",
      " 60  theory    float64\n",
      "dtypes: float64(56), int64(5)\n",
      "memory usage: 1.5 GB\n"
     ]
    }
   ],
   "source": [
    "df_55.info()"
   ]
  },
  {
   "cell_type": "markdown",
   "metadata": {},
   "source": [
    "## Only +ON and -ON"
   ]
  },
  {
   "cell_type": "code",
   "execution_count": 18,
   "metadata": {},
   "outputs": [],
   "source": [
    "file_name = save_path+\"fmap_on.txt\"\n",
    "columns =['exp', 'mini_exp', 'run', 'i', 'j', 'k', 'off', 'on', 'theory']\n",
    "data = np.loadtxt(file_name);"
   ]
  },
  {
   "cell_type": "code",
   "execution_count": 19,
   "metadata": {},
   "outputs": [
    {
     "data": {
      "text/html": [
       "<div>\n",
       "<style scoped>\n",
       "    .dataframe tbody tr th:only-of-type {\n",
       "        vertical-align: middle;\n",
       "    }\n",
       "\n",
       "    .dataframe tbody tr th {\n",
       "        vertical-align: top;\n",
       "    }\n",
       "\n",
       "    .dataframe thead th {\n",
       "        text-align: right;\n",
       "    }\n",
       "</style>\n",
       "<table border=\"1\" class=\"dataframe\">\n",
       "  <thead>\n",
       "    <tr style=\"text-align: right;\">\n",
       "      <th></th>\n",
       "      <th>exp</th>\n",
       "      <th>mini_exp</th>\n",
       "      <th>run</th>\n",
       "      <th>i</th>\n",
       "      <th>j</th>\n",
       "      <th>k</th>\n",
       "      <th>off</th>\n",
       "      <th>on</th>\n",
       "      <th>theory</th>\n",
       "    </tr>\n",
       "  </thead>\n",
       "  <tbody>\n",
       "    <tr>\n",
       "      <th>0</th>\n",
       "      <td>36</td>\n",
       "      <td>1</td>\n",
       "      <td>1</td>\n",
       "      <td>0</td>\n",
       "      <td>0</td>\n",
       "      <td>0</td>\n",
       "      <td>0.0</td>\n",
       "      <td>0.0</td>\n",
       "      <td>0.0</td>\n",
       "    </tr>\n",
       "    <tr>\n",
       "      <th>1</th>\n",
       "      <td>36</td>\n",
       "      <td>1</td>\n",
       "      <td>1</td>\n",
       "      <td>0</td>\n",
       "      <td>0</td>\n",
       "      <td>1</td>\n",
       "      <td>0.0</td>\n",
       "      <td>0.0</td>\n",
       "      <td>0.0</td>\n",
       "    </tr>\n",
       "    <tr>\n",
       "      <th>2</th>\n",
       "      <td>36</td>\n",
       "      <td>1</td>\n",
       "      <td>1</td>\n",
       "      <td>0</td>\n",
       "      <td>0</td>\n",
       "      <td>2</td>\n",
       "      <td>0.0</td>\n",
       "      <td>0.0</td>\n",
       "      <td>0.0</td>\n",
       "    </tr>\n",
       "    <tr>\n",
       "      <th>3</th>\n",
       "      <td>36</td>\n",
       "      <td>1</td>\n",
       "      <td>1</td>\n",
       "      <td>0</td>\n",
       "      <td>0</td>\n",
       "      <td>3</td>\n",
       "      <td>0.0</td>\n",
       "      <td>0.0</td>\n",
       "      <td>0.0</td>\n",
       "    </tr>\n",
       "    <tr>\n",
       "      <th>4</th>\n",
       "      <td>36</td>\n",
       "      <td>1</td>\n",
       "      <td>1</td>\n",
       "      <td>0</td>\n",
       "      <td>0</td>\n",
       "      <td>4</td>\n",
       "      <td>0.0</td>\n",
       "      <td>0.0</td>\n",
       "      <td>0.0</td>\n",
       "    </tr>\n",
       "    <tr>\n",
       "      <th>...</th>\n",
       "      <td>...</td>\n",
       "      <td>...</td>\n",
       "      <td>...</td>\n",
       "      <td>...</td>\n",
       "      <td>...</td>\n",
       "      <td>...</td>\n",
       "      <td>...</td>\n",
       "      <td>...</td>\n",
       "      <td>...</td>\n",
       "    </tr>\n",
       "    <tr>\n",
       "      <th>6488059</th>\n",
       "      <td>38</td>\n",
       "      <td>6</td>\n",
       "      <td>-1</td>\n",
       "      <td>43</td>\n",
       "      <td>63</td>\n",
       "      <td>59</td>\n",
       "      <td>0.0</td>\n",
       "      <td>0.0</td>\n",
       "      <td>0.0</td>\n",
       "    </tr>\n",
       "    <tr>\n",
       "      <th>6488060</th>\n",
       "      <td>38</td>\n",
       "      <td>6</td>\n",
       "      <td>-1</td>\n",
       "      <td>43</td>\n",
       "      <td>63</td>\n",
       "      <td>60</td>\n",
       "      <td>0.0</td>\n",
       "      <td>0.0</td>\n",
       "      <td>0.0</td>\n",
       "    </tr>\n",
       "    <tr>\n",
       "      <th>6488061</th>\n",
       "      <td>38</td>\n",
       "      <td>6</td>\n",
       "      <td>-1</td>\n",
       "      <td>43</td>\n",
       "      <td>63</td>\n",
       "      <td>61</td>\n",
       "      <td>0.0</td>\n",
       "      <td>0.0</td>\n",
       "      <td>0.0</td>\n",
       "    </tr>\n",
       "    <tr>\n",
       "      <th>6488062</th>\n",
       "      <td>38</td>\n",
       "      <td>6</td>\n",
       "      <td>-1</td>\n",
       "      <td>43</td>\n",
       "      <td>63</td>\n",
       "      <td>62</td>\n",
       "      <td>0.0</td>\n",
       "      <td>0.0</td>\n",
       "      <td>0.0</td>\n",
       "    </tr>\n",
       "    <tr>\n",
       "      <th>6488063</th>\n",
       "      <td>38</td>\n",
       "      <td>6</td>\n",
       "      <td>-1</td>\n",
       "      <td>43</td>\n",
       "      <td>63</td>\n",
       "      <td>63</td>\n",
       "      <td>0.0</td>\n",
       "      <td>0.0</td>\n",
       "      <td>0.0</td>\n",
       "    </tr>\n",
       "  </tbody>\n",
       "</table>\n",
       "<p>6488064 rows × 9 columns</p>\n",
       "</div>"
      ],
      "text/plain": [
       "         exp  mini_exp  run   i   j   k  off   on  theory\n",
       "0         36         1    1   0   0   0  0.0  0.0     0.0\n",
       "1         36         1    1   0   0   1  0.0  0.0     0.0\n",
       "2         36         1    1   0   0   2  0.0  0.0     0.0\n",
       "3         36         1    1   0   0   3  0.0  0.0     0.0\n",
       "4         36         1    1   0   0   4  0.0  0.0     0.0\n",
       "...      ...       ...  ...  ..  ..  ..  ...  ...     ...\n",
       "6488059   38         6   -1  43  63  59  0.0  0.0     0.0\n",
       "6488060   38         6   -1  43  63  60  0.0  0.0     0.0\n",
       "6488061   38         6   -1  43  63  61  0.0  0.0     0.0\n",
       "6488062   38         6   -1  43  63  62  0.0  0.0     0.0\n",
       "6488063   38         6   -1  43  63  63  0.0  0.0     0.0\n",
       "\n",
       "[6488064 rows x 9 columns]"
      ]
     },
     "execution_count": 19,
     "metadata": {},
     "output_type": "execute_result"
    }
   ],
   "source": [
    "df_on = pd.DataFrame(data, columns=columns)\n",
    "df_on = df_on.astype({\"exp\": int, \"i\": int, \"j\": int, \"k\": int, \"mini_exp\": int, \"run\":int})\n",
    "df_on"
   ]
  },
  {
   "cell_type": "code",
   "execution_count": 20,
   "metadata": {},
   "outputs": [
    {
     "name": "stdout",
     "output_type": "stream",
     "text": [
      "<class 'pandas.core.frame.DataFrame'>\n",
      "RangeIndex: 6488064 entries, 0 to 6488063\n",
      "Data columns (total 9 columns):\n",
      " #   Column    Dtype  \n",
      "---  ------    -----  \n",
      " 0   exp       int64  \n",
      " 1   mini_exp  int64  \n",
      " 2   run       int64  \n",
      " 3   i         int64  \n",
      " 4   j         int64  \n",
      " 5   k         int64  \n",
      " 6   off       float64\n",
      " 7   on        float64\n",
      " 8   theory    float64\n",
      "dtypes: float64(3), int64(6)\n",
      "memory usage: 445.5 MB\n"
     ]
    }
   ],
   "source": [
    "df_on.info()"
   ]
  },
  {
   "cell_type": "markdown",
   "metadata": {},
   "source": [
    "# Split data"
   ]
  },
  {
   "cell_type": "markdown",
   "metadata": {},
   "source": [
    "## Data 1. fmap mean all experiments"
   ]
  },
  {
   "cell_type": "code",
   "execution_count": 9,
   "metadata": {},
   "outputs": [],
   "source": [
    "X = df.iloc[:, 5:-1].values  \n",
    "y = df['theory'].values\n",
    "\n",
    "X1_train, X1_test, y1_train, y1_test = train_test_split(\n",
    "    X, y, test_size=0.3, random_state=0)"
   ]
  },
  {
   "cell_type": "code",
   "execution_count": 10,
   "metadata": {},
   "outputs": [
    {
     "name": "stdout",
     "output_type": "stream",
     "text": [
      "(3244032, 5)\n",
      "(3244032,)\n",
      "(2270822, 5)\n",
      "(2270822,)\n",
      "(973210, 5)\n",
      "(973210,)\n"
     ]
    }
   ],
   "source": [
    "print(X.shape)\n",
    "print(y.shape)\n",
    "print(X1_train.shape)\n",
    "print(y1_train.shape)\n",
    "print(X1_test.shape)\n",
    "print(y1_test.shape)"
   ]
  },
  {
   "cell_type": "markdown",
   "metadata": {},
   "source": [
    "## Data2: One experiment"
   ]
  },
  {
   "cell_type": "code",
   "execution_count": 11,
   "metadata": {},
   "outputs": [],
   "source": [
    "df_train = df[(df['exp']==38) & (df['mini_exp']!=6)]\n",
    "df_test = df[(df['exp']==38) & (df['mini_exp']==6)]"
   ]
  },
  {
   "cell_type": "code",
   "execution_count": 12,
   "metadata": {},
   "outputs": [
    {
     "data": {
      "text/html": [
       "<div>\n",
       "<style scoped>\n",
       "    .dataframe tbody tr th:only-of-type {\n",
       "        vertical-align: middle;\n",
       "    }\n",
       "\n",
       "    .dataframe tbody tr th {\n",
       "        vertical-align: top;\n",
       "    }\n",
       "\n",
       "    .dataframe thead th {\n",
       "        text-align: right;\n",
       "    }\n",
       "</style>\n",
       "<table border=\"1\" class=\"dataframe\">\n",
       "  <thead>\n",
       "    <tr style=\"text-align: right;\">\n",
       "      <th></th>\n",
       "      <th>mean0</th>\n",
       "      <th>mean1</th>\n",
       "      <th>mean2</th>\n",
       "      <th>mean3</th>\n",
       "      <th>mean4</th>\n",
       "    </tr>\n",
       "  </thead>\n",
       "  <tbody>\n",
       "    <tr>\n",
       "      <th>0</th>\n",
       "      <td>0.0</td>\n",
       "      <td>0.0</td>\n",
       "      <td>0.0</td>\n",
       "      <td>0.0</td>\n",
       "      <td>0.0</td>\n",
       "    </tr>\n",
       "    <tr>\n",
       "      <th>1</th>\n",
       "      <td>0.0</td>\n",
       "      <td>0.0</td>\n",
       "      <td>0.0</td>\n",
       "      <td>0.0</td>\n",
       "      <td>0.0</td>\n",
       "    </tr>\n",
       "    <tr>\n",
       "      <th>2</th>\n",
       "      <td>0.0</td>\n",
       "      <td>0.0</td>\n",
       "      <td>0.0</td>\n",
       "      <td>0.0</td>\n",
       "      <td>0.0</td>\n",
       "    </tr>\n",
       "    <tr>\n",
       "      <th>3</th>\n",
       "      <td>0.0</td>\n",
       "      <td>0.0</td>\n",
       "      <td>0.0</td>\n",
       "      <td>0.0</td>\n",
       "      <td>0.0</td>\n",
       "    </tr>\n",
       "    <tr>\n",
       "      <th>4</th>\n",
       "      <td>0.0</td>\n",
       "      <td>0.0</td>\n",
       "      <td>0.0</td>\n",
       "      <td>0.0</td>\n",
       "      <td>0.0</td>\n",
       "    </tr>\n",
       "    <tr>\n",
       "      <th>...</th>\n",
       "      <td>...</td>\n",
       "      <td>...</td>\n",
       "      <td>...</td>\n",
       "      <td>...</td>\n",
       "      <td>...</td>\n",
       "    </tr>\n",
       "    <tr>\n",
       "      <th>901115</th>\n",
       "      <td>0.0</td>\n",
       "      <td>0.0</td>\n",
       "      <td>0.0</td>\n",
       "      <td>0.0</td>\n",
       "      <td>0.0</td>\n",
       "    </tr>\n",
       "    <tr>\n",
       "      <th>901116</th>\n",
       "      <td>0.0</td>\n",
       "      <td>0.0</td>\n",
       "      <td>0.0</td>\n",
       "      <td>0.0</td>\n",
       "      <td>0.0</td>\n",
       "    </tr>\n",
       "    <tr>\n",
       "      <th>901117</th>\n",
       "      <td>0.0</td>\n",
       "      <td>0.0</td>\n",
       "      <td>0.0</td>\n",
       "      <td>0.0</td>\n",
       "      <td>0.0</td>\n",
       "    </tr>\n",
       "    <tr>\n",
       "      <th>901118</th>\n",
       "      <td>0.0</td>\n",
       "      <td>0.0</td>\n",
       "      <td>0.0</td>\n",
       "      <td>0.0</td>\n",
       "      <td>0.0</td>\n",
       "    </tr>\n",
       "    <tr>\n",
       "      <th>901119</th>\n",
       "      <td>0.0</td>\n",
       "      <td>0.0</td>\n",
       "      <td>0.0</td>\n",
       "      <td>0.0</td>\n",
       "      <td>0.0</td>\n",
       "    </tr>\n",
       "  </tbody>\n",
       "</table>\n",
       "<p>901120 rows × 5 columns</p>\n",
       "</div>"
      ],
      "text/plain": [
       "        mean0  mean1  mean2  mean3  mean4\n",
       "0         0.0    0.0    0.0    0.0    0.0\n",
       "1         0.0    0.0    0.0    0.0    0.0\n",
       "2         0.0    0.0    0.0    0.0    0.0\n",
       "3         0.0    0.0    0.0    0.0    0.0\n",
       "4         0.0    0.0    0.0    0.0    0.0\n",
       "...       ...    ...    ...    ...    ...\n",
       "901115    0.0    0.0    0.0    0.0    0.0\n",
       "901116    0.0    0.0    0.0    0.0    0.0\n",
       "901117    0.0    0.0    0.0    0.0    0.0\n",
       "901118    0.0    0.0    0.0    0.0    0.0\n",
       "901119    0.0    0.0    0.0    0.0    0.0\n",
       "\n",
       "[901120 rows x 5 columns]"
      ]
     },
     "execution_count": 12,
     "metadata": {},
     "output_type": "execute_result"
    }
   ],
   "source": [
    "df_train.iloc[:, 5:-1]"
   ]
  },
  {
   "cell_type": "code",
   "execution_count": 12,
   "metadata": {},
   "outputs": [],
   "source": [
    "X2_train = df_train.iloc[:, 5:-1].values\n",
    "y2_train = df_train['theory'].values\n",
    "\n",
    "X2_test = df_test.iloc[:, 5:-1].values\n",
    "y2_test = df_test['theory'].values"
   ]
  },
  {
   "cell_type": "code",
   "execution_count": 13,
   "metadata": {},
   "outputs": [
    {
     "name": "stdout",
     "output_type": "stream",
     "text": [
      "(901120, 5)\n",
      "(901120,)\n",
      "(180224, 5)\n",
      "(180224,)\n"
     ]
    }
   ],
   "source": [
    "print(X2_train.shape)\n",
    "print(y2_train.shape)\n",
    "print(X2_test.shape)\n",
    "print(y2_test.shape)"
   ]
  },
  {
   "cell_type": "markdown",
   "metadata": {},
   "source": [
    "## Data3: 55 fmap means"
   ]
  },
  {
   "cell_type": "code",
   "execution_count": 15,
   "metadata": {},
   "outputs": [],
   "source": [
    "arr = [4, 6, 8, 10, 12]\n",
    "col = []\n",
    "for i in range(len(arr)):\n",
    "    for j in range(1, 12):\n",
    "        name = str(arr[i])+'_'+str(j+1)+'m'+str(j)\n",
    "        col.append(name)"
   ]
  },
  {
   "cell_type": "code",
   "execution_count": 16,
   "metadata": {},
   "outputs": [],
   "source": [
    "X = df_55.iloc[:, 5:-1].values \n",
    "y = df_55['theory'].values\n",
    "\n",
    "X3_train, X3_test, y3_train, y3_test = train_test_split(\n",
    "    X, y, test_size=0.3, random_state=0)"
   ]
  },
  {
   "cell_type": "code",
   "execution_count": 17,
   "metadata": {},
   "outputs": [
    {
     "name": "stdout",
     "output_type": "stream",
     "text": [
      "(3244032, 55)\n",
      "(3244032,)\n",
      "(2270822, 55)\n",
      "(2270822,)\n",
      "(973210, 55)\n",
      "(973210,)\n"
     ]
    }
   ],
   "source": [
    "print(X.shape)\n",
    "print(y.shape)\n",
    "print(X3_train.shape)\n",
    "print(y3_train.shape)\n",
    "print(X3_test.shape)\n",
    "print(y3_test.shape)"
   ]
  },
  {
   "cell_type": "markdown",
   "metadata": {},
   "source": [
    "## Data4: Only +ON and -ON"
   ]
  },
  {
   "cell_type": "code",
   "execution_count": 29,
   "metadata": {},
   "outputs": [],
   "source": [
    "X = df_on.iloc[:, 2:-1].values  # include i,j,k\n",
    "y = df_on['theory'].values\n",
    "\n",
    "X4_train, X4_test, y4_train, y4_test = train_test_split(\n",
    "    X, y, test_size=0.3, random_state=0)"
   ]
  },
  {
   "cell_type": "code",
   "execution_count": 30,
   "metadata": {},
   "outputs": [
    {
     "name": "stdout",
     "output_type": "stream",
     "text": [
      "(6488064, 6)\n",
      "(6488064,)\n",
      "(4541644, 6)\n",
      "(4541644,)\n",
      "(1946420, 6)\n",
      "(1946420,)\n"
     ]
    }
   ],
   "source": [
    "print(X.shape)\n",
    "print(y.shape)\n",
    "print(X4_train.shape)\n",
    "print(y4_train.shape)\n",
    "print(X4_test.shape)\n",
    "print(y4_test.shape)"
   ]
  },
  {
   "cell_type": "markdown",
   "metadata": {},
   "source": [
    "# Convolutional Neural Network"
   ]
  },
  {
   "cell_type": "code",
   "execution_count": 16,
   "metadata": {},
   "outputs": [],
   "source": [
    "myCallbacks = [tf.keras.callbacks.EarlyStopping(monitor='val_accuracy', patience=10, mode='max'),\n",
    "             tf.keras.callbacks.EarlyStopping(monitor='loss', patience=10, mode='min')]"
   ]
  },
  {
   "cell_type": "markdown",
   "metadata": {},
   "source": [
    "## Data1: 5 fmap means"
   ]
  },
  {
   "cell_type": "code",
   "execution_count": 18,
   "metadata": {},
   "outputs": [],
   "source": [
    "# Reshape the data\n",
    "X_train = X1_train.reshape(X1_train.shape[0], X1_train.shape[1], 1)\n",
    "X_test = X1_test.reshape(X1_test.shape[0], X1_test.shape[1], 1)\n",
    "y_train = y1_train\n",
    "y_test = y1_test"
   ]
  },
  {
   "cell_type": "code",
   "execution_count": 20,
   "metadata": {},
   "outputs": [
    {
     "name": "stdout",
     "output_type": "stream",
     "text": [
      "Epoch 1/100\n"
     ]
    },
    {
     "name": "stderr",
     "output_type": "stream",
     "text": [
      "2022-11-02 23:38:31.418867: I tensorflow/core/platform/cpu_feature_guard.cc:193] This TensorFlow binary is optimized with oneAPI Deep Neural Network Library (oneDNN) to use the following CPU instructions in performance-critical operations:  SSE4.1 SSE4.2 AVX AVX2 FMA\n",
      "To enable them in other operations, rebuild TensorFlow with the appropriate compiler flags.\n"
     ]
    },
    {
     "name": "stdout",
     "output_type": "stream",
     "text": [
      "70964/70964 [==============================] - 111s 2ms/step - loss: 45.2450 - accuracy: 0.5718 - val_loss: 37.2040 - val_accuracy: 0.8086\n",
      "Epoch 2/100\n",
      "70964/70964 [==============================] - 110s 2ms/step - loss: 29.1057 - accuracy: 0.8080 - val_loss: 35.5464 - val_accuracy: 0.8086\n",
      "Epoch 3/100\n",
      "70964/70964 [==============================] - 111s 2ms/step - loss: 28.5122 - accuracy: 0.8079 - val_loss: 35.5726 - val_accuracy: 0.8086\n",
      "Epoch 4/100\n",
      "70964/70964 [==============================] - 113s 2ms/step - loss: 29.0364 - accuracy: 0.8079 - val_loss: 37.7380 - val_accuracy: 0.8086\n",
      "Epoch 5/100\n",
      "70964/70964 [==============================] - 112s 2ms/step - loss: 28.7926 - accuracy: 0.8080 - val_loss: 36.0597 - val_accuracy: 0.8084\n",
      "Epoch 6/100\n",
      "70964/70964 [==============================] - 116s 2ms/step - loss: 28.4507 - accuracy: 0.8080 - val_loss: 35.4655 - val_accuracy: 0.8086\n",
      "Epoch 7/100\n",
      "70964/70964 [==============================] - 110s 2ms/step - loss: 28.4339 - accuracy: 0.8080 - val_loss: 35.4109 - val_accuracy: 0.8086\n",
      "Epoch 8/100\n",
      "70964/70964 [==============================] - 107s 2ms/step - loss: 28.2631 - accuracy: 0.8077 - val_loss: 35.0938 - val_accuracy: 0.8086\n",
      "Epoch 9/100\n",
      "70964/70964 [==============================] - 115s 2ms/step - loss: 28.0281 - accuracy: 0.8062 - val_loss: 35.3049 - val_accuracy: 0.8084\n",
      "Epoch 10/100\n",
      "70964/70964 [==============================] - 118s 2ms/step - loss: 27.9703 - accuracy: 0.8032 - val_loss: 35.1875 - val_accuracy: 0.8084\n",
      "Epoch 11/100\n",
      "70964/70964 [==============================] - 123s 2ms/step - loss: 28.1823 - accuracy: 0.7976 - val_loss: 35.4174 - val_accuracy: 0.8084\n",
      "Epoch 12/100\n",
      "70964/70964 [==============================] - 133s 2ms/step - loss: 28.1468 - accuracy: 0.7930 - val_loss: 35.9832 - val_accuracy: 0.8084\n",
      "Epoch 13/100\n",
      "70964/70964 [==============================] - 122s 2ms/step - loss: 27.9216 - accuracy: 0.7921 - val_loss: 35.2275 - val_accuracy: 0.8084\n",
      "Epoch 14/100\n",
      "70964/70964 [==============================] - 117s 2ms/step - loss: 28.5294 - accuracy: 0.7872 - val_loss: 35.3759 - val_accuracy: 0.8084\n",
      "Epoch 15/100\n",
      "70964/70964 [==============================] - 101s 1ms/step - loss: 27.9085 - accuracy: 0.7918 - val_loss: 34.8389 - val_accuracy: 0.8084\n",
      "Epoch 16/100\n",
      "70964/70964 [==============================] - 119s 2ms/step - loss: 28.3188 - accuracy: 0.7920 - val_loss: 35.2594 - val_accuracy: 0.8084\n"
     ]
    }
   ],
   "source": [
    "model = keras.Sequential()\n",
    "\n",
    "model.add(Conv1D(32, 2, activation=\"relu\", input_shape=(len(X_train[0]), 1)))\n",
    "model.add(Flatten())\n",
    "model.add(Dense(10, activation=\"relu\"))\n",
    "model.add(Dense(1))\n",
    "\n",
    "model.compile(optimizer= 'adam', loss='mse', metrics=['accuracy'])\n",
    "history = model.fit(X_train, y_train, epochs=100, validation_data=[X_test, y_test], callbacks =myCallbacks)"
   ]
  },
  {
   "cell_type": "code",
   "execution_count": 21,
   "metadata": {},
   "outputs": [
    {
     "name": "stdout",
     "output_type": "stream",
     "text": [
      "70964/70964 [==============================] - 61s 851us/step\n",
      "27.556791717662296\n",
      "0.8979301616815573\n",
      "30413/30413 [==============================] - 23s 742us/step\n",
      "35.2594088023826\n",
      "0.9416811054773528\n"
     ]
    }
   ],
   "source": [
    "train_pred = model.predict(X_train)\n",
    "print(mse(train_pred, y_train))\n",
    "print(mape(train_pred, y_train))\n",
    "test_pred = model.predict(X_test)\n",
    "print(mse(test_pred, y_test))\n",
    "print(mape(test_pred, y_test))"
   ]
  },
  {
   "cell_type": "code",
   "execution_count": 22,
   "metadata": {},
   "outputs": [
    {
     "data": {
      "text/plain": [
       "array([[1.        , 0.73591372],\n",
       "       [0.73591372, 1.        ]])"
      ]
     },
     "execution_count": 22,
     "metadata": {},
     "output_type": "execute_result"
    }
   ],
   "source": [
    "np.corrcoef(test_pred.flatten(),y_test)"
   ]
  },
  {
   "cell_type": "code",
   "execution_count": 23,
   "metadata": {},
   "outputs": [
    {
     "name": "stdout",
     "output_type": "stream",
     "text": [
      "30413/30413 [==============================] - 26s 854us/step - loss: 35.2594 - accuracy: 0.8084\n"
     ]
    },
    {
     "data": {
      "text/plain": [
       "[35.25939178466797, 0.808391809463501]"
      ]
     },
     "execution_count": 23,
     "metadata": {},
     "output_type": "execute_result"
    }
   ],
   "source": [
    "model.evaluate(X_test, y_test)"
   ]
  },
  {
   "cell_type": "code",
   "execution_count": 24,
   "metadata": {},
   "outputs": [
    {
     "data": {
      "text/plain": [
       "0.5409404558795838"
      ]
     },
     "execution_count": 24,
     "metadata": {},
     "output_type": "execute_result"
    }
   ],
   "source": [
    "r2_score(y_test, test_pred)"
   ]
  },
  {
   "cell_type": "code",
   "execution_count": 25,
   "metadata": {},
   "outputs": [
    {
     "name": "stdout",
     "output_type": "stream",
     "text": [
      "Model: \"sequential\"\n",
      "_________________________________________________________________\n",
      " Layer (type)                Output Shape              Param #   \n",
      "=================================================================\n",
      " conv1d (Conv1D)             (None, 4, 32)             96        \n",
      "                                                                 \n",
      " flatten (Flatten)           (None, 128)               0         \n",
      "                                                                 \n",
      " dense (Dense)               (None, 10)                1290      \n",
      "                                                                 \n",
      " dense_1 (Dense)             (None, 1)                 11        \n",
      "                                                                 \n",
      "=================================================================\n",
      "Total params: 1,397\n",
      "Trainable params: 1,397\n",
      "Non-trainable params: 0\n",
      "_________________________________________________________________\n"
     ]
    }
   ],
   "source": [
    "model.summary()"
   ]
  },
  {
   "cell_type": "code",
   "execution_count": 26,
   "metadata": {},
   "outputs": [
    {
     "data": {
      "text/plain": [
       "{'loss': [45.24497604370117,\n",
       "  29.105682373046875,\n",
       "  28.51218605041504,\n",
       "  29.036428451538086,\n",
       "  28.79255485534668,\n",
       "  28.450664520263672,\n",
       "  28.43390655517578,\n",
       "  28.263103485107422,\n",
       "  28.02814483642578,\n",
       "  27.970251083374023,\n",
       "  28.182268142700195,\n",
       "  28.14678955078125,\n",
       "  27.921627044677734,\n",
       "  28.52938461303711,\n",
       "  27.908533096313477,\n",
       "  28.318798065185547],\n",
       " 'accuracy': [0.571804404258728,\n",
       "  0.8080030083656311,\n",
       "  0.8079488277435303,\n",
       "  0.8079091906547546,\n",
       "  0.8080078363418579,\n",
       "  0.8080100417137146,\n",
       "  0.8080135583877563,\n",
       "  0.8077414035797119,\n",
       "  0.8062419891357422,\n",
       "  0.8031976819038391,\n",
       "  0.7976292371749878,\n",
       "  0.7929877638816833,\n",
       "  0.7920787930488586,\n",
       "  0.7872123122215271,\n",
       "  0.7918203473091125,\n",
       "  0.7920457720756531],\n",
       " 'val_loss': [37.20401382446289,\n",
       "  35.54644775390625,\n",
       "  35.572574615478516,\n",
       "  37.73800277709961,\n",
       "  36.059749603271484,\n",
       "  35.465545654296875,\n",
       "  35.41085433959961,\n",
       "  35.093849182128906,\n",
       "  35.30485153198242,\n",
       "  35.187469482421875,\n",
       "  35.41741943359375,\n",
       "  35.98316955566406,\n",
       "  35.22745895385742,\n",
       "  35.37590789794922,\n",
       "  34.83893966674805,\n",
       "  35.25939178466797],\n",
       " 'val_accuracy': [0.8085665106773376,\n",
       "  0.8085654973983765,\n",
       "  0.8085675239562988,\n",
       "  0.8085675239562988,\n",
       "  0.8084205985069275,\n",
       "  0.8085706233978271,\n",
       "  0.8085654973983765,\n",
       "  0.8085675239562988,\n",
       "  0.8083938956260681,\n",
       "  0.8083938956260681,\n",
       "  0.808391809463501,\n",
       "  0.8083938956260681,\n",
       "  0.8083938956260681,\n",
       "  0.8083938956260681,\n",
       "  0.808391809463501,\n",
       "  0.808391809463501]}"
      ]
     },
     "execution_count": 26,
     "metadata": {},
     "output_type": "execute_result"
    }
   ],
   "source": [
    "history.history"
   ]
  },
  {
   "cell_type": "markdown",
   "metadata": {},
   "source": [
    "## Data2: One experiments"
   ]
  },
  {
   "cell_type": "code",
   "execution_count": 14,
   "metadata": {},
   "outputs": [],
   "source": [
    "# Reshape the data\n",
    "X_train = X2_train.reshape(X2_train.shape[0], X2_train.shape[1], 1)\n",
    "X_test = X2_test.reshape(X2_test.shape[0], X2_test.shape[1], 1)\n",
    "y_train = y2_train\n",
    "y_test = y2_test"
   ]
  },
  {
   "cell_type": "code",
   "execution_count": 17,
   "metadata": {},
   "outputs": [
    {
     "name": "stdout",
     "output_type": "stream",
     "text": [
      "Epoch 1/100\n",
      "28160/28160 [==============================] - 42s 1ms/step - loss: 73.1312 - accuracy: 0.8061 - val_loss: 57.0813 - val_accuracy: 0.8064\n",
      "Epoch 2/100\n",
      "28160/28160 [==============================] - 39s 1ms/step - loss: 59.1848 - accuracy: 0.8059 - val_loss: 57.4163 - val_accuracy: 0.8064\n",
      "Epoch 3/100\n",
      "28160/28160 [==============================] - 39s 1ms/step - loss: 59.9239 - accuracy: 0.8024 - val_loss: 60.9042 - val_accuracy: 0.8064\n",
      "Epoch 4/100\n",
      "28160/28160 [==============================] - 38s 1ms/step - loss: 57.0014 - accuracy: 0.8040 - val_loss: 56.3113 - val_accuracy: 0.8064\n",
      "Epoch 5/100\n",
      "28160/28160 [==============================] - 41s 1ms/step - loss: 67.5630 - accuracy: 0.8017 - val_loss: 84.1407 - val_accuracy: 0.8064\n",
      "Epoch 6/100\n",
      "28160/28160 [==============================] - 39s 1ms/step - loss: 67.2155 - accuracy: 0.7937 - val_loss: 60.4075 - val_accuracy: 0.8064\n",
      "Epoch 7/100\n",
      "28160/28160 [==============================] - 40s 1ms/step - loss: 73.8235 - accuracy: 0.7923 - val_loss: 57.6011 - val_accuracy: 0.8066\n",
      "Epoch 8/100\n",
      "28160/28160 [==============================] - 41s 1ms/step - loss: 66.0245 - accuracy: 0.7805 - val_loss: 77.3873 - val_accuracy: 0.8065\n",
      "Epoch 9/100\n",
      "28160/28160 [==============================] - 38s 1ms/step - loss: 63.1557 - accuracy: 0.7625 - val_loss: 57.4682 - val_accuracy: 0.8066\n",
      "Epoch 10/100\n",
      "28160/28160 [==============================] - 39s 1ms/step - loss: 63.2887 - accuracy: 0.7717 - val_loss: 60.9058 - val_accuracy: 0.8064\n",
      "Epoch 11/100\n",
      "28160/28160 [==============================] - 42s 1ms/step - loss: 62.7802 - accuracy: 0.7892 - val_loss: 57.8040 - val_accuracy: 0.8066\n",
      "Epoch 12/100\n",
      "28160/28160 [==============================] - 48s 2ms/step - loss: 62.4481 - accuracy: 0.7791 - val_loss: 57.1579 - val_accuracy: 0.8064\n",
      "Epoch 13/100\n",
      "28160/28160 [==============================] - 48s 2ms/step - loss: 64.2573 - accuracy: 0.7776 - val_loss: 76.3587 - val_accuracy: 0.8064\n",
      "Epoch 14/100\n",
      "28160/28160 [==============================] - 46s 2ms/step - loss: 68.8701 - accuracy: 0.7852 - val_loss: 71.2560 - val_accuracy: 0.8065\n"
     ]
    }
   ],
   "source": [
    "model = keras.Sequential()\n",
    "\n",
    "# model.add(Conv1D(32, 2, activation=\"relu\", input_shape=(len(X_train[0]), 1)))\n",
    "# model.add(Flatten())\n",
    "# model.add(Dense(64, activation=\"relu\"))\n",
    "# model.add(Dense(1))\n",
    "# Coef 0.415, MSE 86.28, MAPE 1.15, Accuracy 0.8064\n",
    "\n",
    "model.add(Conv1D(32, 2, activation=\"relu\", input_shape=(len(X_train[0]), 1)))\n",
    "model.add(Flatten())\n",
    "model.add(Dense(10, activation=\"relu\"))\n",
    "model.add(Dense(1))\n",
    "# Coef 0.648 MSE 58.52, MAPE 0.91, Accuracy 0.8064 => Best\n",
    "    \n",
    "    \n",
    "# model.add(Conv1D(32, 2, activation=\"relu\", input_shape=(len(X_train[0]), 1)))\n",
    "# model.add(MaxPooling1D(pool_size=(2)))\n",
    "# model.add(Flatten())\n",
    "# model.add(Dense(32, activation=\"relu\"))\n",
    "# model.add(Dropout(0.1))\n",
    "# model.add(Dense(10, activation=\"relu\"))\n",
    "# model.add(Dense(5, activation=\"relu\"))\n",
    "# model.add(Dense(1))\n",
    "# # Coef 0.5099, MSE 74.244, MAPE 0.9068, Accuracy 0.8064\n",
    "\n",
    "# model.add(Conv1D(32, 2, activation=\"relu\", input_shape=(len(X_train[0]), 1)))\n",
    "# model.add(MaxPooling1D(pool_size=(2)))\n",
    "# model.add(Flatten())\n",
    "# model.add(Dense(32, activation=\"relu\"))\n",
    "# model.add(Dropout(0.1))\n",
    "# model.add(Dense(10, activation=\"relu\"))\n",
    "# model.add(Dense(1))\n",
    "# # Coef 0.5049, MSE 71.10 MAPE 1.047, Accuracy 0.8064\n",
    "\n",
    "# model.add(Conv1D(32, 2, activation =\"relu\", input_shape=(len(X_train[0]), 1)))\n",
    "# model.add(MaxPooling1D(2))\n",
    "# model.add(Conv1D(64, 2, activation =\"relu\"))\n",
    "# model.add(MaxPooling1D(1))\n",
    "# model.add(Flatten())\n",
    "# model.add(Dense(64, activation =\"relu\"))\n",
    "# model.add(Dense(20, activation=\"relu\"))\n",
    "# model.add(Dense(1))\n",
    "# # Coef 0.5585, MSE 70.26, MAPE 0.8898, Accuracy 0.8065\n",
    "\n",
    "\n",
    "# model.add(Conv1D(64, 8, padding='same', input_shape=(len(X_train[0]), 1), activation='relu'))\n",
    "# model.add(MaxPooling1D(2, padding='same'))\n",
    "# model.add(Conv1D(64, 8, padding='same', activation='relu'))\n",
    "# model.add(MaxPooling1D(2, padding='same'))\n",
    "# model.add(Conv1D(32, 8, padding='same', activation='relu'))\n",
    "# model.add(Conv1D(1, 8, padding='same', activation='tanh'))\n",
    "# Accuracy 5.5487e-06\n",
    "\n",
    "\n",
    "model.compile(optimizer= 'adam', loss='mse', metrics=['accuracy'])\n",
    "history = model.fit(X_train, y_train, epochs=100, validation_data=[X_test, y_test], callbacks =[myCallbacks])\n"
   ]
  },
  {
   "cell_type": "code",
   "execution_count": 18,
   "metadata": {},
   "outputs": [
    {
     "name": "stdout",
     "output_type": "stream",
     "text": [
      "28160/28160 [==============================] - 32s 1ms/step\n",
      "70.86180598595585\n",
      "0.919218657009411\n",
      "5632/5632 [==============================] - 8s 1ms/step\n",
      "71.25752545429637\n",
      "0.9278995052330536\n"
     ]
    }
   ],
   "source": [
    "train_pred = model.predict(X_train)\n",
    "print(mse(train_pred, y_train))\n",
    "print(mape(train_pred, y_train))\n",
    "test_pred = model.predict(X_test)\n",
    "print(mse(test_pred, y_test))\n",
    "print(mape(test_pred, y_test))"
   ]
  },
  {
   "cell_type": "code",
   "execution_count": 19,
   "metadata": {},
   "outputs": [
    {
     "data": {
      "text/plain": [
       "array([[1.        , 0.54615447],\n",
       "       [0.54615447, 1.        ]])"
      ]
     },
     "execution_count": 19,
     "metadata": {},
     "output_type": "execute_result"
    }
   ],
   "source": [
    "np.corrcoef(test_pred.flatten(),y_test)"
   ]
  },
  {
   "cell_type": "code",
   "execution_count": 20,
   "metadata": {},
   "outputs": [
    {
     "name": "stdout",
     "output_type": "stream",
     "text": [
      "5632/5632 [==============================] - 8s 1ms/step - loss: 71.2560 - accuracy: 0.8065\n"
     ]
    },
    {
     "data": {
      "text/plain": [
       "[71.25595092773438, 0.8065462708473206]"
      ]
     },
     "execution_count": 20,
     "metadata": {},
     "output_type": "execute_result"
    }
   ],
   "source": [
    "model.evaluate(X_test, y_test)"
   ]
  },
  {
   "cell_type": "code",
   "execution_count": 21,
   "metadata": {},
   "outputs": [
    {
     "data": {
      "text/plain": [
       "0.2880962472676275"
      ]
     },
     "execution_count": 21,
     "metadata": {},
     "output_type": "execute_result"
    }
   ],
   "source": [
    "r2_score(y_test, test_pred)"
   ]
  },
  {
   "cell_type": "code",
   "execution_count": 22,
   "metadata": {},
   "outputs": [
    {
     "name": "stdout",
     "output_type": "stream",
     "text": [
      "Model: \"sequential_1\"\n",
      "_________________________________________________________________\n",
      " Layer (type)                Output Shape              Param #   \n",
      "=================================================================\n",
      " conv1d_1 (Conv1D)           (None, 4, 32)             96        \n",
      "                                                                 \n",
      " flatten_1 (Flatten)         (None, 128)               0         \n",
      "                                                                 \n",
      " dense_2 (Dense)             (None, 10)                1290      \n",
      "                                                                 \n",
      " dense_3 (Dense)             (None, 1)                 11        \n",
      "                                                                 \n",
      "=================================================================\n",
      "Total params: 1,397\n",
      "Trainable params: 1,397\n",
      "Non-trainable params: 0\n",
      "_________________________________________________________________\n"
     ]
    }
   ],
   "source": [
    "model.summary()"
   ]
  },
  {
   "cell_type": "code",
   "execution_count": 23,
   "metadata": {},
   "outputs": [
    {
     "data": {
      "text/plain": [
       "{'loss': [73.1312255859375,\n",
       "  59.184783935546875,\n",
       "  59.92388153076172,\n",
       "  57.00144577026367,\n",
       "  67.5629653930664,\n",
       "  67.21548461914062,\n",
       "  73.82347106933594,\n",
       "  66.02452850341797,\n",
       "  63.15570068359375,\n",
       "  63.288665771484375,\n",
       "  62.78019332885742,\n",
       "  62.44813919067383,\n",
       "  64.25733184814453,\n",
       "  68.87013244628906],\n",
       " 'accuracy': [0.8060979843139648,\n",
       "  0.8058604598045349,\n",
       "  0.8024269938468933,\n",
       "  0.8039628267288208,\n",
       "  0.8017134070396423,\n",
       "  0.7937233448028564,\n",
       "  0.7923117876052856,\n",
       "  0.7805009484291077,\n",
       "  0.7624500393867493,\n",
       "  0.7716841101646423,\n",
       "  0.7892112135887146,\n",
       "  0.7791104316711426,\n",
       "  0.7775823473930359,\n",
       "  0.7851718068122864],\n",
       " 'val_loss': [57.081302642822266,\n",
       "  57.416297912597656,\n",
       "  60.9041748046875,\n",
       "  56.3112907409668,\n",
       "  84.14068603515625,\n",
       "  60.407508850097656,\n",
       "  57.60114669799805,\n",
       "  77.38729858398438,\n",
       "  57.46821212768555,\n",
       "  60.90582275390625,\n",
       "  57.8039665222168,\n",
       "  57.15788650512695,\n",
       "  76.3587417602539,\n",
       "  71.25595092773438],\n",
       " 'val_accuracy': [0.8063909411430359,\n",
       "  0.8063909411430359,\n",
       "  0.8063909411430359,\n",
       "  0.8063909411430359,\n",
       "  0.8063909411430359,\n",
       "  0.8063909411430359,\n",
       "  0.8065518736839294,\n",
       "  0.8065462708473206,\n",
       "  0.8065518736839294,\n",
       "  0.806396484375,\n",
       "  0.8065629601478577,\n",
       "  0.8063853979110718,\n",
       "  0.8063909411430359,\n",
       "  0.8065462708473206]}"
      ]
     },
     "execution_count": 23,
     "metadata": {},
     "output_type": "execute_result"
    }
   ],
   "source": [
    "history.history"
   ]
  },
  {
   "cell_type": "markdown",
   "metadata": {},
   "source": [
    "## Plot"
   ]
  },
  {
   "cell_type": "markdown",
   "metadata": {},
   "source": [
    "### Loss function (MSE)"
   ]
  },
  {
   "cell_type": "code",
   "execution_count": 24,
   "metadata": {
    "scrolled": false
   },
   "outputs": [
    {
     "data": {
      "image/png": "[encoded data removed]",
      "text/plain": [
       "<Figure size 640x480 with 1 Axes>"
      ]
     },
     "metadata": {},
     "output_type": "display_data"
    }
   ],
   "source": [
    "model_df = pd.DataFrame(history.history)\n",
    "model_df[['loss', 'val_loss']].plot()\n",
    "plt.xlabel(\"Number of Epochs\")\n",
    "plt.ylabel(\"Loss\")\n",
    "plt.title(\"Training and Validation Loss Over Training Period\", pad=12);"
   ]
  },
  {
   "cell_type": "markdown",
   "metadata": {},
   "source": [
    "### Accuracy"
   ]
  },
  {
   "cell_type": "code",
   "execution_count": 25,
   "metadata": {},
   "outputs": [
    {
     "data": {
      "image/png": "[encoded data removed]",
      "text/plain": [
       "<Figure size 640x480 with 1 Axes>"
      ]
     },
     "metadata": {},
     "output_type": "display_data"
    }
   ],
   "source": [
    "model_df[['accuracy', 'val_accuracy']].plot()\n",
    "plt.xlabel(\"Number of Epochs\")\n",
    "plt.ylabel(\"Accuracy\")\n",
    "plt.title(\"Training and Validation Accuray Over Training Period\", pad=12);"
   ]
  },
  {
   "cell_type": "markdown",
   "metadata": {},
   "source": [
    "### Theory vs Predict"
   ]
  },
  {
   "cell_type": "code",
   "execution_count": 26,
   "metadata": {},
   "outputs": [
    {
     "name": "stdout",
     "output_type": "stream",
     "text": [
      "r: 0.54615%, st_er: 0.000882%\n",
      "y = 0.244*x + 1.4153\n"
     ]
    },
    {
     "data": {
      "image/png": "[encoded data removed]",
      "text/plain": [
       "<Figure size 640x480 with 1 Axes>"
      ]
     },
     "metadata": {},
     "output_type": "display_data"
    }
   ],
   "source": [
    "x = y_test.flatten()\n",
    "y = test_pred.flatten()\n",
    "m, b, r, p, st_er = stats.linregress(x,y) \n",
    "\n",
    "yfit = [b + m * xi for xi in x]\n",
    "yisx = [0 + 1 * xi for xi in x]\n",
    "plt.plot(x, yfit)\n",
    "plt.plot(x, yisx)\n",
    "\n",
    "plt.scatter(y_test, test_pred,  color='black')\n",
    "plt.axis([0,100, 0, 100])\n",
    "# print(r, st_er)\n",
    "print(\"r: {:.5f}%, st_er: {:.6f}%\".format(r, st_er))\n",
    "print(\"y = \"+str(round(m,4))+\"*x + \"+str(round(b,4)))"
   ]
  },
  {
   "cell_type": "code",
   "execution_count": null,
   "metadata": {},
   "outputs": [],
   "source": []
  },
  {
   "cell_type": "markdown",
   "metadata": {},
   "source": [
    "# Output image data"
   ]
  },
  {
   "cell_type": "code",
   "execution_count": 115,
   "metadata": {},
   "outputs": [
    {
     "name": "stderr",
     "output_type": "stream",
     "text": [
      "/var/folders/yd/vkjb_lqj2_30lnyhzhjqtg9w0000gp/T/ipykernel_72933/4195812830.py:1: SettingWithCopyWarning: \n",
      "A value is trying to be set on a copy of a slice from a DataFrame.\n",
      "Try using .loc[row_indexer,col_indexer] = value instead\n",
      "\n",
      "See the caveats in the documentation: https://pandas.pydata.org/pandas-docs/stable/user_guide/indexing.html#returning-a-view-versus-a-copy\n",
      "  df_test['predict'] = test_pred\n"
     ]
    }
   ],
   "source": [
    "df_test['predict'] = test_pred"
   ]
  },
  {
   "cell_type": "code",
   "execution_count": 120,
   "metadata": {},
   "outputs": [],
   "source": [
    "np.savetxt(save_path+\"cnn.txt\", df_test[['i', 'j', 'k', 'predict']], fmt=\"%i %i %i %s\")"
   ]
  },
  {
   "cell_type": "code",
   "execution_count": null,
   "metadata": {},
   "outputs": [],
   "source": []
  },
  {
   "cell_type": "markdown",
   "metadata": {},
   "source": [
    "## Data3: 55 fmap"
   ]
  },
  {
   "cell_type": "code",
   "execution_count": 35,
   "metadata": {},
   "outputs": [],
   "source": [
    "# Reshape the data\n",
    "X_train = X3_train.reshape(X3_train.shape[0], X3_train.shape[1], 1)\n",
    "X_test = X3_test.reshape(X3_test.shape[0], X3_test.shape[1], 1)\n",
    "y_train = y3_train\n",
    "y_test = y3_test"
   ]
  },
  {
   "cell_type": "code",
   "execution_count": 36,
   "metadata": {},
   "outputs": [
    {
     "name": "stdout",
     "output_type": "stream",
     "text": [
      "Epoch 1/100\n",
      "70964/70964 [==============================] - 148s 2ms/step - loss: 69.6852 - accuracy: 0.0081 - val_loss: 76.8094 - val_accuracy: 4.1101e-06\n",
      "Epoch 2/100\n",
      "70964/70964 [==============================] - 162s 2ms/step - loss: 69.5679 - accuracy: 6.1652e-06 - val_loss: 76.8083 - val_accuracy: 4.1101e-06\n",
      "Epoch 3/100\n",
      "70964/70964 [==============================] - 171s 2ms/step - loss: 69.5674 - accuracy: 6.1652e-06 - val_loss: 76.8085 - val_accuracy: 4.1101e-06\n",
      "Epoch 4/100\n",
      "70964/70964 [==============================] - 172s 2ms/step - loss: 69.5673 - accuracy: 6.1652e-06 - val_loss: 76.8081 - val_accuracy: 4.1101e-06\n",
      "Epoch 5/100\n",
      "70964/70964 [==============================] - 178s 3ms/step - loss: 69.5674 - accuracy: 6.1652e-06 - val_loss: 76.8099 - val_accuracy: 4.1101e-06\n",
      "Epoch 6/100\n",
      "70964/70964 [==============================] - 187s 3ms/step - loss: 69.5676 - accuracy: 6.1652e-06 - val_loss: 76.8083 - val_accuracy: 4.1101e-06\n",
      "Epoch 7/100\n",
      "70964/70964 [==============================] - 188s 3ms/step - loss: 69.5676 - accuracy: 6.1652e-06 - val_loss: 76.8102 - val_accuracy: 4.1101e-06\n",
      "Epoch 8/100\n",
      "70964/70964 [==============================] - 189s 3ms/step - loss: 69.5676 - accuracy: 6.1652e-06 - val_loss: 76.8092 - val_accuracy: 4.1101e-06\n",
      "Epoch 9/100\n",
      "70964/70964 [==============================] - 193s 3ms/step - loss: 69.5672 - accuracy: 6.1652e-06 - val_loss: 76.8093 - val_accuracy: 4.1101e-06\n",
      "Epoch 10/100\n",
      "70964/70964 [==============================] - 201s 3ms/step - loss: 69.5678 - accuracy: 6.1652e-06 - val_loss: 76.8082 - val_accuracy: 4.1101e-06\n",
      "Epoch 11/100\n",
      "70964/70964 [==============================] - 195s 3ms/step - loss: 69.5670 - accuracy: 6.1652e-06 - val_loss: 76.8097 - val_accuracy: 4.1101e-06\n"
     ]
    }
   ],
   "source": [
    "model = keras.Sequential()\n",
    "\n",
    "model.add(Conv1D(32, 2, activation=\"relu\", input_shape=(len(X_train[0]), 1)))\n",
    "model.add(Flatten())\n",
    "model.add(Dense(10, activation=\"relu\"))\n",
    "model.add(Dense(1))\n",
    "\n",
    "model.compile(optimizer= 'adam', loss='mse', metrics=['accuracy'])\n",
    "history = model.fit(X_train, y_train, epochs=100, validation_data=[X_test, y_test], callbacks =[myCallbacks])\n"
   ]
  },
  {
   "cell_type": "code",
   "execution_count": 37,
   "metadata": {},
   "outputs": [
    {
     "name": "stdout",
     "output_type": "stream",
     "text": [
      "70964/70964 [==============================] - 81s 1ms/step\n",
      "69.56748562282851\n",
      "1.6219548325735367\n",
      "30413/30413 [==============================] - 34s 1ms/step\n",
      "76.80925536823676\n",
      "1.62501204828848\n"
     ]
    }
   ],
   "source": [
    "train_pred = model.predict(X_train)\n",
    "print(mse(train_pred, y_train))\n",
    "print(mape(train_pred, y_train))\n",
    "test_pred = model.predict(X_test)\n",
    "print(mse(test_pred, y_test))\n",
    "print(mape(test_pred, y_test))"
   ]
  },
  {
   "cell_type": "code",
   "execution_count": 38,
   "metadata": {},
   "outputs": [
    {
     "name": "stderr",
     "output_type": "stream",
     "text": [
      "/Users/chikakoolsen/opt/anaconda3/envs/tf/lib/python3.10/site-packages/numpy/lib/function_base.py:2829: RuntimeWarning: invalid value encountered in true_divide\n",
      "  c /= stddev[:, None]\n",
      "/Users/chikakoolsen/opt/anaconda3/envs/tf/lib/python3.10/site-packages/numpy/lib/function_base.py:2830: RuntimeWarning: invalid value encountered in true_divide\n",
      "  c /= stddev[None, :]\n"
     ]
    },
    {
     "data": {
      "text/plain": [
       "array([[nan, nan],\n",
       "       [nan,  1.]])"
      ]
     },
     "execution_count": 38,
     "metadata": {},
     "output_type": "execute_result"
    }
   ],
   "source": [
    "np.corrcoef(test_pred.flatten(),y_test)"
   ]
  },
  {
   "cell_type": "code",
   "execution_count": 39,
   "metadata": {},
   "outputs": [
    {
     "name": "stdout",
     "output_type": "stream",
     "text": [
      "30413/30413 [==============================] - 38s 1ms/step - loss: 76.8097 - accuracy: 4.1101e-06\n"
     ]
    },
    {
     "data": {
      "text/plain": [
       "[76.80967712402344, 4.110109784960514e-06]"
      ]
     },
     "execution_count": 39,
     "metadata": {},
     "output_type": "execute_result"
    }
   ],
   "source": [
    "model.evaluate(X_test, y_test)"
   ]
  },
  {
   "cell_type": "code",
   "execution_count": 40,
   "metadata": {},
   "outputs": [
    {
     "data": {
      "text/plain": [
       "-1.738404612039446e-05"
      ]
     },
     "execution_count": 40,
     "metadata": {},
     "output_type": "execute_result"
    }
   ],
   "source": [
    "r2_score(y_test, test_pred)"
   ]
  },
  {
   "cell_type": "code",
   "execution_count": 41,
   "metadata": {},
   "outputs": [
    {
     "name": "stdout",
     "output_type": "stream",
     "text": [
      "Model: \"sequential_2\"\n",
      "_________________________________________________________________\n",
      " Layer (type)                Output Shape              Param #   \n",
      "=================================================================\n",
      " conv1d_2 (Conv1D)           (None, 54, 32)            96        \n",
      "                                                                 \n",
      " flatten_2 (Flatten)         (None, 1728)              0         \n",
      "                                                                 \n",
      " dense_4 (Dense)             (None, 10)                17290     \n",
      "                                                                 \n",
      " dense_5 (Dense)             (None, 1)                 11        \n",
      "                                                                 \n",
      "=================================================================\n",
      "Total params: 17,397\n",
      "Trainable params: 17,397\n",
      "Non-trainable params: 0\n",
      "_________________________________________________________________\n"
     ]
    }
   ],
   "source": [
    "model.summary()"
   ]
  },
  {
   "cell_type": "code",
   "execution_count": 42,
   "metadata": {},
   "outputs": [
    {
     "data": {
      "text/plain": [
       "{'loss': [69.68523406982422,\n",
       "  69.56790161132812,\n",
       "  69.5673599243164,\n",
       "  69.56727600097656,\n",
       "  69.56737518310547,\n",
       "  69.5676040649414,\n",
       "  69.56756591796875,\n",
       "  69.56761932373047,\n",
       "  69.56724548339844,\n",
       "  69.56778717041016,\n",
       "  69.5670166015625],\n",
       " 'accuracy': [0.008129655383527279,\n",
       "  6.1651685427932534e-06,\n",
       "  6.1651685427932534e-06,\n",
       "  6.1651685427932534e-06,\n",
       "  6.1651685427932534e-06,\n",
       "  6.1651685427932534e-06,\n",
       "  6.1651685427932534e-06,\n",
       "  6.1651685427932534e-06,\n",
       "  6.1651685427932534e-06,\n",
       "  6.1651685427932534e-06,\n",
       "  6.1651685427932534e-06],\n",
       " 'val_loss': [76.80938720703125,\n",
       "  76.808349609375,\n",
       "  76.80852508544922,\n",
       "  76.80806732177734,\n",
       "  76.80989837646484,\n",
       "  76.80828094482422,\n",
       "  76.81019592285156,\n",
       "  76.8091812133789,\n",
       "  76.8093032836914,\n",
       "  76.80817413330078,\n",
       "  76.80967712402344],\n",
       " 'val_accuracy': [4.110109784960514e-06,\n",
       "  4.110109784960514e-06,\n",
       "  4.110109784960514e-06,\n",
       "  4.110109784960514e-06,\n",
       "  4.110109784960514e-06,\n",
       "  4.110109784960514e-06,\n",
       "  4.110109784960514e-06,\n",
       "  4.110109784960514e-06,\n",
       "  4.110109784960514e-06,\n",
       "  4.110109784960514e-06,\n",
       "  4.110109784960514e-06]}"
      ]
     },
     "execution_count": 42,
     "metadata": {},
     "output_type": "execute_result"
    }
   ],
   "source": [
    "history.history"
   ]
  }
 ],
 "metadata": {
  "kernelspec": {
   "display_name": "Python 3 (ipykernel)",
   "language": "python",
   "name": "python3"
  },
  "language_info": {
   "codemirror_mode": {
    "name": "ipython",
    "version": 3
   },
   "file_extension": ".py",
   "mimetype": "text/x-python",
   "name": "python",
   "nbconvert_exporter": "python",
   "pygments_lexer": "ipython3",
   "version": "3.10.6"
  }
 },
 "nbformat": 4,
 "nbformat_minor": 2
}
