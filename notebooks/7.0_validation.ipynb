{
 "cells": [
  {
   "cell_type": "code",
   "execution_count": 26,
   "id": "2399311f",
   "metadata": {},
   "outputs": [],
   "source": [
    "import pandas as pd\n",
    "import numpy as np\n",
    "import matplotlib.pyplot as plt\n",
    "import seaborn as sns\n",
    "from scipy import stats\n",
    "\n",
    "from sklearn.metrics import mean_squared_error as mse\n",
    "import tensorflow as tf\n",
    "from tensorflow import keras\n",
    "from tensorflow.keras import layers\n",
    "from tensorflow.keras.layers import Flatten, Dense\n",
    "\n",
    "from scikeras.wrappers import KerasRegressor\n",
    "from sklearn.model_selection import learning_curve\n",
    "from sklearn.model_selection import validation_curve"
   ]
  },
  {
   "cell_type": "markdown",
   "id": "a2dfe40a",
   "metadata": {},
   "source": [
    "# Load prepared data"
   ]
  },
  {
   "cell_type": "code",
   "execution_count": 3,
   "id": "bf29d1a7",
   "metadata": {},
   "outputs": [],
   "source": [
    "dir_path = \"/Users/chikakoolsen/opt/python/thesis/code/tdcs_thesis/\"\n",
    "# dir_path = \"/Users/mriworkshop/Documents/TDCS/code/tdcs_thesis/\"\n",
    "save_path = dir_path+\"data/raw/\"\n",
    "img_path =  dir_path+\"data/processed/\"\n",
    "model_path = dir_path+\"models/\""
   ]
  },
  {
   "cell_type": "markdown",
   "id": "ff088b00",
   "metadata": {},
   "source": [
    "## fmap mean all experiments"
   ]
  },
  {
   "cell_type": "code",
   "execution_count": 4,
   "id": "16271d2a",
   "metadata": {},
   "outputs": [],
   "source": [
    "file_mean = save_path+\"fmap_mean_erode.txt\"\n",
    "columns_mean =['exp', 'mini_exp', 'i', 'j', 'k', 'mean0', 'mean1', 'mean2', 'mean3', 'mean4', 'theory']\n",
    "data = np.loadtxt(file_mean);"
   ]
  },
  {
   "cell_type": "code",
   "execution_count": 5,
   "id": "f02cf5f6",
   "metadata": {},
   "outputs": [
    {
     "data": {
      "text/html": [
       "<div>\n",
       "<style scoped>\n",
       "    .dataframe tbody tr th:only-of-type {\n",
       "        vertical-align: middle;\n",
       "    }\n",
       "\n",
       "    .dataframe tbody tr th {\n",
       "        vertical-align: top;\n",
       "    }\n",
       "\n",
       "    .dataframe thead th {\n",
       "        text-align: right;\n",
       "    }\n",
       "</style>\n",
       "<table border=\"1\" class=\"dataframe\">\n",
       "  <thead>\n",
       "    <tr style=\"text-align: right;\">\n",
       "      <th></th>\n",
       "      <th>exp</th>\n",
       "      <th>mini_exp</th>\n",
       "      <th>i</th>\n",
       "      <th>j</th>\n",
       "      <th>k</th>\n",
       "      <th>mean0</th>\n",
       "      <th>mean1</th>\n",
       "      <th>mean2</th>\n",
       "      <th>mean3</th>\n",
       "      <th>mean4</th>\n",
       "      <th>theory</th>\n",
       "    </tr>\n",
       "  </thead>\n",
       "  <tbody>\n",
       "    <tr>\n",
       "      <th>0</th>\n",
       "      <td>36</td>\n",
       "      <td>1</td>\n",
       "      <td>0</td>\n",
       "      <td>0</td>\n",
       "      <td>0</td>\n",
       "      <td>0.0</td>\n",
       "      <td>0.0</td>\n",
       "      <td>0.0</td>\n",
       "      <td>0.0</td>\n",
       "      <td>0.0</td>\n",
       "      <td>0.0</td>\n",
       "    </tr>\n",
       "    <tr>\n",
       "      <th>1</th>\n",
       "      <td>36</td>\n",
       "      <td>1</td>\n",
       "      <td>0</td>\n",
       "      <td>0</td>\n",
       "      <td>1</td>\n",
       "      <td>0.0</td>\n",
       "      <td>0.0</td>\n",
       "      <td>0.0</td>\n",
       "      <td>0.0</td>\n",
       "      <td>0.0</td>\n",
       "      <td>0.0</td>\n",
       "    </tr>\n",
       "    <tr>\n",
       "      <th>2</th>\n",
       "      <td>36</td>\n",
       "      <td>1</td>\n",
       "      <td>0</td>\n",
       "      <td>0</td>\n",
       "      <td>2</td>\n",
       "      <td>0.0</td>\n",
       "      <td>0.0</td>\n",
       "      <td>0.0</td>\n",
       "      <td>0.0</td>\n",
       "      <td>0.0</td>\n",
       "      <td>0.0</td>\n",
       "    </tr>\n",
       "    <tr>\n",
       "      <th>3</th>\n",
       "      <td>36</td>\n",
       "      <td>1</td>\n",
       "      <td>0</td>\n",
       "      <td>0</td>\n",
       "      <td>3</td>\n",
       "      <td>0.0</td>\n",
       "      <td>0.0</td>\n",
       "      <td>0.0</td>\n",
       "      <td>0.0</td>\n",
       "      <td>0.0</td>\n",
       "      <td>0.0</td>\n",
       "    </tr>\n",
       "    <tr>\n",
       "      <th>4</th>\n",
       "      <td>36</td>\n",
       "      <td>1</td>\n",
       "      <td>0</td>\n",
       "      <td>0</td>\n",
       "      <td>4</td>\n",
       "      <td>0.0</td>\n",
       "      <td>0.0</td>\n",
       "      <td>0.0</td>\n",
       "      <td>0.0</td>\n",
       "      <td>0.0</td>\n",
       "      <td>0.0</td>\n",
       "    </tr>\n",
       "    <tr>\n",
       "      <th>...</th>\n",
       "      <td>...</td>\n",
       "      <td>...</td>\n",
       "      <td>...</td>\n",
       "      <td>...</td>\n",
       "      <td>...</td>\n",
       "      <td>...</td>\n",
       "      <td>...</td>\n",
       "      <td>...</td>\n",
       "      <td>...</td>\n",
       "      <td>...</td>\n",
       "      <td>...</td>\n",
       "    </tr>\n",
       "    <tr>\n",
       "      <th>5046267</th>\n",
       "      <td>35</td>\n",
       "      <td>5</td>\n",
       "      <td>43</td>\n",
       "      <td>63</td>\n",
       "      <td>59</td>\n",
       "      <td>0.0</td>\n",
       "      <td>0.0</td>\n",
       "      <td>0.0</td>\n",
       "      <td>0.0</td>\n",
       "      <td>0.0</td>\n",
       "      <td>0.0</td>\n",
       "    </tr>\n",
       "    <tr>\n",
       "      <th>5046268</th>\n",
       "      <td>35</td>\n",
       "      <td>5</td>\n",
       "      <td>43</td>\n",
       "      <td>63</td>\n",
       "      <td>60</td>\n",
       "      <td>0.0</td>\n",
       "      <td>0.0</td>\n",
       "      <td>0.0</td>\n",
       "      <td>0.0</td>\n",
       "      <td>0.0</td>\n",
       "      <td>0.0</td>\n",
       "    </tr>\n",
       "    <tr>\n",
       "      <th>5046269</th>\n",
       "      <td>35</td>\n",
       "      <td>5</td>\n",
       "      <td>43</td>\n",
       "      <td>63</td>\n",
       "      <td>61</td>\n",
       "      <td>0.0</td>\n",
       "      <td>0.0</td>\n",
       "      <td>0.0</td>\n",
       "      <td>0.0</td>\n",
       "      <td>0.0</td>\n",
       "      <td>0.0</td>\n",
       "    </tr>\n",
       "    <tr>\n",
       "      <th>5046270</th>\n",
       "      <td>35</td>\n",
       "      <td>5</td>\n",
       "      <td>43</td>\n",
       "      <td>63</td>\n",
       "      <td>62</td>\n",
       "      <td>0.0</td>\n",
       "      <td>0.0</td>\n",
       "      <td>0.0</td>\n",
       "      <td>0.0</td>\n",
       "      <td>0.0</td>\n",
       "      <td>0.0</td>\n",
       "    </tr>\n",
       "    <tr>\n",
       "      <th>5046271</th>\n",
       "      <td>35</td>\n",
       "      <td>5</td>\n",
       "      <td>43</td>\n",
       "      <td>63</td>\n",
       "      <td>63</td>\n",
       "      <td>0.0</td>\n",
       "      <td>0.0</td>\n",
       "      <td>0.0</td>\n",
       "      <td>0.0</td>\n",
       "      <td>0.0</td>\n",
       "      <td>0.0</td>\n",
       "    </tr>\n",
       "  </tbody>\n",
       "</table>\n",
       "<p>5046272 rows × 11 columns</p>\n",
       "</div>"
      ],
      "text/plain": [
       "         exp  mini_exp   i   j   k  mean0  mean1  mean2  mean3  mean4  theory\n",
       "0         36         1   0   0   0    0.0    0.0    0.0    0.0    0.0     0.0\n",
       "1         36         1   0   0   1    0.0    0.0    0.0    0.0    0.0     0.0\n",
       "2         36         1   0   0   2    0.0    0.0    0.0    0.0    0.0     0.0\n",
       "3         36         1   0   0   3    0.0    0.0    0.0    0.0    0.0     0.0\n",
       "4         36         1   0   0   4    0.0    0.0    0.0    0.0    0.0     0.0\n",
       "...      ...       ...  ..  ..  ..    ...    ...    ...    ...    ...     ...\n",
       "5046267   35         5  43  63  59    0.0    0.0    0.0    0.0    0.0     0.0\n",
       "5046268   35         5  43  63  60    0.0    0.0    0.0    0.0    0.0     0.0\n",
       "5046269   35         5  43  63  61    0.0    0.0    0.0    0.0    0.0     0.0\n",
       "5046270   35         5  43  63  62    0.0    0.0    0.0    0.0    0.0     0.0\n",
       "5046271   35         5  43  63  63    0.0    0.0    0.0    0.0    0.0     0.0\n",
       "\n",
       "[5046272 rows x 11 columns]"
      ]
     },
     "execution_count": 5,
     "metadata": {},
     "output_type": "execute_result"
    }
   ],
   "source": [
    "df = pd.DataFrame(data, columns=columns_mean)\n",
    "df = df.astype({\"exp\": int, \"i\": int, \"j\": int, \"k\": int, \"mini_exp\": int})\n",
    "df"
   ]
  },
  {
   "cell_type": "code",
   "execution_count": 6,
   "id": "309abd86",
   "metadata": {},
   "outputs": [
    {
     "name": "stdout",
     "output_type": "stream",
     "text": [
      "<class 'pandas.core.frame.DataFrame'>\n",
      "RangeIndex: 5046272 entries, 0 to 5046271\n",
      "Data columns (total 11 columns):\n",
      " #   Column    Dtype  \n",
      "---  ------    -----  \n",
      " 0   exp       int64  \n",
      " 1   mini_exp  int64  \n",
      " 2   i         int64  \n",
      " 3   j         int64  \n",
      " 4   k         int64  \n",
      " 5   mean0     float64\n",
      " 6   mean1     float64\n",
      " 7   mean2     float64\n",
      " 8   mean3     float64\n",
      " 9   mean4     float64\n",
      " 10  theory    float64\n",
      "dtypes: float64(6), int64(5)\n",
      "memory usage: 423.5 MB\n"
     ]
    }
   ],
   "source": [
    "df.info()"
   ]
  },
  {
   "cell_type": "markdown",
   "id": "d8d9e696",
   "metadata": {},
   "source": [
    "# Split data"
   ]
  },
  {
   "cell_type": "markdown",
   "id": "027af238",
   "metadata": {},
   "source": [
    "## Data 1. fmap mean all experiments"
   ]
  },
  {
   "cell_type": "code",
   "execution_count": 7,
   "id": "b8093eff",
   "metadata": {},
   "outputs": [],
   "source": [
    "df1_train = df[~((df['exp']==36) & ((df['mini_exp']==5) | (df['mini_exp']==6)))]\n",
    "df1_val =  df[(df['exp']==36) & (df['mini_exp']==5)]\n",
    "df1_test =  df[(df['exp']==36) & (df['mini_exp']==6)]"
   ]
  },
  {
   "cell_type": "code",
   "execution_count": 8,
   "id": "78d75acd",
   "metadata": {},
   "outputs": [
    {
     "name": "stdout",
     "output_type": "stream",
     "text": [
      "(4685824, 11)\n",
      "(180224, 11)\n",
      "(180224, 11)\n"
     ]
    }
   ],
   "source": [
    "print(df1_train.shape)\n",
    "print(df1_val.shape)\n",
    "print(df1_test.shape)"
   ]
  },
  {
   "cell_type": "code",
   "execution_count": 9,
   "id": "458c199d",
   "metadata": {},
   "outputs": [],
   "source": [
    "X1_train = df1_train.iloc[:, 5:-1].values \n",
    "y1_train = df1_train['theory'].values\n",
    "\n",
    "X1_test = df1_val.iloc[:, 5:-1].values \n",
    "y1_test = df1_val['theory'].values\n",
    "\n",
    "X1_pred = df1_test.iloc[:, 5:-1].values \n",
    "y1_pred = df1_val['theory'].values"
   ]
  },
  {
   "cell_type": "code",
   "execution_count": 10,
   "id": "b8449d24",
   "metadata": {},
   "outputs": [
    {
     "name": "stdout",
     "output_type": "stream",
     "text": [
      "(4685824, 5)\n",
      "(4685824,)\n",
      "(180224, 5)\n",
      "(180224,)\n",
      "(180224, 5)\n",
      "(180224,)\n"
     ]
    }
   ],
   "source": [
    "print(X1_train.shape)\n",
    "print(y1_train.shape)\n",
    "print(X1_test.shape)\n",
    "print(y1_test.shape)\n",
    "print(X1_pred.shape)\n",
    "print(y1_pred.shape)"
   ]
  },
  {
   "cell_type": "code",
   "execution_count": null,
   "id": "e3455e8f",
   "metadata": {},
   "outputs": [],
   "source": []
  },
  {
   "cell_type": "markdown",
   "id": "eff9adfb",
   "metadata": {},
   "source": [
    "# Create estimator"
   ]
  },
  {
   "cell_type": "code",
   "execution_count": 11,
   "id": "a334d86c",
   "metadata": {},
   "outputs": [],
   "source": [
    "X_train = X1_train\n",
    "y_train = y1_train\n",
    "X_test = X1_test\n",
    "y_test = y1_test"
   ]
  },
  {
   "cell_type": "code",
   "execution_count": 27,
   "id": "0a14f5cd",
   "metadata": {},
   "outputs": [],
   "source": [
    "shape = (len(X_train[0]),)\n",
    "def create_model():\n",
    "    model = keras.Sequential()\n",
    "    model.add(Dense(7, activation='relu', input_shape=shape)) \n",
    "    model.add(Dense(7, activation='relu'))\n",
    "    model.add(Dense(7, activation='relu'))\n",
    "    model.add(Dense(7, activation='relu'))\n",
    "    model.add(Dense(7, activation='relu'))\n",
    "    model.add(Dense(1, activation='linear'))\n",
    "    model.compile(optimizer='RMSprop', loss='mse', metrics=[\"mean_squared_error\"])\n",
    "    return model"
   ]
  },
  {
   "cell_type": "code",
   "execution_count": 28,
   "id": "38711901",
   "metadata": {},
   "outputs": [],
   "source": [
    "estimator = KerasRegressor(model=create_model, verbose=1)"
   ]
  },
  {
   "cell_type": "markdown",
   "id": "9cbc0368",
   "metadata": {},
   "source": [
    "# Visualizing validation curves"
   ]
  },
  {
   "cell_type": "code",
   "execution_count": null,
   "id": "37bbdf58",
   "metadata": {},
   "outputs": [],
   "source": [
    "param_range = [0.01, 0.1, 1.0, 10.0, 100.0]\n",
    "\n",
    "train_scores, test_scores = validation_curve(\n",
    "                estimator=estimator, \n",
    "                X=X_train, \n",
    "                y=y_train, \n",
    "                param_name='C', \n",
    "                param_range=param_range,\n",
    "                cv=5,\n",
    "                verbose=1)\n",
    "\n",
    "train_mean = np.mean(train_scores, axis=1)\n",
    "train_std = np.std(train_scores, axis=1)\n",
    "test_mean = np.mean(test_scores, axis=1)\n",
    "test_std = np.std(test_scores, axis=1)\n",
    "\n",
    "plt.plot(param_range, train_mean, \n",
    "         color='blue', marker='o', \n",
    "         markersize=5, label='Training MSE')\n",
    "\n",
    "plt.fill_between(param_range, train_mean + train_std,\n",
    "                 train_mean - train_std, alpha=0.15,\n",
    "                 color='blue')\n",
    "\n",
    "plt.plot(param_range, test_mean, \n",
    "         color='green', linestyle='--', \n",
    "         marker='s', markersize=5, \n",
    "         label='Validation MSE')\n",
    "\n",
    "plt.fill_between(param_range, \n",
    "                 test_mean + test_std,\n",
    "                 test_mean - test_std, \n",
    "                 alpha=0.15, color='green')\n",
    "\n",
    "plt.grid()\n",
    "plt.xscale('log')\n",
    "plt.legend(loc='lower right')\n",
    "plt.xlabel('Parameter C')\n",
    "plt.ylabel('Mean Squared Error')\n",
    "plt.tight_layout()\n",
    "plt.show()"
   ]
  },
  {
   "cell_type": "markdown",
   "id": "a2261d05",
   "metadata": {},
   "source": [
    "# Visualizing learning curves"
   ]
  },
  {
   "cell_type": "code",
   "execution_count": 30,
   "id": "effc0650",
   "metadata": {
    "scrolled": false
   },
   "outputs": [
    {
     "name": "stdout",
     "output_type": "stream",
     "text": [
      "[learning_curve] Training set sizes: [  10000   30000  100000  300000 1000000 3000000]\n"
     ]
    },
    {
     "name": "stderr",
     "output_type": "stream",
     "text": [
      "[Parallel(n_jobs=1)]: Using backend SequentialBackend with 1 concurrent workers.\n"
     ]
    },
    {
     "name": "stdout",
     "output_type": "stream",
     "text": [
      "313/313 [==============================] - 1s 1ms/step - loss: 35.4740 - mean_squared_error: 35.4740\n",
      "29287/29287 [==============================] - 26s 896us/step\n",
      "313/313 [==============================] - 0s 861us/step\n",
      "938/938 [==============================] - 2s 1ms/step - loss: 11.5613 - mean_squared_error: 11.5613\n",
      "29287/29287 [==============================] - 27s 922us/step\n",
      "938/938 [==============================] - 1s 1ms/step\n",
      "3125/3125 [==============================] - 4s 1ms/step - loss: 20.6590 - mean_squared_error: 20.6590\n",
      "29287/29287 [==============================] - 27s 906us/step\n",
      "3125/3125 [==============================] - 3s 1ms/step\n",
      "9375/9375 [==============================] - 12s 1ms/step - loss: 11.5057 - mean_squared_error: 11.5057\n",
      "29287/29287 [==============================] - 28s 948us/step\n",
      "9375/9375 [==============================] - 9s 946us/step\n",
      "31250/31250 [==============================] - 39s 1ms/step - loss: 5.1570 - mean_squared_error: 5.1570\n",
      "29287/29287 [==============================] - 27s 929us/step\n",
      "31250/31250 [==============================] - 31s 993us/step\n",
      "93750/93750 [==============================] - 115s 1ms/step - loss: 9.4780 - mean_squared_error: 9.4780\n",
      "29287/29287 [==============================] - 28s 937us/step\n",
      "93750/93750 [==============================] - 92s 982us/step\n",
      "313/313 [==============================] - 1s 2ms/step - loss: 0.0000e+00 - mean_squared_error: 0.0000e+00\n",
      "29287/29287 [==============================] - 28s 947us/step\n",
      "313/313 [==============================] - 0s 1ms/step\n",
      "938/938 [==============================] - 2s 2ms/step - loss: 0.0000e+00 - mean_squared_error: 0.0000e+00\n",
      "29287/29287 [==============================] - 26s 885us/step\n",
      "938/938 [==============================] - 1s 874us/step\n",
      "3125/3125 [==============================] - 5s 1ms/step - loss: 19.3501 - mean_squared_error: 19.3501\n",
      "29287/29287 [==============================] - 27s 933us/step\n",
      "3125/3125 [==============================] - 3s 949us/step\n",
      "9375/9375 [==============================] - 11s 1ms/step - loss: 13.6133 - mean_squared_error: 13.6133\n",
      "29287/29287 [==============================] - 26s 882us/step\n",
      "9375/9375 [==============================] - 8s 896us/step\n",
      "31250/31250 [==============================] - 40s 1ms/step - loss: 22.7129 - mean_squared_error: 22.7129\n",
      "29287/29287 [==============================] - 24s 833us/step\n",
      "31250/31250 [==============================] - 29s 922us/step\n",
      "93750/93750 [==============================] - 107s 1ms/step - loss: 10.8907 - mean_squared_error: 10.8907\n",
      "29287/29287 [==============================] - 25s 861us/step\n",
      "93750/93750 [==============================] - 89s 949us/step\n",
      "313/313 [==============================] - 1s 1ms/step - loss: 0.0000e+00 - mean_squared_error: 0.0000e+00\n",
      "29287/29287 [==============================] - 26s 871us/step\n",
      "313/313 [==============================] - 0s 964us/step\n",
      "938/938 [==============================] - 2s 1ms/step - loss: 0.0000e+00 - mean_squared_error: 0.0000e+00\n",
      "29287/29287 [==============================] - 26s 884us/step\n",
      "938/938 [==============================] - 1s 873us/step\n",
      "3125/3125 [==============================] - 4s 1ms/step - loss: 20.2603 - mean_squared_error: 20.2603\n",
      "29287/29287 [==============================] - 25s 849us/step\n",
      "3125/3125 [==============================] - 3s 948us/step\n",
      "9375/9375 [==============================] - 12s 1ms/step - loss: 16.4717 - mean_squared_error: 16.4717\n",
      "29287/29287 [==============================] - 25s 846us/step\n",
      "9375/9375 [==============================] - 10s 1ms/step\n",
      "31250/31250 [==============================] - 38s 1ms/step - loss: 8.5081 - mean_squared_error: 8.5081\n",
      "29287/29287 [==============================] - 31s 1ms/step\n",
      "31250/31250 [==============================] - 33s 1ms/step\n",
      "93750/93750 [==============================] - 114s 1ms/step - loss: 13.2362 - mean_squared_error: 13.2362\n",
      "29287/29287 [==============================] - 25s 860us/step\n",
      "93750/93750 [==============================] - 90s 965us/step\n",
      "313/313 [==============================] - 1s 1ms/step - loss: 0.0000e+00 - mean_squared_error: 0.0000e+00\n",
      "29287/29287 [==============================] - 25s 859us/step\n",
      "313/313 [==============================] - 0s 769us/step\n",
      "938/938 [==============================] - 2s 1ms/step - loss: 0.0000e+00 - mean_squared_error: 0.0000e+00\n",
      "29287/29287 [==============================] - 26s 879us/step\n",
      "938/938 [==============================] - 1s 840us/step\n",
      "3125/3125 [==============================] - 4s 1ms/step - loss: 23.8556 - mean_squared_error: 23.8556\n",
      "29287/29287 [==============================] - 25s 855us/step\n",
      "3125/3125 [==============================] - 3s 891us/step\n",
      "9375/9375 [==============================] - 11s 1ms/step - loss: 78.5015 - mean_squared_error: 78.5015\n",
      "29287/29287 [==============================] - 24s 832us/step\n",
      "9375/9375 [==============================] - 8s 891us/step\n",
      "31250/31250 [==============================] - 36s 1ms/step - loss: 29.6846 - mean_squared_error: 29.6846\n",
      "29287/29287 [==============================] - 24s 816us/step\n",
      "31250/31250 [==============================] - 28s 887us/step\n",
      "93750/93750 [==============================] - 104s 1ms/step - loss: 11.2989 - mean_squared_error: 11.2989\n",
      "29287/29287 [==============================] - 24s 822us/step\n",
      "93750/93750 [==============================] - 85s 910us/step\n",
      "313/313 [==============================] - 1s 1ms/step - loss: 0.0000e+00 - mean_squared_error: 0.0000e+00\n",
      "29287/29287 [==============================] - 25s 861us/step\n",
      "313/313 [==============================] - 0s 900us/step\n",
      "938/938 [==============================] - 2s 1ms/step - loss: 0.0000e+00 - mean_squared_error: 0.0000e+00\n",
      "29287/29287 [==============================] - 25s 864us/step\n",
      "938/938 [==============================] - 1s 912us/step\n",
      "3125/3125 [==============================] - 4s 1ms/step - loss: 52.9193 - mean_squared_error: 52.9193\n",
      "29287/29287 [==============================] - 26s 894us/step\n",
      "3125/3125 [==============================] - 3s 1ms/step\n",
      "9375/9375 [==============================] - 12s 1ms/step - loss: 26.0987 - mean_squared_error: 26.0987\n",
      "29287/29287 [==============================] - 26s 881us/step\n",
      "9375/9375 [==============================] - 9s 957us/step\n",
      "31250/31250 [==============================] - 36s 1ms/step - loss: 13.2468 - mean_squared_error: 13.2468\n",
      "29287/29287 [==============================] - 23s 781us/step\n",
      "31250/31250 [==============================] - 26s 831us/step\n",
      "93750/93750 [==============================] - 96s 1ms/step - loss: 12.1881 - mean_squared_error: 12.1881\n",
      "29287/29287 [==============================] - 24s 833us/step\n",
      "93750/93750 [==============================] - 78s 829us/step\n"
     ]
    },
    {
     "name": "stderr",
     "output_type": "stream",
     "text": [
      "[Parallel(n_jobs=1)]: Done  30 out of  30 | elapsed: 43.1min finished\n"
     ]
    },
    {
     "data": {
      "image/png": "[encoded data removed]",
      "text/plain": [
       "<Figure size 640x480 with 1 Axes>"
      ]
     },
     "metadata": {},
     "output_type": "display_data"
    }
   ],
   "source": [
    "train_sizes = [100, 300, 1000, 3000, 10000, 30000]\n",
    "\n",
    "train_sizes, train_scores, test_scores =\\\n",
    "                learning_curve(estimator=estimator,\n",
    "                               X=X_train,\n",
    "                               y=y_train,\n",
    "                               train_sizes=train_sizes,\n",
    "                               cv=5,\n",
    "                               n_jobs=1,\n",
    "                               scoring = 'neg_mean_squared_error', verbose=1)\n",
    "\n",
    "\n",
    "train_mean = np.mean(train_scores, axis=1)\n",
    "train_std = np.std(train_scores, axis=1)\n",
    "test_mean = np.mean(test_scores, axis=1)\n",
    "test_std = np.std(test_scores, axis=1)\n",
    "\n",
    "plt.plot(train_sizes, train_mean,\n",
    "         color='blue', marker='o',\n",
    "         markersize=5, label='Training MSE')\n",
    "\n",
    "plt.fill_between(train_sizes,\n",
    "                 train_mean + train_std,\n",
    "                 train_mean - train_std,\n",
    "                 alpha=0.15, color='blue')\n",
    "\n",
    "plt.plot(train_sizes, test_mean,\n",
    "         color='green', linestyle='--',\n",
    "         marker='s', markersize=5,\n",
    "         label='Validation MSE')\n",
    "\n",
    "plt.fill_between(train_sizes,\n",
    "                 test_mean + test_std,\n",
    "                 test_mean - test_std,\n",
    "                 alpha=0.15, color='green')\n",
    "\n",
    "plt.grid()\n",
    "plt.xlabel('Number of training examples')\n",
    "plt.ylabel('Mean Squared Error')\n",
    "plt.legend(loc='lower right')\n",
    "plt.tight_layout()\n",
    "plt.show()\n"
   ]
  }
 ],
 "metadata": {
  "kernelspec": {
   "display_name": "Python 3 (ipykernel)",
   "language": "python",
   "name": "python3"
  },
  "language_info": {
   "codemirror_mode": {
    "name": "ipython",
    "version": 3
   },
   "file_extension": ".py",
   "mimetype": "text/x-python",
   "name": "python",
   "nbconvert_exporter": "python",
   "pygments_lexer": "ipython3",
   "version": "3.10.6"
  }
 },
 "nbformat": 4,
 "nbformat_minor": 5
}
