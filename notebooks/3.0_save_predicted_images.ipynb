{
 "cells": [
  {
   "cell_type": "code",
   "execution_count": 1,
   "metadata": {},
   "outputs": [],
   "source": [
    "import nibabel as nib\n",
    "import pandas as pd\n",
    "import matplotlib.pyplot as plt\n",
    "import numpy as np\n",
    "import seaborn as sb\n",
    "# import subprocess as cmd\n",
    "import commands"
   ]
  },
  {
   "cell_type": "code",
   "execution_count": 2,
   "metadata": {},
   "outputs": [],
   "source": [
    "save_path = \"/Users/chikakoolsen/opt/python/thesis/code/tdcs_thesis/data/processed/\"\n",
    "sub_path_38 = \"/Users/chikakoolsen/opt/python/thesis/code/tdcs_thesis/data/raw/R21_38_Cyl_Aqueous/\"\n",
    "mask = sub_path_38+\"NIFTI/bmaps_numpy/6minus4/mask.nii.gz\"\n",
    "fmap_file = sub_path_38+\"NIFTI/bmaps_numpy/6minus4/4d_fmap_Mean.nii.gz\""
   ]
  },
  {
   "cell_type": "code",
   "execution_count": 17,
   "metadata": {},
   "outputs": [],
   "source": [
    "txt_file = save_path+\"lr_predict.txt\""
   ]
  },
  {
   "cell_type": "code",
   "execution_count": 18,
   "metadata": {},
   "outputs": [
    {
     "data": {
      "text/plain": [
       "'++ 3dUndump: AFNI version=AFNI_22.1.14 (Jun 24 2022) [64-bit]\\n++ Starting to fill via -ijk indexes\\n++ Total number of voxels filled = 180224\\n++ Wrote out dataset /Users/chikakoolsen/opt/python/thesis/code/tdcs_thesis/data/processed/predicted.nii.gz'"
      ]
     },
     "execution_count": 18,
     "metadata": {},
     "output_type": "execute_result"
    }
   ],
   "source": [
    "save_file = save_path+\"predicted.nii.gz\"\n",
    "commands.getoutput(\"3dUndump -prefix \"+save_file+\" -master \"+fmap_file+\" -datum float \"+txt_file)"
   ]
  },
  {
   "cell_type": "code",
   "execution_count": 19,
   "metadata": {},
   "outputs": [
    {
     "data": {
      "text/plain": [
       "'++ 3dUndump: AFNI version=AFNI_22.1.14 (Jun 24 2022) [64-bit]\\n++ 34853 voxels found in mask\\n++ Starting to fill via -ijk indexes\\n++ Total number of voxels filled = 34853\\n++ Wrote out dataset /Users/chikakoolsen/opt/python/thesis/code/tdcs_thesis/data/processed/predicted2.nii'"
      ]
     },
     "execution_count": 19,
     "metadata": {},
     "output_type": "execute_result"
    }
   ],
   "source": [
    "save_file = save_path+\"predicted2.nii\"\n",
    "commands.getoutput(\"3dUndump -ijk -datum float -prefix \"+save_file+\" -master \"+mask+\" -mask \"+mask+\" \"+txt_file)\n"
   ]
  },
  {
   "cell_type": "code",
   "execution_count": null,
   "metadata": {},
   "outputs": [],
   "source": []
  },
  {
   "cell_type": "code",
   "execution_count": 24,
   "metadata": {},
   "outputs": [],
   "source": [
    "txt_file = save_path+\"lr_predict_new.txt\""
   ]
  },
  {
   "cell_type": "code",
   "execution_count": 25,
   "metadata": {},
   "outputs": [
    {
     "data": {
      "text/plain": [
       "'++ 3dUndump: AFNI version=AFNI_22.1.14 (Jun 24 2022) [64-bit]\\n++ Starting to fill via -ijk indexes\\n++ Total number of voxels filled = 180224\\n++ Wrote out dataset /Users/chikakoolsen/opt/python/thesis/code/tdcs_thesis/data/processed/predicted_new1.nii.gz'"
      ]
     },
     "execution_count": 25,
     "metadata": {},
     "output_type": "execute_result"
    }
   ],
   "source": [
    "save_file = save_path+\"predicted_new1.nii.gz\"\n",
    "commands.getoutput(\"3dUndump -prefix \"+save_file+\" -master \"+fmap_file+\" -datum float \"+txt_file)"
   ]
  },
  {
   "cell_type": "code",
   "execution_count": 26,
   "metadata": {},
   "outputs": [
    {
     "data": {
      "text/plain": [
       "'++ 3dUndump: AFNI version=AFNI_22.1.14 (Jun 24 2022) [64-bit]\\n++ 34853 voxels found in mask\\n++ Starting to fill via -ijk indexes\\n++ Total number of voxels filled = 34853\\n++ Wrote out dataset /Users/chikakoolsen/opt/python/thesis/code/tdcs_thesis/data/processed/predicted_new2.nii'"
      ]
     },
     "execution_count": 26,
     "metadata": {},
     "output_type": "execute_result"
    }
   ],
   "source": [
    "save_file = save_path+\"predicted_new2.nii\"\n",
    "commands.getoutput(\"3dUndump -ijk -datum float -prefix \"+save_file+\" -master \"+mask+\" -mask \"+mask+\" \"+txt_file)\n"
   ]
  },
  {
   "cell_type": "code",
   "execution_count": null,
   "metadata": {},
   "outputs": [],
   "source": []
  },
  {
   "cell_type": "code",
   "execution_count": 3,
   "metadata": {},
   "outputs": [],
   "source": [
    "txt_file = save_path+\"nn2.txt\""
   ]
  },
  {
   "cell_type": "code",
   "execution_count": 4,
   "metadata": {},
   "outputs": [
    {
     "data": {
      "text/plain": [
       "'++ 3dUndump: AFNI version=AFNI_22.1.14 (Jun 24 2022) [64-bit]\\n++ Starting to fill via -ijk indexes\\n++ Total number of voxels filled = 180224\\n++ Wrote out dataset /Users/chikakoolsen/opt/python/thesis/code/tdcs_thesis/data/processed/predicted_nn2.nii.gz'"
      ]
     },
     "execution_count": 4,
     "metadata": {},
     "output_type": "execute_result"
    }
   ],
   "source": [
    "save_file = save_path+\"predicted_nn2.nii.gz\"\n",
    "commands.getoutput(\"3dUndump -prefix \"+save_file+\" -master \"+fmap_file+\" -datum float \"+txt_file)"
   ]
  }
 ],
 "metadata": {
  "kernelspec": {
   "display_name": "Python 2",
   "language": "python",
   "name": "python2"
  },
  "language_info": {
   "codemirror_mode": {
    "name": "ipython",
    "version": 2
   },
   "file_extension": ".py",
   "mimetype": "text/x-python",
   "name": "python",
   "nbconvert_exporter": "python",
   "pygments_lexer": "ipython2",
   "version": "2.7.18"
  }
 },
 "nbformat": 4,
 "nbformat_minor": 2
}
