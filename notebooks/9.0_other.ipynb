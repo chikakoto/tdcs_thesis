{
 "cells": [
  {
   "cell_type": "code",
   "execution_count": 1,
   "metadata": {},
   "outputs": [],
   "source": [
    "import nibabel as nib\n",
    "import pandas as pd\n",
    "import matplotlib.pyplot as plt\n",
    "import numpy as np\n",
    "import seaborn as sb\n",
    "from scipy import stats\n",
    "import commands"
   ]
  },
  {
   "cell_type": "code",
   "execution_count": 16,
   "metadata": {},
   "outputs": [],
   "source": [
    "def get_even_num(num=93):\n",
    "    runs = []\n",
    "    evens = []\n",
    "    j = 0\n",
    "    for i in range(num):\n",
    "        if (i != 0) & (i != 2):\n",
    "            if i % 2 == 0:\n",
    "                evens.append(str(i))\n",
    "                j += 1\n",
    "                if j == 5: \n",
    "                    runs.append(evens)\n",
    "                    evens = []\n",
    "                    j = 0\n",
    "    return runs"
   ]
  },
  {
   "cell_type": "code",
   "execution_count": 13,
   "metadata": {},
   "outputs": [],
   "source": [
    "def get_minus_num(base_runs):\n",
    "    li = []\n",
    "    for i in range(len(base_runs)):\n",
    "        li.append([[base_runs[i][1],base_runs[i][0]], [base_runs[i][3],base_runs[i][0]], [base_runs[i][1],base_runs[i][3]]])\n",
    "    return li"
   ]
  },
  {
   "cell_type": "code",
   "execution_count": 83,
   "metadata": {},
   "outputs": [],
   "source": [
    "data_path = \"/Users/chikakoolsen/opt/python/thesis/code/tdcs_thesis/data/\"\n",
    "img_path = data_path+\"processed/NIFTI/\"\n",
    "save_path = data_path+\"raw/\"\n",
    "\n",
    "sub_path_36 = data_path+\"external/R21_36_Cyl_Aqueous_v3_simplot/\"\n",
    "sub_path_42 = data_path+\"external/R21_42_SphereProto3/\"\n",
    "sub_path_43 = data_path+\"external/R21_43_Sphere_Proto3/\"\n",
    "sub_path_44 = data_path+\"external/R21_44_Sphere_Proto3/\"\n",
    "sub_path_45 = data_path+\"external/R21_45_Sphere_Proto3/\"\n",
    "# tes = [2.46, 4.61, 7.09, 10.5, 15.0, 20.0, 24.5, 29.0, 33.5, 38.0, 42.5, 47.0]\n",
    "\n",
    "base_runs = get_even_num()\n",
    "bp = get_minus_num(base_runs)"
   ]
  },
  {
   "cell_type": "code",
   "execution_count": null,
   "metadata": {},
   "outputs": [],
   "source": []
  },
  {
   "cell_type": "code",
   "execution_count": 72,
   "metadata": {},
   "outputs": [],
   "source": [
    "br = [['66', '68', '70', '72', '74'],\n",
    " ['76', '78', '80', '82', '84'],\n",
    " ['86', '88', '90', '92', '94']]\n",
    "bp = get_minus_num(br)"
   ]
  },
  {
   "cell_type": "code",
   "execution_count": 76,
   "metadata": {},
   "outputs": [],
   "source": [
    "br = base_runs[3:6]\n",
    "bp = get_minus_num(br)"
   ]
  },
  {
   "cell_type": "code",
   "execution_count": 77,
   "metadata": {},
   "outputs": [
    {
     "data": {
      "text/plain": [
       "[[['36', '34'], ['40', '34'], ['36', '40']],\n",
       " [['46', '44'], ['50', '44'], ['46', '50']],\n",
       " [['56', '54'], ['60', '54'], ['56', '60']]]"
      ]
     },
     "execution_count": 77,
     "metadata": {},
     "output_type": "execute_result"
    }
   ],
   "source": [
    "bp"
   ]
  },
  {
   "cell_type": "code",
   "execution_count": null,
   "metadata": {},
   "outputs": [],
   "source": []
  },
  {
   "cell_type": "code",
   "execution_count": null,
   "metadata": {},
   "outputs": [],
   "source": []
  },
  {
   "cell_type": "code",
   "execution_count": 30,
   "metadata": {},
   "outputs": [],
   "source": [
    "# DOESN'T WORK\n",
    "def bet_t1(sub_path, base_fldr):\n",
    "    cwd_path = sub_path+\"bmaps/\"\n",
    "    tdir = cwd_path+base_fldr+\"/\"\n",
    "    t1dir = cwd_path+\"T1/\"\n",
    "    \n",
    "    print commands.getoutput(\"bet \"+t1dir+\"/T1.nii T1_bet -Z -m -s -A\")\n",
    "#     print commands.getoutput(\"3dresample -master \"+tdir+\"4d_fmap_Mean.nii.gz -prefix \"+t1dir+\"T1_bet_mask_4mm_iso.nii.gz -input \"+t1dir+\"T1_bet_mask.nii.gz\")\n",
    "    "
   ]
  },
  {
   "cell_type": "code",
   "execution_count": null,
   "metadata": {},
   "outputs": [],
   "source": [
    "#42\n",
    "bet_t1(sub_path_42, '68minus66')"
   ]
  },
  {
   "cell_type": "code",
   "execution_count": 31,
   "metadata": {},
   "outputs": [
    {
     "name": "stdout",
     "output_type": "stream",
     "text": [
      "\n"
     ]
    }
   ],
   "source": [
    "#43\n",
    "bet_t1(sub_path_43, '36minus34')"
   ]
  },
  {
   "cell_type": "code",
   "execution_count": null,
   "metadata": {},
   "outputs": [],
   "source": [
    "#44\n",
    "bet_t1(sub_path_44, '36minus34')"
   ]
  },
  {
   "cell_type": "code",
   "execution_count": 95,
   "metadata": {},
   "outputs": [],
   "source": [
    "def upscale_fmap_mean(sub_path, base_runs, bp, mins):\n",
    "    for n in range(len(base_runs)):\n",
    "        cwd_path = sub_path+\"bmaps/\"\n",
    "#         cwd_path = sub_path+\"NIFTI/bmaps_numpy/\"\n",
    "        for m in range(2):\n",
    "            tdir = cwd_path+bp[n][m][0]+\"minus\"+bp[n][m][1]+\"/\"\n",
    "            t1dir = cwd_path+\"T1/\"\n",
    "            print commands.getoutput(\"3dBlurInMask -input \"+tdir+\"4d_fmap_Mean.nii.gz -FWHM 8 -prefix \"+tdir+\"4d_fmap_Mean_blur_bet_mask.nii.gz -mask \"+t1dir+\"T1_bet_mask_4mm_iso.nii.gz\")\n",
    "            print commands.getoutput(\"3dresample -input \"+tdir+\"4d_fmap_Mean_blur_bet_mask.nii.gz -master \"+t1dir+\"T1.nii -rmode Li -prefix \"+tdir+\"4d_fmap_Mean_blur_bet_mask_1mm_Li.nii.gz\")\n",
    "            print commands.getoutput(\"fslmaths \"+tdir+\"4d_fmap_Mean_blur_bet_mask_1mm_Li.nii.gz -mul \"+t1dir+\"T1_bet_mask.nii.gz \"+tdir+\"4d_fmap_Mean_final_result.nii\")\n",
    "            print commands.getoutput(\"fslroi \"+tdir+\"4d_fmap_Mean_final_result.nii.gz \"+tdir+\"4d_fmap_Mean_final_result_fslroi.nii \"+mins[0]+\" 73 \"+mins[1]+\" 73 \"+mins[2]+\" 173\")\n",
    "            "
   ]
  },
  {
   "cell_type": "code",
   "execution_count": 93,
   "metadata": {},
   "outputs": [],
   "source": [
    "def upscale_bval(sub_path, base_runs, bp, mins):\n",
    "    for n in range(len(base_runs)):\n",
    "        cwd_path = sub_path+\"bmaps/\"\n",
    "#         cwd_path = sub_path+\"NIFTI/bmaps_numpy/\"\n",
    "        for m in range(2):\n",
    "            tdir = cwd_path+bp[n][m][0]+\"minus\"+bp[n][m][1]+\"/\"\n",
    "            t1dir = cwd_path+\"T1/\"\n",
    "            print commands.getoutput(\"3dBlurInMask -input \"+tdir+\"Bvals.nii -FWHM 8 -prefix \"+tdir+\"Bvals_blur_bet_mask.nii.gz -mask \"+t1dir+\"T1_bet_mask_4mm_iso.nii.gz\")\n",
    "            print commands.getoutput(\"3dresample -input \"+tdir+\"Bvals_blur_bet_mask.nii.gz -master \"+t1dir+\"T1.nii -rmode Li -prefix \"+tdir+\"Bvals__blur_bet_mask_1mm_Li.nii.gz\")\n",
    "            print commands.getoutput(\"fslmaths \"+tdir+\"Bvals__blur_bet_mask_1mm_Li.nii.gz -mul \"+t1dir+\"T1_bet_mask.nii.gz \"+tdir+\"Bvals_final_result.nii\")\n",
    "            print commands.getoutput(\"fslroi \"+tdir+\"Bvals_final_result.nii.gz \"+tdir+\"Bvals_final_result_fslroi.nii \"+mins[0]+\" 73 \"+mins[1]+\" 73 \"+mins[2]+\" 173\")\n",
    "            "
   ]
  },
  {
   "cell_type": "code",
   "execution_count": 89,
   "metadata": {},
   "outputs": [],
   "source": [
    "# detrend\n",
    "def upscale_fmap(sub_path, base_runs, bp, mins):\n",
    "    for n in range(len(base_runs)):\n",
    "        cwd_path = sub_path+\"bmaps/\"\n",
    "#         cwd_path = sub_path+\"NIFTI/bmaps_numpy/\"\n",
    "        for m in range(2):\n",
    "            tdir = cwd_path+bp[n][m][0]+\"minus\"+bp[n][m][1]+\"/\"\n",
    "            t1dir = cwd_path+\"T1/\"\n",
    "#             print commands.getoutput(\"3dBlurInMask -input \"+tdir+\"detrend14d_fmap_Mean.nii.gz -FWHM 8 -prefix \"+tdir+\"detrend14d_fmap_Mean_blur_bet_mask.nii.gz -mask \"+t1dir+\"T1_bet_mask_4mm_iso.nii.gz\")\n",
    "#             print commands.getoutput(\"3dBlurInMask -input \"+tdir+\"detrend1.nii.gz -FWHM 8 -prefix \"+tdir+\"detrend14d_fmap_Mean_blur_bet_mask.nii.gz -mask \"+t1dir+\"T1_bet_mask_4mm_iso.nii.gz\")\n",
    "#             print commands.getoutput(\"3dresample -input \"+tdir+\"detrend14d_fmap_Mean_blur_bet_mask.nii.gz -master \"+t1dir+\"T1.nii -rmode Li -prefix \"+tdir+\"detrend14d_fmap_Mean_blur_bet_mask_1mm_Li.nii.gz\")\n",
    "#             print commands.getoutput(\"fslmaths \"+tdir+\"detrend14d_fmap_Mean_blur_bet_mask_1mm_Li.nii.gz -mul \"+t1dir+\"T1_bet_mask.nii.gz \"+tdir+\"final_result.nii\")\n",
    "#             print commands.getoutput(\"fslroi \"+tdir+\"final_result.nii.gz \"+tdir+\"final_result_fslroi.nii \"+mins[0]+\" 77 \"+mins[1]+\" 77 \"+mins[2]+\" 77\")\n",
    "            print commands.getoutput(\"fslroi \"+tdir+\"final_result.nii.gz \"+tdir+\"final_result_fslroi.nii \"+mins[0]+\" 73 \"+mins[1]+\" 73 \"+mins[2]+\" 173\")\n",
    "            "
   ]
  },
  {
   "cell_type": "code",
   "execution_count": 96,
   "metadata": {},
   "outputs": [
    {
     "name": "stdout",
     "output_type": "stream",
     "text": [
      "++ 3dBlurInMask: AFNI version=AFNI_22.1.14 (Jun 24 2022) [64-bit]\n",
      "++ Authored by: RW Cox\n",
      "++ Number of voxels in mask = 38068\n",
      "++ forcing output to be stored in float format\n",
      "++ mri_blur3D: #iter=6 fx=0.03006 fy=0.03006 fz=0.03006\n",
      "++ Output dataset /Users/chikakoolsen/opt/python/thesis/code/tdcs_thesis/data/external/R21_36_Cyl_Aqueous_v3_simplot/bmaps/56minus54/4d_fmap_Mean_blur_bet_mask.nii.gz\n",
      "\n",
      "\n",
      "\n",
      "++ 3dBlurInMask: AFNI version=AFNI_22.1.14 (Jun 24 2022) [64-bit]\n",
      "++ Authored by: RW Cox\n",
      "++ Number of voxels in mask = 38068\n",
      "++ forcing output to be stored in float format\n",
      "++ mri_blur3D: #iter=6 fx=0.03006 fy=0.03006 fz=0.03006\n",
      "++ Output dataset /Users/chikakoolsen/opt/python/thesis/code/tdcs_thesis/data/external/R21_36_Cyl_Aqueous_v3_simplot/bmaps/60minus54/4d_fmap_Mean_blur_bet_mask.nii.gz\n",
      "\n",
      "\n",
      "\n"
     ]
    }
   ],
   "source": [
    "# 36 \n",
    "br = base_runs[5:6]\n",
    "bp = get_minus_num(br)\n",
    "mins = ['66', '103', '43']\n",
    "# upscale_fmap(sub_path_36, br, bp, mins)\n",
    "# upscale_bval(sub_path_36, br, bp, mins)\n",
    "upscale_fmap_mean(sub_path_36, br, bp, mins)"
   ]
  },
  {
   "cell_type": "code",
   "execution_count": 82,
   "metadata": {},
   "outputs": [
    {
     "data": {
      "text/plain": [
       "[[['56', '54'], ['60', '54'], ['56', '60']]]"
      ]
     },
     "execution_count": 82,
     "metadata": {},
     "output_type": "execute_result"
    }
   ],
   "source": [
    "bp"
   ]
  },
  {
   "cell_type": "code",
   "execution_count": 78,
   "metadata": {},
   "outputs": [
    {
     "data": {
      "text/plain": [
       "[['4', '6', '8', '10', '12'],\n",
       " ['14', '16', '18', '20', '22'],\n",
       " ['24', '26', '28', '30', '32'],\n",
       " ['34', '36', '38', '40', '42'],\n",
       " ['44', '46', '48', '50', '52'],\n",
       " ['54', '56', '58', '60', '62'],\n",
       " ['64', '66', '68', '70', '72'],\n",
       " ['74', '76', '78', '80', '82'],\n",
       " ['84', '86', '88', '90', '92']]"
      ]
     },
     "execution_count": 78,
     "metadata": {},
     "output_type": "execute_result"
    }
   ],
   "source": [
    "base_runs"
   ]
  },
  {
   "cell_type": "code",
   "execution_count": 41,
   "metadata": {},
   "outputs": [
    {
     "name": "stdout",
     "output_type": "stream",
     "text": [
      "\n",
      "\n",
      "\n",
      "\n",
      "\n",
      "\n",
      "\n",
      "\n",
      "\n",
      "\n",
      "\n",
      "\n"
     ]
    }
   ],
   "source": [
    "# 42\n",
    "br = [['66', '68', '70', '72', '74'],\n",
    " ['76', '78', '80', '82', '84'],\n",
    " ['86', '88', '90', '92', '94']]\n",
    "bp = get_minus_num(br)\n",
    "mins = ['61', '71', '87']\n",
    "upscale_fmap(sub_path_42, br, bp, mins)"
   ]
  },
  {
   "cell_type": "code",
   "execution_count": 49,
   "metadata": {},
   "outputs": [
    {
     "name": "stdout",
     "output_type": "stream",
     "text": [
      "\n",
      "\n",
      "\n",
      "\n"
     ]
    }
   ],
   "source": [
    "# 43\n",
    "br = base_runs[3:5]\n",
    "bp = get_minus_num(br)\n",
    "mins = ['62', '107', '87']\n",
    "upscale_fmap(sub_path_43, br, bp, mins)"
   ]
  },
  {
   "cell_type": "code",
   "execution_count": 56,
   "metadata": {},
   "outputs": [
    {
     "name": "stdout",
     "output_type": "stream",
     "text": [
      "\n",
      "\n",
      "\n",
      "\n",
      "\n",
      "\n"
     ]
    }
   ],
   "source": [
    "# 44\n",
    "br = base_runs[3:6]\n",
    "bp = get_minus_num(br)\n",
    "mins = ['62', '107', '87']\n",
    "upscale_fmap(sub_path_44, br, bp, mins)"
   ]
  },
  {
   "cell_type": "code",
   "execution_count": null,
   "metadata": {},
   "outputs": [],
   "source": []
  },
  {
   "cell_type": "code",
   "execution_count": 57,
   "metadata": {},
   "outputs": [],
   "source": [
    "def roi_roast(sub_path, fldr):\n",
    "    cwd_path = sub_path+\"bmaps/\"\n",
    "    t1dir = cwd_path+\"T1/\"\n",
    "    for m in range(2):\n",
    "        roast_path = sub_path+\"roast/\"+fldr[m]+\"/\"\n",
    "        print commands.getoutput(\"fslmaths \"+roast_path+\"Bfieldz_wJ.nii -mul \"+t1dir+\"T1_bet_mask.nii.gz \"+roast_path+\"Bfieldz_masked.nii\")\n",
    "        print commands.getoutput(\"fslmaths \"+roast_path+\"Bfieldz_masked.nii.gz -mul 1000000000 \"+roast_path+\"Bfieldz_masked_nT.nii\")\n",
    "        print commands.getoutput(\"fslroi \"+roast_path+\"Bfieldz_masked_nT.nii \"+roast_path+\"Bfieldz_masked_nT_fslroi.nii \"+mins[0]+\" 77 \"+mins[1]+\" 77 \"+mins[2]+\" 77\")\n"
   ]
  },
  {
   "cell_type": "code",
   "execution_count": null,
   "metadata": {},
   "outputs": [],
   "source": [
    "#42\n",
    "fldr = ['pos', 'neg']\n",
    "roi_roast(sub_path_42, fldr)"
   ]
  },
  {
   "cell_type": "code",
   "execution_count": 58,
   "metadata": {},
   "outputs": [
    {
     "name": "stdout",
     "output_type": "stream",
     "text": [
      "\n",
      "\n",
      "\n",
      "\n",
      "\n",
      "\n"
     ]
    }
   ],
   "source": [
    "#43\n",
    "fldr = ['pos', 'neg']\n",
    "roi_roast(sub_path_43, fldr)"
   ]
  },
  {
   "cell_type": "code",
   "execution_count": null,
   "metadata": {},
   "outputs": [],
   "source": [
    "# #44\n",
    "# fldr = ['pos', 'neg']\n",
    "# roi_roast(sub_path_44, fldr)"
   ]
  },
  {
   "cell_type": "code",
   "execution_count": null,
   "metadata": {},
   "outputs": [],
   "source": []
  },
  {
   "cell_type": "code",
   "execution_count": null,
   "metadata": {},
   "outputs": [],
   "source": []
  },
  {
   "cell_type": "code",
   "execution_count": 99,
   "metadata": {},
   "outputs": [],
   "source": [
    "def upscale_predict(sub_path, files, mins):\n",
    "    cwd_path = sub_path+\"bmaps/\"\n",
    "    t1dir = cwd_path+\"T1/\"\n",
    "    \n",
    "    for n in range(len(files)):\n",
    "        fl = files[n].replace('.nii.gz', '')\n",
    "        out = fl.replace(\"nn_nonzero_best_cly_\", \"\")\n",
    "        print commands.getoutput(\"3dBlurInMask -input \"+img_path+files[n]+\" -FWHM 8 -prefix \"+img_path+\"upscaled/\"+fl+\"_blur_bet_mask.nii.gz -mask \"+cwd_path+\"6minus4/detrend1_fslroi.nii.gz\")\n",
    "#         print commands.getoutput(\"3dBlurInMask -input \"+img_path+files[n]+\" -FWHM 8 -prefix \"+img_path+\"upscaled/\"+fl+\"_blur_bet_mask.nii.gz -mask \"+t1dir+\"T1_bet_mask_4mm_iso.nii.gz\")\n",
    "        print commands.getoutput(\"3dresample -input \"+img_path+\"upscaled/\"+fl+\"_blur_bet_mask.nii.gz -master \"+t1dir+\"T1.nii -rmode Li -prefix \"+img_path+\"upscaled/\"+fl+\"_blur_bet_mask_1mm_Li.nii.gz\")\n",
    "        print commands.getoutput(\"fslmaths \"+img_path+\"upscaled/\"+fl+\"_blur_bet_mask_1mm_Li.nii.gz -mul \"+t1dir+\"T1_bet_mask.nii.gz \"+img_path+\"upscaled/\"+\"final_result_\"+out+\".nii\")\n",
    "#         print commands.getoutput(\"fslroi \"+img_path+\"upscaled/\"+\"final_result_\"+out+\".nii \" +img_path+\"upscaled/\"+\"final_result_\"+out+\"_fslroi.nii \"+mins[0]+\" 77 \"+mins[1]+\" 77 \"+mins[2]+\" 77\")\n",
    "        print commands.getoutput(\"fslroi \"+img_path+\"upscaled/\"+\"final_result_\"+out+\".nii \" +img_path+\"upscaled/\"+\"final_result_\"+out+\"_fslroi.nii \"+mins[0]+\" 73 \"+mins[1]+\" 73 \"+mins[2]+\" 173\")\n",
    "        "
   ]
  },
  {
   "cell_type": "code",
   "execution_count": 100,
   "metadata": {},
   "outputs": [
    {
     "name": "stdout",
     "output_type": "stream",
     "text": [
      "++ 3dBlurInMask: AFNI version=AFNI_22.1.14 (Jun 24 2022) [64-bit]\n",
      "++ Authored by: RW Cox\n",
      "++ Number of voxels in mask = 15884\n",
      "++ forcing output to be stored in float format\n",
      "++ mri_blur3D: #iter=6 fx=0.03006 fy=0.03006 fz=0.03006\n",
      "++ Output dataset /Users/chikakoolsen/opt/python/thesis/code/tdcs_thesis/data/processed/NIFTI/upscaled/nn_optimized_32to38_neg_blur_bet_mask.nii.gz\n",
      "\n",
      "\n",
      "\n",
      "++ 3dBlurInMask: AFNI version=AFNI_22.1.14 (Jun 24 2022) [64-bit]\n",
      "++ Authored by: RW Cox\n",
      "++ Number of voxels in mask = 15884\n",
      "++ forcing output to be stored in float format\n",
      "++ mri_blur3D: #iter=6 fx=0.03006 fy=0.03006 fz=0.03006\n",
      "++ Output dataset /Users/chikakoolsen/opt/python/thesis/code/tdcs_thesis/data/processed/NIFTI/upscaled/nn_optimized_32to38_pos_blur_bet_mask.nii.gz\n",
      "\n",
      "\n",
      "\n"
     ]
    }
   ],
   "source": [
    "# 36\n",
    "nifti = [\n",
    "'nn_optimized_32to38_neg.nii.gz',\n",
    "'nn_optimized_32to38_pos.nii.gz']\n",
    "mins = ['66', '103', '43']\n",
    "upscale_predict(sub_path_36, nifti, mins)"
   ]
  },
  {
   "cell_type": "code",
   "execution_count": 69,
   "metadata": {},
   "outputs": [
    {
     "name": "stdout",
     "output_type": "stream",
     "text": [
      "++ 3dBlurInMask: AFNI version=AFNI_22.1.14 (Jun 24 2022) [64-bit]\n",
      "++ Authored by: RW Cox\n",
      "++ Number of voxels in mask = 28570\n",
      "++ forcing output to be stored in float format\n",
      "++ mri_blur3D: #iter=6 fx=0.03006 fy=0.03006 fz=0.03006\n",
      "++ Output dataset /Users/chikakoolsen/opt/python/thesis/code/tdcs_thesis/data/processed/NIFTI/upscaled/nn_nonzero_best_cly_42_1_neg_blur_bet_mask.nii.gz\n",
      "\n",
      "\n",
      "\n",
      "++ 3dBlurInMask: AFNI version=AFNI_22.1.14 (Jun 24 2022) [64-bit]\n",
      "++ Authored by: RW Cox\n",
      "++ Number of voxels in mask = 28570\n",
      "++ forcing output to be stored in float format\n",
      "++ mri_blur3D: #iter=6 fx=0.03006 fy=0.03006 fz=0.03006\n",
      "++ Output dataset /Users/chikakoolsen/opt/python/thesis/code/tdcs_thesis/data/processed/NIFTI/upscaled/nn_nonzero_best_cly_42_1_pos_blur_bet_mask.nii.gz\n",
      "\n",
      "\n",
      "\n",
      "++ 3dBlurInMask: AFNI version=AFNI_22.1.14 (Jun 24 2022) [64-bit]\n",
      "++ Authored by: RW Cox\n",
      "++ Number of voxels in mask = 28570\n",
      "++ forcing output to be stored in float format\n",
      "++ mri_blur3D: #iter=6 fx=0.03006 fy=0.03006 fz=0.03006\n",
      "\u001b[7m** ERROR:\u001b[0m output dataset name 'nn_nonzero_best_cly_42_2_neg_blur_bet_mask.nii.gz' conflicts with existing file\n",
      "\u001b[7m** ERROR:\u001b[0m dataset NOT written to disk!\n",
      "\u001b[7m** ERROR:\u001b[0m output dataset name 'nn_nonzero_best_cly_42_2_neg_blur_bet_mask_1mm_Li.nii.gz' conflicts with existing file\n",
      "\u001b[7m** ERROR:\u001b[0m dataset NOT written to disk!\n",
      "failure: cannot write dataset, exiting...\n",
      "\n",
      "\n",
      "++ 3dBlurInMask: AFNI version=AFNI_22.1.14 (Jun 24 2022) [64-bit]\n",
      "++ Authored by: RW Cox\n",
      "++ Number of voxels in mask = 28570\n",
      "++ forcing output to be stored in float format\n",
      "++ mri_blur3D: #iter=6 fx=0.03006 fy=0.03006 fz=0.03006\n",
      "\u001b[7m** ERROR:\u001b[0m output dataset name 'nn_nonzero_best_cly_42_2_pos_blur_bet_mask.nii.gz' conflicts with existing file\n",
      "\u001b[7m** ERROR:\u001b[0m dataset NOT written to disk!\n",
      "\u001b[7m** ERROR:\u001b[0m output dataset name 'nn_nonzero_best_cly_42_2_pos_blur_bet_mask_1mm_Li.nii.gz' conflicts with existing file\n",
      "\u001b[7m** ERROR:\u001b[0m dataset NOT written to disk!\n",
      "failure: cannot write dataset, exiting...\n",
      "\n",
      "\n",
      "++ 3dBlurInMask: AFNI version=AFNI_22.1.14 (Jun 24 2022) [64-bit]\n",
      "++ Authored by: RW Cox\n",
      "++ Number of voxels in mask = 28570\n",
      "++ forcing output to be stored in float format\n",
      "++ mri_blur3D: #iter=6 fx=0.03006 fy=0.03006 fz=0.03006\n",
      "++ Output dataset /Users/chikakoolsen/opt/python/thesis/code/tdcs_thesis/data/processed/NIFTI/upscaled/nn_nonzero_best_cly_42_3_neg_blur_bet_mask.nii.gz\n",
      "\n",
      "\n",
      "\n",
      "++ 3dBlurInMask: AFNI version=AFNI_22.1.14 (Jun 24 2022) [64-bit]\n",
      "++ Authored by: RW Cox\n",
      "++ Number of voxels in mask = 28570\n",
      "++ forcing output to be stored in float format\n",
      "++ mri_blur3D: #iter=6 fx=0.03006 fy=0.03006 fz=0.03006\n",
      "++ Output dataset /Users/chikakoolsen/opt/python/thesis/code/tdcs_thesis/data/processed/NIFTI/upscaled/nn_nonzero_best_cly_42_3_pos_blur_bet_mask.nii.gz\n",
      "\n",
      "\n",
      "\n"
     ]
    }
   ],
   "source": [
    "# 42\n",
    "nifti = [\n",
    "'nn_nonzero_best_cly_42_1_neg.nii.gz',\n",
    "'nn_nonzero_best_cly_42_1_pos.nii.gz',\n",
    "'nn_nonzero_best_cly_42_2_neg.nii.gz',\n",
    "'nn_nonzero_best_cly_42_2_pos.nii.gz',\n",
    "'nn_nonzero_best_cly_42_3_neg.nii.gz',\n",
    "'nn_nonzero_best_cly_42_3_pos.nii.gz']\n",
    "mins = ['61', '71', '87']\n",
    "upscale_predict(sub_path_42, nifti, mins)"
   ]
  },
  {
   "cell_type": "code",
   "execution_count": 70,
   "metadata": {},
   "outputs": [
    {
     "name": "stdout",
     "output_type": "stream",
     "text": [
      "++ 3dBlurInMask: AFNI version=AFNI_22.1.14 (Jun 24 2022) [64-bit]\n",
      "++ Authored by: RW Cox\n",
      "++ Number of voxels in mask = 28002\n",
      "++ forcing output to be stored in float format\n",
      "++ mri_blur3D: #iter=6 fx=0.03006 fy=0.03006 fz=0.03006\n",
      "++ Output dataset /Users/chikakoolsen/opt/python/thesis/code/tdcs_thesis/data/processed/NIFTI/upscaled/nn_nonzero_best_cly_43_1_neg_blur_bet_mask.nii.gz\n",
      "\n",
      "\n",
      "\n",
      "++ 3dBlurInMask: AFNI version=AFNI_22.1.14 (Jun 24 2022) [64-bit]\n",
      "++ Authored by: RW Cox\n",
      "++ Number of voxels in mask = 28002\n",
      "++ forcing output to be stored in float format\n",
      "++ mri_blur3D: #iter=6 fx=0.03006 fy=0.03006 fz=0.03006\n",
      "++ Output dataset /Users/chikakoolsen/opt/python/thesis/code/tdcs_thesis/data/processed/NIFTI/upscaled/nn_nonzero_best_cly_43_1_pos_blur_bet_mask.nii.gz\n",
      "\n",
      "\n",
      "\n",
      "++ 3dBlurInMask: AFNI version=AFNI_22.1.14 (Jun 24 2022) [64-bit]\n",
      "++ Authored by: RW Cox\n",
      "++ Number of voxels in mask = 28002\n",
      "++ forcing output to be stored in float format\n",
      "++ mri_blur3D: #iter=6 fx=0.03006 fy=0.03006 fz=0.03006\n",
      "++ Output dataset /Users/chikakoolsen/opt/python/thesis/code/tdcs_thesis/data/processed/NIFTI/upscaled/nn_nonzero_best_cly_43_2_neg_blur_bet_mask.nii.gz\n",
      "\n",
      "\n",
      "\n",
      "++ 3dBlurInMask: AFNI version=AFNI_22.1.14 (Jun 24 2022) [64-bit]\n",
      "++ Authored by: RW Cox\n",
      "++ Number of voxels in mask = 28002\n",
      "++ forcing output to be stored in float format\n",
      "++ mri_blur3D: #iter=6 fx=0.03006 fy=0.03006 fz=0.03006\n",
      "++ Output dataset /Users/chikakoolsen/opt/python/thesis/code/tdcs_thesis/data/processed/NIFTI/upscaled/nn_nonzero_best_cly_43_2_pos_blur_bet_mask.nii.gz\n",
      "\n",
      "\n",
      "\n"
     ]
    }
   ],
   "source": [
    "# 43\n",
    "nifti = [\n",
    "'nn_nonzero_best_cly_43_1_neg.nii.gz',\n",
    "'nn_nonzero_best_cly_43_1_pos.nii.gz',\n",
    "'nn_nonzero_best_cly_43_2_neg.nii.gz',\n",
    "'nn_nonzero_best_cly_43_2_pos.nii.gz']\n",
    "mins = ['62', '107', '87']\n",
    "upscale_predict(sub_path_43, nifti, mins)"
   ]
  },
  {
   "cell_type": "code",
   "execution_count": 71,
   "metadata": {},
   "outputs": [
    {
     "name": "stdout",
     "output_type": "stream",
     "text": [
      "++ 3dBlurInMask: AFNI version=AFNI_22.1.14 (Jun 24 2022) [64-bit]\n",
      "++ Authored by: RW Cox\n",
      "++ Number of voxels in mask = 28077\n",
      "++ forcing output to be stored in float format\n",
      "++ mri_blur3D: #iter=6 fx=0.03006 fy=0.03006 fz=0.03006\n",
      "++ Output dataset /Users/chikakoolsen/opt/python/thesis/code/tdcs_thesis/data/processed/NIFTI/upscaled/nn_nonzero_best_cly_44_1_neg_blur_bet_mask.nii.gz\n",
      "\n",
      "\n",
      "\n",
      "++ 3dBlurInMask: AFNI version=AFNI_22.1.14 (Jun 24 2022) [64-bit]\n",
      "++ Authored by: RW Cox\n",
      "++ Number of voxels in mask = 28077\n",
      "++ forcing output to be stored in float format\n",
      "++ mri_blur3D: #iter=6 fx=0.03006 fy=0.03006 fz=0.03006\n",
      "++ Output dataset /Users/chikakoolsen/opt/python/thesis/code/tdcs_thesis/data/processed/NIFTI/upscaled/nn_nonzero_best_cly_44_1_pos_blur_bet_mask.nii.gz\n",
      "\n",
      "\n",
      "\n",
      "++ 3dBlurInMask: AFNI version=AFNI_22.1.14 (Jun 24 2022) [64-bit]\n",
      "++ Authored by: RW Cox\n",
      "++ Number of voxels in mask = 28077\n",
      "++ forcing output to be stored in float format\n",
      "++ mri_blur3D: #iter=6 fx=0.03006 fy=0.03006 fz=0.03006\n",
      "++ Output dataset /Users/chikakoolsen/opt/python/thesis/code/tdcs_thesis/data/processed/NIFTI/upscaled/nn_nonzero_best_cly_44_2_neg_blur_bet_mask.nii.gz\n",
      "\n",
      "\n",
      "\n",
      "++ 3dBlurInMask: AFNI version=AFNI_22.1.14 (Jun 24 2022) [64-bit]\n",
      "++ Authored by: RW Cox\n",
      "++ Number of voxels in mask = 28077\n",
      "++ forcing output to be stored in float format\n",
      "++ mri_blur3D: #iter=6 fx=0.03006 fy=0.03006 fz=0.03006\n",
      "++ Output dataset /Users/chikakoolsen/opt/python/thesis/code/tdcs_thesis/data/processed/NIFTI/upscaled/nn_nonzero_best_cly_44_2_pos_blur_bet_mask.nii.gz\n",
      "\n",
      "\n",
      "\n",
      "++ 3dBlurInMask: AFNI version=AFNI_22.1.14 (Jun 24 2022) [64-bit]\n",
      "++ Authored by: RW Cox\n",
      "++ Number of voxels in mask = 28077\n",
      "++ forcing output to be stored in float format\n",
      "++ mri_blur3D: #iter=6 fx=0.03006 fy=0.03006 fz=0.03006\n",
      "++ Output dataset /Users/chikakoolsen/opt/python/thesis/code/tdcs_thesis/data/processed/NIFTI/upscaled/nn_nonzero_best_cly_44_3_neg_blur_bet_mask.nii.gz\n",
      "\n",
      "\n",
      "\n",
      "++ 3dBlurInMask: AFNI version=AFNI_22.1.14 (Jun 24 2022) [64-bit]\n",
      "++ Authored by: RW Cox\n",
      "++ Number of voxels in mask = 28077\n",
      "++ forcing output to be stored in float format\n",
      "++ mri_blur3D: #iter=6 fx=0.03006 fy=0.03006 fz=0.03006\n",
      "++ Output dataset /Users/chikakoolsen/opt/python/thesis/code/tdcs_thesis/data/processed/NIFTI/upscaled/nn_nonzero_best_cly_44_3_pos_blur_bet_mask.nii.gz\n",
      "\n",
      "\n",
      "\n"
     ]
    }
   ],
   "source": [
    "# 44\n",
    "nifti = [\n",
    "'nn_nonzero_best_cly_44_1_neg.nii.gz',\n",
    "'nn_nonzero_best_cly_44_1_pos.nii.gz',\n",
    "'nn_nonzero_best_cly_44_2_neg.nii.gz',\n",
    "'nn_nonzero_best_cly_44_2_pos.nii.gz',\n",
    "'nn_nonzero_best_cly_44_3_neg.nii.gz',\n",
    "'nn_nonzero_best_cly_44_3_pos.nii.gz']\n",
    "mins = ['62', '107', '87']\n",
    "upscale_predict(sub_path_44, nifti, mins)"
   ]
  }
 ],
 "metadata": {
  "kernelspec": {
   "display_name": "Python 2",
   "language": "python",
   "name": "python2"
  },
  "language_info": {
   "codemirror_mode": {
    "name": "ipython",
    "version": 2
   },
   "file_extension": ".py",
   "mimetype": "text/x-python",
   "name": "python",
   "nbconvert_exporter": "python",
   "pygments_lexer": "ipython2",
   "version": "2.7.18"
  }
 },
 "nbformat": 4,
 "nbformat_minor": 2
}
