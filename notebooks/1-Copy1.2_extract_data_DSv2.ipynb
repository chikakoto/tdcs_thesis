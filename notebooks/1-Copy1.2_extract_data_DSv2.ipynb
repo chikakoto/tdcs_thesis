{
 "cells": [
  {
   "cell_type": "code",
   "execution_count": 2,
   "metadata": {
    "scrolled": true
   },
   "outputs": [],
   "source": [
    "#import nibabel as nib\n",
    "import pandas as pd\n",
    "import matplotlib.pyplot as plt\n",
    "import numpy as np\n",
    "import seaborn as sb\n",
    "import subprocess as cmd"
   ]
  },
  {
   "cell_type": "code",
   "execution_count": 3,
   "metadata": {},
   "outputs": [],
   "source": [
    "save_path = \"/Users/chikakoolsen/opt/python/thesis/code/tdcs_thesis/data/raw/\""
   ]
  },
  {
   "cell_type": "code",
   "execution_count": 4,
   "metadata": {},
   "outputs": [],
   "source": [
    "file_mean = save_path+\"fmap_mean.txt\"\n",
    "columns_mean =['exp', 'mini_exp', 'i', 'j', 'k', 'mean0', 'mean1', 'mean2', 'mean3', 'mean4', 'theory']\n",
    "data = np.loadtxt(file_mean);"
   ]
  },
  {
   "cell_type": "code",
   "execution_count": 5,
   "metadata": {},
   "outputs": [
    {
     "data": {
      "text/html": [
       "<div>\n",
       "<style scoped>\n",
       "    .dataframe tbody tr th:only-of-type {\n",
       "        vertical-align: middle;\n",
       "    }\n",
       "\n",
       "    .dataframe tbody tr th {\n",
       "        vertical-align: top;\n",
       "    }\n",
       "\n",
       "    .dataframe thead th {\n",
       "        text-align: right;\n",
       "    }\n",
       "</style>\n",
       "<table border=\"1\" class=\"dataframe\">\n",
       "  <thead>\n",
       "    <tr style=\"text-align: right;\">\n",
       "      <th></th>\n",
       "      <th>exp</th>\n",
       "      <th>mini_exp</th>\n",
       "      <th>i</th>\n",
       "      <th>j</th>\n",
       "      <th>k</th>\n",
       "      <th>mean0</th>\n",
       "      <th>mean1</th>\n",
       "      <th>mean2</th>\n",
       "      <th>mean3</th>\n",
       "      <th>mean4</th>\n",
       "      <th>theory</th>\n",
       "    </tr>\n",
       "  </thead>\n",
       "  <tbody>\n",
       "    <tr>\n",
       "      <th>0</th>\n",
       "      <td>36</td>\n",
       "      <td>1</td>\n",
       "      <td>0</td>\n",
       "      <td>0</td>\n",
       "      <td>0</td>\n",
       "      <td>0.0</td>\n",
       "      <td>0.0</td>\n",
       "      <td>0.0</td>\n",
       "      <td>0.0</td>\n",
       "      <td>0.0</td>\n",
       "      <td>0.0</td>\n",
       "    </tr>\n",
       "    <tr>\n",
       "      <th>1</th>\n",
       "      <td>36</td>\n",
       "      <td>1</td>\n",
       "      <td>0</td>\n",
       "      <td>0</td>\n",
       "      <td>1</td>\n",
       "      <td>0.0</td>\n",
       "      <td>0.0</td>\n",
       "      <td>0.0</td>\n",
       "      <td>0.0</td>\n",
       "      <td>0.0</td>\n",
       "      <td>0.0</td>\n",
       "    </tr>\n",
       "    <tr>\n",
       "      <th>2</th>\n",
       "      <td>36</td>\n",
       "      <td>1</td>\n",
       "      <td>0</td>\n",
       "      <td>0</td>\n",
       "      <td>2</td>\n",
       "      <td>0.0</td>\n",
       "      <td>0.0</td>\n",
       "      <td>0.0</td>\n",
       "      <td>0.0</td>\n",
       "      <td>0.0</td>\n",
       "      <td>0.0</td>\n",
       "    </tr>\n",
       "    <tr>\n",
       "      <th>3</th>\n",
       "      <td>36</td>\n",
       "      <td>1</td>\n",
       "      <td>0</td>\n",
       "      <td>0</td>\n",
       "      <td>3</td>\n",
       "      <td>0.0</td>\n",
       "      <td>0.0</td>\n",
       "      <td>0.0</td>\n",
       "      <td>0.0</td>\n",
       "      <td>0.0</td>\n",
       "      <td>0.0</td>\n",
       "    </tr>\n",
       "    <tr>\n",
       "      <th>4</th>\n",
       "      <td>36</td>\n",
       "      <td>1</td>\n",
       "      <td>0</td>\n",
       "      <td>0</td>\n",
       "      <td>4</td>\n",
       "      <td>0.0</td>\n",
       "      <td>0.0</td>\n",
       "      <td>0.0</td>\n",
       "      <td>0.0</td>\n",
       "      <td>0.0</td>\n",
       "      <td>0.0</td>\n",
       "    </tr>\n",
       "    <tr>\n",
       "      <th>...</th>\n",
       "      <td>...</td>\n",
       "      <td>...</td>\n",
       "      <td>...</td>\n",
       "      <td>...</td>\n",
       "      <td>...</td>\n",
       "      <td>...</td>\n",
       "      <td>...</td>\n",
       "      <td>...</td>\n",
       "      <td>...</td>\n",
       "      <td>...</td>\n",
       "      <td>...</td>\n",
       "    </tr>\n",
       "    <tr>\n",
       "      <th>3244027</th>\n",
       "      <td>38</td>\n",
       "      <td>6</td>\n",
       "      <td>43</td>\n",
       "      <td>63</td>\n",
       "      <td>59</td>\n",
       "      <td>0.0</td>\n",
       "      <td>0.0</td>\n",
       "      <td>0.0</td>\n",
       "      <td>0.0</td>\n",
       "      <td>0.0</td>\n",
       "      <td>0.0</td>\n",
       "    </tr>\n",
       "    <tr>\n",
       "      <th>3244028</th>\n",
       "      <td>38</td>\n",
       "      <td>6</td>\n",
       "      <td>43</td>\n",
       "      <td>63</td>\n",
       "      <td>60</td>\n",
       "      <td>0.0</td>\n",
       "      <td>0.0</td>\n",
       "      <td>0.0</td>\n",
       "      <td>0.0</td>\n",
       "      <td>0.0</td>\n",
       "      <td>0.0</td>\n",
       "    </tr>\n",
       "    <tr>\n",
       "      <th>3244029</th>\n",
       "      <td>38</td>\n",
       "      <td>6</td>\n",
       "      <td>43</td>\n",
       "      <td>63</td>\n",
       "      <td>61</td>\n",
       "      <td>0.0</td>\n",
       "      <td>0.0</td>\n",
       "      <td>0.0</td>\n",
       "      <td>0.0</td>\n",
       "      <td>0.0</td>\n",
       "      <td>0.0</td>\n",
       "    </tr>\n",
       "    <tr>\n",
       "      <th>3244030</th>\n",
       "      <td>38</td>\n",
       "      <td>6</td>\n",
       "      <td>43</td>\n",
       "      <td>63</td>\n",
       "      <td>62</td>\n",
       "      <td>0.0</td>\n",
       "      <td>0.0</td>\n",
       "      <td>0.0</td>\n",
       "      <td>0.0</td>\n",
       "      <td>0.0</td>\n",
       "      <td>0.0</td>\n",
       "    </tr>\n",
       "    <tr>\n",
       "      <th>3244031</th>\n",
       "      <td>38</td>\n",
       "      <td>6</td>\n",
       "      <td>43</td>\n",
       "      <td>63</td>\n",
       "      <td>63</td>\n",
       "      <td>0.0</td>\n",
       "      <td>0.0</td>\n",
       "      <td>0.0</td>\n",
       "      <td>0.0</td>\n",
       "      <td>0.0</td>\n",
       "      <td>0.0</td>\n",
       "    </tr>\n",
       "  </tbody>\n",
       "</table>\n",
       "<p>3244032 rows × 11 columns</p>\n",
       "</div>"
      ],
      "text/plain": [
       "         exp  mini_exp   i   j   k  mean0  mean1  mean2  mean3  mean4  theory\n",
       "0         36         1   0   0   0    0.0    0.0    0.0    0.0    0.0     0.0\n",
       "1         36         1   0   0   1    0.0    0.0    0.0    0.0    0.0     0.0\n",
       "2         36         1   0   0   2    0.0    0.0    0.0    0.0    0.0     0.0\n",
       "3         36         1   0   0   3    0.0    0.0    0.0    0.0    0.0     0.0\n",
       "4         36         1   0   0   4    0.0    0.0    0.0    0.0    0.0     0.0\n",
       "...      ...       ...  ..  ..  ..    ...    ...    ...    ...    ...     ...\n",
       "3244027   38         6  43  63  59    0.0    0.0    0.0    0.0    0.0     0.0\n",
       "3244028   38         6  43  63  60    0.0    0.0    0.0    0.0    0.0     0.0\n",
       "3244029   38         6  43  63  61    0.0    0.0    0.0    0.0    0.0     0.0\n",
       "3244030   38         6  43  63  62    0.0    0.0    0.0    0.0    0.0     0.0\n",
       "3244031   38         6  43  63  63    0.0    0.0    0.0    0.0    0.0     0.0\n",
       "\n",
       "[3244032 rows x 11 columns]"
      ]
     },
     "execution_count": 5,
     "metadata": {},
     "output_type": "execute_result"
    }
   ],
   "source": [
    "df = pd.DataFrame(data, columns=columns_mean)\n",
    "df = df.astype({\"exp\": int, \"i\": int, \"j\": int, \"k\": int, \"mini_exp\": int})\n",
    "df"
   ]
  },
  {
   "cell_type": "code",
   "execution_count": 6,
   "metadata": {},
   "outputs": [],
   "source": [
    "df_train = df[(df['exp']==36) & (df['mini_exp']!=6)]\n",
    "df_test = df[(df['exp']==36) & (df['mini_exp']==6)]"
   ]
  },
  {
   "cell_type": "code",
   "execution_count": 7,
   "metadata": {},
   "outputs": [],
   "source": [
    "X2_train = df_train.iloc[:, 5:-1].values\n",
    "y2_train = df_train['theory'].values\n",
    "\n",
    "X2_test = df_test.iloc[:, 5:-1].values\n",
    "y2_test = df_test['theory'].values"
   ]
  },
  {
   "cell_type": "code",
   "execution_count": 8,
   "metadata": {},
   "outputs": [],
   "source": [
    "X_train = X2_train\n",
    "y_train = y2_train\n",
    "X_test = X2_test\n",
    "y_test = y2_test"
   ]
  },
  {
   "cell_type": "code",
   "execution_count": 9,
   "metadata": {},
   "outputs": [
    {
     "name": "stdout",
     "output_type": "stream",
     "text": [
      "(901120, 5)\n",
      "(901120,)\n",
      "(180224, 5)\n",
      "(180224,)\n"
     ]
    }
   ],
   "source": [
    "print(X_train.shape)\n",
    "print(y_train.shape)\n",
    "print(X_test.shape)\n",
    "print(y_test.shape)"
   ]
  },
  {
   "cell_type": "code",
   "execution_count": null,
   "metadata": {},
   "outputs": [],
   "source": []
  },
  {
   "cell_type": "code",
   "execution_count": 3,
   "metadata": {},
   "outputs": [],
   "source": [
    "def get_even_num(num=63):\n",
    "    runs = []\n",
    "    evens = []\n",
    "    j = 0\n",
    "    for i in range(num):\n",
    "        if (i != 0) & (i != 2):\n",
    "            if i % 2 == 0:\n",
    "                evens.append(str(i))\n",
    "                j += 1\n",
    "                if j == 5: \n",
    "                    runs.append(evens)\n",
    "                    evens = []\n",
    "                    j = 0\n",
    "    return runs"
   ]
  },
  {
   "cell_type": "code",
   "execution_count": 37,
   "metadata": {},
   "outputs": [],
   "source": [
    "code_path = \"/Users/chikakoolsen/opt/python/thesis/code/tdcs_thesis/data/external/\"\n",
    "sub_path_36 = code_path+\"R21_36_Cyl_Aqueous/\"\n",
    "sub_path_37 =  code_path+\"R21_37_Cyl_Aqueous/\"\n",
    "sub_path_38 =  code_path+\"R21_38_Cyl_Aqueous/\"\n",
    "# sub_path_01_06 = \"/Volumes/BackupPlus/Projects/Parra/R21/NIFTI/R21_SUB01_SES06/\"\n",
    "#cwd_path = sub_path+\"/NIFTI/bmaps_numpy/\"\n",
    "tes = [2.46, 4.61, 7.09, 10.5, 15.0, 20.0, 24.5, 29.0, 33.5, 38.0, 42.5, 47.0]\n",
    "\n",
    "base_runs = get_even_num()\n",
    "bp = [['6','4'],['10','4'],['6','10']],[['16','14'],['20','14'],['16','20']],[['26','24'],['30','24'],['26','30']],[['36','34'],['40','34'],['36','40']],[['46','44'],['50','44'],['46','50']],[['56','54'],['60','54'],['56','60']]\n"
   ]
  },
  {
   "cell_type": "code",
   "execution_count": 38,
   "metadata": {
    "scrolled": true
   },
   "outputs": [
    {
     "data": {
      "text/plain": [
       "[['4', '6', '8', '10', '12'],\n",
       " ['14', '16', '18', '20', '22'],\n",
       " ['24', '26', '28', '30', '32'],\n",
       " ['34', '36', '38', '40', '42'],\n",
       " ['44', '46', '48', '50', '52'],\n",
       " ['54', '56', '58', '60', '62']]"
      ]
     },
     "execution_count": 38,
     "metadata": {},
     "output_type": "execute_result"
    }
   ],
   "source": [
    "base_runs"
   ]
  },
  {
   "cell_type": "code",
   "execution_count": 39,
   "metadata": {},
   "outputs": [
    {
     "data": {
      "text/plain": [
       "([['6', '4'], ['10', '4'], ['6', '10']],\n",
       " [['16', '14'], ['20', '14'], ['16', '20']],\n",
       " [['26', '24'], ['30', '24'], ['26', '30']],\n",
       " [['36', '34'], ['40', '34'], ['36', '40']],\n",
       " [['46', '44'], ['50', '44'], ['46', '50']],\n",
       " [['56', '54'], ['60', '54'], ['56', '60']])"
      ]
     },
     "execution_count": 39,
     "metadata": {},
     "output_type": "execute_result"
    }
   ],
   "source": [
    "bp"
   ]
  },
  {
   "cell_type": "markdown",
   "metadata": {},
   "source": [
    "## Extract data"
   ]
  },
  {
   "cell_type": "code",
   "execution_count": 40,
   "metadata": {},
   "outputs": [],
   "source": [
    "def extract_data(sub_path, experiment):\n",
    "    print(sub_path)\n",
    "    cwd_path = sub_path+\"/NIFTI/bmaps_numpy/\"\n",
    "    result = pd.DataFrame()\n",
    "    for m in range(len(base_runs)):   \n",
    "        tdir = cwd_path+bp[m][0][0]+\"minus\"+bp[m][0][1]+\"/\"\n",
    "        theory_img = nib.load(tdir+\"Bvals.nii\")\n",
    "        theory_data = theory_img.get_data()\n",
    "        sp = theory_data.shape\n",
    "        b_data = []\n",
    "\n",
    "        for i in range(sp[0]):\n",
    "            for j in range(sp[1]):\n",
    "                for k in range(sp[2]):\n",
    "                    b_data.append([experiment, i, j, k, m+1, theory_data[i][j][k]])\n",
    "\n",
    "        b_pd = pd.DataFrame(b_data, columns=['exp', 'i', 'j', 'k', 'miniexp', 'theory'])\n",
    "\n",
    "        miniexp = pd.DataFrame()\n",
    "        for n in range(len(base_runs[m])):\n",
    "            new_data = []  \n",
    "            bdir = cwd_path+\"base_run_\"+base_runs[m][n]+\"/\"\n",
    "            print(base_runs[m][n])\n",
    "            fmap_img = nib.load(bdir+\"4d_fmap_Mean.nii.gz\")\n",
    "            fmap_data = fmap_img.get_data()\n",
    "            sp = fmap_data.shape\n",
    "            \n",
    "            for i in range(sp[0]):\n",
    "                for j in range(sp[1]):\n",
    "                    for k in range(sp[2]):\n",
    "                        new_data.append([experiment, i, j, k, m+1, fmap_data[i][j][k]])\n",
    "\n",
    "            col = \"mean\"+str(n)\n",
    "            new_pd = pd.DataFrame(new_data, columns=['exp', 'i', 'j', 'k', 'miniexp', col])\n",
    "            if n == 0:\n",
    "                miniexp = new_pd\n",
    "            else:\n",
    "                miniexp = miniexp.merge(new_pd, on=['exp', 'i', 'j', 'k', 'miniexp'], sort=False)\n",
    "\n",
    "        miniexp = miniexp.merge(b_pd, on=['exp','i', 'j', 'k', 'miniexp'], sort=False)\n",
    "        result = result.append(miniexp, ignore_index=True)\n",
    "    return result"
   ]
  },
  {
   "cell_type": "code",
   "execution_count": 41,
   "metadata": {},
   "outputs": [
    {
     "name": "stdout",
     "output_type": "stream",
     "text": [
      "/Users/chikakoolsen/opt/python/thesis/code/tdcs_thesis/data/external/R21_36_Cyl_Aqueous/\n",
      "4\n",
      "6\n",
      "8\n",
      "10\n",
      "12\n",
      "14\n",
      "16\n",
      "18\n",
      "20\n",
      "22\n",
      "24\n",
      "26\n",
      "28\n",
      "30\n",
      "32\n",
      "34\n",
      "36\n",
      "38\n",
      "40\n",
      "42\n",
      "44\n",
      "46\n",
      "48\n",
      "50\n",
      "52\n",
      "54\n",
      "56\n",
      "58\n",
      "60\n",
      "62\n"
     ]
    }
   ],
   "source": [
    "result_36 = extract_data(sub_path_36, '36')\n",
    "#result_37 = extract_data(sub_path_37, '37')\n",
    "#result_38 = extract_data(sub_path_38, '38')\n",
    "#result_01_06= extract_data(sub_path_01_06, '0106')"
   ]
  },
  {
   "cell_type": "code",
   "execution_count": 42,
   "metadata": {},
   "outputs": [
    {
     "name": "stdout",
     "output_type": "stream",
     "text": [
      "(1081344, 11)\n"
     ]
    }
   ],
   "source": [
    "print(result_36.shape)\n",
    "# print(result_37.shape)\n",
    "# print(result_38.shape)\n",
    "#print(result_01_06.shape)"
   ]
  },
  {
   "cell_type": "code",
   "execution_count": 28,
   "metadata": {},
   "outputs": [],
   "source": [
    "save_path = \"/Users/chikakoolsen/opt/python/thesis/code/tdcs_thesis/data/raw/\"\n",
    "np.savetxt(save_path+\"fmap_mean_hd.txt\", result_36.values, fmt=\"%s\")"
   ]
  },
  {
   "cell_type": "markdown",
   "metadata": {},
   "source": [
    "# Machine Learning"
   ]
  },
  {
   "cell_type": "code",
   "execution_count": 23,
   "metadata": {},
   "outputs": [
    {
     "name": "stdout",
     "output_type": "stream",
     "text": [
      "2.7.18\n"
     ]
    }
   ],
   "source": [
    "import sklearn\n",
    "from platform import python_version\n",
    "\n",
    "print(python_version())"
   ]
  },
  {
   "cell_type": "code",
   "execution_count": 11,
   "metadata": {},
   "outputs": [],
   "source": [
    "from sklearn.model_selection import train_test_split\n",
    "from sklearn.linear_model import LinearRegression\n",
    "from sklearn.neural_network import MLPRegressor\n",
    "from sklearn.datasets import make_regression"
   ]
  },
  {
   "cell_type": "code",
   "execution_count": 43,
   "metadata": {},
   "outputs": [
    {
     "data": {
      "text/plain": [
       "array([[0., 0., 0., 0., 0.],\n",
       "       [0., 0., 0., 0., 0.],\n",
       "       [0., 0., 0., 0., 0.],\n",
       "       ...,\n",
       "       [0., 0., 0., 0., 0.],\n",
       "       [0., 0., 0., 0., 0.],\n",
       "       [0., 0., 0., 0., 0.]])"
      ]
     },
     "execution_count": 43,
     "metadata": {},
     "output_type": "execute_result"
    }
   ],
   "source": [
    "train = result_36[(result_36['miniexp']!=6)]\n",
    "test = result_36[(result_36['miniexp']==6)]\n",
    "X_train = train.iloc[:, 5:-1].values\n",
    "y_train = train['theory'].values\n",
    "X_test = test.iloc[:, 5:-1].values\n",
    "y_test = test['theory'].values\n",
    "X_test"
   ]
  },
  {
   "cell_type": "code",
   "execution_count": 44,
   "metadata": {},
   "outputs": [
    {
     "data": {
      "text/html": [
       "<div>\n",
       "<style scoped>\n",
       "    .dataframe tbody tr th:only-of-type {\n",
       "        vertical-align: middle;\n",
       "    }\n",
       "\n",
       "    .dataframe tbody tr th {\n",
       "        vertical-align: top;\n",
       "    }\n",
       "\n",
       "    .dataframe thead th {\n",
       "        text-align: right;\n",
       "    }\n",
       "</style>\n",
       "<table border=\"1\" class=\"dataframe\">\n",
       "  <thead>\n",
       "    <tr style=\"text-align: right;\">\n",
       "      <th></th>\n",
       "      <th>mean0</th>\n",
       "      <th>mean1</th>\n",
       "      <th>mean2</th>\n",
       "      <th>mean3</th>\n",
       "      <th>mean4</th>\n",
       "    </tr>\n",
       "  </thead>\n",
       "  <tbody>\n",
       "    <tr>\n",
       "      <th>0</th>\n",
       "      <td>0.0</td>\n",
       "      <td>0.0</td>\n",
       "      <td>0.0</td>\n",
       "      <td>0.0</td>\n",
       "      <td>0.0</td>\n",
       "    </tr>\n",
       "    <tr>\n",
       "      <th>1</th>\n",
       "      <td>0.0</td>\n",
       "      <td>0.0</td>\n",
       "      <td>0.0</td>\n",
       "      <td>0.0</td>\n",
       "      <td>0.0</td>\n",
       "    </tr>\n",
       "    <tr>\n",
       "      <th>2</th>\n",
       "      <td>0.0</td>\n",
       "      <td>0.0</td>\n",
       "      <td>0.0</td>\n",
       "      <td>0.0</td>\n",
       "      <td>0.0</td>\n",
       "    </tr>\n",
       "    <tr>\n",
       "      <th>3</th>\n",
       "      <td>0.0</td>\n",
       "      <td>0.0</td>\n",
       "      <td>0.0</td>\n",
       "      <td>0.0</td>\n",
       "      <td>0.0</td>\n",
       "    </tr>\n",
       "    <tr>\n",
       "      <th>4</th>\n",
       "      <td>0.0</td>\n",
       "      <td>0.0</td>\n",
       "      <td>0.0</td>\n",
       "      <td>0.0</td>\n",
       "      <td>0.0</td>\n",
       "    </tr>\n",
       "    <tr>\n",
       "      <th>5</th>\n",
       "      <td>0.0</td>\n",
       "      <td>0.0</td>\n",
       "      <td>0.0</td>\n",
       "      <td>0.0</td>\n",
       "      <td>0.0</td>\n",
       "    </tr>\n",
       "    <tr>\n",
       "      <th>6</th>\n",
       "      <td>0.0</td>\n",
       "      <td>0.0</td>\n",
       "      <td>0.0</td>\n",
       "      <td>0.0</td>\n",
       "      <td>0.0</td>\n",
       "    </tr>\n",
       "    <tr>\n",
       "      <th>7</th>\n",
       "      <td>0.0</td>\n",
       "      <td>0.0</td>\n",
       "      <td>0.0</td>\n",
       "      <td>0.0</td>\n",
       "      <td>0.0</td>\n",
       "    </tr>\n",
       "    <tr>\n",
       "      <th>8</th>\n",
       "      <td>0.0</td>\n",
       "      <td>0.0</td>\n",
       "      <td>0.0</td>\n",
       "      <td>0.0</td>\n",
       "      <td>0.0</td>\n",
       "    </tr>\n",
       "    <tr>\n",
       "      <th>9</th>\n",
       "      <td>0.0</td>\n",
       "      <td>0.0</td>\n",
       "      <td>0.0</td>\n",
       "      <td>0.0</td>\n",
       "      <td>0.0</td>\n",
       "    </tr>\n",
       "    <tr>\n",
       "      <th>10</th>\n",
       "      <td>0.0</td>\n",
       "      <td>0.0</td>\n",
       "      <td>0.0</td>\n",
       "      <td>0.0</td>\n",
       "      <td>0.0</td>\n",
       "    </tr>\n",
       "    <tr>\n",
       "      <th>11</th>\n",
       "      <td>0.0</td>\n",
       "      <td>0.0</td>\n",
       "      <td>0.0</td>\n",
       "      <td>0.0</td>\n",
       "      <td>0.0</td>\n",
       "    </tr>\n",
       "    <tr>\n",
       "      <th>12</th>\n",
       "      <td>0.0</td>\n",
       "      <td>0.0</td>\n",
       "      <td>0.0</td>\n",
       "      <td>0.0</td>\n",
       "      <td>0.0</td>\n",
       "    </tr>\n",
       "    <tr>\n",
       "      <th>13</th>\n",
       "      <td>0.0</td>\n",
       "      <td>0.0</td>\n",
       "      <td>0.0</td>\n",
       "      <td>0.0</td>\n",
       "      <td>0.0</td>\n",
       "    </tr>\n",
       "    <tr>\n",
       "      <th>14</th>\n",
       "      <td>0.0</td>\n",
       "      <td>0.0</td>\n",
       "      <td>0.0</td>\n",
       "      <td>0.0</td>\n",
       "      <td>0.0</td>\n",
       "    </tr>\n",
       "    <tr>\n",
       "      <th>15</th>\n",
       "      <td>0.0</td>\n",
       "      <td>0.0</td>\n",
       "      <td>0.0</td>\n",
       "      <td>0.0</td>\n",
       "      <td>0.0</td>\n",
       "    </tr>\n",
       "    <tr>\n",
       "      <th>16</th>\n",
       "      <td>0.0</td>\n",
       "      <td>0.0</td>\n",
       "      <td>0.0</td>\n",
       "      <td>0.0</td>\n",
       "      <td>0.0</td>\n",
       "    </tr>\n",
       "    <tr>\n",
       "      <th>17</th>\n",
       "      <td>0.0</td>\n",
       "      <td>0.0</td>\n",
       "      <td>0.0</td>\n",
       "      <td>0.0</td>\n",
       "      <td>0.0</td>\n",
       "    </tr>\n",
       "    <tr>\n",
       "      <th>18</th>\n",
       "      <td>0.0</td>\n",
       "      <td>0.0</td>\n",
       "      <td>0.0</td>\n",
       "      <td>0.0</td>\n",
       "      <td>0.0</td>\n",
       "    </tr>\n",
       "    <tr>\n",
       "      <th>19</th>\n",
       "      <td>0.0</td>\n",
       "      <td>0.0</td>\n",
       "      <td>0.0</td>\n",
       "      <td>0.0</td>\n",
       "      <td>0.0</td>\n",
       "    </tr>\n",
       "    <tr>\n",
       "      <th>20</th>\n",
       "      <td>0.0</td>\n",
       "      <td>0.0</td>\n",
       "      <td>0.0</td>\n",
       "      <td>0.0</td>\n",
       "      <td>0.0</td>\n",
       "    </tr>\n",
       "    <tr>\n",
       "      <th>21</th>\n",
       "      <td>0.0</td>\n",
       "      <td>0.0</td>\n",
       "      <td>0.0</td>\n",
       "      <td>0.0</td>\n",
       "      <td>0.0</td>\n",
       "    </tr>\n",
       "    <tr>\n",
       "      <th>22</th>\n",
       "      <td>0.0</td>\n",
       "      <td>0.0</td>\n",
       "      <td>0.0</td>\n",
       "      <td>0.0</td>\n",
       "      <td>0.0</td>\n",
       "    </tr>\n",
       "    <tr>\n",
       "      <th>23</th>\n",
       "      <td>0.0</td>\n",
       "      <td>0.0</td>\n",
       "      <td>0.0</td>\n",
       "      <td>0.0</td>\n",
       "      <td>0.0</td>\n",
       "    </tr>\n",
       "    <tr>\n",
       "      <th>24</th>\n",
       "      <td>0.0</td>\n",
       "      <td>0.0</td>\n",
       "      <td>0.0</td>\n",
       "      <td>0.0</td>\n",
       "      <td>0.0</td>\n",
       "    </tr>\n",
       "    <tr>\n",
       "      <th>25</th>\n",
       "      <td>0.0</td>\n",
       "      <td>0.0</td>\n",
       "      <td>0.0</td>\n",
       "      <td>0.0</td>\n",
       "      <td>0.0</td>\n",
       "    </tr>\n",
       "    <tr>\n",
       "      <th>26</th>\n",
       "      <td>0.0</td>\n",
       "      <td>0.0</td>\n",
       "      <td>0.0</td>\n",
       "      <td>0.0</td>\n",
       "      <td>0.0</td>\n",
       "    </tr>\n",
       "    <tr>\n",
       "      <th>27</th>\n",
       "      <td>0.0</td>\n",
       "      <td>0.0</td>\n",
       "      <td>0.0</td>\n",
       "      <td>0.0</td>\n",
       "      <td>0.0</td>\n",
       "    </tr>\n",
       "    <tr>\n",
       "      <th>28</th>\n",
       "      <td>0.0</td>\n",
       "      <td>0.0</td>\n",
       "      <td>0.0</td>\n",
       "      <td>0.0</td>\n",
       "      <td>0.0</td>\n",
       "    </tr>\n",
       "    <tr>\n",
       "      <th>29</th>\n",
       "      <td>0.0</td>\n",
       "      <td>0.0</td>\n",
       "      <td>0.0</td>\n",
       "      <td>0.0</td>\n",
       "      <td>0.0</td>\n",
       "    </tr>\n",
       "    <tr>\n",
       "      <th>...</th>\n",
       "      <td>...</td>\n",
       "      <td>...</td>\n",
       "      <td>...</td>\n",
       "      <td>...</td>\n",
       "      <td>...</td>\n",
       "    </tr>\n",
       "    <tr>\n",
       "      <th>901090</th>\n",
       "      <td>0.0</td>\n",
       "      <td>0.0</td>\n",
       "      <td>0.0</td>\n",
       "      <td>0.0</td>\n",
       "      <td>0.0</td>\n",
       "    </tr>\n",
       "    <tr>\n",
       "      <th>901091</th>\n",
       "      <td>0.0</td>\n",
       "      <td>0.0</td>\n",
       "      <td>0.0</td>\n",
       "      <td>0.0</td>\n",
       "      <td>0.0</td>\n",
       "    </tr>\n",
       "    <tr>\n",
       "      <th>901092</th>\n",
       "      <td>0.0</td>\n",
       "      <td>0.0</td>\n",
       "      <td>0.0</td>\n",
       "      <td>0.0</td>\n",
       "      <td>0.0</td>\n",
       "    </tr>\n",
       "    <tr>\n",
       "      <th>901093</th>\n",
       "      <td>0.0</td>\n",
       "      <td>0.0</td>\n",
       "      <td>0.0</td>\n",
       "      <td>0.0</td>\n",
       "      <td>0.0</td>\n",
       "    </tr>\n",
       "    <tr>\n",
       "      <th>901094</th>\n",
       "      <td>0.0</td>\n",
       "      <td>0.0</td>\n",
       "      <td>0.0</td>\n",
       "      <td>0.0</td>\n",
       "      <td>0.0</td>\n",
       "    </tr>\n",
       "    <tr>\n",
       "      <th>901095</th>\n",
       "      <td>0.0</td>\n",
       "      <td>0.0</td>\n",
       "      <td>0.0</td>\n",
       "      <td>0.0</td>\n",
       "      <td>0.0</td>\n",
       "    </tr>\n",
       "    <tr>\n",
       "      <th>901096</th>\n",
       "      <td>0.0</td>\n",
       "      <td>0.0</td>\n",
       "      <td>0.0</td>\n",
       "      <td>0.0</td>\n",
       "      <td>0.0</td>\n",
       "    </tr>\n",
       "    <tr>\n",
       "      <th>901097</th>\n",
       "      <td>0.0</td>\n",
       "      <td>0.0</td>\n",
       "      <td>0.0</td>\n",
       "      <td>0.0</td>\n",
       "      <td>0.0</td>\n",
       "    </tr>\n",
       "    <tr>\n",
       "      <th>901098</th>\n",
       "      <td>0.0</td>\n",
       "      <td>0.0</td>\n",
       "      <td>0.0</td>\n",
       "      <td>0.0</td>\n",
       "      <td>0.0</td>\n",
       "    </tr>\n",
       "    <tr>\n",
       "      <th>901099</th>\n",
       "      <td>0.0</td>\n",
       "      <td>0.0</td>\n",
       "      <td>0.0</td>\n",
       "      <td>0.0</td>\n",
       "      <td>0.0</td>\n",
       "    </tr>\n",
       "    <tr>\n",
       "      <th>901100</th>\n",
       "      <td>0.0</td>\n",
       "      <td>0.0</td>\n",
       "      <td>0.0</td>\n",
       "      <td>0.0</td>\n",
       "      <td>0.0</td>\n",
       "    </tr>\n",
       "    <tr>\n",
       "      <th>901101</th>\n",
       "      <td>0.0</td>\n",
       "      <td>0.0</td>\n",
       "      <td>0.0</td>\n",
       "      <td>0.0</td>\n",
       "      <td>0.0</td>\n",
       "    </tr>\n",
       "    <tr>\n",
       "      <th>901102</th>\n",
       "      <td>0.0</td>\n",
       "      <td>0.0</td>\n",
       "      <td>0.0</td>\n",
       "      <td>0.0</td>\n",
       "      <td>0.0</td>\n",
       "    </tr>\n",
       "    <tr>\n",
       "      <th>901103</th>\n",
       "      <td>0.0</td>\n",
       "      <td>0.0</td>\n",
       "      <td>0.0</td>\n",
       "      <td>0.0</td>\n",
       "      <td>0.0</td>\n",
       "    </tr>\n",
       "    <tr>\n",
       "      <th>901104</th>\n",
       "      <td>0.0</td>\n",
       "      <td>0.0</td>\n",
       "      <td>0.0</td>\n",
       "      <td>0.0</td>\n",
       "      <td>0.0</td>\n",
       "    </tr>\n",
       "    <tr>\n",
       "      <th>901105</th>\n",
       "      <td>0.0</td>\n",
       "      <td>0.0</td>\n",
       "      <td>0.0</td>\n",
       "      <td>0.0</td>\n",
       "      <td>0.0</td>\n",
       "    </tr>\n",
       "    <tr>\n",
       "      <th>901106</th>\n",
       "      <td>0.0</td>\n",
       "      <td>0.0</td>\n",
       "      <td>0.0</td>\n",
       "      <td>0.0</td>\n",
       "      <td>0.0</td>\n",
       "    </tr>\n",
       "    <tr>\n",
       "      <th>901107</th>\n",
       "      <td>0.0</td>\n",
       "      <td>0.0</td>\n",
       "      <td>0.0</td>\n",
       "      <td>0.0</td>\n",
       "      <td>0.0</td>\n",
       "    </tr>\n",
       "    <tr>\n",
       "      <th>901108</th>\n",
       "      <td>0.0</td>\n",
       "      <td>0.0</td>\n",
       "      <td>0.0</td>\n",
       "      <td>0.0</td>\n",
       "      <td>0.0</td>\n",
       "    </tr>\n",
       "    <tr>\n",
       "      <th>901109</th>\n",
       "      <td>0.0</td>\n",
       "      <td>0.0</td>\n",
       "      <td>0.0</td>\n",
       "      <td>0.0</td>\n",
       "      <td>0.0</td>\n",
       "    </tr>\n",
       "    <tr>\n",
       "      <th>901110</th>\n",
       "      <td>0.0</td>\n",
       "      <td>0.0</td>\n",
       "      <td>0.0</td>\n",
       "      <td>0.0</td>\n",
       "      <td>0.0</td>\n",
       "    </tr>\n",
       "    <tr>\n",
       "      <th>901111</th>\n",
       "      <td>0.0</td>\n",
       "      <td>0.0</td>\n",
       "      <td>0.0</td>\n",
       "      <td>0.0</td>\n",
       "      <td>0.0</td>\n",
       "    </tr>\n",
       "    <tr>\n",
       "      <th>901112</th>\n",
       "      <td>0.0</td>\n",
       "      <td>0.0</td>\n",
       "      <td>0.0</td>\n",
       "      <td>0.0</td>\n",
       "      <td>0.0</td>\n",
       "    </tr>\n",
       "    <tr>\n",
       "      <th>901113</th>\n",
       "      <td>0.0</td>\n",
       "      <td>0.0</td>\n",
       "      <td>0.0</td>\n",
       "      <td>0.0</td>\n",
       "      <td>0.0</td>\n",
       "    </tr>\n",
       "    <tr>\n",
       "      <th>901114</th>\n",
       "      <td>0.0</td>\n",
       "      <td>0.0</td>\n",
       "      <td>0.0</td>\n",
       "      <td>0.0</td>\n",
       "      <td>0.0</td>\n",
       "    </tr>\n",
       "    <tr>\n",
       "      <th>901115</th>\n",
       "      <td>0.0</td>\n",
       "      <td>0.0</td>\n",
       "      <td>0.0</td>\n",
       "      <td>0.0</td>\n",
       "      <td>0.0</td>\n",
       "    </tr>\n",
       "    <tr>\n",
       "      <th>901116</th>\n",
       "      <td>0.0</td>\n",
       "      <td>0.0</td>\n",
       "      <td>0.0</td>\n",
       "      <td>0.0</td>\n",
       "      <td>0.0</td>\n",
       "    </tr>\n",
       "    <tr>\n",
       "      <th>901117</th>\n",
       "      <td>0.0</td>\n",
       "      <td>0.0</td>\n",
       "      <td>0.0</td>\n",
       "      <td>0.0</td>\n",
       "      <td>0.0</td>\n",
       "    </tr>\n",
       "    <tr>\n",
       "      <th>901118</th>\n",
       "      <td>0.0</td>\n",
       "      <td>0.0</td>\n",
       "      <td>0.0</td>\n",
       "      <td>0.0</td>\n",
       "      <td>0.0</td>\n",
       "    </tr>\n",
       "    <tr>\n",
       "      <th>901119</th>\n",
       "      <td>0.0</td>\n",
       "      <td>0.0</td>\n",
       "      <td>0.0</td>\n",
       "      <td>0.0</td>\n",
       "      <td>0.0</td>\n",
       "    </tr>\n",
       "  </tbody>\n",
       "</table>\n",
       "<p>901120 rows × 5 columns</p>\n",
       "</div>"
      ],
      "text/plain": [
       "        mean0  mean1  mean2  mean3  mean4\n",
       "0         0.0    0.0    0.0    0.0    0.0\n",
       "1         0.0    0.0    0.0    0.0    0.0\n",
       "2         0.0    0.0    0.0    0.0    0.0\n",
       "3         0.0    0.0    0.0    0.0    0.0\n",
       "4         0.0    0.0    0.0    0.0    0.0\n",
       "5         0.0    0.0    0.0    0.0    0.0\n",
       "6         0.0    0.0    0.0    0.0    0.0\n",
       "7         0.0    0.0    0.0    0.0    0.0\n",
       "8         0.0    0.0    0.0    0.0    0.0\n",
       "9         0.0    0.0    0.0    0.0    0.0\n",
       "10        0.0    0.0    0.0    0.0    0.0\n",
       "11        0.0    0.0    0.0    0.0    0.0\n",
       "12        0.0    0.0    0.0    0.0    0.0\n",
       "13        0.0    0.0    0.0    0.0    0.0\n",
       "14        0.0    0.0    0.0    0.0    0.0\n",
       "15        0.0    0.0    0.0    0.0    0.0\n",
       "16        0.0    0.0    0.0    0.0    0.0\n",
       "17        0.0    0.0    0.0    0.0    0.0\n",
       "18        0.0    0.0    0.0    0.0    0.0\n",
       "19        0.0    0.0    0.0    0.0    0.0\n",
       "20        0.0    0.0    0.0    0.0    0.0\n",
       "21        0.0    0.0    0.0    0.0    0.0\n",
       "22        0.0    0.0    0.0    0.0    0.0\n",
       "23        0.0    0.0    0.0    0.0    0.0\n",
       "24        0.0    0.0    0.0    0.0    0.0\n",
       "25        0.0    0.0    0.0    0.0    0.0\n",
       "26        0.0    0.0    0.0    0.0    0.0\n",
       "27        0.0    0.0    0.0    0.0    0.0\n",
       "28        0.0    0.0    0.0    0.0    0.0\n",
       "29        0.0    0.0    0.0    0.0    0.0\n",
       "...       ...    ...    ...    ...    ...\n",
       "901090    0.0    0.0    0.0    0.0    0.0\n",
       "901091    0.0    0.0    0.0    0.0    0.0\n",
       "901092    0.0    0.0    0.0    0.0    0.0\n",
       "901093    0.0    0.0    0.0    0.0    0.0\n",
       "901094    0.0    0.0    0.0    0.0    0.0\n",
       "901095    0.0    0.0    0.0    0.0    0.0\n",
       "901096    0.0    0.0    0.0    0.0    0.0\n",
       "901097    0.0    0.0    0.0    0.0    0.0\n",
       "901098    0.0    0.0    0.0    0.0    0.0\n",
       "901099    0.0    0.0    0.0    0.0    0.0\n",
       "901100    0.0    0.0    0.0    0.0    0.0\n",
       "901101    0.0    0.0    0.0    0.0    0.0\n",
       "901102    0.0    0.0    0.0    0.0    0.0\n",
       "901103    0.0    0.0    0.0    0.0    0.0\n",
       "901104    0.0    0.0    0.0    0.0    0.0\n",
       "901105    0.0    0.0    0.0    0.0    0.0\n",
       "901106    0.0    0.0    0.0    0.0    0.0\n",
       "901107    0.0    0.0    0.0    0.0    0.0\n",
       "901108    0.0    0.0    0.0    0.0    0.0\n",
       "901109    0.0    0.0    0.0    0.0    0.0\n",
       "901110    0.0    0.0    0.0    0.0    0.0\n",
       "901111    0.0    0.0    0.0    0.0    0.0\n",
       "901112    0.0    0.0    0.0    0.0    0.0\n",
       "901113    0.0    0.0    0.0    0.0    0.0\n",
       "901114    0.0    0.0    0.0    0.0    0.0\n",
       "901115    0.0    0.0    0.0    0.0    0.0\n",
       "901116    0.0    0.0    0.0    0.0    0.0\n",
       "901117    0.0    0.0    0.0    0.0    0.0\n",
       "901118    0.0    0.0    0.0    0.0    0.0\n",
       "901119    0.0    0.0    0.0    0.0    0.0\n",
       "\n",
       "[901120 rows x 5 columns]"
      ]
     },
     "execution_count": 44,
     "metadata": {},
     "output_type": "execute_result"
    }
   ],
   "source": [
    "train.iloc[:, 5:-1]"
   ]
  },
  {
   "cell_type": "code",
   "execution_count": 45,
   "metadata": {},
   "outputs": [
    {
     "name": "stdout",
     "output_type": "stream",
     "text": [
      "(901120, 5)\n",
      "(901120,)\n",
      "(180224, 5)\n",
      "(180224,)\n"
     ]
    }
   ],
   "source": [
    "print(X_train.shape)\n",
    "print(y_train.shape)\n",
    "print(X_test.shape)\n",
    "print(y_test.shape)"
   ]
  },
  {
   "cell_type": "code",
   "execution_count": 207,
   "metadata": {},
   "outputs": [],
   "source": [
    "regr10_noijk = MLPRegressor(random_state=1, hidden_layer_sizes = (10,), max_iter=500).fit(X_train_noijk, y_train)"
   ]
  },
  {
   "cell_type": "code",
   "execution_count": 239,
   "metadata": {},
   "outputs": [],
   "source": [
    "regr10_10_10_noijk = MLPRegressor(random_state=1, hidden_layer_sizes = (10,10,10), max_iter=500).fit(X_train_noijk, y_train)"
   ]
  },
  {
   "cell_type": "code",
   "execution_count": 158,
   "metadata": {},
   "outputs": [],
   "source": [
    "regr10 = MLPRegressor(random_state=1, hidden_layer_sizes = (10,), max_iter=500).fit(X_train, y_train)"
   ]
  },
  {
   "cell_type": "code",
   "execution_count": 161,
   "metadata": {},
   "outputs": [],
   "source": [
    "regr5 = MLPRegressor(random_state=1, hidden_layer_sizes = (5,), max_iter=500).fit(X_train, y_train)"
   ]
  },
  {
   "cell_type": "code",
   "execution_count": 163,
   "metadata": {},
   "outputs": [],
   "source": [
    "regr10_2 = MLPRegressor(random_state=1, hidden_layer_sizes = (10,2), max_iter=500).fit(X_train, y_train)"
   ]
  },
  {
   "cell_type": "code",
   "execution_count": 165,
   "metadata": {},
   "outputs": [],
   "source": [
    "regr10_10 = MLPRegressor(random_state=1, hidden_layer_sizes = (10,10), max_iter=500).fit(X_train, y_train)"
   ]
  },
  {
   "cell_type": "code",
   "execution_count": 12,
   "metadata": {},
   "outputs": [],
   "source": [
    "regr10_10_10 = MLPRegressor(random_state=1, hidden_layer_sizes = (10,10,10), max_iter=500).fit(X_train, y_train)"
   ]
  },
  {
   "cell_type": "code",
   "execution_count": 18,
   "metadata": {},
   "outputs": [
    {
     "data": {
      "text/plain": [
       "0.8093637330303394"
      ]
     },
     "execution_count": 18,
     "metadata": {},
     "output_type": "execute_result"
    }
   ],
   "source": [
    "#this is the score before prediction, not sure how it is useful in determining how well the machine learning worked\n",
    "regr10_10_10.score(X_test,y_test)"
   ]
  },
  {
   "cell_type": "code",
   "execution_count": 19,
   "metadata": {},
   "outputs": [
    {
     "data": {
      "text/plain": [
       "array([[1.       , 0.8998223],\n",
       "       [0.8998223, 1.       ]])"
      ]
     },
     "execution_count": 19,
     "metadata": {},
     "output_type": "execute_result"
    }
   ],
   "source": [
    "np.corrcoef(regr10_10_10.predict(X_test),y_test)"
   ]
  },
  {
   "cell_type": "code",
   "execution_count": 13,
   "metadata": {},
   "outputs": [
    {
     "data": {
      "text/plain": [
       "0.7235479854252406"
      ]
     },
     "execution_count": 13,
     "metadata": {},
     "output_type": "execute_result"
    }
   ],
   "source": [
    "regr10_10_10.score(X_test,y_test) # python 3"
   ]
  },
  {
   "cell_type": "code",
   "execution_count": 14,
   "metadata": {},
   "outputs": [
    {
     "data": {
      "text/plain": [
       "array([[1.        , 0.85849349],\n",
       "       [0.85849349, 1.        ]])"
      ]
     },
     "execution_count": 14,
     "metadata": {},
     "output_type": "execute_result"
    }
   ],
   "source": [
    "np.corrcoef(regr10_10_10.predict(X_test),y_test)"
   ]
  },
  {
   "cell_type": "code",
   "execution_count": 170,
   "metadata": {},
   "outputs": [],
   "source": [
    "header = [\"i\", \"j\", \"k\", \"ml_regr_10_10\"]\n",
    "ml_out = sub_path_36+\"/ml_out/\"\n",
    "cmd.getoutput(\"mkdir \"+ml_out)\n",
    "test.to_csv(ml_out+'test10_10.csv', columns = header, index=False, header=False)"
   ]
  },
  {
   "cell_type": "code",
   "execution_count": 242,
   "metadata": {},
   "outputs": [],
   "source": [
    "header = [\"i\", \"j\", \"k\", \"ml_regr_10_10_10_noijk\"]\n",
    "ml_out = sub_path_01_06+\"/ml_out/\"\n",
    "cmd.getoutput(\"mkdir \"+ml_out)\n",
    "testhum.to_csv(ml_out+'testhum10_10_10_noijk.csv', columns = header, index=False, header=False)"
   ]
  },
  {
   "cell_type": "code",
   "execution_count": 243,
   "metadata": {},
   "outputs": [
    {
     "data": {
      "text/plain": [
       "'++ 3dUndump: AFNI version=AFNI_18.2.15 (Aug 28 2018) [64-bit]\\n++ Starting to fill via -ijk indexes\\n++ Total number of voxels filled = 180224\\n++ Wrote out dataset /Volumes/BackupPlus/Projects/Parra/R21/NIFTI/R21_SUB01_SES06//ml_out/testhum10_10_10_noijk.nii.gz'"
      ]
     },
     "execution_count": 243,
     "metadata": {},
     "output_type": "execute_result"
    }
   ],
   "source": [
    "cmd.getoutput(\"3dUndump -prefix \"+ml_out+\"testhum10_10_10_noijk.nii.gz -master \"+sub_path_01_06+\"NIFTI/bmaps_numpy/6minus4/4d_fmap_Mean.nii.gz -datum float \"+ml_out+'testhum10_10_10_noijk.csv')"
   ]
  },
  {
   "cell_type": "markdown",
   "metadata": {},
   "source": [
    "## Compare ML and Physics Model"
   ]
  },
  {
   "cell_type": "code",
   "execution_count": 172,
   "metadata": {},
   "outputs": [],
   "source": [
    "from scipy import stats\n",
    "def theorVmeasv2(sub_path, cur, meas, eromeas, title, outfig, erode = \"1\", xminusy = \"base_run_26_28_30_32_34\"):\n",
    "    cwd = sub_path+\"NIFTI/bmaps_numpy/\"+xminusy+\"/\"\n",
    "    #print commands.getoutput(\"3dcalc -a \"+cwd+\"/mask.nii.gz -prefix \"+cwd+\"/mask_erode1.nii.gz -b a+i -c a-i -d a+j -e a-j -f a+k -g a-k -expr 'a*(1-amongst(0,b,c,d,e,f,g))'\")\n",
    "    print(cmd.getoutput(\"3dmask_tool -input \"+cwd+\"/mask.nii.gz -prefix \"+cwd+\"/mask_erode\"+erode+\".nii.gz -dilate_result -\"+erode))\n",
    "    print(cmd.getoutput(\"fslmaths \"+cwd+\"/mask_erode\"+erode+\".nii.gz -mul \"+meas+\" \"+eromeas))\n",
    "#    print(cmd.getoutput(\"3dcalc -a \"+cwd+\"/mask_erode\"+erode+\".nii.gz -b \"+meas+\" -expr '(a*b)' -prefix \"+eromeas))\n",
    "    print(cmd.getoutput(\"fslmaths \"+cwd+\"/mask_erode\"+erode+\".nii.gz -mul \"+cwd+\"/Bvals.nii \"+cwd+\"/Bvals_erode\"+erode+\".nii.gz\"))\n",
    "    img_meas = nib.load(eromeas)\n",
    "    img_theo = nib.load(cwd+\"/Bvals_erode\"+erode+\".nii.gz\")\n",
    "    \n",
    "    #img_meas = img_meas.slicer[:,:,15:48]\n",
    "    #img_theo = img_theo.slicer[:,:,15:48]\n",
    "    #img_theo = nib.load(cwd+\"/diff_fmap_Mean.nii.gz\")\n",
    "    data_meas = img_meas.get_data()\n",
    "    data_theo = img_theo.get_data()\n",
    "    x = data_theo.flatten()\n",
    "    y = data_meas.flatten()\n",
    "    m, b, r, p, st_er = stats.linregress(x,y) \n",
    "    print(r)\n",
    "    plt.plot(x,y, 'o', markersize = 1)\n",
    "    yfit = [b + m * xi for xi in x]\n",
    "    yisx = [0 + 1 * xi for xi in x]\n",
    "    plt.plot(x, yfit)\n",
    "    plt.plot(x, yisx)\n",
    "    if cur == 2:\n",
    "        plt.axis([0, 150, -150, 150])\n",
    "    if cur == -2:\n",
    "        plt.axis([-150,0, -150, 0])\n",
    "    if cur == -4:\n",
    "        plt.axis([0,-300,0,-300])\n",
    "    if cur == 4:\n",
    "        plt.axis([0,300,0,300])\n",
    "    plt.xlabel(\"Theory (nT)\", fontsize=16)\n",
    "    plt.ylabel(title+\" (nT)\", fontsize=16)\n",
    "    plt.text(60,100,\"r = \"+str(round(r,4))+\"\\nst_err = \"+str(round(st_er,4))+\" nT\\ny = \"+str(round(m,4))+\"*x + \"+str(round(b,4)))\n",
    "    plt.title('B field from 6cm Loop of Wire', fontsize = 20)\n",
    "#    plt.show()\n",
    "#    plt.close()\n",
    "#    %matplotlib inline\n",
    "    plt.savefig(sub_path+outfig+\"Theo_v_Meas.svg\", format=\"svg\")\n",
    "    plt.savefig(sub_path+outfig+\"Theo_v_Meas.png\", format=\"png\")"
   ]
  },
  {
   "cell_type": "code",
   "execution_count": 173,
   "metadata": {},
   "outputs": [],
   "source": [
    "erode = \"2\"\n",
    "xminusy = \"6minus4\"\n",
    "sub_path=sub_path_36\n",
    "cwd = sub_path+\"NIFTI/bmaps_numpy/\"+xminusy+\"/\"\n",
    "meas1 = cwd+\"/4d_fmap_Mean.nii.gz\"\n",
    "eromeas1=cwd+\"/diff_fmap_Mean_erode\"+erode+\".nii.gz\"\n",
    "title1 = \"MRI Physics Model\"\n",
    "outfig1 = \"NIFTI/bmaps_numpy/6minus4/\"\n",
    "meas2=sub_path+\"/ml_out/test.nii.gz\"\n",
    "eromeas2=sub_path+\"/ml_out/test_erode.nii.gz\"\n",
    "title2 = \"Machine Learning Model\"\n",
    "outfig2= \"ml_out/\"\n",
    "meas3=sub_path+\"/NIFTI/bmaps_numpy/base_run_4_6_8_10_12/vol0001.nii.gz\"\n",
    "eromeas3=sub_path+\"/NIFTI/bmaps_numpy/base_run_4_6_8_10_12/vol0001_erode.nii.gz\"\n",
    "title3 = \"MRI Physics Detrend Model\"\n",
    "outfig3= \"NIFTI/bmaps_numpy/base_run_4_6_8_10_12/\"\n",
    "meas4=sub_path+\"/ml_out/test10_10.nii.gz\"\n",
    "eromeas4=sub_path+\"/ml_out/test10_10_erode.nii.gz\"\n",
    "title4 = \"Machine Learning Model_10_10\"\n",
    "outfig4= \"ml_out/\""
   ]
  },
  {
   "cell_type": "code",
   "execution_count": 125,
   "metadata": {},
   "outputs": [
    {
     "name": "stdout",
     "output_type": "stream",
     "text": [
      "++ no -frac option: defaulting to -union\n",
      "++ processing 1 input datasets...\n",
      "++ padding all datasets by 0 (for dilations)\n",
      "++ frac 0 over 1 volumes gives min count 0\n",
      "++ voxel limits: 0 clipped, 33992 survived, 146232 were zero\n",
      "++ writing result mask_erode2.nii.gz...\n",
      "\u001b[7m** ERROR:\u001b[0m output dataset name 'mask_erode2.nii.gz' conflicts with existing file\n",
      "\u001b[7m** ERROR:\u001b[0m dataset NOT written to disk!\n",
      "\n",
      "\n",
      "-0.013619591408140895\n"
     ]
    },
    {
     "data": {
      "image/png": "[encoded data removed]",
      "text/plain": [
       "<Figure size 432x288 with 1 Axes>"
      ]
     },
     "metadata": {},
     "output_type": "display_data"
    }
   ],
   "source": [
    "theorVmeasv2(sub_path=sub_path_36, cur = 2, meas=meas1, eromeas=eromeas1, title = title1, outfig=outfig1, erode = \"2\", xminusy = \"6minus4\")"
   ]
  },
  {
   "cell_type": "code",
   "execution_count": 126,
   "metadata": {},
   "outputs": [
    {
     "name": "stdout",
     "output_type": "stream",
     "text": [
      "++ no -frac option: defaulting to -union\n",
      "++ processing 1 input datasets...\n",
      "++ padding all datasets by 0 (for dilations)\n",
      "++ frac 0 over 1 volumes gives min count 0\n",
      "++ voxel limits: 0 clipped, 33992 survived, 146232 were zero\n",
      "++ writing result mask_erode2.nii.gz...\n",
      "\u001b[7m** ERROR:\u001b[0m output dataset name 'mask_erode2.nii.gz' conflicts with existing file\n",
      "\u001b[7m** ERROR:\u001b[0m dataset NOT written to disk!\n",
      "\n",
      "\n",
      "0.9873767550028498\n"
     ]
    },
    {
     "data": {
      "image/png": "[encoded data removed]",
      "text/plain": [
       "<Figure size 432x288 with 1 Axes>"
      ]
     },
     "metadata": {},
     "output_type": "display_data"
    }
   ],
   "source": [
    "theorVmeasv2(sub_path=sub_path_36, cur = 2, meas=meas2, eromeas=eromeas2, title = title2, outfig=outfig2, erode = \"2\", xminusy = \"6minus4\")"
   ]
  },
  {
   "cell_type": "code",
   "execution_count": 144,
   "metadata": {},
   "outputs": [
    {
     "name": "stdout",
     "output_type": "stream",
     "text": [
      "++ no -frac option: defaulting to -union\n",
      "++ processing 1 input datasets...\n",
      "++ padding all datasets by 0 (for dilations)\n",
      "++ frac 0 over 1 volumes gives min count 0\n",
      "++ voxel limits: 0 clipped, 33992 survived, 146232 were zero\n",
      "++ writing result mask_erode2.nii.gz...\n",
      "\u001b[7m** ERROR:\u001b[0m output dataset name 'mask_erode2.nii.gz' conflicts with existing file\n",
      "\u001b[7m** ERROR:\u001b[0m dataset NOT written to disk!\n",
      "\n",
      "\n",
      "0.1940967000711596\n"
     ]
    },
    {
     "data": {
      "image/png": "[encoded data removed]",
      "text/plain": [
       "<Figure size 432x288 with 1 Axes>"
      ]
     },
     "metadata": {},
     "output_type": "display_data"
    }
   ],
   "source": [
    "theorVmeasv2(sub_path=sub_path_36, cur = 2, meas=meas3, eromeas=eromeas3, title = title3, outfig=outfig3, erode = \"2\", xminusy = \"6minus4\")"
   ]
  },
  {
   "cell_type": "code",
   "execution_count": 174,
   "metadata": {},
   "outputs": [
    {
     "name": "stdout",
     "output_type": "stream",
     "text": [
      "++ no -frac option: defaulting to -union\n",
      "++ processing 1 input datasets...\n",
      "++ padding all datasets by 0 (for dilations)\n",
      "++ frac 0 over 1 volumes gives min count 0\n",
      "++ voxel limits: 0 clipped, 33992 survived, 146232 were zero\n",
      "++ writing result mask_erode2.nii.gz...\n",
      "\u001b[7m** ERROR:\u001b[0m output dataset name 'mask_erode2.nii.gz' conflicts with existing file\n",
      "\u001b[7m** ERROR:\u001b[0m dataset NOT written to disk!\n",
      "\n",
      "\n",
      "0.9930934733934158\n"
     ]
    },
    {
     "data": {
      "image/png": "[encoded data removed]",
      "text/plain": [
       "<Figure size 432x288 with 1 Axes>"
      ]
     },
     "metadata": {},
     "output_type": "display_data"
    }
   ],
   "source": [
    "theorVmeasv2(sub_path=sub_path_36, cur = 2, meas=meas4, eromeas=eromeas4, title = title4, outfig=outfig4, erode = \"2\", xminusy = \"6minus4\")"
   ]
  },
  {
   "cell_type": "code",
   "execution_count": null,
   "metadata": {},
   "outputs": [],
   "source": []
  }
 ],
 "metadata": {
  "anaconda-cloud": {},
  "kernelspec": {
   "display_name": "Python 2",
   "language": "python",
   "name": "python2"
  },
  "language_info": {
   "codemirror_mode": {
    "name": "ipython",
    "version": 2
   },
   "file_extension": ".py",
   "mimetype": "text/x-python",
   "name": "python",
   "nbconvert_exporter": "python",
   "pygments_lexer": "ipython2",
   "version": "2.7.18"
  }
 },
 "nbformat": 4,
 "nbformat_minor": 2
}
