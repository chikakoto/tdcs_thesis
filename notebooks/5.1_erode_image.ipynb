{
 "cells": [
  {
   "cell_type": "code",
   "execution_count": 6,
   "metadata": {},
   "outputs": [],
   "source": [
    "import nibabel as nib\n",
    "import pandas as pd\n",
    "import matplotlib.pyplot as plt\n",
    "import numpy as np\n",
    "import seaborn as sb\n",
    "from scipy import stats\n",
    "import commands"
   ]
  },
  {
   "cell_type": "code",
   "execution_count": null,
   "metadata": {},
   "outputs": [],
   "source": []
  },
  {
   "cell_type": "code",
   "execution_count": null,
   "metadata": {},
   "outputs": [],
   "source": []
  },
  {
   "cell_type": "code",
   "execution_count": 3,
   "metadata": {},
   "outputs": [],
   "source": [
    "dir_path = \"/Users/mriworkshop/Documents/TDCS/code/tdcs_thesis/data/external/R21_36_Cyl_Aqueous/\""
   ]
  },
  {
   "cell_type": "code",
   "execution_count": 7,
   "metadata": {},
   "outputs": [],
   "source": [
    "def create_erode_image(sub_path, erode = \"1\", xminusy = \"6minus4\"):\n",
    "    cwd = sub_path+\"NIFTI/bmaps_numpy/\"+xminusy\n",
    "    #print commands.getoutput(\"3dcalc -a \"+cwd+\"/mask.nii.gz -prefix \"+cwd+\"/mask_erode1.nii.gz -b a+i -c a-i -d a+j -e a-j -f a+k -g a-k -expr 'a*(1-amongst(0,b,c,d,e,f,g))'\")\n",
    "    print commands.getoutput(\"3dmask_tool -input \"+cwd+\"/mask.nii.gz -prefix \"+cwd+\"/mask_erode\"+erode+\".nii.gz -dilate_result -\"+erode)\n",
    "    print commands.getoutput(\"fslmaths \"+cwd+\"/mask_erode\"+erode+\".nii.gz -mul \"+cwd+\"/4d_fmap_Mean.nii.gz \"+cwd+\"/diff_fmap_Mean_erode\"+erode+\".nii.gz\")\n",
    "    print commands.getoutput(\"fslmaths \"+cwd+\"/mask_erode\"+erode+\".nii.gz -mul \"+cwd+\"/Bvals.nii \"+cwd+\"/Bvals_erode\"+erode+\".nii.gz\")\n",
    "#     img_meas = nib.load(cwd+\"/diff_fmap_Mean_erode\"+erode+\".nii.gz\")\n",
    "#     img_theo = nib.load(cwd+\"/Bvals_erode\"+erode+\".nii.gz\")"
   ]
  },
  {
   "cell_type": "code",
   "execution_count": 8,
   "metadata": {},
   "outputs": [
    {
     "name": "stdout",
     "output_type": "stream",
     "text": [
      "++ no -frac option: defaulting to -union\n",
      "++ processing 1 input dataset(s), NN=2...\n",
      "++ padding all datasets by 0 (for dilations)\n",
      "++ frac 0 over 1 volumes gives min count 0\n",
      "++ voxel limits: 0 clipped, 33988 survived, 146236 were zero\n",
      "++ writing result mask_erode1.nii.gz...\n",
      "++ Output dataset /Users/mriworkshop/Documents/TDCS/code/tdcs_thesis/data/external/R21_36_Cyl_Aqueous/NIFTI/bmaps_numpy/56minus54//mask_erode1.nii.gz\n",
      "\n",
      "\n"
     ]
    }
   ],
   "source": [
    "create_erode_image(dir_path, \"1\", \"56minus54\")"
   ]
  },
  {
   "cell_type": "code",
   "execution_count": 13,
   "metadata": {},
   "outputs": [
    {
     "name": "stdout",
     "output_type": "stream",
     "text": [
      "\n"
     ]
    }
   ],
   "source": [
    "cwd = dir_path+\"NIFTI/bmaps_numpy/56minus54\"\n",
    "erode = \"1\"\n",
    "print commands.getoutput(\"fslmaths \"+cwd+\"/mask_erode\"+erode+\".nii.gz -mul \"+cwd+\"/predicted_nn_nonzero_36to38.nii \"+cwd+\"/predicted_erode\"+erode+\".nii.gz\")"
   ]
  },
  {
   "cell_type": "code",
   "execution_count": null,
   "metadata": {},
   "outputs": [],
   "source": []
  },
  {
   "cell_type": "markdown",
   "metadata": {},
   "source": [
    "# Play ground"
   ]
  },
  {
   "cell_type": "code",
   "execution_count": null,
   "metadata": {},
   "outputs": [],
   "source": [
    "# command line\n",
    "#fslroi Bvals.nii crop_bval_11_33_28_42_6_55.nii.gz 11 22 28 16 6 49\n",
    "#fslroi predicted_nn_nonzero_36to38.nii crop_pred_11_33_28_42_6_55.nii.gz 11 22 28 16 6 49"
   ]
  },
  {
   "cell_type": "code",
   "execution_count": 12,
   "metadata": {},
   "outputs": [],
   "source": [
    "tdir = '/Users/mriworkshop/Documents/TDCS/code/tdcs_thesis/data/external/R21_36_Cyl_Aqueous/NIFTI/bmaps_numpy/56minus54/'"
   ]
  },
  {
   "cell_type": "code",
   "execution_count": 13,
   "metadata": {},
   "outputs": [],
   "source": [
    "pred_img = nib.load(tdir+\"crop_pred_11_33_28_42_6_55.nii.gz\")\n",
    "bval_img = nib.load(tdir+\"crop_bval_11_33_28_42_6_55.nii.gz\")"
   ]
  },
  {
   "cell_type": "code",
   "execution_count": 19,
   "metadata": {},
   "outputs": [],
   "source": [
    "pred_data = pred_img.get_data()\n",
    "bval_data = bval_img.get_data()"
   ]
  },
  {
   "cell_type": "code",
   "execution_count": 17,
   "metadata": {},
   "outputs": [
    {
     "data": {
      "text/plain": [
       "array([4.6401663, 4.2926555, 3.8183494, ..., 3.4961429, 3.8389475,\n",
       "       3.8791254], dtype=float32)"
      ]
     },
     "execution_count": 17,
     "metadata": {},
     "output_type": "execute_result"
    }
   ],
   "source": [
    "pred_data.flatten()"
   ]
  },
  {
   "cell_type": "code",
   "execution_count": 21,
   "metadata": {},
   "outputs": [
    {
     "name": "stdout",
     "output_type": "stream",
     "text": [
      "r: 0.92168, st_er: 0.002415\n",
      "y = 0.7536*x + 0.9555\n"
     ]
    },
    {
     "data": {
      "image/png": "[encoded data removed]",
      "text/plain": [
       "<Figure size 432x288 with 1 Axes>"
      ]
     },
     "metadata": {
      "needs_background": "light"
     },
     "output_type": "display_data"
    }
   ],
   "source": [
    "x = bval_data.flatten()\n",
    "y = pred_data.flatten()\n",
    "m, b, r, p, st_er = stats.linregress(x,y) \n",
    "\n",
    "yfit = [b + m * xi for xi in x]\n",
    "yisx = [0 + 1 * xi for xi in x]\n",
    "plt.plot(x, yfit)\n",
    "plt.plot(x, yisx)\n",
    "\n",
    "plt.scatter(x, y,  color='black')\n",
    "plt.axis([0,100, 0, 100])\n",
    "plt.xlabel(\"Theory (nT)\")\n",
    "plt.ylabel(\"Prediction (nT)\")\n",
    "plt.title(\"Neural Network Prediction vs Theory\", fontsize=15)\n",
    "# print(r, st_er)\n",
    "print(\"r: {:.5f}, st_er: {:.6f}\".format(r, st_er))\n",
    "print(\"y = \"+str(round(m,4))+\"*x + \"+str(round(b,4)))"
   ]
  },
  {
   "cell_type": "code",
   "execution_count": null,
   "metadata": {},
   "outputs": [],
   "source": []
  },
  {
   "cell_type": "code",
   "execution_count": null,
   "metadata": {},
   "outputs": [],
   "source": []
  },
  {
   "cell_type": "code",
   "execution_count": null,
   "metadata": {},
   "outputs": [],
   "source": []
  }
 ],
 "metadata": {
  "kernelspec": {
   "display_name": "Python 2",
   "language": "python",
   "name": "python2"
  },
  "language_info": {
   "codemirror_mode": {
    "name": "ipython",
    "version": 2
   },
   "file_extension": ".py",
   "mimetype": "text/x-python",
   "name": "python",
   "nbconvert_exporter": "python",
   "pygments_lexer": "ipython2",
   "version": "2.7.18"
  }
 },
 "nbformat": 4,
 "nbformat_minor": 2
}
