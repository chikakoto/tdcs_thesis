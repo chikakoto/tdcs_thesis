{
 "cells": [
  {
   "cell_type": "markdown",
   "id": "7ca77330",
   "metadata": {},
   "source": [
    "Run the following code before running this script\n",
    "\n",
    "0.1_get_bvalues.ipynb\n",
    "\n",
    "0.2_extract_data.ipynb"
   ]
  },
  {
   "cell_type": "code",
   "execution_count": 2,
   "id": "c9a07737",
   "metadata": {},
   "outputs": [],
   "source": [
    "import pandas as pd\n",
    "import numpy as np\n",
    "import matplotlib.pyplot as plt\n",
    "import seaborn as sns\n",
    "from scipy import stats\n",
    "from sklearn.metrics import mean_squared_error as mse\n",
    "from sklearn.metrics import mean_absolute_percentage_error as mape\n",
    "from sklearn.metrics import mean_absolute_error as mae\n",
    "from sklearn.model_selection import train_test_split\n",
    "from sklearn.preprocessing import MinMaxScaler, StandardScaler\n",
    "from sklearn.metrics import r2_score\n",
    "\n",
    "#\n",
    "import tensorflow as tf\n",
    "from tensorflow import keras\n",
    "from tensorflow.keras import layers\n",
    "from tensorflow.keras.layers import Flatten, Dense\n",
    "\n",
    "\n",
    "from sklearn.model_selection import GridSearchCV\n",
    "from sklearn.feature_extraction.text import TfidfVectorizer\n",
    "#from tensorflow.keras.wrappers.scikit_learn import KerasRegressor\n",
    "from scikeras.wrappers import KerasRegressor\n",
    "from sklearn.ensemble import AdaBoostRegressor\n",
    "\n",
    "import pickle"
   ]
  },
  {
   "cell_type": "markdown",
   "id": "2d584045",
   "metadata": {},
   "source": [
    "# Load prepared data"
   ]
  },
  {
   "cell_type": "code",
   "execution_count": 3,
   "id": "5488a427",
   "metadata": {},
   "outputs": [],
   "source": [
    "dir_path = \"/Users/chikakoolsen/opt/python/thesis/code/tdcs_thesis/\"\n",
    "# dir_path = \"/Users/mriworkshop/Documents/TDCS/code/tdcs_thesis/\"\n",
    "save_path = dir_path+\"data/raw/\"\n",
    "img_path =  dir_path+\"data/processed/\"\n",
    "model_path = dir_path+\"models/\""
   ]
  },
  {
   "cell_type": "markdown",
   "id": "d8783b14",
   "metadata": {},
   "source": [
    "## fmap mean all experiments"
   ]
  },
  {
   "cell_type": "code",
   "execution_count": 4,
   "id": "262814fa",
   "metadata": {},
   "outputs": [],
   "source": [
    "file_mean = save_path+\"fmap_mean_39_2.txt\"\n",
    "columns_mean =['exp', 'mini_exp', 'i', 'j', 'k', 'mean0', 'mean1', 'mean2', 'mean3', 'mean4', 'theory']\n",
    "data = np.loadtxt(file_mean);"
   ]
  },
  {
   "cell_type": "code",
   "execution_count": 5,
   "id": "9be86b8d",
   "metadata": {},
   "outputs": [
    {
     "data": {
      "text/html": [
       "<div>\n",
       "<style scoped>\n",
       "    .dataframe tbody tr th:only-of-type {\n",
       "        vertical-align: middle;\n",
       "    }\n",
       "\n",
       "    .dataframe tbody tr th {\n",
       "        vertical-align: top;\n",
       "    }\n",
       "\n",
       "    .dataframe thead th {\n",
       "        text-align: right;\n",
       "    }\n",
       "</style>\n",
       "<table border=\"1\" class=\"dataframe\">\n",
       "  <thead>\n",
       "    <tr style=\"text-align: right;\">\n",
       "      <th></th>\n",
       "      <th>exp</th>\n",
       "      <th>mini_exp</th>\n",
       "      <th>i</th>\n",
       "      <th>j</th>\n",
       "      <th>k</th>\n",
       "      <th>mean0</th>\n",
       "      <th>mean1</th>\n",
       "      <th>mean2</th>\n",
       "      <th>mean3</th>\n",
       "      <th>mean4</th>\n",
       "      <th>theory</th>\n",
       "    </tr>\n",
       "  </thead>\n",
       "  <tbody>\n",
       "    <tr>\n",
       "      <th>0</th>\n",
       "      <td>39</td>\n",
       "      <td>1</td>\n",
       "      <td>0</td>\n",
       "      <td>0</td>\n",
       "      <td>0</td>\n",
       "      <td>0.0</td>\n",
       "      <td>0.0</td>\n",
       "      <td>0.0</td>\n",
       "      <td>0.0</td>\n",
       "      <td>0.0</td>\n",
       "      <td>0.0</td>\n",
       "    </tr>\n",
       "    <tr>\n",
       "      <th>1</th>\n",
       "      <td>39</td>\n",
       "      <td>1</td>\n",
       "      <td>0</td>\n",
       "      <td>0</td>\n",
       "      <td>1</td>\n",
       "      <td>0.0</td>\n",
       "      <td>0.0</td>\n",
       "      <td>0.0</td>\n",
       "      <td>0.0</td>\n",
       "      <td>0.0</td>\n",
       "      <td>0.0</td>\n",
       "    </tr>\n",
       "    <tr>\n",
       "      <th>2</th>\n",
       "      <td>39</td>\n",
       "      <td>1</td>\n",
       "      <td>0</td>\n",
       "      <td>0</td>\n",
       "      <td>2</td>\n",
       "      <td>0.0</td>\n",
       "      <td>0.0</td>\n",
       "      <td>0.0</td>\n",
       "      <td>0.0</td>\n",
       "      <td>0.0</td>\n",
       "      <td>0.0</td>\n",
       "    </tr>\n",
       "    <tr>\n",
       "      <th>3</th>\n",
       "      <td>39</td>\n",
       "      <td>1</td>\n",
       "      <td>0</td>\n",
       "      <td>0</td>\n",
       "      <td>3</td>\n",
       "      <td>0.0</td>\n",
       "      <td>0.0</td>\n",
       "      <td>0.0</td>\n",
       "      <td>0.0</td>\n",
       "      <td>0.0</td>\n",
       "      <td>0.0</td>\n",
       "    </tr>\n",
       "    <tr>\n",
       "      <th>4</th>\n",
       "      <td>39</td>\n",
       "      <td>1</td>\n",
       "      <td>0</td>\n",
       "      <td>0</td>\n",
       "      <td>4</td>\n",
       "      <td>0.0</td>\n",
       "      <td>0.0</td>\n",
       "      <td>0.0</td>\n",
       "      <td>0.0</td>\n",
       "      <td>0.0</td>\n",
       "      <td>0.0</td>\n",
       "    </tr>\n",
       "    <tr>\n",
       "      <th>...</th>\n",
       "      <td>...</td>\n",
       "      <td>...</td>\n",
       "      <td>...</td>\n",
       "      <td>...</td>\n",
       "      <td>...</td>\n",
       "      <td>...</td>\n",
       "      <td>...</td>\n",
       "      <td>...</td>\n",
       "      <td>...</td>\n",
       "      <td>...</td>\n",
       "      <td>...</td>\n",
       "    </tr>\n",
       "    <tr>\n",
       "      <th>1081339</th>\n",
       "      <td>39</td>\n",
       "      <td>6</td>\n",
       "      <td>43</td>\n",
       "      <td>63</td>\n",
       "      <td>59</td>\n",
       "      <td>0.0</td>\n",
       "      <td>0.0</td>\n",
       "      <td>0.0</td>\n",
       "      <td>0.0</td>\n",
       "      <td>0.0</td>\n",
       "      <td>0.0</td>\n",
       "    </tr>\n",
       "    <tr>\n",
       "      <th>1081340</th>\n",
       "      <td>39</td>\n",
       "      <td>6</td>\n",
       "      <td>43</td>\n",
       "      <td>63</td>\n",
       "      <td>60</td>\n",
       "      <td>0.0</td>\n",
       "      <td>0.0</td>\n",
       "      <td>0.0</td>\n",
       "      <td>0.0</td>\n",
       "      <td>0.0</td>\n",
       "      <td>0.0</td>\n",
       "    </tr>\n",
       "    <tr>\n",
       "      <th>1081341</th>\n",
       "      <td>39</td>\n",
       "      <td>6</td>\n",
       "      <td>43</td>\n",
       "      <td>63</td>\n",
       "      <td>61</td>\n",
       "      <td>0.0</td>\n",
       "      <td>0.0</td>\n",
       "      <td>0.0</td>\n",
       "      <td>0.0</td>\n",
       "      <td>0.0</td>\n",
       "      <td>0.0</td>\n",
       "    </tr>\n",
       "    <tr>\n",
       "      <th>1081342</th>\n",
       "      <td>39</td>\n",
       "      <td>6</td>\n",
       "      <td>43</td>\n",
       "      <td>63</td>\n",
       "      <td>62</td>\n",
       "      <td>0.0</td>\n",
       "      <td>0.0</td>\n",
       "      <td>0.0</td>\n",
       "      <td>0.0</td>\n",
       "      <td>0.0</td>\n",
       "      <td>0.0</td>\n",
       "    </tr>\n",
       "    <tr>\n",
       "      <th>1081343</th>\n",
       "      <td>39</td>\n",
       "      <td>6</td>\n",
       "      <td>43</td>\n",
       "      <td>63</td>\n",
       "      <td>63</td>\n",
       "      <td>0.0</td>\n",
       "      <td>0.0</td>\n",
       "      <td>0.0</td>\n",
       "      <td>0.0</td>\n",
       "      <td>0.0</td>\n",
       "      <td>0.0</td>\n",
       "    </tr>\n",
       "  </tbody>\n",
       "</table>\n",
       "<p>1081344 rows × 11 columns</p>\n",
       "</div>"
      ],
      "text/plain": [
       "         exp  mini_exp   i   j   k  mean0  mean1  mean2  mean3  mean4  theory\n",
       "0         39         1   0   0   0    0.0    0.0    0.0    0.0    0.0     0.0\n",
       "1         39         1   0   0   1    0.0    0.0    0.0    0.0    0.0     0.0\n",
       "2         39         1   0   0   2    0.0    0.0    0.0    0.0    0.0     0.0\n",
       "3         39         1   0   0   3    0.0    0.0    0.0    0.0    0.0     0.0\n",
       "4         39         1   0   0   4    0.0    0.0    0.0    0.0    0.0     0.0\n",
       "...      ...       ...  ..  ..  ..    ...    ...    ...    ...    ...     ...\n",
       "1081339   39         6  43  63  59    0.0    0.0    0.0    0.0    0.0     0.0\n",
       "1081340   39         6  43  63  60    0.0    0.0    0.0    0.0    0.0     0.0\n",
       "1081341   39         6  43  63  61    0.0    0.0    0.0    0.0    0.0     0.0\n",
       "1081342   39         6  43  63  62    0.0    0.0    0.0    0.0    0.0     0.0\n",
       "1081343   39         6  43  63  63    0.0    0.0    0.0    0.0    0.0     0.0\n",
       "\n",
       "[1081344 rows x 11 columns]"
      ]
     },
     "execution_count": 5,
     "metadata": {},
     "output_type": "execute_result"
    }
   ],
   "source": [
    "df = pd.DataFrame(data, columns=columns_mean)\n",
    "df = df.astype({\"exp\": int, \"i\": int, \"j\": int, \"k\": int, \"mini_exp\": int})\n",
    "df"
   ]
  },
  {
   "cell_type": "code",
   "execution_count": 6,
   "id": "33f2c98b",
   "metadata": {},
   "outputs": [
    {
     "name": "stdout",
     "output_type": "stream",
     "text": [
      "<class 'pandas.core.frame.DataFrame'>\n",
      "RangeIndex: 1081344 entries, 0 to 1081343\n",
      "Data columns (total 11 columns):\n",
      " #   Column    Non-Null Count    Dtype  \n",
      "---  ------    --------------    -----  \n",
      " 0   exp       1081344 non-null  int64  \n",
      " 1   mini_exp  1081344 non-null  int64  \n",
      " 2   i         1081344 non-null  int64  \n",
      " 3   j         1081344 non-null  int64  \n",
      " 4   k         1081344 non-null  int64  \n",
      " 5   mean0     1081344 non-null  float64\n",
      " 6   mean1     1081344 non-null  float64\n",
      " 7   mean2     1081344 non-null  float64\n",
      " 8   mean3     1081344 non-null  float64\n",
      " 9   mean4     1081344 non-null  float64\n",
      " 10  theory    1081344 non-null  float64\n",
      "dtypes: float64(6), int64(5)\n",
      "memory usage: 90.8 MB\n"
     ]
    }
   ],
   "source": [
    "df.info()"
   ]
  },
  {
   "cell_type": "markdown",
   "id": "13c1e08a",
   "metadata": {},
   "source": [
    "# Split data"
   ]
  },
  {
   "cell_type": "markdown",
   "id": "91c17abf",
   "metadata": {},
   "source": [
    "## Get one experiment"
   ]
  },
  {
   "cell_type": "code",
   "execution_count": 7,
   "id": "b3394527",
   "metadata": {},
   "outputs": [],
   "source": [
    "df_test1 = df[(df['exp']==39) & (df['mini_exp']==1)]\n",
    "df_test2 = df[(df['exp']==39) & (df['mini_exp']==4)]\n",
    "df_test3 = df[(df['exp']==39) & (df['mini_exp']==6)]"
   ]
  },
  {
   "cell_type": "code",
   "execution_count": 8,
   "id": "272e1d4d",
   "metadata": {},
   "outputs": [
    {
     "name": "stdout",
     "output_type": "stream",
     "text": [
      "(180224, 11)\n",
      "(180224, 11)\n",
      "(180224, 11)\n"
     ]
    }
   ],
   "source": [
    "print(df_test1.shape)\n",
    "print(df_test2.shape)\n",
    "print(df_test3.shape)"
   ]
  },
  {
   "cell_type": "markdown",
   "id": "67938935",
   "metadata": {},
   "source": [
    "## None zero"
   ]
  },
  {
   "cell_type": "code",
   "execution_count": 9,
   "id": "4fed10e4",
   "metadata": {},
   "outputs": [],
   "source": [
    "df_nonzero = df[(df['mean0']!=0.0) & (df['mean1']!=0.0) & (df['mean2']!=0.0) & (df['mean3']!=0.0) & (df['mean4']!=0.0)]"
   ]
  },
  {
   "cell_type": "code",
   "execution_count": 10,
   "id": "60734982",
   "metadata": {},
   "outputs": [
    {
     "data": {
      "text/html": [
       "<div>\n",
       "<style scoped>\n",
       "    .dataframe tbody tr th:only-of-type {\n",
       "        vertical-align: middle;\n",
       "    }\n",
       "\n",
       "    .dataframe tbody tr th {\n",
       "        vertical-align: top;\n",
       "    }\n",
       "\n",
       "    .dataframe thead th {\n",
       "        text-align: right;\n",
       "    }\n",
       "</style>\n",
       "<table border=\"1\" class=\"dataframe\">\n",
       "  <thead>\n",
       "    <tr style=\"text-align: right;\">\n",
       "      <th></th>\n",
       "      <th>exp</th>\n",
       "      <th>mini_exp</th>\n",
       "      <th>i</th>\n",
       "      <th>j</th>\n",
       "      <th>k</th>\n",
       "      <th>mean0</th>\n",
       "      <th>mean1</th>\n",
       "      <th>mean2</th>\n",
       "      <th>mean3</th>\n",
       "      <th>mean4</th>\n",
       "      <th>theory</th>\n",
       "    </tr>\n",
       "  </thead>\n",
       "  <tbody>\n",
       "    <tr>\n",
       "      <th>26772</th>\n",
       "      <td>39</td>\n",
       "      <td>1</td>\n",
       "      <td>6</td>\n",
       "      <td>34</td>\n",
       "      <td>20</td>\n",
       "      <td>-1081.614990</td>\n",
       "      <td>-1080.819214</td>\n",
       "      <td>-1106.585571</td>\n",
       "      <td>-1124.238770</td>\n",
       "      <td>-1119.958618</td>\n",
       "      <td>4.285640</td>\n",
       "    </tr>\n",
       "    <tr>\n",
       "      <th>26774</th>\n",
       "      <td>39</td>\n",
       "      <td>1</td>\n",
       "      <td>6</td>\n",
       "      <td>34</td>\n",
       "      <td>22</td>\n",
       "      <td>-783.941284</td>\n",
       "      <td>-787.986328</td>\n",
       "      <td>-818.741089</td>\n",
       "      <td>-835.996887</td>\n",
       "      <td>-802.756470</td>\n",
       "      <td>4.994972</td>\n",
       "    </tr>\n",
       "    <tr>\n",
       "      <th>26776</th>\n",
       "      <td>39</td>\n",
       "      <td>1</td>\n",
       "      <td>6</td>\n",
       "      <td>34</td>\n",
       "      <td>24</td>\n",
       "      <td>-511.714417</td>\n",
       "      <td>-487.598206</td>\n",
       "      <td>-550.717896</td>\n",
       "      <td>-554.503784</td>\n",
       "      <td>-528.473389</td>\n",
       "      <td>5.870188</td>\n",
       "    </tr>\n",
       "    <tr>\n",
       "      <th>26777</th>\n",
       "      <td>39</td>\n",
       "      <td>1</td>\n",
       "      <td>6</td>\n",
       "      <td>34</td>\n",
       "      <td>25</td>\n",
       "      <td>-316.738281</td>\n",
       "      <td>-280.300812</td>\n",
       "      <td>-335.104797</td>\n",
       "      <td>-381.397308</td>\n",
       "      <td>-327.693420</td>\n",
       "      <td>6.393743</td>\n",
       "    </tr>\n",
       "    <tr>\n",
       "      <th>26778</th>\n",
       "      <td>39</td>\n",
       "      <td>1</td>\n",
       "      <td>6</td>\n",
       "      <td>34</td>\n",
       "      <td>26</td>\n",
       "      <td>-210.116745</td>\n",
       "      <td>-190.779648</td>\n",
       "      <td>-263.173798</td>\n",
       "      <td>-275.293640</td>\n",
       "      <td>-220.804657</td>\n",
       "      <td>6.995137</td>\n",
       "    </tr>\n",
       "    <tr>\n",
       "      <th>...</th>\n",
       "      <td>...</td>\n",
       "      <td>...</td>\n",
       "      <td>...</td>\n",
       "      <td>...</td>\n",
       "      <td>...</td>\n",
       "      <td>...</td>\n",
       "      <td>...</td>\n",
       "      <td>...</td>\n",
       "      <td>...</td>\n",
       "      <td>...</td>\n",
       "      <td>...</td>\n",
       "    </tr>\n",
       "    <tr>\n",
       "      <th>1050976</th>\n",
       "      <td>39</td>\n",
       "      <td>6</td>\n",
       "      <td>36</td>\n",
       "      <td>37</td>\n",
       "      <td>32</td>\n",
       "      <td>521.188354</td>\n",
       "      <td>513.651672</td>\n",
       "      <td>515.168457</td>\n",
       "      <td>516.990173</td>\n",
       "      <td>510.742615</td>\n",
       "      <td>-0.232876</td>\n",
       "    </tr>\n",
       "    <tr>\n",
       "      <th>1050977</th>\n",
       "      <td>39</td>\n",
       "      <td>6</td>\n",
       "      <td>36</td>\n",
       "      <td>37</td>\n",
       "      <td>33</td>\n",
       "      <td>620.182007</td>\n",
       "      <td>639.036682</td>\n",
       "      <td>620.068970</td>\n",
       "      <td>602.726990</td>\n",
       "      <td>621.597656</td>\n",
       "      <td>3.468895</td>\n",
       "    </tr>\n",
       "    <tr>\n",
       "      <th>1050978</th>\n",
       "      <td>39</td>\n",
       "      <td>6</td>\n",
       "      <td>36</td>\n",
       "      <td>37</td>\n",
       "      <td>34</td>\n",
       "      <td>552.389282</td>\n",
       "      <td>560.708862</td>\n",
       "      <td>550.782410</td>\n",
       "      <td>549.108154</td>\n",
       "      <td>549.562561</td>\n",
       "      <td>3.697875</td>\n",
       "    </tr>\n",
       "    <tr>\n",
       "      <th>1050979</th>\n",
       "      <td>39</td>\n",
       "      <td>6</td>\n",
       "      <td>36</td>\n",
       "      <td>37</td>\n",
       "      <td>35</td>\n",
       "      <td>558.650024</td>\n",
       "      <td>572.162537</td>\n",
       "      <td>560.633911</td>\n",
       "      <td>552.402222</td>\n",
       "      <td>560.008301</td>\n",
       "      <td>3.526700</td>\n",
       "    </tr>\n",
       "    <tr>\n",
       "      <th>1050981</th>\n",
       "      <td>39</td>\n",
       "      <td>6</td>\n",
       "      <td>36</td>\n",
       "      <td>37</td>\n",
       "      <td>37</td>\n",
       "      <td>483.293335</td>\n",
       "      <td>488.369629</td>\n",
       "      <td>481.514435</td>\n",
       "      <td>480.407837</td>\n",
       "      <td>480.128479</td>\n",
       "      <td>3.050437</td>\n",
       "    </tr>\n",
       "  </tbody>\n",
       "</table>\n",
       "<p>211614 rows × 11 columns</p>\n",
       "</div>"
      ],
      "text/plain": [
       "         exp  mini_exp   i   j   k        mean0        mean1        mean2  \\\n",
       "26772     39         1   6  34  20 -1081.614990 -1080.819214 -1106.585571   \n",
       "26774     39         1   6  34  22  -783.941284  -787.986328  -818.741089   \n",
       "26776     39         1   6  34  24  -511.714417  -487.598206  -550.717896   \n",
       "26777     39         1   6  34  25  -316.738281  -280.300812  -335.104797   \n",
       "26778     39         1   6  34  26  -210.116745  -190.779648  -263.173798   \n",
       "...      ...       ...  ..  ..  ..          ...          ...          ...   \n",
       "1050976   39         6  36  37  32   521.188354   513.651672   515.168457   \n",
       "1050977   39         6  36  37  33   620.182007   639.036682   620.068970   \n",
       "1050978   39         6  36  37  34   552.389282   560.708862   550.782410   \n",
       "1050979   39         6  36  37  35   558.650024   572.162537   560.633911   \n",
       "1050981   39         6  36  37  37   483.293335   488.369629   481.514435   \n",
       "\n",
       "               mean3        mean4    theory  \n",
       "26772   -1124.238770 -1119.958618  4.285640  \n",
       "26774    -835.996887  -802.756470  4.994972  \n",
       "26776    -554.503784  -528.473389  5.870188  \n",
       "26777    -381.397308  -327.693420  6.393743  \n",
       "26778    -275.293640  -220.804657  6.995137  \n",
       "...              ...          ...       ...  \n",
       "1050976   516.990173   510.742615 -0.232876  \n",
       "1050977   602.726990   621.597656  3.468895  \n",
       "1050978   549.108154   549.562561  3.697875  \n",
       "1050979   552.402222   560.008301  3.526700  \n",
       "1050981   480.407837   480.128479  3.050437  \n",
       "\n",
       "[211614 rows x 11 columns]"
      ]
     },
     "execution_count": 10,
     "metadata": {},
     "output_type": "execute_result"
    }
   ],
   "source": [
    "df_nonzero"
   ]
  },
  {
   "cell_type": "code",
   "execution_count": 11,
   "id": "1eb81fdb",
   "metadata": {},
   "outputs": [],
   "source": [
    "df4_pred1 =  df_nonzero[(df_nonzero['exp']==39) & (df_nonzero['mini_exp']==1)]\n",
    "df4_pred2 =  df_nonzero[(df_nonzero['exp']==39) & (df_nonzero['mini_exp']==4)]\n",
    "df4_pred3 =  df_nonzero[(df_nonzero['exp']==39) & (df_nonzero['mini_exp']==6)]"
   ]
  },
  {
   "cell_type": "code",
   "execution_count": 12,
   "id": "171a20f3",
   "metadata": {},
   "outputs": [],
   "source": [
    "X4_pred1 = df4_pred1.iloc[:, 5:-1].values\n",
    "y4_pred1 = df4_pred1['theory'].values\n",
    "\n",
    "X4_pred2 = df4_pred2.iloc[:, 5:-1].values\n",
    "y4_pred2 = df4_pred2['theory'].values\n",
    "\n",
    "X4_pred3 = df4_pred3.iloc[:, 5:-1].values\n",
    "y4_pred3 = df4_pred3['theory'].values"
   ]
  },
  {
   "cell_type": "code",
   "execution_count": 13,
   "id": "68782810",
   "metadata": {
    "scrolled": true
   },
   "outputs": [
    {
     "name": "stdout",
     "output_type": "stream",
     "text": [
      "(35266, 5)\n",
      "(35266,)\n",
      "(35271, 5)\n",
      "(35271,)\n",
      "(35272, 5)\n",
      "(35272,)\n"
     ]
    }
   ],
   "source": [
    "print(X4_pred1.shape)\n",
    "print(y4_pred1.shape)\n",
    "print(X4_pred2.shape)\n",
    "print(y4_pred2.shape)\n",
    "print(X4_pred3.shape)\n",
    "print(y4_pred3.shape)"
   ]
  },
  {
   "cell_type": "code",
   "execution_count": null,
   "id": "8b45bb1c",
   "metadata": {},
   "outputs": [],
   "source": []
  },
  {
   "cell_type": "markdown",
   "id": "298db51c",
   "metadata": {},
   "source": [
    "## Load model"
   ]
  },
  {
   "cell_type": "code",
   "execution_count": 14,
   "id": "41c0dc1a",
   "metadata": {},
   "outputs": [
    {
     "name": "stderr",
     "output_type": "stream",
     "text": [
      "2023-01-17 21:51:30.263255: I tensorflow/core/platform/cpu_feature_guard.cc:193] This TensorFlow binary is optimized with oneAPI Deep Neural Network Library (oneDNN) to use the following CPU instructions in performance-critical operations:  SSE4.1 SSE4.2 AVX AVX2 FMA\n",
      "To enable them in other operations, rebuild TensorFlow with the appropriate compiler flags.\n"
     ]
    }
   ],
   "source": [
    "file = model_path+'model_nonzero_32to38_3layer5unit_300.sav'\n",
    "model = pickle.load(open(file, 'rb'))"
   ]
  },
  {
   "cell_type": "markdown",
   "id": "5776ab06",
   "metadata": {},
   "source": [
    "# Predict"
   ]
  },
  {
   "cell_type": "code",
   "execution_count": 29,
   "id": "2af8daa8",
   "metadata": {},
   "outputs": [],
   "source": [
    "df_test = df_test3\n",
    "df_pred = df4_pred3"
   ]
  },
  {
   "cell_type": "code",
   "execution_count": 30,
   "id": "52987527",
   "metadata": {},
   "outputs": [],
   "source": [
    "X_test = X4_pred3\n",
    "y_test = y4_pred3"
   ]
  },
  {
   "cell_type": "code",
   "execution_count": 31,
   "id": "b3b64088",
   "metadata": {},
   "outputs": [
    {
     "name": "stdout",
     "output_type": "stream",
     "text": [
      "1103/1103 [==============================] - 1s 813us/step - loss: 404.1637 - accuracy: 2.8351e-05\n",
      "[404.1637268066406, 2.8351099899737164e-05]\n"
     ]
    }
   ],
   "source": [
    "result = model.evaluate(X_test, y_test)\n",
    "print(result)"
   ]
  },
  {
   "cell_type": "code",
   "execution_count": 32,
   "id": "c6f22ed2",
   "metadata": {},
   "outputs": [
    {
     "name": "stdout",
     "output_type": "stream",
     "text": [
      "1103/1103 [==============================] - 1s 710us/step\n",
      "404.1637961036147\n",
      "0.4029811381679237\n"
     ]
    }
   ],
   "source": [
    "test_pred = model.predict(X_test)\n",
    "print(mse(test_pred, y_test))\n",
    "print(mape(test_pred, y_test))"
   ]
  },
  {
   "cell_type": "code",
   "execution_count": 33,
   "id": "870884e0",
   "metadata": {},
   "outputs": [
    {
     "data": {
      "text/plain": [
       "array([[1.        , 0.18448391],\n",
       "       [0.18448391, 1.        ]])"
      ]
     },
     "execution_count": 33,
     "metadata": {},
     "output_type": "execute_result"
    }
   ],
   "source": [
    "np.corrcoef(test_pred.flatten(), y_test)"
   ]
  },
  {
   "cell_type": "markdown",
   "id": "4ded2674",
   "metadata": {},
   "source": [
    "# Plot"
   ]
  },
  {
   "cell_type": "markdown",
   "id": "45215d1e",
   "metadata": {},
   "source": [
    "### Theory vs Predict"
   ]
  },
  {
   "cell_type": "code",
   "execution_count": 34,
   "id": "91787bbd",
   "metadata": {},
   "outputs": [
    {
     "name": "stdout",
     "output_type": "stream",
     "text": [
      "r: 0.18448, st_er: 0.001498\n",
      "y = 0.0528*x + 6.7803\n"
     ]
    },
    {
     "data": {
      "image/png": "[encoded data removed]",
      "text/plain": [
       "<Figure size 640x480 with 1 Axes>"
      ]
     },
     "metadata": {},
     "output_type": "display_data"
    }
   ],
   "source": [
    "x = y_test.flatten()\n",
    "y = test_pred.flatten()\n",
    "m, b, r, p, st_er = stats.linregress(x,y) \n",
    "\n",
    "yfit = [b + m * xi for xi in x]\n",
    "yisx = [0 + 1 * xi for xi in x]\n",
    "plt.plot(x, yfit)\n",
    "plt.plot(x, yisx)\n",
    "\n",
    "plt.scatter(y_test, test_pred,  color='black')\n",
    "plt.axis([0,100, 0, 100])\n",
    "plt.xlabel(\"Theory (nT)\")\n",
    "plt.ylabel(\"Prediction (nT)\")\n",
    "plt.title(\"Neural Network Prediction vs Theory\", fontsize=15)\n",
    "# print(r, st_er)\n",
    "print(\"r: {:.5f}, st_er: {:.6f}\".format(r, st_er))\n",
    "print(\"y = \"+str(round(m,4))+\"*x + \"+str(round(b,4)))"
   ]
  },
  {
   "cell_type": "markdown",
   "id": "721b3109",
   "metadata": {},
   "source": [
    "# Output data"
   ]
  },
  {
   "cell_type": "code",
   "execution_count": 35,
   "id": "47a966cb",
   "metadata": {},
   "outputs": [
    {
     "name": "stdout",
     "output_type": "stream",
     "text": [
      "1103/1103 [==============================] - 1s 758us/step\n"
     ]
    }
   ],
   "source": [
    "test_pred = model.predict(X4_pred3)"
   ]
  },
  {
   "cell_type": "code",
   "execution_count": 36,
   "id": "a7cc0e3e",
   "metadata": {},
   "outputs": [
    {
     "name": "stderr",
     "output_type": "stream",
     "text": [
      "/var/folders/yd/vkjb_lqj2_30lnyhzhjqtg9w0000gp/T/ipykernel_33342/255584968.py:1: SettingWithCopyWarning: \n",
      "A value is trying to be set on a copy of a slice from a DataFrame.\n",
      "Try using .loc[row_indexer,col_indexer] = value instead\n",
      "\n",
      "See the caveats in the documentation: https://pandas.pydata.org/pandas-docs/stable/user_guide/indexing.html#returning-a-view-versus-a-copy\n",
      "  df_pred['predict'] = test_pred\n"
     ]
    }
   ],
   "source": [
    "df_pred['predict'] = test_pred"
   ]
  },
  {
   "cell_type": "code",
   "execution_count": 37,
   "id": "de395ca0",
   "metadata": {},
   "outputs": [
    {
     "name": "stderr",
     "output_type": "stream",
     "text": [
      "/var/folders/yd/vkjb_lqj2_30lnyhzhjqtg9w0000gp/T/ipykernel_33342/3257651465.py:1: SettingWithCopyWarning: \n",
      "A value is trying to be set on a copy of a slice from a DataFrame.\n",
      "Try using .loc[row_indexer,col_indexer] = value instead\n",
      "\n",
      "See the caveats in the documentation: https://pandas.pydata.org/pandas-docs/stable/user_guide/indexing.html#returning-a-view-versus-a-copy\n",
      "  df_test['predict'] = 0.00\n"
     ]
    }
   ],
   "source": [
    "df_test['predict'] = 0.00"
   ]
  },
  {
   "cell_type": "code",
   "execution_count": 38,
   "id": "ed15e31a",
   "metadata": {},
   "outputs": [],
   "source": [
    "df_out = df_test[['i', 'j', 'k', 'predict']]\n",
    "df_pre = df_pred[['i', 'j', 'k', 'predict']]"
   ]
  },
  {
   "cell_type": "code",
   "execution_count": 39,
   "id": "07ef4fe5",
   "metadata": {},
   "outputs": [],
   "source": [
    "for x in range(len(df_pre)):\n",
    "    i = df_pre.iloc[x, :]['i'].astype(int)\n",
    "    j = df_pre.iloc[x, :]['j'].astype(int)\n",
    "    k = df_pre.iloc[x, :]['k'].astype(int)\n",
    "    pred = df_pre.iloc[x, :]['predict']\n",
    "    idx = df_out[(df_out['i']==i) & (df_out['j']==j) & (df_out['k']==k)].index\n",
    "    df_out.loc[idx, 'predict']= pred"
   ]
  },
  {
   "cell_type": "code",
   "execution_count": 40,
   "id": "c5afadbd",
   "metadata": {},
   "outputs": [
    {
     "data": {
      "text/html": [
       "<div>\n",
       "<style scoped>\n",
       "    .dataframe tbody tr th:only-of-type {\n",
       "        vertical-align: middle;\n",
       "    }\n",
       "\n",
       "    .dataframe tbody tr th {\n",
       "        vertical-align: top;\n",
       "    }\n",
       "\n",
       "    .dataframe thead th {\n",
       "        text-align: right;\n",
       "    }\n",
       "</style>\n",
       "<table border=\"1\" class=\"dataframe\">\n",
       "  <thead>\n",
       "    <tr style=\"text-align: right;\">\n",
       "      <th></th>\n",
       "      <th>i</th>\n",
       "      <th>j</th>\n",
       "      <th>k</th>\n",
       "      <th>predict</th>\n",
       "    </tr>\n",
       "  </thead>\n",
       "  <tbody>\n",
       "    <tr>\n",
       "      <th>901120</th>\n",
       "      <td>0</td>\n",
       "      <td>0</td>\n",
       "      <td>0</td>\n",
       "      <td>0.0</td>\n",
       "    </tr>\n",
       "    <tr>\n",
       "      <th>901121</th>\n",
       "      <td>0</td>\n",
       "      <td>0</td>\n",
       "      <td>1</td>\n",
       "      <td>0.0</td>\n",
       "    </tr>\n",
       "    <tr>\n",
       "      <th>901122</th>\n",
       "      <td>0</td>\n",
       "      <td>0</td>\n",
       "      <td>2</td>\n",
       "      <td>0.0</td>\n",
       "    </tr>\n",
       "    <tr>\n",
       "      <th>901123</th>\n",
       "      <td>0</td>\n",
       "      <td>0</td>\n",
       "      <td>3</td>\n",
       "      <td>0.0</td>\n",
       "    </tr>\n",
       "    <tr>\n",
       "      <th>901124</th>\n",
       "      <td>0</td>\n",
       "      <td>0</td>\n",
       "      <td>4</td>\n",
       "      <td>0.0</td>\n",
       "    </tr>\n",
       "    <tr>\n",
       "      <th>...</th>\n",
       "      <td>...</td>\n",
       "      <td>...</td>\n",
       "      <td>...</td>\n",
       "      <td>...</td>\n",
       "    </tr>\n",
       "    <tr>\n",
       "      <th>1081339</th>\n",
       "      <td>43</td>\n",
       "      <td>63</td>\n",
       "      <td>59</td>\n",
       "      <td>0.0</td>\n",
       "    </tr>\n",
       "    <tr>\n",
       "      <th>1081340</th>\n",
       "      <td>43</td>\n",
       "      <td>63</td>\n",
       "      <td>60</td>\n",
       "      <td>0.0</td>\n",
       "    </tr>\n",
       "    <tr>\n",
       "      <th>1081341</th>\n",
       "      <td>43</td>\n",
       "      <td>63</td>\n",
       "      <td>61</td>\n",
       "      <td>0.0</td>\n",
       "    </tr>\n",
       "    <tr>\n",
       "      <th>1081342</th>\n",
       "      <td>43</td>\n",
       "      <td>63</td>\n",
       "      <td>62</td>\n",
       "      <td>0.0</td>\n",
       "    </tr>\n",
       "    <tr>\n",
       "      <th>1081343</th>\n",
       "      <td>43</td>\n",
       "      <td>63</td>\n",
       "      <td>63</td>\n",
       "      <td>0.0</td>\n",
       "    </tr>\n",
       "  </tbody>\n",
       "</table>\n",
       "<p>180224 rows × 4 columns</p>\n",
       "</div>"
      ],
      "text/plain": [
       "          i   j   k  predict\n",
       "901120    0   0   0      0.0\n",
       "901121    0   0   1      0.0\n",
       "901122    0   0   2      0.0\n",
       "901123    0   0   3      0.0\n",
       "901124    0   0   4      0.0\n",
       "...      ..  ..  ..      ...\n",
       "1081339  43  63  59      0.0\n",
       "1081340  43  63  60      0.0\n",
       "1081341  43  63  61      0.0\n",
       "1081342  43  63  62      0.0\n",
       "1081343  43  63  63      0.0\n",
       "\n",
       "[180224 rows x 4 columns]"
      ]
     },
     "execution_count": 40,
     "metadata": {},
     "output_type": "execute_result"
    }
   ],
   "source": [
    "df_out"
   ]
  },
  {
   "cell_type": "code",
   "execution_count": 41,
   "id": "86d118ef",
   "metadata": {},
   "outputs": [],
   "source": [
    "np.savetxt(img_path+\"nn_nonzero_39_predict6_2.txt\", df_out[['i', 'j', 'k', 'predict']], fmt=\"%i %i %i %s\")"
   ]
  },
  {
   "cell_type": "code",
   "execution_count": null,
   "id": "62f90584",
   "metadata": {},
   "outputs": [],
   "source": []
  },
  {
   "cell_type": "code",
   "execution_count": null,
   "id": "02fe4276",
   "metadata": {},
   "outputs": [],
   "source": []
  }
 ],
 "metadata": {
  "kernelspec": {
   "display_name": "Python 3 (ipykernel)",
   "language": "python",
   "name": "python3"
  },
  "language_info": {
   "codemirror_mode": {
    "name": "ipython",
    "version": 3
   },
   "file_extension": ".py",
   "mimetype": "text/x-python",
   "name": "python",
   "nbconvert_exporter": "python",
   "pygments_lexer": "ipython3",
   "version": "3.10.6"
  }
 },
 "nbformat": 4,
 "nbformat_minor": 5
}
