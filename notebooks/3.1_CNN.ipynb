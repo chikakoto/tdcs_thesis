{
 "cells": [
  {
   "cell_type": "code",
   "execution_count": 9,
   "metadata": {},
   "outputs": [],
   "source": [
    "import pandas as pd\n",
    "import numpy as np\n",
    "import matplotlib.pyplot as plt\n",
    "from sklearn.metrics import mean_squared_error as mse\n",
    "from sklearn.model_selection import train_test_split\n",
    "\n",
    "#\n",
    "import tensorflow as tf\n",
    "from tensorflow import keras\n",
    "from tensorflow.keras import layers\n",
    "from tensorflow.keras.layers import Conv2D, MaxPooling2D, Dropout, Flatten, Dense\n"
   ]
  },
  {
   "cell_type": "markdown",
   "metadata": {},
   "source": [
    "# Load prepared data"
   ]
  },
  {
   "cell_type": "code",
   "execution_count": 4,
   "metadata": {},
   "outputs": [],
   "source": [
    "save_path = \"/Users/chikakoolsen/opt/python/thesis/code/tdcs_thesis/data/raw/\""
   ]
  },
  {
   "cell_type": "markdown",
   "metadata": {},
   "source": [
    "## fmap mean all experiments"
   ]
  },
  {
   "cell_type": "code",
   "execution_count": 5,
   "metadata": {},
   "outputs": [],
   "source": [
    "file_mean = save_path+\"fmap_mean.txt\"\n",
    "columns_mean =['exp', 'mini_exp', 'i', 'j', 'k', 'mean0', 'mean1', 'mean2', 'mean3', 'mean4', 'theory']\n",
    "data = np.loadtxt(file_mean);"
   ]
  },
  {
   "cell_type": "code",
   "execution_count": 6,
   "metadata": {},
   "outputs": [],
   "source": [
    "df = pd.DataFrame(data, columns=columns_mean)\n",
    "df = df.astype({\"exp\": int, \"i\": int, \"j\": int, \"k\": int, \"mini_exp\": int})"
   ]
  },
  {
   "cell_type": "code",
   "execution_count": 7,
   "metadata": {},
   "outputs": [
    {
     "name": "stdout",
     "output_type": "stream",
     "text": [
      "<class 'pandas.core.frame.DataFrame'>\n",
      "RangeIndex: 3244032 entries, 0 to 3244031\n",
      "Data columns (total 11 columns):\n",
      " #   Column    Dtype  \n",
      "---  ------    -----  \n",
      " 0   exp       int64  \n",
      " 1   mini_exp  int64  \n",
      " 2   i         int64  \n",
      " 3   j         int64  \n",
      " 4   k         int64  \n",
      " 5   mean0     float64\n",
      " 6   mean1     float64\n",
      " 7   mean2     float64\n",
      " 8   mean3     float64\n",
      " 9   mean4     float64\n",
      " 10  theory    float64\n",
      "dtypes: float64(6), int64(5)\n",
      "memory usage: 272.3 MB\n"
     ]
    }
   ],
   "source": [
    "df.info()"
   ]
  },
  {
   "cell_type": "markdown",
   "metadata": {},
   "source": [
    "## 55 fmap means"
   ]
  },
  {
   "cell_type": "code",
   "execution_count": 14,
   "metadata": {},
   "outputs": [],
   "source": [
    "arr = [4, 6, 8, 10, 12]\n",
    "col = []\n",
    "for i in range(len(arr)):\n",
    "    for j in range(1, 12):\n",
    "        name = str(arr[i])+'_'+str(j+1)+'m'+str(j)\n",
    "        col.append(name)"
   ]
  },
  {
   "cell_type": "code",
   "execution_count": 15,
   "metadata": {},
   "outputs": [],
   "source": [
    "file_name = save_path+\"fmap_mean_55.txt\"\n",
    "columns = ['exp', 'mini_exp', 'i', 'j', 'k']\n",
    "for i in range(len(col)): \n",
    "    columns.append(col[i])\n",
    "columns.append('theory')\n",
    "data = np.loadtxt(file_name);"
   ]
  },
  {
   "cell_type": "code",
   "execution_count": 16,
   "metadata": {},
   "outputs": [
    {
     "data": {
      "text/html": [
       "<div>\n",
       "<style scoped>\n",
       "    .dataframe tbody tr th:only-of-type {\n",
       "        vertical-align: middle;\n",
       "    }\n",
       "\n",
       "    .dataframe tbody tr th {\n",
       "        vertical-align: top;\n",
       "    }\n",
       "\n",
       "    .dataframe thead th {\n",
       "        text-align: right;\n",
       "    }\n",
       "</style>\n",
       "<table border=\"1\" class=\"dataframe\">\n",
       "  <thead>\n",
       "    <tr style=\"text-align: right;\">\n",
       "      <th></th>\n",
       "      <th>exp</th>\n",
       "      <th>mini_exp</th>\n",
       "      <th>i</th>\n",
       "      <th>j</th>\n",
       "      <th>k</th>\n",
       "      <th>4_2m1</th>\n",
       "      <th>4_3m2</th>\n",
       "      <th>4_4m3</th>\n",
       "      <th>4_5m4</th>\n",
       "      <th>4_6m5</th>\n",
       "      <th>...</th>\n",
       "      <th>12_4m3</th>\n",
       "      <th>12_5m4</th>\n",
       "      <th>12_6m5</th>\n",
       "      <th>12_7m6</th>\n",
       "      <th>12_8m7</th>\n",
       "      <th>12_9m8</th>\n",
       "      <th>12_10m9</th>\n",
       "      <th>12_11m10</th>\n",
       "      <th>12_12m11</th>\n",
       "      <th>theory</th>\n",
       "    </tr>\n",
       "  </thead>\n",
       "  <tbody>\n",
       "    <tr>\n",
       "      <th>0</th>\n",
       "      <td>36</td>\n",
       "      <td>1</td>\n",
       "      <td>0</td>\n",
       "      <td>0</td>\n",
       "      <td>0</td>\n",
       "      <td>0.0</td>\n",
       "      <td>0.0</td>\n",
       "      <td>0.0</td>\n",
       "      <td>0.0</td>\n",
       "      <td>0.0</td>\n",
       "      <td>...</td>\n",
       "      <td>0.0</td>\n",
       "      <td>0.0</td>\n",
       "      <td>0.0</td>\n",
       "      <td>0.0</td>\n",
       "      <td>0.0</td>\n",
       "      <td>0.0</td>\n",
       "      <td>0.0</td>\n",
       "      <td>0.0</td>\n",
       "      <td>0.0</td>\n",
       "      <td>0.0</td>\n",
       "    </tr>\n",
       "    <tr>\n",
       "      <th>1</th>\n",
       "      <td>36</td>\n",
       "      <td>1</td>\n",
       "      <td>0</td>\n",
       "      <td>0</td>\n",
       "      <td>1</td>\n",
       "      <td>0.0</td>\n",
       "      <td>0.0</td>\n",
       "      <td>0.0</td>\n",
       "      <td>0.0</td>\n",
       "      <td>0.0</td>\n",
       "      <td>...</td>\n",
       "      <td>0.0</td>\n",
       "      <td>0.0</td>\n",
       "      <td>0.0</td>\n",
       "      <td>0.0</td>\n",
       "      <td>0.0</td>\n",
       "      <td>0.0</td>\n",
       "      <td>0.0</td>\n",
       "      <td>0.0</td>\n",
       "      <td>0.0</td>\n",
       "      <td>0.0</td>\n",
       "    </tr>\n",
       "    <tr>\n",
       "      <th>2</th>\n",
       "      <td>36</td>\n",
       "      <td>1</td>\n",
       "      <td>0</td>\n",
       "      <td>0</td>\n",
       "      <td>2</td>\n",
       "      <td>0.0</td>\n",
       "      <td>0.0</td>\n",
       "      <td>0.0</td>\n",
       "      <td>0.0</td>\n",
       "      <td>0.0</td>\n",
       "      <td>...</td>\n",
       "      <td>0.0</td>\n",
       "      <td>0.0</td>\n",
       "      <td>0.0</td>\n",
       "      <td>0.0</td>\n",
       "      <td>0.0</td>\n",
       "      <td>0.0</td>\n",
       "      <td>0.0</td>\n",
       "      <td>0.0</td>\n",
       "      <td>0.0</td>\n",
       "      <td>0.0</td>\n",
       "    </tr>\n",
       "    <tr>\n",
       "      <th>3</th>\n",
       "      <td>36</td>\n",
       "      <td>1</td>\n",
       "      <td>0</td>\n",
       "      <td>0</td>\n",
       "      <td>3</td>\n",
       "      <td>0.0</td>\n",
       "      <td>0.0</td>\n",
       "      <td>0.0</td>\n",
       "      <td>0.0</td>\n",
       "      <td>0.0</td>\n",
       "      <td>...</td>\n",
       "      <td>0.0</td>\n",
       "      <td>0.0</td>\n",
       "      <td>0.0</td>\n",
       "      <td>0.0</td>\n",
       "      <td>0.0</td>\n",
       "      <td>0.0</td>\n",
       "      <td>0.0</td>\n",
       "      <td>0.0</td>\n",
       "      <td>0.0</td>\n",
       "      <td>0.0</td>\n",
       "    </tr>\n",
       "    <tr>\n",
       "      <th>4</th>\n",
       "      <td>36</td>\n",
       "      <td>1</td>\n",
       "      <td>0</td>\n",
       "      <td>0</td>\n",
       "      <td>4</td>\n",
       "      <td>0.0</td>\n",
       "      <td>0.0</td>\n",
       "      <td>0.0</td>\n",
       "      <td>0.0</td>\n",
       "      <td>0.0</td>\n",
       "      <td>...</td>\n",
       "      <td>0.0</td>\n",
       "      <td>0.0</td>\n",
       "      <td>0.0</td>\n",
       "      <td>0.0</td>\n",
       "      <td>0.0</td>\n",
       "      <td>0.0</td>\n",
       "      <td>0.0</td>\n",
       "      <td>0.0</td>\n",
       "      <td>0.0</td>\n",
       "      <td>0.0</td>\n",
       "    </tr>\n",
       "    <tr>\n",
       "      <th>...</th>\n",
       "      <td>...</td>\n",
       "      <td>...</td>\n",
       "      <td>...</td>\n",
       "      <td>...</td>\n",
       "      <td>...</td>\n",
       "      <td>...</td>\n",
       "      <td>...</td>\n",
       "      <td>...</td>\n",
       "      <td>...</td>\n",
       "      <td>...</td>\n",
       "      <td>...</td>\n",
       "      <td>...</td>\n",
       "      <td>...</td>\n",
       "      <td>...</td>\n",
       "      <td>...</td>\n",
       "      <td>...</td>\n",
       "      <td>...</td>\n",
       "      <td>...</td>\n",
       "      <td>...</td>\n",
       "      <td>...</td>\n",
       "      <td>...</td>\n",
       "    </tr>\n",
       "    <tr>\n",
       "      <th>3244027</th>\n",
       "      <td>38</td>\n",
       "      <td>6</td>\n",
       "      <td>43</td>\n",
       "      <td>63</td>\n",
       "      <td>59</td>\n",
       "      <td>0.0</td>\n",
       "      <td>0.0</td>\n",
       "      <td>0.0</td>\n",
       "      <td>0.0</td>\n",
       "      <td>0.0</td>\n",
       "      <td>...</td>\n",
       "      <td>0.0</td>\n",
       "      <td>0.0</td>\n",
       "      <td>0.0</td>\n",
       "      <td>0.0</td>\n",
       "      <td>0.0</td>\n",
       "      <td>0.0</td>\n",
       "      <td>0.0</td>\n",
       "      <td>0.0</td>\n",
       "      <td>0.0</td>\n",
       "      <td>0.0</td>\n",
       "    </tr>\n",
       "    <tr>\n",
       "      <th>3244028</th>\n",
       "      <td>38</td>\n",
       "      <td>6</td>\n",
       "      <td>43</td>\n",
       "      <td>63</td>\n",
       "      <td>60</td>\n",
       "      <td>0.0</td>\n",
       "      <td>0.0</td>\n",
       "      <td>0.0</td>\n",
       "      <td>0.0</td>\n",
       "      <td>0.0</td>\n",
       "      <td>...</td>\n",
       "      <td>0.0</td>\n",
       "      <td>0.0</td>\n",
       "      <td>0.0</td>\n",
       "      <td>0.0</td>\n",
       "      <td>0.0</td>\n",
       "      <td>0.0</td>\n",
       "      <td>0.0</td>\n",
       "      <td>0.0</td>\n",
       "      <td>0.0</td>\n",
       "      <td>0.0</td>\n",
       "    </tr>\n",
       "    <tr>\n",
       "      <th>3244029</th>\n",
       "      <td>38</td>\n",
       "      <td>6</td>\n",
       "      <td>43</td>\n",
       "      <td>63</td>\n",
       "      <td>61</td>\n",
       "      <td>0.0</td>\n",
       "      <td>0.0</td>\n",
       "      <td>0.0</td>\n",
       "      <td>0.0</td>\n",
       "      <td>0.0</td>\n",
       "      <td>...</td>\n",
       "      <td>0.0</td>\n",
       "      <td>0.0</td>\n",
       "      <td>0.0</td>\n",
       "      <td>0.0</td>\n",
       "      <td>0.0</td>\n",
       "      <td>0.0</td>\n",
       "      <td>0.0</td>\n",
       "      <td>0.0</td>\n",
       "      <td>0.0</td>\n",
       "      <td>0.0</td>\n",
       "    </tr>\n",
       "    <tr>\n",
       "      <th>3244030</th>\n",
       "      <td>38</td>\n",
       "      <td>6</td>\n",
       "      <td>43</td>\n",
       "      <td>63</td>\n",
       "      <td>62</td>\n",
       "      <td>0.0</td>\n",
       "      <td>0.0</td>\n",
       "      <td>0.0</td>\n",
       "      <td>0.0</td>\n",
       "      <td>0.0</td>\n",
       "      <td>...</td>\n",
       "      <td>0.0</td>\n",
       "      <td>0.0</td>\n",
       "      <td>0.0</td>\n",
       "      <td>0.0</td>\n",
       "      <td>0.0</td>\n",
       "      <td>0.0</td>\n",
       "      <td>0.0</td>\n",
       "      <td>0.0</td>\n",
       "      <td>0.0</td>\n",
       "      <td>0.0</td>\n",
       "    </tr>\n",
       "    <tr>\n",
       "      <th>3244031</th>\n",
       "      <td>38</td>\n",
       "      <td>6</td>\n",
       "      <td>43</td>\n",
       "      <td>63</td>\n",
       "      <td>63</td>\n",
       "      <td>0.0</td>\n",
       "      <td>0.0</td>\n",
       "      <td>0.0</td>\n",
       "      <td>0.0</td>\n",
       "      <td>0.0</td>\n",
       "      <td>...</td>\n",
       "      <td>0.0</td>\n",
       "      <td>0.0</td>\n",
       "      <td>0.0</td>\n",
       "      <td>0.0</td>\n",
       "      <td>0.0</td>\n",
       "      <td>0.0</td>\n",
       "      <td>0.0</td>\n",
       "      <td>0.0</td>\n",
       "      <td>0.0</td>\n",
       "      <td>0.0</td>\n",
       "    </tr>\n",
       "  </tbody>\n",
       "</table>\n",
       "<p>3244032 rows × 61 columns</p>\n",
       "</div>"
      ],
      "text/plain": [
       "         exp  mini_exp   i   j   k  4_2m1  4_3m2  4_4m3  4_5m4  4_6m5  ...  \\\n",
       "0         36         1   0   0   0    0.0    0.0    0.0    0.0    0.0  ...   \n",
       "1         36         1   0   0   1    0.0    0.0    0.0    0.0    0.0  ...   \n",
       "2         36         1   0   0   2    0.0    0.0    0.0    0.0    0.0  ...   \n",
       "3         36         1   0   0   3    0.0    0.0    0.0    0.0    0.0  ...   \n",
       "4         36         1   0   0   4    0.0    0.0    0.0    0.0    0.0  ...   \n",
       "...      ...       ...  ..  ..  ..    ...    ...    ...    ...    ...  ...   \n",
       "3244027   38         6  43  63  59    0.0    0.0    0.0    0.0    0.0  ...   \n",
       "3244028   38         6  43  63  60    0.0    0.0    0.0    0.0    0.0  ...   \n",
       "3244029   38         6  43  63  61    0.0    0.0    0.0    0.0    0.0  ...   \n",
       "3244030   38         6  43  63  62    0.0    0.0    0.0    0.0    0.0  ...   \n",
       "3244031   38         6  43  63  63    0.0    0.0    0.0    0.0    0.0  ...   \n",
       "\n",
       "         12_4m3  12_5m4  12_6m5  12_7m6  12_8m7  12_9m8  12_10m9  12_11m10  \\\n",
       "0           0.0     0.0     0.0     0.0     0.0     0.0      0.0       0.0   \n",
       "1           0.0     0.0     0.0     0.0     0.0     0.0      0.0       0.0   \n",
       "2           0.0     0.0     0.0     0.0     0.0     0.0      0.0       0.0   \n",
       "3           0.0     0.0     0.0     0.0     0.0     0.0      0.0       0.0   \n",
       "4           0.0     0.0     0.0     0.0     0.0     0.0      0.0       0.0   \n",
       "...         ...     ...     ...     ...     ...     ...      ...       ...   \n",
       "3244027     0.0     0.0     0.0     0.0     0.0     0.0      0.0       0.0   \n",
       "3244028     0.0     0.0     0.0     0.0     0.0     0.0      0.0       0.0   \n",
       "3244029     0.0     0.0     0.0     0.0     0.0     0.0      0.0       0.0   \n",
       "3244030     0.0     0.0     0.0     0.0     0.0     0.0      0.0       0.0   \n",
       "3244031     0.0     0.0     0.0     0.0     0.0     0.0      0.0       0.0   \n",
       "\n",
       "         12_12m11  theory  \n",
       "0             0.0     0.0  \n",
       "1             0.0     0.0  \n",
       "2             0.0     0.0  \n",
       "3             0.0     0.0  \n",
       "4             0.0     0.0  \n",
       "...           ...     ...  \n",
       "3244027       0.0     0.0  \n",
       "3244028       0.0     0.0  \n",
       "3244029       0.0     0.0  \n",
       "3244030       0.0     0.0  \n",
       "3244031       0.0     0.0  \n",
       "\n",
       "[3244032 rows x 61 columns]"
      ]
     },
     "execution_count": 16,
     "metadata": {},
     "output_type": "execute_result"
    }
   ],
   "source": [
    "df_55 = pd.DataFrame(data, columns=columns)\n",
    "df_55 = df_55.astype({\"exp\": int, \"i\": int, \"j\": int, \"k\": int, \"mini_exp\": int})\n",
    "df_55"
   ]
  },
  {
   "cell_type": "code",
   "execution_count": 17,
   "metadata": {},
   "outputs": [
    {
     "name": "stdout",
     "output_type": "stream",
     "text": [
      "<class 'pandas.core.frame.DataFrame'>\n",
      "RangeIndex: 3244032 entries, 0 to 3244031\n",
      "Data columns (total 61 columns):\n",
      " #   Column    Dtype  \n",
      "---  ------    -----  \n",
      " 0   exp       int64  \n",
      " 1   mini_exp  int64  \n",
      " 2   i         int64  \n",
      " 3   j         int64  \n",
      " 4   k         int64  \n",
      " 5   4_2m1     float64\n",
      " 6   4_3m2     float64\n",
      " 7   4_4m3     float64\n",
      " 8   4_5m4     float64\n",
      " 9   4_6m5     float64\n",
      " 10  4_7m6     float64\n",
      " 11  4_8m7     float64\n",
      " 12  4_9m8     float64\n",
      " 13  4_10m9    float64\n",
      " 14  4_11m10   float64\n",
      " 15  4_12m11   float64\n",
      " 16  6_2m1     float64\n",
      " 17  6_3m2     float64\n",
      " 18  6_4m3     float64\n",
      " 19  6_5m4     float64\n",
      " 20  6_6m5     float64\n",
      " 21  6_7m6     float64\n",
      " 22  6_8m7     float64\n",
      " 23  6_9m8     float64\n",
      " 24  6_10m9    float64\n",
      " 25  6_11m10   float64\n",
      " 26  6_12m11   float64\n",
      " 27  8_2m1     float64\n",
      " 28  8_3m2     float64\n",
      " 29  8_4m3     float64\n",
      " 30  8_5m4     float64\n",
      " 31  8_6m5     float64\n",
      " 32  8_7m6     float64\n",
      " 33  8_8m7     float64\n",
      " 34  8_9m8     float64\n",
      " 35  8_10m9    float64\n",
      " 36  8_11m10   float64\n",
      " 37  8_12m11   float64\n",
      " 38  10_2m1    float64\n",
      " 39  10_3m2    float64\n",
      " 40  10_4m3    float64\n",
      " 41  10_5m4    float64\n",
      " 42  10_6m5    float64\n",
      " 43  10_7m6    float64\n",
      " 44  10_8m7    float64\n",
      " 45  10_9m8    float64\n",
      " 46  10_10m9   float64\n",
      " 47  10_11m10  float64\n",
      " 48  10_12m11  float64\n",
      " 49  12_2m1    float64\n",
      " 50  12_3m2    float64\n",
      " 51  12_4m3    float64\n",
      " 52  12_5m4    float64\n",
      " 53  12_6m5    float64\n",
      " 54  12_7m6    float64\n",
      " 55  12_8m7    float64\n",
      " 56  12_9m8    float64\n",
      " 57  12_10m9   float64\n",
      " 58  12_11m10  float64\n",
      " 59  12_12m11  float64\n",
      " 60  theory    float64\n",
      "dtypes: float64(56), int64(5)\n",
      "memory usage: 1.5 GB\n"
     ]
    }
   ],
   "source": [
    "df_55.info()"
   ]
  },
  {
   "cell_type": "markdown",
   "metadata": {},
   "source": [
    "## Only +ON and -ON"
   ]
  },
  {
   "cell_type": "code",
   "execution_count": 18,
   "metadata": {},
   "outputs": [],
   "source": [
    "file_name = save_path+\"fmap_on.txt\"\n",
    "columns =['exp', 'mini_exp', 'run', 'i', 'j', 'k', 'off', 'on', 'theory']\n",
    "data = np.loadtxt(file_name);"
   ]
  },
  {
   "cell_type": "code",
   "execution_count": 19,
   "metadata": {},
   "outputs": [
    {
     "data": {
      "text/html": [
       "<div>\n",
       "<style scoped>\n",
       "    .dataframe tbody tr th:only-of-type {\n",
       "        vertical-align: middle;\n",
       "    }\n",
       "\n",
       "    .dataframe tbody tr th {\n",
       "        vertical-align: top;\n",
       "    }\n",
       "\n",
       "    .dataframe thead th {\n",
       "        text-align: right;\n",
       "    }\n",
       "</style>\n",
       "<table border=\"1\" class=\"dataframe\">\n",
       "  <thead>\n",
       "    <tr style=\"text-align: right;\">\n",
       "      <th></th>\n",
       "      <th>exp</th>\n",
       "      <th>mini_exp</th>\n",
       "      <th>run</th>\n",
       "      <th>i</th>\n",
       "      <th>j</th>\n",
       "      <th>k</th>\n",
       "      <th>off</th>\n",
       "      <th>on</th>\n",
       "      <th>theory</th>\n",
       "    </tr>\n",
       "  </thead>\n",
       "  <tbody>\n",
       "    <tr>\n",
       "      <th>0</th>\n",
       "      <td>36</td>\n",
       "      <td>1</td>\n",
       "      <td>1</td>\n",
       "      <td>0</td>\n",
       "      <td>0</td>\n",
       "      <td>0</td>\n",
       "      <td>0.0</td>\n",
       "      <td>0.0</td>\n",
       "      <td>0.0</td>\n",
       "    </tr>\n",
       "    <tr>\n",
       "      <th>1</th>\n",
       "      <td>36</td>\n",
       "      <td>1</td>\n",
       "      <td>1</td>\n",
       "      <td>0</td>\n",
       "      <td>0</td>\n",
       "      <td>1</td>\n",
       "      <td>0.0</td>\n",
       "      <td>0.0</td>\n",
       "      <td>0.0</td>\n",
       "    </tr>\n",
       "    <tr>\n",
       "      <th>2</th>\n",
       "      <td>36</td>\n",
       "      <td>1</td>\n",
       "      <td>1</td>\n",
       "      <td>0</td>\n",
       "      <td>0</td>\n",
       "      <td>2</td>\n",
       "      <td>0.0</td>\n",
       "      <td>0.0</td>\n",
       "      <td>0.0</td>\n",
       "    </tr>\n",
       "    <tr>\n",
       "      <th>3</th>\n",
       "      <td>36</td>\n",
       "      <td>1</td>\n",
       "      <td>1</td>\n",
       "      <td>0</td>\n",
       "      <td>0</td>\n",
       "      <td>3</td>\n",
       "      <td>0.0</td>\n",
       "      <td>0.0</td>\n",
       "      <td>0.0</td>\n",
       "    </tr>\n",
       "    <tr>\n",
       "      <th>4</th>\n",
       "      <td>36</td>\n",
       "      <td>1</td>\n",
       "      <td>1</td>\n",
       "      <td>0</td>\n",
       "      <td>0</td>\n",
       "      <td>4</td>\n",
       "      <td>0.0</td>\n",
       "      <td>0.0</td>\n",
       "      <td>0.0</td>\n",
       "    </tr>\n",
       "    <tr>\n",
       "      <th>...</th>\n",
       "      <td>...</td>\n",
       "      <td>...</td>\n",
       "      <td>...</td>\n",
       "      <td>...</td>\n",
       "      <td>...</td>\n",
       "      <td>...</td>\n",
       "      <td>...</td>\n",
       "      <td>...</td>\n",
       "      <td>...</td>\n",
       "    </tr>\n",
       "    <tr>\n",
       "      <th>6488059</th>\n",
       "      <td>38</td>\n",
       "      <td>6</td>\n",
       "      <td>-1</td>\n",
       "      <td>43</td>\n",
       "      <td>63</td>\n",
       "      <td>59</td>\n",
       "      <td>0.0</td>\n",
       "      <td>0.0</td>\n",
       "      <td>0.0</td>\n",
       "    </tr>\n",
       "    <tr>\n",
       "      <th>6488060</th>\n",
       "      <td>38</td>\n",
       "      <td>6</td>\n",
       "      <td>-1</td>\n",
       "      <td>43</td>\n",
       "      <td>63</td>\n",
       "      <td>60</td>\n",
       "      <td>0.0</td>\n",
       "      <td>0.0</td>\n",
       "      <td>0.0</td>\n",
       "    </tr>\n",
       "    <tr>\n",
       "      <th>6488061</th>\n",
       "      <td>38</td>\n",
       "      <td>6</td>\n",
       "      <td>-1</td>\n",
       "      <td>43</td>\n",
       "      <td>63</td>\n",
       "      <td>61</td>\n",
       "      <td>0.0</td>\n",
       "      <td>0.0</td>\n",
       "      <td>0.0</td>\n",
       "    </tr>\n",
       "    <tr>\n",
       "      <th>6488062</th>\n",
       "      <td>38</td>\n",
       "      <td>6</td>\n",
       "      <td>-1</td>\n",
       "      <td>43</td>\n",
       "      <td>63</td>\n",
       "      <td>62</td>\n",
       "      <td>0.0</td>\n",
       "      <td>0.0</td>\n",
       "      <td>0.0</td>\n",
       "    </tr>\n",
       "    <tr>\n",
       "      <th>6488063</th>\n",
       "      <td>38</td>\n",
       "      <td>6</td>\n",
       "      <td>-1</td>\n",
       "      <td>43</td>\n",
       "      <td>63</td>\n",
       "      <td>63</td>\n",
       "      <td>0.0</td>\n",
       "      <td>0.0</td>\n",
       "      <td>0.0</td>\n",
       "    </tr>\n",
       "  </tbody>\n",
       "</table>\n",
       "<p>6488064 rows × 9 columns</p>\n",
       "</div>"
      ],
      "text/plain": [
       "         exp  mini_exp  run   i   j   k  off   on  theory\n",
       "0         36         1    1   0   0   0  0.0  0.0     0.0\n",
       "1         36         1    1   0   0   1  0.0  0.0     0.0\n",
       "2         36         1    1   0   0   2  0.0  0.0     0.0\n",
       "3         36         1    1   0   0   3  0.0  0.0     0.0\n",
       "4         36         1    1   0   0   4  0.0  0.0     0.0\n",
       "...      ...       ...  ...  ..  ..  ..  ...  ...     ...\n",
       "6488059   38         6   -1  43  63  59  0.0  0.0     0.0\n",
       "6488060   38         6   -1  43  63  60  0.0  0.0     0.0\n",
       "6488061   38         6   -1  43  63  61  0.0  0.0     0.0\n",
       "6488062   38         6   -1  43  63  62  0.0  0.0     0.0\n",
       "6488063   38         6   -1  43  63  63  0.0  0.0     0.0\n",
       "\n",
       "[6488064 rows x 9 columns]"
      ]
     },
     "execution_count": 19,
     "metadata": {},
     "output_type": "execute_result"
    }
   ],
   "source": [
    "df_on = pd.DataFrame(data, columns=columns)\n",
    "df_on = df_on.astype({\"exp\": int, \"i\": int, \"j\": int, \"k\": int, \"mini_exp\": int, \"run\":int})\n",
    "df_on"
   ]
  },
  {
   "cell_type": "code",
   "execution_count": 20,
   "metadata": {},
   "outputs": [
    {
     "name": "stdout",
     "output_type": "stream",
     "text": [
      "<class 'pandas.core.frame.DataFrame'>\n",
      "RangeIndex: 6488064 entries, 0 to 6488063\n",
      "Data columns (total 9 columns):\n",
      " #   Column    Dtype  \n",
      "---  ------    -----  \n",
      " 0   exp       int64  \n",
      " 1   mini_exp  int64  \n",
      " 2   run       int64  \n",
      " 3   i         int64  \n",
      " 4   j         int64  \n",
      " 5   k         int64  \n",
      " 6   off       float64\n",
      " 7   on        float64\n",
      " 8   theory    float64\n",
      "dtypes: float64(3), int64(6)\n",
      "memory usage: 445.5 MB\n"
     ]
    }
   ],
   "source": [
    "df_on.info()"
   ]
  },
  {
   "cell_type": "markdown",
   "metadata": {},
   "source": [
    "# Split data"
   ]
  },
  {
   "cell_type": "markdown",
   "metadata": {},
   "source": [
    "## Data 1. fmap mean all experiments"
   ]
  },
  {
   "cell_type": "code",
   "execution_count": 10,
   "metadata": {},
   "outputs": [],
   "source": [
    "X = df.iloc[:, 2:-1].values  # include i,j,k\n",
    "y = df['theory'].values\n",
    "\n",
    "X1_train, X1_test, y1_train, y1_test = train_test_split(\n",
    "    X, y, test_size=0.3, random_state=0)"
   ]
  },
  {
   "cell_type": "code",
   "execution_count": 12,
   "metadata": {},
   "outputs": [
    {
     "name": "stdout",
     "output_type": "stream",
     "text": [
      "(3244032, 8)\n",
      "(3244032,)\n",
      "(2270822, 8)\n",
      "(2270822,)\n",
      "(973210, 8)\n",
      "(973210,)\n"
     ]
    }
   ],
   "source": [
    "print(X.shape)\n",
    "print(y.shape)\n",
    "print(X1_train.shape)\n",
    "print(y1_train.shape)\n",
    "print(X1_test.shape)\n",
    "print(y1_test.shape)"
   ]
  },
  {
   "cell_type": "markdown",
   "metadata": {},
   "source": [
    "## Data3: One experiment"
   ]
  },
  {
   "cell_type": "code",
   "execution_count": 9,
   "metadata": {},
   "outputs": [],
   "source": [
    "df_train = df[(df['exp']==38) & (df['mini_exp']!=6)]\n",
    "df_test = df[(df['exp']==38) & (df['mini_exp']==6)]"
   ]
  },
  {
   "cell_type": "code",
   "execution_count": 21,
   "metadata": {},
   "outputs": [],
   "source": [
    "df_train = df[(df['exp']==38) & (df['mini_exp']!=6)]\n",
    "df_test = df[(df['exp']==38) & (df['mini_exp']==6)]"
   ]
  },
  {
   "cell_type": "code",
   "execution_count": 22,
   "metadata": {},
   "outputs": [],
   "source": [
    "X3_train = df_train.iloc[:, 2:-1].values\n",
    "y3_train = df_train['theory'].values\n",
    "\n",
    "X3_test = df_test.iloc[:, 2:-1].values\n",
    "y3_test = df_test['theory'].values"
   ]
  },
  {
   "cell_type": "code",
   "execution_count": 23,
   "metadata": {},
   "outputs": [
    {
     "name": "stdout",
     "output_type": "stream",
     "text": [
      "(901120, 8)\n",
      "(901120,)\n",
      "(180224, 8)\n",
      "(180224,)\n"
     ]
    }
   ],
   "source": [
    "print(X3_train.shape)\n",
    "print(y3_train.shape)\n",
    "print(X3_test.shape)\n",
    "print(y3_test.shape)"
   ]
  },
  {
   "cell_type": "markdown",
   "metadata": {},
   "source": [
    "## Data5: 55 fmap means"
   ]
  },
  {
   "cell_type": "code",
   "execution_count": 25,
   "metadata": {},
   "outputs": [],
   "source": [
    "arr = [4, 6, 8, 10, 12]\n",
    "col = []\n",
    "for i in range(len(arr)):\n",
    "    for j in range(1, 12):\n",
    "        name = str(arr[i])+'_'+str(j+1)+'m'+str(j)\n",
    "        col.append(name)"
   ]
  },
  {
   "cell_type": "code",
   "execution_count": 27,
   "metadata": {},
   "outputs": [],
   "source": [
    "X = df_55.iloc[:, 2:-1].values  # include i,j,k\n",
    "y = df_55['theory'].values\n",
    "\n",
    "X5_train, X5_test, y5_train, y5_test = train_test_split(\n",
    "    X, y, test_size=0.3, random_state=0)"
   ]
  },
  {
   "cell_type": "code",
   "execution_count": 28,
   "metadata": {},
   "outputs": [
    {
     "name": "stdout",
     "output_type": "stream",
     "text": [
      "(3244032, 58)\n",
      "(3244032,)\n",
      "(2270822, 58)\n",
      "(2270822,)\n",
      "(973210, 58)\n",
      "(973210,)\n"
     ]
    }
   ],
   "source": [
    "print(X.shape)\n",
    "print(y.shape)\n",
    "print(X5_train.shape)\n",
    "print(y5_train.shape)\n",
    "print(X5_test.shape)\n",
    "print(y5_test.shape)"
   ]
  },
  {
   "cell_type": "markdown",
   "metadata": {},
   "source": [
    "## Data6: Only +ON and -ON"
   ]
  },
  {
   "cell_type": "code",
   "execution_count": 29,
   "metadata": {},
   "outputs": [],
   "source": [
    "X = df_on.iloc[:, 2:-1].values  # include i,j,k\n",
    "y = df_on['theory'].values\n",
    "\n",
    "X6_train, X6_test, y6_train, y6_test = train_test_split(\n",
    "    X, y, test_size=0.3, random_state=0)"
   ]
  },
  {
   "cell_type": "code",
   "execution_count": 30,
   "metadata": {},
   "outputs": [
    {
     "name": "stdout",
     "output_type": "stream",
     "text": [
      "(6488064, 6)\n",
      "(6488064,)\n",
      "(4541644, 6)\n",
      "(4541644,)\n",
      "(1946420, 6)\n",
      "(1946420,)\n"
     ]
    }
   ],
   "source": [
    "print(X.shape)\n",
    "print(y.shape)\n",
    "print(X6_train.shape)\n",
    "print(y6_train.shape)\n",
    "print(X6_test.shape)\n",
    "print(y6_test.shape)"
   ]
  },
  {
   "cell_type": "markdown",
   "metadata": {},
   "source": [
    "# Convolutional Neural Network"
   ]
  },
  {
   "cell_type": "markdown",
   "metadata": {},
   "source": [
    "## Data2: One experiments"
   ]
  },
  {
   "cell_type": "code",
   "execution_count": 148,
   "metadata": {},
   "outputs": [],
   "source": [
    "# 1D Conv\n",
    "input_shape = [len(X_train2[0]), 1]\n",
    " \n",
    "model3 = keras.Sequential()\n",
    "model3.add(layers.Conv1D(32, 3, activation =\"relu\", input_shape=input_shape))\n",
    "model3.add(layers.MaxPooling1D(2))\n",
    "model3.add(layers.Conv1D(64, 3, activation =\"relu\"))\n",
    "model3.add(layers.MaxPooling1D(1))\n",
    "model3.add(layers.Flatten())\n",
    "model3.add(layers.Dense(64, activation =\"relu\"))\n",
    "model3.add(layers.Dense(1, activation =\"softmax\"))\n",
    "#\n",
    "model3.compile(optimizer= 'adam', loss='mse', metrics=['accuracy'])\n",
    "history3 = model3.fit(X_train2, y_train2, epochs=20, verbose=0, validation_data=[X_test2, y_test2], callbacks =[myCallbacks])\n"
   ]
  },
  {
   "cell_type": "code",
   "execution_count": 149,
   "metadata": {},
   "outputs": [
    {
     "name": "stdout",
     "output_type": "stream",
     "text": [
      "28160/28160 [==============================] - 23s 821us/step\n",
      "101.07454554252826\n",
      "5632/5632 [==============================] - 4s 750us/step\n",
      "101.32703448493652\n"
     ]
    }
   ],
   "source": [
    "train_pred3 = model3.predict(X_train2)\n",
    "print(mse(train_pred3, y_train2))\n",
    "test_pred3 = model3.predict(X_test2)\n",
    "print(mse(test_pred3, y_test2))"
   ]
  },
  {
   "cell_type": "code",
   "execution_count": 150,
   "metadata": {},
   "outputs": [
    {
     "name": "stdout",
     "output_type": "stream",
     "text": [
      "5632/5632 [==============================] - 5s 892us/step - loss: 101.3271 - accuracy: 5.5487e-06\n"
     ]
    },
    {
     "data": {
      "text/plain": [
       "[101.3271484375, 5.548650733544491e-06]"
      ]
     },
     "execution_count": 150,
     "metadata": {},
     "output_type": "execute_result"
    }
   ],
   "source": [
    "model3.evaluate(X_test2, y_test2)"
   ]
  },
  {
   "cell_type": "code",
   "execution_count": 151,
   "metadata": {},
   "outputs": [
    {
     "name": "stdout",
     "output_type": "stream",
     "text": [
      "Model: \"sequential_22\"\n",
      "_________________________________________________________________\n",
      " Layer (type)                Output Shape              Param #   \n",
      "=================================================================\n",
      " conv1d_9 (Conv1D)           (None, 6, 32)             128       \n",
      "                                                                 \n",
      " max_pooling1d_8 (MaxPooling  (None, 3, 32)            0         \n",
      " 1D)                                                             \n",
      "                                                                 \n",
      " conv1d_10 (Conv1D)          (None, 1, 64)             6208      \n",
      "                                                                 \n",
      " max_pooling1d_9 (MaxPooling  (None, 1, 64)            0         \n",
      " 1D)                                                             \n",
      "                                                                 \n",
      " flatten_3 (Flatten)         (None, 64)                0         \n",
      "                                                                 \n",
      " dense_36 (Dense)            (None, 64)                4160      \n",
      "                                                                 \n",
      " dense_37 (Dense)            (None, 1)                 65        \n",
      "                                                                 \n",
      "=================================================================\n",
      "Total params: 10,561\n",
      "Trainable params: 10,561\n",
      "Non-trainable params: 0\n",
      "_________________________________________________________________\n"
     ]
    }
   ],
   "source": [
    "model3.summary()"
   ]
  },
  {
   "cell_type": "code",
   "execution_count": 152,
   "metadata": {},
   "outputs": [
    {
     "data": {
      "text/plain": [
       "{'loss': [101.0746078491211,\n",
       "  101.07494354248047,\n",
       "  101.07463836669922,\n",
       "  101.07423400878906,\n",
       "  101.0742416381836,\n",
       "  101.0743408203125],\n",
       " 'accuracy': [5.548650733544491e-06,\n",
       "  5.548650733544491e-06,\n",
       "  5.548650733544491e-06,\n",
       "  5.548650733544491e-06,\n",
       "  5.548650733544491e-06,\n",
       "  5.548650733544491e-06],\n",
       " 'val_loss': [101.3271484375,\n",
       "  101.3271484375,\n",
       "  101.3271484375,\n",
       "  101.3271484375,\n",
       "  101.3271484375,\n",
       "  101.3271484375],\n",
       " 'val_accuracy': [5.548650733544491e-06,\n",
       "  5.548650733544491e-06,\n",
       "  5.548650733544491e-06,\n",
       "  5.548650733544491e-06,\n",
       "  5.548650733544491e-06,\n",
       "  5.548650733544491e-06]}"
      ]
     },
     "execution_count": 152,
     "metadata": {},
     "output_type": "execute_result"
    }
   ],
   "source": [
    "history3.history"
   ]
  },
  {
   "cell_type": "markdown",
   "metadata": {},
   "source": [
    "## Plot"
   ]
  },
  {
   "cell_type": "markdown",
   "metadata": {},
   "source": [
    "### Loss function (MSE)"
   ]
  },
  {
   "cell_type": "code",
   "execution_count": 153,
   "metadata": {
    "scrolled": false
   },
   "outputs": [
    {
     "data": {
      "image/png": "[encoded data removed]",
      "text/plain": [
       "<Figure size 640x480 with 1 Axes>"
      ]
     },
     "metadata": {},
     "output_type": "display_data"
    }
   ],
   "source": [
    "model_df = pd.DataFrame(history3.history)\n",
    "model_df[['loss', 'val_loss']].plot()\n",
    "plt.xlabel(\"Number of Epochs\")\n",
    "plt.ylabel(\"Loss\")\n",
    "plt.title(\"Training and Validation Loss Over Training Period\", pad=12);"
   ]
  },
  {
   "cell_type": "markdown",
   "metadata": {},
   "source": [
    "### Accuracy"
   ]
  },
  {
   "cell_type": "code",
   "execution_count": 154,
   "metadata": {},
   "outputs": [
    {
     "data": {
      "image/png": "[encoded data removed]",
      "text/plain": [
       "<Figure size 640x480 with 1 Axes>"
      ]
     },
     "metadata": {},
     "output_type": "display_data"
    }
   ],
   "source": [
    "model_df[['accuracy', 'val_accuracy']].plot()\n",
    "plt.xlabel(\"Number of Epochs\")\n",
    "plt.ylabel(\"Accuracy\")\n",
    "plt.title(\"Training and Validation Accuray Over Training Period\", pad=12);"
   ]
  },
  {
   "cell_type": "code",
   "execution_count": 118,
   "metadata": {},
   "outputs": [
    {
     "data": {
      "text/plain": [
       "array([[ 0.6982533 ],\n",
       "       [ 0.6657635 ],\n",
       "       [ 0.6234076 ],\n",
       "       ...,\n",
       "       [-0.80281734],\n",
       "       [-0.81414175],\n",
       "       [-0.82546663]], dtype=float32)"
      ]
     },
     "execution_count": 118,
     "metadata": {},
     "output_type": "execute_result"
    }
   ],
   "source": [
    "test_pred3"
   ]
  },
  {
   "cell_type": "code",
   "execution_count": null,
   "metadata": {},
   "outputs": [],
   "source": []
  },
  {
   "cell_type": "markdown",
   "metadata": {},
   "source": [
    "# Output image data"
   ]
  },
  {
   "cell_type": "code",
   "execution_count": 115,
   "metadata": {},
   "outputs": [
    {
     "name": "stderr",
     "output_type": "stream",
     "text": [
      "/var/folders/yd/vkjb_lqj2_30lnyhzhjqtg9w0000gp/T/ipykernel_3032/2079570890.py:1: SettingWithCopyWarning: \n",
      "A value is trying to be set on a copy of a slice from a DataFrame.\n",
      "Try using .loc[row_indexer,col_indexer] = value instead\n",
      "\n",
      "See the caveats in the documentation: https://pandas.pydata.org/pandas-docs/stable/user_guide/indexing.html#returning-a-view-versus-a-copy\n",
      "  df_test['predict'] = test_pred\n",
      "/var/folders/yd/vkjb_lqj2_30lnyhzhjqtg9w0000gp/T/ipykernel_3032/2079570890.py:2: SettingWithCopyWarning: \n",
      "A value is trying to be set on a copy of a slice from a DataFrame.\n",
      "Try using .loc[row_indexer,col_indexer] = value instead\n",
      "\n",
      "See the caveats in the documentation: https://pandas.pydata.org/pandas-docs/stable/user_guide/indexing.html#returning-a-view-versus-a-copy\n",
      "  df_test['predict2'] = test_pred2\n"
     ]
    }
   ],
   "source": [
    "df_test['predict'] = test_pred\n",
    "df_test['predict2'] = test_pred2\n",
    "df_test['predict3'] = test_pred3"
   ]
  },
  {
   "cell_type": "code",
   "execution_count": 116,
   "metadata": {},
   "outputs": [],
   "source": [
    "np.savetxt(save_path+\"nn.txt\", df_test[['i', 'j', 'k', 'predict']], fmt=\"%i %i %i %s\")"
   ]
  },
  {
   "cell_type": "code",
   "execution_count": 117,
   "metadata": {},
   "outputs": [],
   "source": [
    "np.savetxt(save_path+\"nn2.txt\", df_test[['i', 'j', 'k', 'predict2']], fmt=\"%i %i %i %s\")"
   ]
  },
  {
   "cell_type": "code",
   "execution_count": null,
   "metadata": {},
   "outputs": [],
   "source": [
    "np.savetxt(save_path+\"nn3.txt\", df_test[['i', 'j', 'k', 'predict3']], fmt=\"%i %i %i %s\")"
   ]
  },
  {
   "cell_type": "code",
   "execution_count": null,
   "metadata": {},
   "outputs": [],
   "source": []
  }
 ],
 "metadata": {
  "kernelspec": {
   "display_name": "Python 3 (ipykernel)",
   "language": "python",
   "name": "python3"
  },
  "language_info": {
   "codemirror_mode": {
    "name": "ipython",
    "version": 3
   },
   "file_extension": ".py",
   "mimetype": "text/x-python",
   "name": "python",
   "nbconvert_exporter": "python",
   "pygments_lexer": "ipython3",
   "version": "3.10.6"
  }
 },
 "nbformat": 4,
 "nbformat_minor": 2
}
